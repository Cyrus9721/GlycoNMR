{
 "cells": [
  {
   "cell_type": "code",
   "execution_count": 1,
   "id": "b36c2511",
   "metadata": {},
   "outputs": [],
   "source": [
    "import numpy as np\n",
    "import pandas as pd\n",
    "import os\n",
    "from tqdm import tqdm\n",
    "import torch\n",
    "import torch.nn as nn\n",
    "\n",
    "import torch.nn.functional as F\n",
    "import dgl\n",
    "import dgl.nn as dglnn\n",
    "import torch.nn as nn\n",
    "from dgl import AddSelfLoop\n",
    "\n",
    "from model_2d.NMR_gcn import NMR_GCN\n",
    "\n",
    "from train_evaluate_2d import NMR_prediction\n",
    "\n",
    "from preprocess.create_node_embedding.node_embeddings_glycoscience import create_node_embeddings\n",
    "\n",
    "from preprocess.build_adjaency_matrix.create_adjaency_matrix_glycoscience import build_adjacency_matrix\n",
    "\n",
    "from preprocess.create_graph.create_graph_data_glycosciencedb import create_graph\n",
    "\n",
    "# from dgl import save_graphs, load_graphs\n",
    "# from tqdm import tqdm\n",
    "from dgl import save_graphs, load_graphs"
   ]
  },
  {
   "cell_type": "markdown",
   "id": "35773464",
   "metadata": {},
   "source": [
    "##### A Baseline model for Glycosciencedb using random forest\n",
    "\n",
    "We follow the same way of loading and testing the data as 2D GNN model, please refer 2D_GODESS.ipynb.\n",
    "\n",
    "Here, we encode the atom-level and monosaccharide-level features (fingerprints) as node embeddings.\n",
    "\n",
    "However, we use atom features as input to the random forest model, but ignore the atom connections."
   ]
  },
  {
   "cell_type": "code",
   "execution_count": 2,
   "id": "a0fc6ada",
   "metadata": {},
   "outputs": [],
   "source": [
    "atom_dim = 32\n",
    "\n",
    "residual_dim = 16\n",
    "\n",
    "mono_dim = 8\n",
    "ab_dim = 8\n",
    "dl_dim = 8\n",
    "pf_dim = 8\n",
    "\n",
    "seed=9721"
   ]
  },
  {
   "cell_type": "code",
   "execution_count": 3,
   "id": "f2c38621",
   "metadata": {},
   "outputs": [
    {
     "name": "stderr",
     "output_type": "stream",
     "text": [
      "100%|████████████████████████████████████████| 299/299 [00:00<00:00, 700.50it/s]\n"
     ]
    }
   ],
   "source": [
    "C = create_node_embeddings(seed=seed)\n",
    "\n",
    "df_atom_embedding, df_residual_embedding, df_monosaccharide_embedding, df_ab_embedding, df_dl_embedding, df_pf_embedding =\\\n",
    "C.create_all_embeddings(atom_dim=atom_dim, residual_dim=residual_dim, mono_dim=mono_dim, \n",
    "                       ab_dim=ab_dim, dl_dim=dl_dim, pf_dim=pf_dim)\n",
    "\n"
   ]
  },
  {
   "cell_type": "code",
   "execution_count": 4,
   "id": "02784630",
   "metadata": {},
   "outputs": [],
   "source": [
    "df_atom_embedding.to_csv(C.out_atom_embed, index=False)\n",
    "df_residual_embedding.to_csv(C.out_residual_embed, index=False)\n",
    "df_monosaccharide_embedding.to_csv(C.out_monosaccharide_embed, index=False)\n",
    "\n",
    "df_ab_embedding.to_csv(C.out_bound_ab, index = False) \n",
    "df_dl_embedding.to_csv(C.out_bound_dl, index = False) \n",
    "df_pf_embedding.to_csv(C.out_carbon_pf, index = False) "
   ]
  },
  {
   "cell_type": "code",
   "execution_count": 5,
   "id": "5d9c36b0",
   "metadata": {},
   "outputs": [
    {
     "name": "stderr",
     "output_type": "stream",
     "text": [
      "100%|█████████████████████████████████████████| 299/299 [00:04<00:00, 69.85it/s]\n"
     ]
    }
   ],
   "source": [
    "B = build_adjacency_matrix()\n",
    "B.calculate_all_matrix()"
   ]
  },
  {
   "cell_type": "code",
   "execution_count": 6,
   "id": "87648c6d",
   "metadata": {},
   "outputs": [
    {
     "name": "stdout",
     "output_type": "stream",
     "text": [
      "--------------------------loading NMR Graph-------------------------------\n"
     ]
    },
    {
     "name": "stderr",
     "output_type": "stream",
     "text": [
      "100%|█████████████████████████████████████████| 299/299 [00:03<00:00, 99.46it/s]\n"
     ]
    }
   ],
   "source": [
    "num_test = 60 # 299 * 20% \n",
    "Create = create_graph(num_test=num_test, seed=seed)\n",
    "g, test_index = Create.create_all_graph()"
   ]
  },
  {
   "cell_type": "code",
   "execution_count": 13,
   "id": "971d8e6b",
   "metadata": {},
   "outputs": [],
   "source": [
    "features = g.ndata[\"feat\"]\n",
    "labels = g.ndata[\"shift_value\"]\n",
    "\n",
    "masks = g.ndata['train_hydrogen_mask'], g.ndata['test_hydrogen_mask']\n",
    "# masks = g.ndata['train_carbon_mask'], g.ndata['test_carbon_mask']"
   ]
  },
  {
   "cell_type": "code",
   "execution_count": 14,
   "id": "960e362c",
   "metadata": {},
   "outputs": [],
   "source": [
    "train_x = features.numpy()[masks[0]]\n",
    "test_x = features.numpy()[masks[1]]\n",
    "\n",
    "train_y = labels.numpy()[masks[0]]\n",
    "test_y = labels.numpy()[masks[1]]"
   ]
  },
  {
   "cell_type": "code",
   "execution_count": 15,
   "id": "9347c798",
   "metadata": {},
   "outputs": [
    {
     "data": {
      "text/html": [
       "<style>#sk-container-id-2 {color: black;background-color: white;}#sk-container-id-2 pre{padding: 0;}#sk-container-id-2 div.sk-toggleable {background-color: white;}#sk-container-id-2 label.sk-toggleable__label {cursor: pointer;display: block;width: 100%;margin-bottom: 0;padding: 0.3em;box-sizing: border-box;text-align: center;}#sk-container-id-2 label.sk-toggleable__label-arrow:before {content: \"▸\";float: left;margin-right: 0.25em;color: #696969;}#sk-container-id-2 label.sk-toggleable__label-arrow:hover:before {color: black;}#sk-container-id-2 div.sk-estimator:hover label.sk-toggleable__label-arrow:before {color: black;}#sk-container-id-2 div.sk-toggleable__content {max-height: 0;max-width: 0;overflow: hidden;text-align: left;background-color: #f0f8ff;}#sk-container-id-2 div.sk-toggleable__content pre {margin: 0.2em;color: black;border-radius: 0.25em;background-color: #f0f8ff;}#sk-container-id-2 input.sk-toggleable__control:checked~div.sk-toggleable__content {max-height: 200px;max-width: 100%;overflow: auto;}#sk-container-id-2 input.sk-toggleable__control:checked~label.sk-toggleable__label-arrow:before {content: \"▾\";}#sk-container-id-2 div.sk-estimator input.sk-toggleable__control:checked~label.sk-toggleable__label {background-color: #d4ebff;}#sk-container-id-2 div.sk-label input.sk-toggleable__control:checked~label.sk-toggleable__label {background-color: #d4ebff;}#sk-container-id-2 input.sk-hidden--visually {border: 0;clip: rect(1px 1px 1px 1px);clip: rect(1px, 1px, 1px, 1px);height: 1px;margin: -1px;overflow: hidden;padding: 0;position: absolute;width: 1px;}#sk-container-id-2 div.sk-estimator {font-family: monospace;background-color: #f0f8ff;border: 1px dotted black;border-radius: 0.25em;box-sizing: border-box;margin-bottom: 0.5em;}#sk-container-id-2 div.sk-estimator:hover {background-color: #d4ebff;}#sk-container-id-2 div.sk-parallel-item::after {content: \"\";width: 100%;border-bottom: 1px solid gray;flex-grow: 1;}#sk-container-id-2 div.sk-label:hover label.sk-toggleable__label {background-color: #d4ebff;}#sk-container-id-2 div.sk-serial::before {content: \"\";position: absolute;border-left: 1px solid gray;box-sizing: border-box;top: 0;bottom: 0;left: 50%;z-index: 0;}#sk-container-id-2 div.sk-serial {display: flex;flex-direction: column;align-items: center;background-color: white;padding-right: 0.2em;padding-left: 0.2em;position: relative;}#sk-container-id-2 div.sk-item {position: relative;z-index: 1;}#sk-container-id-2 div.sk-parallel {display: flex;align-items: stretch;justify-content: center;background-color: white;position: relative;}#sk-container-id-2 div.sk-item::before, #sk-container-id-2 div.sk-parallel-item::before {content: \"\";position: absolute;border-left: 1px solid gray;box-sizing: border-box;top: 0;bottom: 0;left: 50%;z-index: -1;}#sk-container-id-2 div.sk-parallel-item {display: flex;flex-direction: column;z-index: 1;position: relative;background-color: white;}#sk-container-id-2 div.sk-parallel-item:first-child::after {align-self: flex-end;width: 50%;}#sk-container-id-2 div.sk-parallel-item:last-child::after {align-self: flex-start;width: 50%;}#sk-container-id-2 div.sk-parallel-item:only-child::after {width: 0;}#sk-container-id-2 div.sk-dashed-wrapped {border: 1px dashed gray;margin: 0 0.4em 0.5em 0.4em;box-sizing: border-box;padding-bottom: 0.4em;background-color: white;}#sk-container-id-2 div.sk-label label {font-family: monospace;font-weight: bold;display: inline-block;line-height: 1.2em;}#sk-container-id-2 div.sk-label-container {text-align: center;}#sk-container-id-2 div.sk-container {/* jupyter's `normalize.less` sets `[hidden] { display: none; }` but bootstrap.min.css set `[hidden] { display: none !important; }` so we also need the `!important` here to be able to override the default hidden behavior on the sphinx rendered scikit-learn.org. See: https://github.com/scikit-learn/scikit-learn/issues/21755 */display: inline-block !important;position: relative;}#sk-container-id-2 div.sk-text-repr-fallback {display: none;}</style><div id=\"sk-container-id-2\" class=\"sk-top-container\"><div class=\"sk-text-repr-fallback\"><pre>RandomForestRegressor(random_state=0)</pre><b>In a Jupyter environment, please rerun this cell to show the HTML representation or trust the notebook. <br />On GitHub, the HTML representation is unable to render, please try loading this page with nbviewer.org.</b></div><div class=\"sk-container\" hidden><div class=\"sk-item\"><div class=\"sk-estimator sk-toggleable\"><input class=\"sk-toggleable__control sk-hidden--visually\" id=\"sk-estimator-id-2\" type=\"checkbox\" checked><label for=\"sk-estimator-id-2\" class=\"sk-toggleable__label sk-toggleable__label-arrow\">RandomForestRegressor</label><div class=\"sk-toggleable__content\"><pre>RandomForestRegressor(random_state=0)</pre></div></div></div></div></div>"
      ],
      "text/plain": [
       "RandomForestRegressor(random_state=0)"
      ]
     },
     "execution_count": 15,
     "metadata": {},
     "output_type": "execute_result"
    }
   ],
   "source": [
    "from sklearn.ensemble import RandomForestRegressor\n",
    "from sklearn.datasets import make_regression\n",
    "\n",
    "regr = RandomForestRegressor(random_state = 0)\n",
    "\n",
    "regr.fit(train_x, train_y)"
   ]
  },
  {
   "cell_type": "code",
   "execution_count": 16,
   "id": "643b8919",
   "metadata": {},
   "outputs": [],
   "source": [
    "pred_y = regr.predict(test_x)"
   ]
  },
  {
   "cell_type": "code",
   "execution_count": 17,
   "id": "f7917577",
   "metadata": {},
   "outputs": [],
   "source": [
    "import numpy as np\n",
    "\n",
    "def rmse(predictions, targets):\n",
    "    return np.sqrt(((predictions - targets) ** 2).mean())"
   ]
  },
  {
   "cell_type": "code",
   "execution_count": 18,
   "id": "7d06b458",
   "metadata": {},
   "outputs": [
    {
     "data": {
      "text/plain": [
       "0.1776719184286958"
      ]
     },
     "execution_count": 18,
     "metadata": {},
     "output_type": "execute_result"
    }
   ],
   "source": [
    "rmse(pred_y, test_y)"
   ]
  },
  {
   "cell_type": "code",
   "execution_count": null,
   "id": "2403fbf9",
   "metadata": {},
   "outputs": [],
   "source": []
  }
 ],
 "metadata": {
  "kernelspec": {
   "display_name": "Python 3 (ipykernel)",
   "language": "python",
   "name": "python3"
  },
  "language_info": {
   "codemirror_mode": {
    "name": "ipython",
    "version": 3
   },
   "file_extension": ".py",
   "mimetype": "text/x-python",
   "name": "python",
   "nbconvert_exporter": "python",
   "pygments_lexer": "ipython3",
   "version": "3.8.15"
  }
 },
 "nbformat": 4,
 "nbformat_minor": 5
}
