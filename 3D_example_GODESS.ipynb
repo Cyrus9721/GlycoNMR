{
 "cells": [
  {
   "cell_type": "code",
   "execution_count": 1,
   "id": "074070d2",
   "metadata": {},
   "outputs": [],
   "source": [
    "import pandas as pd\n",
    "import torch\n",
    "import torch_geometric\n",
    "import dgl\n",
    "import numpy as np\n",
    "from tqdm import tqdm\n",
    "from load_GODDESS_3d import GODDESSDataset, split_test_val\n",
    "from run_with_val import run\n",
    "from model_3d.Spherenet_NMR import SphereNet"
   ]
  },
  {
   "cell_type": "code",
   "execution_count": 2,
   "id": "8973b8c3",
   "metadata": {},
   "outputs": [],
   "source": [
    "device = torch.device('cuda' if torch.cuda.is_available() else 'cpu')"
   ]
  },
  {
   "cell_type": "markdown",
   "id": "f6b67ba2",
   "metadata": {},
   "source": [
    "##### 1, Load the GODESS dataset for 3D GNN models\n",
    "\n",
    "This code is modified from the 2D loading method.\n",
    "\n",
    "We first randomly split the glycans into training set and test set. \n",
    "\n",
    "We then randomly split the half of the validation set from the test set"
   ]
  },
  {
   "cell_type": "code",
   "execution_count": 3,
   "id": "ad25ca42",
   "metadata": {},
   "outputs": [
    {
     "name": "stderr",
     "output_type": "stream",
     "text": [
      "100%|███████████████████████████████████████| 2310/2310 [00:43<00:00, 52.64it/s]\n",
      "100%|███████████████████████████████████████| 2310/2310 [00:59<00:00, 39.07it/s]\n"
     ]
    }
   ],
   "source": [
    "dataset = GODDESSDataset()\n",
    "train_data_godess = []\n",
    "test_data_godess = []\n",
    "\n",
    "for i, (temp_g, temp_id, temp_g_name) in enumerate(tqdm(dataset)):\n",
    "    temp_nx_g = dgl.to_networkx(temp_g, node_attrs=['z', 'y', 'Carbon_Hydrogen_mask', 'train_mask',\n",
    "                                                    'test_mask', 'train_carbon_mask', 'test_carbon_mask',\n",
    "                                                    'train_hydrogen_mask', 'test_hydrogen_mask', 'pos'])\n",
    "\n",
    "    temp_g_torch = torch_geometric.utils.from_networkx(temp_nx_g)\n",
    "\n",
    "    if temp_id == 0:\n",
    "        train_data_godess.append(temp_g_torch)\n",
    "    elif temp_id == 1:\n",
    "        test_data_godess.append(temp_g_torch)\n",
    "\n",
    "test_data_list, valid_data_list = split_test_val(test_data_godess)"
   ]
  },
  {
   "cell_type": "markdown",
   "id": "f4fe6cff",
   "metadata": {},
   "source": [
    "##### 2, Initialize the node embedding size\n",
    "\n",
    "The number of number of the embedding size, is the input to the model"
   ]
  },
  {
   "cell_type": "code",
   "execution_count": 4,
   "id": "23a7e29e",
   "metadata": {},
   "outputs": [],
   "source": [
    "node_embedding_size = train_data_godess[0].z.shape[1]"
   ]
  },
  {
   "cell_type": "markdown",
   "id": "42de3df0",
   "metadata": {},
   "source": [
    "##### 3, Initialize and train the SphereNet,\n",
    "\n",
    "Our implementation is modified from https://github.com/divelab/DIG/tree/dig-stable. \n",
    "\n",
    "To apply SphereNet to our tasks, we replaced the global pooling layer, which is needed for predicting the properties of whole molecules, and added a layer that maps the learned embedding of each atom to its NMR chemical shift."
   ]
  },
  {
   "cell_type": "code",
   "execution_count": 5,
   "id": "6d436dbb",
   "metadata": {},
   "outputs": [],
   "source": [
    "model = SphereNet(energy_and_force=False, in_embed_size = node_embedding_size, cutoff=5.0, num_layers=4,\n",
    "                  hidden_channels=128, out_channels=1, int_emb_size=64,\n",
    "                  basis_emb_size_dist=8, basis_emb_size_angle=8, basis_emb_size_torsion=8, out_emb_channels=128,\n",
    "                  num_spherical=3, num_radial=6, envelope_exponent=5,\n",
    "                  num_before_skip=1, num_after_skip=2, num_output_layers=2)"
   ]
  },
  {
   "cell_type": "code",
   "execution_count": 6,
   "id": "f71b8ecd",
   "metadata": {},
   "outputs": [
    {
     "name": "stdout",
     "output_type": "stream",
     "text": [
      "#Params: 1091910\n",
      "\n",
      "=====Epoch 1\n",
      "\n",
      "Training...\n"
     ]
    },
    {
     "name": "stderr",
     "output_type": "stream",
     "text": [
      "100%|█████████████████████████████████████████| 462/462 [00:32<00:00, 14.20it/s]"
     ]
    },
    {
     "name": "stdout",
     "output_type": "stream",
     "text": [
      "\n",
      "\n",
      "Evaluating...\n"
     ]
    },
    {
     "name": "stderr",
     "output_type": "stream",
     "text": [
      "\n",
      "100%|███████████████████████████████████████████| 58/58 [00:02<00:00, 23.82it/s]"
     ]
    },
    {
     "name": "stdout",
     "output_type": "stream",
     "text": [
      "use_tensor\n",
      "\n",
      "\n",
      "Testing...\n"
     ]
    },
    {
     "name": "stderr",
     "output_type": "stream",
     "text": [
      "\n",
      "100%|███████████████████████████████████████████| 58/58 [00:02<00:00, 24.56it/s]"
     ]
    },
    {
     "name": "stdout",
     "output_type": "stream",
     "text": [
      "use_tensor\n",
      "\n",
      "{'Train': 10.512698264349075, 'Valid': 5.5684648, 'Test': 5.3742557}\n",
      "\n",
      "=====Epoch 2\n",
      "\n",
      "Training...\n"
     ]
    },
    {
     "name": "stderr",
     "output_type": "stream",
     "text": [
      "\n",
      "100%|█████████████████████████████████████████| 462/462 [00:31<00:00, 14.53it/s]"
     ]
    },
    {
     "name": "stdout",
     "output_type": "stream",
     "text": [
      "\n",
      "\n",
      "Evaluating...\n"
     ]
    },
    {
     "name": "stderr",
     "output_type": "stream",
     "text": [
      "\n",
      "100%|███████████████████████████████████████████| 58/58 [00:02<00:00, 23.81it/s]"
     ]
    },
    {
     "name": "stdout",
     "output_type": "stream",
     "text": [
      "use_tensor\n",
      "\n",
      "\n",
      "Testing...\n"
     ]
    },
    {
     "name": "stderr",
     "output_type": "stream",
     "text": [
      "\n",
      "100%|███████████████████████████████████████████| 58/58 [00:02<00:00, 24.59it/s]"
     ]
    },
    {
     "name": "stdout",
     "output_type": "stream",
     "text": [
      "use_tensor\n",
      "\n",
      "{'Train': 2.4258238464206845, 'Valid': 4.0848293, 'Test': 3.9320168}\n",
      "\n",
      "=====Epoch 3\n",
      "\n",
      "Training...\n"
     ]
    },
    {
     "name": "stderr",
     "output_type": "stream",
     "text": [
      "\n",
      "100%|█████████████████████████████████████████| 462/462 [00:31<00:00, 14.50it/s]"
     ]
    },
    {
     "name": "stdout",
     "output_type": "stream",
     "text": [
      "\n",
      "\n",
      "Evaluating...\n"
     ]
    },
    {
     "name": "stderr",
     "output_type": "stream",
     "text": [
      "\n",
      "100%|███████████████████████████████████████████| 58/58 [00:02<00:00, 23.53it/s]"
     ]
    },
    {
     "name": "stdout",
     "output_type": "stream",
     "text": [
      "use_tensor\n",
      "\n",
      "\n",
      "Testing...\n"
     ]
    },
    {
     "name": "stderr",
     "output_type": "stream",
     "text": [
      "\n",
      "100%|███████████████████████████████████████████| 58/58 [00:02<00:00, 24.04it/s]"
     ]
    },
    {
     "name": "stdout",
     "output_type": "stream",
     "text": [
      "use_tensor\n",
      "\n",
      "{'Train': 2.085217180964235, 'Valid': 3.4811795, 'Test': 3.29}\n",
      "\n",
      "=====Epoch 4\n",
      "\n",
      "Training...\n"
     ]
    },
    {
     "name": "stderr",
     "output_type": "stream",
     "text": [
      "\n",
      "100%|█████████████████████████████████████████| 462/462 [00:32<00:00, 14.40it/s]"
     ]
    },
    {
     "name": "stdout",
     "output_type": "stream",
     "text": [
      "\n",
      "\n",
      "Evaluating...\n"
     ]
    },
    {
     "name": "stderr",
     "output_type": "stream",
     "text": [
      "\n",
      "100%|███████████████████████████████████████████| 58/58 [00:02<00:00, 23.73it/s]"
     ]
    },
    {
     "name": "stdout",
     "output_type": "stream",
     "text": [
      "use_tensor\n",
      "\n",
      "\n",
      "Testing...\n"
     ]
    },
    {
     "name": "stderr",
     "output_type": "stream",
     "text": [
      "\n",
      "100%|███████████████████████████████████████████| 58/58 [00:02<00:00, 24.45it/s]"
     ]
    },
    {
     "name": "stdout",
     "output_type": "stream",
     "text": [
      "use_tensor\n",
      "\n",
      "{'Train': 1.8979495300617053, 'Valid': 3.1246784, 'Test': 2.939757}\n",
      "\n",
      "=====Epoch 5\n",
      "\n",
      "Training...\n"
     ]
    },
    {
     "name": "stderr",
     "output_type": "stream",
     "text": [
      "\n",
      "100%|█████████████████████████████████████████| 462/462 [00:31<00:00, 14.44it/s]"
     ]
    },
    {
     "name": "stdout",
     "output_type": "stream",
     "text": [
      "\n",
      "\n",
      "Evaluating...\n"
     ]
    },
    {
     "name": "stderr",
     "output_type": "stream",
     "text": [
      "\n",
      "100%|███████████████████████████████████████████| 58/58 [00:02<00:00, 23.57it/s]"
     ]
    },
    {
     "name": "stdout",
     "output_type": "stream",
     "text": [
      "use_tensor\n",
      "\n",
      "\n",
      "Testing...\n"
     ]
    },
    {
     "name": "stderr",
     "output_type": "stream",
     "text": [
      "\n",
      "100%|███████████████████████████████████████████| 58/58 [00:02<00:00, 24.40it/s]"
     ]
    },
    {
     "name": "stdout",
     "output_type": "stream",
     "text": [
      "use_tensor\n",
      "\n",
      "{'Train': 1.8213000776189747, 'Valid': 2.44496, 'Test': 2.2442708}\n",
      "Best validation RMSE so far: 2.444960117340088\n",
      "Test MAE when got best validation result: 2.2442708015441895\n"
     ]
    },
    {
     "name": "stderr",
     "output_type": "stream",
     "text": [
      "\n"
     ]
    }
   ],
   "source": [
    "run3d = run()\n",
    "\n",
    "loss_func = torch.nn.L1Loss()\n",
    "\n",
    "train_loss_list, test_loss_list = run3d.run(device, train_data_godess, valid_data_list, test_data_list, model, loss_func,\n",
    "                                            epochs=5, batch_size=4, vt_batch_size=4, lr=0.001, lr_decay_factor=0.5, lr_decay_step_size=15)"
   ]
  },
  {
   "cell_type": "code",
   "execution_count": null,
   "id": "456ad831",
   "metadata": {},
   "outputs": [],
   "source": []
  }
 ],
 "metadata": {
  "kernelspec": {
   "display_name": "Python [conda env:3dgnn]",
   "language": "python",
   "name": "conda-env-3dgnn-py"
  },
  "language_info": {
   "codemirror_mode": {
    "name": "ipython",
    "version": 3
   },
   "file_extension": ".py",
   "mimetype": "text/x-python",
   "name": "python",
   "nbconvert_exporter": "python",
   "pygments_lexer": "ipython3",
   "version": "3.11.3"
  }
 },
 "nbformat": 4,
 "nbformat_minor": 5
}
