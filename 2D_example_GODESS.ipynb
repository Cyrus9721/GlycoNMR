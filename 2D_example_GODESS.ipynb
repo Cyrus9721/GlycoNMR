{
 "cells": [
  {
   "cell_type": "code",
   "execution_count": 1,
   "id": "828e72a7",
   "metadata": {},
   "outputs": [],
   "source": [
    "import numpy as np\n",
    "import pandas as pd\n",
    "import os\n",
    "from tqdm import tqdm\n",
    "import torch\n",
    "import torch.nn as nn\n",
    "\n",
    "# from train_evaluate import NMR_prediction\n",
    "\n",
    "import torch.nn.functional as F\n",
    "import dgl\n",
    "import dgl.nn as dglnn\n",
    "import torch.nn as nn\n",
    "from dgl import AddSelfLoop\n",
    "\n",
    "from model_2d.NMR_gcn import NMR_GCN\n",
    "\n",
    "from train_evaluate_2d import NMR_prediction\n",
    "\n",
    "from preprocess.create_node_embedding.node_embeddings_godess import create_node_embeddings\n",
    "\n",
    "from preprocess.build_adjaency_matrix.create_adjaency_matrix_godess import build_adjacency_matrix\n",
    "\n",
    "from preprocess.create_graph.create_graph_data_godess import create_graph\n",
    "\n",
    "# from dgl import save_graphs, load_graphs\n",
    "# from tqdm import tqdm\n",
    "from dgl import save_graphs, load_graphs\n"
   ]
  },
  {
   "cell_type": "markdown",
   "id": "7953f988",
   "metadata": {},
   "source": [
    "##### 1, Create Node embeddings\n",
    "\n"
   ]
  },
  {
   "cell_type": "markdown",
   "id": "7abcb116",
   "metadata": {},
   "source": [
    "\n",
    "##### Initialize atom-level node embeddings based on extracted atom and monosaccharide features. \n",
    "\n",
    "1, atom name: atom name that indicate ring position, Eg: 04, C4, C3...\n",
    "\n",
    "2, bound_orig: monosaccharide's bound information from original pdb file.\n",
    "\n",
    "3, atom_type: general atom type Eg. O, C, H, N.\n",
    "\n",
    "4, ab_list: anomeric orientation of hydroxyl group.\n",
    "\n",
    "5, dl_list: fischer convention, fischer d, l.\n",
    "\n",
    "6, pf_list: number of carbon p, f.\n",
    "\n",
    "7, mono_accurate_list: accurate monosaccharide name, a-D-Glcp.\n",
    "\n",
    "8, mono_simple_list: simple monosaccharide name, glc.\n",
    "\n",
    "9, me_list: Me root interatction.\n",
    "\n",
    "10, ser_list: Ser root interaction.\n",
    "\n",
    "11, s_list: Sulfur residue effect.\n",
    "\n",
    "12, ac_list: Ac residue effect.\n",
    "\n",
    "13, gc_list: Gc residue effect."
   ]
  },
  {
   "cell_type": "code",
   "execution_count": 3,
   "id": "928fea69",
   "metadata": {},
   "outputs": [],
   "source": [
    "# data directory\n",
    "data_dir = 'godess/data/'\n",
    "\n",
    "# define the lengtht of the embeddings of each feature\n",
    "atom_name_dim=256\n",
    "\n",
    "bound_orig_dim=32\n",
    "\n",
    "atom_type_dim=32\n",
    "\n",
    "ab_dim=64\n",
    "\n",
    "dl_dim=64\n",
    "\n",
    "pf_dim=64\n",
    "\n",
    "mono_accurate_dim=128\n",
    "\n",
    "mono_simple_dim=256\n",
    "\n",
    "me_dim=32\n",
    "\n",
    "ser_dim=32\n",
    "\n",
    "s_dim=64\n",
    "\n",
    "ac_dim=64\n",
    "\n",
    "gc_dim=32"
   ]
  },
  {
   "cell_type": "code",
   "execution_count": 4,
   "id": "6051f773",
   "metadata": {},
   "outputs": [
    {
     "name": "stderr",
     "output_type": "stream",
     "text": [
      "100%|██████████████████████████████████████| 2310/2310 [00:05<00:00, 403.34it/s]\n"
     ]
    }
   ],
   "source": [
    "\n",
    "\n",
    "C = create_node_embeddings(data_dir = data_dir)\n",
    "C.write_all_embeddings(atom_name_dim = atom_name_dim, bound_orig_dim = bound_orig_dim, \n",
    "                           atom_type_dim = atom_type_dim, ab_dim = ab_dim, dl_dim = dl_dim,\n",
    "                           pf_dim = pf_dim, mono_accurate_dim = mono_accurate_dim, \n",
    "                           mono_simple_dim = mono_simple_dim, me_dim=me_dim, \n",
    "                          ser_dim=ser_dim, s_dim=s_dim, ac_dim=ac_dim, gc_dim=gc_dim)"
   ]
  },
  {
   "cell_type": "markdown",
   "id": "b4af88e5",
   "metadata": {},
   "source": [
    "##### 2, Build Adjaency matrix"
   ]
  },
  {
   "cell_type": "markdown",
   "id": "79d452b3",
   "metadata": {},
   "source": [
    "##### Build adjaency matrix based on threshold distance between atoms\n",
    "\n",
    "1, threshold_carbon: we construct edges between two carbon atom if their distance is within 1.65Å. \n",
    "\n",
    "2, threshold_hydrogen: we construct edges between two hydrogen atom if their distance is within 1.18Å. \n",
    "\n",
    "3, threshold_general: for all other atoms, we construct edges between distance two atom is within 1.5Å. \n",
    "\n",
    "4, threshold_interaction: we construct interaction edges between atoms if their distance is with in 5Å. \n"
   ]
  },
  {
   "cell_type": "code",
   "execution_count": 5,
   "id": "44887fc7",
   "metadata": {},
   "outputs": [],
   "source": [
    "threshold_carbon=1.65\n",
    "\n",
    "threshold_hydrogen=1.18\n",
    "\n",
    "threshold_general=1.5\n",
    "\n",
    "threshold_interaction=5.0"
   ]
  },
  {
   "cell_type": "code",
   "execution_count": 6,
   "id": "3c2bd6e5",
   "metadata": {},
   "outputs": [
    {
     "name": "stderr",
     "output_type": "stream",
     "text": [
      "100%|███████████████████████████████████████| 2310/2310 [01:35<00:00, 24.27it/s]\n"
     ]
    }
   ],
   "source": [
    "B = build_adjacency_matrix(labeled_pdb_dir = data_dir,\n",
    "                           threshold_carbon=threshold_carbon,\n",
    "                           threshold_hydrogen=threshold_hydrogen, \n",
    "                           threshold_general=threshold_general, \n",
    "                           threshold_interaction=threshold_interaction)\n",
    "B.calculate_all_matrix()"
   ]
  },
  {
   "cell_type": "markdown",
   "id": "553360a4",
   "metadata": {},
   "source": [
    "###### 3, Create glycan graph"
   ]
  },
  {
   "cell_type": "markdown",
   "id": "63c40280",
   "metadata": {},
   "source": [
    "##### create glycan graph from prebuilt node embeddings and adjaency matrix, every glycan is considered as a graph and every atom is consided as a node\n",
    "\n",
    "1, num_test: number of testing glycans, we randomly select 20% of the glycans as test set"
   ]
  },
  {
   "cell_type": "code",
   "execution_count": 7,
   "id": "ef625976",
   "metadata": {},
   "outputs": [
    {
     "name": "stdout",
     "output_type": "stream",
     "text": [
      "--------------------------loading NMR Graph-------------------------------\n"
     ]
    },
    {
     "name": "stderr",
     "output_type": "stream",
     "text": [
      "100%|███████████████████████████████████████| 2310/2310 [04:11<00:00,  9.17it/s]\n"
     ]
    }
   ],
   "source": [
    "num_test = 462\n",
    "Create = create_graph(data_dir=data_dir, num_test=num_test)\n",
    "g, test_index = Create.create_all_graph()"
   ]
  },
  {
   "cell_type": "markdown",
   "id": "ceeaa34e",
   "metadata": {},
   "source": [
    "###### 4, Train a simple gcn model\n"
   ]
  },
  {
   "cell_type": "code",
   "execution_count": 7,
   "id": "cea2dce5",
   "metadata": {},
   "outputs": [
    {
     "data": {
      "text/plain": [
       "tensor([False, False, False,  ..., False, False, False])"
      ]
     },
     "execution_count": 7,
     "metadata": {},
     "output_type": "execute_result"
    }
   ],
   "source": [
    "g.ndata['z']\n",
    "g.ndata['train_carbon_mask']"
   ]
  },
  {
   "cell_type": "code",
   "execution_count": 8,
   "id": "1ecd30fe",
   "metadata": {},
   "outputs": [],
   "source": [
    "in_size = atom_name_dim + ab_dim + dl_dim + \\\n",
    "            pf_dim + mono_simple_dim + me_dim + ser_dim + \\\n",
    "            s_dim + ac_dim + gc_dim\n",
    "\n",
    "hidden_size_1 = int(in_size / 2)\n",
    "hidden_size_2 = int(hidden_size_1 / 2)\n",
    "hidden_size_3 = 256\n",
    "hidden_size_4 = 128\n",
    "\n",
    "num_epoch = 2000\n",
    "lr = 1e-3"
   ]
  },
  {
   "cell_type": "code",
   "execution_count": 9,
   "id": "6081be5c",
   "metadata": {},
   "outputs": [
    {
     "name": "stdout",
     "output_type": "stream",
     "text": [
      "Training...\n"
     ]
    },
    {
     "name": "stderr",
     "output_type": "stream",
     "text": [
      "  0%|                                          | 2/2000 [00:00<14:20,  2.32it/s]"
     ]
    },
    {
     "name": "stdout",
     "output_type": "stream",
     "text": [
      "18610\n",
      "75422\n",
      "Epoch 00000 | Loss 6716.6646 | train_RMSE 79.0701 | test_RMSE 79.4029 \n",
      "18610\n",
      "75422\n",
      "Epoch 00001 | Loss 6252.1514 | train_RMSE 73.3460 | test_RMSE 73.7184 \n"
     ]
    },
    {
     "name": "stderr",
     "output_type": "stream",
     "text": [
      "  0%|                                          | 4/2000 [00:01<08:13,  4.05it/s]"
     ]
    },
    {
     "name": "stdout",
     "output_type": "stream",
     "text": [
      "18610\n",
      "75422\n",
      "Epoch 00002 | Loss 5380.3237 | train_RMSE 62.7878 | test_RMSE 63.2359 \n",
      "18610\n",
      "75422\n",
      "Epoch 00003 | Loss 3945.3054 | train_RMSE 45.5976 | test_RMSE 46.1762 \n"
     ]
    },
    {
     "name": "stderr",
     "output_type": "stream",
     "text": [
      "  0%|▏                                         | 6/2000 [00:01<06:24,  5.19it/s]"
     ]
    },
    {
     "name": "stdout",
     "output_type": "stream",
     "text": [
      "18610\n",
      "75422\n",
      "Epoch 00004 | Loss 2086.1572 | train_RMSE 27.1221 | test_RMSE 27.6530 \n",
      "18610\n",
      "75422\n",
      "Epoch 00005 | Loss 753.8017 | train_RMSE 48.7042 | test_RMSE 48.3182 \n"
     ]
    },
    {
     "name": "stderr",
     "output_type": "stream",
     "text": [
      "  0%|▏                                         | 8/2000 [00:01<05:38,  5.88it/s]"
     ]
    },
    {
     "name": "stdout",
     "output_type": "stream",
     "text": [
      "18610\n",
      "75422\n",
      "Epoch 00006 | Loss 2410.1560 | train_RMSE 44.8633 | test_RMSE 44.5682 \n",
      "18610\n",
      "75422\n",
      "Epoch 00007 | Loss 2055.2344 | train_RMSE 30.4426 | test_RMSE 30.5122 \n"
     ]
    },
    {
     "name": "stderr",
     "output_type": "stream",
     "text": [
      "  0%|▏                                        | 10/2000 [00:02<05:21,  6.20it/s]"
     ]
    },
    {
     "name": "stdout",
     "output_type": "stream",
     "text": [
      "18610\n",
      "75422\n",
      "Epoch 00008 | Loss 954.6360 | train_RMSE 25.0528 | test_RMSE 25.5271 \n",
      "18610\n",
      "75422\n",
      "Epoch 00009 | Loss 647.9382 | train_RMSE 29.8301 | test_RMSE 30.3600 \n"
     ]
    },
    {
     "name": "stderr",
     "output_type": "stream",
     "text": [
      "  1%|▏                                        | 12/2000 [00:02<05:09,  6.42it/s]"
     ]
    },
    {
     "name": "stdout",
     "output_type": "stream",
     "text": [
      "18610\n",
      "75422\n",
      "Epoch 00010 | Loss 903.8522 | train_RMSE 34.6114 | test_RMSE 35.0928 \n",
      "18610\n",
      "75422\n",
      "Epoch 00011 | Loss 1208.7792 | train_RMSE 36.3534 | test_RMSE 36.7979 \n"
     ]
    },
    {
     "name": "stderr",
     "output_type": "stream",
     "text": [
      "  1%|▎                                        | 14/2000 [00:02<05:03,  6.53it/s]"
     ]
    },
    {
     "name": "stdout",
     "output_type": "stream",
     "text": [
      "18610\n",
      "75422\n",
      "Epoch 00012 | Loss 1331.3020 | train_RMSE 35.1506 | test_RMSE 35.5777 \n",
      "18610\n",
      "75422\n",
      "Epoch 00013 | Loss 1247.5153 | train_RMSE 31.5850 | test_RMSE 32.0121 \n"
     ]
    },
    {
     "name": "stderr",
     "output_type": "stream",
     "text": [
      "  1%|▎                                        | 16/2000 [00:03<05:06,  6.48it/s]"
     ]
    },
    {
     "name": "stdout",
     "output_type": "stream",
     "text": [
      "18610\n",
      "75422\n",
      "Epoch 00014 | Loss 1010.8397 | train_RMSE 26.6857 | test_RMSE 27.1241 \n",
      "18610\n",
      "75422\n",
      "Epoch 00015 | Loss 729.6866 | train_RMSE 22.8369 | test_RMSE 23.2668 \n"
     ]
    },
    {
     "name": "stderr",
     "output_type": "stream",
     "text": [
      "  1%|▎                                        | 18/2000 [00:03<05:03,  6.53it/s]"
     ]
    },
    {
     "name": "stdout",
     "output_type": "stream",
     "text": [
      "18610\n",
      "75422\n",
      "Epoch 00016 | Loss 543.8655 | train_RMSE 23.3835 | test_RMSE 23.7337 \n",
      "18610\n",
      "75422\n",
      "Epoch 00017 | Loss 574.8133 | train_RMSE 27.0956 | test_RMSE 27.3656 \n"
     ]
    },
    {
     "name": "stderr",
     "output_type": "stream",
     "text": [
      "  1%|▍                                        | 20/2000 [00:03<05:01,  6.58it/s]"
     ]
    },
    {
     "name": "stdout",
     "output_type": "stream",
     "text": [
      "18610\n",
      "75422\n",
      "Epoch 00018 | Loss 769.4058 | train_RMSE 28.7370 | test_RMSE 28.9962 \n",
      "18610\n",
      "75422\n",
      "Epoch 00019 | Loss 860.6825 | train_RMSE 26.6233 | test_RMSE 26.9290 \n"
     ]
    },
    {
     "name": "stderr",
     "output_type": "stream",
     "text": [
      "  1%|▍                                        | 22/2000 [00:04<04:59,  6.60it/s]"
     ]
    },
    {
     "name": "stdout",
     "output_type": "stream",
     "text": [
      "18610\n",
      "75422\n",
      "Epoch 00020 | Loss 745.7926 | train_RMSE 23.0872 | test_RMSE 23.4656 \n",
      "18610\n",
      "75422\n",
      "Epoch 00021 | Loss 564.5825 | train_RMSE 21.3603 | test_RMSE 21.7817 \n"
     ]
    },
    {
     "name": "stderr",
     "output_type": "stream",
     "text": [
      "  1%|▍                                        | 24/2000 [00:04<04:59,  6.59it/s]"
     ]
    },
    {
     "name": "stdout",
     "output_type": "stream",
     "text": [
      "18610\n",
      "75422\n",
      "Epoch 00022 | Loss 480.1916 | train_RMSE 22.1832 | test_RMSE 22.5893 \n",
      "18610\n",
      "75422\n",
      "Epoch 00023 | Loss 514.3635 | train_RMSE 23.8338 | test_RMSE 24.2067 \n"
     ]
    },
    {
     "name": "stderr",
     "output_type": "stream",
     "text": [
      "  1%|▌                                        | 26/2000 [00:04<04:59,  6.60it/s]"
     ]
    },
    {
     "name": "stdout",
     "output_type": "stream",
     "text": [
      "18610\n",
      "75422\n",
      "Epoch 00024 | Loss 586.6496 | train_RMSE 24.8023 | test_RMSE 25.1543 \n",
      "18610\n",
      "75422\n",
      "Epoch 00025 | Loss 632.7166 | train_RMSE 24.5658 | test_RMSE 24.9157 \n"
     ]
    },
    {
     "name": "stderr",
     "output_type": "stream",
     "text": [
      "  1%|▌                                        | 28/2000 [00:04<04:58,  6.61it/s]"
     ]
    },
    {
     "name": "stdout",
     "output_type": "stream",
     "text": [
      "18610\n",
      "75422\n",
      "Epoch 00026 | Loss 622.5351 | train_RMSE 23.2719 | test_RMSE 23.6390 \n",
      "18610\n",
      "75422\n",
      "Epoch 00027 | Loss 561.0088 | train_RMSE 21.5648 | test_RMSE 21.9648 \n"
     ]
    },
    {
     "name": "stderr",
     "output_type": "stream",
     "text": [
      "  2%|▌                                        | 30/2000 [00:05<04:59,  6.57it/s]"
     ]
    },
    {
     "name": "stdout",
     "output_type": "stream",
     "text": [
      "18610\n",
      "75422\n",
      "Epoch 00028 | Loss 486.6505 | train_RMSE 20.4489 | test_RMSE 20.8826 \n",
      "18610\n",
      "75422\n",
      "Epoch 00029 | Loss 442.3640 | train_RMSE 20.6217 | test_RMSE 21.0693 \n"
     ]
    },
    {
     "name": "stderr",
     "output_type": "stream",
     "text": [
      "  2%|▋                                        | 32/2000 [00:05<04:57,  6.60it/s]"
     ]
    },
    {
     "name": "stdout",
     "output_type": "stream",
     "text": [
      "18610\n",
      "75422\n",
      "Epoch 00030 | Loss 452.6910 | train_RMSE 21.5823 | test_RMSE 22.0253 \n",
      "18610\n",
      "75422\n",
      "Epoch 00031 | Loss 494.1294 | train_RMSE 22.0808 | test_RMSE 22.5196 \n"
     ]
    },
    {
     "name": "stderr",
     "output_type": "stream",
     "text": [
      "  2%|▋                                        | 34/2000 [00:05<04:57,  6.61it/s]"
     ]
    },
    {
     "name": "stdout",
     "output_type": "stream",
     "text": [
      "18610\n",
      "75422\n",
      "Epoch 00032 | Loss 519.3931 | train_RMSE 21.4962 | test_RMSE 21.9401 \n",
      "18610\n",
      "75422\n",
      "Epoch 00033 | Loss 491.5249 | train_RMSE 20.3673 | test_RMSE 20.8189 \n"
     ]
    },
    {
     "name": "stderr",
     "output_type": "stream",
     "text": [
      "  2%|▋                                        | 36/2000 [00:06<04:58,  6.57it/s]"
     ]
    },
    {
     "name": "stdout",
     "output_type": "stream",
     "text": [
      "18610\n",
      "75422\n",
      "Epoch 00034 | Loss 445.0876 | train_RMSE 19.6712 | test_RMSE 20.1190 \n",
      "18610\n",
      "75422\n",
      "Epoch 00035 | Loss 411.7851 | train_RMSE 19.7966 | test_RMSE 20.2256 \n"
     ]
    },
    {
     "name": "stderr",
     "output_type": "stream",
     "text": [
      "  2%|▊                                        | 38/2000 [00:06<04:57,  6.59it/s]"
     ]
    },
    {
     "name": "stdout",
     "output_type": "stream",
     "text": [
      "18610\n",
      "75422\n",
      "Epoch 00036 | Loss 414.2568 | train_RMSE 20.3121 | test_RMSE 20.7202 \n",
      "18610\n",
      "75422\n",
      "Epoch 00037 | Loss 434.1696 | train_RMSE 20.6063 | test_RMSE 21.0038 \n"
     ]
    },
    {
     "name": "stderr",
     "output_type": "stream",
     "text": [
      "  2%|▊                                        | 40/2000 [00:06<04:56,  6.60it/s]"
     ]
    },
    {
     "name": "stdout",
     "output_type": "stream",
     "text": [
      "18610\n",
      "75422\n",
      "Epoch 00038 | Loss 446.8689 | train_RMSE 20.3801 | test_RMSE 20.7812 \n",
      "18610\n",
      "75422\n",
      "Epoch 00039 | Loss 435.3522 | train_RMSE 19.7429 | test_RMSE 20.1591 \n"
     ]
    },
    {
     "name": "stderr",
     "output_type": "stream",
     "text": [
      "  2%|▊                                        | 42/2000 [00:07<04:59,  6.54it/s]"
     ]
    },
    {
     "name": "stdout",
     "output_type": "stream",
     "text": [
      "18610\n",
      "75422\n",
      "Epoch 00040 | Loss 411.5979 | train_RMSE 19.0856 | test_RMSE 19.5203 \n",
      "18610\n",
      "75422\n",
      "Epoch 00041 | Loss 386.9466 | train_RMSE 18.8126 | test_RMSE 19.2586 \n"
     ]
    },
    {
     "name": "stderr",
     "output_type": "stream",
     "text": [
      "  2%|▉                                        | 44/2000 [00:07<04:58,  6.56it/s]"
     ]
    },
    {
     "name": "stdout",
     "output_type": "stream",
     "text": [
      "18610\n",
      "75422\n",
      "Epoch 00042 | Loss 378.6281 | train_RMSE 18.9690 | test_RMSE 19.4148 \n",
      "18610\n",
      "75422\n",
      "Epoch 00043 | Loss 385.9090 | train_RMSE 19.1705 | test_RMSE 19.6113 \n"
     ]
    },
    {
     "name": "stderr",
     "output_type": "stream",
     "text": [
      "  2%|▉                                        | 46/2000 [00:07<04:56,  6.58it/s]"
     ]
    },
    {
     "name": "stdout",
     "output_type": "stream",
     "text": [
      "18610\n",
      "75422\n",
      "Epoch 00044 | Loss 393.3067 | train_RMSE 19.0383 | test_RMSE 19.4777 \n",
      "18610\n",
      "75422\n",
      "Epoch 00045 | Loss 390.8654 | train_RMSE 18.6052 | test_RMSE 19.0469 \n"
     ]
    },
    {
     "name": "stderr",
     "output_type": "stream",
     "text": [
      "  2%|▉                                        | 48/2000 [00:07<04:59,  6.52it/s]"
     ]
    },
    {
     "name": "stdout",
     "output_type": "stream",
     "text": [
      "18610\n",
      "75422\n",
      "Epoch 00046 | Loss 369.9251 | train_RMSE 18.2264 | test_RMSE 18.6685 \n",
      "18610\n",
      "75422\n",
      "Epoch 00047 | Loss 356.1357 | train_RMSE 18.1432 | test_RMSE 18.5794 \n"
     ]
    },
    {
     "name": "stderr",
     "output_type": "stream",
     "text": [
      "  2%|█                                        | 50/2000 [00:08<04:57,  6.55it/s]"
     ]
    },
    {
     "name": "stdout",
     "output_type": "stream",
     "text": [
      "18610\n",
      "75422\n",
      "Epoch 00048 | Loss 350.8950 | train_RMSE 18.2598 | test_RMSE 18.6870 \n",
      "18610\n",
      "75422\n",
      "Epoch 00049 | Loss 356.2807 | train_RMSE 18.3158 | test_RMSE 18.7371 \n"
     ]
    },
    {
     "name": "stderr",
     "output_type": "stream",
     "text": [
      "  3%|█                                        | 52/2000 [00:08<04:57,  6.55it/s]"
     ]
    },
    {
     "name": "stdout",
     "output_type": "stream",
     "text": [
      "18610\n",
      "75422\n",
      "Epoch 00050 | Loss 356.8313 | train_RMSE 18.1530 | test_RMSE 18.5744 \n",
      "18610\n",
      "75422\n",
      "Epoch 00051 | Loss 350.1078 | train_RMSE 17.8230 | test_RMSE 18.2489 \n"
     ]
    },
    {
     "name": "stderr",
     "output_type": "stream",
     "text": [
      "  3%|█                                        | 54/2000 [00:08<04:58,  6.51it/s]"
     ]
    },
    {
     "name": "stdout",
     "output_type": "stream",
     "text": [
      "18610\n",
      "75422\n",
      "Epoch 00052 | Loss 339.7910 | train_RMSE 17.5183 | test_RMSE 17.9484 \n",
      "18610\n",
      "75422\n",
      "Epoch 00053 | Loss 329.5668 | train_RMSE 17.3874 | test_RMSE 17.8171 \n"
     ]
    },
    {
     "name": "stderr",
     "output_type": "stream",
     "text": [
      "  3%|█▏                                       | 56/2000 [00:09<04:58,  6.51it/s]"
     ]
    },
    {
     "name": "stdout",
     "output_type": "stream",
     "text": [
      "18610\n",
      "75422\n",
      "Epoch 00054 | Loss 326.3247 | train_RMSE 17.3827 | test_RMSE 17.8079 \n",
      "18610\n",
      "75422\n",
      "Epoch 00055 | Loss 325.1767 | train_RMSE 17.3264 | test_RMSE 17.7475 \n"
     ]
    },
    {
     "name": "stderr",
     "output_type": "stream",
     "text": [
      "  3%|█▏                                       | 58/2000 [00:09<04:58,  6.50it/s]"
     ]
    },
    {
     "name": "stdout",
     "output_type": "stream",
     "text": [
      "18610\n",
      "75422\n",
      "Epoch 00056 | Loss 323.2417 | train_RMSE 17.1323 | test_RMSE 17.5520 \n",
      "18610\n",
      "75422\n",
      "Epoch 00057 | Loss 317.5735 | train_RMSE 16.8911 | test_RMSE 17.3104 \n"
     ]
    },
    {
     "name": "stderr",
     "output_type": "stream",
     "text": [
      "  3%|█▏                                       | 60/2000 [00:09<04:58,  6.49it/s]"
     ]
    },
    {
     "name": "stdout",
     "output_type": "stream",
     "text": [
      "18610\n",
      "75422\n",
      "Epoch 00058 | Loss 307.4370 | train_RMSE 16.7440 | test_RMSE 17.1605 \n",
      "18610\n",
      "75422\n",
      "Epoch 00059 | Loss 301.5129 | train_RMSE 16.7037 | test_RMSE 17.1150 \n"
     ]
    },
    {
     "name": "stderr",
     "output_type": "stream",
     "text": [
      "  3%|█▎                                       | 62/2000 [00:10<04:58,  6.48it/s]"
     ]
    },
    {
     "name": "stdout",
     "output_type": "stream",
     "text": [
      "18610\n",
      "75422\n",
      "Epoch 00060 | Loss 300.6906 | train_RMSE 16.6593 | test_RMSE 17.0656 \n",
      "18610\n",
      "75422\n",
      "Epoch 00061 | Loss 298.1737 | train_RMSE 16.5160 | test_RMSE 16.9195 \n"
     ]
    },
    {
     "name": "stderr",
     "output_type": "stream",
     "text": [
      "  3%|█▎                                       | 64/2000 [00:10<04:58,  6.48it/s]"
     ]
    },
    {
     "name": "stdout",
     "output_type": "stream",
     "text": [
      "18610\n",
      "75422\n",
      "Epoch 00062 | Loss 294.4685 | train_RMSE 16.2881 | test_RMSE 16.6907 \n",
      "18610\n",
      "75422\n",
      "Epoch 00063 | Loss 286.3944 | train_RMSE 16.0724 | test_RMSE 16.4737 \n"
     ]
    },
    {
     "name": "stderr",
     "output_type": "stream",
     "text": [
      "  3%|█▎                                       | 66/2000 [00:10<04:58,  6.48it/s]"
     ]
    },
    {
     "name": "stdout",
     "output_type": "stream",
     "text": [
      "18610\n",
      "75422\n",
      "Epoch 00064 | Loss 279.6720 | train_RMSE 15.9379 | test_RMSE 16.3355 \n",
      "18610\n",
      "75422\n",
      "Epoch 00065 | Loss 275.6970 | train_RMSE 15.8428 | test_RMSE 16.2358 \n"
     ]
    },
    {
     "name": "stderr",
     "output_type": "stream",
     "text": [
      "  3%|█▍                                       | 68/2000 [00:11<04:58,  6.47it/s]"
     ]
    },
    {
     "name": "stdout",
     "output_type": "stream",
     "text": [
      "18610\n",
      "75422\n",
      "Epoch 00066 | Loss 272.0537 | train_RMSE 15.7036 | test_RMSE 16.0929 \n",
      "18610\n",
      "75422\n",
      "Epoch 00067 | Loss 269.2619 | train_RMSE 15.5096 | test_RMSE 15.8964 \n"
     ]
    },
    {
     "name": "stderr",
     "output_type": "stream",
     "text": [
      "  4%|█▍                                       | 70/2000 [00:11<04:57,  6.48it/s]"
     ]
    },
    {
     "name": "stdout",
     "output_type": "stream",
     "text": [
      "18610\n",
      "75422\n",
      "Epoch 00068 | Loss 261.5167 | train_RMSE 15.3293 | test_RMSE 15.7130 \n",
      "18610\n",
      "75422\n",
      "Epoch 00069 | Loss 256.1608 | train_RMSE 15.2066 | test_RMSE 15.5853 \n"
     ]
    },
    {
     "name": "stderr",
     "output_type": "stream",
     "text": [
      "  4%|█▍                                       | 72/2000 [00:11<04:57,  6.47it/s]"
     ]
    },
    {
     "name": "stdout",
     "output_type": "stream",
     "text": [
      "18610\n",
      "75422\n",
      "Epoch 00070 | Loss 252.3256 | train_RMSE 15.0974 | test_RMSE 15.4704 \n",
      "18610\n",
      "75422\n",
      "Epoch 00071 | Loss 248.3131 | train_RMSE 14.9377 | test_RMSE 15.3064 \n"
     ]
    },
    {
     "name": "stderr",
     "output_type": "stream",
     "text": [
      "  4%|█▌                                       | 74/2000 [00:11<04:57,  6.48it/s]"
     ]
    },
    {
     "name": "stdout",
     "output_type": "stream",
     "text": [
      "18610\n",
      "75422\n",
      "Epoch 00072 | Loss 243.6835 | train_RMSE 14.7265 | test_RMSE 15.0921 \n",
      "18610\n",
      "75422\n",
      "Epoch 00073 | Loss 237.7561 | train_RMSE 14.5193 | test_RMSE 14.8817 \n"
     ]
    },
    {
     "name": "stderr",
     "output_type": "stream",
     "text": [
      "  4%|█▌                                       | 76/2000 [00:12<04:56,  6.48it/s]"
     ]
    },
    {
     "name": "stdout",
     "output_type": "stream",
     "text": [
      "18610\n",
      "75422\n",
      "Epoch 00074 | Loss 230.4019 | train_RMSE 14.3507 | test_RMSE 14.7087 \n",
      "18610\n",
      "75422\n",
      "Epoch 00075 | Loss 226.9399 | train_RMSE 14.1905 | test_RMSE 14.5433 \n"
     ]
    },
    {
     "name": "stderr",
     "output_type": "stream",
     "text": [
      "  4%|█▌                                       | 78/2000 [00:12<04:56,  6.48it/s]"
     ]
    },
    {
     "name": "stdout",
     "output_type": "stream",
     "text": [
      "18610\n",
      "75422\n",
      "Epoch 00076 | Loss 222.8268 | train_RMSE 14.0014 | test_RMSE 14.3490 \n",
      "18610\n",
      "75422\n",
      "Epoch 00077 | Loss 217.0541 | train_RMSE 13.7976 | test_RMSE 14.1398 \n"
     ]
    },
    {
     "name": "stderr",
     "output_type": "stream",
     "text": [
      "  4%|█▋                                       | 80/2000 [00:12<04:56,  6.48it/s]"
     ]
    },
    {
     "name": "stdout",
     "output_type": "stream",
     "text": [
      "18610\n",
      "75422\n",
      "Epoch 00078 | Loss 210.2351 | train_RMSE 13.6175 | test_RMSE 13.9534 \n",
      "18610\n",
      "75422\n",
      "Epoch 00079 | Loss 205.4908 | train_RMSE 13.4551 | test_RMSE 13.7839 \n"
     ]
    },
    {
     "name": "stderr",
     "output_type": "stream",
     "text": [
      "  4%|█▋                                       | 82/2000 [00:13<04:56,  6.48it/s]"
     ]
    },
    {
     "name": "stdout",
     "output_type": "stream",
     "text": [
      "18610\n",
      "75422\n",
      "Epoch 00080 | Loss 200.8473 | train_RMSE 13.2661 | test_RMSE 13.5887 \n",
      "18610\n",
      "75422\n",
      "Epoch 00081 | Loss 196.7137 | train_RMSE 13.0387 | test_RMSE 13.3561 \n"
     ]
    },
    {
     "name": "stderr",
     "output_type": "stream",
     "text": [
      "  4%|█▋                                       | 84/2000 [00:13<04:55,  6.49it/s]"
     ]
    },
    {
     "name": "stdout",
     "output_type": "stream",
     "text": [
      "18610\n",
      "75422\n",
      "Epoch 00082 | Loss 191.0308 | train_RMSE 12.8116 | test_RMSE 13.1238 \n",
      "18610\n",
      "75422\n",
      "Epoch 00083 | Loss 184.1184 | train_RMSE 12.6062 | test_RMSE 12.9122 \n"
     ]
    },
    {
     "name": "stderr",
     "output_type": "stream",
     "text": [
      "  4%|█▊                                       | 86/2000 [00:13<04:55,  6.48it/s]"
     ]
    },
    {
     "name": "stdout",
     "output_type": "stream",
     "text": [
      "18610\n",
      "75422\n",
      "Epoch 00084 | Loss 179.1794 | train_RMSE 12.3998 | test_RMSE 12.6991 \n",
      "18610\n",
      "75422\n",
      "Epoch 00085 | Loss 174.8726 | train_RMSE 12.1754 | test_RMSE 12.4682 \n"
     ]
    },
    {
     "name": "stderr",
     "output_type": "stream",
     "text": [
      "  4%|█▊                                       | 88/2000 [00:14<04:55,  6.48it/s]"
     ]
    },
    {
     "name": "stdout",
     "output_type": "stream",
     "text": [
      "18610\n",
      "75422\n",
      "Epoch 00086 | Loss 168.2679 | train_RMSE 11.9598 | test_RMSE 12.2456 \n",
      "18610\n",
      "75422\n",
      "Epoch 00087 | Loss 163.8720 | train_RMSE 11.7636 | test_RMSE 12.0420 \n"
     ]
    },
    {
     "name": "stderr",
     "output_type": "stream",
     "text": [
      "  4%|█▊                                       | 90/2000 [00:14<04:55,  6.47it/s]"
     ]
    },
    {
     "name": "stdout",
     "output_type": "stream",
     "text": [
      "18610\n",
      "75422\n",
      "Epoch 00088 | Loss 158.0965 | train_RMSE 11.5512 | test_RMSE 11.8230 \n",
      "18610\n",
      "75422\n",
      "Epoch 00089 | Loss 153.3256 | train_RMSE 11.3087 | test_RMSE 11.5750 \n"
     ]
    },
    {
     "name": "stderr",
     "output_type": "stream",
     "text": [
      "  5%|█▉                                       | 92/2000 [00:14<04:54,  6.48it/s]"
     ]
    },
    {
     "name": "stdout",
     "output_type": "stream",
     "text": [
      "18610\n",
      "75422\n",
      "Epoch 00090 | Loss 147.5743 | train_RMSE 11.0699 | test_RMSE 11.3309 \n",
      "18610\n",
      "75422\n",
      "Epoch 00091 | Loss 142.7633 | train_RMSE 10.8477 | test_RMSE 11.1028 \n"
     ]
    },
    {
     "name": "stderr",
     "output_type": "stream",
     "text": [
      "  5%|█▉                                       | 94/2000 [00:15<04:54,  6.47it/s]"
     ]
    },
    {
     "name": "stdout",
     "output_type": "stream",
     "text": [
      "18610\n",
      "75422\n",
      "Epoch 00092 | Loss 137.9479 | train_RMSE 10.6158 | test_RMSE 10.8649 \n",
      "18610\n",
      "75422\n",
      "Epoch 00093 | Loss 133.9782 | train_RMSE 10.3894 | test_RMSE 10.6325 \n"
     ]
    },
    {
     "name": "stderr",
     "output_type": "stream",
     "text": [
      "  5%|█▉                                       | 96/2000 [00:15<04:54,  6.47it/s]"
     ]
    },
    {
     "name": "stdout",
     "output_type": "stream",
     "text": [
      "18610\n",
      "75422\n",
      "Epoch 00094 | Loss 127.8975 | train_RMSE 10.1939 | test_RMSE 10.4309 \n",
      "18610\n",
      "75422\n",
      "Epoch 00095 | Loss 124.1050 | train_RMSE 9.9781 | test_RMSE 10.2107 \n"
     ]
    },
    {
     "name": "stderr",
     "output_type": "stream",
     "text": [
      "  5%|██                                       | 98/2000 [00:15<04:54,  6.47it/s]"
     ]
    },
    {
     "name": "stdout",
     "output_type": "stream",
     "text": [
      "18610\n",
      "75422\n",
      "Epoch 00096 | Loss 120.4600 | train_RMSE 9.7631 | test_RMSE 9.9913 \n",
      "18610\n",
      "75422\n",
      "Epoch 00097 | Loss 116.9180 | train_RMSE 9.5796 | test_RMSE 9.8032 \n"
     ]
    },
    {
     "name": "stderr",
     "output_type": "stream",
     "text": [
      "\r",
      "  5%|██                                       | 99/2000 [00:15<04:53,  6.47it/s]"
     ]
    },
    {
     "name": "stdout",
     "output_type": "stream",
     "text": [
      "18610\n",
      "75422\n",
      "Epoch 00098 | Loss 113.0129 | train_RMSE 9.3901 | test_RMSE 9.6099 \n",
      "18610\n"
     ]
    },
    {
     "name": "stderr",
     "output_type": "stream",
     "text": [
      "  5%|██                                      | 101/2000 [00:16<04:58,  6.36it/s]"
     ]
    },
    {
     "name": "stdout",
     "output_type": "stream",
     "text": [
      "75422\n",
      "Epoch 00099 | Loss 108.3682 | train_RMSE 9.2328 | test_RMSE 9.4488 \n",
      "18610\n",
      "75422\n",
      "Epoch 00100 | Loss 106.0040 | train_RMSE 9.0856 | test_RMSE 9.2987 \n"
     ]
    },
    {
     "name": "stderr",
     "output_type": "stream",
     "text": [
      "  5%|██                                      | 103/2000 [00:16<04:55,  6.41it/s]"
     ]
    },
    {
     "name": "stdout",
     "output_type": "stream",
     "text": [
      "18610\n",
      "75422\n",
      "Epoch 00101 | Loss 103.3096 | train_RMSE 8.9201 | test_RMSE 9.1319 \n",
      "18610\n",
      "75422\n",
      "Epoch 00102 | Loss 101.1038 | train_RMSE 8.8000 | test_RMSE 9.0097 \n"
     ]
    },
    {
     "name": "stderr",
     "output_type": "stream",
     "text": [
      "  5%|██                                      | 105/2000 [00:16<04:53,  6.45it/s]"
     ]
    },
    {
     "name": "stdout",
     "output_type": "stream",
     "text": [
      "18610\n",
      "75422\n",
      "Epoch 00103 | Loss 99.6648 | train_RMSE 8.6750 | test_RMSE 8.8832 \n",
      "18610\n",
      "75422\n",
      "Epoch 00104 | Loss 96.7361 | train_RMSE 8.5991 | test_RMSE 8.8056 \n"
     ]
    },
    {
     "name": "stderr",
     "output_type": "stream",
     "text": [
      "  5%|██▏                                     | 107/2000 [00:17<04:53,  6.45it/s]"
     ]
    },
    {
     "name": "stdout",
     "output_type": "stream",
     "text": [
      "18610\n",
      "75422\n",
      "Epoch 00105 | Loss 95.1591 | train_RMSE 8.4949 | test_RMSE 8.7017 \n",
      "18610\n",
      "75422\n",
      "Epoch 00106 | Loss 93.4123 | train_RMSE 8.4298 | test_RMSE 8.6357 \n"
     ]
    },
    {
     "name": "stderr",
     "output_type": "stream",
     "text": [
      "  5%|██▏                                     | 109/2000 [00:17<04:52,  6.47it/s]"
     ]
    },
    {
     "name": "stdout",
     "output_type": "stream",
     "text": [
      "18610\n",
      "75422\n",
      "Epoch 00107 | Loss 92.8572 | train_RMSE 8.3649 | test_RMSE 8.5711 \n",
      "18610\n",
      "75422\n",
      "Epoch 00108 | Loss 92.1255 | train_RMSE 8.3348 | test_RMSE 8.5403 \n"
     ]
    },
    {
     "name": "stderr",
     "output_type": "stream",
     "text": [
      "  6%|██▏                                     | 111/2000 [00:17<04:52,  6.46it/s]"
     ]
    },
    {
     "name": "stdout",
     "output_type": "stream",
     "text": [
      "18610\n",
      "75422\n",
      "Epoch 00109 | Loss 91.0117 | train_RMSE 8.2803 | test_RMSE 8.4851 \n",
      "18610\n",
      "75422\n",
      "Epoch 00110 | Loss 89.5261 | train_RMSE 8.2333 | test_RMSE 8.4368 \n"
     ]
    },
    {
     "name": "stderr",
     "output_type": "stream",
     "text": [
      "  6%|██▎                                     | 113/2000 [00:18<04:51,  6.47it/s]"
     ]
    },
    {
     "name": "stdout",
     "output_type": "stream",
     "text": [
      "18610\n",
      "75422\n",
      "Epoch 00111 | Loss 88.9237 | train_RMSE 8.1883 | test_RMSE 8.3898 \n",
      "18610\n",
      "75422\n",
      "Epoch 00112 | Loss 88.4259 | train_RMSE 8.1491 | test_RMSE 8.3480 \n"
     ]
    },
    {
     "name": "stderr",
     "output_type": "stream",
     "text": [
      "  6%|██▎                                     | 115/2000 [00:18<04:51,  6.47it/s]"
     ]
    },
    {
     "name": "stdout",
     "output_type": "stream",
     "text": [
      "18610\n",
      "75422\n",
      "Epoch 00113 | Loss 86.9591 | train_RMSE 8.0911 | test_RMSE 8.2876 \n",
      "18610\n",
      "75422\n",
      "Epoch 00114 | Loss 86.9096 | train_RMSE 8.0188 | test_RMSE 8.2133 \n"
     ]
    },
    {
     "name": "stderr",
     "output_type": "stream",
     "text": [
      "  6%|██▎                                     | 117/2000 [00:18<04:50,  6.47it/s]"
     ]
    },
    {
     "name": "stdout",
     "output_type": "stream",
     "text": [
      "18610\n",
      "75422\n",
      "Epoch 00115 | Loss 85.2775 | train_RMSE 7.9575 | test_RMSE 8.1499 \n",
      "18610\n",
      "75422\n",
      "Epoch 00116 | Loss 84.1985 | train_RMSE 7.9070 | test_RMSE 8.0971 \n"
     ]
    },
    {
     "name": "stderr",
     "output_type": "stream",
     "text": [
      "  6%|██▍                                     | 119/2000 [00:18<04:49,  6.49it/s]"
     ]
    },
    {
     "name": "stdout",
     "output_type": "stream",
     "text": [
      "18610\n",
      "75422\n",
      "Epoch 00117 | Loss 83.2122 | train_RMSE 7.8528 | test_RMSE 8.0405 \n",
      "18610\n",
      "75422\n",
      "Epoch 00118 | Loss 82.5628 | train_RMSE 7.7915 | test_RMSE 7.9764 \n"
     ]
    },
    {
     "name": "stderr",
     "output_type": "stream",
     "text": [
      "  6%|██▍                                     | 121/2000 [00:19<04:49,  6.49it/s]"
     ]
    },
    {
     "name": "stdout",
     "output_type": "stream",
     "text": [
      "18610\n",
      "75422\n",
      "Epoch 00119 | Loss 81.3816 | train_RMSE 7.7368 | test_RMSE 7.9186 \n",
      "18610\n",
      "75422\n",
      "Epoch 00120 | Loss 80.3081 | train_RMSE 7.6836 | test_RMSE 7.8623 \n"
     ]
    },
    {
     "name": "stderr",
     "output_type": "stream",
     "text": [
      "  6%|██▍                                     | 123/2000 [00:19<04:48,  6.50it/s]"
     ]
    },
    {
     "name": "stdout",
     "output_type": "stream",
     "text": [
      "18610\n",
      "75422\n",
      "Epoch 00121 | Loss 78.9061 | train_RMSE 7.6276 | test_RMSE 7.8031 \n",
      "18610\n",
      "75422\n",
      "Epoch 00122 | Loss 78.4427 | train_RMSE 7.5620 | test_RMSE 7.7348 \n"
     ]
    },
    {
     "name": "stderr",
     "output_type": "stream",
     "text": [
      "  6%|██▌                                     | 125/2000 [00:19<04:48,  6.50it/s]"
     ]
    },
    {
     "name": "stdout",
     "output_type": "stream",
     "text": [
      "18610\n",
      "75422\n",
      "Epoch 00123 | Loss 77.8830 | train_RMSE 7.5038 | test_RMSE 7.6747 \n",
      "18610\n",
      "75422\n",
      "Epoch 00124 | Loss 77.1501 | train_RMSE 7.4504 | test_RMSE 7.6199 \n"
     ]
    },
    {
     "name": "stderr",
     "output_type": "stream",
     "text": [
      "  6%|██▌                                     | 127/2000 [00:20<04:47,  6.50it/s]"
     ]
    },
    {
     "name": "stdout",
     "output_type": "stream",
     "text": [
      "18610\n",
      "75422\n",
      "Epoch 00125 | Loss 75.9418 | train_RMSE 7.3937 | test_RMSE 7.5624 \n",
      "18610\n",
      "75422\n",
      "Epoch 00126 | Loss 74.7874 | train_RMSE 7.3355 | test_RMSE 7.5035 \n"
     ]
    },
    {
     "name": "stderr",
     "output_type": "stream",
     "text": [
      "  6%|██▌                                     | 129/2000 [00:20<04:47,  6.51it/s]"
     ]
    },
    {
     "name": "stdout",
     "output_type": "stream",
     "text": [
      "18610\n",
      "75422\n",
      "Epoch 00127 | Loss 74.2268 | train_RMSE 7.2813 | test_RMSE 7.4479 \n",
      "18610\n",
      "75422\n",
      "Epoch 00128 | Loss 73.0444 | train_RMSE 7.2295 | test_RMSE 7.3936 \n"
     ]
    },
    {
     "name": "stderr",
     "output_type": "stream",
     "text": [
      "  7%|██▌                                     | 131/2000 [00:20<04:47,  6.51it/s]"
     ]
    },
    {
     "name": "stdout",
     "output_type": "stream",
     "text": [
      "18610\n",
      "75422\n",
      "Epoch 00129 | Loss 72.9161 | train_RMSE 7.1720 | test_RMSE 7.3334 \n",
      "18610\n",
      "75422\n",
      "Epoch 00130 | Loss 71.7627 | train_RMSE 7.1160 | test_RMSE 7.2745 \n"
     ]
    },
    {
     "name": "stderr",
     "output_type": "stream",
     "text": [
      "  7%|██▋                                     | 133/2000 [00:21<04:46,  6.51it/s]"
     ]
    },
    {
     "name": "stdout",
     "output_type": "stream",
     "text": [
      "18610\n",
      "75422\n",
      "Epoch 00131 | Loss 70.5977 | train_RMSE 7.0599 | test_RMSE 7.2155 \n",
      "18610\n",
      "75422\n",
      "Epoch 00132 | Loss 69.9531 | train_RMSE 7.0032 | test_RMSE 7.1561 \n"
     ]
    },
    {
     "name": "stderr",
     "output_type": "stream",
     "text": [
      "  7%|██▋                                     | 135/2000 [00:21<04:46,  6.51it/s]"
     ]
    },
    {
     "name": "stdout",
     "output_type": "stream",
     "text": [
      "18610\n",
      "75422\n",
      "Epoch 00133 | Loss 69.0943 | train_RMSE 6.9394 | test_RMSE 7.0896 \n",
      "18610\n",
      "75422\n",
      "Epoch 00134 | Loss 67.9553 | train_RMSE 6.8757 | test_RMSE 7.0233 \n"
     ]
    },
    {
     "name": "stderr",
     "output_type": "stream",
     "text": [
      "  7%|██▋                                     | 137/2000 [00:21<04:46,  6.50it/s]"
     ]
    },
    {
     "name": "stdout",
     "output_type": "stream",
     "text": [
      "18610\n",
      "75422\n",
      "Epoch 00135 | Loss 67.2429 | train_RMSE 6.8127 | test_RMSE 6.9576 \n",
      "18610\n",
      "75422\n",
      "Epoch 00136 | Loss 66.9415 | train_RMSE 6.7369 | test_RMSE 6.8802 \n"
     ]
    },
    {
     "name": "stderr",
     "output_type": "stream",
     "text": [
      "  7%|██▊                                     | 139/2000 [00:22<04:46,  6.50it/s]"
     ]
    },
    {
     "name": "stdout",
     "output_type": "stream",
     "text": [
      "18610\n",
      "75422\n",
      "Epoch 00137 | Loss 65.3544 | train_RMSE 6.6607 | test_RMSE 6.8029 \n",
      "18610\n",
      "75422\n",
      "Epoch 00138 | Loss 64.1137 | train_RMSE 6.5834 | test_RMSE 6.7242 \n"
     ]
    },
    {
     "name": "stderr",
     "output_type": "stream",
     "text": [
      "  7%|██▊                                     | 141/2000 [00:22<04:46,  6.50it/s]"
     ]
    },
    {
     "name": "stdout",
     "output_type": "stream",
     "text": [
      "18610\n",
      "75422\n",
      "Epoch 00139 | Loss 63.4045 | train_RMSE 6.5031 | test_RMSE 6.6426 \n",
      "18610\n",
      "75422\n",
      "Epoch 00140 | Loss 61.7867 | train_RMSE 6.4237 | test_RMSE 6.5600 \n"
     ]
    },
    {
     "name": "stderr",
     "output_type": "stream",
     "text": [
      "  7%|██▊                                     | 143/2000 [00:22<04:45,  6.51it/s]"
     ]
    },
    {
     "name": "stdout",
     "output_type": "stream",
     "text": [
      "18610\n",
      "75422\n",
      "Epoch 00141 | Loss 60.6970 | train_RMSE 6.3347 | test_RMSE 6.4682 \n",
      "18610\n",
      "75422\n",
      "Epoch 00142 | Loss 59.9553 | train_RMSE 6.2476 | test_RMSE 6.3779 \n"
     ]
    },
    {
     "name": "stderr",
     "output_type": "stream",
     "text": [
      "  7%|██▉                                     | 145/2000 [00:22<04:45,  6.50it/s]"
     ]
    },
    {
     "name": "stdout",
     "output_type": "stream",
     "text": [
      "18610\n",
      "75422\n",
      "Epoch 00143 | Loss 59.0392 | train_RMSE 6.1571 | test_RMSE 6.2855 \n",
      "18610\n",
      "75422\n",
      "Epoch 00144 | Loss 58.3181 | train_RMSE 6.0612 | test_RMSE 6.1875 \n"
     ]
    },
    {
     "name": "stderr",
     "output_type": "stream",
     "text": [
      "  7%|██▉                                     | 147/2000 [00:23<04:45,  6.49it/s]"
     ]
    },
    {
     "name": "stdout",
     "output_type": "stream",
     "text": [
      "18610\n",
      "75422\n",
      "Epoch 00145 | Loss 57.1330 | train_RMSE 5.9650 | test_RMSE 6.0877 \n",
      "18610\n",
      "75422\n",
      "Epoch 00146 | Loss 55.7568 | train_RMSE 5.8587 | test_RMSE 5.9794 \n"
     ]
    },
    {
     "name": "stderr",
     "output_type": "stream",
     "text": [
      "  7%|██▉                                     | 149/2000 [00:23<04:44,  6.50it/s]"
     ]
    },
    {
     "name": "stdout",
     "output_type": "stream",
     "text": [
      "18610\n",
      "75422\n",
      "Epoch 00147 | Loss 54.9067 | train_RMSE 5.7524 | test_RMSE 5.8714 \n",
      "18610\n",
      "75422\n",
      "Epoch 00148 | Loss 53.4046 | train_RMSE 5.6619 | test_RMSE 5.7769 \n"
     ]
    },
    {
     "name": "stderr",
     "output_type": "stream",
     "text": [
      "  8%|███                                     | 151/2000 [00:23<04:44,  6.50it/s]"
     ]
    },
    {
     "name": "stdout",
     "output_type": "stream",
     "text": [
      "18610\n",
      "75422\n",
      "Epoch 00149 | Loss 52.3903 | train_RMSE 5.5618 | test_RMSE 5.6767 \n",
      "18610\n",
      "75422\n",
      "Epoch 00150 | Loss 51.4962 | train_RMSE 5.4708 | test_RMSE 5.5797 \n"
     ]
    },
    {
     "name": "stderr",
     "output_type": "stream",
     "text": [
      "  8%|███                                     | 153/2000 [00:24<04:44,  6.49it/s]"
     ]
    },
    {
     "name": "stdout",
     "output_type": "stream",
     "text": [
      "18610\n",
      "75422\n",
      "Epoch 00151 | Loss 50.3875 | train_RMSE 5.3666 | test_RMSE 5.4742 \n",
      "18610\n",
      "75422\n",
      "Epoch 00152 | Loss 49.8542 | train_RMSE 5.2742 | test_RMSE 5.3788 \n"
     ]
    },
    {
     "name": "stderr",
     "output_type": "stream",
     "text": [
      "  8%|███                                     | 155/2000 [00:24<04:44,  6.49it/s]"
     ]
    },
    {
     "name": "stdout",
     "output_type": "stream",
     "text": [
      "18610\n",
      "75422\n",
      "Epoch 00153 | Loss 49.2252 | train_RMSE 5.2039 | test_RMSE 5.3044 \n",
      "18610\n",
      "75422\n",
      "Epoch 00154 | Loss 47.9758 | train_RMSE 5.1160 | test_RMSE 5.2168 \n"
     ]
    },
    {
     "name": "stderr",
     "output_type": "stream",
     "text": [
      "  8%|███▏                                    | 157/2000 [00:24<04:44,  6.48it/s]"
     ]
    },
    {
     "name": "stdout",
     "output_type": "stream",
     "text": [
      "18610\n",
      "75422\n",
      "Epoch 00155 | Loss 47.2948 | train_RMSE 5.0400 | test_RMSE 5.1355 \n",
      "18610\n",
      "75422\n",
      "Epoch 00156 | Loss 46.5265 | train_RMSE 4.9525 | test_RMSE 5.0481 \n"
     ]
    },
    {
     "name": "stderr",
     "output_type": "stream",
     "text": [
      "  8%|███▏                                    | 159/2000 [00:25<04:43,  6.50it/s]"
     ]
    },
    {
     "name": "stdout",
     "output_type": "stream",
     "text": [
      "18610\n",
      "75422\n",
      "Epoch 00157 | Loss 46.2955 | train_RMSE 4.8792 | test_RMSE 4.9749 \n",
      "18610\n",
      "75422\n",
      "Epoch 00158 | Loss 45.7423 | train_RMSE 4.8338 | test_RMSE 4.9244 \n"
     ]
    },
    {
     "name": "stderr",
     "output_type": "stream",
     "text": [
      "  8%|███▏                                    | 161/2000 [00:25<04:43,  6.49it/s]"
     ]
    },
    {
     "name": "stdout",
     "output_type": "stream",
     "text": [
      "18610\n",
      "75422\n",
      "Epoch 00159 | Loss 44.8364 | train_RMSE 4.7764 | test_RMSE 4.8689 \n",
      "18610\n",
      "75422\n",
      "Epoch 00160 | Loss 44.5325 | train_RMSE 4.7391 | test_RMSE 4.8252 \n"
     ]
    },
    {
     "name": "stderr",
     "output_type": "stream",
     "text": [
      "  8%|███▎                                    | 163/2000 [00:25<04:42,  6.50it/s]"
     ]
    },
    {
     "name": "stdout",
     "output_type": "stream",
     "text": [
      "18610\n",
      "75422\n",
      "Epoch 00161 | Loss 43.5149 | train_RMSE 4.6671 | test_RMSE 4.7567 \n",
      "18610\n",
      "75422\n",
      "Epoch 00162 | Loss 43.1257 | train_RMSE 4.6053 | test_RMSE 4.6943 \n"
     ]
    },
    {
     "name": "stderr",
     "output_type": "stream",
     "text": [
      "  8%|███▎                                    | 165/2000 [00:26<04:42,  6.50it/s]"
     ]
    },
    {
     "name": "stdout",
     "output_type": "stream",
     "text": [
      "18610\n",
      "75422\n",
      "Epoch 00163 | Loss 42.5523 | train_RMSE 4.5506 | test_RMSE 4.6391 \n",
      "18610\n",
      "75422\n",
      "Epoch 00164 | Loss 41.9041 | train_RMSE 4.5011 | test_RMSE 4.5892 \n"
     ]
    },
    {
     "name": "stderr",
     "output_type": "stream",
     "text": [
      "  8%|███▎                                    | 167/2000 [00:26<04:42,  6.49it/s]"
     ]
    },
    {
     "name": "stdout",
     "output_type": "stream",
     "text": [
      "18610\n",
      "75422\n",
      "Epoch 00165 | Loss 41.7832 | train_RMSE 4.4648 | test_RMSE 4.5499 \n",
      "18610\n",
      "75422\n",
      "Epoch 00166 | Loss 41.5091 | train_RMSE 4.4228 | test_RMSE 4.5059 \n"
     ]
    },
    {
     "name": "stderr",
     "output_type": "stream",
     "text": [
      "  8%|███▍                                    | 169/2000 [00:26<04:41,  6.50it/s]"
     ]
    },
    {
     "name": "stdout",
     "output_type": "stream",
     "text": [
      "18610\n",
      "75422\n",
      "Epoch 00167 | Loss 40.9717 | train_RMSE 4.3866 | test_RMSE 4.4702 \n",
      "18610\n",
      "75422\n",
      "Epoch 00168 | Loss 40.5234 | train_RMSE 4.3814 | test_RMSE 4.4587 \n"
     ]
    },
    {
     "name": "stderr",
     "output_type": "stream",
     "text": [
      "  9%|███▍                                    | 171/2000 [00:26<04:40,  6.52it/s]"
     ]
    },
    {
     "name": "stdout",
     "output_type": "stream",
     "text": [
      "18610\n",
      "75422\n",
      "Epoch 00169 | Loss 40.5978 | train_RMSE 4.3405 | test_RMSE 4.4244 \n",
      "18610\n",
      "75422\n",
      "Epoch 00170 | Loss 40.1681 | train_RMSE 4.3260 | test_RMSE 4.4005 \n"
     ]
    },
    {
     "name": "stderr",
     "output_type": "stream",
     "text": [
      "  9%|███▍                                    | 173/2000 [00:27<04:40,  6.50it/s]"
     ]
    },
    {
     "name": "stdout",
     "output_type": "stream",
     "text": [
      "18610\n",
      "75422\n",
      "Epoch 00171 | Loss 39.5092 | train_RMSE 4.2638 | test_RMSE 4.3450 \n",
      "18610\n",
      "75422\n",
      "Epoch 00172 | Loss 39.2521 | train_RMSE 4.2328 | test_RMSE 4.3071 \n"
     ]
    },
    {
     "name": "stderr",
     "output_type": "stream",
     "text": [
      "  9%|███▌                                    | 175/2000 [00:27<04:40,  6.50it/s]"
     ]
    },
    {
     "name": "stdout",
     "output_type": "stream",
     "text": [
      "18610\n",
      "75422\n",
      "Epoch 00173 | Loss 38.6784 | train_RMSE 4.1795 | test_RMSE 4.2535 \n",
      "18610\n",
      "75422\n",
      "Epoch 00174 | Loss 38.3907 | train_RMSE 4.1456 | test_RMSE 4.2193 \n"
     ]
    },
    {
     "name": "stderr",
     "output_type": "stream",
     "text": [
      "  9%|███▌                                    | 177/2000 [00:27<04:39,  6.53it/s]"
     ]
    },
    {
     "name": "stdout",
     "output_type": "stream",
     "text": [
      "18610\n",
      "75422\n",
      "Epoch 00175 | Loss 38.1196 | train_RMSE 4.1652 | test_RMSE 4.2301 \n",
      "18610\n",
      "75422\n",
      "Epoch 00176 | Loss 38.5622 | train_RMSE 4.1153 | test_RMSE 4.1875 \n"
     ]
    },
    {
     "name": "stderr",
     "output_type": "stream",
     "text": [
      "  9%|███▌                                    | 179/2000 [00:28<04:38,  6.53it/s]"
     ]
    },
    {
     "name": "stdout",
     "output_type": "stream",
     "text": [
      "18610\n",
      "75422\n",
      "Epoch 00177 | Loss 38.2035 | train_RMSE 4.1087 | test_RMSE 4.1690 \n",
      "18610\n",
      "75422\n",
      "Epoch 00178 | Loss 38.1113 | train_RMSE 4.0115 | test_RMSE 4.0776 \n"
     ]
    },
    {
     "name": "stderr",
     "output_type": "stream",
     "text": [
      "  9%|███▌                                    | 181/2000 [00:28<04:37,  6.56it/s]"
     ]
    },
    {
     "name": "stdout",
     "output_type": "stream",
     "text": [
      "18610\n",
      "75422\n",
      "Epoch 00179 | Loss 37.1129 | train_RMSE 3.9689 | test_RMSE 4.0314 \n",
      "18610\n",
      "75422\n",
      "Epoch 00180 | Loss 37.4862 | train_RMSE 3.9831 | test_RMSE 4.0397 \n"
     ]
    },
    {
     "name": "stderr",
     "output_type": "stream",
     "text": [
      "  9%|███▋                                    | 183/2000 [00:28<04:39,  6.51it/s]"
     ]
    },
    {
     "name": "stdout",
     "output_type": "stream",
     "text": [
      "18610\n",
      "75422\n",
      "Epoch 00181 | Loss 36.7732 | train_RMSE 3.9435 | test_RMSE 4.0043 \n",
      "18610\n",
      "75422\n",
      "Epoch 00182 | Loss 36.3418 | train_RMSE 3.9304 | test_RMSE 3.9847 \n"
     ]
    },
    {
     "name": "stderr",
     "output_type": "stream",
     "text": [
      "  9%|███▋                                    | 185/2000 [00:29<04:37,  6.54it/s]"
     ]
    },
    {
     "name": "stdout",
     "output_type": "stream",
     "text": [
      "18610\n",
      "75422\n",
      "Epoch 00183 | Loss 36.0822 | train_RMSE 3.8929 | test_RMSE 3.9486 \n",
      "18610\n",
      "75422\n",
      "Epoch 00184 | Loss 36.1107 | train_RMSE 3.8628 | test_RMSE 3.9177 \n"
     ]
    },
    {
     "name": "stderr",
     "output_type": "stream",
     "text": [
      "  9%|███▋                                    | 187/2000 [00:29<04:38,  6.51it/s]"
     ]
    },
    {
     "name": "stdout",
     "output_type": "stream",
     "text": [
      "18610\n",
      "75422\n",
      "Epoch 00185 | Loss 35.8628 | train_RMSE 3.8641 | test_RMSE 3.9129 \n",
      "18610\n",
      "75422\n",
      "Epoch 00186 | Loss 35.3676 | train_RMSE 3.8129 | test_RMSE 3.8646 \n"
     ]
    },
    {
     "name": "stderr",
     "output_type": "stream",
     "text": [
      "  9%|███▊                                    | 189/2000 [00:29<04:39,  6.49it/s]"
     ]
    },
    {
     "name": "stdout",
     "output_type": "stream",
     "text": [
      "18610\n",
      "75422\n",
      "Epoch 00187 | Loss 35.2339 | train_RMSE 3.8167 | test_RMSE 3.8621 \n",
      "18610\n",
      "75422\n",
      "Epoch 00188 | Loss 34.6382 | train_RMSE 3.7761 | test_RMSE 3.8249 \n"
     ]
    },
    {
     "name": "stderr",
     "output_type": "stream",
     "text": [
      " 10%|███▊                                    | 191/2000 [00:30<04:37,  6.52it/s]"
     ]
    },
    {
     "name": "stdout",
     "output_type": "stream",
     "text": [
      "18610\n",
      "75422\n",
      "Epoch 00189 | Loss 34.7404 | train_RMSE 3.7651 | test_RMSE 3.8100 \n",
      "18610\n",
      "75422\n",
      "Epoch 00190 | Loss 34.3442 | train_RMSE 3.7444 | test_RMSE 3.7864 \n"
     ]
    },
    {
     "name": "stderr",
     "output_type": "stream",
     "text": [
      " 10%|███▊                                    | 193/2000 [00:30<04:36,  6.53it/s]"
     ]
    },
    {
     "name": "stdout",
     "output_type": "stream",
     "text": [
      "18610\n",
      "75422\n",
      "Epoch 00191 | Loss 34.2869 | train_RMSE 3.7170 | test_RMSE 3.7602 \n",
      "18610\n",
      "75422\n",
      "Epoch 00192 | Loss 34.4439 | train_RMSE 3.7689 | test_RMSE 3.8031 \n"
     ]
    },
    {
     "name": "stderr",
     "output_type": "stream",
     "text": [
      " 10%|███▉                                    | 195/2000 [00:30<04:34,  6.57it/s]"
     ]
    },
    {
     "name": "stdout",
     "output_type": "stream",
     "text": [
      "18610\n",
      "75422\n",
      "Epoch 00193 | Loss 34.4341 | train_RMSE 3.7450 | test_RMSE 3.7882 \n",
      "18610\n",
      "75422\n",
      "Epoch 00194 | Loss 34.2985 | train_RMSE 3.7703 | test_RMSE 3.8016 \n"
     ]
    },
    {
     "name": "stderr",
     "output_type": "stream",
     "text": [
      " 10%|███▉                                    | 197/2000 [00:30<04:36,  6.52it/s]"
     ]
    },
    {
     "name": "stdout",
     "output_type": "stream",
     "text": [
      "18610\n",
      "75422\n",
      "Epoch 00195 | Loss 33.7504 | train_RMSE 3.6928 | test_RMSE 3.7328 \n",
      "18610\n",
      "75422\n",
      "Epoch 00196 | Loss 33.4774 | train_RMSE 3.6619 | test_RMSE 3.6966 \n"
     ]
    },
    {
     "name": "stderr",
     "output_type": "stream",
     "text": [
      " 10%|███▉                                    | 199/2000 [00:31<04:36,  6.51it/s]"
     ]
    },
    {
     "name": "stdout",
     "output_type": "stream",
     "text": [
      "18610\n",
      "75422\n",
      "Epoch 00197 | Loss 33.2776 | train_RMSE 3.6301 | test_RMSE 3.6630 \n",
      "18610\n",
      "75422\n",
      "Epoch 00198 | Loss 32.9308 | train_RMSE 3.6190 | test_RMSE 3.6539 \n"
     ]
    },
    {
     "name": "stderr",
     "output_type": "stream",
     "text": [
      " 10%|████                                    | 201/2000 [00:31<04:34,  6.56it/s]"
     ]
    },
    {
     "name": "stdout",
     "output_type": "stream",
     "text": [
      "18610\n",
      "75422\n",
      "Epoch 00199 | Loss 32.9999 | train_RMSE 3.6910 | test_RMSE 3.7171 \n",
      "18610\n",
      "75422\n",
      "Epoch 00200 | Loss 33.4411 | train_RMSE 3.7003 | test_RMSE 3.7398 \n"
     ]
    },
    {
     "name": "stderr",
     "output_type": "stream",
     "text": [
      " 10%|████                                    | 203/2000 [00:31<04:33,  6.58it/s]"
     ]
    },
    {
     "name": "stdout",
     "output_type": "stream",
     "text": [
      "18610\n",
      "75422\n",
      "Epoch 00201 | Loss 33.8744 | train_RMSE 3.7533 | test_RMSE 3.7735 \n",
      "18610\n",
      "75422\n",
      "Epoch 00202 | Loss 33.6098 | train_RMSE 3.6452 | test_RMSE 3.6817 \n"
     ]
    },
    {
     "name": "stderr",
     "output_type": "stream",
     "text": [
      " 10%|████                                    | 205/2000 [00:32<04:33,  6.55it/s]"
     ]
    },
    {
     "name": "stdout",
     "output_type": "stream",
     "text": [
      "18610\n",
      "75422\n",
      "Epoch 00203 | Loss 33.1717 | train_RMSE 3.5913 | test_RMSE 3.6154 \n",
      "18610\n",
      "75422\n",
      "Epoch 00204 | Loss 32.6715 | train_RMSE 3.5366 | test_RMSE 3.5628 \n"
     ]
    },
    {
     "name": "stderr",
     "output_type": "stream",
     "text": [
      " 10%|████▏                                   | 207/2000 [00:32<04:33,  6.57it/s]"
     ]
    },
    {
     "name": "stdout",
     "output_type": "stream",
     "text": [
      "18610\n",
      "75422\n",
      "Epoch 00205 | Loss 32.3514 | train_RMSE 3.5372 | test_RMSE 3.5660 \n",
      "18610\n",
      "75422\n",
      "Epoch 00206 | Loss 32.5234 | train_RMSE 3.6266 | test_RMSE 3.6468 \n"
     ]
    },
    {
     "name": "stderr",
     "output_type": "stream",
     "text": [
      " 10%|████▏                                   | 209/2000 [00:32<04:31,  6.59it/s]"
     ]
    },
    {
     "name": "stdout",
     "output_type": "stream",
     "text": [
      "18610\n",
      "75422\n",
      "Epoch 00207 | Loss 32.7633 | train_RMSE 3.5891 | test_RMSE 3.6190 \n",
      "18610\n",
      "75422\n",
      "Epoch 00208 | Loss 33.0093 | train_RMSE 3.5983 | test_RMSE 3.6135 \n"
     ]
    },
    {
     "name": "stderr",
     "output_type": "stream",
     "text": [
      " 11%|████▏                                   | 211/2000 [00:33<04:34,  6.52it/s]"
     ]
    },
    {
     "name": "stdout",
     "output_type": "stream",
     "text": [
      "18610\n",
      "75422\n",
      "Epoch 00209 | Loss 32.1282 | train_RMSE 3.4957 | test_RMSE 3.5182 \n",
      "18610\n",
      "75422\n",
      "Epoch 00210 | Loss 31.6333 | train_RMSE 3.4627 | test_RMSE 3.4838 \n"
     ]
    },
    {
     "name": "stderr",
     "output_type": "stream",
     "text": [
      " 11%|████▎                                   | 213/2000 [00:33<04:34,  6.50it/s]"
     ]
    },
    {
     "name": "stdout",
     "output_type": "stream",
     "text": [
      "18610\n",
      "75422\n",
      "Epoch 00211 | Loss 31.6070 | train_RMSE 3.4490 | test_RMSE 3.4694 \n",
      "18610\n",
      "75422\n",
      "Epoch 00212 | Loss 31.4742 | train_RMSE 3.4365 | test_RMSE 3.4572 \n"
     ]
    },
    {
     "name": "stderr",
     "output_type": "stream",
     "text": [
      " 11%|████▎                                   | 215/2000 [00:33<04:33,  6.53it/s]"
     ]
    },
    {
     "name": "stdout",
     "output_type": "stream",
     "text": [
      "18610\n",
      "75422\n",
      "Epoch 00213 | Loss 31.1458 | train_RMSE 3.4502 | test_RMSE 3.4681 \n",
      "18610\n",
      "75422\n",
      "Epoch 00214 | Loss 31.3276 | train_RMSE 3.4540 | test_RMSE 3.4732 \n"
     ]
    },
    {
     "name": "stderr",
     "output_type": "stream",
     "text": [
      " 11%|████▎                                   | 217/2000 [00:34<04:33,  6.52it/s]"
     ]
    },
    {
     "name": "stdout",
     "output_type": "stream",
     "text": [
      "18610\n",
      "75422\n",
      "Epoch 00215 | Loss 31.2794 | train_RMSE 3.4695 | test_RMSE 3.4839 \n",
      "18610\n",
      "75422\n",
      "Epoch 00216 | Loss 31.0918 | train_RMSE 3.4140 | test_RMSE 3.4345 \n"
     ]
    },
    {
     "name": "stderr",
     "output_type": "stream",
     "text": [
      " 11%|████▍                                   | 219/2000 [00:34<04:31,  6.55it/s]"
     ]
    },
    {
     "name": "stdout",
     "output_type": "stream",
     "text": [
      "18610\n",
      "75422\n",
      "Epoch 00217 | Loss 30.9728 | train_RMSE 3.4023 | test_RMSE 3.4173 \n",
      "18610\n",
      "75422\n",
      "Epoch 00218 | Loss 31.1006 | train_RMSE 3.3776 | test_RMSE 3.3927 \n"
     ]
    },
    {
     "name": "stderr",
     "output_type": "stream",
     "text": [
      " 11%|████▍                                   | 221/2000 [00:34<04:32,  6.54it/s]"
     ]
    },
    {
     "name": "stdout",
     "output_type": "stream",
     "text": [
      "18610\n",
      "75422\n",
      "Epoch 00219 | Loss 30.9977 | train_RMSE 3.3857 | test_RMSE 3.4014 \n",
      "18610\n",
      "75422\n",
      "Epoch 00220 | Loss 30.8046 | train_RMSE 3.4175 | test_RMSE 3.4285 \n"
     ]
    },
    {
     "name": "stderr",
     "output_type": "stream",
     "text": [
      " 11%|████▍                                   | 223/2000 [00:34<04:32,  6.53it/s]"
     ]
    },
    {
     "name": "stdout",
     "output_type": "stream",
     "text": [
      "18610\n",
      "75422\n",
      "Epoch 00221 | Loss 30.9269 | train_RMSE 3.3886 | test_RMSE 3.4075 \n",
      "18610\n",
      "75422\n",
      "Epoch 00222 | Loss 30.7627 | train_RMSE 3.4116 | test_RMSE 3.4217 \n"
     ]
    },
    {
     "name": "stderr",
     "output_type": "stream",
     "text": [
      " 11%|████▌                                   | 225/2000 [00:35<04:31,  6.53it/s]"
     ]
    },
    {
     "name": "stdout",
     "output_type": "stream",
     "text": [
      "18610\n",
      "75422\n",
      "Epoch 00223 | Loss 30.9838 | train_RMSE 3.3830 | test_RMSE 3.4018 \n",
      "18610\n",
      "75422\n",
      "Epoch 00224 | Loss 30.7362 | train_RMSE 3.4373 | test_RMSE 3.4460 \n"
     ]
    },
    {
     "name": "stderr",
     "output_type": "stream",
     "text": [
      " 11%|████▌                                   | 227/2000 [00:35<04:29,  6.57it/s]"
     ]
    },
    {
     "name": "stdout",
     "output_type": "stream",
     "text": [
      "18610\n",
      "75422\n",
      "Epoch 00225 | Loss 30.9885 | train_RMSE 3.4190 | test_RMSE 3.4357 \n",
      "18610\n",
      "75422\n",
      "Epoch 00226 | Loss 30.9339 | train_RMSE 3.4783 | test_RMSE 3.4823 \n"
     ]
    },
    {
     "name": "stderr",
     "output_type": "stream",
     "text": [
      " 11%|████▌                                   | 229/2000 [00:35<04:28,  6.59it/s]"
     ]
    },
    {
     "name": "stdout",
     "output_type": "stream",
     "text": [
      "18610\n",
      "75422\n",
      "Epoch 00227 | Loss 31.1087 | train_RMSE 3.4402 | test_RMSE 3.4591 \n",
      "18610\n",
      "75422\n",
      "Epoch 00228 | Loss 31.3060 | train_RMSE 3.5095 | test_RMSE 3.5100 \n"
     ]
    },
    {
     "name": "stderr",
     "output_type": "stream",
     "text": [
      " 12%|████▌                                   | 231/2000 [00:36<04:28,  6.59it/s]"
     ]
    },
    {
     "name": "stdout",
     "output_type": "stream",
     "text": [
      "18610\n",
      "75422\n",
      "Epoch 00229 | Loss 30.9603 | train_RMSE 3.4340 | test_RMSE 3.4504 \n",
      "18610\n",
      "75422\n",
      "Epoch 00230 | Loss 30.9028 | train_RMSE 3.4599 | test_RMSE 3.4633 \n"
     ]
    },
    {
     "name": "stderr",
     "output_type": "stream",
     "text": [
      "\r",
      " 12%|████▋                                   | 232/2000 [00:36<04:35,  6.43it/s]"
     ]
    },
    {
     "name": "stdout",
     "output_type": "stream",
     "text": [
      "18610\n",
      "75422\n",
      "Epoch 00231 | Loss 30.6911 | train_RMSE 3.3474 | test_RMSE 3.3624 \n",
      "18610\n"
     ]
    },
    {
     "name": "stderr",
     "output_type": "stream",
     "text": [
      " 12%|████▋                                   | 234/2000 [00:36<04:36,  6.39it/s]"
     ]
    },
    {
     "name": "stdout",
     "output_type": "stream",
     "text": [
      "75422\n",
      "Epoch 00232 | Loss 30.3072 | train_RMSE 3.3578 | test_RMSE 3.3628 \n",
      "18610\n",
      "75422\n",
      "Epoch 00233 | Loss 30.2738 | train_RMSE 3.3059 | test_RMSE 3.3203 \n"
     ]
    },
    {
     "name": "stderr",
     "output_type": "stream",
     "text": [
      " 12%|████▋                                   | 236/2000 [00:36<04:34,  6.43it/s]"
     ]
    },
    {
     "name": "stdout",
     "output_type": "stream",
     "text": [
      "18610\n",
      "75422\n",
      "Epoch 00234 | Loss 30.0049 | train_RMSE 3.3152 | test_RMSE 3.3220 \n",
      "18610\n",
      "75422\n",
      "Epoch 00235 | Loss 29.9588 | train_RMSE 3.2762 | test_RMSE 3.2861 \n"
     ]
    },
    {
     "name": "stderr",
     "output_type": "stream",
     "text": [
      " 12%|████▊                                   | 238/2000 [00:37<04:31,  6.50it/s]"
     ]
    },
    {
     "name": "stdout",
     "output_type": "stream",
     "text": [
      "18610\n",
      "75422\n",
      "Epoch 00236 | Loss 29.3178 | train_RMSE 3.2706 | test_RMSE 3.2772 \n",
      "18610\n",
      "75422\n",
      "Epoch 00237 | Loss 29.8618 | train_RMSE 3.2490 | test_RMSE 3.2574 \n"
     ]
    },
    {
     "name": "stderr",
     "output_type": "stream",
     "text": [
      " 12%|████▊                                   | 240/2000 [00:37<04:30,  6.50it/s]"
     ]
    },
    {
     "name": "stdout",
     "output_type": "stream",
     "text": [
      "18610\n",
      "75422\n",
      "Epoch 00238 | Loss 29.3670 | train_RMSE 3.2583 | test_RMSE 3.2629 \n",
      "18610\n",
      "75422\n",
      "Epoch 00239 | Loss 29.0852 | train_RMSE 3.2478 | test_RMSE 3.2547 \n"
     ]
    },
    {
     "name": "stderr",
     "output_type": "stream",
     "text": [
      " 12%|████▊                                   | 242/2000 [00:37<04:28,  6.54it/s]"
     ]
    },
    {
     "name": "stdout",
     "output_type": "stream",
     "text": [
      "18610\n",
      "75422\n",
      "Epoch 00240 | Loss 29.4952 | train_RMSE 3.2479 | test_RMSE 3.2530 \n",
      "18610\n",
      "75422\n",
      "Epoch 00241 | Loss 29.5576 | train_RMSE 3.2557 | test_RMSE 3.2585 \n"
     ]
    },
    {
     "name": "stderr",
     "output_type": "stream",
     "text": [
      " 12%|████▉                                   | 244/2000 [00:38<04:30,  6.49it/s]"
     ]
    },
    {
     "name": "stdout",
     "output_type": "stream",
     "text": [
      "18610\n",
      "75422\n",
      "Epoch 00242 | Loss 29.0495 | train_RMSE 3.2543 | test_RMSE 3.2618 \n",
      "18610\n",
      "75422\n",
      "Epoch 00243 | Loss 29.3046 | train_RMSE 3.3817 | test_RMSE 3.3789 \n"
     ]
    },
    {
     "name": "stderr",
     "output_type": "stream",
     "text": [
      " 12%|████▉                                   | 246/2000 [00:38<04:28,  6.53it/s]"
     ]
    },
    {
     "name": "stdout",
     "output_type": "stream",
     "text": [
      "18610\n",
      "75422\n",
      "Epoch 00244 | Loss 30.0867 | train_RMSE 3.4166 | test_RMSE 3.4283 \n",
      "18610\n",
      "75422\n",
      "Epoch 00245 | Loss 30.8063 | train_RMSE 3.7042 | test_RMSE 3.6937 \n"
     ]
    },
    {
     "name": "stderr",
     "output_type": "stream",
     "text": [
      " 12%|████▉                                   | 248/2000 [00:38<04:26,  6.56it/s]"
     ]
    },
    {
     "name": "stdout",
     "output_type": "stream",
     "text": [
      "18610\n",
      "75422\n",
      "Epoch 00246 | Loss 31.7329 | train_RMSE 3.8131 | test_RMSE 3.8320 \n",
      "18610\n",
      "75422\n",
      "Epoch 00247 | Loss 33.6026 | train_RMSE 3.9832 | test_RMSE 3.9701 \n"
     ]
    },
    {
     "name": "stderr",
     "output_type": "stream",
     "text": [
      " 12%|█████                                   | 250/2000 [00:39<04:26,  6.58it/s]"
     ]
    },
    {
     "name": "stdout",
     "output_type": "stream",
     "text": [
      "18610\n",
      "75422\n",
      "Epoch 00248 | Loss 33.3143 | train_RMSE 3.5521 | test_RMSE 3.5679 \n",
      "18610\n",
      "75422\n",
      "Epoch 00249 | Loss 31.2336 | train_RMSE 3.2864 | test_RMSE 3.2910 \n"
     ]
    },
    {
     "name": "stderr",
     "output_type": "stream",
     "text": [
      " 13%|█████                                   | 252/2000 [00:39<04:26,  6.56it/s]"
     ]
    },
    {
     "name": "stdout",
     "output_type": "stream",
     "text": [
      "18610\n",
      "75422\n",
      "Epoch 00250 | Loss 29.0287 | train_RMSE 3.3751 | test_RMSE 3.3763 \n",
      "18610\n",
      "75422\n",
      "Epoch 00251 | Loss 29.4485 | train_RMSE 3.5472 | test_RMSE 3.5641 \n"
     ]
    },
    {
     "name": "stderr",
     "output_type": "stream",
     "text": [
      " 13%|█████                                   | 254/2000 [00:39<04:25,  6.57it/s]"
     ]
    },
    {
     "name": "stdout",
     "output_type": "stream",
     "text": [
      "18610\n",
      "75422\n",
      "Epoch 00252 | Loss 31.2351 | train_RMSE 3.6110 | test_RMSE 3.6042 \n",
      "18610\n",
      "75422\n",
      "Epoch 00253 | Loss 30.5919 | train_RMSE 3.2661 | test_RMSE 3.2756 \n"
     ]
    },
    {
     "name": "stderr",
     "output_type": "stream",
     "text": [
      " 13%|█████                                   | 256/2000 [00:39<04:26,  6.53it/s]"
     ]
    },
    {
     "name": "stdout",
     "output_type": "stream",
     "text": [
      "18610\n",
      "75422\n",
      "Epoch 00254 | Loss 29.2910 | train_RMSE 3.2176 | test_RMSE 3.2236 \n",
      "18610\n",
      "75422\n",
      "Epoch 00255 | Loss 28.8078 | train_RMSE 3.4677 | test_RMSE 3.4590 \n"
     ]
    },
    {
     "name": "stderr",
     "output_type": "stream",
     "text": [
      " 13%|█████▏                                  | 258/2000 [00:40<04:25,  6.56it/s]"
     ]
    },
    {
     "name": "stdout",
     "output_type": "stream",
     "text": [
      "18610\n",
      "75422\n",
      "Epoch 00256 | Loss 30.0355 | train_RMSE 3.4591 | test_RMSE 3.4744 \n",
      "18610\n",
      "75422\n",
      "Epoch 00257 | Loss 30.9975 | train_RMSE 3.3721 | test_RMSE 3.3682 \n"
     ]
    },
    {
     "name": "stderr",
     "output_type": "stream",
     "text": [
      " 13%|█████▏                                  | 260/2000 [00:40<04:26,  6.53it/s]"
     ]
    },
    {
     "name": "stdout",
     "output_type": "stream",
     "text": [
      "18610\n",
      "75422\n",
      "Epoch 00258 | Loss 29.6907 | train_RMSE 3.1466 | test_RMSE 3.1525 \n",
      "18610\n",
      "75422\n",
      "Epoch 00259 | Loss 28.6040 | train_RMSE 3.1921 | test_RMSE 3.2003 \n"
     ]
    },
    {
     "name": "stderr",
     "output_type": "stream",
     "text": [
      " 13%|█████▏                                  | 262/2000 [00:40<04:25,  6.55it/s]"
     ]
    },
    {
     "name": "stdout",
     "output_type": "stream",
     "text": [
      "18610\n",
      "75422\n",
      "Epoch 00260 | Loss 28.7602 | train_RMSE 3.3486 | test_RMSE 3.3429 \n",
      "18610\n",
      "75422\n",
      "Epoch 00261 | Loss 29.2865 | train_RMSE 3.2274 | test_RMSE 3.2368 \n"
     ]
    },
    {
     "name": "stderr",
     "output_type": "stream",
     "text": [
      " 13%|█████▎                                  | 264/2000 [00:41<04:25,  6.53it/s]"
     ]
    },
    {
     "name": "stdout",
     "output_type": "stream",
     "text": [
      "18610\n",
      "75422\n",
      "Epoch 00262 | Loss 29.0922 | train_RMSE 3.1532 | test_RMSE 3.1524 \n",
      "18610\n",
      "75422\n",
      "Epoch 00263 | Loss 28.2571 | train_RMSE 3.1553 | test_RMSE 3.1533 \n"
     ]
    },
    {
     "name": "stderr",
     "output_type": "stream",
     "text": [
      " 13%|█████▎                                  | 266/2000 [00:41<04:24,  6.55it/s]"
     ]
    },
    {
     "name": "stdout",
     "output_type": "stream",
     "text": [
      "18610\n",
      "75422\n",
      "Epoch 00264 | Loss 28.3184 | train_RMSE 3.2096 | test_RMSE 3.2195 \n",
      "18610\n",
      "75422\n",
      "Epoch 00265 | Loss 29.0506 | train_RMSE 3.3070 | test_RMSE 3.3000 \n"
     ]
    },
    {
     "name": "stderr",
     "output_type": "stream",
     "text": [
      " 13%|█████▎                                  | 268/2000 [00:41<04:23,  6.56it/s]"
     ]
    },
    {
     "name": "stdout",
     "output_type": "stream",
     "text": [
      "18610\n",
      "75422\n",
      "Epoch 00266 | Loss 29.3826 | train_RMSE 3.1406 | test_RMSE 3.1484 \n",
      "18610\n",
      "75422\n",
      "Epoch 00267 | Loss 28.5794 | train_RMSE 3.1016 | test_RMSE 3.1052 \n"
     ]
    },
    {
     "name": "stderr",
     "output_type": "stream",
     "text": [
      " 14%|█████▍                                  | 270/2000 [00:42<04:24,  6.54it/s]"
     ]
    },
    {
     "name": "stdout",
     "output_type": "stream",
     "text": [
      "18610\n",
      "75422\n",
      "Epoch 00268 | Loss 27.9080 | train_RMSE 3.2408 | test_RMSE 3.2360 \n",
      "18610\n",
      "75422\n",
      "Epoch 00269 | Loss 28.6875 | train_RMSE 3.1940 | test_RMSE 3.2049 \n"
     ]
    },
    {
     "name": "stderr",
     "output_type": "stream",
     "text": [
      " 14%|█████▍                                  | 272/2000 [00:42<04:23,  6.56it/s]"
     ]
    },
    {
     "name": "stdout",
     "output_type": "stream",
     "text": [
      "18610\n",
      "75422\n",
      "Epoch 00270 | Loss 28.6249 | train_RMSE 3.1656 | test_RMSE 3.1622 \n",
      "18610\n",
      "75422\n",
      "Epoch 00271 | Loss 28.0568 | train_RMSE 3.0816 | test_RMSE 3.0856 \n"
     ]
    },
    {
     "name": "stderr",
     "output_type": "stream",
     "text": [
      " 14%|█████▍                                  | 274/2000 [00:42<04:23,  6.55it/s]"
     ]
    },
    {
     "name": "stdout",
     "output_type": "stream",
     "text": [
      "18610\n",
      "75422\n",
      "Epoch 00272 | Loss 27.6859 | train_RMSE 3.0777 | test_RMSE 3.0834 \n",
      "18610\n",
      "75422\n",
      "Epoch 00273 | Loss 27.7752 | train_RMSE 3.1529 | test_RMSE 3.1500 \n"
     ]
    },
    {
     "name": "stderr",
     "output_type": "stream",
     "text": [
      " 14%|█████▌                                  | 276/2000 [00:43<04:22,  6.56it/s]"
     ]
    },
    {
     "name": "stdout",
     "output_type": "stream",
     "text": [
      "18610\n",
      "75422\n",
      "Epoch 00274 | Loss 28.0921 | train_RMSE 3.0918 | test_RMSE 3.0969 \n",
      "18610\n",
      "75422\n",
      "Epoch 00275 | Loss 27.9858 | train_RMSE 3.0678 | test_RMSE 3.0672 \n"
     ]
    },
    {
     "name": "stderr",
     "output_type": "stream",
     "text": [
      " 14%|█████▌                                  | 278/2000 [00:43<04:24,  6.50it/s]"
     ]
    },
    {
     "name": "stdout",
     "output_type": "stream",
     "text": [
      "18610\n",
      "75422\n",
      "Epoch 00276 | Loss 27.4006 | train_RMSE 3.0679 | test_RMSE 3.0671 \n",
      "18610\n",
      "75422\n",
      "Epoch 00277 | Loss 27.4271 | train_RMSE 3.0656 | test_RMSE 3.0729 \n"
     ]
    },
    {
     "name": "stderr",
     "output_type": "stream",
     "text": [
      " 14%|█████▌                                  | 280/2000 [00:43<04:22,  6.54it/s]"
     ]
    },
    {
     "name": "stdout",
     "output_type": "stream",
     "text": [
      "18610\n",
      "75422\n",
      "Epoch 00278 | Loss 27.8458 | train_RMSE 3.1353 | test_RMSE 3.1302 \n",
      "18610\n",
      "75422\n",
      "Epoch 00279 | Loss 27.8308 | train_RMSE 3.0751 | test_RMSE 3.0804 \n"
     ]
    },
    {
     "name": "stderr",
     "output_type": "stream",
     "text": [
      " 14%|█████▋                                  | 282/2000 [00:43<04:22,  6.55it/s]"
     ]
    },
    {
     "name": "stdout",
     "output_type": "stream",
     "text": [
      "18610\n",
      "75422\n",
      "Epoch 00280 | Loss 27.5585 | train_RMSE 3.0546 | test_RMSE 3.0526 \n",
      "18610\n",
      "75422\n",
      "Epoch 00281 | Loss 27.4401 | train_RMSE 3.0368 | test_RMSE 3.0361 \n"
     ]
    },
    {
     "name": "stderr",
     "output_type": "stream",
     "text": [
      " 14%|█████▋                                  | 284/2000 [00:44<04:22,  6.54it/s]"
     ]
    },
    {
     "name": "stdout",
     "output_type": "stream",
     "text": [
      "18610\n",
      "75422\n",
      "Epoch 00282 | Loss 27.3093 | train_RMSE 3.0361 | test_RMSE 3.0416 \n",
      "18610\n",
      "75422\n",
      "Epoch 00283 | Loss 27.5213 | train_RMSE 3.0945 | test_RMSE 3.0895 \n"
     ]
    },
    {
     "name": "stderr",
     "output_type": "stream",
     "text": [
      " 14%|█████▋                                  | 286/2000 [00:44<04:21,  6.55it/s]"
     ]
    },
    {
     "name": "stdout",
     "output_type": "stream",
     "text": [
      "18610\n",
      "75422\n",
      "Epoch 00284 | Loss 27.7476 | train_RMSE 3.0216 | test_RMSE 3.0243 \n",
      "18610\n",
      "75422\n",
      "Epoch 00285 | Loss 27.4609 | train_RMSE 3.0272 | test_RMSE 3.0254 \n"
     ]
    },
    {
     "name": "stderr",
     "output_type": "stream",
     "text": [
      " 14%|█████▊                                  | 288/2000 [00:44<04:23,  6.49it/s]"
     ]
    },
    {
     "name": "stdout",
     "output_type": "stream",
     "text": [
      "18610\n",
      "75422\n",
      "Epoch 00286 | Loss 27.1190 | train_RMSE 3.0152 | test_RMSE 3.0161 \n",
      "18610\n",
      "75422\n",
      "Epoch 00287 | Loss 26.9808 | train_RMSE 3.0104 | test_RMSE 3.0126 \n"
     ]
    },
    {
     "name": "stderr",
     "output_type": "stream",
     "text": [
      " 14%|█████▊                                  | 290/2000 [00:45<04:21,  6.54it/s]"
     ]
    },
    {
     "name": "stdout",
     "output_type": "stream",
     "text": [
      "18610\n",
      "75422\n",
      "Epoch 00288 | Loss 27.0776 | train_RMSE 3.0148 | test_RMSE 3.0129 \n",
      "18610\n",
      "75422\n",
      "Epoch 00289 | Loss 27.1806 | train_RMSE 2.9824 | test_RMSE 2.9838 \n"
     ]
    },
    {
     "name": "stderr",
     "output_type": "stream",
     "text": [
      " 15%|█████▊                                  | 292/2000 [00:45<04:21,  6.53it/s]"
     ]
    },
    {
     "name": "stdout",
     "output_type": "stream",
     "text": [
      "18610\n",
      "75422\n",
      "Epoch 00290 | Loss 26.7332 | train_RMSE 2.9815 | test_RMSE 2.9795 \n",
      "18610\n",
      "75422\n",
      "Epoch 00291 | Loss 27.1543 | train_RMSE 2.9691 | test_RMSE 2.9683 \n"
     ]
    },
    {
     "name": "stderr",
     "output_type": "stream",
     "text": [
      " 15%|█████▉                                  | 294/2000 [00:45<04:21,  6.51it/s]"
     ]
    },
    {
     "name": "stdout",
     "output_type": "stream",
     "text": [
      "18610\n",
      "75422\n",
      "Epoch 00292 | Loss 26.7831 | train_RMSE 2.9732 | test_RMSE 2.9704 \n",
      "18610\n",
      "75422\n",
      "Epoch 00293 | Loss 26.6298 | train_RMSE 2.9646 | test_RMSE 2.9618 \n"
     ]
    },
    {
     "name": "stderr",
     "output_type": "stream",
     "text": [
      " 15%|█████▉                                  | 296/2000 [00:46<04:20,  6.55it/s]"
     ]
    },
    {
     "name": "stdout",
     "output_type": "stream",
     "text": [
      "18610\n",
      "75422\n",
      "Epoch 00294 | Loss 26.8088 | train_RMSE 2.9605 | test_RMSE 2.9579 \n",
      "18610\n",
      "75422\n",
      "Epoch 00295 | Loss 26.9653 | train_RMSE 2.9592 | test_RMSE 2.9571 \n"
     ]
    },
    {
     "name": "stderr",
     "output_type": "stream",
     "text": [
      " 15%|█████▉                                  | 298/2000 [00:46<04:20,  6.52it/s]"
     ]
    },
    {
     "name": "stdout",
     "output_type": "stream",
     "text": [
      "18610\n",
      "75422\n",
      "Epoch 00296 | Loss 26.7948 | train_RMSE 2.9545 | test_RMSE 2.9538 \n",
      "18610\n",
      "75422\n",
      "Epoch 00297 | Loss 26.5369 | train_RMSE 2.9640 | test_RMSE 2.9634 \n"
     ]
    },
    {
     "name": "stderr",
     "output_type": "stream",
     "text": [
      " 15%|██████                                  | 300/2000 [00:46<04:19,  6.55it/s]"
     ]
    },
    {
     "name": "stdout",
     "output_type": "stream",
     "text": [
      "18610\n",
      "75422\n",
      "Epoch 00298 | Loss 26.8479 | train_RMSE 2.9647 | test_RMSE 2.9657 \n",
      "18610\n",
      "75422\n",
      "Epoch 00299 | Loss 26.6044 | train_RMSE 2.9498 | test_RMSE 2.9513 \n"
     ]
    },
    {
     "name": "stderr",
     "output_type": "stream",
     "text": [
      " 15%|██████                                  | 302/2000 [00:47<04:18,  6.56it/s]"
     ]
    },
    {
     "name": "stdout",
     "output_type": "stream",
     "text": [
      "18610\n",
      "75422\n",
      "Epoch 00300 | Loss 26.5928 | train_RMSE 2.9572 | test_RMSE 2.9555 \n",
      "18610\n",
      "75422\n",
      "Epoch 00301 | Loss 26.6836 | train_RMSE 2.9334 | test_RMSE 2.9341 \n"
     ]
    },
    {
     "name": "stderr",
     "output_type": "stream",
     "text": [
      " 15%|██████                                  | 304/2000 [00:47<04:18,  6.55it/s]"
     ]
    },
    {
     "name": "stdout",
     "output_type": "stream",
     "text": [
      "18610\n",
      "75422\n",
      "Epoch 00302 | Loss 26.4606 | train_RMSE 2.9700 | test_RMSE 2.9637 \n",
      "18610\n",
      "75422\n",
      "Epoch 00303 | Loss 26.7327 | train_RMSE 2.9548 | test_RMSE 2.9571 \n"
     ]
    },
    {
     "name": "stderr",
     "output_type": "stream",
     "text": [
      " 15%|██████                                  | 306/2000 [00:47<04:18,  6.56it/s]"
     ]
    },
    {
     "name": "stdout",
     "output_type": "stream",
     "text": [
      "18610\n",
      "75422\n",
      "Epoch 00304 | Loss 26.6663 | train_RMSE 3.0020 | test_RMSE 2.9950 \n",
      "18610\n",
      "75422\n",
      "Epoch 00305 | Loss 26.7671 | train_RMSE 2.9507 | test_RMSE 2.9543 \n"
     ]
    },
    {
     "name": "stderr",
     "output_type": "stream",
     "text": [
      " 15%|██████▏                                 | 308/2000 [00:47<04:18,  6.56it/s]"
     ]
    },
    {
     "name": "stdout",
     "output_type": "stream",
     "text": [
      "18610\n",
      "75422\n",
      "Epoch 00306 | Loss 26.8449 | train_RMSE 2.9831 | test_RMSE 2.9767 \n",
      "18610\n",
      "75422\n",
      "Epoch 00307 | Loss 26.5857 | train_RMSE 2.9302 | test_RMSE 2.9325 \n"
     ]
    },
    {
     "name": "stderr",
     "output_type": "stream",
     "text": [
      " 16%|██████▏                                 | 310/2000 [00:48<04:22,  6.44it/s]"
     ]
    },
    {
     "name": "stdout",
     "output_type": "stream",
     "text": [
      "18610\n",
      "75422\n",
      "Epoch 00308 | Loss 26.5064 | train_RMSE 2.9380 | test_RMSE 2.9332 \n",
      "18610\n",
      "75422\n",
      "Epoch 00309 | Loss 26.2905 | train_RMSE 2.9087 | test_RMSE 2.9075 \n"
     ]
    },
    {
     "name": "stderr",
     "output_type": "stream",
     "text": [
      " 16%|██████▏                                 | 312/2000 [00:48<04:21,  6.45it/s]"
     ]
    },
    {
     "name": "stdout",
     "output_type": "stream",
     "text": [
      "18610\n",
      "75422\n",
      "Epoch 00310 | Loss 26.2585 | train_RMSE 2.8957 | test_RMSE 2.8926 \n",
      "18610\n",
      "75422\n",
      "Epoch 00311 | Loss 26.0905 | train_RMSE 2.9027 | test_RMSE 2.8977 \n"
     ]
    },
    {
     "name": "stderr",
     "output_type": "stream",
     "text": [
      " 16%|██████▎                                 | 314/2000 [00:48<04:19,  6.50it/s]"
     ]
    },
    {
     "name": "stdout",
     "output_type": "stream",
     "text": [
      "18610\n",
      "75422\n",
      "Epoch 00312 | Loss 25.8766 | train_RMSE 2.8870 | test_RMSE 2.8862 \n",
      "18610\n",
      "75422\n",
      "Epoch 00313 | Loss 26.2714 | train_RMSE 2.9437 | test_RMSE 2.9360 \n"
     ]
    },
    {
     "name": "stderr",
     "output_type": "stream",
     "text": [
      " 16%|██████▎                                 | 316/2000 [00:49<04:17,  6.53it/s]"
     ]
    },
    {
     "name": "stdout",
     "output_type": "stream",
     "text": [
      "18610\n",
      "75422\n",
      "Epoch 00314 | Loss 26.4892 | train_RMSE 2.9313 | test_RMSE 2.9357 \n",
      "18610\n",
      "75422\n",
      "Epoch 00315 | Loss 26.4751 | train_RMSE 3.0369 | test_RMSE 3.0283 \n"
     ]
    },
    {
     "name": "stderr",
     "output_type": "stream",
     "text": [
      " 16%|██████▎                                 | 318/2000 [00:49<04:16,  6.55it/s]"
     ]
    },
    {
     "name": "stdout",
     "output_type": "stream",
     "text": [
      "18610\n",
      "75422\n",
      "Epoch 00316 | Loss 26.4903 | train_RMSE 3.0181 | test_RMSE 3.0243 \n",
      "18610\n",
      "75422\n",
      "Epoch 00317 | Loss 27.3024 | train_RMSE 3.2172 | test_RMSE 3.2039 \n"
     ]
    },
    {
     "name": "stderr",
     "output_type": "stream",
     "text": [
      " 16%|██████▍                                 | 320/2000 [00:49<04:16,  6.56it/s]"
     ]
    },
    {
     "name": "stdout",
     "output_type": "stream",
     "text": [
      "18610\n",
      "75422\n",
      "Epoch 00318 | Loss 27.8275 | train_RMSE 3.2492 | test_RMSE 3.2590 \n",
      "18610\n",
      "75422\n",
      "Epoch 00319 | Loss 28.6375 | train_RMSE 3.4339 | test_RMSE 3.4171 \n"
     ]
    },
    {
     "name": "stderr",
     "output_type": "stream",
     "text": [
      " 16%|██████▍                                 | 322/2000 [00:50<04:15,  6.56it/s]"
     ]
    },
    {
     "name": "stdout",
     "output_type": "stream",
     "text": [
      "18610\n",
      "75422\n",
      "Epoch 00320 | Loss 29.0861 | train_RMSE 3.2404 | test_RMSE 3.2513 \n",
      "18610\n",
      "75422\n",
      "Epoch 00321 | Loss 28.4021 | train_RMSE 3.1638 | test_RMSE 3.1501 \n"
     ]
    },
    {
     "name": "stderr",
     "output_type": "stream",
     "text": [
      " 16%|██████▍                                 | 324/2000 [00:50<04:15,  6.57it/s]"
     ]
    },
    {
     "name": "stdout",
     "output_type": "stream",
     "text": [
      "18610\n",
      "75422\n",
      "Epoch 00322 | Loss 27.3730 | train_RMSE 2.9054 | test_RMSE 2.9087 \n",
      "18610\n",
      "75422\n",
      "Epoch 00323 | Loss 26.2115 | train_RMSE 2.8702 | test_RMSE 2.8717 \n"
     ]
    },
    {
     "name": "stderr",
     "output_type": "stream",
     "text": [
      " 16%|██████▌                                 | 326/2000 [00:50<04:16,  6.53it/s]"
     ]
    },
    {
     "name": "stdout",
     "output_type": "stream",
     "text": [
      "18610\n",
      "75422\n",
      "Epoch 00324 | Loss 25.7339 | train_RMSE 2.9463 | test_RMSE 2.9398 \n",
      "18610\n",
      "75422\n",
      "Epoch 00325 | Loss 26.2935 | train_RMSE 2.9441 | test_RMSE 2.9506 \n"
     ]
    },
    {
     "name": "stderr",
     "output_type": "stream",
     "text": [
      " 16%|██████▌                                 | 328/2000 [00:50<04:15,  6.55it/s]"
     ]
    },
    {
     "name": "stdout",
     "output_type": "stream",
     "text": [
      "18610\n",
      "75422\n",
      "Epoch 00326 | Loss 26.6990 | train_RMSE 3.1133 | test_RMSE 3.1005 \n",
      "18610\n",
      "75422\n",
      "Epoch 00327 | Loss 27.0953 | train_RMSE 3.0054 | test_RMSE 3.0114 \n"
     ]
    },
    {
     "name": "stderr",
     "output_type": "stream",
     "text": [
      " 16%|██████▌                                 | 330/2000 [00:51<04:14,  6.56it/s]"
     ]
    },
    {
     "name": "stdout",
     "output_type": "stream",
     "text": [
      "18610\n",
      "75422\n",
      "Epoch 00328 | Loss 26.9849 | train_RMSE 2.9996 | test_RMSE 2.9883 \n",
      "18610\n",
      "75422\n",
      "Epoch 00329 | Loss 26.4407 | train_RMSE 2.8550 | test_RMSE 2.8550 \n"
     ]
    },
    {
     "name": "stderr",
     "output_type": "stream",
     "text": [
      " 17%|██████▋                                 | 332/2000 [00:51<04:15,  6.52it/s]"
     ]
    },
    {
     "name": "stdout",
     "output_type": "stream",
     "text": [
      "18610\n",
      "75422\n",
      "Epoch 00330 | Loss 25.8523 | train_RMSE 2.8377 | test_RMSE 2.8344 \n",
      "18610\n",
      "75422\n",
      "Epoch 00331 | Loss 25.5979 | train_RMSE 2.8525 | test_RMSE 2.8463 \n"
     ]
    },
    {
     "name": "stderr",
     "output_type": "stream",
     "text": [
      " 17%|██████▋                                 | 334/2000 [00:51<04:16,  6.50it/s]"
     ]
    },
    {
     "name": "stdout",
     "output_type": "stream",
     "text": [
      "18610\n",
      "75422\n",
      "Epoch 00332 | Loss 25.7445 | train_RMSE 2.8167 | test_RMSE 2.8172 \n",
      "18610\n",
      "75422\n",
      "Epoch 00333 | Loss 25.4178 | train_RMSE 2.8368 | test_RMSE 2.8323 \n"
     ]
    },
    {
     "name": "stderr",
     "output_type": "stream",
     "text": [
      " 17%|██████▋                                 | 336/2000 [00:52<04:16,  6.49it/s]"
     ]
    },
    {
     "name": "stdout",
     "output_type": "stream",
     "text": [
      "18610\n",
      "75422\n",
      "Epoch 00334 | Loss 25.9741 | train_RMSE 2.7982 | test_RMSE 2.7968 \n",
      "18610\n",
      "75422\n",
      "Epoch 00335 | Loss 25.4088 | train_RMSE 2.7929 | test_RMSE 2.7901 \n"
     ]
    },
    {
     "name": "stderr",
     "output_type": "stream",
     "text": [
      " 17%|██████▊                                 | 338/2000 [00:52<04:16,  6.49it/s]"
     ]
    },
    {
     "name": "stdout",
     "output_type": "stream",
     "text": [
      "18610\n",
      "75422\n",
      "Epoch 00336 | Loss 25.4200 | train_RMSE 2.8304 | test_RMSE 2.8215 \n",
      "18610\n",
      "75422\n",
      "Epoch 00337 | Loss 25.3595 | train_RMSE 2.8330 | test_RMSE 2.8338 \n"
     ]
    },
    {
     "name": "stderr",
     "output_type": "stream",
     "text": [
      " 17%|██████▊                                 | 340/2000 [00:52<04:14,  6.53it/s]"
     ]
    },
    {
     "name": "stdout",
     "output_type": "stream",
     "text": [
      "18610\n",
      "75422\n",
      "Epoch 00338 | Loss 25.8199 | train_RMSE 2.8993 | test_RMSE 2.8877 \n",
      "18610\n",
      "75422\n",
      "Epoch 00339 | Loss 25.7534 | train_RMSE 2.8468 | test_RMSE 2.8473 \n"
     ]
    },
    {
     "name": "stderr",
     "output_type": "stream",
     "text": [
      " 17%|██████▊                                 | 342/2000 [00:53<04:13,  6.54it/s]"
     ]
    },
    {
     "name": "stdout",
     "output_type": "stream",
     "text": [
      "18610\n",
      "75422\n",
      "Epoch 00340 | Loss 25.8111 | train_RMSE 2.8478 | test_RMSE 2.8389 \n",
      "18610\n",
      "75422\n",
      "Epoch 00341 | Loss 25.7662 | train_RMSE 2.7970 | test_RMSE 2.7941 \n"
     ]
    },
    {
     "name": "stderr",
     "output_type": "stream",
     "text": [
      " 17%|██████▉                                 | 344/2000 [00:53<04:14,  6.52it/s]"
     ]
    },
    {
     "name": "stdout",
     "output_type": "stream",
     "text": [
      "18610\n",
      "75422\n",
      "Epoch 00342 | Loss 25.3517 | train_RMSE 2.7943 | test_RMSE 2.7920 \n",
      "18610\n",
      "75422\n",
      "Epoch 00343 | Loss 25.5981 | train_RMSE 2.8499 | test_RMSE 2.8412 \n"
     ]
    },
    {
     "name": "stderr",
     "output_type": "stream",
     "text": [
      " 17%|██████▉                                 | 346/2000 [00:53<04:12,  6.54it/s]"
     ]
    },
    {
     "name": "stdout",
     "output_type": "stream",
     "text": [
      "18610\n",
      "75422\n",
      "Epoch 00344 | Loss 25.4072 | train_RMSE 2.8411 | test_RMSE 2.8421 \n",
      "18610\n",
      "75422\n",
      "Epoch 00345 | Loss 25.7556 | train_RMSE 2.9543 | test_RMSE 2.9415 \n"
     ]
    },
    {
     "name": "stderr",
     "output_type": "stream",
     "text": [
      " 17%|██████▉                                 | 348/2000 [00:54<04:12,  6.55it/s]"
     ]
    },
    {
     "name": "stdout",
     "output_type": "stream",
     "text": [
      "18610\n",
      "75422\n",
      "Epoch 00346 | Loss 26.2804 | train_RMSE 2.8607 | test_RMSE 2.8622 \n",
      "18610\n",
      "75422\n",
      "Epoch 00347 | Loss 25.8308 | train_RMSE 2.8981 | test_RMSE 2.8838 \n"
     ]
    },
    {
     "name": "stderr",
     "output_type": "stream",
     "text": [
      " 18%|███████                                 | 350/2000 [00:54<04:11,  6.55it/s]"
     ]
    },
    {
     "name": "stdout",
     "output_type": "stream",
     "text": [
      "18610\n",
      "75422\n",
      "Epoch 00348 | Loss 25.6523 | train_RMSE 2.7971 | test_RMSE 2.7968 \n",
      "18610\n",
      "75422\n",
      "Epoch 00349 | Loss 25.6661 | train_RMSE 2.7908 | test_RMSE 2.7811 \n"
     ]
    },
    {
     "name": "stderr",
     "output_type": "stream",
     "text": [
      " 18%|███████                                 | 352/2000 [00:54<04:12,  6.53it/s]"
     ]
    },
    {
     "name": "stdout",
     "output_type": "stream",
     "text": [
      "18610\n",
      "75422\n",
      "Epoch 00350 | Loss 25.2530 | train_RMSE 2.7446 | test_RMSE 2.7403 \n",
      "18610\n",
      "75422\n",
      "Epoch 00351 | Loss 25.3047 | train_RMSE 2.7388 | test_RMSE 2.7339 \n"
     ]
    },
    {
     "name": "stderr",
     "output_type": "stream",
     "text": [
      " 18%|███████                                 | 354/2000 [00:54<04:13,  6.48it/s]"
     ]
    },
    {
     "name": "stdout",
     "output_type": "stream",
     "text": [
      "18610\n",
      "75422\n",
      "Epoch 00352 | Loss 25.0867 | train_RMSE 2.7721 | test_RMSE 2.7656 \n",
      "18610\n",
      "75422\n",
      "Epoch 00353 | Loss 24.9463 | train_RMSE 2.7774 | test_RMSE 2.7802 \n"
     ]
    },
    {
     "name": "stderr",
     "output_type": "stream",
     "text": [
      " 18%|███████                                 | 356/2000 [00:55<04:12,  6.51it/s]"
     ]
    },
    {
     "name": "stdout",
     "output_type": "stream",
     "text": [
      "18610\n",
      "75422\n",
      "Epoch 00354 | Loss 25.3392 | train_RMSE 2.8607 | test_RMSE 2.8500 \n",
      "18610\n",
      "75422\n",
      "Epoch 00355 | Loss 25.3692 | train_RMSE 2.7866 | test_RMSE 2.7866 \n"
     ]
    },
    {
     "name": "stderr",
     "output_type": "stream",
     "text": [
      " 18%|███████▏                                | 358/2000 [00:55<04:11,  6.54it/s]"
     ]
    },
    {
     "name": "stdout",
     "output_type": "stream",
     "text": [
      "18610\n",
      "75422\n",
      "Epoch 00356 | Loss 25.2866 | train_RMSE 2.8731 | test_RMSE 2.8604 \n",
      "18610\n",
      "75422\n",
      "Epoch 00357 | Loss 25.8247 | train_RMSE 2.8247 | test_RMSE 2.8252 \n"
     ]
    },
    {
     "name": "stderr",
     "output_type": "stream",
     "text": [
      " 18%|███████▏                                | 360/2000 [00:55<04:10,  6.55it/s]"
     ]
    },
    {
     "name": "stdout",
     "output_type": "stream",
     "text": [
      "18610\n",
      "75422\n",
      "Epoch 00358 | Loss 26.0066 | train_RMSE 2.9428 | test_RMSE 2.9249 \n",
      "18610\n",
      "75422\n",
      "Epoch 00359 | Loss 25.9997 | train_RMSE 2.8720 | test_RMSE 2.8774 \n"
     ]
    },
    {
     "name": "stderr",
     "output_type": "stream",
     "text": [
      " 18%|███████▏                                | 362/2000 [00:56<04:10,  6.55it/s]"
     ]
    },
    {
     "name": "stdout",
     "output_type": "stream",
     "text": [
      "18610\n",
      "75422\n",
      "Epoch 00360 | Loss 25.7882 | train_RMSE 2.9313 | test_RMSE 2.9154 \n",
      "18610\n",
      "75422\n",
      "Epoch 00361 | Loss 25.5612 | train_RMSE 2.7631 | test_RMSE 2.7618 \n"
     ]
    },
    {
     "name": "stderr",
     "output_type": "stream",
     "text": [
      " 18%|███████▎                                | 364/2000 [00:56<04:11,  6.51it/s]"
     ]
    },
    {
     "name": "stdout",
     "output_type": "stream",
     "text": [
      "18610\n",
      "75422\n",
      "Epoch 00362 | Loss 25.2040 | train_RMSE 2.7314 | test_RMSE 2.7235 \n",
      "18610\n",
      "75422\n",
      "Epoch 00363 | Loss 24.8572 | train_RMSE 2.7226 | test_RMSE 2.7164 \n"
     ]
    },
    {
     "name": "stderr",
     "output_type": "stream",
     "text": [
      " 18%|███████▎                                | 366/2000 [00:56<04:10,  6.51it/s]"
     ]
    },
    {
     "name": "stdout",
     "output_type": "stream",
     "text": [
      "18610\n",
      "75422\n",
      "Epoch 00364 | Loss 24.8060 | train_RMSE 2.7303 | test_RMSE 2.7313 \n",
      "18610\n",
      "75422\n",
      "Epoch 00365 | Loss 24.8667 | train_RMSE 2.8274 | test_RMSE 2.8145 \n"
     ]
    },
    {
     "name": "stderr",
     "output_type": "stream",
     "text": [
      " 18%|███████▎                                | 368/2000 [00:57<04:10,  6.52it/s]"
     ]
    },
    {
     "name": "stdout",
     "output_type": "stream",
     "text": [
      "18610\n",
      "75422\n",
      "Epoch 00366 | Loss 25.5521 | train_RMSE 2.7763 | test_RMSE 2.7771 \n",
      "18610\n",
      "75422\n",
      "Epoch 00367 | Loss 24.9591 | train_RMSE 2.8143 | test_RMSE 2.7995 \n"
     ]
    },
    {
     "name": "stderr",
     "output_type": "stream",
     "text": [
      " 18%|███████▍                                | 370/2000 [00:57<04:09,  6.54it/s]"
     ]
    },
    {
     "name": "stdout",
     "output_type": "stream",
     "text": [
      "18610\n",
      "75422\n",
      "Epoch 00368 | Loss 25.2175 | train_RMSE 2.7222 | test_RMSE 2.7198 \n",
      "18610\n",
      "75422\n",
      "Epoch 00369 | Loss 24.8296 | train_RMSE 2.7465 | test_RMSE 2.7366 \n"
     ]
    },
    {
     "name": "stderr",
     "output_type": "stream",
     "text": [
      " 19%|███████▍                                | 372/2000 [00:57<04:10,  6.51it/s]"
     ]
    },
    {
     "name": "stdout",
     "output_type": "stream",
     "text": [
      "18610\n",
      "75422\n",
      "Epoch 00370 | Loss 25.0121 | train_RMSE 2.7029 | test_RMSE 2.7017 \n",
      "18610\n",
      "75422\n",
      "Epoch 00371 | Loss 24.7858 | train_RMSE 2.7574 | test_RMSE 2.7468 \n"
     ]
    },
    {
     "name": "stderr",
     "output_type": "stream",
     "text": [
      " 19%|███████▍                                | 374/2000 [00:58<04:11,  6.46it/s]"
     ]
    },
    {
     "name": "stdout",
     "output_type": "stream",
     "text": [
      "18610\n",
      "75422\n",
      "Epoch 00372 | Loss 24.6121 | train_RMSE 2.6981 | test_RMSE 2.6947 \n",
      "18610\n",
      "75422\n",
      "Epoch 00373 | Loss 24.5181 | train_RMSE 2.7035 | test_RMSE 2.6942 \n"
     ]
    },
    {
     "name": "stderr",
     "output_type": "stream",
     "text": [
      " 19%|███████▌                                | 376/2000 [00:58<04:09,  6.52it/s]"
     ]
    },
    {
     "name": "stdout",
     "output_type": "stream",
     "text": [
      "18610\n",
      "75422\n",
      "Epoch 00374 | Loss 24.5408 | train_RMSE 2.6809 | test_RMSE 2.6751 \n",
      "18610\n",
      "75422\n",
      "Epoch 00375 | Loss 24.7173 | train_RMSE 2.6753 | test_RMSE 2.6692 \n"
     ]
    },
    {
     "name": "stderr",
     "output_type": "stream",
     "text": [
      " 19%|███████▌                                | 378/2000 [00:58<04:09,  6.50it/s]"
     ]
    },
    {
     "name": "stdout",
     "output_type": "stream",
     "text": [
      "18610\n",
      "75422\n",
      "Epoch 00376 | Loss 24.5497 | train_RMSE 2.6795 | test_RMSE 2.6701 \n",
      "18610\n",
      "75422\n",
      "Epoch 00377 | Loss 24.3324 | train_RMSE 2.6664 | test_RMSE 2.6589 \n"
     ]
    },
    {
     "name": "stderr",
     "output_type": "stream",
     "text": [
      " 19%|███████▌                                | 380/2000 [00:58<04:08,  6.51it/s]"
     ]
    },
    {
     "name": "stdout",
     "output_type": "stream",
     "text": [
      "18610\n",
      "75422\n",
      "Epoch 00378 | Loss 24.2259 | train_RMSE 2.6833 | test_RMSE 2.6715 \n",
      "18610\n",
      "75422\n",
      "Epoch 00379 | Loss 24.3722 | train_RMSE 2.6589 | test_RMSE 2.6542 \n"
     ]
    },
    {
     "name": "stderr",
     "output_type": "stream",
     "text": [
      " 19%|███████▋                                | 382/2000 [00:59<04:07,  6.54it/s]"
     ]
    },
    {
     "name": "stdout",
     "output_type": "stream",
     "text": [
      "18610\n",
      "75422\n",
      "Epoch 00380 | Loss 24.6113 | train_RMSE 2.6902 | test_RMSE 2.6820 \n",
      "18610\n",
      "75422\n",
      "Epoch 00381 | Loss 24.6288 | train_RMSE 2.6632 | test_RMSE 2.6596 \n"
     ]
    },
    {
     "name": "stderr",
     "output_type": "stream",
     "text": [
      " 19%|███████▋                                | 384/2000 [00:59<04:06,  6.54it/s]"
     ]
    },
    {
     "name": "stdout",
     "output_type": "stream",
     "text": [
      "18610\n",
      "75422\n",
      "Epoch 00382 | Loss 24.3689 | train_RMSE 2.6984 | test_RMSE 2.6878 \n",
      "18610\n",
      "75422\n",
      "Epoch 00383 | Loss 24.6559 | train_RMSE 2.6694 | test_RMSE 2.6627 \n"
     ]
    },
    {
     "name": "stderr",
     "output_type": "stream",
     "text": [
      " 19%|███████▋                                | 386/2000 [00:59<04:06,  6.54it/s]"
     ]
    },
    {
     "name": "stdout",
     "output_type": "stream",
     "text": [
      "18610\n",
      "75422\n",
      "Epoch 00384 | Loss 24.4797 | train_RMSE 2.6759 | test_RMSE 2.6654 \n",
      "18610\n",
      "75422\n",
      "Epoch 00385 | Loss 24.6204 | train_RMSE 2.6483 | test_RMSE 2.6437 \n"
     ]
    },
    {
     "name": "stderr",
     "output_type": "stream",
     "text": [
      " 19%|███████▊                                | 388/2000 [01:00<04:06,  6.55it/s]"
     ]
    },
    {
     "name": "stdout",
     "output_type": "stream",
     "text": [
      "18610\n",
      "75422\n",
      "Epoch 00386 | Loss 24.3549 | train_RMSE 2.6496 | test_RMSE 2.6438 \n",
      "18610\n",
      "75422\n",
      "Epoch 00387 | Loss 24.4301 | train_RMSE 2.6300 | test_RMSE 2.6242 \n"
     ]
    },
    {
     "name": "stderr",
     "output_type": "stream",
     "text": [
      " 20%|███████▊                                | 390/2000 [01:00<04:06,  6.53it/s]"
     ]
    },
    {
     "name": "stdout",
     "output_type": "stream",
     "text": [
      "18610\n",
      "75422\n",
      "Epoch 00388 | Loss 24.0091 | train_RMSE 2.6394 | test_RMSE 2.6314 \n",
      "18610\n",
      "75422\n",
      "Epoch 00389 | Loss 24.1881 | train_RMSE 2.6406 | test_RMSE 2.6337 \n"
     ]
    },
    {
     "name": "stderr",
     "output_type": "stream",
     "text": [
      " 20%|███████▊                                | 392/2000 [01:00<04:06,  6.52it/s]"
     ]
    },
    {
     "name": "stdout",
     "output_type": "stream",
     "text": [
      "18610\n",
      "75422\n",
      "Epoch 00390 | Loss 23.9696 | train_RMSE 2.6407 | test_RMSE 2.6313 \n",
      "18610\n",
      "75422\n",
      "Epoch 00391 | Loss 24.1255 | train_RMSE 2.6144 | test_RMSE 2.6067 \n"
     ]
    },
    {
     "name": "stderr",
     "output_type": "stream",
     "text": [
      " 20%|███████▉                                | 394/2000 [01:01<04:06,  6.52it/s]"
     ]
    },
    {
     "name": "stdout",
     "output_type": "stream",
     "text": [
      "18610\n",
      "75422\n",
      "Epoch 00392 | Loss 23.8443 | train_RMSE 2.6097 | test_RMSE 2.6022 \n",
      "18610\n",
      "75422\n",
      "Epoch 00393 | Loss 23.9876 | train_RMSE 2.6723 | test_RMSE 2.6592 \n"
     ]
    },
    {
     "name": "stderr",
     "output_type": "stream",
     "text": [
      " 20%|███████▉                                | 396/2000 [01:01<04:05,  6.54it/s]"
     ]
    },
    {
     "name": "stdout",
     "output_type": "stream",
     "text": [
      "18610\n",
      "75422\n",
      "Epoch 00394 | Loss 24.2499 | train_RMSE 2.7969 | test_RMSE 2.8006 \n",
      "18610\n",
      "75422\n",
      "Epoch 00395 | Loss 25.1029 | train_RMSE 3.3595 | test_RMSE 3.3374 \n"
     ]
    },
    {
     "name": "stderr",
     "output_type": "stream",
     "text": [
      " 20%|███████▉                                | 398/2000 [01:01<04:05,  6.54it/s]"
     ]
    },
    {
     "name": "stdout",
     "output_type": "stream",
     "text": [
      "18610\n",
      "75422\n",
      "Epoch 00396 | Loss 27.8272 | train_RMSE 3.9914 | test_RMSE 4.0069 \n",
      "18610\n",
      "75422\n",
      "Epoch 00397 | Loss 33.6121 | train_RMSE 5.5415 | test_RMSE 5.5154 \n"
     ]
    },
    {
     "name": "stderr",
     "output_type": "stream",
     "text": [
      " 20%|████████                                | 400/2000 [01:02<04:04,  6.54it/s]"
     ]
    },
    {
     "name": "stdout",
     "output_type": "stream",
     "text": [
      "18610\n",
      "75422\n",
      "Epoch 00398 | Loss 46.9478 | train_RMSE 6.3780 | test_RMSE 6.4038 \n",
      "18610\n",
      "75422\n",
      "Epoch 00399 | Loss 58.7663 | train_RMSE 6.4003 | test_RMSE 6.3707 \n"
     ]
    },
    {
     "name": "stderr",
     "output_type": "stream",
     "text": [
      " 20%|████████                                | 402/2000 [01:02<04:04,  6.55it/s]"
     ]
    },
    {
     "name": "stdout",
     "output_type": "stream",
     "text": [
      "18610\n",
      "75422\n",
      "Epoch 00400 | Loss 55.7943 | train_RMSE 3.2542 | test_RMSE 3.2694 \n",
      "18610\n",
      "75422\n",
      "Epoch 00401 | Loss 27.2854 | train_RMSE 4.1807 | test_RMSE 4.1883 \n"
     ]
    },
    {
     "name": "stderr",
     "output_type": "stream",
     "text": [
      " 20%|████████                                | 404/2000 [01:02<04:03,  6.54it/s]"
     ]
    },
    {
     "name": "stdout",
     "output_type": "stream",
     "text": [
      "18610\n",
      "75422\n",
      "Epoch 00402 | Loss 34.9793 | train_RMSE 6.0365 | test_RMSE 6.0308 \n",
      "18610\n",
      "75422\n",
      "Epoch 00403 | Loss 52.0000 | train_RMSE 3.7875 | test_RMSE 3.8031 \n"
     ]
    },
    {
     "name": "stderr",
     "output_type": "stream",
     "text": [
      " 20%|████████                                | 406/2000 [01:02<04:03,  6.55it/s]"
     ]
    },
    {
     "name": "stdout",
     "output_type": "stream",
     "text": [
      "18610\n",
      "75422\n",
      "Epoch 00404 | Loss 31.6247 | train_RMSE 3.2915 | test_RMSE 3.3154 \n",
      "18610\n",
      "75422\n",
      "Epoch 00405 | Loss 28.1105 | train_RMSE 5.0538 | test_RMSE 5.0213 \n"
     ]
    },
    {
     "name": "stderr",
     "output_type": "stream",
     "text": [
      " 20%|████████▏                               | 408/2000 [01:03<04:02,  6.55it/s]"
     ]
    },
    {
     "name": "stdout",
     "output_type": "stream",
     "text": [
      "18610\n",
      "75422\n",
      "Epoch 00406 | Loss 41.3567 | train_RMSE 3.3133 | test_RMSE 3.3361 \n",
      "18610\n",
      "75422\n",
      "Epoch 00407 | Loss 28.5247 | train_RMSE 3.2479 | test_RMSE 3.2605 \n"
     ]
    },
    {
     "name": "stderr",
     "output_type": "stream",
     "text": [
      " 20%|████████▏                               | 410/2000 [01:03<04:02,  6.55it/s]"
     ]
    },
    {
     "name": "stdout",
     "output_type": "stream",
     "text": [
      "18610\n",
      "75422\n",
      "Epoch 00408 | Loss 28.0398 | train_RMSE 4.3895 | test_RMSE 4.3735 \n",
      "18610\n",
      "75422\n",
      "Epoch 00409 | Loss 35.9005 | train_RMSE 2.8854 | test_RMSE 2.8908 \n"
     ]
    },
    {
     "name": "stderr",
     "output_type": "stream",
     "text": [
      " 21%|████████▏                               | 412/2000 [01:03<04:02,  6.54it/s]"
     ]
    },
    {
     "name": "stdout",
     "output_type": "stream",
     "text": [
      "18610\n",
      "75422\n",
      "Epoch 00410 | Loss 25.7311 | train_RMSE 3.3402 | test_RMSE 3.3533 \n",
      "18610\n",
      "75422\n",
      "Epoch 00411 | Loss 28.7690 | train_RMSE 3.8686 | test_RMSE 3.8455 \n"
     ]
    },
    {
     "name": "stderr",
     "output_type": "stream",
     "text": [
      " 21%|████████▎                               | 414/2000 [01:04<04:02,  6.54it/s]"
     ]
    },
    {
     "name": "stdout",
     "output_type": "stream",
     "text": [
      "18610\n",
      "75422\n",
      "Epoch 00412 | Loss 30.9979 | train_RMSE 2.7219 | test_RMSE 2.7149 \n",
      "18610\n",
      "75422\n",
      "Epoch 00413 | Loss 24.2070 | train_RMSE 3.6192 | test_RMSE 3.6332 \n"
     ]
    },
    {
     "name": "stderr",
     "output_type": "stream",
     "text": [
      " 21%|████████▎                               | 416/2000 [01:04<04:01,  6.55it/s]"
     ]
    },
    {
     "name": "stdout",
     "output_type": "stream",
     "text": [
      "18610\n",
      "75422\n",
      "Epoch 00414 | Loss 30.7548 | train_RMSE 3.4747 | test_RMSE 3.4590 \n",
      "18610\n",
      "75422\n",
      "Epoch 00415 | Loss 28.3655 | train_RMSE 2.8620 | test_RMSE 2.8534 \n"
     ]
    },
    {
     "name": "stderr",
     "output_type": "stream",
     "text": [
      " 21%|████████▎                               | 418/2000 [01:04<04:02,  6.54it/s]"
     ]
    },
    {
     "name": "stdout",
     "output_type": "stream",
     "text": [
      "18610\n",
      "75422\n",
      "Epoch 00416 | Loss 25.1184 | train_RMSE 3.6408 | test_RMSE 3.6568 \n",
      "18610\n",
      "75422\n",
      "Epoch 00417 | Loss 30.5582 | train_RMSE 2.9785 | test_RMSE 2.9630 \n"
     ]
    },
    {
     "name": "stderr",
     "output_type": "stream",
     "text": [
      "\r",
      " 21%|████████▍                               | 419/2000 [01:04<04:09,  6.34it/s]"
     ]
    },
    {
     "name": "stdout",
     "output_type": "stream",
     "text": [
      "18610\n",
      "75422\n",
      "Epoch 00418 | Loss 25.3336 | train_RMSE 3.0463 | test_RMSE 3.0290 \n",
      "18610\n"
     ]
    },
    {
     "name": "stderr",
     "output_type": "stream",
     "text": [
      " 21%|████████▍                               | 421/2000 [01:05<04:04,  6.46it/s]"
     ]
    },
    {
     "name": "stdout",
     "output_type": "stream",
     "text": [
      "75422\n",
      "Epoch 00419 | Loss 26.1428 | train_RMSE 3.3047 | test_RMSE 3.3213 \n",
      "18610\n",
      "75422\n",
      "Epoch 00420 | Loss 28.5689 | train_RMSE 2.6679 | test_RMSE 2.6606 \n"
     ]
    },
    {
     "name": "stderr",
     "output_type": "stream",
     "text": [
      " 21%|████████▍                               | 423/2000 [01:05<04:02,  6.52it/s]"
     ]
    },
    {
     "name": "stdout",
     "output_type": "stream",
     "text": [
      "18610\n",
      "75422\n",
      "Epoch 00421 | Loss 24.0960 | train_RMSE 3.0767 | test_RMSE 3.0620 \n",
      "18610\n",
      "75422\n",
      "Epoch 00422 | Loss 26.2323 | train_RMSE 2.9173 | test_RMSE 2.9275 \n"
     ]
    },
    {
     "name": "stderr",
     "output_type": "stream",
     "text": [
      " 21%|████████▌                               | 425/2000 [01:05<04:01,  6.53it/s]"
     ]
    },
    {
     "name": "stdout",
     "output_type": "stream",
     "text": [
      "18610\n",
      "75422\n",
      "Epoch 00423 | Loss 26.1086 | train_RMSE 2.6329 | test_RMSE 2.6307 \n",
      "18610\n",
      "75422\n",
      "Epoch 00424 | Loss 24.1578 | train_RMSE 3.0536 | test_RMSE 3.0374 \n"
     ]
    },
    {
     "name": "stderr",
     "output_type": "stream",
     "text": [
      " 21%|████████▌                               | 427/2000 [01:06<04:00,  6.55it/s]"
     ]
    },
    {
     "name": "stdout",
     "output_type": "stream",
     "text": [
      "18610\n",
      "75422\n",
      "Epoch 00425 | Loss 26.1580 | train_RMSE 2.7006 | test_RMSE 2.7048 \n",
      "18610\n",
      "75422\n",
      "Epoch 00426 | Loss 24.3248 | train_RMSE 2.6835 | test_RMSE 2.6894 \n"
     ]
    },
    {
     "name": "stderr",
     "output_type": "stream",
     "text": [
      " 21%|████████▌                               | 429/2000 [01:06<03:59,  6.55it/s]"
     ]
    },
    {
     "name": "stdout",
     "output_type": "stream",
     "text": [
      "18610\n",
      "75422\n",
      "Epoch 00427 | Loss 24.2124 | train_RMSE 2.9943 | test_RMSE 2.9810 \n",
      "18610\n",
      "75422\n",
      "Epoch 00428 | Loss 25.7754 | train_RMSE 2.6178 | test_RMSE 2.6198 \n"
     ]
    },
    {
     "name": "stderr",
     "output_type": "stream",
     "text": [
      " 22%|████████▌                               | 431/2000 [01:06<04:00,  6.52it/s]"
     ]
    },
    {
     "name": "stdout",
     "output_type": "stream",
     "text": [
      "18610\n",
      "75422\n",
      "Epoch 00429 | Loss 23.8346 | train_RMSE 2.7181 | test_RMSE 2.7229 \n",
      "18610\n",
      "75422\n",
      "Epoch 00430 | Loss 24.6825 | train_RMSE 2.8474 | test_RMSE 2.8320 \n"
     ]
    },
    {
     "name": "stderr",
     "output_type": "stream",
     "text": [
      " 22%|████████▋                               | 433/2000 [01:07<04:00,  6.51it/s]"
     ]
    },
    {
     "name": "stdout",
     "output_type": "stream",
     "text": [
      "18610\n",
      "75422\n",
      "Epoch 00431 | Loss 24.9677 | train_RMSE 2.5951 | test_RMSE 2.5862 \n",
      "18610\n",
      "75422\n",
      "Epoch 00432 | Loss 23.4397 | train_RMSE 2.7532 | test_RMSE 2.7580 \n"
     ]
    },
    {
     "name": "stderr",
     "output_type": "stream",
     "text": [
      " 22%|████████▋                               | 435/2000 [01:07<03:59,  6.54it/s]"
     ]
    },
    {
     "name": "stdout",
     "output_type": "stream",
     "text": [
      "18610\n",
      "75422\n",
      "Epoch 00433 | Loss 24.7407 | train_RMSE 2.7278 | test_RMSE 2.7132 \n",
      "18610\n",
      "75422\n",
      "Epoch 00434 | Loss 24.2536 | train_RMSE 2.6459 | test_RMSE 2.6342 \n"
     ]
    },
    {
     "name": "stderr",
     "output_type": "stream",
     "text": [
      " 22%|████████▋                               | 437/2000 [01:07<03:58,  6.55it/s]"
     ]
    },
    {
     "name": "stdout",
     "output_type": "stream",
     "text": [
      "18610\n",
      "75422\n",
      "Epoch 00435 | Loss 23.6941 | train_RMSE 2.7027 | test_RMSE 2.7047 \n",
      "18610\n",
      "75422\n",
      "Epoch 00436 | Loss 24.5279 | train_RMSE 2.6337 | test_RMSE 2.6233 \n"
     ]
    },
    {
     "name": "stderr",
     "output_type": "stream",
     "text": [
      " 22%|████████▊                               | 439/2000 [01:08<03:58,  6.55it/s]"
     ]
    },
    {
     "name": "stdout",
     "output_type": "stream",
     "text": [
      "18610\n",
      "75422\n",
      "Epoch 00437 | Loss 23.5953 | train_RMSE 2.6387 | test_RMSE 2.6295 \n",
      "18610\n",
      "75422\n",
      "Epoch 00438 | Loss 23.5986 | train_RMSE 2.6481 | test_RMSE 2.6536 \n"
     ]
    },
    {
     "name": "stderr",
     "output_type": "stream",
     "text": [
      " 22%|████████▊                               | 441/2000 [01:08<03:57,  6.55it/s]"
     ]
    },
    {
     "name": "stdout",
     "output_type": "stream",
     "text": [
      "18610\n",
      "75422\n",
      "Epoch 00439 | Loss 24.2823 | train_RMSE 2.6032 | test_RMSE 2.5983 \n",
      "18610\n",
      "75422\n",
      "Epoch 00440 | Loss 23.5021 | train_RMSE 2.6288 | test_RMSE 2.6210 \n"
     ]
    },
    {
     "name": "stderr",
     "output_type": "stream",
     "text": [
      " 22%|████████▊                               | 443/2000 [01:08<03:57,  6.56it/s]"
     ]
    },
    {
     "name": "stdout",
     "output_type": "stream",
     "text": [
      "18610\n",
      "75422\n",
      "Epoch 00441 | Loss 23.4986 | train_RMSE 2.6015 | test_RMSE 2.6030 \n",
      "18610\n",
      "75422\n",
      "Epoch 00442 | Loss 23.8139 | train_RMSE 2.5684 | test_RMSE 2.5610 \n"
     ]
    },
    {
     "name": "stderr",
     "output_type": "stream",
     "text": [
      " 22%|████████▉                               | 445/2000 [01:08<03:58,  6.53it/s]"
     ]
    },
    {
     "name": "stdout",
     "output_type": "stream",
     "text": [
      "18610\n",
      "75422\n",
      "Epoch 00443 | Loss 23.2942 | train_RMSE 2.5998 | test_RMSE 2.5901 \n",
      "18610\n",
      "75422\n",
      "Epoch 00444 | Loss 23.4845 | train_RMSE 2.5791 | test_RMSE 2.5785 \n"
     ]
    },
    {
     "name": "stderr",
     "output_type": "stream",
     "text": [
      " 22%|████████▉                               | 447/2000 [01:09<03:58,  6.51it/s]"
     ]
    },
    {
     "name": "stdout",
     "output_type": "stream",
     "text": [
      "18610\n",
      "75422\n",
      "Epoch 00445 | Loss 23.4516 | train_RMSE 2.5584 | test_RMSE 2.5518 \n",
      "18610\n",
      "75422\n",
      "Epoch 00446 | Loss 23.2559 | train_RMSE 2.5681 | test_RMSE 2.5604 \n"
     ]
    },
    {
     "name": "stderr",
     "output_type": "stream",
     "text": [
      " 22%|████████▉                               | 449/2000 [01:09<03:57,  6.54it/s]"
     ]
    },
    {
     "name": "stdout",
     "output_type": "stream",
     "text": [
      "18610\n",
      "75422\n",
      "Epoch 00447 | Loss 23.4511 | train_RMSE 2.5498 | test_RMSE 2.5486 \n",
      "18610\n",
      "75422\n",
      "Epoch 00448 | Loss 23.6420 | train_RMSE 2.5710 | test_RMSE 2.5630 \n"
     ]
    },
    {
     "name": "stderr",
     "output_type": "stream",
     "text": [
      " 23%|█████████                               | 451/2000 [01:09<03:58,  6.50it/s]"
     ]
    },
    {
     "name": "stdout",
     "output_type": "stream",
     "text": [
      "18610\n",
      "75422\n",
      "Epoch 00449 | Loss 23.3350 | train_RMSE 2.5322 | test_RMSE 2.5287 \n",
      "18610\n",
      "75422\n",
      "Epoch 00450 | Loss 23.0988 | train_RMSE 2.5320 | test_RMSE 2.5301 \n"
     ]
    },
    {
     "name": "stderr",
     "output_type": "stream",
     "text": [
      " 23%|█████████                               | 453/2000 [01:10<03:57,  6.52it/s]"
     ]
    },
    {
     "name": "stdout",
     "output_type": "stream",
     "text": [
      "18610\n",
      "75422\n",
      "Epoch 00451 | Loss 23.0917 | train_RMSE 2.5718 | test_RMSE 2.5638 \n",
      "18610\n",
      "75422\n",
      "Epoch 00452 | Loss 23.2702 | train_RMSE 2.5263 | test_RMSE 2.5216 \n"
     ]
    },
    {
     "name": "stderr",
     "output_type": "stream",
     "text": [
      " 23%|█████████                               | 455/2000 [01:10<03:57,  6.50it/s]"
     ]
    },
    {
     "name": "stdout",
     "output_type": "stream",
     "text": [
      "18610\n",
      "75422\n",
      "Epoch 00453 | Loss 22.9689 | train_RMSE 2.5279 | test_RMSE 2.5243 \n",
      "18610\n",
      "75422\n",
      "Epoch 00454 | Loss 23.0801 | train_RMSE 2.5896 | test_RMSE 2.5804 \n"
     ]
    },
    {
     "name": "stderr",
     "output_type": "stream",
     "text": [
      " 23%|█████████▏                              | 457/2000 [01:10<03:56,  6.53it/s]"
     ]
    },
    {
     "name": "stdout",
     "output_type": "stream",
     "text": [
      "18610\n",
      "75422\n",
      "Epoch 00455 | Loss 23.1364 | train_RMSE 2.5465 | test_RMSE 2.5479 \n",
      "18610\n",
      "75422\n",
      "Epoch 00456 | Loss 23.4282 | train_RMSE 2.5528 | test_RMSE 2.5463 \n"
     ]
    },
    {
     "name": "stderr",
     "output_type": "stream",
     "text": [
      " 23%|█████████▏                              | 459/2000 [01:11<03:56,  6.51it/s]"
     ]
    },
    {
     "name": "stdout",
     "output_type": "stream",
     "text": [
      "18610\n",
      "75422\n",
      "Epoch 00457 | Loss 23.0328 | train_RMSE 2.5127 | test_RMSE 2.5102 \n",
      "18610\n",
      "75422\n",
      "Epoch 00458 | Loss 22.8639 | train_RMSE 2.5275 | test_RMSE 2.5298 \n"
     ]
    },
    {
     "name": "stderr",
     "output_type": "stream",
     "text": [
      " 23%|█████████▏                              | 461/2000 [01:11<03:56,  6.50it/s]"
     ]
    },
    {
     "name": "stdout",
     "output_type": "stream",
     "text": [
      "18610\n",
      "75422\n",
      "Epoch 00459 | Loss 22.7589 | train_RMSE 2.6129 | test_RMSE 2.6033 \n",
      "18610\n",
      "75422\n",
      "Epoch 00460 | Loss 23.1248 | train_RMSE 2.5242 | test_RMSE 2.5251 \n"
     ]
    },
    {
     "name": "stderr",
     "output_type": "stream",
     "text": [
      " 23%|█████████▎                              | 463/2000 [01:11<03:59,  6.41it/s]"
     ]
    },
    {
     "name": "stdout",
     "output_type": "stream",
     "text": [
      "18610\n",
      "75422\n",
      "Epoch 00461 | Loss 22.8761 | train_RMSE 2.5083 | test_RMSE 2.5036 \n",
      "18610\n",
      "75422\n",
      "Epoch 00462 | Loss 22.7526 | train_RMSE 2.5171 | test_RMSE 2.5097 \n"
     ]
    },
    {
     "name": "stderr",
     "output_type": "stream",
     "text": [
      " 23%|█████████▎                              | 465/2000 [01:12<03:56,  6.48it/s]"
     ]
    },
    {
     "name": "stdout",
     "output_type": "stream",
     "text": [
      "18610\n",
      "75422\n",
      "Epoch 00463 | Loss 23.0191 | train_RMSE 2.4989 | test_RMSE 2.4953 \n",
      "18610\n",
      "75422\n",
      "Epoch 00464 | Loss 22.8790 | train_RMSE 2.5245 | test_RMSE 2.5152 \n"
     ]
    },
    {
     "name": "stderr",
     "output_type": "stream",
     "text": [
      " 23%|█████████▎                              | 467/2000 [01:12<03:56,  6.48it/s]"
     ]
    },
    {
     "name": "stdout",
     "output_type": "stream",
     "text": [
      "18610\n",
      "75422\n",
      "Epoch 00465 | Loss 22.8728 | train_RMSE 2.4979 | test_RMSE 2.4927 \n",
      "18610\n",
      "75422\n",
      "Epoch 00466 | Loss 22.7230 | train_RMSE 2.4989 | test_RMSE 2.4930 \n"
     ]
    },
    {
     "name": "stderr",
     "output_type": "stream",
     "text": [
      " 23%|█████████▍                              | 469/2000 [01:12<03:56,  6.47it/s]"
     ]
    },
    {
     "name": "stdout",
     "output_type": "stream",
     "text": [
      "18610\n",
      "75422\n",
      "Epoch 00467 | Loss 22.7443 | train_RMSE 2.5116 | test_RMSE 2.5021 \n",
      "18610\n",
      "75422\n",
      "Epoch 00468 | Loss 22.6767 | train_RMSE 2.4859 | test_RMSE 2.4799 \n"
     ]
    },
    {
     "name": "stderr",
     "output_type": "stream",
     "text": [
      " 24%|█████████▍                              | 471/2000 [01:12<03:54,  6.52it/s]"
     ]
    },
    {
     "name": "stdout",
     "output_type": "stream",
     "text": [
      "18610\n",
      "75422\n",
      "Epoch 00469 | Loss 22.7468 | train_RMSE 2.4876 | test_RMSE 2.4801 \n",
      "18610\n",
      "75422\n",
      "Epoch 00470 | Loss 22.7993 | train_RMSE 2.4871 | test_RMSE 2.4805 \n"
     ]
    },
    {
     "name": "stderr",
     "output_type": "stream",
     "text": [
      " 24%|█████████▍                              | 473/2000 [01:13<03:55,  6.49it/s]"
     ]
    },
    {
     "name": "stdout",
     "output_type": "stream",
     "text": [
      "18610\n",
      "75422\n",
      "Epoch 00471 | Loss 22.8390 | train_RMSE 2.4782 | test_RMSE 2.4738 \n",
      "18610\n",
      "75422\n",
      "Epoch 00472 | Loss 22.6456 | train_RMSE 2.4847 | test_RMSE 2.4785 \n"
     ]
    },
    {
     "name": "stderr",
     "output_type": "stream",
     "text": [
      " 24%|█████████▌                              | 475/2000 [01:13<03:54,  6.50it/s]"
     ]
    },
    {
     "name": "stdout",
     "output_type": "stream",
     "text": [
      "18610\n",
      "75422\n",
      "Epoch 00473 | Loss 22.4519 | train_RMSE 2.4639 | test_RMSE 2.4601 \n",
      "18610\n",
      "75422\n",
      "Epoch 00474 | Loss 22.6049 | train_RMSE 2.4829 | test_RMSE 2.4750 \n"
     ]
    },
    {
     "name": "stderr",
     "output_type": "stream",
     "text": [
      " 24%|█████████▌                              | 477/2000 [01:13<03:53,  6.52it/s]"
     ]
    },
    {
     "name": "stdout",
     "output_type": "stream",
     "text": [
      "18610\n",
      "75422\n",
      "Epoch 00475 | Loss 22.5242 | train_RMSE 2.4656 | test_RMSE 2.4608 \n",
      "18610\n",
      "75422\n",
      "Epoch 00476 | Loss 22.5538 | train_RMSE 2.4736 | test_RMSE 2.4672 \n"
     ]
    },
    {
     "name": "stderr",
     "output_type": "stream",
     "text": [
      " 24%|█████████▌                              | 479/2000 [01:14<03:52,  6.54it/s]"
     ]
    },
    {
     "name": "stdout",
     "output_type": "stream",
     "text": [
      "18610\n",
      "75422\n",
      "Epoch 00477 | Loss 22.5687 | train_RMSE 2.4749 | test_RMSE 2.4683 \n",
      "18610\n",
      "75422\n",
      "Epoch 00478 | Loss 22.5186 | train_RMSE 2.4639 | test_RMSE 2.4588 \n"
     ]
    },
    {
     "name": "stderr",
     "output_type": "stream",
     "text": [
      " 24%|█████████▌                              | 481/2000 [01:14<03:53,  6.51it/s]"
     ]
    },
    {
     "name": "stdout",
     "output_type": "stream",
     "text": [
      "18610\n",
      "75422\n",
      "Epoch 00479 | Loss 22.5044 | train_RMSE 2.4770 | test_RMSE 2.4691 \n",
      "18610\n",
      "75422\n",
      "Epoch 00480 | Loss 22.3623 | train_RMSE 2.4524 | test_RMSE 2.4475 \n"
     ]
    },
    {
     "name": "stderr",
     "output_type": "stream",
     "text": [
      " 24%|█████████▋                              | 483/2000 [01:14<03:52,  6.54it/s]"
     ]
    },
    {
     "name": "stdout",
     "output_type": "stream",
     "text": [
      "18610\n",
      "75422\n",
      "Epoch 00481 | Loss 22.5124 | train_RMSE 2.4502 | test_RMSE 2.4444 \n",
      "18610\n",
      "75422\n",
      "Epoch 00482 | Loss 22.4330 | train_RMSE 2.4483 | test_RMSE 2.4410 \n"
     ]
    },
    {
     "name": "stderr",
     "output_type": "stream",
     "text": [
      " 24%|█████████▋                              | 485/2000 [01:15<03:52,  6.52it/s]"
     ]
    },
    {
     "name": "stdout",
     "output_type": "stream",
     "text": [
      "18610\n",
      "75422\n",
      "Epoch 00483 | Loss 22.2794 | train_RMSE 2.4430 | test_RMSE 2.4368 \n",
      "18610\n",
      "75422\n",
      "Epoch 00484 | Loss 22.3958 | train_RMSE 2.4673 | test_RMSE 2.4579 \n"
     ]
    },
    {
     "name": "stderr",
     "output_type": "stream",
     "text": [
      " 24%|█████████▋                              | 487/2000 [01:15<03:51,  6.53it/s]"
     ]
    },
    {
     "name": "stdout",
     "output_type": "stream",
     "text": [
      "18610\n",
      "75422\n",
      "Epoch 00485 | Loss 22.3666 | train_RMSE 2.4494 | test_RMSE 2.4450 \n",
      "18610\n",
      "75422\n",
      "Epoch 00486 | Loss 22.3803 | train_RMSE 2.4909 | test_RMSE 2.4809 \n"
     ]
    },
    {
     "name": "stderr",
     "output_type": "stream",
     "text": [
      " 24%|█████████▊                              | 489/2000 [01:15<03:52,  6.51it/s]"
     ]
    },
    {
     "name": "stdout",
     "output_type": "stream",
     "text": [
      "18610\n",
      "75422\n",
      "Epoch 00487 | Loss 22.5958 | train_RMSE 2.4570 | test_RMSE 2.4540 \n",
      "18610\n",
      "75422\n",
      "Epoch 00488 | Loss 22.2693 | train_RMSE 2.4975 | test_RMSE 2.4865 \n"
     ]
    },
    {
     "name": "stderr",
     "output_type": "stream",
     "text": [
      " 25%|█████████▊                              | 491/2000 [01:15<03:50,  6.54it/s]"
     ]
    },
    {
     "name": "stdout",
     "output_type": "stream",
     "text": [
      "18610\n",
      "75422\n",
      "Epoch 00489 | Loss 22.6179 | train_RMSE 2.4411 | test_RMSE 2.4350 \n",
      "18610\n",
      "75422\n",
      "Epoch 00490 | Loss 22.3677 | train_RMSE 2.4846 | test_RMSE 2.4719 \n"
     ]
    },
    {
     "name": "stderr",
     "output_type": "stream",
     "text": [
      " 25%|█████████▊                              | 493/2000 [01:16<03:50,  6.54it/s]"
     ]
    },
    {
     "name": "stdout",
     "output_type": "stream",
     "text": [
      "18610\n",
      "75422\n",
      "Epoch 00491 | Loss 22.2905 | train_RMSE 2.4640 | test_RMSE 2.4602 \n",
      "18610\n",
      "75422\n",
      "Epoch 00492 | Loss 22.5841 | train_RMSE 2.5628 | test_RMSE 2.5486 \n"
     ]
    },
    {
     "name": "stderr",
     "output_type": "stream",
     "text": [
      " 25%|█████████▉                              | 495/2000 [01:16<03:51,  6.50it/s]"
     ]
    },
    {
     "name": "stdout",
     "output_type": "stream",
     "text": [
      "18610\n",
      "75422\n",
      "Epoch 00493 | Loss 22.5753 | train_RMSE 2.4703 | test_RMSE 2.4689 \n",
      "18610\n",
      "75422\n",
      "Epoch 00494 | Loss 22.1837 | train_RMSE 2.4562 | test_RMSE 2.4480 \n"
     ]
    },
    {
     "name": "stderr",
     "output_type": "stream",
     "text": [
      " 25%|█████████▉                              | 497/2000 [01:16<03:51,  6.48it/s]"
     ]
    },
    {
     "name": "stdout",
     "output_type": "stream",
     "text": [
      "18610\n",
      "75422\n",
      "Epoch 00495 | Loss 22.2147 | train_RMSE 2.4477 | test_RMSE 2.4395 \n",
      "18610\n",
      "75422\n",
      "Epoch 00496 | Loss 22.0170 | train_RMSE 2.4685 | test_RMSE 2.4650 \n"
     ]
    },
    {
     "name": "stderr",
     "output_type": "stream",
     "text": [
      " 25%|█████████▉                              | 499/2000 [01:17<03:50,  6.51it/s]"
     ]
    },
    {
     "name": "stdout",
     "output_type": "stream",
     "text": [
      "18610\n",
      "75422\n",
      "Epoch 00497 | Loss 22.1285 | train_RMSE 2.5479 | test_RMSE 2.5336 \n",
      "18610\n",
      "75422\n",
      "Epoch 00498 | Loss 22.7673 | train_RMSE 2.4718 | test_RMSE 2.4697 \n"
     ]
    },
    {
     "name": "stderr",
     "output_type": "stream",
     "text": [
      " 25%|██████████                              | 501/2000 [01:17<03:49,  6.53it/s]"
     ]
    },
    {
     "name": "stdout",
     "output_type": "stream",
     "text": [
      "18610\n",
      "75422\n",
      "Epoch 00499 | Loss 22.4842 | train_RMSE 2.4891 | test_RMSE 2.4773 \n",
      "18610\n",
      "75422\n",
      "Epoch 00500 | Loss 22.3390 | train_RMSE 2.4215 | test_RMSE 2.4168 \n"
     ]
    },
    {
     "name": "stderr",
     "output_type": "stream",
     "text": [
      " 25%|██████████                              | 503/2000 [01:17<03:50,  6.50it/s]"
     ]
    },
    {
     "name": "stdout",
     "output_type": "stream",
     "text": [
      "18610\n",
      "75422\n",
      "Epoch 00501 | Loss 22.0460 | train_RMSE 2.4419 | test_RMSE 2.4317 \n",
      "18610\n",
      "75422\n",
      "Epoch 00502 | Loss 22.0000 | train_RMSE 2.4233 | test_RMSE 2.4187 \n"
     ]
    },
    {
     "name": "stderr",
     "output_type": "stream",
     "text": [
      " 25%|██████████                              | 505/2000 [01:18<03:49,  6.50it/s]"
     ]
    },
    {
     "name": "stdout",
     "output_type": "stream",
     "text": [
      "18610\n",
      "75422\n",
      "Epoch 00503 | Loss 21.9907 | train_RMSE 2.4486 | test_RMSE 2.4393 \n",
      "18610\n",
      "75422\n",
      "Epoch 00504 | Loss 22.1684 | train_RMSE 2.4087 | test_RMSE 2.4050 \n"
     ]
    },
    {
     "name": "stderr",
     "output_type": "stream",
     "text": [
      " 25%|██████████▏                             | 507/2000 [01:18<03:50,  6.47it/s]"
     ]
    },
    {
     "name": "stdout",
     "output_type": "stream",
     "text": [
      "18610\n",
      "75422\n",
      "Epoch 00505 | Loss 21.9354 | train_RMSE 2.4107 | test_RMSE 2.4043 \n",
      "18610\n",
      "75422\n",
      "Epoch 00506 | Loss 21.8459 | train_RMSE 2.4044 | test_RMSE 2.3966 \n"
     ]
    },
    {
     "name": "stderr",
     "output_type": "stream",
     "text": [
      " 25%|██████████▏                             | 509/2000 [01:18<03:51,  6.45it/s]"
     ]
    },
    {
     "name": "stdout",
     "output_type": "stream",
     "text": [
      "18610\n",
      "75422\n",
      "Epoch 00507 | Loss 21.8286 | train_RMSE 2.3952 | test_RMSE 2.3885 \n",
      "18610\n",
      "75422\n",
      "Epoch 00508 | Loss 21.6881 | train_RMSE 2.4204 | test_RMSE 2.4100 \n"
     ]
    },
    {
     "name": "stderr",
     "output_type": "stream",
     "text": [
      " 26%|██████████▏                             | 511/2000 [01:19<03:49,  6.50it/s]"
     ]
    },
    {
     "name": "stdout",
     "output_type": "stream",
     "text": [
      "18610\n",
      "75422\n",
      "Epoch 00509 | Loss 22.1314 | train_RMSE 2.4100 | test_RMSE 2.4063 \n",
      "18610\n",
      "75422\n",
      "Epoch 00510 | Loss 21.9707 | train_RMSE 2.4808 | test_RMSE 2.4683 \n"
     ]
    },
    {
     "name": "stderr",
     "output_type": "stream",
     "text": [
      " 26%|██████████▎                             | 513/2000 [01:19<03:47,  6.52it/s]"
     ]
    },
    {
     "name": "stdout",
     "output_type": "stream",
     "text": [
      "18610\n",
      "75422\n",
      "Epoch 00511 | Loss 21.9318 | train_RMSE 2.4710 | test_RMSE 2.4717 \n",
      "18610\n",
      "75422\n",
      "Epoch 00512 | Loss 22.4561 | train_RMSE 2.6222 | test_RMSE 2.6063 \n"
     ]
    },
    {
     "name": "stderr",
     "output_type": "stream",
     "text": [
      " 26%|██████████▎                             | 515/2000 [01:19<03:47,  6.53it/s]"
     ]
    },
    {
     "name": "stdout",
     "output_type": "stream",
     "text": [
      "18610\n",
      "75422\n",
      "Epoch 00513 | Loss 22.5910 | train_RMSE 2.5390 | test_RMSE 2.5373 \n",
      "18610\n",
      "75422\n",
      "Epoch 00514 | Loss 22.8313 | train_RMSE 2.6108 | test_RMSE 2.5936 \n"
     ]
    },
    {
     "name": "stderr",
     "output_type": "stream",
     "text": [
      " 26%|██████████▎                             | 517/2000 [01:19<03:46,  6.55it/s]"
     ]
    },
    {
     "name": "stdout",
     "output_type": "stream",
     "text": [
      "18610\n",
      "75422\n",
      "Epoch 00515 | Loss 22.6065 | train_RMSE 2.4494 | test_RMSE 2.4470 \n",
      "18610\n",
      "75422\n",
      "Epoch 00516 | Loss 22.2531 | train_RMSE 2.4233 | test_RMSE 2.4116 \n"
     ]
    },
    {
     "name": "stderr",
     "output_type": "stream",
     "text": [
      " 26%|██████████▍                             | 519/2000 [01:20<03:46,  6.55it/s]"
     ]
    },
    {
     "name": "stdout",
     "output_type": "stream",
     "text": [
      "18610\n",
      "75422\n",
      "Epoch 00517 | Loss 21.8019 | train_RMSE 2.3879 | test_RMSE 2.3780 \n",
      "18610\n",
      "75422\n",
      "Epoch 00518 | Loss 21.8668 | train_RMSE 2.4223 | test_RMSE 2.4173 \n"
     ]
    },
    {
     "name": "stderr",
     "output_type": "stream",
     "text": [
      " 26%|██████████▍                             | 521/2000 [01:20<03:46,  6.54it/s]"
     ]
    },
    {
     "name": "stdout",
     "output_type": "stream",
     "text": [
      "18610\n",
      "75422\n",
      "Epoch 00519 | Loss 22.0584 | train_RMSE 2.6290 | test_RMSE 2.6105 \n",
      "18610\n",
      "75422\n",
      "Epoch 00520 | Loss 22.8155 | train_RMSE 2.5835 | test_RMSE 2.5845 \n"
     ]
    },
    {
     "name": "stderr",
     "output_type": "stream",
     "text": [
      " 26%|██████████▍                             | 523/2000 [01:20<03:45,  6.54it/s]"
     ]
    },
    {
     "name": "stdout",
     "output_type": "stream",
     "text": [
      "18610\n",
      "75422\n",
      "Epoch 00521 | Loss 23.0160 | train_RMSE 2.7422 | test_RMSE 2.7227 \n",
      "18610\n",
      "75422\n",
      "Epoch 00522 | Loss 23.4658 | train_RMSE 2.5402 | test_RMSE 2.5418 \n"
     ]
    },
    {
     "name": "stderr",
     "output_type": "stream",
     "text": [
      " 26%|██████████▌                             | 525/2000 [01:21<03:45,  6.55it/s]"
     ]
    },
    {
     "name": "stdout",
     "output_type": "stream",
     "text": [
      "18610\n",
      "75422\n",
      "Epoch 00523 | Loss 22.8126 | train_RMSE 2.5231 | test_RMSE 2.5091 \n",
      "18610\n",
      "75422\n",
      "Epoch 00524 | Loss 22.2665 | train_RMSE 2.3718 | test_RMSE 2.3650 \n"
     ]
    },
    {
     "name": "stderr",
     "output_type": "stream",
     "text": [
      " 26%|██████████▌                             | 527/2000 [01:21<03:46,  6.51it/s]"
     ]
    },
    {
     "name": "stdout",
     "output_type": "stream",
     "text": [
      "18610\n",
      "75422\n",
      "Epoch 00525 | Loss 21.7749 | train_RMSE 2.3783 | test_RMSE 2.3731 \n",
      "18610\n",
      "75422\n",
      "Epoch 00526 | Loss 21.5671 | train_RMSE 2.5211 | test_RMSE 2.5061 \n"
     ]
    },
    {
     "name": "stderr",
     "output_type": "stream",
     "text": [
      " 26%|██████████▌                             | 529/2000 [01:21<03:45,  6.53it/s]"
     ]
    },
    {
     "name": "stdout",
     "output_type": "stream",
     "text": [
      "18610\n",
      "75422\n",
      "Epoch 00527 | Loss 22.1660 | train_RMSE 2.4882 | test_RMSE 2.4895 \n",
      "18610\n",
      "75422\n",
      "Epoch 00528 | Loss 22.4401 | train_RMSE 2.5728 | test_RMSE 2.5556 \n"
     ]
    },
    {
     "name": "stderr",
     "output_type": "stream",
     "text": [
      " 27%|██████████▌                             | 531/2000 [01:22<03:44,  6.54it/s]"
     ]
    },
    {
     "name": "stdout",
     "output_type": "stream",
     "text": [
      "18610\n",
      "75422\n",
      "Epoch 00529 | Loss 22.3909 | train_RMSE 2.4176 | test_RMSE 2.4137 \n",
      "18610\n",
      "75422\n",
      "Epoch 00530 | Loss 21.8757 | train_RMSE 2.4146 | test_RMSE 2.4021 \n"
     ]
    },
    {
     "name": "stderr",
     "output_type": "stream",
     "text": [
      " 27%|██████████▋                             | 533/2000 [01:22<03:44,  6.54it/s]"
     ]
    },
    {
     "name": "stdout",
     "output_type": "stream",
     "text": [
      "18610\n",
      "75422\n",
      "Epoch 00531 | Loss 21.8355 | train_RMSE 2.3658 | test_RMSE 2.3566 \n",
      "18610\n",
      "75422\n",
      "Epoch 00532 | Loss 21.5824 | train_RMSE 2.3754 | test_RMSE 2.3708 \n"
     ]
    },
    {
     "name": "stderr",
     "output_type": "stream",
     "text": [
      " 27%|██████████▋                             | 535/2000 [01:22<03:44,  6.54it/s]"
     ]
    },
    {
     "name": "stdout",
     "output_type": "stream",
     "text": [
      "18610\n",
      "75422\n",
      "Epoch 00533 | Loss 21.6016 | train_RMSE 2.4408 | test_RMSE 2.4273 \n",
      "18610\n",
      "75422\n",
      "Epoch 00534 | Loss 21.9463 | train_RMSE 2.3830 | test_RMSE 2.3781 \n"
     ]
    },
    {
     "name": "stderr",
     "output_type": "stream",
     "text": [
      " 27%|██████████▋                             | 537/2000 [01:23<03:44,  6.50it/s]"
     ]
    },
    {
     "name": "stdout",
     "output_type": "stream",
     "text": [
      "18610\n",
      "75422\n",
      "Epoch 00535 | Loss 21.6704 | train_RMSE 2.4226 | test_RMSE 2.4094 \n",
      "18610\n",
      "75422\n",
      "Epoch 00536 | Loss 21.5038 | train_RMSE 2.3607 | test_RMSE 2.3534 \n"
     ]
    },
    {
     "name": "stderr",
     "output_type": "stream",
     "text": [
      " 27%|██████████▊                             | 539/2000 [01:23<03:44,  6.52it/s]"
     ]
    },
    {
     "name": "stdout",
     "output_type": "stream",
     "text": [
      "18610\n",
      "75422\n",
      "Epoch 00537 | Loss 21.5040 | train_RMSE 2.3579 | test_RMSE 2.3479 \n",
      "18610\n",
      "75422\n",
      "Epoch 00538 | Loss 21.6588 | train_RMSE 2.3905 | test_RMSE 2.3786 \n"
     ]
    },
    {
     "name": "stderr",
     "output_type": "stream",
     "text": [
      " 27%|██████████▊                             | 541/2000 [01:23<03:43,  6.52it/s]"
     ]
    },
    {
     "name": "stdout",
     "output_type": "stream",
     "text": [
      "18610\n",
      "75422\n",
      "Epoch 00539 | Loss 21.4363 | train_RMSE 2.3700 | test_RMSE 2.3656 \n",
      "18610\n",
      "75422\n",
      "Epoch 00540 | Loss 21.7061 | train_RMSE 2.4591 | test_RMSE 2.4446 \n"
     ]
    },
    {
     "name": "stderr",
     "output_type": "stream",
     "text": [
      " 27%|██████████▊                             | 543/2000 [01:23<03:43,  6.53it/s]"
     ]
    },
    {
     "name": "stdout",
     "output_type": "stream",
     "text": [
      "18610\n",
      "75422\n",
      "Epoch 00541 | Loss 21.7212 | train_RMSE 2.4187 | test_RMSE 2.4156 \n",
      "18610\n",
      "75422\n",
      "Epoch 00542 | Loss 21.9703 | train_RMSE 2.5299 | test_RMSE 2.5129 \n"
     ]
    },
    {
     "name": "stderr",
     "output_type": "stream",
     "text": [
      " 27%|██████████▉                             | 545/2000 [01:24<03:42,  6.53it/s]"
     ]
    },
    {
     "name": "stdout",
     "output_type": "stream",
     "text": [
      "18610\n",
      "75422\n",
      "Epoch 00543 | Loss 22.0409 | train_RMSE 2.4214 | test_RMSE 2.4180 \n",
      "18610\n",
      "75422\n",
      "Epoch 00544 | Loss 21.6970 | train_RMSE 2.4658 | test_RMSE 2.4498 \n"
     ]
    },
    {
     "name": "stderr",
     "output_type": "stream",
     "text": [
      " 27%|██████████▉                             | 547/2000 [01:24<03:42,  6.54it/s]"
     ]
    },
    {
     "name": "stdout",
     "output_type": "stream",
     "text": [
      "18610\n",
      "75422\n",
      "Epoch 00545 | Loss 21.8216 | train_RMSE 2.3728 | test_RMSE 2.3687 \n",
      "18610\n",
      "75422\n",
      "Epoch 00546 | Loss 21.6319 | train_RMSE 2.3985 | test_RMSE 2.3858 \n"
     ]
    },
    {
     "name": "stderr",
     "output_type": "stream",
     "text": [
      " 27%|██████████▉                             | 549/2000 [01:24<03:43,  6.50it/s]"
     ]
    },
    {
     "name": "stdout",
     "output_type": "stream",
     "text": [
      "18610\n",
      "75422\n",
      "Epoch 00547 | Loss 21.7018 | train_RMSE 2.3497 | test_RMSE 2.3464 \n",
      "18610\n",
      "75422\n",
      "Epoch 00548 | Loss 21.2957 | train_RMSE 2.3539 | test_RMSE 2.3436 \n"
     ]
    },
    {
     "name": "stderr",
     "output_type": "stream",
     "text": [
      " 28%|███████████                             | 551/2000 [01:25<03:42,  6.52it/s]"
     ]
    },
    {
     "name": "stdout",
     "output_type": "stream",
     "text": [
      "18610\n",
      "75422\n",
      "Epoch 00549 | Loss 21.3951 | train_RMSE 2.3316 | test_RMSE 2.3227 \n",
      "18610\n",
      "75422\n",
      "Epoch 00550 | Loss 21.6465 | train_RMSE 2.3568 | test_RMSE 2.3435 \n"
     ]
    },
    {
     "name": "stderr",
     "output_type": "stream",
     "text": [
      " 28%|███████████                             | 553/2000 [01:25<03:41,  6.53it/s]"
     ]
    },
    {
     "name": "stdout",
     "output_type": "stream",
     "text": [
      "18610\n",
      "75422\n",
      "Epoch 00551 | Loss 21.3893 | train_RMSE 2.3347 | test_RMSE 2.3251 \n",
      "18610\n",
      "75422\n",
      "Epoch 00552 | Loss 21.3635 | train_RMSE 2.3443 | test_RMSE 2.3334 \n"
     ]
    },
    {
     "name": "stderr",
     "output_type": "stream",
     "text": [
      " 28%|███████████                             | 555/2000 [01:25<03:41,  6.51it/s]"
     ]
    },
    {
     "name": "stdout",
     "output_type": "stream",
     "text": [
      "18610\n",
      "75422\n",
      "Epoch 00553 | Loss 20.9824 | train_RMSE 2.3245 | test_RMSE 2.3161 \n",
      "18610\n",
      "75422\n",
      "Epoch 00554 | Loss 21.1466 | train_RMSE 2.3240 | test_RMSE 2.3151 \n"
     ]
    },
    {
     "name": "stderr",
     "output_type": "stream",
     "text": [
      " 28%|███████████▏                            | 557/2000 [01:26<03:41,  6.52it/s]"
     ]
    },
    {
     "name": "stdout",
     "output_type": "stream",
     "text": [
      "18610\n",
      "75422\n",
      "Epoch 00555 | Loss 21.2582 | train_RMSE 2.3283 | test_RMSE 2.3191 \n",
      "18610\n",
      "75422\n",
      "Epoch 00556 | Loss 21.3396 | train_RMSE 2.3228 | test_RMSE 2.3151 \n"
     ]
    },
    {
     "name": "stderr",
     "output_type": "stream",
     "text": [
      " 28%|███████████▏                            | 559/2000 [01:26<03:40,  6.53it/s]"
     ]
    },
    {
     "name": "stdout",
     "output_type": "stream",
     "text": [
      "18610\n",
      "75422\n",
      "Epoch 00557 | Loss 21.3729 | train_RMSE 2.3810 | test_RMSE 2.3684 \n",
      "18610\n",
      "75422\n",
      "Epoch 00558 | Loss 21.2655 | train_RMSE 2.3890 | test_RMSE 2.3844 \n"
     ]
    },
    {
     "name": "stderr",
     "output_type": "stream",
     "text": [
      " 28%|███████████▏                            | 561/2000 [01:26<03:39,  6.54it/s]"
     ]
    },
    {
     "name": "stdout",
     "output_type": "stream",
     "text": [
      "18610\n",
      "75422\n",
      "Epoch 00559 | Loss 21.6996 | train_RMSE 2.6205 | test_RMSE 2.6005 \n",
      "18610\n",
      "75422\n",
      "Epoch 00560 | Loss 22.2971 | train_RMSE 2.8104 | test_RMSE 2.8131 \n"
     ]
    },
    {
     "name": "stderr",
     "output_type": "stream",
     "text": [
      " 28%|███████████▎                            | 563/2000 [01:27<03:39,  6.54it/s]"
     ]
    },
    {
     "name": "stdout",
     "output_type": "stream",
     "text": [
      "18610\n",
      "75422\n",
      "Epoch 00561 | Loss 24.2648 | train_RMSE 3.6771 | test_RMSE 3.6468 \n",
      "18610\n",
      "75422\n",
      "Epoch 00562 | Loss 28.8835 | train_RMSE 4.2903 | test_RMSE 4.2979 \n"
     ]
    },
    {
     "name": "stderr",
     "output_type": "stream",
     "text": [
      " 28%|███████████▎                            | 565/2000 [01:27<03:39,  6.53it/s]"
     ]
    },
    {
     "name": "stdout",
     "output_type": "stream",
     "text": [
      "18610\n",
      "75422\n",
      "Epoch 00563 | Loss 35.0161 | train_RMSE 5.4171 | test_RMSE 5.3766 \n",
      "18610\n",
      "75422\n",
      "Epoch 00564 | Loss 43.8289 | train_RMSE 4.7536 | test_RMSE 4.7721 \n"
     ]
    },
    {
     "name": "stderr",
     "output_type": "stream",
     "text": [
      " 28%|███████████▎                            | 567/2000 [01:27<03:39,  6.54it/s]"
     ]
    },
    {
     "name": "stdout",
     "output_type": "stream",
     "text": [
      "18610\n",
      "75422\n",
      "Epoch 00565 | Loss 39.7186 | train_RMSE 3.9067 | test_RMSE 3.8763 \n",
      "18610\n",
      "75422\n",
      "Epoch 00566 | Loss 30.5251 | train_RMSE 2.4138 | test_RMSE 2.4123 \n"
     ]
    },
    {
     "name": "stderr",
     "output_type": "stream",
     "text": [
      " 28%|███████████▍                            | 569/2000 [01:27<03:38,  6.54it/s]"
     ]
    },
    {
     "name": "stdout",
     "output_type": "stream",
     "text": [
      "18610\n",
      "75422\n",
      "Epoch 00567 | Loss 21.7287 | train_RMSE 2.9679 | test_RMSE 2.9744 \n",
      "18610\n",
      "75422\n",
      "Epoch 00568 | Loss 24.5126 | train_RMSE 3.9203 | test_RMSE 3.8959 \n"
     ]
    },
    {
     "name": "stderr",
     "output_type": "stream",
     "text": [
      " 29%|███████████▍                            | 571/2000 [01:28<03:38,  6.54it/s]"
     ]
    },
    {
     "name": "stdout",
     "output_type": "stream",
     "text": [
      "18610\n",
      "75422\n",
      "Epoch 00569 | Loss 30.5626 | train_RMSE 3.1204 | test_RMSE 3.1377 \n",
      "18610\n",
      "75422\n",
      "Epoch 00570 | Loss 25.8280 | train_RMSE 2.4013 | test_RMSE 2.3942 \n"
     ]
    },
    {
     "name": "stderr",
     "output_type": "stream",
     "text": [
      " 29%|███████████▍                            | 573/2000 [01:28<03:38,  6.54it/s]"
     ]
    },
    {
     "name": "stdout",
     "output_type": "stream",
     "text": [
      "18610\n",
      "75422\n",
      "Epoch 00571 | Loss 21.4535 | train_RMSE 2.9387 | test_RMSE 2.9159 \n",
      "18610\n",
      "75422\n",
      "Epoch 00572 | Loss 24.0559 | train_RMSE 3.2508 | test_RMSE 3.2598 \n"
     ]
    },
    {
     "name": "stderr",
     "output_type": "stream",
     "text": [
      " 29%|███████████▌                            | 575/2000 [01:28<03:37,  6.54it/s]"
     ]
    },
    {
     "name": "stdout",
     "output_type": "stream",
     "text": [
      "18610\n",
      "75422\n",
      "Epoch 00573 | Loss 27.0010 | train_RMSE 2.9829 | test_RMSE 2.9612 \n",
      "18610\n",
      "75422\n",
      "Epoch 00574 | Loss 24.2305 | train_RMSE 2.3385 | test_RMSE 2.3290 \n"
     ]
    },
    {
     "name": "stderr",
     "output_type": "stream",
     "text": [
      " 29%|███████████▌                            | 577/2000 [01:29<03:37,  6.54it/s]"
     ]
    },
    {
     "name": "stdout",
     "output_type": "stream",
     "text": [
      "18610\n",
      "75422\n",
      "Epoch 00575 | Loss 21.1888 | train_RMSE 2.7846 | test_RMSE 2.7925 \n",
      "18610\n",
      "75422\n",
      "Epoch 00576 | Loss 23.8554 | train_RMSE 3.1517 | test_RMSE 3.1286 \n"
     ]
    },
    {
     "name": "stderr",
     "output_type": "stream",
     "text": [
      " 29%|███████████▌                            | 579/2000 [01:29<03:37,  6.54it/s]"
     ]
    },
    {
     "name": "stdout",
     "output_type": "stream",
     "text": [
      "18610\n",
      "75422\n",
      "Epoch 00577 | Loss 24.9854 | train_RMSE 2.4307 | test_RMSE 2.4302 \n",
      "18610\n",
      "75422\n",
      "Epoch 00578 | Loss 21.7209 | train_RMSE 2.4879 | test_RMSE 2.4881 \n"
     ]
    },
    {
     "name": "stderr",
     "output_type": "stream",
     "text": [
      " 29%|███████████▌                            | 581/2000 [01:29<03:36,  6.54it/s]"
     ]
    },
    {
     "name": "stdout",
     "output_type": "stream",
     "text": [
      "18610\n",
      "75422\n",
      "Epoch 00579 | Loss 21.9041 | train_RMSE 3.0715 | test_RMSE 3.0529 \n",
      "18610\n",
      "75422\n",
      "Epoch 00580 | Loss 24.9913 | train_RMSE 2.6070 | test_RMSE 2.6123 \n"
     ]
    },
    {
     "name": "stderr",
     "output_type": "stream",
     "text": [
      " 29%|███████████▋                            | 583/2000 [01:30<03:36,  6.54it/s]"
     ]
    },
    {
     "name": "stdout",
     "output_type": "stream",
     "text": [
      "18610\n",
      "75422\n",
      "Epoch 00581 | Loss 22.8598 | train_RMSE 2.3323 | test_RMSE 2.3278 \n",
      "18610\n",
      "75422\n",
      "Epoch 00582 | Loss 21.0637 | train_RMSE 2.6619 | test_RMSE 2.6456 \n"
     ]
    },
    {
     "name": "stderr",
     "output_type": "stream",
     "text": [
      " 29%|███████████▋                            | 585/2000 [01:30<03:36,  6.54it/s]"
     ]
    },
    {
     "name": "stdout",
     "output_type": "stream",
     "text": [
      "18610\n",
      "75422\n",
      "Epoch 00583 | Loss 22.6405 | train_RMSE 2.5946 | test_RMSE 2.5985 \n",
      "18610\n",
      "75422\n",
      "Epoch 00584 | Loss 22.7358 | train_RMSE 2.3943 | test_RMSE 2.3817 \n"
     ]
    },
    {
     "name": "stderr",
     "output_type": "stream",
     "text": [
      " 29%|███████████▋                            | 587/2000 [01:30<03:35,  6.54it/s]"
     ]
    },
    {
     "name": "stdout",
     "output_type": "stream",
     "text": [
      "18610\n",
      "75422\n",
      "Epoch 00585 | Loss 21.4365 | train_RMSE 2.4470 | test_RMSE 2.4328 \n",
      "18610\n",
      "75422\n",
      "Epoch 00586 | Loss 21.7541 | train_RMSE 2.6407 | test_RMSE 2.6472 \n"
     ]
    },
    {
     "name": "stderr",
     "output_type": "stream",
     "text": [
      " 29%|███████████▊                            | 589/2000 [01:31<03:35,  6.54it/s]"
     ]
    },
    {
     "name": "stdout",
     "output_type": "stream",
     "text": [
      "18610\n",
      "75422\n",
      "Epoch 00587 | Loss 23.0067 | train_RMSE 2.6031 | test_RMSE 2.5853 \n",
      "18610\n",
      "75422\n",
      "Epoch 00588 | Loss 22.2226 | train_RMSE 2.3103 | test_RMSE 2.3037 \n"
     ]
    },
    {
     "name": "stderr",
     "output_type": "stream",
     "text": [
      " 30%|███████████▊                            | 591/2000 [01:31<03:35,  6.54it/s]"
     ]
    },
    {
     "name": "stdout",
     "output_type": "stream",
     "text": [
      "18610\n",
      "75422\n",
      "Epoch 00589 | Loss 21.0030 | train_RMSE 2.4141 | test_RMSE 2.4116 \n",
      "18610\n",
      "75422\n",
      "Epoch 00590 | Loss 21.8831 | train_RMSE 2.5689 | test_RMSE 2.5537 \n"
     ]
    },
    {
     "name": "stderr",
     "output_type": "stream",
     "text": [
      " 30%|███████████▊                            | 593/2000 [01:31<03:35,  6.54it/s]"
     ]
    },
    {
     "name": "stdout",
     "output_type": "stream",
     "text": [
      "18610\n",
      "75422\n",
      "Epoch 00591 | Loss 22.1313 | train_RMSE 2.3251 | test_RMSE 2.3191 \n",
      "18610\n",
      "75422\n",
      "Epoch 00592 | Loss 21.3795 | train_RMSE 2.3242 | test_RMSE 2.3202 \n"
     ]
    },
    {
     "name": "stderr",
     "output_type": "stream",
     "text": [
      " 30%|███████████▉                            | 595/2000 [01:31<03:34,  6.54it/s]"
     ]
    },
    {
     "name": "stdout",
     "output_type": "stream",
     "text": [
      "18610\n",
      "75422\n",
      "Epoch 00593 | Loss 21.3006 | train_RMSE 2.4712 | test_RMSE 2.4555 \n",
      "18610\n",
      "75422\n",
      "Epoch 00594 | Loss 21.5375 | train_RMSE 2.3577 | test_RMSE 2.3582 \n"
     ]
    },
    {
     "name": "stderr",
     "output_type": "stream",
     "text": [
      " 30%|███████████▉                            | 597/2000 [01:32<03:34,  6.54it/s]"
     ]
    },
    {
     "name": "stdout",
     "output_type": "stream",
     "text": [
      "18610\n",
      "75422\n",
      "Epoch 00595 | Loss 21.5465 | train_RMSE 2.2985 | test_RMSE 2.2896 \n",
      "18610\n",
      "75422\n",
      "Epoch 00596 | Loss 21.0241 | train_RMSE 2.3313 | test_RMSE 2.3194 \n"
     ]
    },
    {
     "name": "stderr",
     "output_type": "stream",
     "text": [
      " 30%|███████████▉                            | 599/2000 [01:32<03:34,  6.53it/s]"
     ]
    },
    {
     "name": "stdout",
     "output_type": "stream",
     "text": [
      "18610\n",
      "75422\n",
      "Epoch 00597 | Loss 21.2884 | train_RMSE 2.3200 | test_RMSE 2.3159 \n",
      "18610\n",
      "75422\n",
      "Epoch 00598 | Loss 21.2227 | train_RMSE 2.3313 | test_RMSE 2.3184 \n"
     ]
    },
    {
     "name": "stderr",
     "output_type": "stream",
     "text": [
      " 30%|████████████                            | 601/2000 [01:32<03:35,  6.50it/s]"
     ]
    },
    {
     "name": "stdout",
     "output_type": "stream",
     "text": [
      "18610\n",
      "75422\n",
      "Epoch 00599 | Loss 21.0459 | train_RMSE 2.3016 | test_RMSE 2.2901 \n",
      "18610\n",
      "75422\n",
      "Epoch 00600 | Loss 20.9528 | train_RMSE 2.2974 | test_RMSE 2.2910 \n"
     ]
    },
    {
     "name": "stderr",
     "output_type": "stream",
     "text": [
      " 30%|████████████                            | 603/2000 [01:33<03:34,  6.52it/s]"
     ]
    },
    {
     "name": "stdout",
     "output_type": "stream",
     "text": [
      "18610\n",
      "75422\n",
      "Epoch 00601 | Loss 21.1465 | train_RMSE 2.3213 | test_RMSE 2.3109 \n",
      "18610\n",
      "75422\n",
      "Epoch 00602 | Loss 21.1643 | train_RMSE 2.2941 | test_RMSE 2.2895 \n"
     ]
    },
    {
     "name": "stderr",
     "output_type": "stream",
     "text": [
      " 30%|████████████                            | 605/2000 [01:33<03:34,  6.51it/s]"
     ]
    },
    {
     "name": "stdout",
     "output_type": "stream",
     "text": [
      "18610\n",
      "75422\n",
      "Epoch 00603 | Loss 20.8637 | train_RMSE 2.3088 | test_RMSE 2.3072 \n",
      "18610\n",
      "75422\n",
      "Epoch 00604 | Loss 20.9532 | train_RMSE 2.3548 | test_RMSE 2.3434 \n"
     ]
    },
    {
     "name": "stderr",
     "output_type": "stream",
     "text": [
      " 30%|████████████▏                           | 607/2000 [01:33<03:33,  6.52it/s]"
     ]
    },
    {
     "name": "stdout",
     "output_type": "stream",
     "text": [
      "18610\n",
      "75422\n",
      "Epoch 00605 | Loss 21.0208 | train_RMSE 2.2901 | test_RMSE 2.2844 \n",
      "18610\n",
      "75422\n",
      "Epoch 00606 | Loss 20.9642 | train_RMSE 2.2842 | test_RMSE 2.2740 \n"
     ]
    },
    {
     "name": "stderr",
     "output_type": "stream",
     "text": [
      " 30%|████████████▏                           | 609/2000 [01:34<03:34,  6.50it/s]"
     ]
    },
    {
     "name": "stdout",
     "output_type": "stream",
     "text": [
      "18610\n",
      "75422\n",
      "Epoch 00607 | Loss 20.8519 | train_RMSE 2.2941 | test_RMSE 2.2823 \n",
      "18610\n",
      "75422\n",
      "Epoch 00608 | Loss 21.0334 | train_RMSE 2.2913 | test_RMSE 2.2868 \n"
     ]
    },
    {
     "name": "stderr",
     "output_type": "stream",
     "text": [
      " 31%|████████████▏                           | 611/2000 [01:34<03:32,  6.52it/s]"
     ]
    },
    {
     "name": "stdout",
     "output_type": "stream",
     "text": [
      "18610\n",
      "75422\n",
      "Epoch 00609 | Loss 21.1044 | train_RMSE 2.3389 | test_RMSE 2.3251 \n",
      "18610\n",
      "75422\n",
      "Epoch 00610 | Loss 21.0958 | train_RMSE 2.3039 | test_RMSE 2.3014 \n"
     ]
    },
    {
     "name": "stderr",
     "output_type": "stream",
     "text": [
      " 31%|████████████▎                           | 613/2000 [01:34<03:33,  6.49it/s]"
     ]
    },
    {
     "name": "stdout",
     "output_type": "stream",
     "text": [
      "18610\n",
      "75422\n",
      "Epoch 00611 | Loss 21.0234 | train_RMSE 2.3044 | test_RMSE 2.2944 \n",
      "18610\n",
      "75422\n",
      "Epoch 00612 | Loss 20.8234 | train_RMSE 2.2932 | test_RMSE 2.2840 \n"
     ]
    },
    {
     "name": "stderr",
     "output_type": "stream",
     "text": [
      " 31%|████████████▎                           | 615/2000 [01:35<03:34,  6.46it/s]"
     ]
    },
    {
     "name": "stdout",
     "output_type": "stream",
     "text": [
      "18610\n",
      "75422\n",
      "Epoch 00613 | Loss 20.9701 | train_RMSE 2.2808 | test_RMSE 2.2762 \n",
      "18610\n",
      "75422\n",
      "Epoch 00614 | Loss 20.6462 | train_RMSE 2.3269 | test_RMSE 2.3154 \n"
     ]
    },
    {
     "name": "stderr",
     "output_type": "stream",
     "text": [
      " 31%|████████████▎                           | 617/2000 [01:35<03:32,  6.50it/s]"
     ]
    },
    {
     "name": "stdout",
     "output_type": "stream",
     "text": [
      "18610\n",
      "75422\n",
      "Epoch 00615 | Loss 20.8959 | train_RMSE 2.2737 | test_RMSE 2.2682 \n",
      "18610\n",
      "75422\n",
      "Epoch 00616 | Loss 20.8367 | train_RMSE 2.2631 | test_RMSE 2.2569 \n"
     ]
    },
    {
     "name": "stderr",
     "output_type": "stream",
     "text": [
      " 31%|████████████▍                           | 619/2000 [01:35<03:31,  6.52it/s]"
     ]
    },
    {
     "name": "stdout",
     "output_type": "stream",
     "text": [
      "18610\n",
      "75422\n",
      "Epoch 00617 | Loss 20.9266 | train_RMSE 2.3057 | test_RMSE 2.2947 \n",
      "18610\n",
      "75422\n",
      "Epoch 00618 | Loss 20.8516 | train_RMSE 2.2715 | test_RMSE 2.2671 \n"
     ]
    },
    {
     "name": "stderr",
     "output_type": "stream",
     "text": [
      " 31%|████████████▍                           | 621/2000 [01:35<03:31,  6.53it/s]"
     ]
    },
    {
     "name": "stdout",
     "output_type": "stream",
     "text": [
      "18610\n",
      "75422\n",
      "Epoch 00619 | Loss 20.7802 | train_RMSE 2.2802 | test_RMSE 2.2686 \n",
      "18610\n",
      "75422\n",
      "Epoch 00620 | Loss 20.7096 | train_RMSE 2.2608 | test_RMSE 2.2503 \n"
     ]
    },
    {
     "name": "stderr",
     "output_type": "stream",
     "text": [
      " 31%|████████████▍                           | 623/2000 [01:36<03:32,  6.49it/s]"
     ]
    },
    {
     "name": "stdout",
     "output_type": "stream",
     "text": [
      "18610\n",
      "75422\n",
      "Epoch 00621 | Loss 20.7331 | train_RMSE 2.2688 | test_RMSE 2.2600 \n",
      "18610\n",
      "75422\n",
      "Epoch 00622 | Loss 20.6057 | train_RMSE 2.2883 | test_RMSE 2.2773 \n"
     ]
    },
    {
     "name": "stderr",
     "output_type": "stream",
     "text": [
      " 31%|████████████▌                           | 625/2000 [01:36<03:31,  6.51it/s]"
     ]
    },
    {
     "name": "stdout",
     "output_type": "stream",
     "text": [
      "18610\n",
      "75422\n",
      "Epoch 00623 | Loss 20.7030 | train_RMSE 2.2642 | test_RMSE 2.2564 \n",
      "18610\n",
      "75422\n",
      "Epoch 00624 | Loss 21.0277 | train_RMSE 2.2618 | test_RMSE 2.2546 \n"
     ]
    },
    {
     "name": "stderr",
     "output_type": "stream",
     "text": [
      " 31%|████████████▌                           | 627/2000 [01:36<03:31,  6.48it/s]"
     ]
    },
    {
     "name": "stdout",
     "output_type": "stream",
     "text": [
      "18610\n",
      "75422\n",
      "Epoch 00625 | Loss 20.9423 | train_RMSE 2.2969 | test_RMSE 2.2868 \n",
      "18610\n",
      "75422\n",
      "Epoch 00626 | Loss 20.4825 | train_RMSE 2.2637 | test_RMSE 2.2591 \n"
     ]
    },
    {
     "name": "stderr",
     "output_type": "stream",
     "text": [
      " 31%|████████████▌                           | 629/2000 [01:37<03:30,  6.51it/s]"
     ]
    },
    {
     "name": "stdout",
     "output_type": "stream",
     "text": [
      "18610\n",
      "75422\n",
      "Epoch 00627 | Loss 20.6270 | train_RMSE 2.2715 | test_RMSE 2.2614 \n",
      "18610\n",
      "75422\n",
      "Epoch 00628 | Loss 20.6742 | train_RMSE 2.2469 | test_RMSE 2.2381 \n"
     ]
    },
    {
     "name": "stderr",
     "output_type": "stream",
     "text": [
      " 32%|████████████▌                           | 631/2000 [01:37<03:30,  6.52it/s]"
     ]
    },
    {
     "name": "stdout",
     "output_type": "stream",
     "text": [
      "18610\n",
      "75422\n",
      "Epoch 00629 | Loss 20.8993 | train_RMSE 2.2454 | test_RMSE 2.2331 \n",
      "18610\n",
      "75422\n",
      "Epoch 00630 | Loss 20.7233 | train_RMSE 2.2404 | test_RMSE 2.2272 \n"
     ]
    },
    {
     "name": "stderr",
     "output_type": "stream",
     "text": [
      " 32%|████████████▋                           | 633/2000 [01:37<03:29,  6.53it/s]"
     ]
    },
    {
     "name": "stdout",
     "output_type": "stream",
     "text": [
      "18610\n",
      "75422\n",
      "Epoch 00631 | Loss 20.5657 | train_RMSE 2.2315 | test_RMSE 2.2198 \n",
      "18610\n",
      "75422\n",
      "Epoch 00632 | Loss 20.7479 | train_RMSE 2.2477 | test_RMSE 2.2365 \n"
     ]
    },
    {
     "name": "stderr",
     "output_type": "stream",
     "text": [
      " 32%|████████████▋                           | 635/2000 [01:38<03:30,  6.49it/s]"
     ]
    },
    {
     "name": "stdout",
     "output_type": "stream",
     "text": [
      "18610\n",
      "75422\n",
      "Epoch 00633 | Loss 20.7508 | train_RMSE 2.2473 | test_RMSE 2.2410 \n",
      "18610\n",
      "75422\n",
      "Epoch 00634 | Loss 20.4648 | train_RMSE 2.2491 | test_RMSE 2.2428 \n"
     ]
    },
    {
     "name": "stderr",
     "output_type": "stream",
     "text": [
      " 32%|████████████▋                           | 637/2000 [01:38<03:29,  6.52it/s]"
     ]
    },
    {
     "name": "stdout",
     "output_type": "stream",
     "text": [
      "18610\n",
      "75422\n",
      "Epoch 00635 | Loss 20.7409 | train_RMSE 2.2501 | test_RMSE 2.2431 \n",
      "18610\n",
      "75422\n",
      "Epoch 00636 | Loss 20.5653 | train_RMSE 2.2579 | test_RMSE 2.2494 \n"
     ]
    },
    {
     "name": "stderr",
     "output_type": "stream",
     "text": [
      " 32%|████████████▊                           | 639/2000 [01:38<03:29,  6.49it/s]"
     ]
    },
    {
     "name": "stdout",
     "output_type": "stream",
     "text": [
      "18610\n",
      "75422\n",
      "Epoch 00637 | Loss 20.5508 | train_RMSE 2.2508 | test_RMSE 2.2442 \n",
      "18610\n",
      "75422\n",
      "Epoch 00638 | Loss 20.4171 | train_RMSE 2.2690 | test_RMSE 2.2594 \n"
     ]
    },
    {
     "name": "stderr",
     "output_type": "stream",
     "text": [
      " 32%|████████████▊                           | 641/2000 [01:38<03:28,  6.51it/s]"
     ]
    },
    {
     "name": "stdout",
     "output_type": "stream",
     "text": [
      "18610\n",
      "75422\n",
      "Epoch 00639 | Loss 20.6665 | train_RMSE 2.2395 | test_RMSE 2.2331 \n",
      "18610\n",
      "75422\n",
      "Epoch 00640 | Loss 20.5014 | train_RMSE 2.2403 | test_RMSE 2.2298 \n"
     ]
    },
    {
     "name": "stderr",
     "output_type": "stream",
     "text": [
      " 32%|████████████▊                           | 643/2000 [01:39<03:27,  6.53it/s]"
     ]
    },
    {
     "name": "stdout",
     "output_type": "stream",
     "text": [
      "18610\n",
      "75422\n",
      "Epoch 00641 | Loss 20.5093 | train_RMSE 2.2228 | test_RMSE 2.2120 \n",
      "18610\n",
      "75422\n",
      "Epoch 00642 | Loss 20.5561 | train_RMSE 2.2222 | test_RMSE 2.2117 \n"
     ]
    },
    {
     "name": "stderr",
     "output_type": "stream",
     "text": [
      " 32%|████████████▉                           | 645/2000 [01:39<03:28,  6.51it/s]"
     ]
    },
    {
     "name": "stdout",
     "output_type": "stream",
     "text": [
      "18610\n",
      "75422\n",
      "Epoch 00643 | Loss 20.4057 | train_RMSE 2.2529 | test_RMSE 2.2407 \n",
      "18610\n",
      "75422\n",
      "Epoch 00644 | Loss 20.4753 | train_RMSE 2.2532 | test_RMSE 2.2496 \n"
     ]
    },
    {
     "name": "stderr",
     "output_type": "stream",
     "text": [
      " 32%|████████████▉                           | 647/2000 [01:39<03:27,  6.51it/s]"
     ]
    },
    {
     "name": "stdout",
     "output_type": "stream",
     "text": [
      "18610\n",
      "75422\n",
      "Epoch 00645 | Loss 20.9766 | train_RMSE 2.3719 | test_RMSE 2.3583 \n",
      "18610\n",
      "75422\n",
      "Epoch 00646 | Loss 20.9042 | train_RMSE 2.3468 | test_RMSE 2.3444 \n"
     ]
    },
    {
     "name": "stderr",
     "output_type": "stream",
     "text": [
      " 32%|████████████▉                           | 649/2000 [01:40<03:26,  6.53it/s]"
     ]
    },
    {
     "name": "stdout",
     "output_type": "stream",
     "text": [
      "18610\n",
      "75422\n",
      "Epoch 00647 | Loss 21.3602 | train_RMSE 2.5158 | test_RMSE 2.4983 \n",
      "18610\n",
      "75422\n",
      "Epoch 00648 | Loss 21.5435 | train_RMSE 2.4202 | test_RMSE 2.4208 \n"
     ]
    },
    {
     "name": "stderr",
     "output_type": "stream",
     "text": [
      " 33%|█████████████                           | 651/2000 [01:40<03:26,  6.53it/s]"
     ]
    },
    {
     "name": "stdout",
     "output_type": "stream",
     "text": [
      "18610\n",
      "75422\n",
      "Epoch 00649 | Loss 21.5966 | train_RMSE 2.5395 | test_RMSE 2.5203 \n",
      "18610\n",
      "75422\n",
      "Epoch 00650 | Loss 21.7393 | train_RMSE 2.3526 | test_RMSE 2.3533 \n"
     ]
    },
    {
     "name": "stderr",
     "output_type": "stream",
     "text": [
      " 33%|█████████████                           | 653/2000 [01:40<03:26,  6.53it/s]"
     ]
    },
    {
     "name": "stdout",
     "output_type": "stream",
     "text": [
      "18610\n",
      "75422\n",
      "Epoch 00651 | Loss 21.1535 | train_RMSE 2.3394 | test_RMSE 2.3253 \n",
      "18610\n",
      "75422\n",
      "Epoch 00652 | Loss 20.6881 | train_RMSE 2.2413 | test_RMSE 2.2369 \n"
     ]
    },
    {
     "name": "stderr",
     "output_type": "stream",
     "text": [
      " 33%|█████████████                           | 655/2000 [01:41<03:27,  6.48it/s]"
     ]
    },
    {
     "name": "stdout",
     "output_type": "stream",
     "text": [
      "18610\n",
      "75422\n",
      "Epoch 00653 | Loss 20.3981 | train_RMSE 2.2381 | test_RMSE 2.2304 \n",
      "18610\n",
      "75422\n",
      "Epoch 00654 | Loss 20.3210 | train_RMSE 2.2371 | test_RMSE 2.2291 \n"
     ]
    },
    {
     "name": "stderr",
     "output_type": "stream",
     "text": [
      " 33%|█████████████▏                          | 657/2000 [01:41<03:27,  6.47it/s]"
     ]
    },
    {
     "name": "stdout",
     "output_type": "stream",
     "text": [
      "18610\n",
      "75422\n",
      "Epoch 00655 | Loss 20.2789 | train_RMSE 2.2280 | test_RMSE 2.2241 \n",
      "18610\n",
      "75422\n",
      "Epoch 00656 | Loss 20.4515 | train_RMSE 2.2759 | test_RMSE 2.2649 \n"
     ]
    },
    {
     "name": "stderr",
     "output_type": "stream",
     "text": [
      " 33%|█████████████▏                          | 659/2000 [01:41<03:26,  6.50it/s]"
     ]
    },
    {
     "name": "stdout",
     "output_type": "stream",
     "text": [
      "18610\n",
      "75422\n",
      "Epoch 00657 | Loss 20.5830 | train_RMSE 2.2481 | test_RMSE 2.2465 \n",
      "18610\n",
      "75422\n",
      "Epoch 00658 | Loss 20.7257 | train_RMSE 2.3171 | test_RMSE 2.3033 \n"
     ]
    },
    {
     "name": "stderr",
     "output_type": "stream",
     "text": [
      " 33%|█████████████▏                          | 661/2000 [01:42<03:25,  6.52it/s]"
     ]
    },
    {
     "name": "stdout",
     "output_type": "stream",
     "text": [
      "18610\n",
      "75422\n",
      "Epoch 00659 | Loss 20.9947 | train_RMSE 2.2624 | test_RMSE 2.2583 \n",
      "18610\n",
      "75422\n",
      "Epoch 00660 | Loss 20.6791 | train_RMSE 2.2998 | test_RMSE 2.2865 \n"
     ]
    },
    {
     "name": "stderr",
     "output_type": "stream",
     "text": [
      " 33%|█████████████▎                          | 663/2000 [01:42<03:25,  6.52it/s]"
     ]
    },
    {
     "name": "stdout",
     "output_type": "stream",
     "text": [
      "18610\n",
      "75422\n",
      "Epoch 00661 | Loss 20.4742 | train_RMSE 2.2269 | test_RMSE 2.2207 \n",
      "18610\n",
      "75422\n",
      "Epoch 00662 | Loss 20.4608 | train_RMSE 2.2268 | test_RMSE 2.2165 \n"
     ]
    },
    {
     "name": "stderr",
     "output_type": "stream",
     "text": [
      " 33%|█████████████▎                          | 665/2000 [01:42<03:25,  6.49it/s]"
     ]
    },
    {
     "name": "stdout",
     "output_type": "stream",
     "text": [
      "18610\n",
      "75422\n",
      "Epoch 00663 | Loss 20.4894 | train_RMSE 2.2096 | test_RMSE 2.2003 \n",
      "18610\n",
      "75422\n",
      "Epoch 00664 | Loss 20.0943 | train_RMSE 2.2025 | test_RMSE 2.1951 \n"
     ]
    },
    {
     "name": "stderr",
     "output_type": "stream",
     "text": [
      " 33%|█████████████▎                          | 667/2000 [01:42<03:24,  6.51it/s]"
     ]
    },
    {
     "name": "stdout",
     "output_type": "stream",
     "text": [
      "18610\n",
      "75422\n",
      "Epoch 00665 | Loss 20.2658 | train_RMSE 2.2472 | test_RMSE 2.2355 \n",
      "18610\n",
      "75422\n",
      "Epoch 00666 | Loss 20.3158 | train_RMSE 2.2336 | test_RMSE 2.2298 \n"
     ]
    },
    {
     "name": "stderr",
     "output_type": "stream",
     "text": [
      " 33%|█████████████▍                          | 669/2000 [01:43<03:24,  6.52it/s]"
     ]
    },
    {
     "name": "stdout",
     "output_type": "stream",
     "text": [
      "18610\n",
      "75422\n",
      "Epoch 00667 | Loss 20.6940 | train_RMSE 2.3078 | test_RMSE 2.2925 \n",
      "18610\n",
      "75422\n",
      "Epoch 00668 | Loss 20.5036 | train_RMSE 2.2570 | test_RMSE 2.2502 \n"
     ]
    },
    {
     "name": "stderr",
     "output_type": "stream",
     "text": [
      " 34%|█████████████▍                          | 671/2000 [01:43<03:23,  6.53it/s]"
     ]
    },
    {
     "name": "stdout",
     "output_type": "stream",
     "text": [
      "18610\n",
      "75422\n",
      "Epoch 00669 | Loss 20.5181 | train_RMSE 2.3177 | test_RMSE 2.3017 \n",
      "18610\n",
      "75422\n",
      "Epoch 00670 | Loss 20.5940 | train_RMSE 2.2715 | test_RMSE 2.2682 \n"
     ]
    },
    {
     "name": "stderr",
     "output_type": "stream",
     "text": [
      " 34%|█████████████▍                          | 673/2000 [01:43<03:23,  6.52it/s]"
     ]
    },
    {
     "name": "stdout",
     "output_type": "stream",
     "text": [
      "18610\n",
      "75422\n",
      "Epoch 00671 | Loss 20.5504 | train_RMSE 2.3446 | test_RMSE 2.3292 \n",
      "18610\n",
      "75422\n",
      "Epoch 00672 | Loss 20.4916 | train_RMSE 2.2952 | test_RMSE 2.2964 \n"
     ]
    },
    {
     "name": "stderr",
     "output_type": "stream",
     "text": [
      " 34%|█████████████▌                          | 675/2000 [01:44<03:23,  6.52it/s]"
     ]
    },
    {
     "name": "stdout",
     "output_type": "stream",
     "text": [
      "18610\n",
      "75422\n",
      "Epoch 00673 | Loss 20.8906 | train_RMSE 2.4285 | test_RMSE 2.4136 \n",
      "18610\n",
      "75422\n",
      "Epoch 00674 | Loss 20.9962 | train_RMSE 2.3439 | test_RMSE 2.3424 \n"
     ]
    },
    {
     "name": "stderr",
     "output_type": "stream",
     "text": [
      " 34%|█████████████▌                          | 677/2000 [01:44<03:22,  6.53it/s]"
     ]
    },
    {
     "name": "stdout",
     "output_type": "stream",
     "text": [
      "18610\n",
      "75422\n",
      "Epoch 00675 | Loss 21.1420 | train_RMSE 2.4453 | test_RMSE 2.4290 \n",
      "18610\n",
      "75422\n",
      "Epoch 00676 | Loss 21.2816 | train_RMSE 2.3716 | test_RMSE 2.3711 \n"
     ]
    },
    {
     "name": "stderr",
     "output_type": "stream",
     "text": [
      " 34%|█████████████▌                          | 679/2000 [01:44<03:22,  6.53it/s]"
     ]
    },
    {
     "name": "stdout",
     "output_type": "stream",
     "text": [
      "18610\n",
      "75422\n",
      "Epoch 00677 | Loss 21.5049 | train_RMSE 2.5509 | test_RMSE 2.5311 \n",
      "18610\n",
      "75422\n",
      "Epoch 00678 | Loss 21.3474 | train_RMSE 2.4403 | test_RMSE 2.4420 \n"
     ]
    },
    {
     "name": "stderr",
     "output_type": "stream",
     "text": [
      " 34%|█████████████▌                          | 681/2000 [01:45<03:22,  6.52it/s]"
     ]
    },
    {
     "name": "stdout",
     "output_type": "stream",
     "text": [
      "18610\n",
      "75422\n",
      "Epoch 00679 | Loss 21.9616 | train_RMSE 2.5818 | test_RMSE 2.5627 \n",
      "18610\n",
      "75422\n",
      "Epoch 00680 | Loss 21.6348 | train_RMSE 2.4213 | test_RMSE 2.4221 \n"
     ]
    },
    {
     "name": "stderr",
     "output_type": "stream",
     "text": [
      " 34%|█████████████▋                          | 683/2000 [01:45<03:21,  6.53it/s]"
     ]
    },
    {
     "name": "stdout",
     "output_type": "stream",
     "text": [
      "18610\n",
      "75422\n",
      "Epoch 00681 | Loss 21.3937 | train_RMSE 2.5047 | test_RMSE 2.4867 \n",
      "18610\n",
      "75422\n",
      "Epoch 00682 | Loss 21.2429 | train_RMSE 2.3668 | test_RMSE 2.3676 \n"
     ]
    },
    {
     "name": "stderr",
     "output_type": "stream",
     "text": [
      " 34%|█████████████▋                          | 685/2000 [01:45<03:21,  6.52it/s]"
     ]
    },
    {
     "name": "stdout",
     "output_type": "stream",
     "text": [
      "18610\n",
      "75422\n",
      "Epoch 00683 | Loss 21.0226 | train_RMSE 2.4404 | test_RMSE 2.4243 \n",
      "18610\n",
      "75422\n",
      "Epoch 00684 | Loss 20.7908 | train_RMSE 2.2862 | test_RMSE 2.2836 \n"
     ]
    },
    {
     "name": "stderr",
     "output_type": "stream",
     "text": [
      " 34%|█████████████▋                          | 687/2000 [01:46<03:21,  6.52it/s]"
     ]
    },
    {
     "name": "stdout",
     "output_type": "stream",
     "text": [
      "18610\n",
      "75422\n",
      "Epoch 00685 | Loss 20.5764 | train_RMSE 2.2513 | test_RMSE 2.2401 \n",
      "18610\n",
      "75422\n",
      "Epoch 00686 | Loss 20.2035 | train_RMSE 2.1988 | test_RMSE 2.1893 \n"
     ]
    },
    {
     "name": "stderr",
     "output_type": "stream",
     "text": [
      " 34%|█████████████▊                          | 689/2000 [01:46<03:20,  6.53it/s]"
     ]
    },
    {
     "name": "stdout",
     "output_type": "stream",
     "text": [
      "18610\n",
      "75422\n",
      "Epoch 00687 | Loss 20.2215 | train_RMSE 2.2072 | test_RMSE 2.2021 \n",
      "18610\n",
      "75422\n",
      "Epoch 00688 | Loss 20.2885 | train_RMSE 2.3434 | test_RMSE 2.3262 \n"
     ]
    },
    {
     "name": "stderr",
     "output_type": "stream",
     "text": [
      " 35%|█████████████▊                          | 691/2000 [01:46<03:20,  6.53it/s]"
     ]
    },
    {
     "name": "stdout",
     "output_type": "stream",
     "text": [
      "18610\n",
      "75422\n",
      "Epoch 00689 | Loss 20.5514 | train_RMSE 2.3890 | test_RMSE 2.3906 \n",
      "18610\n",
      "75422\n",
      "Epoch 00690 | Loss 21.3549 | train_RMSE 2.6533 | test_RMSE 2.6336 \n"
     ]
    },
    {
     "name": "stderr",
     "output_type": "stream",
     "text": [
      " 35%|█████████████▊                          | 693/2000 [01:46<03:20,  6.52it/s]"
     ]
    },
    {
     "name": "stdout",
     "output_type": "stream",
     "text": [
      "18610\n",
      "75422\n",
      "Epoch 00691 | Loss 22.1028 | train_RMSE 2.6725 | test_RMSE 2.6786 \n",
      "18610\n",
      "75422\n",
      "Epoch 00692 | Loss 22.6502 | train_RMSE 2.9289 | test_RMSE 2.9080 \n"
     ]
    },
    {
     "name": "stderr",
     "output_type": "stream",
     "text": [
      " 35%|█████████████▉                          | 695/2000 [01:47<03:19,  6.53it/s]"
     ]
    },
    {
     "name": "stdout",
     "output_type": "stream",
     "text": [
      "18610\n",
      "75422\n",
      "Epoch 00693 | Loss 23.2118 | train_RMSE 2.7328 | test_RMSE 2.7364 \n",
      "18610\n",
      "75422\n",
      "Epoch 00694 | Loss 23.2543 | train_RMSE 2.8838 | test_RMSE 2.8604 \n"
     ]
    },
    {
     "name": "stderr",
     "output_type": "stream",
     "text": [
      " 35%|█████████████▉                          | 697/2000 [01:47<03:19,  6.53it/s]"
     ]
    },
    {
     "name": "stdout",
     "output_type": "stream",
     "text": [
      "18610\n",
      "75422\n",
      "Epoch 00695 | Loss 23.3577 | train_RMSE 2.6376 | test_RMSE 2.6411 \n",
      "18610\n",
      "75422\n",
      "Epoch 00696 | Loss 22.3741 | train_RMSE 2.6474 | test_RMSE 2.6262 \n"
     ]
    },
    {
     "name": "stderr",
     "output_type": "stream",
     "text": [
      " 35%|█████████████▉                          | 699/2000 [01:47<03:19,  6.52it/s]"
     ]
    },
    {
     "name": "stdout",
     "output_type": "stream",
     "text": [
      "18610\n",
      "75422\n",
      "Epoch 00697 | Loss 21.9006 | train_RMSE 2.3513 | test_RMSE 2.3517 \n",
      "18610\n",
      "75422\n",
      "Epoch 00698 | Loss 21.0633 | train_RMSE 2.2960 | test_RMSE 2.2819 \n"
     ]
    },
    {
     "name": "stderr",
     "output_type": "stream",
     "text": [
      " 35%|██████████████                          | 701/2000 [01:48<03:19,  6.53it/s]"
     ]
    },
    {
     "name": "stdout",
     "output_type": "stream",
     "text": [
      "18610\n",
      "75422\n",
      "Epoch 00699 | Loss 20.7952 | train_RMSE 2.1861 | test_RMSE 2.1806 \n",
      "18610\n",
      "75422\n",
      "Epoch 00700 | Loss 20.1971 | train_RMSE 2.1903 | test_RMSE 2.1852 \n"
     ]
    },
    {
     "name": "stderr",
     "output_type": "stream",
     "text": [
      " 35%|██████████████                          | 703/2000 [01:48<03:18,  6.53it/s]"
     ]
    },
    {
     "name": "stdout",
     "output_type": "stream",
     "text": [
      "18610\n",
      "75422\n",
      "Epoch 00701 | Loss 20.1299 | train_RMSE 2.2801 | test_RMSE 2.2687 \n",
      "18610\n",
      "75422\n",
      "Epoch 00702 | Loss 20.1057 | train_RMSE 2.2726 | test_RMSE 2.2687 \n"
     ]
    },
    {
     "name": "stderr",
     "output_type": "stream",
     "text": [
      " 35%|██████████████                          | 705/2000 [01:48<03:18,  6.53it/s]"
     ]
    },
    {
     "name": "stdout",
     "output_type": "stream",
     "text": [
      "18610\n",
      "75422\n",
      "Epoch 00703 | Loss 20.8416 | train_RMSE 2.4007 | test_RMSE 2.3839 \n",
      "18610\n",
      "75422\n",
      "Epoch 00704 | Loss 20.7878 | train_RMSE 2.3111 | test_RMSE 2.3114 \n"
     ]
    },
    {
     "name": "stderr",
     "output_type": "stream",
     "text": [
      " 35%|██████████████▏                         | 707/2000 [01:49<03:18,  6.52it/s]"
     ]
    },
    {
     "name": "stdout",
     "output_type": "stream",
     "text": [
      "18610\n",
      "75422\n",
      "Epoch 00705 | Loss 20.6580 | train_RMSE 2.3557 | test_RMSE 2.3369 \n",
      "18610\n",
      "75422\n",
      "Epoch 00706 | Loss 20.5389 | train_RMSE 2.2201 | test_RMSE 2.2155 \n"
     ]
    },
    {
     "name": "stderr",
     "output_type": "stream",
     "text": [
      " 35%|██████████████▏                         | 709/2000 [01:49<03:17,  6.53it/s]"
     ]
    },
    {
     "name": "stdout",
     "output_type": "stream",
     "text": [
      "18610\n",
      "75422\n",
      "Epoch 00707 | Loss 20.4358 | train_RMSE 2.2168 | test_RMSE 2.2032 \n",
      "18610\n",
      "75422\n",
      "Epoch 00708 | Loss 20.1867 | train_RMSE 2.1765 | test_RMSE 2.1671 \n"
     ]
    },
    {
     "name": "stderr",
     "output_type": "stream",
     "text": [
      " 36%|██████████████▏                         | 711/2000 [01:49<03:18,  6.50it/s]"
     ]
    },
    {
     "name": "stdout",
     "output_type": "stream",
     "text": [
      "18610\n",
      "75422\n",
      "Epoch 00709 | Loss 19.9712 | train_RMSE 2.1818 | test_RMSE 2.1737 \n",
      "18610\n",
      "75422\n",
      "Epoch 00710 | Loss 19.9991 | train_RMSE 2.2411 | test_RMSE 2.2287 \n"
     ]
    },
    {
     "name": "stderr",
     "output_type": "stream",
     "text": [
      " 36%|██████████████▎                         | 713/2000 [01:50<03:17,  6.52it/s]"
     ]
    },
    {
     "name": "stdout",
     "output_type": "stream",
     "text": [
      "18610\n",
      "75422\n",
      "Epoch 00711 | Loss 20.1056 | train_RMSE 2.2593 | test_RMSE 2.2570 \n",
      "18610\n",
      "75422\n",
      "Epoch 00712 | Loss 20.6192 | train_RMSE 2.4671 | test_RMSE 2.4491 \n"
     ]
    },
    {
     "name": "stderr",
     "output_type": "stream",
     "text": [
      " 36%|██████████████▎                         | 715/2000 [01:50<03:16,  6.53it/s]"
     ]
    },
    {
     "name": "stdout",
     "output_type": "stream",
     "text": [
      "18610\n",
      "75422\n",
      "Epoch 00713 | Loss 21.0533 | train_RMSE 2.4565 | test_RMSE 2.4566 \n",
      "18610\n",
      "75422\n",
      "Epoch 00714 | Loss 21.6207 | train_RMSE 2.6753 | test_RMSE 2.6526 \n"
     ]
    },
    {
     "name": "stderr",
     "output_type": "stream",
     "text": [
      " 36%|██████████████▎                         | 717/2000 [01:50<03:16,  6.52it/s]"
     ]
    },
    {
     "name": "stdout",
     "output_type": "stream",
     "text": [
      "18610\n",
      "75422\n",
      "Epoch 00715 | Loss 21.8453 | train_RMSE 2.6161 | test_RMSE 2.6262 \n",
      "18610\n",
      "75422\n",
      "Epoch 00716 | Loss 22.2219 | train_RMSE 2.7628 | test_RMSE 2.7396 \n"
     ]
    },
    {
     "name": "stderr",
     "output_type": "stream",
     "text": [
      " 36%|██████████████▍                         | 719/2000 [01:50<03:16,  6.53it/s]"
     ]
    },
    {
     "name": "stdout",
     "output_type": "stream",
     "text": [
      "18610\n",
      "75422\n",
      "Epoch 00717 | Loss 22.6794 | train_RMSE 2.5722 | test_RMSE 2.5713 \n",
      "18610\n",
      "75422\n",
      "Epoch 00718 | Loss 22.1329 | train_RMSE 2.5269 | test_RMSE 2.5104 \n"
     ]
    },
    {
     "name": "stderr",
     "output_type": "stream",
     "text": [
      " 36%|██████████████▍                         | 721/2000 [01:51<03:16,  6.52it/s]"
     ]
    },
    {
     "name": "stdout",
     "output_type": "stream",
     "text": [
      "18610\n",
      "75422\n",
      "Epoch 00719 | Loss 21.3451 | train_RMSE 2.2702 | test_RMSE 2.2693 \n",
      "18610\n",
      "75422\n",
      "Epoch 00720 | Loss 20.5530 | train_RMSE 2.2593 | test_RMSE 2.2468 \n"
     ]
    },
    {
     "name": "stderr",
     "output_type": "stream",
     "text": [
      " 36%|██████████████▍                         | 723/2000 [01:51<03:16,  6.49it/s]"
     ]
    },
    {
     "name": "stdout",
     "output_type": "stream",
     "text": [
      "18610\n",
      "75422\n",
      "Epoch 00721 | Loss 20.1487 | train_RMSE 2.1638 | test_RMSE 2.1574 \n",
      "18610\n",
      "75422\n",
      "Epoch 00722 | Loss 19.8966 | train_RMSE 2.1588 | test_RMSE 2.1508 \n"
     ]
    },
    {
     "name": "stderr",
     "output_type": "stream",
     "text": [
      " 36%|██████████████▌                         | 725/2000 [01:51<03:15,  6.52it/s]"
     ]
    },
    {
     "name": "stdout",
     "output_type": "stream",
     "text": [
      "18610\n",
      "75422\n",
      "Epoch 00723 | Loss 20.1715 | train_RMSE 2.2403 | test_RMSE 2.2271 \n",
      "18610\n",
      "75422\n",
      "Epoch 00724 | Loss 20.2043 | train_RMSE 2.2531 | test_RMSE 2.2539 \n"
     ]
    },
    {
     "name": "stderr",
     "output_type": "stream",
     "text": [
      " 36%|██████████████▌                         | 727/2000 [01:52<03:15,  6.52it/s]"
     ]
    },
    {
     "name": "stdout",
     "output_type": "stream",
     "text": [
      "18610\n",
      "75422\n",
      "Epoch 00725 | Loss 20.5492 | train_RMSE 2.3795 | test_RMSE 2.3620 \n",
      "18610\n",
      "75422\n",
      "Epoch 00726 | Loss 20.5751 | train_RMSE 2.2969 | test_RMSE 2.3010 \n"
     ]
    },
    {
     "name": "stderr",
     "output_type": "stream",
     "text": [
      " 36%|██████████████▌                         | 729/2000 [01:52<03:14,  6.53it/s]"
     ]
    },
    {
     "name": "stdout",
     "output_type": "stream",
     "text": [
      "18610\n",
      "75422\n",
      "Epoch 00727 | Loss 20.7025 | train_RMSE 2.3632 | test_RMSE 2.3455 \n",
      "18610\n",
      "75422\n",
      "Epoch 00728 | Loss 20.8592 | train_RMSE 2.2387 | test_RMSE 2.2303 \n"
     ]
    },
    {
     "name": "stderr",
     "output_type": "stream",
     "text": [
      " 37%|██████████████▌                         | 731/2000 [01:52<03:14,  6.52it/s]"
     ]
    },
    {
     "name": "stdout",
     "output_type": "stream",
     "text": [
      "18610\n",
      "75422\n",
      "Epoch 00729 | Loss 20.4090 | train_RMSE 2.2898 | test_RMSE 2.2740 \n",
      "18610\n",
      "75422\n",
      "Epoch 00730 | Loss 20.3010 | train_RMSE 2.2129 | test_RMSE 2.2080 \n"
     ]
    },
    {
     "name": "stderr",
     "output_type": "stream",
     "text": [
      " 37%|██████████████▋                         | 733/2000 [01:53<03:14,  6.51it/s]"
     ]
    },
    {
     "name": "stdout",
     "output_type": "stream",
     "text": [
      "18610\n",
      "75422\n",
      "Epoch 00731 | Loss 20.2863 | train_RMSE 2.2723 | test_RMSE 2.2582 \n",
      "18610\n",
      "75422\n",
      "Epoch 00732 | Loss 20.0647 | train_RMSE 2.1656 | test_RMSE 2.1623 \n"
     ]
    },
    {
     "name": "stderr",
     "output_type": "stream",
     "text": [
      " 37%|██████████████▋                         | 735/2000 [01:53<03:13,  6.52it/s]"
     ]
    },
    {
     "name": "stdout",
     "output_type": "stream",
     "text": [
      "18610\n",
      "75422\n",
      "Epoch 00733 | Loss 20.0598 | train_RMSE 2.1671 | test_RMSE 2.1562 \n",
      "18610\n",
      "75422\n",
      "Epoch 00734 | Loss 20.1300 | train_RMSE 2.1548 | test_RMSE 2.1437 \n"
     ]
    },
    {
     "name": "stderr",
     "output_type": "stream",
     "text": [
      " 37%|██████████████▋                         | 737/2000 [01:53<03:14,  6.50it/s]"
     ]
    },
    {
     "name": "stdout",
     "output_type": "stream",
     "text": [
      "18610\n",
      "75422\n",
      "Epoch 00735 | Loss 19.6958 | train_RMSE 2.1482 | test_RMSE 2.1390 \n",
      "18610\n",
      "75422\n",
      "Epoch 00736 | Loss 19.7514 | train_RMSE 2.2043 | test_RMSE 2.1913 \n"
     ]
    },
    {
     "name": "stderr",
     "output_type": "stream",
     "text": [
      " 37%|██████████████▊                         | 739/2000 [01:54<03:13,  6.51it/s]"
     ]
    },
    {
     "name": "stdout",
     "output_type": "stream",
     "text": [
      "18610\n",
      "75422\n",
      "Epoch 00737 | Loss 19.9313 | train_RMSE 2.1792 | test_RMSE 2.1767 \n",
      "18610\n",
      "75422\n",
      "Epoch 00738 | Loss 20.1703 | train_RMSE 2.2519 | test_RMSE 2.2370 \n"
     ]
    },
    {
     "name": "stderr",
     "output_type": "stream",
     "text": [
      " 37%|██████████████▊                         | 741/2000 [01:54<03:12,  6.52it/s]"
     ]
    },
    {
     "name": "stdout",
     "output_type": "stream",
     "text": [
      "18610\n",
      "75422\n",
      "Epoch 00739 | Loss 19.9003 | train_RMSE 2.2107 | test_RMSE 2.2043 \n",
      "18610\n",
      "75422\n",
      "Epoch 00740 | Loss 20.1930 | train_RMSE 2.3114 | test_RMSE 2.2965 \n"
     ]
    },
    {
     "name": "stderr",
     "output_type": "stream",
     "text": [
      " 37%|██████████████▊                         | 743/2000 [01:54<03:12,  6.52it/s]"
     ]
    },
    {
     "name": "stdout",
     "output_type": "stream",
     "text": [
      "18610\n",
      "75422\n",
      "Epoch 00741 | Loss 19.9282 | train_RMSE 2.2905 | test_RMSE 2.2923 \n",
      "18610\n",
      "75422\n",
      "Epoch 00742 | Loss 20.3569 | train_RMSE 2.4007 | test_RMSE 2.3817 \n"
     ]
    },
    {
     "name": "stderr",
     "output_type": "stream",
     "text": [
      " 37%|██████████████▉                         | 745/2000 [01:54<03:12,  6.52it/s]"
     ]
    },
    {
     "name": "stdout",
     "output_type": "stream",
     "text": [
      "18610\n",
      "75422\n",
      "Epoch 00743 | Loss 20.6121 | train_RMSE 2.3129 | test_RMSE 2.3126 \n",
      "18610\n",
      "75422\n",
      "Epoch 00744 | Loss 20.7790 | train_RMSE 2.4691 | test_RMSE 2.4511 \n"
     ]
    },
    {
     "name": "stderr",
     "output_type": "stream",
     "text": [
      " 37%|██████████████▉                         | 747/2000 [01:55<03:11,  6.53it/s]"
     ]
    },
    {
     "name": "stdout",
     "output_type": "stream",
     "text": [
      "18610\n",
      "75422\n",
      "Epoch 00745 | Loss 20.8639 | train_RMSE 2.4757 | test_RMSE 2.4785 \n",
      "18610\n",
      "75422\n",
      "Epoch 00746 | Loss 21.5008 | train_RMSE 2.8987 | test_RMSE 2.8729 \n"
     ]
    },
    {
     "name": "stderr",
     "output_type": "stream",
     "text": [
      " 37%|██████████████▉                         | 749/2000 [01:55<03:11,  6.53it/s]"
     ]
    },
    {
     "name": "stdout",
     "output_type": "stream",
     "text": [
      "18610\n",
      "75422\n",
      "Epoch 00747 | Loss 23.1854 | train_RMSE 3.0644 | test_RMSE 3.0788 \n",
      "18610\n",
      "75422\n",
      "Epoch 00748 | Loss 24.7328 | train_RMSE 3.6836 | test_RMSE 3.6533 \n"
     ]
    },
    {
     "name": "stderr",
     "output_type": "stream",
     "text": [
      " 38%|███████████████                         | 751/2000 [01:55<03:11,  6.52it/s]"
     ]
    },
    {
     "name": "stdout",
     "output_type": "stream",
     "text": [
      "18610\n",
      "75422\n",
      "Epoch 00749 | Loss 28.2313 | train_RMSE 3.7015 | test_RMSE 3.7089 \n",
      "18610\n",
      "75422\n",
      "Epoch 00750 | Loss 29.6043 | train_RMSE 4.1352 | test_RMSE 4.1092 \n"
     ]
    },
    {
     "name": "stderr",
     "output_type": "stream",
     "text": [
      " 38%|███████████████                         | 753/2000 [01:56<03:11,  6.52it/s]"
     ]
    },
    {
     "name": "stdout",
     "output_type": "stream",
     "text": [
      "18610\n",
      "75422\n",
      "Epoch 00751 | Loss 31.2845 | train_RMSE 3.5300 | test_RMSE 3.5376 \n",
      "18610\n",
      "75422\n",
      "Epoch 00752 | Loss 28.2559 | train_RMSE 3.1246 | test_RMSE 3.1010 \n"
     ]
    },
    {
     "name": "stderr",
     "output_type": "stream",
     "text": [
      " 38%|███████████████                         | 755/2000 [01:56<03:10,  6.52it/s]"
     ]
    },
    {
     "name": "stdout",
     "output_type": "stream",
     "text": [
      "18610\n",
      "75422\n",
      "Epoch 00753 | Loss 24.5358 | train_RMSE 2.2942 | test_RMSE 2.2965 \n",
      "18610\n",
      "75422\n",
      "Epoch 00754 | Loss 20.5610 | train_RMSE 2.2129 | test_RMSE 2.2118 \n"
     ]
    },
    {
     "name": "stderr",
     "output_type": "stream",
     "text": [
      " 38%|███████████████▏                        | 757/2000 [01:56<03:10,  6.52it/s]"
     ]
    },
    {
     "name": "stdout",
     "output_type": "stream",
     "text": [
      "18610\n",
      "75422\n",
      "Epoch 00755 | Loss 20.0524 | train_RMSE 2.7113 | test_RMSE 2.6946 \n",
      "18610\n",
      "75422\n",
      "Epoch 00756 | Loss 22.1201 | train_RMSE 2.8831 | test_RMSE 2.8917 \n"
     ]
    },
    {
     "name": "stderr",
     "output_type": "stream",
     "text": [
      " 38%|███████████████▏                        | 759/2000 [01:57<03:10,  6.53it/s]"
     ]
    },
    {
     "name": "stdout",
     "output_type": "stream",
     "text": [
      "18610\n",
      "75422\n",
      "Epoch 00757 | Loss 23.7762 | train_RMSE 3.0857 | test_RMSE 3.0605 \n",
      "18610\n",
      "75422\n",
      "Epoch 00758 | Loss 24.0756 | train_RMSE 2.5302 | test_RMSE 2.5365 \n"
     ]
    },
    {
     "name": "stderr",
     "output_type": "stream",
     "text": [
      " 38%|███████████████▏                        | 761/2000 [01:57<03:10,  6.52it/s]"
     ]
    },
    {
     "name": "stdout",
     "output_type": "stream",
     "text": [
      "18610\n",
      "75422\n",
      "Epoch 00759 | Loss 21.8498 | train_RMSE 2.2198 | test_RMSE 2.2077 \n",
      "18610\n",
      "75422\n",
      "Epoch 00760 | Loss 20.0746 | train_RMSE 2.2604 | test_RMSE 2.2477 \n"
     ]
    },
    {
     "name": "stderr",
     "output_type": "stream",
     "text": [
      " 38%|███████████████▎                        | 763/2000 [01:57<03:09,  6.52it/s]"
     ]
    },
    {
     "name": "stdout",
     "output_type": "stream",
     "text": [
      "18610\n",
      "75422\n",
      "Epoch 00761 | Loss 19.9144 | train_RMSE 2.4662 | test_RMSE 2.4683 \n",
      "18610\n",
      "75422\n",
      "Epoch 00762 | Loss 21.6541 | train_RMSE 2.8005 | test_RMSE 2.7765 \n"
     ]
    },
    {
     "name": "stderr",
     "output_type": "stream",
     "text": [
      " 38%|███████████████▎                        | 765/2000 [01:58<03:09,  6.52it/s]"
     ]
    },
    {
     "name": "stdout",
     "output_type": "stream",
     "text": [
      "18610\n",
      "75422\n",
      "Epoch 00763 | Loss 22.5166 | train_RMSE 2.4544 | test_RMSE 2.4633 \n",
      "18610\n",
      "75422\n",
      "Epoch 00764 | Loss 21.5118 | train_RMSE 2.2850 | test_RMSE 2.2721 \n"
     ]
    },
    {
     "name": "stderr",
     "output_type": "stream",
     "text": [
      " 38%|███████████████▎                        | 767/2000 [01:58<03:08,  6.52it/s]"
     ]
    },
    {
     "name": "stdout",
     "output_type": "stream",
     "text": [
      "18610\n",
      "75422\n",
      "Epoch 00765 | Loss 20.2655 | train_RMSE 2.1818 | test_RMSE 2.1729 \n",
      "18610\n",
      "75422\n",
      "Epoch 00766 | Loss 19.8565 | train_RMSE 2.2717 | test_RMSE 2.2724 \n"
     ]
    },
    {
     "name": "stderr",
     "output_type": "stream",
     "text": [
      " 38%|███████████████▍                        | 769/2000 [01:58<03:08,  6.52it/s]"
     ]
    },
    {
     "name": "stdout",
     "output_type": "stream",
     "text": [
      "18610\n",
      "75422\n",
      "Epoch 00767 | Loss 20.3157 | train_RMSE 2.5893 | test_RMSE 2.5700 \n",
      "18610\n",
      "75422\n",
      "Epoch 00768 | Loss 21.5178 | train_RMSE 2.4585 | test_RMSE 2.4667 \n"
     ]
    },
    {
     "name": "stderr",
     "output_type": "stream",
     "text": [
      " 39%|███████████████▍                        | 771/2000 [01:58<03:08,  6.53it/s]"
     ]
    },
    {
     "name": "stdout",
     "output_type": "stream",
     "text": [
      "18610\n",
      "75422\n",
      "Epoch 00769 | Loss 21.3385 | train_RMSE 2.3750 | test_RMSE 2.3578 \n",
      "18610\n",
      "75422\n",
      "Epoch 00770 | Loss 20.4927 | train_RMSE 2.1466 | test_RMSE 2.1394 \n"
     ]
    },
    {
     "name": "stderr",
     "output_type": "stream",
     "text": [
      " 39%|███████████████▍                        | 773/2000 [01:59<03:08,  6.53it/s]"
     ]
    },
    {
     "name": "stdout",
     "output_type": "stream",
     "text": [
      "18610\n",
      "75422\n",
      "Epoch 00771 | Loss 19.8945 | train_RMSE 2.1701 | test_RMSE 2.1661 \n",
      "18610\n",
      "75422\n",
      "Epoch 00772 | Loss 19.8826 | train_RMSE 2.3318 | test_RMSE 2.3172 \n"
     ]
    },
    {
     "name": "stderr",
     "output_type": "stream",
     "text": [
      " 39%|███████████████▌                        | 775/2000 [01:59<03:07,  6.52it/s]"
     ]
    },
    {
     "name": "stdout",
     "output_type": "stream",
     "text": [
      "18610\n",
      "75422\n",
      "Epoch 00773 | Loss 20.1797 | train_RMSE 2.2231 | test_RMSE 2.2276 \n",
      "18610\n",
      "75422\n",
      "Epoch 00774 | Loss 20.0788 | train_RMSE 2.2014 | test_RMSE 2.1922 \n"
     ]
    },
    {
     "name": "stderr",
     "output_type": "stream",
     "text": [
      " 39%|███████████████▌                        | 777/2000 [01:59<03:07,  6.52it/s]"
     ]
    },
    {
     "name": "stdout",
     "output_type": "stream",
     "text": [
      "18610\n",
      "75422\n",
      "Epoch 00775 | Loss 19.8114 | train_RMSE 2.1464 | test_RMSE 2.1380 \n",
      "18610\n",
      "75422\n",
      "Epoch 00776 | Loss 19.9865 | train_RMSE 2.1534 | test_RMSE 2.1483 \n"
     ]
    },
    {
     "name": "stderr",
     "output_type": "stream",
     "text": [
      " 39%|███████████████▌                        | 779/2000 [02:00<03:07,  6.53it/s]"
     ]
    },
    {
     "name": "stdout",
     "output_type": "stream",
     "text": [
      "18610\n",
      "75422\n",
      "Epoch 00777 | Loss 19.7453 | train_RMSE 2.2719 | test_RMSE 2.2551 \n",
      "18610\n",
      "75422\n",
      "Epoch 00778 | Loss 20.1094 | train_RMSE 2.2182 | test_RMSE 2.2176 \n"
     ]
    },
    {
     "name": "stderr",
     "output_type": "stream",
     "text": [
      " 39%|███████████████▌                        | 781/2000 [02:00<03:06,  6.52it/s]"
     ]
    },
    {
     "name": "stdout",
     "output_type": "stream",
     "text": [
      "18610\n",
      "75422\n",
      "Epoch 00779 | Loss 20.2750 | train_RMSE 2.2447 | test_RMSE 2.2278 \n",
      "18610\n",
      "75422\n",
      "Epoch 00780 | Loss 20.0383 | train_RMSE 2.1330 | test_RMSE 2.1273 \n"
     ]
    },
    {
     "name": "stderr",
     "output_type": "stream",
     "text": [
      " 39%|███████████████▋                        | 783/2000 [02:00<03:08,  6.46it/s]"
     ]
    },
    {
     "name": "stdout",
     "output_type": "stream",
     "text": [
      "18610\n",
      "75422\n",
      "Epoch 00781 | Loss 19.6011 | train_RMSE 2.1362 | test_RMSE 2.1265 \n",
      "18610\n",
      "75422\n",
      "Epoch 00782 | Loss 19.3860 | train_RMSE 2.1575 | test_RMSE 2.1469 \n"
     ]
    },
    {
     "name": "stderr",
     "output_type": "stream",
     "text": [
      " 39%|███████████████▋                        | 785/2000 [02:01<03:07,  6.49it/s]"
     ]
    },
    {
     "name": "stdout",
     "output_type": "stream",
     "text": [
      "18610\n",
      "75422\n",
      "Epoch 00783 | Loss 19.6160 | train_RMSE 2.1763 | test_RMSE 2.1756 \n",
      "18610\n",
      "75422\n",
      "Epoch 00784 | Loss 19.7142 | train_RMSE 2.3316 | test_RMSE 2.3151 \n"
     ]
    },
    {
     "name": "stderr",
     "output_type": "stream",
     "text": [
      " 39%|███████████████▋                        | 787/2000 [02:01<03:06,  6.51it/s]"
     ]
    },
    {
     "name": "stdout",
     "output_type": "stream",
     "text": [
      "18610\n",
      "75422\n",
      "Epoch 00785 | Loss 20.0741 | train_RMSE 2.2478 | test_RMSE 2.2483 \n",
      "18610\n",
      "75422\n",
      "Epoch 00786 | Loss 20.1745 | train_RMSE 2.2920 | test_RMSE 2.2756 \n"
     ]
    },
    {
     "name": "stderr",
     "output_type": "stream",
     "text": [
      " 39%|███████████████▊                        | 789/2000 [02:01<03:05,  6.52it/s]"
     ]
    },
    {
     "name": "stdout",
     "output_type": "stream",
     "text": [
      "18610\n",
      "75422\n",
      "Epoch 00787 | Loss 20.0312 | train_RMSE 2.1513 | test_RMSE 2.1452 \n",
      "18610\n",
      "75422\n",
      "Epoch 00788 | Loss 19.7818 | train_RMSE 2.1338 | test_RMSE 2.1226 \n"
     ]
    },
    {
     "name": "stderr",
     "output_type": "stream",
     "text": [
      " 40%|███████████████▊                        | 791/2000 [02:02<03:05,  6.51it/s]"
     ]
    },
    {
     "name": "stdout",
     "output_type": "stream",
     "text": [
      "18610\n",
      "75422\n",
      "Epoch 00789 | Loss 19.5303 | train_RMSE 2.1582 | test_RMSE 2.1461 \n",
      "18610\n",
      "75422\n",
      "Epoch 00790 | Loss 19.4633 | train_RMSE 2.1604 | test_RMSE 2.1591 \n"
     ]
    },
    {
     "name": "stderr",
     "output_type": "stream",
     "text": [
      " 40%|███████████████▊                        | 793/2000 [02:02<03:05,  6.52it/s]"
     ]
    },
    {
     "name": "stdout",
     "output_type": "stream",
     "text": [
      "18610\n",
      "75422\n",
      "Epoch 00791 | Loss 19.6209 | train_RMSE 2.2505 | test_RMSE 2.2352 \n",
      "18610\n",
      "75422\n",
      "Epoch 00792 | Loss 19.7100 | train_RMSE 2.1489 | test_RMSE 2.1457 \n"
     ]
    },
    {
     "name": "stderr",
     "output_type": "stream",
     "text": [
      " 40%|███████████████▉                        | 795/2000 [02:02<03:04,  6.52it/s]"
     ]
    },
    {
     "name": "stdout",
     "output_type": "stream",
     "text": [
      "18610\n",
      "75422\n",
      "Epoch 00793 | Loss 19.5908 | train_RMSE 2.1517 | test_RMSE 2.1424 \n",
      "18610\n",
      "75422\n",
      "Epoch 00794 | Loss 19.4195 | train_RMSE 2.1424 | test_RMSE 2.1353 \n"
     ]
    },
    {
     "name": "stderr",
     "output_type": "stream",
     "text": [
      " 40%|███████████████▉                        | 797/2000 [02:02<03:04,  6.52it/s]"
     ]
    },
    {
     "name": "stdout",
     "output_type": "stream",
     "text": [
      "18610\n",
      "75422\n",
      "Epoch 00795 | Loss 19.5704 | train_RMSE 2.1303 | test_RMSE 2.1281 \n",
      "18610\n",
      "75422\n",
      "Epoch 00796 | Loss 19.4738 | train_RMSE 2.1891 | test_RMSE 2.1772 \n"
     ]
    },
    {
     "name": "stderr",
     "output_type": "stream",
     "text": [
      " 40%|███████████████▉                        | 799/2000 [02:03<03:04,  6.52it/s]"
     ]
    },
    {
     "name": "stdout",
     "output_type": "stream",
     "text": [
      "18610\n",
      "75422\n",
      "Epoch 00797 | Loss 19.5058 | train_RMSE 2.1575 | test_RMSE 2.1550 \n",
      "18610\n",
      "75422\n",
      "Epoch 00798 | Loss 19.8342 | train_RMSE 2.2666 | test_RMSE 2.2499 \n"
     ]
    },
    {
     "name": "stderr",
     "output_type": "stream",
     "text": [
      " 40%|████████████████                        | 801/2000 [02:03<03:03,  6.52it/s]"
     ]
    },
    {
     "name": "stdout",
     "output_type": "stream",
     "text": [
      "18610\n",
      "75422\n",
      "Epoch 00799 | Loss 19.9941 | train_RMSE 2.1976 | test_RMSE 2.1919 \n",
      "18610\n",
      "75422\n",
      "Epoch 00800 | Loss 19.9219 | train_RMSE 2.2971 | test_RMSE 2.2780 \n"
     ]
    },
    {
     "name": "stderr",
     "output_type": "stream",
     "text": [
      " 40%|████████████████                        | 803/2000 [02:03<03:03,  6.52it/s]"
     ]
    },
    {
     "name": "stdout",
     "output_type": "stream",
     "text": [
      "18610\n",
      "75422\n",
      "Epoch 00801 | Loss 19.9521 | train_RMSE 2.1715 | test_RMSE 2.1665 \n",
      "18610\n",
      "75422\n",
      "Epoch 00802 | Loss 19.4715 | train_RMSE 2.1764 | test_RMSE 2.1622 \n"
     ]
    },
    {
     "name": "stderr",
     "output_type": "stream",
     "text": [
      " 40%|████████████████                        | 805/2000 [02:04<03:03,  6.52it/s]"
     ]
    },
    {
     "name": "stdout",
     "output_type": "stream",
     "text": [
      "18610\n",
      "75422\n",
      "Epoch 00803 | Loss 19.6219 | train_RMSE 2.1118 | test_RMSE 2.1081 \n",
      "18610\n",
      "75422\n",
      "Epoch 00804 | Loss 19.4842 | train_RMSE 2.1196 | test_RMSE 2.1125 \n"
     ]
    },
    {
     "name": "stderr",
     "output_type": "stream",
     "text": [
      " 40%|████████████████▏                       | 807/2000 [02:04<03:03,  6.49it/s]"
     ]
    },
    {
     "name": "stdout",
     "output_type": "stream",
     "text": [
      "18610\n",
      "75422\n",
      "Epoch 00805 | Loss 19.0319 | train_RMSE 2.1103 | test_RMSE 2.1033 \n",
      "18610\n",
      "75422\n",
      "Epoch 00806 | Loss 19.5760 | train_RMSE 2.1106 | test_RMSE 2.1019 \n"
     ]
    },
    {
     "name": "stderr",
     "output_type": "stream",
     "text": [
      " 40%|████████████████▏                       | 809/2000 [02:04<03:03,  6.51it/s]"
     ]
    },
    {
     "name": "stdout",
     "output_type": "stream",
     "text": [
      "18610\n",
      "75422\n",
      "Epoch 00807 | Loss 19.2240 | train_RMSE 2.1264 | test_RMSE 2.1137 \n",
      "18610\n",
      "75422\n",
      "Epoch 00808 | Loss 19.5314 | train_RMSE 2.1107 | test_RMSE 2.1022 \n"
     ]
    },
    {
     "name": "stderr",
     "output_type": "stream",
     "text": [
      " 41%|████████████████▏                       | 811/2000 [02:05<03:02,  6.50it/s]"
     ]
    },
    {
     "name": "stdout",
     "output_type": "stream",
     "text": [
      "18610\n",
      "75422\n",
      "Epoch 00809 | Loss 19.4215 | train_RMSE 2.1338 | test_RMSE 2.1219 \n",
      "18610\n",
      "75422\n",
      "Epoch 00810 | Loss 19.3114 | train_RMSE 2.1175 | test_RMSE 2.1117 \n"
     ]
    },
    {
     "name": "stderr",
     "output_type": "stream",
     "text": [
      " 41%|████████████████▎                       | 813/2000 [02:05<03:02,  6.51it/s]"
     ]
    },
    {
     "name": "stdout",
     "output_type": "stream",
     "text": [
      "18610\n",
      "75422\n",
      "Epoch 00811 | Loss 19.5879 | train_RMSE 2.1835 | test_RMSE 2.1708 \n",
      "18610\n",
      "75422\n",
      "Epoch 00812 | Loss 19.1684 | train_RMSE 2.1329 | test_RMSE 2.1305 \n"
     ]
    },
    {
     "name": "stderr",
     "output_type": "stream",
     "text": [
      " 41%|████████████████▎                       | 815/2000 [02:05<03:01,  6.53it/s]"
     ]
    },
    {
     "name": "stdout",
     "output_type": "stream",
     "text": [
      "18610\n",
      "75422\n",
      "Epoch 00813 | Loss 19.4022 | train_RMSE 2.1821 | test_RMSE 2.1693 \n",
      "18610\n",
      "75422\n",
      "Epoch 00814 | Loss 19.5373 | train_RMSE 2.1332 | test_RMSE 2.1301 \n"
     ]
    },
    {
     "name": "stderr",
     "output_type": "stream",
     "text": [
      " 41%|████████████████▎                       | 817/2000 [02:06<03:01,  6.52it/s]"
     ]
    },
    {
     "name": "stdout",
     "output_type": "stream",
     "text": [
      "18610\n",
      "75422\n",
      "Epoch 00815 | Loss 19.5418 | train_RMSE 2.2036 | test_RMSE 2.1902 \n",
      "18610\n",
      "75422\n",
      "Epoch 00816 | Loss 19.4690 | train_RMSE 2.1544 | test_RMSE 2.1512 \n"
     ]
    },
    {
     "name": "stderr",
     "output_type": "stream",
     "text": [
      " 41%|████████████████▍                       | 819/2000 [02:06<03:01,  6.51it/s]"
     ]
    },
    {
     "name": "stdout",
     "output_type": "stream",
     "text": [
      "18610\n",
      "75422\n",
      "Epoch 00817 | Loss 19.6518 | train_RMSE 2.2521 | test_RMSE 2.2353 \n",
      "18610\n",
      "75422\n",
      "Epoch 00818 | Loss 19.6103 | train_RMSE 2.2148 | test_RMSE 2.2137 \n"
     ]
    },
    {
     "name": "stderr",
     "output_type": "stream",
     "text": [
      " 41%|████████████████▍                       | 821/2000 [02:06<03:00,  6.53it/s]"
     ]
    },
    {
     "name": "stdout",
     "output_type": "stream",
     "text": [
      "18610\n",
      "75422\n",
      "Epoch 00819 | Loss 19.9655 | train_RMSE 2.3671 | test_RMSE 2.3495 \n",
      "18610\n",
      "75422\n",
      "Epoch 00820 | Loss 20.2005 | train_RMSE 2.3420 | test_RMSE 2.3436 \n"
     ]
    },
    {
     "name": "stderr",
     "output_type": "stream",
     "text": [
      " 41%|████████████████▍                       | 823/2000 [02:06<03:00,  6.52it/s]"
     ]
    },
    {
     "name": "stdout",
     "output_type": "stream",
     "text": [
      "18610\n",
      "75422\n",
      "Epoch 00821 | Loss 20.4045 | train_RMSE 2.5941 | test_RMSE 2.5738 \n",
      "18610\n",
      "75422\n",
      "Epoch 00822 | Loss 21.4113 | train_RMSE 2.5836 | test_RMSE 2.5922 \n"
     ]
    },
    {
     "name": "stderr",
     "output_type": "stream",
     "text": [
      " 41%|████████████████▌                       | 825/2000 [02:07<03:00,  6.52it/s]"
     ]
    },
    {
     "name": "stdout",
     "output_type": "stream",
     "text": [
      "18610\n",
      "75422\n",
      "Epoch 00823 | Loss 21.7592 | train_RMSE 2.9041 | test_RMSE 2.8802 \n",
      "18610\n",
      "75422\n",
      "Epoch 00824 | Loss 22.7580 | train_RMSE 2.8507 | test_RMSE 2.8558 \n"
     ]
    },
    {
     "name": "stderr",
     "output_type": "stream",
     "text": [
      " 41%|████████████████▌                       | 827/2000 [02:07<02:59,  6.53it/s]"
     ]
    },
    {
     "name": "stdout",
     "output_type": "stream",
     "text": [
      "18610\n",
      "75422\n",
      "Epoch 00825 | Loss 23.4145 | train_RMSE 3.2149 | test_RMSE 3.1902 \n",
      "18610\n",
      "75422\n",
      "Epoch 00826 | Loss 24.2144 | train_RMSE 2.9509 | test_RMSE 2.9568 \n"
     ]
    },
    {
     "name": "stderr",
     "output_type": "stream",
     "text": [
      " 41%|████████████████▌                       | 829/2000 [02:07<02:59,  6.53it/s]"
     ]
    },
    {
     "name": "stdout",
     "output_type": "stream",
     "text": [
      "18610\n",
      "75422\n",
      "Epoch 00827 | Loss 24.2234 | train_RMSE 3.0143 | test_RMSE 2.9918 \n",
      "18610\n",
      "75422\n",
      "Epoch 00828 | Loss 23.4038 | train_RMSE 2.6170 | test_RMSE 2.6253 \n"
     ]
    },
    {
     "name": "stderr",
     "output_type": "stream",
     "text": [
      " 42%|████████████████▌                       | 831/2000 [02:08<02:59,  6.52it/s]"
     ]
    },
    {
     "name": "stdout",
     "output_type": "stream",
     "text": [
      "18610\n",
      "75422\n",
      "Epoch 00829 | Loss 22.1200 | train_RMSE 2.6133 | test_RMSE 2.5968 \n",
      "18610\n",
      "75422\n",
      "Epoch 00830 | Loss 21.0971 | train_RMSE 2.2675 | test_RMSE 2.2705 \n"
     ]
    },
    {
     "name": "stderr",
     "output_type": "stream",
     "text": [
      " 42%|████████████████▋                       | 833/2000 [02:08<02:58,  6.52it/s]"
     ]
    },
    {
     "name": "stdout",
     "output_type": "stream",
     "text": [
      "18610\n",
      "75422\n",
      "Epoch 00831 | Loss 20.1267 | train_RMSE 2.1874 | test_RMSE 2.1753 \n",
      "18610\n",
      "75422\n",
      "Epoch 00832 | Loss 19.4449 | train_RMSE 2.1152 | test_RMSE 2.1055 \n"
     ]
    },
    {
     "name": "stderr",
     "output_type": "stream",
     "text": [
      " 42%|████████████████▋                       | 835/2000 [02:08<02:58,  6.52it/s]"
     ]
    },
    {
     "name": "stdout",
     "output_type": "stream",
     "text": [
      "18610\n",
      "75422\n",
      "Epoch 00833 | Loss 19.3224 | train_RMSE 2.1478 | test_RMSE 2.1438 \n",
      "18610\n",
      "75422\n",
      "Epoch 00834 | Loss 19.4068 | train_RMSE 2.3582 | test_RMSE 2.3425 \n"
     ]
    },
    {
     "name": "stderr",
     "output_type": "stream",
     "text": [
      " 42%|████████████████▋                       | 837/2000 [02:09<02:58,  6.52it/s]"
     ]
    },
    {
     "name": "stdout",
     "output_type": "stream",
     "text": [
      "18610\n",
      "75422\n",
      "Epoch 00835 | Loss 19.9834 | train_RMSE 2.3248 | test_RMSE 2.3260 \n",
      "18610\n",
      "75422\n",
      "Epoch 00836 | Loss 20.6791 | train_RMSE 2.4598 | test_RMSE 2.4401 \n"
     ]
    },
    {
     "name": "stderr",
     "output_type": "stream",
     "text": [
      " 42%|████████████████▊                       | 839/2000 [02:09<02:57,  6.52it/s]"
     ]
    },
    {
     "name": "stdout",
     "output_type": "stream",
     "text": [
      "18610\n",
      "75422\n",
      "Epoch 00837 | Loss 20.5035 | train_RMSE 2.2529 | test_RMSE 2.2554 \n",
      "18610\n",
      "75422\n",
      "Epoch 00838 | Loss 19.9094 | train_RMSE 2.2396 | test_RMSE 2.2233 \n"
     ]
    },
    {
     "name": "stderr",
     "output_type": "stream",
     "text": [
      " 42%|████████████████▊                       | 841/2000 [02:09<02:57,  6.52it/s]"
     ]
    },
    {
     "name": "stdout",
     "output_type": "stream",
     "text": [
      "18610\n",
      "75422\n",
      "Epoch 00839 | Loss 19.6465 | train_RMSE 2.1026 | test_RMSE 2.0942 \n",
      "18610\n",
      "75422\n",
      "Epoch 00840 | Loss 19.1820 | train_RMSE 2.1001 | test_RMSE 2.0937 \n"
     ]
    },
    {
     "name": "stderr",
     "output_type": "stream",
     "text": [
      " 42%|████████████████▊                       | 843/2000 [02:09<02:57,  6.52it/s]"
     ]
    },
    {
     "name": "stdout",
     "output_type": "stream",
     "text": [
      "18610\n",
      "75422\n",
      "Epoch 00841 | Loss 19.2174 | train_RMSE 2.1897 | test_RMSE 2.1778 \n",
      "18610\n",
      "75422\n",
      "Epoch 00842 | Loss 19.3543 | train_RMSE 2.1617 | test_RMSE 2.1634 \n"
     ]
    },
    {
     "name": "stderr",
     "output_type": "stream",
     "text": [
      " 42%|████████████████▉                       | 845/2000 [02:10<02:57,  6.52it/s]"
     ]
    },
    {
     "name": "stdout",
     "output_type": "stream",
     "text": [
      "18610\n",
      "75422\n",
      "Epoch 00843 | Loss 19.6120 | train_RMSE 2.2548 | test_RMSE 2.2404 \n",
      "18610\n",
      "75422\n",
      "Epoch 00844 | Loss 19.5691 | train_RMSE 2.1453 | test_RMSE 2.1423 \n"
     ]
    },
    {
     "name": "stderr",
     "output_type": "stream",
     "text": [
      " 42%|████████████████▉                       | 847/2000 [02:10<02:57,  6.51it/s]"
     ]
    },
    {
     "name": "stdout",
     "output_type": "stream",
     "text": [
      "18610\n",
      "75422\n",
      "Epoch 00845 | Loss 19.6087 | train_RMSE 2.1707 | test_RMSE 2.1559 \n",
      "18610\n",
      "75422\n",
      "Epoch 00846 | Loss 19.3296 | train_RMSE 2.0916 | test_RMSE 2.0849 \n"
     ]
    },
    {
     "name": "stderr",
     "output_type": "stream",
     "text": [
      " 42%|████████████████▉                       | 849/2000 [02:10<02:56,  6.51it/s]"
     ]
    },
    {
     "name": "stdout",
     "output_type": "stream",
     "text": [
      "18610\n",
      "75422\n",
      "Epoch 00847 | Loss 19.1609 | train_RMSE 2.1085 | test_RMSE 2.0962 \n",
      "18610\n",
      "75422\n",
      "Epoch 00848 | Loss 19.2558 | train_RMSE 2.0885 | test_RMSE 2.0798 \n"
     ]
    },
    {
     "name": "stderr",
     "output_type": "stream",
     "text": [
      " 43%|█████████████████                       | 851/2000 [02:11<02:56,  6.50it/s]"
     ]
    },
    {
     "name": "stdout",
     "output_type": "stream",
     "text": [
      "18610\n",
      "75422\n",
      "Epoch 00849 | Loss 18.9253 | train_RMSE 2.0865 | test_RMSE 2.0785 \n",
      "18610\n",
      "75422\n",
      "Epoch 00850 | Loss 19.0740 | train_RMSE 2.1569 | test_RMSE 2.1439 \n"
     ]
    },
    {
     "name": "stderr",
     "output_type": "stream",
     "text": [
      " 43%|█████████████████                       | 853/2000 [02:11<02:56,  6.51it/s]"
     ]
    },
    {
     "name": "stdout",
     "output_type": "stream",
     "text": [
      "18610\n",
      "75422\n",
      "Epoch 00851 | Loss 19.4056 | train_RMSE 2.1605 | test_RMSE 2.1577 \n",
      "18610\n",
      "75422\n",
      "Epoch 00852 | Loss 19.5072 | train_RMSE 2.3300 | test_RMSE 2.3126 \n"
     ]
    },
    {
     "name": "stderr",
     "output_type": "stream",
     "text": [
      " 43%|█████████████████                       | 855/2000 [02:11<02:55,  6.52it/s]"
     ]
    },
    {
     "name": "stdout",
     "output_type": "stream",
     "text": [
      "18610\n",
      "75422\n",
      "Epoch 00853 | Loss 20.1067 | train_RMSE 2.3050 | test_RMSE 2.3097 \n",
      "18610\n",
      "75422\n",
      "Epoch 00854 | Loss 20.3083 | train_RMSE 2.5630 | test_RMSE 2.5403 \n"
     ]
    },
    {
     "name": "stderr",
     "output_type": "stream",
     "text": [
      " 43%|█████████████████▏                      | 857/2000 [02:12<02:55,  6.51it/s]"
     ]
    },
    {
     "name": "stdout",
     "output_type": "stream",
     "text": [
      "18610\n",
      "75422\n",
      "Epoch 00855 | Loss 21.1496 | train_RMSE 2.6173 | test_RMSE 2.6202 \n",
      "18610\n",
      "75422\n",
      "Epoch 00856 | Loss 21.9487 | train_RMSE 3.0367 | test_RMSE 3.0144 \n"
     ]
    },
    {
     "name": "stderr",
     "output_type": "stream",
     "text": [
      " 43%|█████████████████▏                      | 859/2000 [02:12<02:55,  6.52it/s]"
     ]
    },
    {
     "name": "stdout",
     "output_type": "stream",
     "text": [
      "18610\n",
      "75422\n",
      "Epoch 00857 | Loss 23.3868 | train_RMSE 3.1059 | test_RMSE 3.1173 \n",
      "18610\n",
      "75422\n",
      "Epoch 00858 | Loss 24.8510 | train_RMSE 3.6870 | test_RMSE 3.6610 \n"
     ]
    },
    {
     "name": "stderr",
     "output_type": "stream",
     "text": [
      " 43%|█████████████████▏                      | 861/2000 [02:12<02:54,  6.52it/s]"
     ]
    },
    {
     "name": "stdout",
     "output_type": "stream",
     "text": [
      "18610\n",
      "75422\n",
      "Epoch 00859 | Loss 27.4752 | train_RMSE 3.5304 | test_RMSE 3.5425 \n",
      "18610\n",
      "75422\n",
      "Epoch 00860 | Loss 27.6894 | train_RMSE 3.5909 | test_RMSE 3.5680 \n"
     ]
    },
    {
     "name": "stderr",
     "output_type": "stream",
     "text": [
      " 43%|█████████████████▎                      | 863/2000 [02:13<02:54,  6.52it/s]"
     ]
    },
    {
     "name": "stdout",
     "output_type": "stream",
     "text": [
      "18610\n",
      "75422\n",
      "Epoch 00861 | Loss 26.9336 | train_RMSE 2.8195 | test_RMSE 2.8267 \n",
      "18610\n",
      "75422\n",
      "Epoch 00862 | Loss 23.1148 | train_RMSE 2.4055 | test_RMSE 2.3889 \n"
     ]
    },
    {
     "name": "stderr",
     "output_type": "stream",
     "text": [
      " 43%|█████████████████▎                      | 865/2000 [02:13<02:54,  6.52it/s]"
     ]
    },
    {
     "name": "stdout",
     "output_type": "stream",
     "text": [
      "18610\n",
      "75422\n",
      "Epoch 00863 | Loss 20.3785 | train_RMSE 2.1036 | test_RMSE 2.0953 \n",
      "18610\n",
      "75422\n",
      "Epoch 00864 | Loss 19.0068 | train_RMSE 2.2554 | test_RMSE 2.2562 \n"
     ]
    },
    {
     "name": "stderr",
     "output_type": "stream",
     "text": [
      " 43%|█████████████████▎                      | 867/2000 [02:13<02:53,  6.52it/s]"
     ]
    },
    {
     "name": "stdout",
     "output_type": "stream",
     "text": [
      "18610\n",
      "75422\n",
      "Epoch 00865 | Loss 19.8409 | train_RMSE 2.7273 | test_RMSE 2.7062 \n",
      "18610\n",
      "75422\n",
      "Epoch 00866 | Loss 21.6888 | train_RMSE 2.7378 | test_RMSE 2.7488 \n"
     ]
    },
    {
     "name": "stderr",
     "output_type": "stream",
     "text": [
      " 43%|█████████████████▍                      | 869/2000 [02:13<02:53,  6.51it/s]"
     ]
    },
    {
     "name": "stdout",
     "output_type": "stream",
     "text": [
      "18610\n",
      "75422\n",
      "Epoch 00867 | Loss 22.5994 | train_RMSE 2.7769 | test_RMSE 2.7554 \n",
      "18610\n",
      "75422\n",
      "Epoch 00868 | Loss 21.8992 | train_RMSE 2.2742 | test_RMSE 2.2761 \n"
     ]
    },
    {
     "name": "stderr",
     "output_type": "stream",
     "text": [
      " 44%|█████████████████▍                      | 871/2000 [02:14<02:53,  6.52it/s]"
     ]
    },
    {
     "name": "stdout",
     "output_type": "stream",
     "text": [
      "18610\n",
      "75422\n",
      "Epoch 00869 | Loss 20.0963 | train_RMSE 2.0986 | test_RMSE 2.0877 \n",
      "18610\n",
      "75422\n",
      "Epoch 00870 | Loss 19.0590 | train_RMSE 2.2202 | test_RMSE 2.2049 \n"
     ]
    },
    {
     "name": "stderr",
     "output_type": "stream",
     "text": [
      " 44%|█████████████████▍                      | 873/2000 [02:14<02:52,  6.52it/s]"
     ]
    },
    {
     "name": "stdout",
     "output_type": "stream",
     "text": [
      "18610\n",
      "75422\n",
      "Epoch 00871 | Loss 19.3473 | train_RMSE 2.3286 | test_RMSE 2.3306 \n",
      "18610\n",
      "75422\n",
      "Epoch 00872 | Loss 20.4050 | train_RMSE 2.5192 | test_RMSE 2.5008 \n"
     ]
    },
    {
     "name": "stderr",
     "output_type": "stream",
     "text": [
      " 44%|█████████████████▌                      | 875/2000 [02:14<02:52,  6.51it/s]"
     ]
    },
    {
     "name": "stdout",
     "output_type": "stream",
     "text": [
      "18610\n",
      "75422\n",
      "Epoch 00873 | Loss 20.3996 | train_RMSE 2.2811 | test_RMSE 2.2833 \n",
      "18610\n",
      "75422\n",
      "Epoch 00874 | Loss 19.9430 | train_RMSE 2.1583 | test_RMSE 2.1487 \n"
     ]
    },
    {
     "name": "stderr",
     "output_type": "stream",
     "text": [
      " 44%|█████████████████▌                      | 877/2000 [02:15<02:52,  6.52it/s]"
     ]
    },
    {
     "name": "stdout",
     "output_type": "stream",
     "text": [
      "18610\n",
      "75422\n",
      "Epoch 00875 | Loss 19.3759 | train_RMSE 2.1286 | test_RMSE 2.1209 \n",
      "18610\n",
      "75422\n",
      "Epoch 00876 | Loss 19.1313 | train_RMSE 2.2049 | test_RMSE 2.2092 \n"
     ]
    },
    {
     "name": "stderr",
     "output_type": "stream",
     "text": [
      " 44%|█████████████████▌                      | 879/2000 [02:15<02:51,  6.52it/s]"
     ]
    },
    {
     "name": "stdout",
     "output_type": "stream",
     "text": [
      "18610\n",
      "75422\n",
      "Epoch 00877 | Loss 19.8090 | train_RMSE 2.4229 | test_RMSE 2.4037 \n",
      "18610\n",
      "75422\n",
      "Epoch 00878 | Loss 20.0764 | train_RMSE 2.3143 | test_RMSE 2.3159 \n"
     ]
    },
    {
     "name": "stderr",
     "output_type": "stream",
     "text": [
      " 44%|█████████████████▌                      | 881/2000 [02:15<02:52,  6.50it/s]"
     ]
    },
    {
     "name": "stdout",
     "output_type": "stream",
     "text": [
      "18610\n",
      "75422\n",
      "Epoch 00879 | Loss 20.2858 | train_RMSE 2.2734 | test_RMSE 2.2560 \n",
      "18610\n",
      "75422\n",
      "Epoch 00880 | Loss 19.5331 | train_RMSE 2.0873 | test_RMSE 2.0822 \n"
     ]
    },
    {
     "name": "stderr",
     "output_type": "stream",
     "text": [
      " 44%|█████████████████▋                      | 883/2000 [02:16<02:51,  6.51it/s]"
     ]
    },
    {
     "name": "stdout",
     "output_type": "stream",
     "text": [
      "18610\n",
      "75422\n",
      "Epoch 00881 | Loss 19.0849 | train_RMSE 2.0865 | test_RMSE 2.0817 \n",
      "18610\n",
      "75422\n",
      "Epoch 00882 | Loss 19.1658 | train_RMSE 2.2168 | test_RMSE 2.2030 \n"
     ]
    },
    {
     "name": "stderr",
     "output_type": "stream",
     "text": [
      " 44%|█████████████████▋                      | 885/2000 [02:16<02:51,  6.51it/s]"
     ]
    },
    {
     "name": "stdout",
     "output_type": "stream",
     "text": [
      "18610\n",
      "75422\n",
      "Epoch 00883 | Loss 19.4580 | train_RMSE 2.2041 | test_RMSE 2.2047 \n",
      "18610\n",
      "75422\n",
      "Epoch 00884 | Loss 19.4734 | train_RMSE 2.3286 | test_RMSE 2.3111 \n"
     ]
    },
    {
     "name": "stderr",
     "output_type": "stream",
     "text": [
      " 44%|█████████████████▋                      | 887/2000 [02:16<02:50,  6.51it/s]"
     ]
    },
    {
     "name": "stdout",
     "output_type": "stream",
     "text": [
      "18610\n",
      "75422\n",
      "Epoch 00885 | Loss 19.8318 | train_RMSE 2.1703 | test_RMSE 2.1683 \n",
      "18610\n",
      "75422\n",
      "Epoch 00886 | Loss 19.7338 | train_RMSE 2.1190 | test_RMSE 2.1059 \n"
     ]
    },
    {
     "name": "stderr",
     "output_type": "stream",
     "text": [
      " 44%|█████████████████▊                      | 889/2000 [02:17<02:50,  6.52it/s]"
     ]
    },
    {
     "name": "stdout",
     "output_type": "stream",
     "text": [
      "18610\n",
      "75422\n",
      "Epoch 00887 | Loss 19.0750 | train_RMSE 2.0981 | test_RMSE 2.0856 \n",
      "18610\n",
      "75422\n",
      "Epoch 00888 | Loss 19.0032 | train_RMSE 2.1350 | test_RMSE 2.1314 \n"
     ]
    },
    {
     "name": "stderr",
     "output_type": "stream",
     "text": [
      " 45%|█████████████████▊                      | 891/2000 [02:17<02:50,  6.51it/s]"
     ]
    },
    {
     "name": "stdout",
     "output_type": "stream",
     "text": [
      "18610\n",
      "75422\n",
      "Epoch 00889 | Loss 19.2940 | train_RMSE 2.3513 | test_RMSE 2.3325 \n",
      "18610\n",
      "75422\n",
      "Epoch 00890 | Loss 19.8786 | train_RMSE 2.2441 | test_RMSE 2.2465 \n"
     ]
    },
    {
     "name": "stderr",
     "output_type": "stream",
     "text": [
      " 45%|█████████████████▊                      | 893/2000 [02:17<02:50,  6.51it/s]"
     ]
    },
    {
     "name": "stdout",
     "output_type": "stream",
     "text": [
      "18610\n",
      "75422\n",
      "Epoch 00891 | Loss 19.7905 | train_RMSE 2.2475 | test_RMSE 2.2315 \n",
      "18610\n",
      "75422\n",
      "Epoch 00892 | Loss 19.6646 | train_RMSE 2.0924 | test_RMSE 2.0900 \n"
     ]
    },
    {
     "name": "stderr",
     "output_type": "stream",
     "text": [
      " 45%|█████████████████▉                      | 895/2000 [02:17<02:50,  6.48it/s]"
     ]
    },
    {
     "name": "stdout",
     "output_type": "stream",
     "text": [
      "18610\n",
      "75422\n",
      "Epoch 00893 | Loss 18.9917 | train_RMSE 2.0803 | test_RMSE 2.0745 \n",
      "18610\n",
      "75422\n",
      "Epoch 00894 | Loss 18.7915 | train_RMSE 2.1582 | test_RMSE 2.1460 \n"
     ]
    },
    {
     "name": "stderr",
     "output_type": "stream",
     "text": [
      " 45%|█████████████████▉                      | 897/2000 [02:18<02:49,  6.49it/s]"
     ]
    },
    {
     "name": "stdout",
     "output_type": "stream",
     "text": [
      "18610\n",
      "75422\n",
      "Epoch 00895 | Loss 19.2886 | train_RMSE 2.1496 | test_RMSE 2.1482 \n",
      "18610\n",
      "75422\n",
      "Epoch 00896 | Loss 19.4034 | train_RMSE 2.2005 | test_RMSE 2.1865 \n"
     ]
    },
    {
     "name": "stderr",
     "output_type": "stream",
     "text": [
      " 45%|█████████████████▉                      | 899/2000 [02:18<02:49,  6.51it/s]"
     ]
    },
    {
     "name": "stdout",
     "output_type": "stream",
     "text": [
      "18610\n",
      "75422\n",
      "Epoch 00897 | Loss 19.2499 | train_RMSE 2.0854 | test_RMSE 2.0835 \n",
      "18610\n",
      "75422\n",
      "Epoch 00898 | Loss 19.1533 | train_RMSE 2.0777 | test_RMSE 2.0703 \n"
     ]
    },
    {
     "name": "stderr",
     "output_type": "stream",
     "text": [
      " 45%|██████████████████                      | 901/2000 [02:18<02:48,  6.51it/s]"
     ]
    },
    {
     "name": "stdout",
     "output_type": "stream",
     "text": [
      "18610\n",
      "75422\n",
      "Epoch 00899 | Loss 19.0461 | train_RMSE 2.0788 | test_RMSE 2.0716 \n",
      "18610\n",
      "75422\n",
      "Epoch 00900 | Loss 19.1405 | train_RMSE 2.0682 | test_RMSE 2.0621 \n"
     ]
    },
    {
     "name": "stderr",
     "output_type": "stream",
     "text": [
      " 45%|██████████████████                      | 903/2000 [02:19<02:48,  6.51it/s]"
     ]
    },
    {
     "name": "stdout",
     "output_type": "stream",
     "text": [
      "18610\n",
      "75422\n",
      "Epoch 00901 | Loss 19.0602 | train_RMSE 2.0883 | test_RMSE 2.0773 \n",
      "18610\n",
      "75422\n",
      "Epoch 00902 | Loss 18.8754 | train_RMSE 2.0666 | test_RMSE 2.0585 \n"
     ]
    },
    {
     "name": "stderr",
     "output_type": "stream",
     "text": [
      " 45%|██████████████████                      | 905/2000 [02:19<02:48,  6.48it/s]"
     ]
    },
    {
     "name": "stdout",
     "output_type": "stream",
     "text": [
      "18610\n",
      "75422\n",
      "Epoch 00903 | Loss 19.1216 | train_RMSE 2.1023 | test_RMSE 2.0900 \n",
      "18610\n",
      "75422\n",
      "Epoch 00904 | Loss 18.7273 | train_RMSE 2.0725 | test_RMSE 2.0659 \n"
     ]
    },
    {
     "name": "stderr",
     "output_type": "stream",
     "text": [
      " 45%|██████████████████▏                     | 907/2000 [02:19<02:48,  6.50it/s]"
     ]
    },
    {
     "name": "stdout",
     "output_type": "stream",
     "text": [
      "18610\n",
      "75422\n",
      "Epoch 00905 | Loss 18.9241 | train_RMSE 2.1111 | test_RMSE 2.0978 \n",
      "18610\n",
      "75422\n",
      "Epoch 00906 | Loss 19.0782 | train_RMSE 2.0622 | test_RMSE 2.0551 \n"
     ]
    },
    {
     "name": "stderr",
     "output_type": "stream",
     "text": [
      " 45%|██████████████████▏                     | 909/2000 [02:20<02:47,  6.51it/s]"
     ]
    },
    {
     "name": "stdout",
     "output_type": "stream",
     "text": [
      "18610\n",
      "75422\n",
      "Epoch 00907 | Loss 19.0150 | train_RMSE 2.0767 | test_RMSE 2.0669 \n",
      "18610\n",
      "75422\n",
      "Epoch 00908 | Loss 18.9204 | train_RMSE 2.0645 | test_RMSE 2.0576 \n"
     ]
    },
    {
     "name": "stderr",
     "output_type": "stream",
     "text": [
      " 46%|██████████████████▏                     | 911/2000 [02:20<02:47,  6.52it/s]"
     ]
    },
    {
     "name": "stdout",
     "output_type": "stream",
     "text": [
      "18610\n",
      "75422\n",
      "Epoch 00909 | Loss 18.9491 | train_RMSE 2.0898 | test_RMSE 2.0806 \n",
      "18610\n",
      "75422\n",
      "Epoch 00910 | Loss 18.7706 | train_RMSE 2.0628 | test_RMSE 2.0568 \n"
     ]
    },
    {
     "name": "stderr",
     "output_type": "stream",
     "text": [
      " 46%|██████████████████▎                     | 913/2000 [02:20<02:47,  6.47it/s]"
     ]
    },
    {
     "name": "stdout",
     "output_type": "stream",
     "text": [
      "18610\n",
      "75422\n",
      "Epoch 00911 | Loss 18.8763 | train_RMSE 2.0823 | test_RMSE 2.0723 \n",
      "18610\n",
      "75422\n",
      "Epoch 00912 | Loss 18.7039 | train_RMSE 2.0576 | test_RMSE 2.0503 \n"
     ]
    },
    {
     "name": "stderr",
     "output_type": "stream",
     "text": [
      " 46%|██████████████████▎                     | 915/2000 [02:21<02:48,  6.46it/s]"
     ]
    },
    {
     "name": "stdout",
     "output_type": "stream",
     "text": [
      "18610\n",
      "75422\n",
      "Epoch 00913 | Loss 18.8484 | train_RMSE 2.0849 | test_RMSE 2.0723 \n",
      "18610\n",
      "75422\n",
      "Epoch 00914 | Loss 18.6612 | train_RMSE 2.0814 | test_RMSE 2.0759 \n"
     ]
    },
    {
     "name": "stderr",
     "output_type": "stream",
     "text": [
      " 46%|██████████████████▎                     | 917/2000 [02:21<02:46,  6.49it/s]"
     ]
    },
    {
     "name": "stdout",
     "output_type": "stream",
     "text": [
      "18610\n",
      "75422\n",
      "Epoch 00915 | Loss 19.0831 | train_RMSE 2.1786 | test_RMSE 2.1638 \n",
      "18610\n",
      "75422\n",
      "Epoch 00916 | Loss 19.3343 | train_RMSE 2.1798 | test_RMSE 2.1801 \n"
     ]
    },
    {
     "name": "stderr",
     "output_type": "stream",
     "text": [
      " 46%|██████████████████▍                     | 919/2000 [02:21<02:46,  6.50it/s]"
     ]
    },
    {
     "name": "stdout",
     "output_type": "stream",
     "text": [
      "18610\n",
      "75422\n",
      "Epoch 00917 | Loss 19.6377 | train_RMSE 2.4540 | test_RMSE 2.4365 \n",
      "18610\n",
      "75422\n",
      "Epoch 00918 | Loss 20.1386 | train_RMSE 2.6003 | test_RMSE 2.6119 \n"
     ]
    },
    {
     "name": "stderr",
     "output_type": "stream",
     "text": [
      " 46%|██████████████████▍                     | 921/2000 [02:21<02:45,  6.51it/s]"
     ]
    },
    {
     "name": "stdout",
     "output_type": "stream",
     "text": [
      "18610\n",
      "75422\n",
      "Epoch 00919 | Loss 21.4548 | train_RMSE 3.1458 | test_RMSE 3.1231 \n",
      "18610\n",
      "75422\n",
      "Epoch 00920 | Loss 23.7393 | train_RMSE 3.2823 | test_RMSE 3.2867 \n"
     ]
    },
    {
     "name": "stderr",
     "output_type": "stream",
     "text": [
      " 46%|██████████████████▍                     | 923/2000 [02:22<02:45,  6.50it/s]"
     ]
    },
    {
     "name": "stdout",
     "output_type": "stream",
     "text": [
      "18610\n",
      "75422\n",
      "Epoch 00921 | Loss 25.5235 | train_RMSE 3.8302 | test_RMSE 3.8049 \n",
      "18610\n",
      "75422\n",
      "Epoch 00922 | Loss 28.2010 | train_RMSE 3.5509 | test_RMSE 3.5648 \n"
     ]
    },
    {
     "name": "stderr",
     "output_type": "stream",
     "text": [
      " 46%|██████████████████▌                     | 925/2000 [02:22<02:45,  6.51it/s]"
     ]
    },
    {
     "name": "stdout",
     "output_type": "stream",
     "text": [
      "18610\n",
      "75422\n",
      "Epoch 00923 | Loss 27.6399 | train_RMSE 3.5974 | test_RMSE 3.5681 \n",
      "18610\n",
      "75422\n",
      "Epoch 00924 | Loss 26.6082 | train_RMSE 2.7733 | test_RMSE 2.7835 \n"
     ]
    },
    {
     "name": "stderr",
     "output_type": "stream",
     "text": [
      " 46%|██████████████████▌                     | 927/2000 [02:22<02:44,  6.51it/s]"
     ]
    },
    {
     "name": "stdout",
     "output_type": "stream",
     "text": [
      "18610\n",
      "75422\n",
      "Epoch 00925 | Loss 22.6006 | train_RMSE 2.3094 | test_RMSE 2.2950 \n",
      "18610\n",
      "75422\n",
      "Epoch 00926 | Loss 19.6198 | train_RMSE 2.0991 | test_RMSE 2.0907 \n"
     ]
    },
    {
     "name": "stderr",
     "output_type": "stream",
     "text": [
      " 46%|██████████████████▌                     | 929/2000 [02:23<02:44,  6.51it/s]"
     ]
    },
    {
     "name": "stdout",
     "output_type": "stream",
     "text": [
      "18610\n",
      "75422\n",
      "Epoch 00927 | Loss 18.8840 | train_RMSE 2.3185 | test_RMSE 2.3231 \n",
      "18610\n",
      "75422\n",
      "Epoch 00928 | Loss 19.9964 | train_RMSE 2.8199 | test_RMSE 2.7981 \n"
     ]
    },
    {
     "name": "stderr",
     "output_type": "stream",
     "text": [
      " 47%|██████████████████▌                     | 931/2000 [02:23<02:44,  6.51it/s]"
     ]
    },
    {
     "name": "stdout",
     "output_type": "stream",
     "text": [
      "18610\n",
      "75422\n",
      "Epoch 00929 | Loss 22.2357 | train_RMSE 2.7903 | test_RMSE 2.8050 \n",
      "18610\n",
      "75422\n",
      "Epoch 00930 | Loss 22.5796 | train_RMSE 2.8156 | test_RMSE 2.7939 \n"
     ]
    },
    {
     "name": "stderr",
     "output_type": "stream",
     "text": [
      " 47%|██████████████████▋                     | 933/2000 [02:23<02:43,  6.52it/s]"
     ]
    },
    {
     "name": "stdout",
     "output_type": "stream",
     "text": [
      "18610\n",
      "75422\n",
      "Epoch 00931 | Loss 22.0824 | train_RMSE 2.2882 | test_RMSE 2.2905 \n",
      "18610\n",
      "75422\n",
      "Epoch 00932 | Loss 19.7857 | train_RMSE 2.0815 | test_RMSE 2.0731 \n"
     ]
    },
    {
     "name": "stderr",
     "output_type": "stream",
     "text": [
      " 47%|██████████████████▋                     | 935/2000 [02:24<02:43,  6.52it/s]"
     ]
    },
    {
     "name": "stdout",
     "output_type": "stream",
     "text": [
      "18610\n",
      "75422\n",
      "Epoch 00933 | Loss 18.7622 | train_RMSE 2.3199 | test_RMSE 2.3055 \n",
      "18610\n",
      "75422\n",
      "Epoch 00934 | Loss 19.6728 | train_RMSE 2.5428 | test_RMSE 2.5493 \n"
     ]
    },
    {
     "name": "stderr",
     "output_type": "stream",
     "text": [
      " 47%|██████████████████▋                     | 937/2000 [02:24<02:42,  6.52it/s]"
     ]
    },
    {
     "name": "stdout",
     "output_type": "stream",
     "text": [
      "18610\n",
      "75422\n",
      "Epoch 00935 | Loss 21.0276 | train_RMSE 2.7353 | test_RMSE 2.7131 \n",
      "18610\n",
      "75422\n",
      "Epoch 00936 | Loss 21.3891 | train_RMSE 2.3227 | test_RMSE 2.3299 \n"
     ]
    },
    {
     "name": "stderr",
     "output_type": "stream",
     "text": [
      " 47%|██████████████████▊                     | 939/2000 [02:24<02:43,  6.51it/s]"
     ]
    },
    {
     "name": "stdout",
     "output_type": "stream",
     "text": [
      "18610\n",
      "75422\n",
      "Epoch 00937 | Loss 20.0454 | train_RMSE 2.2195 | test_RMSE 2.2063 \n",
      "18610\n",
      "75422\n",
      "Epoch 00938 | Loss 19.2161 | train_RMSE 2.0563 | test_RMSE 2.0514 \n"
     ]
    },
    {
     "name": "stderr",
     "output_type": "stream",
     "text": [
      " 47%|██████████████████▊                     | 941/2000 [02:25<02:42,  6.51it/s]"
     ]
    },
    {
     "name": "stdout",
     "output_type": "stream",
     "text": [
      "18610\n",
      "75422\n",
      "Epoch 00939 | Loss 18.8074 | train_RMSE 2.0863 | test_RMSE 2.0856 \n",
      "18610\n",
      "75422\n",
      "Epoch 00940 | Loss 18.9705 | train_RMSE 2.2655 | test_RMSE 2.2515 \n"
     ]
    },
    {
     "name": "stderr",
     "output_type": "stream",
     "text": [
      " 47%|██████████████████▊                     | 943/2000 [02:25<02:42,  6.51it/s]"
     ]
    },
    {
     "name": "stdout",
     "output_type": "stream",
     "text": [
      "18610\n",
      "75422\n",
      "Epoch 00941 | Loss 19.4841 | train_RMSE 2.2128 | test_RMSE 2.2146 \n",
      "18610\n",
      "75422\n",
      "Epoch 00942 | Loss 19.6450 | train_RMSE 2.2009 | test_RMSE 2.1842 \n"
     ]
    },
    {
     "name": "stderr",
     "output_type": "stream",
     "text": [
      " 47%|██████████████████▉                     | 945/2000 [02:25<02:42,  6.51it/s]"
     ]
    },
    {
     "name": "stdout",
     "output_type": "stream",
     "text": [
      "18610\n",
      "75422\n",
      "Epoch 00943 | Loss 19.2092 | train_RMSE 2.0555 | test_RMSE 2.0465 \n",
      "18610\n",
      "75422\n",
      "Epoch 00944 | Loss 18.6989 | train_RMSE 2.0741 | test_RMSE 2.0683 \n"
     ]
    },
    {
     "name": "stderr",
     "output_type": "stream",
     "text": [
      " 47%|██████████████████▉                     | 947/2000 [02:25<02:41,  6.52it/s]"
     ]
    },
    {
     "name": "stdout",
     "output_type": "stream",
     "text": [
      "18610\n",
      "75422\n",
      "Epoch 00945 | Loss 18.6819 | train_RMSE 2.1760 | test_RMSE 2.1613 \n",
      "18610\n",
      "75422\n",
      "Epoch 00946 | Loss 19.0740 | train_RMSE 2.1039 | test_RMSE 2.1024 \n"
     ]
    },
    {
     "name": "stderr",
     "output_type": "stream",
     "text": [
      " 47%|██████████████████▉                     | 949/2000 [02:26<02:41,  6.52it/s]"
     ]
    },
    {
     "name": "stdout",
     "output_type": "stream",
     "text": [
      "18610\n",
      "75422\n",
      "Epoch 00947 | Loss 18.8992 | train_RMSE 2.1547 | test_RMSE 2.1404 \n",
      "18610\n",
      "75422\n",
      "Epoch 00948 | Loss 19.0541 | train_RMSE 2.0563 | test_RMSE 2.0493 \n"
     ]
    },
    {
     "name": "stderr",
     "output_type": "stream",
     "text": [
      " 48%|███████████████████                     | 951/2000 [02:26<02:41,  6.50it/s]"
     ]
    },
    {
     "name": "stdout",
     "output_type": "stream",
     "text": [
      "18610\n",
      "75422\n",
      "Epoch 00949 | Loss 18.5351 | train_RMSE 2.0542 | test_RMSE 2.0468 \n",
      "18610\n",
      "75422\n",
      "Epoch 00950 | Loss 18.7328 | train_RMSE 2.1037 | test_RMSE 2.0926 \n"
     ]
    },
    {
     "name": "stderr",
     "output_type": "stream",
     "text": [
      " 48%|███████████████████                     | 953/2000 [02:26<02:41,  6.48it/s]"
     ]
    },
    {
     "name": "stdout",
     "output_type": "stream",
     "text": [
      "18610\n",
      "75422\n",
      "Epoch 00951 | Loss 18.4980 | train_RMSE 2.0545 | test_RMSE 2.0520 \n",
      "18610\n",
      "75422\n",
      "Epoch 00952 | Loss 18.8370 | train_RMSE 2.0597 | test_RMSE 2.0496 \n"
     ]
    },
    {
     "name": "stderr",
     "output_type": "stream",
     "text": [
      " 48%|███████████████████                     | 955/2000 [02:27<02:40,  6.49it/s]"
     ]
    },
    {
     "name": "stdout",
     "output_type": "stream",
     "text": [
      "18610\n",
      "75422\n",
      "Epoch 00953 | Loss 18.5610 | train_RMSE 2.0385 | test_RMSE 2.0311 \n",
      "18610\n",
      "75422\n",
      "Epoch 00954 | Loss 18.5316 | train_RMSE 2.0394 | test_RMSE 2.0320 \n"
     ]
    },
    {
     "name": "stderr",
     "output_type": "stream",
     "text": [
      " 48%|███████████████████▏                    | 957/2000 [02:27<02:40,  6.49it/s]"
     ]
    },
    {
     "name": "stdout",
     "output_type": "stream",
     "text": [
      "18610\n",
      "75422\n",
      "Epoch 00955 | Loss 18.3895 | train_RMSE 2.0565 | test_RMSE 2.0472 \n",
      "18610\n",
      "75422\n",
      "Epoch 00956 | Loss 18.7412 | train_RMSE 2.0485 | test_RMSE 2.0400 \n"
     ]
    },
    {
     "name": "stderr",
     "output_type": "stream",
     "text": [
      " 48%|███████████████████▏                    | 959/2000 [02:27<02:40,  6.49it/s]"
     ]
    },
    {
     "name": "stdout",
     "output_type": "stream",
     "text": [
      "18610\n",
      "75422\n",
      "Epoch 00957 | Loss 18.5340 | train_RMSE 2.0436 | test_RMSE 2.0359 \n",
      "18610\n",
      "75422\n",
      "Epoch 00958 | Loss 18.6874 | train_RMSE 2.0433 | test_RMSE 2.0363 \n"
     ]
    },
    {
     "name": "stderr",
     "output_type": "stream",
     "text": [
      " 48%|███████████████████▏                    | 961/2000 [02:28<02:39,  6.50it/s]"
     ]
    },
    {
     "name": "stdout",
     "output_type": "stream",
     "text": [
      "18610\n",
      "75422\n",
      "Epoch 00959 | Loss 18.4297 | train_RMSE 2.0409 | test_RMSE 2.0365 \n",
      "18610\n",
      "75422\n",
      "Epoch 00960 | Loss 18.7592 | train_RMSE 2.0551 | test_RMSE 2.0486 \n"
     ]
    },
    {
     "name": "stderr",
     "output_type": "stream",
     "text": [
      " 48%|███████████████████▎                    | 963/2000 [02:28<02:39,  6.52it/s]"
     ]
    },
    {
     "name": "stdout",
     "output_type": "stream",
     "text": [
      "18610\n",
      "75422\n",
      "Epoch 00961 | Loss 18.6521 | train_RMSE 2.0599 | test_RMSE 2.0501 \n",
      "18610\n",
      "75422\n",
      "Epoch 00962 | Loss 18.5444 | train_RMSE 2.0486 | test_RMSE 2.0425 \n"
     ]
    },
    {
     "name": "stderr",
     "output_type": "stream",
     "text": [
      " 48%|███████████████████▎                    | 965/2000 [02:28<02:40,  6.44it/s]"
     ]
    },
    {
     "name": "stdout",
     "output_type": "stream",
     "text": [
      "18610\n",
      "75422\n",
      "Epoch 00963 | Loss 18.3645 | train_RMSE 2.0918 | test_RMSE 2.0790 \n",
      "18610\n",
      "75422\n",
      "Epoch 00964 | Loss 18.7134 | train_RMSE 2.0386 | test_RMSE 2.0332 \n"
     ]
    },
    {
     "name": "stderr",
     "output_type": "stream",
     "text": [
      " 48%|███████████████████▎                    | 967/2000 [02:29<02:39,  6.48it/s]"
     ]
    },
    {
     "name": "stdout",
     "output_type": "stream",
     "text": [
      "18610\n",
      "75422\n",
      "Epoch 00965 | Loss 18.3988 | train_RMSE 2.0494 | test_RMSE 2.0404 \n",
      "18610\n",
      "75422\n",
      "Epoch 00966 | Loss 18.4814 | train_RMSE 2.0329 | test_RMSE 2.0267 \n"
     ]
    },
    {
     "name": "stderr",
     "output_type": "stream",
     "text": [
      " 48%|███████████████████▍                    | 969/2000 [02:29<02:38,  6.50it/s]"
     ]
    },
    {
     "name": "stdout",
     "output_type": "stream",
     "text": [
      "18610\n",
      "75422\n",
      "Epoch 00967 | Loss 18.4617 | train_RMSE 2.0406 | test_RMSE 2.0346 \n",
      "18610\n",
      "75422\n",
      "Epoch 00968 | Loss 18.4014 | train_RMSE 2.0855 | test_RMSE 2.0773 \n"
     ]
    },
    {
     "name": "stderr",
     "output_type": "stream",
     "text": [
      " 49%|███████████████████▍                    | 971/2000 [02:29<02:38,  6.50it/s]"
     ]
    },
    {
     "name": "stdout",
     "output_type": "stream",
     "text": [
      "18610\n",
      "75422\n",
      "Epoch 00969 | Loss 18.4965 | train_RMSE 2.0874 | test_RMSE 2.0896 \n",
      "18610\n",
      "75422\n",
      "Epoch 00970 | Loss 18.8704 | train_RMSE 2.2060 | test_RMSE 2.1907 \n"
     ]
    },
    {
     "name": "stderr",
     "output_type": "stream",
     "text": [
      " 49%|███████████████████▍                    | 973/2000 [02:29<02:37,  6.51it/s]"
     ]
    },
    {
     "name": "stdout",
     "output_type": "stream",
     "text": [
      "18610\n",
      "75422\n",
      "Epoch 00971 | Loss 18.8472 | train_RMSE 2.1441 | test_RMSE 2.1448 \n",
      "18610\n",
      "75422\n",
      "Epoch 00972 | Loss 19.2279 | train_RMSE 2.2810 | test_RMSE 2.2639 \n"
     ]
    },
    {
     "name": "stderr",
     "output_type": "stream",
     "text": [
      " 49%|███████████████████▌                    | 975/2000 [02:30<02:37,  6.52it/s]"
     ]
    },
    {
     "name": "stdout",
     "output_type": "stream",
     "text": [
      "18610\n",
      "75422\n",
      "Epoch 00973 | Loss 19.5708 | train_RMSE 2.2323 | test_RMSE 2.2314 \n",
      "18610\n",
      "75422\n",
      "Epoch 00974 | Loss 19.3092 | train_RMSE 2.3635 | test_RMSE 2.3453 \n"
     ]
    },
    {
     "name": "stderr",
     "output_type": "stream",
     "text": [
      " 49%|███████████████████▌                    | 977/2000 [02:30<02:36,  6.52it/s]"
     ]
    },
    {
     "name": "stdout",
     "output_type": "stream",
     "text": [
      "18610\n",
      "75422\n",
      "Epoch 00975 | Loss 19.6171 | train_RMSE 2.2048 | test_RMSE 2.2061 \n",
      "18610\n",
      "75422\n",
      "Epoch 00976 | Loss 19.4793 | train_RMSE 2.2203 | test_RMSE 2.2050 \n"
     ]
    },
    {
     "name": "stderr",
     "output_type": "stream",
     "text": [
      " 49%|███████████████████▌                    | 979/2000 [02:30<02:36,  6.51it/s]"
     ]
    },
    {
     "name": "stdout",
     "output_type": "stream",
     "text": [
      "18610\n",
      "75422\n",
      "Epoch 00977 | Loss 19.1991 | train_RMSE 2.0800 | test_RMSE 2.0780 \n",
      "18610\n",
      "75422\n",
      "Epoch 00978 | Loss 18.9489 | train_RMSE 2.0888 | test_RMSE 2.0786 \n"
     ]
    },
    {
     "name": "stderr",
     "output_type": "stream",
     "text": [
      " 49%|███████████████████▌                    | 981/2000 [02:31<02:37,  6.48it/s]"
     ]
    },
    {
     "name": "stdout",
     "output_type": "stream",
     "text": [
      "18610\n",
      "75422\n",
      "Epoch 00979 | Loss 18.8798 | train_RMSE 2.0221 | test_RMSE 2.0160 \n",
      "18610\n",
      "75422\n",
      "Epoch 00980 | Loss 18.2160 | train_RMSE 2.0229 | test_RMSE 2.0169 \n"
     ]
    },
    {
     "name": "stderr",
     "output_type": "stream",
     "text": [
      " 49%|███████████████████▋                    | 983/2000 [02:31<02:36,  6.50it/s]"
     ]
    },
    {
     "name": "stdout",
     "output_type": "stream",
     "text": [
      "18610\n",
      "75422\n",
      "Epoch 00981 | Loss 18.6049 | train_RMSE 2.1043 | test_RMSE 2.0895 \n",
      "18610\n",
      "75422\n",
      "Epoch 00982 | Loss 18.5708 | train_RMSE 2.1161 | test_RMSE 2.1149 \n"
     ]
    },
    {
     "name": "stderr",
     "output_type": "stream",
     "text": [
      " 49%|███████████████████▋                    | 985/2000 [02:31<02:36,  6.50it/s]"
     ]
    },
    {
     "name": "stdout",
     "output_type": "stream",
     "text": [
      "18610\n",
      "75422\n",
      "Epoch 00983 | Loss 18.8440 | train_RMSE 2.2633 | test_RMSE 2.2465 \n",
      "18610\n",
      "75422\n",
      "Epoch 00984 | Loss 19.2059 | train_RMSE 2.1802 | test_RMSE 2.1832 \n"
     ]
    },
    {
     "name": "stderr",
     "output_type": "stream",
     "text": [
      " 49%|███████████████████▋                    | 987/2000 [02:32<02:35,  6.51it/s]"
     ]
    },
    {
     "name": "stdout",
     "output_type": "stream",
     "text": [
      "18610\n",
      "75422\n",
      "Epoch 00985 | Loss 19.3262 | train_RMSE 2.1988 | test_RMSE 2.1871 \n",
      "18610\n",
      "75422\n",
      "Epoch 00986 | Loss 18.8346 | train_RMSE 2.0704 | test_RMSE 2.0703 \n"
     ]
    },
    {
     "name": "stderr",
     "output_type": "stream",
     "text": [
      " 49%|███████████████████▊                    | 989/2000 [02:32<02:35,  6.51it/s]"
     ]
    },
    {
     "name": "stdout",
     "output_type": "stream",
     "text": [
      "18610\n",
      "75422\n",
      "Epoch 00987 | Loss 18.7848 | train_RMSE 2.0606 | test_RMSE 2.0523 \n",
      "18610\n",
      "75422\n",
      "Epoch 00988 | Loss 18.5138 | train_RMSE 2.0456 | test_RMSE 2.0375 \n"
     ]
    },
    {
     "name": "stderr",
     "output_type": "stream",
     "text": [
      " 50%|███████████████████▊                    | 991/2000 [02:32<02:34,  6.51it/s]"
     ]
    },
    {
     "name": "stdout",
     "output_type": "stream",
     "text": [
      "18610\n",
      "75422\n",
      "Epoch 00989 | Loss 18.5785 | train_RMSE 2.0805 | test_RMSE 2.0799 \n",
      "18610\n",
      "75422\n",
      "Epoch 00990 | Loss 18.6684 | train_RMSE 2.3091 | test_RMSE 2.2905 \n"
     ]
    },
    {
     "name": "stderr",
     "output_type": "stream",
     "text": [
      " 50%|███████████████████▊                    | 993/2000 [02:33<02:34,  6.52it/s]"
     ]
    },
    {
     "name": "stdout",
     "output_type": "stream",
     "text": [
      "18610\n",
      "75422\n",
      "Epoch 00991 | Loss 19.4530 | train_RMSE 2.2779 | test_RMSE 2.2768 \n",
      "18610\n",
      "75422\n",
      "Epoch 00992 | Loss 19.7355 | train_RMSE 2.5202 | test_RMSE 2.5011 \n"
     ]
    },
    {
     "name": "stderr",
     "output_type": "stream",
     "text": [
      " 50%|███████████████████▉                    | 995/2000 [02:33<02:34,  6.51it/s]"
     ]
    },
    {
     "name": "stdout",
     "output_type": "stream",
     "text": [
      "18610\n",
      "75422\n",
      "Epoch 00993 | Loss 20.4564 | train_RMSE 2.4895 | test_RMSE 2.4951 \n",
      "18610\n",
      "75422\n",
      "Epoch 00994 | Loss 20.7271 | train_RMSE 2.7351 | test_RMSE 2.7137 \n"
     ]
    },
    {
     "name": "stderr",
     "output_type": "stream",
     "text": [
      " 50%|███████████████████▉                    | 997/2000 [02:33<02:33,  6.51it/s]"
     ]
    },
    {
     "name": "stdout",
     "output_type": "stream",
     "text": [
      "18610\n",
      "75422\n",
      "Epoch 00995 | Loss 21.3355 | train_RMSE 2.4961 | test_RMSE 2.5043 \n",
      "18610\n",
      "75422\n",
      "Epoch 00996 | Loss 20.8948 | train_RMSE 2.5635 | test_RMSE 2.5473 \n"
     ]
    },
    {
     "name": "stderr",
     "output_type": "stream",
     "text": [
      " 50%|███████████████████▉                    | 999/2000 [02:33<02:33,  6.51it/s]"
     ]
    },
    {
     "name": "stdout",
     "output_type": "stream",
     "text": [
      "18610\n",
      "75422\n",
      "Epoch 00997 | Loss 20.4353 | train_RMSE 2.2715 | test_RMSE 2.2758 \n",
      "18610\n",
      "75422\n",
      "Epoch 00998 | Loss 19.7923 | train_RMSE 2.2182 | test_RMSE 2.2064 \n"
     ]
    },
    {
     "name": "stderr",
     "output_type": "stream",
     "text": [
      " 50%|███████████████████▌                   | 1001/2000 [02:34<02:33,  6.51it/s]"
     ]
    },
    {
     "name": "stdout",
     "output_type": "stream",
     "text": [
      "18610\n",
      "75422\n",
      "Epoch 00999 | Loss 19.0790 | train_RMSE 2.0386 | test_RMSE 2.0347 \n",
      "18610\n",
      "75422\n",
      "Epoch 01000 | Loss 18.6576 | train_RMSE 2.0217 | test_RMSE 2.0136 \n"
     ]
    },
    {
     "name": "stderr",
     "output_type": "stream",
     "text": [
      " 50%|███████████████████▌                   | 1003/2000 [02:34<02:33,  6.51it/s]"
     ]
    },
    {
     "name": "stdout",
     "output_type": "stream",
     "text": [
      "18610\n",
      "75422\n",
      "Epoch 01001 | Loss 18.4120 | train_RMSE 2.0938 | test_RMSE 2.0807 \n",
      "18610\n",
      "75422\n",
      "Epoch 01002 | Loss 18.5007 | train_RMSE 2.0579 | test_RMSE 2.0561 \n"
     ]
    },
    {
     "name": "stderr",
     "output_type": "stream",
     "text": [
      " 50%|███████████████████▌                   | 1005/2000 [02:34<02:33,  6.50it/s]"
     ]
    },
    {
     "name": "stdout",
     "output_type": "stream",
     "text": [
      "18610\n",
      "75422\n",
      "Epoch 01003 | Loss 18.5164 | train_RMSE 2.1204 | test_RMSE 2.1076 \n",
      "18610\n",
      "75422\n",
      "Epoch 01004 | Loss 18.4947 | train_RMSE 2.0475 | test_RMSE 2.0462 \n"
     ]
    },
    {
     "name": "stderr",
     "output_type": "stream",
     "text": [
      " 50%|███████████████████▋                   | 1007/2000 [02:35<02:32,  6.51it/s]"
     ]
    },
    {
     "name": "stdout",
     "output_type": "stream",
     "text": [
      "18610\n",
      "75422\n",
      "Epoch 01005 | Loss 18.5468 | train_RMSE 2.0936 | test_RMSE 2.0842 \n",
      "18610\n",
      "75422\n",
      "Epoch 01006 | Loss 18.3848 | train_RMSE 2.0278 | test_RMSE 2.0237 \n"
     ]
    },
    {
     "name": "stderr",
     "output_type": "stream",
     "text": [
      " 50%|███████████████████▋                   | 1009/2000 [02:35<02:32,  6.50it/s]"
     ]
    },
    {
     "name": "stdout",
     "output_type": "stream",
     "text": [
      "18610\n",
      "75422\n",
      "Epoch 01007 | Loss 18.1743 | train_RMSE 2.0295 | test_RMSE 2.0219 \n",
      "18610\n",
      "75422\n",
      "Epoch 01008 | Loss 18.3644 | train_RMSE 2.0479 | test_RMSE 2.0384 \n"
     ]
    },
    {
     "name": "stderr",
     "output_type": "stream",
     "text": [
      " 51%|███████████████████▋                   | 1011/2000 [02:35<02:32,  6.49it/s]"
     ]
    },
    {
     "name": "stdout",
     "output_type": "stream",
     "text": [
      "18610\n",
      "75422\n",
      "Epoch 01009 | Loss 18.3343 | train_RMSE 2.0367 | test_RMSE 2.0322 \n",
      "18610\n",
      "75422\n",
      "Epoch 01010 | Loss 18.6290 | train_RMSE 2.1166 | test_RMSE 2.1042 \n"
     ]
    },
    {
     "name": "stderr",
     "output_type": "stream",
     "text": [
      " 51%|███████████████████▊                   | 1013/2000 [02:36<02:31,  6.51it/s]"
     ]
    },
    {
     "name": "stdout",
     "output_type": "stream",
     "text": [
      "18610\n",
      "75422\n",
      "Epoch 01011 | Loss 18.4873 | train_RMSE 2.0884 | test_RMSE 2.0896 \n",
      "18610\n",
      "75422\n",
      "Epoch 01012 | Loss 18.8835 | train_RMSE 2.1790 | test_RMSE 2.1643 \n"
     ]
    },
    {
     "name": "stderr",
     "output_type": "stream",
     "text": [
      " 51%|███████████████████▊                   | 1015/2000 [02:36<02:31,  6.50it/s]"
     ]
    },
    {
     "name": "stdout",
     "output_type": "stream",
     "text": [
      "18610\n",
      "75422\n",
      "Epoch 01013 | Loss 18.7717 | train_RMSE 2.0929 | test_RMSE 2.0911 \n",
      "18610\n",
      "75422\n",
      "Epoch 01014 | Loss 19.0406 | train_RMSE 2.2337 | test_RMSE 2.2190 \n"
     ]
    },
    {
     "name": "stderr",
     "output_type": "stream",
     "text": [
      " 51%|███████████████████▊                   | 1017/2000 [02:36<02:31,  6.51it/s]"
     ]
    },
    {
     "name": "stdout",
     "output_type": "stream",
     "text": [
      "18610\n",
      "75422\n",
      "Epoch 01015 | Loss 19.0337 | train_RMSE 2.1620 | test_RMSE 2.1602 \n",
      "18610\n",
      "75422\n",
      "Epoch 01016 | Loss 19.2825 | train_RMSE 2.3449 | test_RMSE 2.3315 \n"
     ]
    },
    {
     "name": "stderr",
     "output_type": "stream",
     "text": [
      " 51%|███████████████████▊                   | 1019/2000 [02:37<02:30,  6.51it/s]"
     ]
    },
    {
     "name": "stdout",
     "output_type": "stream",
     "text": [
      "18610\n",
      "75422\n",
      "Epoch 01017 | Loss 19.4360 | train_RMSE 2.3303 | test_RMSE 2.3382 \n",
      "18610\n",
      "75422\n",
      "Epoch 01018 | Loss 20.1127 | train_RMSE 2.5196 | test_RMSE 2.4989 \n"
     ]
    },
    {
     "name": "stderr",
     "output_type": "stream",
     "text": [
      " 51%|███████████████████▉                   | 1021/2000 [02:37<02:30,  6.51it/s]"
     ]
    },
    {
     "name": "stdout",
     "output_type": "stream",
     "text": [
      "18610\n",
      "75422\n",
      "Epoch 01019 | Loss 20.1696 | train_RMSE 2.3247 | test_RMSE 2.3304 \n",
      "18610\n",
      "75422\n",
      "Epoch 01020 | Loss 19.9749 | train_RMSE 2.3812 | test_RMSE 2.3643 \n"
     ]
    },
    {
     "name": "stderr",
     "output_type": "stream",
     "text": [
      " 51%|███████████████████▉                   | 1023/2000 [02:37<02:30,  6.51it/s]"
     ]
    },
    {
     "name": "stdout",
     "output_type": "stream",
     "text": [
      "18610\n",
      "75422\n",
      "Epoch 01021 | Loss 19.5067 | train_RMSE 2.1942 | test_RMSE 2.1939 \n",
      "18610\n",
      "75422\n",
      "Epoch 01022 | Loss 19.1431 | train_RMSE 2.2096 | test_RMSE 2.1950 \n"
     ]
    },
    {
     "name": "stderr",
     "output_type": "stream",
     "text": [
      " 51%|███████████████████▉                   | 1025/2000 [02:37<02:29,  6.51it/s]"
     ]
    },
    {
     "name": "stdout",
     "output_type": "stream",
     "text": [
      "18610\n",
      "75422\n",
      "Epoch 01023 | Loss 18.9359 | train_RMSE 2.0839 | test_RMSE 2.0848 \n",
      "18610\n",
      "75422\n",
      "Epoch 01024 | Loss 18.8211 | train_RMSE 2.1243 | test_RMSE 2.1125 \n"
     ]
    },
    {
     "name": "stderr",
     "output_type": "stream",
     "text": [
      " 51%|████████████████████                   | 1027/2000 [02:38<02:29,  6.51it/s]"
     ]
    },
    {
     "name": "stdout",
     "output_type": "stream",
     "text": [
      "18610\n",
      "75422\n",
      "Epoch 01025 | Loss 18.5255 | train_RMSE 2.0270 | test_RMSE 2.0240 \n",
      "18610\n",
      "75422\n",
      "Epoch 01026 | Loss 18.5195 | train_RMSE 2.0341 | test_RMSE 2.0242 \n"
     ]
    },
    {
     "name": "stderr",
     "output_type": "stream",
     "text": [
      " 51%|████████████████████                   | 1029/2000 [02:38<02:29,  6.52it/s]"
     ]
    },
    {
     "name": "stdout",
     "output_type": "stream",
     "text": [
      "18610\n",
      "75422\n",
      "Epoch 01027 | Loss 18.3949 | train_RMSE 2.0247 | test_RMSE 2.0159 \n",
      "18610\n",
      "75422\n",
      "Epoch 01028 | Loss 18.2939 | train_RMSE 2.0264 | test_RMSE 2.0232 \n"
     ]
    },
    {
     "name": "stderr",
     "output_type": "stream",
     "text": [
      " 52%|████████████████████                   | 1031/2000 [02:38<02:28,  6.51it/s]"
     ]
    },
    {
     "name": "stdout",
     "output_type": "stream",
     "text": [
      "18610\n",
      "75422\n",
      "Epoch 01029 | Loss 18.2721 | train_RMSE 2.1294 | test_RMSE 2.1160 \n",
      "18610\n",
      "75422\n",
      "Epoch 01030 | Loss 18.4986 | train_RMSE 2.1139 | test_RMSE 2.1148 \n"
     ]
    },
    {
     "name": "stderr",
     "output_type": "stream",
     "text": [
      " 52%|████████████████████▏                  | 1033/2000 [02:39<02:28,  6.51it/s]"
     ]
    },
    {
     "name": "stdout",
     "output_type": "stream",
     "text": [
      "18610\n",
      "75422\n",
      "Epoch 01031 | Loss 18.9871 | train_RMSE 2.2891 | test_RMSE 2.2740 \n",
      "18610\n",
      "75422\n",
      "Epoch 01032 | Loss 19.1478 | train_RMSE 2.2722 | test_RMSE 2.2739 \n"
     ]
    },
    {
     "name": "stderr",
     "output_type": "stream",
     "text": [
      " 52%|████████████████████▏                  | 1035/2000 [02:39<02:28,  6.52it/s]"
     ]
    },
    {
     "name": "stdout",
     "output_type": "stream",
     "text": [
      "18610\n",
      "75422\n",
      "Epoch 01033 | Loss 19.7628 | train_RMSE 2.4678 | test_RMSE 2.4510 \n",
      "18610\n",
      "75422\n",
      "Epoch 01034 | Loss 19.8333 | train_RMSE 2.3905 | test_RMSE 2.3965 \n"
     ]
    },
    {
     "name": "stderr",
     "output_type": "stream",
     "text": [
      " 52%|████████████████████▏                  | 1037/2000 [02:39<02:28,  6.49it/s]"
     ]
    },
    {
     "name": "stdout",
     "output_type": "stream",
     "text": [
      "18610\n",
      "75422\n",
      "Epoch 01035 | Loss 20.2865 | train_RMSE 2.5659 | test_RMSE 2.5458 \n",
      "18610\n",
      "75422\n",
      "Epoch 01036 | Loss 20.4799 | train_RMSE 2.3950 | test_RMSE 2.4052 \n"
     ]
    },
    {
     "name": "stderr",
     "output_type": "stream",
     "text": [
      " 52%|████████████████████▎                  | 1039/2000 [02:40<02:27,  6.51it/s]"
     ]
    },
    {
     "name": "stdout",
     "output_type": "stream",
     "text": [
      "18610\n",
      "75422\n",
      "Epoch 01037 | Loss 20.2985 | train_RMSE 2.5615 | test_RMSE 2.5435 \n",
      "18610\n",
      "75422\n",
      "Epoch 01038 | Loss 20.4252 | train_RMSE 2.4171 | test_RMSE 2.4188 \n"
     ]
    },
    {
     "name": "stderr",
     "output_type": "stream",
     "text": [
      " 52%|████████████████████▎                  | 1041/2000 [02:40<02:27,  6.51it/s]"
     ]
    },
    {
     "name": "stdout",
     "output_type": "stream",
     "text": [
      "18610\n",
      "75422\n",
      "Epoch 01039 | Loss 20.3983 | train_RMSE 2.5967 | test_RMSE 2.5779 \n",
      "18610\n",
      "75422\n",
      "Epoch 01040 | Loss 20.6773 | train_RMSE 2.4569 | test_RMSE 2.4638 \n"
     ]
    },
    {
     "name": "stderr",
     "output_type": "stream",
     "text": [
      " 52%|████████████████████▎                  | 1043/2000 [02:40<02:27,  6.51it/s]"
     ]
    },
    {
     "name": "stdout",
     "output_type": "stream",
     "text": [
      "18610\n",
      "75422\n",
      "Epoch 01041 | Loss 20.5141 | train_RMSE 2.5490 | test_RMSE 2.5306 \n",
      "18610\n",
      "75422\n",
      "Epoch 01042 | Loss 20.2073 | train_RMSE 2.2894 | test_RMSE 2.2933 \n"
     ]
    },
    {
     "name": "stderr",
     "output_type": "stream",
     "text": [
      " 52%|████████████████████▍                  | 1045/2000 [02:41<02:26,  6.51it/s]"
     ]
    },
    {
     "name": "stdout",
     "output_type": "stream",
     "text": [
      "18610\n",
      "75422\n",
      "Epoch 01043 | Loss 19.8420 | train_RMSE 2.3381 | test_RMSE 2.3242 \n",
      "18610\n",
      "75422\n",
      "Epoch 01044 | Loss 19.4335 | train_RMSE 2.1344 | test_RMSE 2.1357 \n"
     ]
    },
    {
     "name": "stderr",
     "output_type": "stream",
     "text": [
      " 52%|████████████████████▍                  | 1047/2000 [02:41<02:26,  6.51it/s]"
     ]
    },
    {
     "name": "stdout",
     "output_type": "stream",
     "text": [
      "18610\n",
      "75422\n",
      "Epoch 01045 | Loss 19.0596 | train_RMSE 2.1212 | test_RMSE 2.1095 \n",
      "18610\n",
      "75422\n",
      "Epoch 01046 | Loss 18.6169 | train_RMSE 2.0095 | test_RMSE 2.0053 \n"
     ]
    },
    {
     "name": "stderr",
     "output_type": "stream",
     "text": [
      " 52%|████████████████████▍                  | 1049/2000 [02:41<02:27,  6.47it/s]"
     ]
    },
    {
     "name": "stdout",
     "output_type": "stream",
     "text": [
      "18610\n",
      "75422\n",
      "Epoch 01047 | Loss 18.2041 | train_RMSE 2.0062 | test_RMSE 2.0000 \n",
      "18610\n",
      "75422\n",
      "Epoch 01048 | Loss 18.1329 | train_RMSE 2.1090 | test_RMSE 2.0954 \n"
     ]
    },
    {
     "name": "stderr",
     "output_type": "stream",
     "text": [
      " 53%|████████████████████▍                  | 1051/2000 [02:41<02:26,  6.49it/s]"
     ]
    },
    {
     "name": "stdout",
     "output_type": "stream",
     "text": [
      "18610\n",
      "75422\n",
      "Epoch 01049 | Loss 18.4793 | train_RMSE 2.1156 | test_RMSE 2.1146 \n",
      "18610\n",
      "75422\n",
      "Epoch 01050 | Loss 18.8554 | train_RMSE 2.2576 | test_RMSE 2.2420 \n"
     ]
    },
    {
     "name": "stderr",
     "output_type": "stream",
     "text": [
      " 53%|████████████████████▌                  | 1053/2000 [02:42<02:25,  6.50it/s]"
     ]
    },
    {
     "name": "stdout",
     "output_type": "stream",
     "text": [
      "18610\n",
      "75422\n",
      "Epoch 01051 | Loss 19.1420 | train_RMSE 2.1592 | test_RMSE 2.1611 \n",
      "18610\n",
      "75422\n",
      "Epoch 01052 | Loss 18.8100 | train_RMSE 2.1675 | test_RMSE 2.1553 \n"
     ]
    },
    {
     "name": "stderr",
     "output_type": "stream",
     "text": [
      " 53%|████████████████████▌                  | 1055/2000 [02:42<02:25,  6.50it/s]"
     ]
    },
    {
     "name": "stdout",
     "output_type": "stream",
     "text": [
      "18610\n",
      "75422\n",
      "Epoch 01053 | Loss 18.6255 | train_RMSE 2.0393 | test_RMSE 2.0395 \n",
      "18610\n",
      "75422\n",
      "Epoch 01054 | Loss 18.4606 | train_RMSE 2.0436 | test_RMSE 2.0351 \n"
     ]
    },
    {
     "name": "stderr",
     "output_type": "stream",
     "text": [
      " 53%|████████████████████▌                  | 1057/2000 [02:42<02:25,  6.48it/s]"
     ]
    },
    {
     "name": "stdout",
     "output_type": "stream",
     "text": [
      "18610\n",
      "75422\n",
      "Epoch 01055 | Loss 17.9433 | train_RMSE 2.0173 | test_RMSE 2.0086 \n",
      "18610\n",
      "75422\n",
      "Epoch 01056 | Loss 18.1798 | train_RMSE 2.0217 | test_RMSE 2.0175 \n"
     ]
    },
    {
     "name": "stderr",
     "output_type": "stream",
     "text": [
      " 53%|████████████████████▋                  | 1059/2000 [02:43<02:24,  6.50it/s]"
     ]
    },
    {
     "name": "stdout",
     "output_type": "stream",
     "text": [
      "18610\n",
      "75422\n",
      "Epoch 01057 | Loss 18.2403 | train_RMSE 2.1534 | test_RMSE 2.1404 \n",
      "18610\n",
      "75422\n",
      "Epoch 01058 | Loss 18.7979 | train_RMSE 2.1655 | test_RMSE 2.1683 \n"
     ]
    },
    {
     "name": "stderr",
     "output_type": "stream",
     "text": [
      " 53%|████████████████████▋                  | 1061/2000 [02:43<02:24,  6.51it/s]"
     ]
    },
    {
     "name": "stdout",
     "output_type": "stream",
     "text": [
      "18610\n",
      "75422\n",
      "Epoch 01059 | Loss 18.8625 | train_RMSE 2.4309 | test_RMSE 2.4120 \n",
      "18610\n",
      "75422\n",
      "Epoch 01060 | Loss 19.7963 | train_RMSE 2.3800 | test_RMSE 2.3879 \n"
     ]
    },
    {
     "name": "stderr",
     "output_type": "stream",
     "text": [
      " 53%|████████████████████▋                  | 1063/2000 [02:43<02:24,  6.50it/s]"
     ]
    },
    {
     "name": "stdout",
     "output_type": "stream",
     "text": [
      "18610\n",
      "75422\n",
      "Epoch 01061 | Loss 20.1234 | train_RMSE 2.5680 | test_RMSE 2.5490 \n",
      "18610\n",
      "75422\n",
      "Epoch 01062 | Loss 20.1634 | train_RMSE 2.4204 | test_RMSE 2.4264 \n"
     ]
    },
    {
     "name": "stderr",
     "output_type": "stream",
     "text": [
      " 53%|████████████████████▊                  | 1065/2000 [02:44<02:23,  6.51it/s]"
     ]
    },
    {
     "name": "stdout",
     "output_type": "stream",
     "text": [
      "18610\n",
      "75422\n",
      "Epoch 01063 | Loss 20.2932 | train_RMSE 2.5686 | test_RMSE 2.5506 \n",
      "18610\n",
      "75422\n",
      "Epoch 01064 | Loss 20.5264 | train_RMSE 2.3059 | test_RMSE 2.3118 \n"
     ]
    },
    {
     "name": "stderr",
     "output_type": "stream",
     "text": [
      " 53%|████████████████████▊                  | 1067/2000 [02:44<02:23,  6.52it/s]"
     ]
    },
    {
     "name": "stdout",
     "output_type": "stream",
     "text": [
      "18610\n",
      "75422\n",
      "Epoch 01065 | Loss 19.8335 | train_RMSE 2.2881 | test_RMSE 2.2734 \n",
      "18610\n",
      "75422\n",
      "Epoch 01066 | Loss 19.2055 | train_RMSE 2.0843 | test_RMSE 2.0848 \n"
     ]
    },
    {
     "name": "stderr",
     "output_type": "stream",
     "text": [
      " 53%|████████████████████▊                  | 1069/2000 [02:44<02:23,  6.51it/s]"
     ]
    },
    {
     "name": "stdout",
     "output_type": "stream",
     "text": [
      "18610\n",
      "75422\n",
      "Epoch 01067 | Loss 18.7053 | train_RMSE 2.0941 | test_RMSE 2.0837 \n",
      "18610\n",
      "75422\n",
      "Epoch 01068 | Loss 18.5318 | train_RMSE 2.0174 | test_RMSE 2.0147 \n"
     ]
    },
    {
     "name": "stderr",
     "output_type": "stream",
     "text": [
      " 54%|████████████████████▉                  | 1071/2000 [02:45<02:22,  6.51it/s]"
     ]
    },
    {
     "name": "stdout",
     "output_type": "stream",
     "text": [
      "18610\n",
      "75422\n",
      "Epoch 01069 | Loss 18.3111 | train_RMSE 2.0406 | test_RMSE 2.0303 \n",
      "18610\n",
      "75422\n",
      "Epoch 01070 | Loss 18.1710 | train_RMSE 2.0012 | test_RMSE 1.9941 \n"
     ]
    },
    {
     "name": "stderr",
     "output_type": "stream",
     "text": [
      " 54%|████████████████████▉                  | 1073/2000 [02:45<02:22,  6.51it/s]"
     ]
    },
    {
     "name": "stdout",
     "output_type": "stream",
     "text": [
      "18610\n",
      "75422\n",
      "Epoch 01071 | Loss 18.3499 | train_RMSE 2.0025 | test_RMSE 1.9959 \n",
      "18610\n",
      "75422\n",
      "Epoch 01072 | Loss 18.2785 | train_RMSE 2.0735 | test_RMSE 2.0613 \n"
     ]
    },
    {
     "name": "stderr",
     "output_type": "stream",
     "text": [
      " 54%|████████████████████▉                  | 1075/2000 [02:45<02:22,  6.51it/s]"
     ]
    },
    {
     "name": "stdout",
     "output_type": "stream",
     "text": [
      "18610\n",
      "75422\n",
      "Epoch 01073 | Loss 18.3764 | train_RMSE 2.0597 | test_RMSE 2.0560 \n",
      "18610\n",
      "75422\n",
      "Epoch 01074 | Loss 18.6079 | train_RMSE 2.2021 | test_RMSE 2.1875 \n"
     ]
    },
    {
     "name": "stderr",
     "output_type": "stream",
     "text": [
      " 54%|█████████████████████                  | 1077/2000 [02:45<02:21,  6.51it/s]"
     ]
    },
    {
     "name": "stdout",
     "output_type": "stream",
     "text": [
      "18610\n",
      "75422\n",
      "Epoch 01075 | Loss 18.6233 | train_RMSE 2.2165 | test_RMSE 2.2239 \n",
      "18610\n",
      "75422\n",
      "Epoch 01076 | Loss 19.3449 | train_RMSE 2.5417 | test_RMSE 2.5227 \n"
     ]
    },
    {
     "name": "stderr",
     "output_type": "stream",
     "text": [
      " 54%|█████████████████████                  | 1079/2000 [02:46<02:21,  6.51it/s]"
     ]
    },
    {
     "name": "stdout",
     "output_type": "stream",
     "text": [
      "18610\n",
      "75422\n",
      "Epoch 01077 | Loss 20.2422 | train_RMSE 2.5622 | test_RMSE 2.5645 \n",
      "18610\n",
      "75422\n",
      "Epoch 01078 | Loss 21.0513 | train_RMSE 2.8897 | test_RMSE 2.8717 \n"
     ]
    },
    {
     "name": "stderr",
     "output_type": "stream",
     "text": [
      " 54%|█████████████████████                  | 1081/2000 [02:46<02:21,  6.51it/s]"
     ]
    },
    {
     "name": "stdout",
     "output_type": "stream",
     "text": [
      "18610\n",
      "75422\n",
      "Epoch 01079 | Loss 22.0811 | train_RMSE 2.8267 | test_RMSE 2.8383 \n",
      "18610\n",
      "75422\n",
      "Epoch 01080 | Loss 22.5299 | train_RMSE 3.1775 | test_RMSE 3.1571 \n"
     ]
    },
    {
     "name": "stderr",
     "output_type": "stream",
     "text": [
      " 54%|█████████████████████                  | 1083/2000 [02:46<02:21,  6.50it/s]"
     ]
    },
    {
     "name": "stdout",
     "output_type": "stream",
     "text": [
      "18610\n",
      "75422\n",
      "Epoch 01081 | Loss 23.5334 | train_RMSE 2.8984 | test_RMSE 2.9085 \n",
      "18610\n",
      "75422\n",
      "Epoch 01082 | Loss 23.1459 | train_RMSE 2.9101 | test_RMSE 2.8909 \n"
     ]
    },
    {
     "name": "stderr",
     "output_type": "stream",
     "text": [
      " 54%|█████████████████████▏                 | 1085/2000 [02:47<02:20,  6.50it/s]"
     ]
    },
    {
     "name": "stdout",
     "output_type": "stream",
     "text": [
      "18610\n",
      "75422\n",
      "Epoch 01083 | Loss 22.0623 | train_RMSE 2.4014 | test_RMSE 2.4121 \n",
      "18610\n",
      "75422\n",
      "Epoch 01084 | Loss 20.2267 | train_RMSE 2.2359 | test_RMSE 2.2224 \n"
     ]
    },
    {
     "name": "stderr",
     "output_type": "stream",
     "text": [
      " 54%|█████████████████████▏                 | 1087/2000 [02:47<02:20,  6.51it/s]"
     ]
    },
    {
     "name": "stdout",
     "output_type": "stream",
     "text": [
      "18610\n",
      "75422\n",
      "Epoch 01085 | Loss 18.7017 | train_RMSE 2.0097 | test_RMSE 2.0061 \n",
      "18610\n",
      "75422\n",
      "Epoch 01086 | Loss 18.3101 | train_RMSE 2.0197 | test_RMSE 2.0144 \n"
     ]
    },
    {
     "name": "stderr",
     "output_type": "stream",
     "text": [
      " 54%|█████████████████████▏                 | 1089/2000 [02:47<02:19,  6.51it/s]"
     ]
    },
    {
     "name": "stdout",
     "output_type": "stream",
     "text": [
      "18610\n",
      "75422\n",
      "Epoch 01087 | Loss 18.1363 | train_RMSE 2.3261 | test_RMSE 2.3105 \n",
      "18610\n",
      "75422\n",
      "Epoch 01088 | Loss 19.0330 | train_RMSE 2.3798 | test_RMSE 2.3869 \n"
     ]
    },
    {
     "name": "stderr",
     "output_type": "stream",
     "text": [
      " 55%|█████████████████████▎                 | 1091/2000 [02:48<02:19,  6.50it/s]"
     ]
    },
    {
     "name": "stdout",
     "output_type": "stream",
     "text": [
      "18610\n",
      "75422\n",
      "Epoch 01089 | Loss 20.2377 | train_RMSE 2.6488 | test_RMSE 2.6275 \n",
      "18610\n",
      "75422\n",
      "Epoch 01090 | Loss 20.7378 | train_RMSE 2.4191 | test_RMSE 2.4298 \n"
     ]
    },
    {
     "name": "stderr",
     "output_type": "stream",
     "text": [
      " 55%|█████████████████████▎                 | 1093/2000 [02:48<02:19,  6.51it/s]"
     ]
    },
    {
     "name": "stdout",
     "output_type": "stream",
     "text": [
      "18610\n",
      "75422\n",
      "Epoch 01091 | Loss 20.3107 | train_RMSE 2.3100 | test_RMSE 2.2958 \n",
      "18610\n",
      "75422\n",
      "Epoch 01092 | Loss 19.4003 | train_RMSE 2.0054 | test_RMSE 2.0021 \n"
     ]
    },
    {
     "name": "stderr",
     "output_type": "stream",
     "text": [
      " 55%|█████████████████████▎                 | 1095/2000 [02:48<02:19,  6.51it/s]"
     ]
    },
    {
     "name": "stdout",
     "output_type": "stream",
     "text": [
      "18610\n",
      "75422\n",
      "Epoch 01093 | Loss 18.0369 | train_RMSE 2.0230 | test_RMSE 2.0207 \n",
      "18610\n",
      "75422\n",
      "Epoch 01094 | Loss 18.3505 | train_RMSE 2.3380 | test_RMSE 2.3212 \n"
     ]
    },
    {
     "name": "stderr",
     "output_type": "stream",
     "text": [
      " 55%|█████████████████████▍                 | 1097/2000 [02:49<02:18,  6.51it/s]"
     ]
    },
    {
     "name": "stdout",
     "output_type": "stream",
     "text": [
      "18610\n",
      "75422\n",
      "Epoch 01095 | Loss 19.3152 | train_RMSE 2.4123 | test_RMSE 2.4223 \n",
      "18610\n",
      "75422\n",
      "Epoch 01096 | Loss 20.3290 | train_RMSE 2.6993 | test_RMSE 2.6805 \n"
     ]
    },
    {
     "name": "stderr",
     "output_type": "stream",
     "text": [
      "\r",
      " 55%|█████████████████████▍                 | 1098/2000 [02:49<02:18,  6.50it/s]"
     ]
    },
    {
     "name": "stdout",
     "output_type": "stream",
     "text": [
      "18610\n",
      "75422\n",
      "Epoch 01097 | Loss 20.9174 | train_RMSE 2.4240 | test_RMSE 2.4313 \n",
      "18610\n"
     ]
    },
    {
     "name": "stderr",
     "output_type": "stream",
     "text": [
      " 55%|█████████████████████▍                 | 1100/2000 [02:49<02:20,  6.42it/s]"
     ]
    },
    {
     "name": "stdout",
     "output_type": "stream",
     "text": [
      "75422\n",
      "Epoch 01098 | Loss 20.3828 | train_RMSE 2.3189 | test_RMSE 2.3044 \n",
      "18610\n",
      "75422\n",
      "Epoch 01099 | Loss 19.0740 | train_RMSE 2.0057 | test_RMSE 2.0043 \n"
     ]
    },
    {
     "name": "stderr",
     "output_type": "stream",
     "text": [
      " 55%|█████████████████████▍                 | 1102/2000 [02:49<02:19,  6.46it/s]"
     ]
    },
    {
     "name": "stdout",
     "output_type": "stream",
     "text": [
      "18610\n",
      "75422\n",
      "Epoch 01100 | Loss 18.1731 | train_RMSE 1.9984 | test_RMSE 1.9954 \n",
      "18610\n",
      "75422\n",
      "Epoch 01101 | Loss 18.3236 | train_RMSE 2.2623 | test_RMSE 2.2475 \n"
     ]
    },
    {
     "name": "stderr",
     "output_type": "stream",
     "text": [
      " 55%|█████████████████████▌                 | 1104/2000 [02:50<02:18,  6.48it/s]"
     ]
    },
    {
     "name": "stdout",
     "output_type": "stream",
     "text": [
      "18610\n",
      "75422\n",
      "Epoch 01102 | Loss 18.8980 | train_RMSE 2.2849 | test_RMSE 2.2896 \n",
      "18610\n",
      "75422\n",
      "Epoch 01103 | Loss 19.2128 | train_RMSE 2.4587 | test_RMSE 2.4432 \n"
     ]
    },
    {
     "name": "stderr",
     "output_type": "stream",
     "text": [
      " 55%|█████████████████████▌                 | 1106/2000 [02:50<02:17,  6.48it/s]"
     ]
    },
    {
     "name": "stdout",
     "output_type": "stream",
     "text": [
      "18610\n",
      "75422\n",
      "Epoch 01104 | Loss 19.9597 | train_RMSE 2.2479 | test_RMSE 2.2552 \n",
      "18610\n",
      "75422\n",
      "Epoch 01105 | Loss 19.6621 | train_RMSE 2.2220 | test_RMSE 2.2081 \n"
     ]
    },
    {
     "name": "stderr",
     "output_type": "stream",
     "text": [
      " 55%|█████████████████████▌                 | 1108/2000 [02:50<02:17,  6.50it/s]"
     ]
    },
    {
     "name": "stdout",
     "output_type": "stream",
     "text": [
      "18610\n",
      "75422\n",
      "Epoch 01106 | Loss 18.9147 | train_RMSE 2.0023 | test_RMSE 2.0007 \n",
      "18610\n",
      "75422\n",
      "Epoch 01107 | Loss 18.0140 | train_RMSE 1.9914 | test_RMSE 1.9853 \n"
     ]
    },
    {
     "name": "stderr",
     "output_type": "stream",
     "text": [
      " 56%|█████████████████████▋                 | 1110/2000 [02:51<02:17,  6.49it/s]"
     ]
    },
    {
     "name": "stdout",
     "output_type": "stream",
     "text": [
      "18610\n",
      "75422\n",
      "Epoch 01108 | Loss 18.0897 | train_RMSE 2.1108 | test_RMSE 2.1002 \n",
      "18610\n",
      "75422\n",
      "Epoch 01109 | Loss 18.3529 | train_RMSE 2.1442 | test_RMSE 2.1464 \n"
     ]
    },
    {
     "name": "stderr",
     "output_type": "stream",
     "text": [
      " 56%|█████████████████████▋                 | 1112/2000 [02:51<02:16,  6.50it/s]"
     ]
    },
    {
     "name": "stdout",
     "output_type": "stream",
     "text": [
      "18610\n",
      "75422\n",
      "Epoch 01110 | Loss 18.7271 | train_RMSE 2.4026 | test_RMSE 2.3840 \n",
      "18610\n",
      "75422\n",
      "Epoch 01111 | Loss 19.5003 | train_RMSE 2.2897 | test_RMSE 2.2989 \n"
     ]
    },
    {
     "name": "stderr",
     "output_type": "stream",
     "text": [
      " 56%|█████████████████████▋                 | 1114/2000 [02:51<02:16,  6.50it/s]"
     ]
    },
    {
     "name": "stdout",
     "output_type": "stream",
     "text": [
      "18610\n",
      "75422\n",
      "Epoch 01112 | Loss 19.5417 | train_RMSE 2.3425 | test_RMSE 2.3254 \n",
      "18610\n",
      "75422\n",
      "Epoch 01113 | Loss 19.3069 | train_RMSE 2.0828 | test_RMSE 2.0828 \n"
     ]
    },
    {
     "name": "stderr",
     "output_type": "stream",
     "text": [
      " 56%|█████████████████████▊                 | 1116/2000 [02:51<02:16,  6.49it/s]"
     ]
    },
    {
     "name": "stdout",
     "output_type": "stream",
     "text": [
      "18610\n",
      "75422\n",
      "Epoch 01114 | Loss 18.6263 | train_RMSE 2.0536 | test_RMSE 2.0450 \n",
      "18610\n",
      "75422\n",
      "Epoch 01115 | Loss 18.1829 | train_RMSE 1.9851 | test_RMSE 1.9800 \n"
     ]
    },
    {
     "name": "stderr",
     "output_type": "stream",
     "text": [
      " 56%|█████████████████████▊                 | 1118/2000 [02:52<02:16,  6.46it/s]"
     ]
    },
    {
     "name": "stdout",
     "output_type": "stream",
     "text": [
      "18610\n",
      "75422\n",
      "Epoch 01116 | Loss 17.9439 | train_RMSE 1.9852 | test_RMSE 1.9844 \n",
      "18610\n",
      "75422\n",
      "Epoch 01117 | Loss 17.9081 | train_RMSE 2.1119 | test_RMSE 2.1005 \n"
     ]
    },
    {
     "name": "stderr",
     "output_type": "stream",
     "text": [
      " 56%|█████████████████████▊                 | 1120/2000 [02:52<02:15,  6.47it/s]"
     ]
    },
    {
     "name": "stdout",
     "output_type": "stream",
     "text": [
      "18610\n",
      "75422\n",
      "Epoch 01118 | Loss 18.3951 | train_RMSE 2.1226 | test_RMSE 2.1268 \n",
      "18610\n",
      "75422\n",
      "Epoch 01119 | Loss 18.9254 | train_RMSE 2.3648 | test_RMSE 2.3491 \n"
     ]
    },
    {
     "name": "stderr",
     "output_type": "stream",
     "text": [
      " 56%|█████████████████████▉                 | 1122/2000 [02:52<02:15,  6.48it/s]"
     ]
    },
    {
     "name": "stdout",
     "output_type": "stream",
     "text": [
      "18610\n",
      "75422\n",
      "Epoch 01120 | Loss 19.3246 | train_RMSE 2.2881 | test_RMSE 2.2902 \n",
      "18610\n",
      "75422\n",
      "Epoch 01121 | Loss 19.5666 | train_RMSE 2.3939 | test_RMSE 2.3776 \n"
     ]
    },
    {
     "name": "stderr",
     "output_type": "stream",
     "text": [
      " 56%|█████████████████████▉                 | 1124/2000 [02:53<02:14,  6.49it/s]"
     ]
    },
    {
     "name": "stdout",
     "output_type": "stream",
     "text": [
      "18610\n",
      "75422\n",
      "Epoch 01122 | Loss 19.4317 | train_RMSE 2.2021 | test_RMSE 2.2061 \n",
      "18610\n",
      "75422\n",
      "Epoch 01123 | Loss 18.9420 | train_RMSE 2.1866 | test_RMSE 2.1732 \n"
     ]
    },
    {
     "name": "stderr",
     "output_type": "stream",
     "text": [
      " 56%|█████████████████████▉                 | 1126/2000 [02:53<02:14,  6.49it/s]"
     ]
    },
    {
     "name": "stdout",
     "output_type": "stream",
     "text": [
      "18610\n",
      "75422\n",
      "Epoch 01124 | Loss 18.6360 | train_RMSE 2.0034 | test_RMSE 2.0042 \n",
      "18610\n",
      "75422\n",
      "Epoch 01125 | Loss 18.0209 | train_RMSE 1.9900 | test_RMSE 1.9859 \n"
     ]
    },
    {
     "name": "stderr",
     "output_type": "stream",
     "text": [
      " 56%|█████████████████████▉                 | 1128/2000 [02:53<02:14,  6.50it/s]"
     ]
    },
    {
     "name": "stdout",
     "output_type": "stream",
     "text": [
      "18610\n",
      "75422\n",
      "Epoch 01126 | Loss 18.0506 | train_RMSE 2.0555 | test_RMSE 2.0475 \n",
      "18610\n",
      "75422\n",
      "Epoch 01127 | Loss 18.0579 | train_RMSE 2.0348 | test_RMSE 2.0350 \n"
     ]
    },
    {
     "name": "stderr",
     "output_type": "stream",
     "text": [
      " 56%|██████████████████████                 | 1130/2000 [02:54<02:14,  6.49it/s]"
     ]
    },
    {
     "name": "stdout",
     "output_type": "stream",
     "text": [
      "18610\n",
      "75422\n",
      "Epoch 01128 | Loss 18.3372 | train_RMSE 2.1104 | test_RMSE 2.0983 \n",
      "18610\n",
      "75422\n",
      "Epoch 01129 | Loss 18.4971 | train_RMSE 2.0302 | test_RMSE 2.0322 \n"
     ]
    },
    {
     "name": "stderr",
     "output_type": "stream",
     "text": [
      " 57%|██████████████████████                 | 1132/2000 [02:54<02:13,  6.50it/s]"
     ]
    },
    {
     "name": "stdout",
     "output_type": "stream",
     "text": [
      "18610\n",
      "75422\n",
      "Epoch 01130 | Loss 18.2735 | train_RMSE 2.0759 | test_RMSE 2.0651 \n",
      "18610\n",
      "75422\n",
      "Epoch 01131 | Loss 17.9521 | train_RMSE 1.9974 | test_RMSE 1.9950 \n"
     ]
    },
    {
     "name": "stderr",
     "output_type": "stream",
     "text": [
      " 57%|██████████████████████                 | 1134/2000 [02:54<02:13,  6.47it/s]"
     ]
    },
    {
     "name": "stdout",
     "output_type": "stream",
     "text": [
      "18610\n",
      "75422\n",
      "Epoch 01132 | Loss 17.8682 | train_RMSE 2.0193 | test_RMSE 2.0111 \n",
      "18610\n",
      "75422\n",
      "Epoch 01133 | Loss 18.0607 | train_RMSE 1.9902 | test_RMSE 1.9853 \n"
     ]
    },
    {
     "name": "stderr",
     "output_type": "stream",
     "text": [
      " 57%|██████████████████████▏                | 1136/2000 [02:55<02:13,  6.48it/s]"
     ]
    },
    {
     "name": "stdout",
     "output_type": "stream",
     "text": [
      "18610\n",
      "75422\n",
      "Epoch 01134 | Loss 17.8976 | train_RMSE 1.9866 | test_RMSE 1.9841 \n",
      "18610\n",
      "75422\n",
      "Epoch 01135 | Loss 17.9721 | train_RMSE 1.9930 | test_RMSE 1.9895 \n"
     ]
    },
    {
     "name": "stderr",
     "output_type": "stream",
     "text": [
      " 57%|██████████████████████▏                | 1138/2000 [02:55<02:12,  6.49it/s]"
     ]
    },
    {
     "name": "stdout",
     "output_type": "stream",
     "text": [
      "18610\n",
      "75422\n",
      "Epoch 01136 | Loss 17.9157 | train_RMSE 1.9707 | test_RMSE 1.9666 \n",
      "18610\n",
      "75422\n",
      "Epoch 01137 | Loss 18.1501 | train_RMSE 2.0338 | test_RMSE 2.0234 \n"
     ]
    },
    {
     "name": "stderr",
     "output_type": "stream",
     "text": [
      " 57%|██████████████████████▏                | 1140/2000 [02:55<02:12,  6.49it/s]"
     ]
    },
    {
     "name": "stdout",
     "output_type": "stream",
     "text": [
      "18610\n",
      "75422\n",
      "Epoch 01138 | Loss 17.9193 | train_RMSE 2.0243 | test_RMSE 2.0220 \n",
      "18610\n",
      "75422\n",
      "Epoch 01139 | Loss 18.1153 | train_RMSE 2.2021 | test_RMSE 2.1895 \n"
     ]
    },
    {
     "name": "stderr",
     "output_type": "stream",
     "text": [
      " 57%|██████████████████████▎                | 1142/2000 [02:55<02:12,  6.50it/s]"
     ]
    },
    {
     "name": "stdout",
     "output_type": "stream",
     "text": [
      "18610\n",
      "75422\n",
      "Epoch 01140 | Loss 18.6458 | train_RMSE 2.1909 | test_RMSE 2.1989 \n",
      "18610\n",
      "75422\n",
      "Epoch 01141 | Loss 18.9111 | train_RMSE 2.3571 | test_RMSE 2.3426 \n"
     ]
    },
    {
     "name": "stderr",
     "output_type": "stream",
     "text": [
      " 57%|██████████████████████▎                | 1144/2000 [02:56<02:12,  6.48it/s]"
     ]
    },
    {
     "name": "stdout",
     "output_type": "stream",
     "text": [
      "18610\n",
      "75422\n",
      "Epoch 01142 | Loss 19.2062 | train_RMSE 2.2937 | test_RMSE 2.2981 \n",
      "18610\n",
      "75422\n",
      "Epoch 01143 | Loss 19.2939 | train_RMSE 2.5651 | test_RMSE 2.5480 \n"
     ]
    },
    {
     "name": "stderr",
     "output_type": "stream",
     "text": [
      " 57%|██████████████████████▎                | 1146/2000 [02:56<02:11,  6.49it/s]"
     ]
    },
    {
     "name": "stdout",
     "output_type": "stream",
     "text": [
      "18610\n",
      "75422\n",
      "Epoch 01144 | Loss 20.3505 | train_RMSE 2.5917 | test_RMSE 2.6003 \n",
      "18610\n",
      "75422\n",
      "Epoch 01145 | Loss 21.1811 | train_RMSE 3.1446 | test_RMSE 3.1217 \n"
     ]
    },
    {
     "name": "stderr",
     "output_type": "stream",
     "text": [
      " 57%|██████████████████████▍                | 1148/2000 [02:56<02:11,  6.49it/s]"
     ]
    },
    {
     "name": "stdout",
     "output_type": "stream",
     "text": [
      "18610\n",
      "75422\n",
      "Epoch 01146 | Loss 23.2508 | train_RMSE 3.1400 | test_RMSE 3.1515 \n",
      "18610\n",
      "75422\n",
      "Epoch 01147 | Loss 24.3972 | train_RMSE 3.5542 | test_RMSE 3.5327 \n"
     ]
    },
    {
     "name": "stderr",
     "output_type": "stream",
     "text": [
      " 57%|██████████████████████▍                | 1150/2000 [02:57<02:10,  6.49it/s]"
     ]
    },
    {
     "name": "stdout",
     "output_type": "stream",
     "text": [
      "18610\n",
      "75422\n",
      "Epoch 01148 | Loss 25.9125 | train_RMSE 3.1758 | test_RMSE 3.1893 \n",
      "18610\n",
      "75422\n",
      "Epoch 01149 | Loss 24.7130 | train_RMSE 3.0506 | test_RMSE 3.0292 \n"
     ]
    },
    {
     "name": "stderr",
     "output_type": "stream",
     "text": [
      " 58%|██████████████████████▍                | 1152/2000 [02:57<02:10,  6.49it/s]"
     ]
    },
    {
     "name": "stdout",
     "output_type": "stream",
     "text": [
      "18610\n",
      "75422\n",
      "Epoch 01150 | Loss 22.5309 | train_RMSE 2.3427 | test_RMSE 2.3544 \n",
      "18610\n",
      "75422\n",
      "Epoch 01151 | Loss 19.5972 | train_RMSE 2.0489 | test_RMSE 2.0399 \n"
     ]
    },
    {
     "name": "stderr",
     "output_type": "stream",
     "text": [
      " 58%|██████████████████████▌                | 1154/2000 [02:57<02:10,  6.49it/s]"
     ]
    },
    {
     "name": "stdout",
     "output_type": "stream",
     "text": [
      "18610\n",
      "75422\n",
      "Epoch 01152 | Loss 17.9024 | train_RMSE 2.0952 | test_RMSE 2.0844 \n",
      "18610\n",
      "75422\n",
      "Epoch 01153 | Loss 18.2743 | train_RMSE 2.2896 | test_RMSE 2.2965 \n"
     ]
    },
    {
     "name": "stderr",
     "output_type": "stream",
     "text": [
      " 58%|██████████████████████▌                | 1156/2000 [02:58<02:10,  6.49it/s]"
     ]
    },
    {
     "name": "stdout",
     "output_type": "stream",
     "text": [
      "18610\n",
      "75422\n",
      "Epoch 01154 | Loss 19.5654 | train_RMSE 2.7159 | test_RMSE 2.6952 \n",
      "18610\n",
      "75422\n",
      "Epoch 01155 | Loss 20.9687 | train_RMSE 2.5339 | test_RMSE 2.5497 \n"
     ]
    },
    {
     "name": "stderr",
     "output_type": "stream",
     "text": [
      " 58%|██████████████████████▌                | 1158/2000 [02:58<02:09,  6.49it/s]"
     ]
    },
    {
     "name": "stdout",
     "output_type": "stream",
     "text": [
      "18610\n",
      "75422\n",
      "Epoch 01156 | Loss 20.7853 | train_RMSE 2.4792 | test_RMSE 2.4642 \n",
      "18610\n",
      "75422\n",
      "Epoch 01157 | Loss 19.8941 | train_RMSE 2.0699 | test_RMSE 2.0676 \n"
     ]
    },
    {
     "name": "stderr",
     "output_type": "stream",
     "text": [
      " 58%|██████████████████████▌                | 1160/2000 [02:58<02:09,  6.50it/s]"
     ]
    },
    {
     "name": "stdout",
     "output_type": "stream",
     "text": [
      "18610\n",
      "75422\n",
      "Epoch 01158 | Loss 18.3654 | train_RMSE 1.9856 | test_RMSE 1.9809 \n",
      "18610\n",
      "75422\n",
      "Epoch 01159 | Loss 17.8811 | train_RMSE 2.1915 | test_RMSE 2.1805 \n"
     ]
    },
    {
     "name": "stderr",
     "output_type": "stream",
     "text": [
      " 58%|██████████████████████▋                | 1162/2000 [02:59<02:08,  6.50it/s]"
     ]
    },
    {
     "name": "stdout",
     "output_type": "stream",
     "text": [
      "18610\n",
      "75422\n",
      "Epoch 01160 | Loss 18.3312 | train_RMSE 2.1961 | test_RMSE 2.2031 \n",
      "18610\n",
      "75422\n",
      "Epoch 01161 | Loss 18.9608 | train_RMSE 2.3570 | test_RMSE 2.3438 \n"
     ]
    },
    {
     "name": "stderr",
     "output_type": "stream",
     "text": [
      " 58%|██████████████████████▋                | 1164/2000 [02:59<02:08,  6.49it/s]"
     ]
    },
    {
     "name": "stdout",
     "output_type": "stream",
     "text": [
      "18610\n",
      "75422\n",
      "Epoch 01162 | Loss 19.2716 | train_RMSE 2.2277 | test_RMSE 2.2317 \n",
      "18610\n",
      "75422\n",
      "Epoch 01163 | Loss 19.0187 | train_RMSE 2.1855 | test_RMSE 2.1722 \n"
     ]
    },
    {
     "name": "stderr",
     "output_type": "stream",
     "text": [
      " 58%|██████████████████████▋                | 1166/2000 [02:59<02:08,  6.49it/s]"
     ]
    },
    {
     "name": "stdout",
     "output_type": "stream",
     "text": [
      "18610\n",
      "75422\n",
      "Epoch 01164 | Loss 18.3898 | train_RMSE 1.9887 | test_RMSE 1.9878 \n",
      "18610\n",
      "75422\n",
      "Epoch 01165 | Loss 18.0389 | train_RMSE 1.9815 | test_RMSE 1.9768 \n"
     ]
    },
    {
     "name": "stderr",
     "output_type": "stream",
     "text": [
      " 58%|██████████████████████▊                | 1168/2000 [02:59<02:08,  6.48it/s]"
     ]
    },
    {
     "name": "stdout",
     "output_type": "stream",
     "text": [
      "18610\n",
      "75422\n",
      "Epoch 01166 | Loss 17.9352 | train_RMSE 2.1340 | test_RMSE 2.1220 \n",
      "18610\n",
      "75422\n",
      "Epoch 01167 | Loss 18.3783 | train_RMSE 2.1072 | test_RMSE 2.1055 \n"
     ]
    },
    {
     "name": "stderr",
     "output_type": "stream",
     "text": [
      " 58%|██████████████████████▊                | 1170/2000 [03:00<02:07,  6.49it/s]"
     ]
    },
    {
     "name": "stdout",
     "output_type": "stream",
     "text": [
      "18610\n",
      "75422\n",
      "Epoch 01168 | Loss 18.5640 | train_RMSE 2.2023 | test_RMSE 2.1872 \n",
      "18610\n",
      "75422\n",
      "Epoch 01169 | Loss 18.6598 | train_RMSE 2.0836 | test_RMSE 2.0913 \n"
     ]
    },
    {
     "name": "stderr",
     "output_type": "stream",
     "text": [
      " 59%|██████████████████████▊                | 1172/2000 [03:00<02:07,  6.48it/s]"
     ]
    },
    {
     "name": "stdout",
     "output_type": "stream",
     "text": [
      "18610\n",
      "75422\n",
      "Epoch 01170 | Loss 18.2593 | train_RMSE 2.0911 | test_RMSE 2.0800 \n",
      "18610\n",
      "75422\n",
      "Epoch 01171 | Loss 18.1677 | train_RMSE 1.9734 | test_RMSE 1.9706 \n"
     ]
    },
    {
     "name": "stderr",
     "output_type": "stream",
     "text": [
      " 59%|██████████████████████▉                | 1174/2000 [03:00<02:08,  6.43it/s]"
     ]
    },
    {
     "name": "stdout",
     "output_type": "stream",
     "text": [
      "18610\n",
      "75422\n",
      "Epoch 01172 | Loss 17.8619 | train_RMSE 1.9732 | test_RMSE 1.9675 \n",
      "18610\n",
      "75422\n",
      "Epoch 01173 | Loss 17.8143 | train_RMSE 1.9988 | test_RMSE 1.9924 \n"
     ]
    },
    {
     "name": "stderr",
     "output_type": "stream",
     "text": [
      " 59%|██████████████████████▉                | 1176/2000 [03:01<02:08,  6.44it/s]"
     ]
    },
    {
     "name": "stdout",
     "output_type": "stream",
     "text": [
      "18610\n",
      "75422\n",
      "Epoch 01174 | Loss 17.5462 | train_RMSE 1.9982 | test_RMSE 1.9997 \n",
      "18610\n",
      "75422\n",
      "Epoch 01175 | Loss 17.7738 | train_RMSE 2.0536 | test_RMSE 2.0444 \n"
     ]
    },
    {
     "name": "stderr",
     "output_type": "stream",
     "text": [
      " 59%|██████████████████████▉                | 1178/2000 [03:01<02:07,  6.47it/s]"
     ]
    },
    {
     "name": "stdout",
     "output_type": "stream",
     "text": [
      "18610\n",
      "75422\n",
      "Epoch 01176 | Loss 17.8935 | train_RMSE 1.9939 | test_RMSE 1.9921 \n",
      "18610\n",
      "75422\n",
      "Epoch 01177 | Loss 17.9181 | train_RMSE 1.9985 | test_RMSE 1.9894 \n"
     ]
    },
    {
     "name": "stderr",
     "output_type": "stream",
     "text": [
      " 59%|███████████████████████                | 1180/2000 [03:01<02:06,  6.47it/s]"
     ]
    },
    {
     "name": "stdout",
     "output_type": "stream",
     "text": [
      "18610\n",
      "75422\n",
      "Epoch 01178 | Loss 17.9225 | train_RMSE 1.9577 | test_RMSE 1.9539 \n",
      "18610\n",
      "75422\n",
      "Epoch 01179 | Loss 17.8107 | train_RMSE 1.9722 | test_RMSE 1.9690 \n"
     ]
    },
    {
     "name": "stderr",
     "output_type": "stream",
     "text": [
      " 59%|███████████████████████                | 1182/2000 [03:02<02:06,  6.49it/s]"
     ]
    },
    {
     "name": "stdout",
     "output_type": "stream",
     "text": [
      "18610\n",
      "75422\n",
      "Epoch 01180 | Loss 17.8687 | train_RMSE 1.9968 | test_RMSE 1.9907 \n",
      "18610\n",
      "75422\n",
      "Epoch 01181 | Loss 17.7845 | train_RMSE 1.9800 | test_RMSE 1.9777 \n"
     ]
    },
    {
     "name": "stderr",
     "output_type": "stream",
     "text": [
      " 59%|███████████████████████                | 1184/2000 [03:02<02:05,  6.49it/s]"
     ]
    },
    {
     "name": "stdout",
     "output_type": "stream",
     "text": [
      "18610\n",
      "75422\n",
      "Epoch 01182 | Loss 17.7119 | train_RMSE 2.0234 | test_RMSE 2.0172 \n",
      "18610\n",
      "75422\n",
      "Epoch 01183 | Loss 18.0527 | train_RMSE 1.9906 | test_RMSE 1.9938 \n"
     ]
    },
    {
     "name": "stderr",
     "output_type": "stream",
     "text": [
      " 59%|███████████████████████▏               | 1186/2000 [03:02<02:05,  6.49it/s]"
     ]
    },
    {
     "name": "stdout",
     "output_type": "stream",
     "text": [
      "18610\n",
      "75422\n",
      "Epoch 01184 | Loss 18.0175 | train_RMSE 2.0595 | test_RMSE 2.0510 \n",
      "18610\n",
      "75422\n",
      "Epoch 01185 | Loss 17.9680 | train_RMSE 2.0241 | test_RMSE 2.0267 \n"
     ]
    },
    {
     "name": "stderr",
     "output_type": "stream",
     "text": [
      " 59%|███████████████████████▏               | 1188/2000 [03:03<02:05,  6.49it/s]"
     ]
    },
    {
     "name": "stdout",
     "output_type": "stream",
     "text": [
      "18610\n",
      "75422\n",
      "Epoch 01186 | Loss 18.0887 | train_RMSE 2.1324 | test_RMSE 2.1205 \n",
      "18610\n",
      "75422\n",
      "Epoch 01187 | Loss 18.0737 | train_RMSE 2.0600 | test_RMSE 2.0600 \n"
     ]
    },
    {
     "name": "stderr",
     "output_type": "stream",
     "text": [
      " 60%|███████████████████████▏               | 1190/2000 [03:03<02:04,  6.49it/s]"
     ]
    },
    {
     "name": "stdout",
     "output_type": "stream",
     "text": [
      "18610\n",
      "75422\n",
      "Epoch 01188 | Loss 18.2691 | train_RMSE 2.1188 | test_RMSE 2.1069 \n",
      "18610\n",
      "75422\n",
      "Epoch 01189 | Loss 17.8995 | train_RMSE 2.0437 | test_RMSE 2.0484 \n"
     ]
    },
    {
     "name": "stderr",
     "output_type": "stream",
     "text": [
      " 60%|███████████████████████▏               | 1192/2000 [03:03<02:04,  6.50it/s]"
     ]
    },
    {
     "name": "stdout",
     "output_type": "stream",
     "text": [
      "18610\n",
      "75422\n",
      "Epoch 01190 | Loss 18.0730 | train_RMSE 2.0539 | test_RMSE 2.0450 \n",
      "18610\n",
      "75422\n",
      "Epoch 01191 | Loss 18.0600 | train_RMSE 1.9718 | test_RMSE 1.9677 \n"
     ]
    },
    {
     "name": "stderr",
     "output_type": "stream",
     "text": [
      " 60%|███████████████████████▎               | 1194/2000 [03:04<02:04,  6.49it/s]"
     ]
    },
    {
     "name": "stdout",
     "output_type": "stream",
     "text": [
      "18610\n",
      "75422\n",
      "Epoch 01192 | Loss 17.5984 | train_RMSE 1.9943 | test_RMSE 1.9863 \n",
      "18610\n",
      "75422\n",
      "Epoch 01193 | Loss 17.6451 | train_RMSE 1.9629 | test_RMSE 1.9613 \n"
     ]
    },
    {
     "name": "stderr",
     "output_type": "stream",
     "text": [
      " 60%|███████████████████████▎               | 1196/2000 [03:04<02:04,  6.46it/s]"
     ]
    },
    {
     "name": "stdout",
     "output_type": "stream",
     "text": [
      "18610\n",
      "75422\n",
      "Epoch 01194 | Loss 17.5787 | train_RMSE 1.9875 | test_RMSE 1.9849 \n",
      "18610\n",
      "75422\n",
      "Epoch 01195 | Loss 17.5154 | train_RMSE 1.9623 | test_RMSE 1.9617 \n"
     ]
    },
    {
     "name": "stderr",
     "output_type": "stream",
     "text": [
      " 60%|███████████████████████▎               | 1198/2000 [03:04<02:04,  6.44it/s]"
     ]
    },
    {
     "name": "stdout",
     "output_type": "stream",
     "text": [
      "18610\n",
      "75422\n",
      "Epoch 01196 | Loss 17.5275 | train_RMSE 1.9595 | test_RMSE 1.9557 \n",
      "18610\n",
      "75422\n",
      "Epoch 01197 | Loss 17.3005 | train_RMSE 1.9642 | test_RMSE 1.9583 \n"
     ]
    },
    {
     "name": "stderr",
     "output_type": "stream",
     "text": [
      " 60%|███████████████████████▍               | 1200/2000 [03:04<02:03,  6.47it/s]"
     ]
    },
    {
     "name": "stdout",
     "output_type": "stream",
     "text": [
      "18610\n",
      "75422\n",
      "Epoch 01198 | Loss 17.6454 | train_RMSE 1.9653 | test_RMSE 1.9621 \n",
      "18610\n",
      "75422\n",
      "Epoch 01199 | Loss 17.4964 | train_RMSE 2.0085 | test_RMSE 2.0002 \n"
     ]
    },
    {
     "name": "stderr",
     "output_type": "stream",
     "text": [
      " 60%|███████████████████████▍               | 1202/2000 [03:05<02:03,  6.48it/s]"
     ]
    },
    {
     "name": "stdout",
     "output_type": "stream",
     "text": [
      "18610\n",
      "75422\n",
      "Epoch 01200 | Loss 17.5836 | train_RMSE 1.9991 | test_RMSE 1.9982 \n",
      "18610\n",
      "75422\n",
      "Epoch 01201 | Loss 17.8846 | train_RMSE 2.1056 | test_RMSE 2.0961 \n"
     ]
    },
    {
     "name": "stderr",
     "output_type": "stream",
     "text": [
      " 60%|███████████████████████▍               | 1204/2000 [03:05<02:02,  6.48it/s]"
     ]
    },
    {
     "name": "stdout",
     "output_type": "stream",
     "text": [
      "18610\n",
      "75422\n",
      "Epoch 01202 | Loss 18.0829 | train_RMSE 2.1321 | test_RMSE 2.1397 \n",
      "18610\n",
      "75422\n",
      "Epoch 01203 | Loss 18.6619 | train_RMSE 2.5490 | test_RMSE 2.5326 \n"
     ]
    },
    {
     "name": "stderr",
     "output_type": "stream",
     "text": [
      " 60%|███████████████████████▌               | 1206/2000 [03:05<02:02,  6.49it/s]"
     ]
    },
    {
     "name": "stdout",
     "output_type": "stream",
     "text": [
      "18610\n",
      "75422\n",
      "Epoch 01204 | Loss 19.6910 | train_RMSE 2.8378 | test_RMSE 2.8510 \n",
      "18610\n",
      "75422\n",
      "Epoch 01205 | Loss 22.2206 | train_RMSE 3.8388 | test_RMSE 3.8149 \n"
     ]
    },
    {
     "name": "stderr",
     "output_type": "stream",
     "text": [
      " 60%|███████████████████████▌               | 1208/2000 [03:06<02:01,  6.49it/s]"
     ]
    },
    {
     "name": "stdout",
     "output_type": "stream",
     "text": [
      "18610\n",
      "75422\n",
      "Epoch 01206 | Loss 27.8549 | train_RMSE 4.3533 | test_RMSE 4.3694 \n",
      "18610\n",
      "75422\n",
      "Epoch 01207 | Loss 33.5703 | train_RMSE 5.6232 | test_RMSE 5.5989 \n"
     ]
    },
    {
     "name": "stderr",
     "output_type": "stream",
     "text": [
      " 60%|███████████████████████▌               | 1210/2000 [03:06<02:01,  6.49it/s]"
     ]
    },
    {
     "name": "stdout",
     "output_type": "stream",
     "text": [
      "18610\n",
      "75422\n",
      "Epoch 01208 | Loss 44.0991 | train_RMSE 5.0976 | test_RMSE 5.1122 \n",
      "18610\n",
      "75422\n",
      "Epoch 01209 | Loss 41.1608 | train_RMSE 4.7713 | test_RMSE 4.7527 \n"
     ]
    },
    {
     "name": "stderr",
     "output_type": "stream",
     "text": [
      " 61%|███████████████████████▋               | 1212/2000 [03:06<02:01,  6.49it/s]"
     ]
    },
    {
     "name": "stdout",
     "output_type": "stream",
     "text": [
      "18610\n",
      "75422\n",
      "Epoch 01210 | Loss 35.7941 | train_RMSE 2.9109 | test_RMSE 2.9317 \n",
      "18610\n",
      "75422\n",
      "Epoch 01211 | Loss 22.4328 | train_RMSE 2.0392 | test_RMSE 2.0480 \n"
     ]
    },
    {
     "name": "stderr",
     "output_type": "stream",
     "text": [
      " 61%|███████████████████████▋               | 1214/2000 [03:07<02:01,  6.49it/s]"
     ]
    },
    {
     "name": "stdout",
     "output_type": "stream",
     "text": [
      "18610\n",
      "75422\n",
      "Epoch 01212 | Loss 18.0520 | train_RMSE 3.2235 | test_RMSE 3.2085 \n",
      "18610\n",
      "75422\n",
      "Epoch 01213 | Loss 23.4979 | train_RMSE 3.6516 | test_RMSE 3.6711 \n"
     ]
    },
    {
     "name": "stderr",
     "output_type": "stream",
     "text": [
      " 61%|███████████████████████▋               | 1216/2000 [03:07<02:00,  6.49it/s]"
     ]
    },
    {
     "name": "stdout",
     "output_type": "stream",
     "text": [
      "18610\n",
      "75422\n",
      "Epoch 01214 | Loss 28.0248 | train_RMSE 3.6234 | test_RMSE 3.6064 \n",
      "18610\n",
      "75422\n",
      "Epoch 01215 | Loss 26.4162 | train_RMSE 2.2183 | test_RMSE 2.2246 \n"
     ]
    },
    {
     "name": "stderr",
     "output_type": "stream",
     "text": [
      " 61%|███████████████████████▊               | 1218/2000 [03:07<02:00,  6.49it/s]"
     ]
    },
    {
     "name": "stdout",
     "output_type": "stream",
     "text": [
      "18610\n",
      "75422\n",
      "Epoch 01216 | Loss 19.1668 | train_RMSE 2.1867 | test_RMSE 2.1926 \n",
      "18610\n",
      "75422\n",
      "Epoch 01217 | Loss 18.9403 | train_RMSE 3.2861 | test_RMSE 3.2766 \n"
     ]
    },
    {
     "name": "stderr",
     "output_type": "stream",
     "text": [
      " 61%|███████████████████████▊               | 1220/2000 [03:08<02:00,  6.49it/s]"
     ]
    },
    {
     "name": "stdout",
     "output_type": "stream",
     "text": [
      "18610\n",
      "75422\n",
      "Epoch 01218 | Loss 23.9350 | train_RMSE 2.9955 | test_RMSE 3.0082 \n",
      "18610\n",
      "75422\n",
      "Epoch 01219 | Loss 23.2826 | train_RMSE 2.4573 | test_RMSE 2.4468 \n"
     ]
    },
    {
     "name": "stderr",
     "output_type": "stream",
     "text": [
      " 61%|███████████████████████▊               | 1222/2000 [03:08<01:59,  6.49it/s]"
     ]
    },
    {
     "name": "stdout",
     "output_type": "stream",
     "text": [
      "18610\n",
      "75422\n",
      "Epoch 01220 | Loss 19.4932 | train_RMSE 2.1150 | test_RMSE 2.1081 \n",
      "18610\n",
      "75422\n",
      "Epoch 01221 | Loss 18.2279 | train_RMSE 2.6476 | test_RMSE 2.6638 \n"
     ]
    },
    {
     "name": "stderr",
     "output_type": "stream",
     "text": [
      " 61%|███████████████████████▊               | 1224/2000 [03:08<01:59,  6.49it/s]"
     ]
    },
    {
     "name": "stdout",
     "output_type": "stream",
     "text": [
      "18610\n",
      "75422\n",
      "Epoch 01222 | Loss 21.5463 | train_RMSE 2.9262 | test_RMSE 2.9114 \n",
      "18610\n",
      "75422\n",
      "Epoch 01223 | Loss 21.7959 | train_RMSE 2.1231 | test_RMSE 2.1342 \n"
     ]
    },
    {
     "name": "stderr",
     "output_type": "stream",
     "text": [
      " 61%|███████████████████████▉               | 1226/2000 [03:08<01:59,  6.49it/s]"
     ]
    },
    {
     "name": "stdout",
     "output_type": "stream",
     "text": [
      "18610\n",
      "75422\n",
      "Epoch 01224 | Loss 18.2606 | train_RMSE 2.1251 | test_RMSE 2.1334 \n",
      "18610\n",
      "75422\n",
      "Epoch 01225 | Loss 18.5336 | train_RMSE 2.8042 | test_RMSE 2.7907 \n"
     ]
    },
    {
     "name": "stderr",
     "output_type": "stream",
     "text": [
      " 61%|███████████████████████▉               | 1228/2000 [03:09<01:58,  6.49it/s]"
     ]
    },
    {
     "name": "stdout",
     "output_type": "stream",
     "text": [
      "18610\n",
      "75422\n",
      "Epoch 01226 | Loss 21.4121 | train_RMSE 2.4398 | test_RMSE 2.4499 \n",
      "18610\n",
      "75422\n",
      "Epoch 01227 | Loss 20.0122 | train_RMSE 2.0480 | test_RMSE 2.0381 \n"
     ]
    },
    {
     "name": "stderr",
     "output_type": "stream",
     "text": [
      " 62%|███████████████████████▉               | 1230/2000 [03:09<01:58,  6.49it/s]"
     ]
    },
    {
     "name": "stdout",
     "output_type": "stream",
     "text": [
      "18610\n",
      "75422\n",
      "Epoch 01228 | Loss 17.9717 | train_RMSE 2.1881 | test_RMSE 2.1755 \n",
      "18610\n",
      "75422\n",
      "Epoch 01229 | Loss 18.4372 | train_RMSE 2.3333 | test_RMSE 2.3432 \n"
     ]
    },
    {
     "name": "stderr",
     "output_type": "stream",
     "text": [
      " 62%|████████████████████████               | 1232/2000 [03:09<01:58,  6.49it/s]"
     ]
    },
    {
     "name": "stdout",
     "output_type": "stream",
     "text": [
      "18610\n",
      "75422\n",
      "Epoch 01230 | Loss 19.6108 | train_RMSE 2.3826 | test_RMSE 2.3698 \n",
      "18610\n",
      "75422\n",
      "Epoch 01231 | Loss 19.0880 | train_RMSE 2.0014 | test_RMSE 2.0022 \n"
     ]
    },
    {
     "name": "stderr",
     "output_type": "stream",
     "text": [
      " 62%|████████████████████████               | 1234/2000 [03:10<01:57,  6.50it/s]"
     ]
    },
    {
     "name": "stdout",
     "output_type": "stream",
     "text": [
      "18610\n",
      "75422\n",
      "Epoch 01232 | Loss 17.7171 | train_RMSE 2.0381 | test_RMSE 2.0421 \n",
      "18610\n",
      "75422\n",
      "Epoch 01233 | Loss 17.9475 | train_RMSE 2.2989 | test_RMSE 2.2880 \n"
     ]
    },
    {
     "name": "stderr",
     "output_type": "stream",
     "text": [
      " 62%|████████████████████████               | 1236/2000 [03:10<01:57,  6.50it/s]"
     ]
    },
    {
     "name": "stdout",
     "output_type": "stream",
     "text": [
      "18610\n",
      "75422\n",
      "Epoch 01234 | Loss 18.5619 | train_RMSE 2.0744 | test_RMSE 2.0827 \n",
      "18610\n",
      "75422\n",
      "Epoch 01235 | Loss 18.5409 | train_RMSE 1.9709 | test_RMSE 1.9711 \n"
     ]
    },
    {
     "name": "stderr",
     "output_type": "stream",
     "text": [
      " 62%|████████████████████████▏              | 1238/2000 [03:10<01:57,  6.49it/s]"
     ]
    },
    {
     "name": "stdout",
     "output_type": "stream",
     "text": [
      "18610\n",
      "75422\n",
      "Epoch 01236 | Loss 17.8726 | train_RMSE 2.1155 | test_RMSE 2.1085 \n",
      "18610\n",
      "75422\n",
      "Epoch 01237 | Loss 18.2678 | train_RMSE 2.0937 | test_RMSE 2.1003 \n"
     ]
    },
    {
     "name": "stderr",
     "output_type": "stream",
     "text": [
      " 62%|████████████████████████▏              | 1240/2000 [03:11<01:57,  6.49it/s]"
     ]
    },
    {
     "name": "stdout",
     "output_type": "stream",
     "text": [
      "18610\n",
      "75422\n",
      "Epoch 01238 | Loss 18.2693 | train_RMSE 2.1008 | test_RMSE 2.0923 \n",
      "18610\n",
      "75422\n",
      "Epoch 01239 | Loss 17.9995 | train_RMSE 1.9771 | test_RMSE 1.9746 \n"
     ]
    },
    {
     "name": "stderr",
     "output_type": "stream",
     "text": [
      " 62%|████████████████████████▏              | 1242/2000 [03:11<01:56,  6.50it/s]"
     ]
    },
    {
     "name": "stdout",
     "output_type": "stream",
     "text": [
      "18610\n",
      "75422\n",
      "Epoch 01240 | Loss 17.7852 | train_RMSE 2.0198 | test_RMSE 2.0254 \n",
      "18610\n",
      "75422\n",
      "Epoch 01241 | Loss 18.0599 | train_RMSE 2.1739 | test_RMSE 2.1646 \n"
     ]
    },
    {
     "name": "stderr",
     "output_type": "stream",
     "text": [
      " 62%|████████████████████████▎              | 1244/2000 [03:11<01:56,  6.50it/s]"
     ]
    },
    {
     "name": "stdout",
     "output_type": "stream",
     "text": [
      "18610\n",
      "75422\n",
      "Epoch 01242 | Loss 18.2582 | train_RMSE 2.0289 | test_RMSE 2.0362 \n",
      "18610\n",
      "75422\n",
      "Epoch 01243 | Loss 18.0423 | train_RMSE 1.9762 | test_RMSE 1.9746 \n"
     ]
    },
    {
     "name": "stderr",
     "output_type": "stream",
     "text": [
      " 62%|████████████████████████▎              | 1246/2000 [03:12<01:56,  6.49it/s]"
     ]
    },
    {
     "name": "stdout",
     "output_type": "stream",
     "text": [
      "18610\n",
      "75422\n",
      "Epoch 01244 | Loss 17.7904 | train_RMSE 2.0092 | test_RMSE 2.0038 \n",
      "18610\n",
      "75422\n",
      "Epoch 01245 | Loss 17.4875 | train_RMSE 1.9731 | test_RMSE 1.9714 \n"
     ]
    },
    {
     "name": "stderr",
     "output_type": "stream",
     "text": [
      " 62%|████████████████████████▎              | 1248/2000 [03:12<01:55,  6.49it/s]"
     ]
    },
    {
     "name": "stdout",
     "output_type": "stream",
     "text": [
      "18610\n",
      "75422\n",
      "Epoch 01246 | Loss 17.6114 | train_RMSE 1.9967 | test_RMSE 1.9902 \n",
      "18610\n",
      "75422\n",
      "Epoch 01247 | Loss 17.7516 | train_RMSE 1.9639 | test_RMSE 1.9600 \n"
     ]
    },
    {
     "name": "stderr",
     "output_type": "stream",
     "text": [
      " 62%|████████████████████████▍              | 1250/2000 [03:12<01:55,  6.50it/s]"
     ]
    },
    {
     "name": "stdout",
     "output_type": "stream",
     "text": [
      "18610\n",
      "75422\n",
      "Epoch 01248 | Loss 17.7464 | train_RMSE 1.9673 | test_RMSE 1.9689 \n",
      "18610\n",
      "75422\n",
      "Epoch 01249 | Loss 17.4802 | train_RMSE 2.0391 | test_RMSE 2.0321 \n"
     ]
    },
    {
     "name": "stderr",
     "output_type": "stream",
     "text": [
      " 63%|████████████████████████▍              | 1252/2000 [03:12<01:55,  6.49it/s]"
     ]
    },
    {
     "name": "stdout",
     "output_type": "stream",
     "text": [
      "18610\n",
      "75422\n",
      "Epoch 01250 | Loss 17.9313 | train_RMSE 1.9720 | test_RMSE 1.9733 \n",
      "18610\n",
      "75422\n",
      "Epoch 01251 | Loss 17.5094 | train_RMSE 1.9674 | test_RMSE 1.9647 \n"
     ]
    },
    {
     "name": "stderr",
     "output_type": "stream",
     "text": [
      " 63%|████████████████████████▍              | 1254/2000 [03:13<01:54,  6.49it/s]"
     ]
    },
    {
     "name": "stdout",
     "output_type": "stream",
     "text": [
      "18610\n",
      "75422\n",
      "Epoch 01252 | Loss 17.6763 | train_RMSE 2.0256 | test_RMSE 2.0192 \n",
      "18610\n",
      "75422\n",
      "Epoch 01253 | Loss 17.6182 | train_RMSE 1.9840 | test_RMSE 1.9855 \n"
     ]
    },
    {
     "name": "stderr",
     "output_type": "stream",
     "text": [
      " 63%|████████████████████████▍              | 1256/2000 [03:13<01:54,  6.49it/s]"
     ]
    },
    {
     "name": "stdout",
     "output_type": "stream",
     "text": [
      "18610\n",
      "75422\n",
      "Epoch 01254 | Loss 17.8039 | train_RMSE 1.9963 | test_RMSE 1.9916 \n",
      "18610\n",
      "75422\n",
      "Epoch 01255 | Loss 17.7303 | train_RMSE 1.9674 | test_RMSE 1.9657 \n"
     ]
    },
    {
     "name": "stderr",
     "output_type": "stream",
     "text": [
      " 63%|████████████████████████▌              | 1258/2000 [03:13<01:54,  6.49it/s]"
     ]
    },
    {
     "name": "stdout",
     "output_type": "stream",
     "text": [
      "18610\n",
      "75422\n",
      "Epoch 01256 | Loss 17.6343 | train_RMSE 1.9659 | test_RMSE 1.9677 \n",
      "18610\n",
      "75422\n",
      "Epoch 01257 | Loss 17.6762 | train_RMSE 2.0235 | test_RMSE 2.0175 \n"
     ]
    },
    {
     "name": "stderr",
     "output_type": "stream",
     "text": [
      " 63%|████████████████████████▌              | 1260/2000 [03:14<01:53,  6.49it/s]"
     ]
    },
    {
     "name": "stdout",
     "output_type": "stream",
     "text": [
      "18610\n",
      "75422\n",
      "Epoch 01258 | Loss 17.7665 | train_RMSE 1.9683 | test_RMSE 1.9709 \n",
      "18610\n",
      "75422\n",
      "Epoch 01259 | Loss 17.6267 | train_RMSE 1.9787 | test_RMSE 1.9748 \n"
     ]
    },
    {
     "name": "stderr",
     "output_type": "stream",
     "text": [
      " 63%|████████████████████████▌              | 1262/2000 [03:14<01:53,  6.49it/s]"
     ]
    },
    {
     "name": "stdout",
     "output_type": "stream",
     "text": [
      "18610\n",
      "75422\n",
      "Epoch 01260 | Loss 17.5694 | train_RMSE 1.9612 | test_RMSE 1.9600 \n",
      "18610\n",
      "75422\n",
      "Epoch 01261 | Loss 17.4916 | train_RMSE 1.9574 | test_RMSE 1.9574 \n"
     ]
    },
    {
     "name": "stderr",
     "output_type": "stream",
     "text": [
      " 63%|████████████████████████▋              | 1264/2000 [03:14<01:53,  6.49it/s]"
     ]
    },
    {
     "name": "stdout",
     "output_type": "stream",
     "text": [
      "18610\n",
      "75422\n",
      "Epoch 01262 | Loss 17.5764 | train_RMSE 1.9812 | test_RMSE 1.9758 \n",
      "18610\n",
      "75422\n",
      "Epoch 01263 | Loss 17.6205 | train_RMSE 1.9516 | test_RMSE 1.9484 \n"
     ]
    },
    {
     "name": "stderr",
     "output_type": "stream",
     "text": [
      " 63%|████████████████████████▋              | 1266/2000 [03:15<01:53,  6.48it/s]"
     ]
    },
    {
     "name": "stdout",
     "output_type": "stream",
     "text": [
      "18610\n",
      "75422\n",
      "Epoch 01264 | Loss 17.4361 | train_RMSE 1.9507 | test_RMSE 1.9497 \n",
      "18610\n",
      "75422\n",
      "Epoch 01265 | Loss 17.5778 | train_RMSE 1.9829 | test_RMSE 1.9786 \n"
     ]
    },
    {
     "name": "stderr",
     "output_type": "stream",
     "text": [
      " 63%|████████████████████████▋              | 1268/2000 [03:15<01:52,  6.49it/s]"
     ]
    },
    {
     "name": "stdout",
     "output_type": "stream",
     "text": [
      "18610\n",
      "75422\n",
      "Epoch 01266 | Loss 17.7964 | train_RMSE 1.9552 | test_RMSE 1.9556 \n",
      "18610\n",
      "75422\n",
      "Epoch 01267 | Loss 17.5859 | train_RMSE 1.9802 | test_RMSE 1.9753 \n"
     ]
    },
    {
     "name": "stderr",
     "output_type": "stream",
     "text": [
      " 64%|████████████████████████▊              | 1270/2000 [03:15<01:52,  6.50it/s]"
     ]
    },
    {
     "name": "stdout",
     "output_type": "stream",
     "text": [
      "18610\n",
      "75422\n",
      "Epoch 01268 | Loss 17.4884 | train_RMSE 1.9672 | test_RMSE 1.9632 \n",
      "18610\n",
      "75422\n",
      "Epoch 01269 | Loss 17.4792 | train_RMSE 1.9571 | test_RMSE 1.9566 \n"
     ]
    },
    {
     "name": "stderr",
     "output_type": "stream",
     "text": [
      " 64%|████████████████████████▊              | 1272/2000 [03:16<01:52,  6.49it/s]"
     ]
    },
    {
     "name": "stdout",
     "output_type": "stream",
     "text": [
      "18610\n",
      "75422\n",
      "Epoch 01270 | Loss 17.6534 | train_RMSE 1.9970 | test_RMSE 1.9924 \n",
      "18610\n",
      "75422\n",
      "Epoch 01271 | Loss 17.6083 | train_RMSE 1.9489 | test_RMSE 1.9496 \n"
     ]
    },
    {
     "name": "stderr",
     "output_type": "stream",
     "text": [
      " 64%|████████████████████████▊              | 1274/2000 [03:16<01:51,  6.49it/s]"
     ]
    },
    {
     "name": "stdout",
     "output_type": "stream",
     "text": [
      "18610\n",
      "75422\n",
      "Epoch 01272 | Loss 17.5402 | train_RMSE 1.9429 | test_RMSE 1.9411 \n",
      "18610\n",
      "75422\n",
      "Epoch 01273 | Loss 17.7026 | train_RMSE 1.9590 | test_RMSE 1.9542 \n"
     ]
    },
    {
     "name": "stderr",
     "output_type": "stream",
     "text": [
      " 64%|████████████████████████▉              | 1276/2000 [03:16<01:51,  6.49it/s]"
     ]
    },
    {
     "name": "stdout",
     "output_type": "stream",
     "text": [
      "18610\n",
      "75422\n",
      "Epoch 01274 | Loss 17.4533 | train_RMSE 1.9538 | test_RMSE 1.9499 \n",
      "18610\n",
      "75422\n",
      "Epoch 01275 | Loss 17.4219 | train_RMSE 1.9543 | test_RMSE 1.9523 \n"
     ]
    },
    {
     "name": "stderr",
     "output_type": "stream",
     "text": [
      " 64%|████████████████████████▉              | 1278/2000 [03:16<01:51,  6.49it/s]"
     ]
    },
    {
     "name": "stdout",
     "output_type": "stream",
     "text": [
      "18610\n",
      "75422\n",
      "Epoch 01276 | Loss 17.4904 | train_RMSE 1.9827 | test_RMSE 1.9785 \n",
      "18610\n",
      "75422\n",
      "Epoch 01277 | Loss 17.7041 | train_RMSE 1.9617 | test_RMSE 1.9631 \n"
     ]
    },
    {
     "name": "stderr",
     "output_type": "stream",
     "text": [
      " 64%|████████████████████████▉              | 1280/2000 [03:17<01:51,  6.48it/s]"
     ]
    },
    {
     "name": "stdout",
     "output_type": "stream",
     "text": [
      "18610\n",
      "75422\n",
      "Epoch 01278 | Loss 17.4300 | train_RMSE 1.9928 | test_RMSE 1.9880 \n",
      "18610\n",
      "75422\n",
      "Epoch 01279 | Loss 17.5263 | train_RMSE 1.9579 | test_RMSE 1.9567 \n"
     ]
    },
    {
     "name": "stderr",
     "output_type": "stream",
     "text": [
      " 64%|████████████████████████▉              | 1282/2000 [03:17<01:50,  6.48it/s]"
     ]
    },
    {
     "name": "stdout",
     "output_type": "stream",
     "text": [
      "18610\n",
      "75422\n",
      "Epoch 01280 | Loss 17.6334 | train_RMSE 1.9824 | test_RMSE 1.9772 \n",
      "18610\n",
      "75422\n",
      "Epoch 01281 | Loss 17.3879 | train_RMSE 1.9531 | test_RMSE 1.9492 \n"
     ]
    },
    {
     "name": "stderr",
     "output_type": "stream",
     "text": [
      " 64%|█████████████████████████              | 1284/2000 [03:17<01:50,  6.50it/s]"
     ]
    },
    {
     "name": "stdout",
     "output_type": "stream",
     "text": [
      "18610\n",
      "75422\n",
      "Epoch 01282 | Loss 17.5310 | train_RMSE 1.9484 | test_RMSE 1.9452 \n",
      "18610\n",
      "75422\n",
      "Epoch 01283 | Loss 17.5880 | train_RMSE 1.9757 | test_RMSE 1.9709 \n"
     ]
    },
    {
     "name": "stderr",
     "output_type": "stream",
     "text": [
      " 64%|█████████████████████████              | 1286/2000 [03:18<01:49,  6.49it/s]"
     ]
    },
    {
     "name": "stdout",
     "output_type": "stream",
     "text": [
      "18610\n",
      "75422\n",
      "Epoch 01284 | Loss 17.8675 | train_RMSE 1.9507 | test_RMSE 1.9531 \n",
      "18610\n",
      "75422\n",
      "Epoch 01285 | Loss 17.6264 | train_RMSE 1.9826 | test_RMSE 1.9782 \n"
     ]
    },
    {
     "name": "stderr",
     "output_type": "stream",
     "text": [
      " 64%|█████████████████████████              | 1288/2000 [03:18<01:49,  6.49it/s]"
     ]
    },
    {
     "name": "stdout",
     "output_type": "stream",
     "text": [
      "18610\n",
      "75422\n",
      "Epoch 01286 | Loss 17.7553 | train_RMSE 1.9542 | test_RMSE 1.9522 \n",
      "18610\n",
      "75422\n",
      "Epoch 01287 | Loss 17.3243 | train_RMSE 1.9527 | test_RMSE 1.9515 \n"
     ]
    },
    {
     "name": "stderr",
     "output_type": "stream",
     "text": [
      " 64%|█████████████████████████▏             | 1290/2000 [03:18<01:49,  6.46it/s]"
     ]
    },
    {
     "name": "stdout",
     "output_type": "stream",
     "text": [
      "18610\n",
      "75422\n",
      "Epoch 01288 | Loss 17.2275 | train_RMSE 1.9859 | test_RMSE 1.9809 \n",
      "18610\n",
      "75422\n",
      "Epoch 01289 | Loss 17.6152 | train_RMSE 1.9520 | test_RMSE 1.9517 \n"
     ]
    },
    {
     "name": "stderr",
     "output_type": "stream",
     "text": [
      " 65%|█████████████████████████▏             | 1292/2000 [03:19<01:49,  6.48it/s]"
     ]
    },
    {
     "name": "stdout",
     "output_type": "stream",
     "text": [
      "18610\n",
      "75422\n",
      "Epoch 01290 | Loss 17.4778 | train_RMSE 1.9617 | test_RMSE 1.9572 \n",
      "18610\n",
      "75422\n",
      "Epoch 01291 | Loss 17.4184 | train_RMSE 1.9429 | test_RMSE 1.9404 \n"
     ]
    },
    {
     "name": "stderr",
     "output_type": "stream",
     "text": [
      " 65%|█████████████████████████▏             | 1294/2000 [03:19<01:48,  6.49it/s]"
     ]
    },
    {
     "name": "stdout",
     "output_type": "stream",
     "text": [
      "18610\n",
      "75422\n",
      "Epoch 01292 | Loss 17.4238 | train_RMSE 1.9471 | test_RMSE 1.9489 \n",
      "18610\n",
      "75422\n",
      "Epoch 01293 | Loss 17.5163 | train_RMSE 2.0141 | test_RMSE 2.0077 \n"
     ]
    },
    {
     "name": "stderr",
     "output_type": "stream",
     "text": [
      " 65%|█████████████████████████▎             | 1296/2000 [03:19<01:48,  6.48it/s]"
     ]
    },
    {
     "name": "stdout",
     "output_type": "stream",
     "text": [
      "18610\n",
      "75422\n",
      "Epoch 01294 | Loss 17.5940 | train_RMSE 1.9670 | test_RMSE 1.9704 \n",
      "18610\n",
      "75422\n",
      "Epoch 01295 | Loss 17.6147 | train_RMSE 1.9984 | test_RMSE 1.9912 \n"
     ]
    },
    {
     "name": "stderr",
     "output_type": "stream",
     "text": [
      " 65%|█████████████████████████▎             | 1298/2000 [03:20<01:48,  6.49it/s]"
     ]
    },
    {
     "name": "stdout",
     "output_type": "stream",
     "text": [
      "18610\n",
      "75422\n",
      "Epoch 01296 | Loss 17.5469 | train_RMSE 1.9407 | test_RMSE 1.9366 \n",
      "18610\n",
      "75422\n",
      "Epoch 01297 | Loss 17.4590 | train_RMSE 1.9382 | test_RMSE 1.9351 \n"
     ]
    },
    {
     "name": "stderr",
     "output_type": "stream",
     "text": [
      " 65%|█████████████████████████▎             | 1300/2000 [03:20<01:47,  6.49it/s]"
     ]
    },
    {
     "name": "stdout",
     "output_type": "stream",
     "text": [
      "18610\n",
      "75422\n",
      "Epoch 01298 | Loss 17.4623 | train_RMSE 2.0000 | test_RMSE 1.9941 \n",
      "18610\n",
      "75422\n",
      "Epoch 01299 | Loss 17.2954 | train_RMSE 1.9967 | test_RMSE 2.0041 \n"
     ]
    },
    {
     "name": "stderr",
     "output_type": "stream",
     "text": [
      " 65%|█████████████████████████▍             | 1302/2000 [03:20<01:47,  6.49it/s]"
     ]
    },
    {
     "name": "stdout",
     "output_type": "stream",
     "text": [
      "18610\n",
      "75422\n",
      "Epoch 01300 | Loss 17.8471 | train_RMSE 2.1540 | test_RMSE 2.1442 \n",
      "18610\n",
      "75422\n",
      "Epoch 01301 | Loss 17.9894 | train_RMSE 2.0912 | test_RMSE 2.0954 \n"
     ]
    },
    {
     "name": "stderr",
     "output_type": "stream",
     "text": [
      " 65%|█████████████████████████▍             | 1304/2000 [03:20<01:47,  6.49it/s]"
     ]
    },
    {
     "name": "stdout",
     "output_type": "stream",
     "text": [
      "18610\n",
      "75422\n",
      "Epoch 01302 | Loss 18.0506 | train_RMSE 2.1587 | test_RMSE 2.1480 \n",
      "18610\n",
      "75422\n",
      "Epoch 01303 | Loss 18.0911 | train_RMSE 2.0272 | test_RMSE 2.0307 \n"
     ]
    },
    {
     "name": "stderr",
     "output_type": "stream",
     "text": [
      " 65%|█████████████████████████▍             | 1306/2000 [03:21<01:46,  6.49it/s]"
     ]
    },
    {
     "name": "stdout",
     "output_type": "stream",
     "text": [
      "18610\n",
      "75422\n",
      "Epoch 01304 | Loss 17.9083 | train_RMSE 2.0501 | test_RMSE 2.0412 \n",
      "18610\n",
      "75422\n",
      "Epoch 01305 | Loss 17.4159 | train_RMSE 1.9537 | test_RMSE 1.9545 \n"
     ]
    },
    {
     "name": "stderr",
     "output_type": "stream",
     "text": [
      " 65%|█████████████████████████▌             | 1308/2000 [03:21<01:46,  6.49it/s]"
     ]
    },
    {
     "name": "stdout",
     "output_type": "stream",
     "text": [
      "18610\n",
      "75422\n",
      "Epoch 01306 | Loss 17.4563 | train_RMSE 1.9549 | test_RMSE 1.9511 \n",
      "18610\n",
      "75422\n",
      "Epoch 01307 | Loss 17.5740 | train_RMSE 1.9485 | test_RMSE 1.9473 \n"
     ]
    },
    {
     "name": "stderr",
     "output_type": "stream",
     "text": [
      " 66%|█████████████████████████▌             | 1310/2000 [03:21<01:46,  6.48it/s]"
     ]
    },
    {
     "name": "stdout",
     "output_type": "stream",
     "text": [
      "18610\n",
      "75422\n",
      "Epoch 01308 | Loss 17.5059 | train_RMSE 1.9440 | test_RMSE 1.9434 \n",
      "18610\n",
      "75422\n",
      "Epoch 01309 | Loss 17.3271 | train_RMSE 1.9436 | test_RMSE 1.9425 \n"
     ]
    },
    {
     "name": "stderr",
     "output_type": "stream",
     "text": [
      " 66%|█████████████████████████▌             | 1312/2000 [03:22<01:46,  6.49it/s]"
     ]
    },
    {
     "name": "stdout",
     "output_type": "stream",
     "text": [
      "18610\n",
      "75422\n",
      "Epoch 01310 | Loss 17.5109 | train_RMSE 1.9381 | test_RMSE 1.9368 \n",
      "18610\n",
      "75422\n",
      "Epoch 01311 | Loss 17.3698 | train_RMSE 1.9415 | test_RMSE 1.9371 \n"
     ]
    },
    {
     "name": "stderr",
     "output_type": "stream",
     "text": [
      " 66%|█████████████████████████▌             | 1314/2000 [03:22<01:45,  6.48it/s]"
     ]
    },
    {
     "name": "stdout",
     "output_type": "stream",
     "text": [
      "18610\n",
      "75422\n",
      "Epoch 01312 | Loss 17.2782 | train_RMSE 1.9336 | test_RMSE 1.9285 \n",
      "18610\n",
      "75422\n",
      "Epoch 01313 | Loss 17.3782 | train_RMSE 1.9334 | test_RMSE 1.9310 \n"
     ]
    },
    {
     "name": "stderr",
     "output_type": "stream",
     "text": [
      " 66%|█████████████████████████▋             | 1316/2000 [03:22<01:45,  6.49it/s]"
     ]
    },
    {
     "name": "stdout",
     "output_type": "stream",
     "text": [
      "18610\n",
      "75422\n",
      "Epoch 01314 | Loss 17.4974 | train_RMSE 1.9905 | test_RMSE 1.9827 \n",
      "18610\n",
      "75422\n",
      "Epoch 01315 | Loss 17.5372 | train_RMSE 1.9550 | test_RMSE 1.9558 \n"
     ]
    },
    {
     "name": "stderr",
     "output_type": "stream",
     "text": [
      " 66%|█████████████████████████▋             | 1318/2000 [03:23<01:45,  6.48it/s]"
     ]
    },
    {
     "name": "stdout",
     "output_type": "stream",
     "text": [
      "18610\n",
      "75422\n",
      "Epoch 01316 | Loss 17.5898 | train_RMSE 1.9926 | test_RMSE 1.9863 \n",
      "18610\n",
      "75422\n",
      "Epoch 01317 | Loss 17.4464 | train_RMSE 1.9445 | test_RMSE 1.9451 \n"
     ]
    },
    {
     "name": "stderr",
     "output_type": "stream",
     "text": [
      " 66%|█████████████████████████▋             | 1320/2000 [03:23<01:44,  6.49it/s]"
     ]
    },
    {
     "name": "stdout",
     "output_type": "stream",
     "text": [
      "18610\n",
      "75422\n",
      "Epoch 01318 | Loss 17.3958 | train_RMSE 1.9734 | test_RMSE 1.9699 \n",
      "18610\n",
      "75422\n",
      "Epoch 01319 | Loss 17.2700 | train_RMSE 1.9450 | test_RMSE 1.9455 \n"
     ]
    },
    {
     "name": "stderr",
     "output_type": "stream",
     "text": [
      " 66%|█████████████████████████▊             | 1322/2000 [03:23<01:44,  6.49it/s]"
     ]
    },
    {
     "name": "stdout",
     "output_type": "stream",
     "text": [
      "18610\n",
      "75422\n",
      "Epoch 01320 | Loss 17.3517 | train_RMSE 1.9752 | test_RMSE 1.9696 \n",
      "18610\n",
      "75422\n",
      "Epoch 01321 | Loss 17.2789 | train_RMSE 1.9348 | test_RMSE 1.9330 \n"
     ]
    },
    {
     "name": "stderr",
     "output_type": "stream",
     "text": [
      " 66%|█████████████████████████▊             | 1324/2000 [03:24<01:44,  6.49it/s]"
     ]
    },
    {
     "name": "stdout",
     "output_type": "stream",
     "text": [
      "18610\n",
      "75422\n",
      "Epoch 01322 | Loss 17.4579 | train_RMSE 1.9414 | test_RMSE 1.9373 \n",
      "18610\n",
      "75422\n",
      "Epoch 01323 | Loss 17.3171 | train_RMSE 1.9447 | test_RMSE 1.9408 \n"
     ]
    },
    {
     "name": "stderr",
     "output_type": "stream",
     "text": [
      " 66%|█████████████████████████▊             | 1326/2000 [03:24<01:43,  6.49it/s]"
     ]
    },
    {
     "name": "stdout",
     "output_type": "stream",
     "text": [
      "18610\n",
      "75422\n",
      "Epoch 01324 | Loss 17.2433 | train_RMSE 1.9365 | test_RMSE 1.9356 \n",
      "18610\n",
      "75422\n",
      "Epoch 01325 | Loss 17.3365 | train_RMSE 1.9819 | test_RMSE 1.9753 \n"
     ]
    },
    {
     "name": "stderr",
     "output_type": "stream",
     "text": [
      " 66%|█████████████████████████▉             | 1328/2000 [03:24<01:43,  6.48it/s]"
     ]
    },
    {
     "name": "stdout",
     "output_type": "stream",
     "text": [
      "18610\n",
      "75422\n",
      "Epoch 01326 | Loss 17.4966 | train_RMSE 1.9359 | test_RMSE 1.9339 \n",
      "18610\n",
      "75422\n",
      "Epoch 01327 | Loss 17.3738 | train_RMSE 1.9539 | test_RMSE 1.9497 \n"
     ]
    },
    {
     "name": "stderr",
     "output_type": "stream",
     "text": [
      " 66%|█████████████████████████▉             | 1330/2000 [03:24<01:43,  6.45it/s]"
     ]
    },
    {
     "name": "stdout",
     "output_type": "stream",
     "text": [
      "18610\n",
      "75422\n",
      "Epoch 01328 | Loss 17.2638 | train_RMSE 1.9495 | test_RMSE 1.9490 \n",
      "18610\n",
      "75422\n",
      "Epoch 01329 | Loss 17.1207 | train_RMSE 1.9473 | test_RMSE 1.9447 \n"
     ]
    },
    {
     "name": "stderr",
     "output_type": "stream",
     "text": [
      " 67%|█████████████████████████▉             | 1332/2000 [03:25<01:43,  6.47it/s]"
     ]
    },
    {
     "name": "stdout",
     "output_type": "stream",
     "text": [
      "18610\n",
      "75422\n",
      "Epoch 01330 | Loss 17.3613 | train_RMSE 1.9520 | test_RMSE 1.9482 \n",
      "18610\n",
      "75422\n",
      "Epoch 01331 | Loss 17.3373 | train_RMSE 1.9383 | test_RMSE 1.9370 \n"
     ]
    },
    {
     "name": "stderr",
     "output_type": "stream",
     "text": [
      " 67%|██████████████████████████             | 1334/2000 [03:25<01:42,  6.48it/s]"
     ]
    },
    {
     "name": "stdout",
     "output_type": "stream",
     "text": [
      "18610\n",
      "75422\n",
      "Epoch 01332 | Loss 17.4625 | train_RMSE 1.9759 | test_RMSE 1.9711 \n",
      "18610\n",
      "75422\n",
      "Epoch 01333 | Loss 17.4931 | train_RMSE 1.9649 | test_RMSE 1.9681 \n"
     ]
    },
    {
     "name": "stderr",
     "output_type": "stream",
     "text": [
      " 67%|██████████████████████████             | 1336/2000 [03:25<01:42,  6.47it/s]"
     ]
    },
    {
     "name": "stdout",
     "output_type": "stream",
     "text": [
      "18610\n",
      "75422\n",
      "Epoch 01334 | Loss 17.5047 | train_RMSE 2.1059 | test_RMSE 2.0956 \n",
      "18610\n",
      "75422\n",
      "Epoch 01335 | Loss 17.9201 | train_RMSE 2.0988 | test_RMSE 2.0983 \n"
     ]
    },
    {
     "name": "stderr",
     "output_type": "stream",
     "text": [
      " 67%|██████████████████████████             | 1338/2000 [03:26<01:42,  6.48it/s]"
     ]
    },
    {
     "name": "stdout",
     "output_type": "stream",
     "text": [
      "18610\n",
      "75422\n",
      "Epoch 01336 | Loss 18.3065 | train_RMSE 2.4259 | test_RMSE 2.4134 \n",
      "18610\n",
      "75422\n",
      "Epoch 01337 | Loss 19.4466 | train_RMSE 2.5107 | test_RMSE 2.5251 \n"
     ]
    },
    {
     "name": "stderr",
     "output_type": "stream",
     "text": [
      " 67%|██████████████████████████▏            | 1340/2000 [03:26<01:41,  6.49it/s]"
     ]
    },
    {
     "name": "stdout",
     "output_type": "stream",
     "text": [
      "18610\n",
      "75422\n",
      "Epoch 01338 | Loss 20.4178 | train_RMSE 2.9787 | test_RMSE 2.9597 \n",
      "18610\n",
      "75422\n",
      "Epoch 01339 | Loss 22.0767 | train_RMSE 2.9323 | test_RMSE 2.9496 \n"
     ]
    },
    {
     "name": "stderr",
     "output_type": "stream",
     "text": [
      " 67%|██████████████████████████▏            | 1342/2000 [03:26<01:41,  6.49it/s]"
     ]
    },
    {
     "name": "stdout",
     "output_type": "stream",
     "text": [
      "18610\n",
      "75422\n",
      "Epoch 01340 | Loss 22.6752 | train_RMSE 3.1696 | test_RMSE 3.1521 \n",
      "18610\n",
      "75422\n",
      "Epoch 01341 | Loss 22.9910 | train_RMSE 2.7078 | test_RMSE 2.7175 \n"
     ]
    },
    {
     "name": "stderr",
     "output_type": "stream",
     "text": [
      " 67%|██████████████████████████▏            | 1344/2000 [03:27<01:41,  6.49it/s]"
     ]
    },
    {
     "name": "stdout",
     "output_type": "stream",
     "text": [
      "18610\n",
      "75422\n",
      "Epoch 01342 | Loss 21.0738 | train_RMSE 2.4284 | test_RMSE 2.4171 \n",
      "18610\n",
      "75422\n",
      "Epoch 01343 | Loss 19.2469 | train_RMSE 1.9733 | test_RMSE 1.9773 \n"
     ]
    },
    {
     "name": "stderr",
     "output_type": "stream",
     "text": [
      " 67%|██████████████████████████▏            | 1346/2000 [03:27<01:40,  6.48it/s]"
     ]
    },
    {
     "name": "stdout",
     "output_type": "stream",
     "text": [
      "18610\n",
      "75422\n",
      "Epoch 01344 | Loss 17.6556 | train_RMSE 1.9512 | test_RMSE 1.9535 \n",
      "18610\n",
      "75422\n",
      "Epoch 01345 | Loss 17.3046 | train_RMSE 2.2488 | test_RMSE 2.2395 \n"
     ]
    },
    {
     "name": "stderr",
     "output_type": "stream",
     "text": [
      " 67%|██████████████████████████▎            | 1348/2000 [03:27<01:40,  6.49it/s]"
     ]
    },
    {
     "name": "stdout",
     "output_type": "stream",
     "text": [
      "18610\n",
      "75422\n",
      "Epoch 01346 | Loss 18.3224 | train_RMSE 2.2964 | test_RMSE 2.3070 \n",
      "18610\n",
      "75422\n",
      "Epoch 01347 | Loss 18.9690 | train_RMSE 2.5126 | test_RMSE 2.4968 \n"
     ]
    },
    {
     "name": "stderr",
     "output_type": "stream",
     "text": [
      " 68%|██████████████████████████▎            | 1350/2000 [03:28<01:40,  6.49it/s]"
     ]
    },
    {
     "name": "stdout",
     "output_type": "stream",
     "text": [
      "18610\n",
      "75422\n",
      "Epoch 01348 | Loss 19.4109 | train_RMSE 2.2719 | test_RMSE 2.2870 \n",
      "18610\n",
      "75422\n",
      "Epoch 01349 | Loss 18.9764 | train_RMSE 2.2528 | test_RMSE 2.2425 \n"
     ]
    },
    {
     "name": "stderr",
     "output_type": "stream",
     "text": [
      " 68%|██████████████████████████▎            | 1352/2000 [03:28<01:39,  6.49it/s]"
     ]
    },
    {
     "name": "stdout",
     "output_type": "stream",
     "text": [
      "18610\n",
      "75422\n",
      "Epoch 01350 | Loss 18.4179 | train_RMSE 2.0054 | test_RMSE 2.0058 \n",
      "18610\n",
      "75422\n",
      "Epoch 01351 | Loss 17.7656 | train_RMSE 1.9566 | test_RMSE 1.9537 \n"
     ]
    },
    {
     "name": "stderr",
     "output_type": "stream",
     "text": [
      " 68%|██████████████████████████▍            | 1354/2000 [03:28<01:39,  6.49it/s]"
     ]
    },
    {
     "name": "stdout",
     "output_type": "stream",
     "text": [
      "18610\n",
      "75422\n",
      "Epoch 01352 | Loss 17.2767 | train_RMSE 1.9965 | test_RMSE 1.9934 \n",
      "18610\n",
      "75422\n",
      "Epoch 01353 | Loss 17.5389 | train_RMSE 2.0279 | test_RMSE 2.0353 \n"
     ]
    },
    {
     "name": "stderr",
     "output_type": "stream",
     "text": [
      " 68%|██████████████████████████▍            | 1356/2000 [03:28<01:39,  6.47it/s]"
     ]
    },
    {
     "name": "stdout",
     "output_type": "stream",
     "text": [
      "18610\n",
      "75422\n",
      "Epoch 01354 | Loss 17.7988 | train_RMSE 2.1989 | test_RMSE 2.1878 \n",
      "18610\n",
      "75422\n",
      "Epoch 01355 | Loss 17.9917 | train_RMSE 2.0683 | test_RMSE 2.0724 \n"
     ]
    },
    {
     "name": "stderr",
     "output_type": "stream",
     "text": [
      " 68%|██████████████████████████▍            | 1358/2000 [03:29<01:39,  6.48it/s]"
     ]
    },
    {
     "name": "stdout",
     "output_type": "stream",
     "text": [
      "18610\n",
      "75422\n",
      "Epoch 01356 | Loss 17.9796 | train_RMSE 2.1253 | test_RMSE 2.1145 \n",
      "18610\n",
      "75422\n",
      "Epoch 01357 | Loss 17.9320 | train_RMSE 1.9543 | test_RMSE 1.9571 \n"
     ]
    },
    {
     "name": "stderr",
     "output_type": "stream",
     "text": [
      " 68%|██████████████████████████▌            | 1360/2000 [03:29<01:38,  6.48it/s]"
     ]
    },
    {
     "name": "stdout",
     "output_type": "stream",
     "text": [
      "18610\n",
      "75422\n",
      "Epoch 01358 | Loss 17.4474 | train_RMSE 1.9289 | test_RMSE 1.9285 \n",
      "18610\n",
      "75422\n",
      "Epoch 01359 | Loss 17.1328 | train_RMSE 2.0789 | test_RMSE 2.0687 \n"
     ]
    },
    {
     "name": "stderr",
     "output_type": "stream",
     "text": [
      " 68%|██████████████████████████▌            | 1362/2000 [03:29<01:38,  6.49it/s]"
     ]
    },
    {
     "name": "stdout",
     "output_type": "stream",
     "text": [
      "18610\n",
      "75422\n",
      "Epoch 01360 | Loss 17.7969 | train_RMSE 2.1490 | test_RMSE 2.1533 \n",
      "18610\n",
      "75422\n",
      "Epoch 01361 | Loss 18.3840 | train_RMSE 2.3916 | test_RMSE 2.3778 \n"
     ]
    },
    {
     "name": "stderr",
     "output_type": "stream",
     "text": [
      " 68%|██████████████████████████▌            | 1364/2000 [03:30<01:38,  6.49it/s]"
     ]
    },
    {
     "name": "stdout",
     "output_type": "stream",
     "text": [
      "18610\n",
      "75422\n",
      "Epoch 01362 | Loss 18.8655 | train_RMSE 2.2341 | test_RMSE 2.2432 \n",
      "18610\n",
      "75422\n",
      "Epoch 01363 | Loss 18.6534 | train_RMSE 2.2036 | test_RMSE 2.1941 \n"
     ]
    },
    {
     "name": "stderr",
     "output_type": "stream",
     "text": [
      " 68%|██████████████████████████▋            | 1366/2000 [03:30<01:37,  6.49it/s]"
     ]
    },
    {
     "name": "stdout",
     "output_type": "stream",
     "text": [
      "18610\n",
      "75422\n",
      "Epoch 01364 | Loss 18.0347 | train_RMSE 1.9579 | test_RMSE 1.9612 \n",
      "18610\n",
      "75422\n",
      "Epoch 01365 | Loss 17.3029 | train_RMSE 1.9315 | test_RMSE 1.9322 \n"
     ]
    },
    {
     "name": "stderr",
     "output_type": "stream",
     "text": [
      " 68%|██████████████████████████▋            | 1368/2000 [03:30<01:37,  6.49it/s]"
     ]
    },
    {
     "name": "stdout",
     "output_type": "stream",
     "text": [
      "18610\n",
      "75422\n",
      "Epoch 01366 | Loss 17.3826 | train_RMSE 2.0514 | test_RMSE 2.0449 \n",
      "18610\n",
      "75422\n",
      "Epoch 01367 | Loss 17.5273 | train_RMSE 2.0673 | test_RMSE 2.0727 \n"
     ]
    },
    {
     "name": "stderr",
     "output_type": "stream",
     "text": [
      " 68%|██████████████████████████▋            | 1370/2000 [03:31<01:37,  6.49it/s]"
     ]
    },
    {
     "name": "stdout",
     "output_type": "stream",
     "text": [
      "18610\n",
      "75422\n",
      "Epoch 01368 | Loss 18.0254 | train_RMSE 2.2314 | test_RMSE 2.2208 \n",
      "18610\n",
      "75422\n",
      "Epoch 01369 | Loss 18.2239 | train_RMSE 2.0965 | test_RMSE 2.1020 \n"
     ]
    },
    {
     "name": "stderr",
     "output_type": "stream",
     "text": [
      " 69%|██████████████████████████▊            | 1372/2000 [03:31<01:36,  6.49it/s]"
     ]
    },
    {
     "name": "stdout",
     "output_type": "stream",
     "text": [
      "18610\n",
      "75422\n",
      "Epoch 01370 | Loss 18.1543 | train_RMSE 2.1585 | test_RMSE 2.1463 \n",
      "18610\n",
      "75422\n",
      "Epoch 01371 | Loss 17.8597 | train_RMSE 1.9881 | test_RMSE 1.9932 \n"
     ]
    },
    {
     "name": "stderr",
     "output_type": "stream",
     "text": [
      " 69%|██████████████████████████▊            | 1374/2000 [03:31<01:36,  6.48it/s]"
     ]
    },
    {
     "name": "stdout",
     "output_type": "stream",
     "text": [
      "18610\n",
      "75422\n",
      "Epoch 01372 | Loss 17.5142 | train_RMSE 1.9582 | test_RMSE 1.9521 \n",
      "18610\n",
      "75422\n",
      "Epoch 01373 | Loss 17.1891 | train_RMSE 1.9354 | test_RMSE 1.9315 \n"
     ]
    },
    {
     "name": "stderr",
     "output_type": "stream",
     "text": [
      " 69%|██████████████████████████▊            | 1376/2000 [03:32<01:36,  6.49it/s]"
     ]
    },
    {
     "name": "stdout",
     "output_type": "stream",
     "text": [
      "18610\n",
      "75422\n",
      "Epoch 01374 | Loss 17.2222 | train_RMSE 1.9369 | test_RMSE 1.9377 \n",
      "18610\n",
      "75422\n",
      "Epoch 01375 | Loss 17.4728 | train_RMSE 2.0613 | test_RMSE 2.0540 \n"
     ]
    },
    {
     "name": "stderr",
     "output_type": "stream",
     "text": [
      " 69%|██████████████████████████▊            | 1378/2000 [03:32<01:35,  6.49it/s]"
     ]
    },
    {
     "name": "stdout",
     "output_type": "stream",
     "text": [
      "18610\n",
      "75422\n",
      "Epoch 01376 | Loss 17.5579 | train_RMSE 2.0416 | test_RMSE 2.0503 \n",
      "18610\n",
      "75422\n",
      "Epoch 01377 | Loss 18.0200 | train_RMSE 2.2237 | test_RMSE 2.2126 \n"
     ]
    },
    {
     "name": "stderr",
     "output_type": "stream",
     "text": [
      " 69%|██████████████████████████▉            | 1380/2000 [03:32<01:35,  6.49it/s]"
     ]
    },
    {
     "name": "stdout",
     "output_type": "stream",
     "text": [
      "18610\n",
      "75422\n",
      "Epoch 01378 | Loss 18.0756 | train_RMSE 2.1530 | test_RMSE 2.1607 \n",
      "18610\n",
      "75422\n",
      "Epoch 01379 | Loss 18.3411 | train_RMSE 2.3694 | test_RMSE 2.3582 \n"
     ]
    },
    {
     "name": "stderr",
     "output_type": "stream",
     "text": [
      " 69%|██████████████████████████▉            | 1382/2000 [03:32<01:35,  6.49it/s]"
     ]
    },
    {
     "name": "stdout",
     "output_type": "stream",
     "text": [
      "18610\n",
      "75422\n",
      "Epoch 01380 | Loss 18.8675 | train_RMSE 2.2739 | test_RMSE 2.2807 \n",
      "18610\n",
      "75422\n",
      "Epoch 01381 | Loss 18.8521 | train_RMSE 2.4319 | test_RMSE 2.4180 \n"
     ]
    },
    {
     "name": "stderr",
     "output_type": "stream",
     "text": [
      " 69%|██████████████████████████▉            | 1384/2000 [03:33<01:35,  6.48it/s]"
     ]
    },
    {
     "name": "stdout",
     "output_type": "stream",
     "text": [
      "18610\n",
      "75422\n",
      "Epoch 01382 | Loss 18.9535 | train_RMSE 2.1498 | test_RMSE 2.1604 \n",
      "18610\n",
      "75422\n",
      "Epoch 01383 | Loss 18.4058 | train_RMSE 2.0868 | test_RMSE 2.0793 \n"
     ]
    },
    {
     "name": "stderr",
     "output_type": "stream",
     "text": [
      " 69%|███████████████████████████            | 1386/2000 [03:33<01:34,  6.48it/s]"
     ]
    },
    {
     "name": "stdout",
     "output_type": "stream",
     "text": [
      "18610\n",
      "75422\n",
      "Epoch 01384 | Loss 17.7475 | train_RMSE 1.9272 | test_RMSE 1.9275 \n",
      "18610\n",
      "75422\n",
      "Epoch 01385 | Loss 17.1629 | train_RMSE 1.9361 | test_RMSE 1.9366 \n"
     ]
    },
    {
     "name": "stderr",
     "output_type": "stream",
     "text": [
      " 69%|███████████████████████████            | 1388/2000 [03:33<01:34,  6.47it/s]"
     ]
    },
    {
     "name": "stdout",
     "output_type": "stream",
     "text": [
      "18610\n",
      "75422\n",
      "Epoch 01386 | Loss 17.2267 | train_RMSE 2.0616 | test_RMSE 2.0551 \n",
      "18610\n",
      "75422\n",
      "Epoch 01387 | Loss 17.8305 | train_RMSE 2.0754 | test_RMSE 2.0845 \n"
     ]
    },
    {
     "name": "stderr",
     "output_type": "stream",
     "text": [
      " 70%|███████████████████████████            | 1390/2000 [03:34<01:34,  6.48it/s]"
     ]
    },
    {
     "name": "stdout",
     "output_type": "stream",
     "text": [
      "18610\n",
      "75422\n",
      "Epoch 01388 | Loss 18.0094 | train_RMSE 2.2517 | test_RMSE 2.2394 \n",
      "18610\n",
      "75422\n",
      "Epoch 01389 | Loss 18.3540 | train_RMSE 2.1463 | test_RMSE 2.1511 \n"
     ]
    },
    {
     "name": "stderr",
     "output_type": "stream",
     "text": [
      " 70%|███████████████████████████▏           | 1392/2000 [03:34<01:33,  6.48it/s]"
     ]
    },
    {
     "name": "stdout",
     "output_type": "stream",
     "text": [
      "18610\n",
      "75422\n",
      "Epoch 01390 | Loss 18.2963 | train_RMSE 2.1940 | test_RMSE 2.1833 \n",
      "18610\n",
      "75422\n",
      "Epoch 01391 | Loss 18.0880 | train_RMSE 1.9981 | test_RMSE 2.0035 \n"
     ]
    },
    {
     "name": "stderr",
     "output_type": "stream",
     "text": [
      "\r",
      " 70%|███████████████████████████▏           | 1393/2000 [03:34<01:33,  6.48it/s]"
     ]
    },
    {
     "name": "stdout",
     "output_type": "stream",
     "text": [
      "18610\n",
      "75422\n",
      "Epoch 01392 | Loss 17.5581 | train_RMSE 1.9774 | test_RMSE 1.9703 \n",
      "18610\n",
      "75422\n",
      "Epoch 01393 | Loss 17.0362 | train_RMSE 1.9241 | test_RMSE 1.9192 \n"
     ]
    },
    {
     "name": "stderr",
     "output_type": "stream",
     "text": [
      " 70%|███████████████████████████▏           | 1396/2000 [03:35<01:33,  6.43it/s]"
     ]
    },
    {
     "name": "stdout",
     "output_type": "stream",
     "text": [
      "18610\n",
      "75422\n",
      "Epoch 01394 | Loss 17.1270 | train_RMSE 1.9251 | test_RMSE 1.9227 \n",
      "18610\n",
      "75422\n",
      "Epoch 01395 | Loss 17.0516 | train_RMSE 1.9976 | test_RMSE 1.9909 \n"
     ]
    },
    {
     "name": "stderr",
     "output_type": "stream",
     "text": [
      " 70%|███████████████████████████▎           | 1398/2000 [03:35<01:33,  6.47it/s]"
     ]
    },
    {
     "name": "stdout",
     "output_type": "stream",
     "text": [
      "18610\n",
      "75422\n",
      "Epoch 01396 | Loss 17.3201 | train_RMSE 1.9654 | test_RMSE 1.9683 \n",
      "18610\n",
      "75422\n",
      "Epoch 01397 | Loss 17.5535 | train_RMSE 2.0492 | test_RMSE 2.0408 \n"
     ]
    },
    {
     "name": "stderr",
     "output_type": "stream",
     "text": [
      " 70%|███████████████████████████▎           | 1400/2000 [03:35<01:32,  6.47it/s]"
     ]
    },
    {
     "name": "stdout",
     "output_type": "stream",
     "text": [
      "18610\n",
      "75422\n",
      "Epoch 01398 | Loss 17.5209 | train_RMSE 1.9817 | test_RMSE 1.9836 \n",
      "18610\n",
      "75422\n",
      "Epoch 01399 | Loss 17.5638 | train_RMSE 2.0306 | test_RMSE 2.0218 \n"
     ]
    },
    {
     "name": "stderr",
     "output_type": "stream",
     "text": [
      " 70%|███████████████████████████▎           | 1402/2000 [03:36<01:32,  6.48it/s]"
     ]
    },
    {
     "name": "stdout",
     "output_type": "stream",
     "text": [
      "18610\n",
      "75422\n",
      "Epoch 01400 | Loss 17.3569 | train_RMSE 1.9405 | test_RMSE 1.9409 \n",
      "18610\n",
      "75422\n",
      "Epoch 01401 | Loss 17.1626 | train_RMSE 1.9465 | test_RMSE 1.9421 \n"
     ]
    },
    {
     "name": "stderr",
     "output_type": "stream",
     "text": [
      " 70%|███████████████████████████▍           | 1404/2000 [03:36<01:31,  6.48it/s]"
     ]
    },
    {
     "name": "stdout",
     "output_type": "stream",
     "text": [
      "18610\n",
      "75422\n",
      "Epoch 01402 | Loss 17.1482 | train_RMSE 1.9378 | test_RMSE 1.9331 \n",
      "18610\n",
      "75422\n",
      "Epoch 01403 | Loss 17.1797 | train_RMSE 1.9516 | test_RMSE 1.9515 \n"
     ]
    },
    {
     "name": "stderr",
     "output_type": "stream",
     "text": [
      " 70%|███████████████████████████▍           | 1406/2000 [03:36<01:31,  6.49it/s]"
     ]
    },
    {
     "name": "stdout",
     "output_type": "stream",
     "text": [
      "18610\n",
      "75422\n",
      "Epoch 01404 | Loss 17.3529 | train_RMSE 2.0937 | test_RMSE 2.0848 \n",
      "18610\n",
      "75422\n",
      "Epoch 01405 | Loss 17.7174 | train_RMSE 2.0379 | test_RMSE 2.0436 \n"
     ]
    },
    {
     "name": "stderr",
     "output_type": "stream",
     "text": [
      " 70%|███████████████████████████▍           | 1408/2000 [03:37<01:31,  6.49it/s]"
     ]
    },
    {
     "name": "stdout",
     "output_type": "stream",
     "text": [
      "18610\n",
      "75422\n",
      "Epoch 01406 | Loss 17.6921 | train_RMSE 2.1772 | test_RMSE 2.1665 \n",
      "18610\n",
      "75422\n",
      "Epoch 01407 | Loss 18.0338 | train_RMSE 2.1513 | test_RMSE 2.1609 \n"
     ]
    },
    {
     "name": "stderr",
     "output_type": "stream",
     "text": [
      " 70%|███████████████████████████▍           | 1410/2000 [03:37<01:31,  6.48it/s]"
     ]
    },
    {
     "name": "stdout",
     "output_type": "stream",
     "text": [
      "18610\n",
      "75422\n",
      "Epoch 01408 | Loss 18.4450 | train_RMSE 2.3028 | test_RMSE 2.2911 \n",
      "18610\n",
      "75422\n",
      "Epoch 01409 | Loss 18.3317 | train_RMSE 2.1400 | test_RMSE 2.1459 \n"
     ]
    },
    {
     "name": "stderr",
     "output_type": "stream",
     "text": [
      " 71%|███████████████████████████▌           | 1412/2000 [03:37<01:30,  6.49it/s]"
     ]
    },
    {
     "name": "stdout",
     "output_type": "stream",
     "text": [
      "18610\n",
      "75422\n",
      "Epoch 01410 | Loss 18.1034 | train_RMSE 2.2021 | test_RMSE 2.1902 \n",
      "18610\n",
      "75422\n",
      "Epoch 01411 | Loss 18.0139 | train_RMSE 1.9941 | test_RMSE 1.9954 \n"
     ]
    },
    {
     "name": "stderr",
     "output_type": "stream",
     "text": [
      " 71%|███████████████████████████▌           | 1414/2000 [03:37<01:30,  6.48it/s]"
     ]
    },
    {
     "name": "stdout",
     "output_type": "stream",
     "text": [
      "18610\n",
      "75422\n",
      "Epoch 01412 | Loss 17.5536 | train_RMSE 1.9864 | test_RMSE 1.9783 \n",
      "18610\n",
      "75422\n",
      "Epoch 01413 | Loss 17.3715 | train_RMSE 1.9145 | test_RMSE 1.9124 \n"
     ]
    },
    {
     "name": "stderr",
     "output_type": "stream",
     "text": [
      " 71%|███████████████████████████▌           | 1416/2000 [03:38<01:30,  6.48it/s]"
     ]
    },
    {
     "name": "stdout",
     "output_type": "stream",
     "text": [
      "18610\n",
      "75422\n",
      "Epoch 01414 | Loss 17.3789 | train_RMSE 1.9167 | test_RMSE 1.9174 \n",
      "18610\n",
      "75422\n",
      "Epoch 01415 | Loss 17.0673 | train_RMSE 1.9817 | test_RMSE 1.9764 \n"
     ]
    },
    {
     "name": "stderr",
     "output_type": "stream",
     "text": [
      " 71%|███████████████████████████▋           | 1418/2000 [03:38<01:29,  6.48it/s]"
     ]
    },
    {
     "name": "stdout",
     "output_type": "stream",
     "text": [
      "18610\n",
      "75422\n",
      "Epoch 01416 | Loss 17.2630 | train_RMSE 1.9376 | test_RMSE 1.9377 \n",
      "18610\n",
      "75422\n",
      "Epoch 01417 | Loss 17.1904 | train_RMSE 2.0104 | test_RMSE 2.0044 \n"
     ]
    },
    {
     "name": "stderr",
     "output_type": "stream",
     "text": [
      " 71%|███████████████████████████▋           | 1420/2000 [03:38<01:30,  6.44it/s]"
     ]
    },
    {
     "name": "stdout",
     "output_type": "stream",
     "text": [
      "18610\n",
      "75422\n",
      "Epoch 01418 | Loss 17.3445 | train_RMSE 1.9822 | test_RMSE 1.9868 \n",
      "18610\n",
      "75422\n",
      "Epoch 01419 | Loss 17.5081 | train_RMSE 2.0514 | test_RMSE 2.0429 \n"
     ]
    },
    {
     "name": "stderr",
     "output_type": "stream",
     "text": [
      " 71%|███████████████████████████▋           | 1422/2000 [03:39<01:29,  6.46it/s]"
     ]
    },
    {
     "name": "stdout",
     "output_type": "stream",
     "text": [
      "18610\n",
      "75422\n",
      "Epoch 01420 | Loss 17.2888 | train_RMSE 2.0209 | test_RMSE 2.0242 \n",
      "18610\n",
      "75422\n",
      "Epoch 01421 | Loss 17.8089 | train_RMSE 2.2412 | test_RMSE 2.2314 \n"
     ]
    },
    {
     "name": "stderr",
     "output_type": "stream",
     "text": [
      " 71%|███████████████████████████▊           | 1424/2000 [03:39<01:28,  6.48it/s]"
     ]
    },
    {
     "name": "stdout",
     "output_type": "stream",
     "text": [
      "18610\n",
      "75422\n",
      "Epoch 01422 | Loss 18.1990 | train_RMSE 2.2879 | test_RMSE 2.3011 \n",
      "18610\n",
      "75422\n",
      "Epoch 01423 | Loss 18.9514 | train_RMSE 2.6673 | test_RMSE 2.6512 \n"
     ]
    },
    {
     "name": "stderr",
     "output_type": "stream",
     "text": [
      " 71%|███████████████████████████▊           | 1426/2000 [03:39<01:28,  6.48it/s]"
     ]
    },
    {
     "name": "stdout",
     "output_type": "stream",
     "text": [
      "18610\n",
      "75422\n",
      "Epoch 01424 | Loss 20.0026 | train_RMSE 2.6311 | test_RMSE 2.6412 \n",
      "18610\n",
      "75422\n",
      "Epoch 01425 | Loss 20.9509 | train_RMSE 3.0142 | test_RMSE 3.0001 \n"
     ]
    },
    {
     "name": "stderr",
     "output_type": "stream",
     "text": [
      " 71%|███████████████████████████▊           | 1428/2000 [03:40<01:28,  6.48it/s]"
     ]
    },
    {
     "name": "stdout",
     "output_type": "stream",
     "text": [
      "18610\n",
      "75422\n",
      "Epoch 01426 | Loss 22.1599 | train_RMSE 2.9583 | test_RMSE 2.9707 \n",
      "18610\n",
      "75422\n",
      "Epoch 01427 | Loss 22.3953 | train_RMSE 3.2881 | test_RMSE 3.2670 \n"
     ]
    },
    {
     "name": "stderr",
     "output_type": "stream",
     "text": [
      " 72%|███████████████████████████▉           | 1430/2000 [03:40<01:27,  6.49it/s]"
     ]
    },
    {
     "name": "stdout",
     "output_type": "stream",
     "text": [
      "18610\n",
      "75422\n",
      "Epoch 01428 | Loss 23.4805 | train_RMSE 2.8012 | test_RMSE 2.8173 \n",
      "18610\n",
      "75422\n",
      "Epoch 01429 | Loss 21.7121 | train_RMSE 2.6286 | test_RMSE 2.6158 \n"
     ]
    },
    {
     "name": "stderr",
     "output_type": "stream",
     "text": [
      " 72%|███████████████████████████▉           | 1432/2000 [03:40<01:27,  6.49it/s]"
     ]
    },
    {
     "name": "stdout",
     "output_type": "stream",
     "text": [
      "18610\n",
      "75422\n",
      "Epoch 01430 | Loss 19.7959 | train_RMSE 2.0943 | test_RMSE 2.0987 \n",
      "18610\n",
      "75422\n",
      "Epoch 01431 | Loss 17.8249 | train_RMSE 1.9462 | test_RMSE 1.9425 \n"
     ]
    },
    {
     "name": "stderr",
     "output_type": "stream",
     "text": [
      " 72%|███████████████████████████▉           | 1434/2000 [03:41<01:27,  6.49it/s]"
     ]
    },
    {
     "name": "stdout",
     "output_type": "stream",
     "text": [
      "18610\n",
      "75422\n",
      "Epoch 01432 | Loss 17.0761 | train_RMSE 2.0037 | test_RMSE 1.9967 \n",
      "18610\n",
      "75422\n",
      "Epoch 01433 | Loss 17.3166 | train_RMSE 2.0698 | test_RMSE 2.0765 \n"
     ]
    },
    {
     "name": "stderr",
     "output_type": "stream",
     "text": [
      " 72%|████████████████████████████           | 1436/2000 [03:41<01:27,  6.48it/s]"
     ]
    },
    {
     "name": "stdout",
     "output_type": "stream",
     "text": [
      "18610\n",
      "75422\n",
      "Epoch 01434 | Loss 18.0478 | train_RMSE 2.2576 | test_RMSE 2.2473 \n",
      "18610\n",
      "75422\n",
      "Epoch 01435 | Loss 18.1493 | train_RMSE 2.0958 | test_RMSE 2.0990 \n"
     ]
    },
    {
     "name": "stderr",
     "output_type": "stream",
     "text": [
      " 72%|████████████████████████████           | 1438/2000 [03:41<01:26,  6.48it/s]"
     ]
    },
    {
     "name": "stdout",
     "output_type": "stream",
     "text": [
      "18610\n",
      "75422\n",
      "Epoch 01436 | Loss 17.9569 | train_RMSE 2.1481 | test_RMSE 2.1410 \n",
      "18610\n",
      "75422\n",
      "Epoch 01437 | Loss 17.6914 | train_RMSE 1.9826 | test_RMSE 1.9872 \n"
     ]
    },
    {
     "name": "stderr",
     "output_type": "stream",
     "text": [
      " 72%|████████████████████████████           | 1440/2000 [03:41<01:26,  6.49it/s]"
     ]
    },
    {
     "name": "stdout",
     "output_type": "stream",
     "text": [
      "18610\n",
      "75422\n",
      "Epoch 01438 | Loss 17.3235 | train_RMSE 1.9740 | test_RMSE 1.9685 \n",
      "18610\n",
      "75422\n",
      "Epoch 01439 | Loss 17.0882 | train_RMSE 1.9368 | test_RMSE 1.9337 \n"
     ]
    },
    {
     "name": "stderr",
     "output_type": "stream",
     "text": [
      " 72%|████████████████████████████           | 1442/2000 [03:42<01:26,  6.48it/s]"
     ]
    },
    {
     "name": "stdout",
     "output_type": "stream",
     "text": [
      "18610\n",
      "75422\n",
      "Epoch 01440 | Loss 17.1230 | train_RMSE 1.9402 | test_RMSE 1.9411 \n",
      "18610\n",
      "75422\n",
      "Epoch 01441 | Loss 17.1505 | train_RMSE 2.0217 | test_RMSE 2.0156 \n"
     ]
    },
    {
     "name": "stderr",
     "output_type": "stream",
     "text": [
      " 72%|████████████████████████████▏          | 1444/2000 [03:42<01:25,  6.49it/s]"
     ]
    },
    {
     "name": "stdout",
     "output_type": "stream",
     "text": [
      "18610\n",
      "75422\n",
      "Epoch 01442 | Loss 17.3487 | train_RMSE 1.9563 | test_RMSE 1.9609 \n",
      "18610\n",
      "75422\n",
      "Epoch 01443 | Loss 17.3643 | train_RMSE 1.9962 | test_RMSE 1.9910 \n"
     ]
    },
    {
     "name": "stderr",
     "output_type": "stream",
     "text": [
      " 72%|████████████████████████████▏          | 1446/2000 [03:42<01:25,  6.48it/s]"
     ]
    },
    {
     "name": "stdout",
     "output_type": "stream",
     "text": [
      "18610\n",
      "75422\n",
      "Epoch 01444 | Loss 17.1514 | train_RMSE 1.9172 | test_RMSE 1.9170 \n",
      "18610\n",
      "75422\n",
      "Epoch 01445 | Loss 17.1862 | train_RMSE 1.9157 | test_RMSE 1.9115 \n"
     ]
    },
    {
     "name": "stderr",
     "output_type": "stream",
     "text": [
      " 72%|████████████████████████████▏          | 1448/2000 [03:43<01:25,  6.48it/s]"
     ]
    },
    {
     "name": "stdout",
     "output_type": "stream",
     "text": [
      "18610\n",
      "75422\n",
      "Epoch 01446 | Loss 17.2537 | train_RMSE 1.9321 | test_RMSE 1.9264 \n",
      "18610\n",
      "75422\n",
      "Epoch 01447 | Loss 17.1477 | train_RMSE 1.9217 | test_RMSE 1.9207 \n"
     ]
    },
    {
     "name": "stderr",
     "output_type": "stream",
     "text": [
      " 72%|████████████████████████████▎          | 1450/2000 [03:43<01:24,  6.48it/s]"
     ]
    },
    {
     "name": "stdout",
     "output_type": "stream",
     "text": [
      "18610\n",
      "75422\n",
      "Epoch 01448 | Loss 17.0711 | train_RMSE 1.9816 | test_RMSE 1.9748 \n",
      "18610\n",
      "75422\n",
      "Epoch 01449 | Loss 17.3369 | train_RMSE 1.9402 | test_RMSE 1.9417 \n"
     ]
    },
    {
     "name": "stderr",
     "output_type": "stream",
     "text": [
      " 73%|████████████████████████████▎          | 1452/2000 [03:43<01:24,  6.48it/s]"
     ]
    },
    {
     "name": "stdout",
     "output_type": "stream",
     "text": [
      "18610\n",
      "75422\n",
      "Epoch 01450 | Loss 17.2754 | train_RMSE 1.9582 | test_RMSE 1.9531 \n",
      "18610\n",
      "75422\n",
      "Epoch 01451 | Loss 17.1884 | train_RMSE 1.9136 | test_RMSE 1.9146 \n"
     ]
    },
    {
     "name": "stderr",
     "output_type": "stream",
     "text": [
      " 73%|████████████████████████████▎          | 1454/2000 [03:44<01:24,  6.48it/s]"
     ]
    },
    {
     "name": "stdout",
     "output_type": "stream",
     "text": [
      "18610\n",
      "75422\n",
      "Epoch 01452 | Loss 17.1019 | train_RMSE 1.9158 | test_RMSE 1.9138 \n",
      "18610\n",
      "75422\n",
      "Epoch 01453 | Loss 17.0678 | train_RMSE 1.9225 | test_RMSE 1.9179 \n"
     ]
    },
    {
     "name": "stderr",
     "output_type": "stream",
     "text": [
      " 73%|████████████████████████████▍          | 1456/2000 [03:44<01:24,  6.46it/s]"
     ]
    },
    {
     "name": "stdout",
     "output_type": "stream",
     "text": [
      "18610\n",
      "75422\n",
      "Epoch 01454 | Loss 16.7899 | train_RMSE 1.9211 | test_RMSE 1.9203 \n",
      "18610\n",
      "75422\n",
      "Epoch 01455 | Loss 17.1823 | train_RMSE 2.0652 | test_RMSE 2.0564 \n"
     ]
    },
    {
     "name": "stderr",
     "output_type": "stream",
     "text": [
      " 73%|████████████████████████████▍          | 1458/2000 [03:44<01:23,  6.47it/s]"
     ]
    },
    {
     "name": "stdout",
     "output_type": "stream",
     "text": [
      "18610\n",
      "75422\n",
      "Epoch 01456 | Loss 17.5767 | train_RMSE 2.0790 | test_RMSE 2.0871 \n",
      "18610\n",
      "75422\n",
      "Epoch 01457 | Loss 17.9191 | train_RMSE 2.2365 | test_RMSE 2.2264 \n"
     ]
    },
    {
     "name": "stderr",
     "output_type": "stream",
     "text": [
      " 73%|████████████████████████████▍          | 1460/2000 [03:45<01:23,  6.48it/s]"
     ]
    },
    {
     "name": "stdout",
     "output_type": "stream",
     "text": [
      "18610\n",
      "75422\n",
      "Epoch 01458 | Loss 18.1433 | train_RMSE 2.1103 | test_RMSE 2.1188 \n",
      "18610\n",
      "75422\n",
      "Epoch 01459 | Loss 18.0130 | train_RMSE 2.2181 | test_RMSE 2.2079 \n"
     ]
    },
    {
     "name": "stderr",
     "output_type": "stream",
     "text": [
      " 73%|████████████████████████████▌          | 1462/2000 [03:45<01:23,  6.48it/s]"
     ]
    },
    {
     "name": "stdout",
     "output_type": "stream",
     "text": [
      "18610\n",
      "75422\n",
      "Epoch 01460 | Loss 18.0856 | train_RMSE 2.0569 | test_RMSE 2.0668 \n",
      "18610\n",
      "75422\n",
      "Epoch 01461 | Loss 17.6230 | train_RMSE 2.0716 | test_RMSE 2.0635 \n"
     ]
    },
    {
     "name": "stderr",
     "output_type": "stream",
     "text": [
      " 73%|████████████████████████████▌          | 1464/2000 [03:45<01:22,  6.48it/s]"
     ]
    },
    {
     "name": "stdout",
     "output_type": "stream",
     "text": [
      "18610\n",
      "75422\n",
      "Epoch 01462 | Loss 17.5556 | train_RMSE 1.9356 | test_RMSE 1.9349 \n",
      "18610\n",
      "75422\n",
      "Epoch 01463 | Loss 17.1517 | train_RMSE 1.9210 | test_RMSE 1.9178 \n"
     ]
    },
    {
     "name": "stderr",
     "output_type": "stream",
     "text": [
      " 73%|████████████████████████████▌          | 1466/2000 [03:45<01:22,  6.46it/s]"
     ]
    },
    {
     "name": "stdout",
     "output_type": "stream",
     "text": [
      "18610\n",
      "75422\n",
      "Epoch 01464 | Loss 16.7882 | train_RMSE 1.9312 | test_RMSE 1.9296 \n",
      "18610\n",
      "75422\n",
      "Epoch 01465 | Loss 16.9727 | train_RMSE 1.9545 | test_RMSE 1.9630 \n"
     ]
    },
    {
     "name": "stderr",
     "output_type": "stream",
     "text": [
      " 73%|████████████████████████████▋          | 1468/2000 [03:46<01:22,  6.47it/s]"
     ]
    },
    {
     "name": "stdout",
     "output_type": "stream",
     "text": [
      "18610\n",
      "75422\n",
      "Epoch 01466 | Loss 17.0126 | train_RMSE 2.0986 | test_RMSE 2.0889 \n",
      "18610\n",
      "75422\n",
      "Epoch 01467 | Loss 17.5084 | train_RMSE 2.0767 | test_RMSE 2.0787 \n"
     ]
    },
    {
     "name": "stderr",
     "output_type": "stream",
     "text": [
      " 74%|████████████████████████████▋          | 1470/2000 [03:46<01:21,  6.48it/s]"
     ]
    },
    {
     "name": "stdout",
     "output_type": "stream",
     "text": [
      "18610\n",
      "75422\n",
      "Epoch 01468 | Loss 17.8160 | train_RMSE 2.2474 | test_RMSE 2.2369 \n",
      "18610\n",
      "75422\n",
      "Epoch 01469 | Loss 18.1262 | train_RMSE 2.1600 | test_RMSE 2.1667 \n"
     ]
    },
    {
     "name": "stderr",
     "output_type": "stream",
     "text": [
      " 74%|████████████████████████████▋          | 1472/2000 [03:46<01:21,  6.48it/s]"
     ]
    },
    {
     "name": "stdout",
     "output_type": "stream",
     "text": [
      "18610\n",
      "75422\n",
      "Epoch 01470 | Loss 17.8334 | train_RMSE 2.2986 | test_RMSE 2.2859 \n",
      "18610\n",
      "75422\n",
      "Epoch 01471 | Loss 18.2864 | train_RMSE 2.1180 | test_RMSE 2.1271 \n"
     ]
    },
    {
     "name": "stderr",
     "output_type": "stream",
     "text": [
      " 74%|████████████████████████████▋          | 1474/2000 [03:47<01:21,  6.48it/s]"
     ]
    },
    {
     "name": "stdout",
     "output_type": "stream",
     "text": [
      "18610\n",
      "75422\n",
      "Epoch 01472 | Loss 18.1115 | train_RMSE 2.1588 | test_RMSE 2.1503 \n",
      "18610\n",
      "75422\n",
      "Epoch 01473 | Loss 17.5524 | train_RMSE 1.9934 | test_RMSE 1.9998 \n"
     ]
    },
    {
     "name": "stderr",
     "output_type": "stream",
     "text": [
      " 74%|████████████████████████████▊          | 1476/2000 [03:47<01:20,  6.47it/s]"
     ]
    },
    {
     "name": "stdout",
     "output_type": "stream",
     "text": [
      "18610\n",
      "75422\n",
      "Epoch 01474 | Loss 17.7222 | train_RMSE 2.0548 | test_RMSE 2.0492 \n",
      "18610\n",
      "75422\n",
      "Epoch 01475 | Loss 17.3116 | train_RMSE 1.9893 | test_RMSE 1.9936 \n"
     ]
    },
    {
     "name": "stderr",
     "output_type": "stream",
     "text": [
      " 74%|████████████████████████████▊          | 1478/2000 [03:47<01:20,  6.48it/s]"
     ]
    },
    {
     "name": "stdout",
     "output_type": "stream",
     "text": [
      "18610\n",
      "75422\n",
      "Epoch 01476 | Loss 17.2971 | train_RMSE 2.0817 | test_RMSE 2.0720 \n",
      "18610\n",
      "75422\n",
      "Epoch 01477 | Loss 17.2687 | train_RMSE 1.9760 | test_RMSE 1.9801 \n"
     ]
    },
    {
     "name": "stderr",
     "output_type": "stream",
     "text": [
      " 74%|████████████████████████████▊          | 1480/2000 [03:48<01:20,  6.47it/s]"
     ]
    },
    {
     "name": "stdout",
     "output_type": "stream",
     "text": [
      "18610\n",
      "75422\n",
      "Epoch 01478 | Loss 17.3757 | train_RMSE 2.0342 | test_RMSE 2.0257 \n",
      "18610\n",
      "75422\n",
      "Epoch 01479 | Loss 16.9868 | train_RMSE 1.9665 | test_RMSE 1.9692 \n"
     ]
    },
    {
     "name": "stderr",
     "output_type": "stream",
     "text": [
      " 74%|████████████████████████████▉          | 1482/2000 [03:48<01:19,  6.48it/s]"
     ]
    },
    {
     "name": "stdout",
     "output_type": "stream",
     "text": [
      "18610\n",
      "75422\n",
      "Epoch 01480 | Loss 17.1262 | train_RMSE 2.0075 | test_RMSE 1.9993 \n",
      "18610\n",
      "75422\n",
      "Epoch 01481 | Loss 17.1861 | train_RMSE 1.9350 | test_RMSE 1.9404 \n"
     ]
    },
    {
     "name": "stderr",
     "output_type": "stream",
     "text": [
      " 74%|████████████████████████████▉          | 1484/2000 [03:48<01:19,  6.48it/s]"
     ]
    },
    {
     "name": "stdout",
     "output_type": "stream",
     "text": [
      "18610\n",
      "75422\n",
      "Epoch 01482 | Loss 16.9570 | train_RMSE 1.9444 | test_RMSE 1.9405 \n",
      "18610\n",
      "75422\n",
      "Epoch 01483 | Loss 17.0628 | train_RMSE 1.9107 | test_RMSE 1.9094 \n"
     ]
    },
    {
     "name": "stderr",
     "output_type": "stream",
     "text": [
      " 74%|████████████████████████████▉          | 1486/2000 [03:49<01:19,  6.48it/s]"
     ]
    },
    {
     "name": "stdout",
     "output_type": "stream",
     "text": [
      "18610\n",
      "75422\n",
      "Epoch 01484 | Loss 17.0698 | train_RMSE 1.9299 | test_RMSE 1.9270 \n",
      "18610\n",
      "75422\n",
      "Epoch 01485 | Loss 16.9691 | train_RMSE 1.9154 | test_RMSE 1.9139 \n"
     ]
    },
    {
     "name": "stderr",
     "output_type": "stream",
     "text": [
      " 74%|█████████████████████████████          | 1488/2000 [03:49<01:19,  6.48it/s]"
     ]
    },
    {
     "name": "stdout",
     "output_type": "stream",
     "text": [
      "18610\n",
      "75422\n",
      "Epoch 01486 | Loss 16.7924 | train_RMSE 1.9146 | test_RMSE 1.9145 \n",
      "18610\n",
      "75422\n",
      "Epoch 01487 | Loss 17.0190 | train_RMSE 1.9080 | test_RMSE 1.9072 \n"
     ]
    },
    {
     "name": "stderr",
     "output_type": "stream",
     "text": [
      " 74%|█████████████████████████████          | 1490/2000 [03:49<01:18,  6.48it/s]"
     ]
    },
    {
     "name": "stdout",
     "output_type": "stream",
     "text": [
      "18610\n",
      "75422\n",
      "Epoch 01488 | Loss 16.9191 | train_RMSE 1.9168 | test_RMSE 1.9135 \n",
      "18610\n",
      "75422\n",
      "Epoch 01489 | Loss 17.0129 | train_RMSE 1.9145 | test_RMSE 1.9145 \n"
     ]
    },
    {
     "name": "stderr",
     "output_type": "stream",
     "text": [
      " 75%|█████████████████████████████          | 1492/2000 [03:49<01:18,  6.48it/s]"
     ]
    },
    {
     "name": "stdout",
     "output_type": "stream",
     "text": [
      "18610\n",
      "75422\n",
      "Epoch 01490 | Loss 16.9516 | train_RMSE 2.0730 | test_RMSE 2.0653 \n",
      "18610\n",
      "75422\n",
      "Epoch 01491 | Loss 17.6528 | train_RMSE 2.1025 | test_RMSE 2.1073 \n"
     ]
    },
    {
     "name": "stderr",
     "output_type": "stream",
     "text": [
      " 75%|█████████████████████████████▏         | 1494/2000 [03:50<01:18,  6.48it/s]"
     ]
    },
    {
     "name": "stdout",
     "output_type": "stream",
     "text": [
      "18610\n",
      "75422\n",
      "Epoch 01492 | Loss 17.9011 | train_RMSE 2.3518 | test_RMSE 2.3401 \n",
      "18610\n",
      "75422\n",
      "Epoch 01493 | Loss 18.5389 | train_RMSE 2.4047 | test_RMSE 2.4177 \n"
     ]
    },
    {
     "name": "stderr",
     "output_type": "stream",
     "text": [
      " 75%|█████████████████████████████▏         | 1496/2000 [03:50<01:17,  6.48it/s]"
     ]
    },
    {
     "name": "stdout",
     "output_type": "stream",
     "text": [
      "18610\n",
      "75422\n",
      "Epoch 01494 | Loss 19.5424 | train_RMSE 2.8434 | test_RMSE 2.8269 \n",
      "18610\n",
      "75422\n",
      "Epoch 01495 | Loss 21.0034 | train_RMSE 2.9675 | test_RMSE 2.9879 \n"
     ]
    },
    {
     "name": "stderr",
     "output_type": "stream",
     "text": [
      " 75%|█████████████████████████████▏         | 1498/2000 [03:50<01:17,  6.47it/s]"
     ]
    },
    {
     "name": "stdout",
     "output_type": "stream",
     "text": [
      "18610\n",
      "75422\n",
      "Epoch 01496 | Loss 22.6041 | train_RMSE 3.5970 | test_RMSE 3.5811 \n",
      "18610\n",
      "75422\n",
      "Epoch 01497 | Loss 25.6408 | train_RMSE 3.5142 | test_RMSE 3.5288 \n"
     ]
    },
    {
     "name": "stderr",
     "output_type": "stream",
     "text": [
      " 75%|█████████████████████████████▎         | 1500/2000 [03:51<01:17,  6.47it/s]"
     ]
    },
    {
     "name": "stdout",
     "output_type": "stream",
     "text": [
      "18610\n",
      "75422\n",
      "Epoch 01498 | Loss 26.2357 | train_RMSE 3.8602 | test_RMSE 3.8450 \n",
      "18610\n",
      "75422\n",
      "Epoch 01499 | Loss 27.4354 | train_RMSE 3.3343 | test_RMSE 3.3561 \n"
     ]
    },
    {
     "name": "stderr",
     "output_type": "stream",
     "text": [
      " 75%|█████████████████████████████▎         | 1502/2000 [03:51<01:16,  6.49it/s]"
     ]
    },
    {
     "name": "stdout",
     "output_type": "stream",
     "text": [
      "18610\n",
      "75422\n",
      "Epoch 01500 | Loss 24.9918 | train_RMSE 3.1346 | test_RMSE 3.1203 \n",
      "18610\n",
      "75422\n",
      "Epoch 01501 | Loss 22.7258 | train_RMSE 2.3855 | test_RMSE 2.3973 \n"
     ]
    },
    {
     "name": "stderr",
     "output_type": "stream",
     "text": [
      " 75%|█████████████████████████████▎         | 1504/2000 [03:51<01:16,  6.48it/s]"
     ]
    },
    {
     "name": "stdout",
     "output_type": "stream",
     "text": [
      "18610\n",
      "75422\n",
      "Epoch 01502 | Loss 19.3377 | train_RMSE 2.0294 | test_RMSE 2.0268 \n",
      "18610\n",
      "75422\n",
      "Epoch 01503 | Loss 17.3368 | train_RMSE 2.0037 | test_RMSE 2.0006 \n"
     ]
    },
    {
     "name": "stderr",
     "output_type": "stream",
     "text": [
      " 75%|█████████████████████████████▎         | 1506/2000 [03:52<01:16,  6.48it/s]"
     ]
    },
    {
     "name": "stdout",
     "output_type": "stream",
     "text": [
      "18610\n",
      "75422\n",
      "Epoch 01504 | Loss 17.1571 | train_RMSE 2.3003 | test_RMSE 2.3128 \n",
      "18610\n",
      "75422\n",
      "Epoch 01505 | Loss 18.9957 | train_RMSE 2.8274 | test_RMSE 2.8128 \n"
     ]
    },
    {
     "name": "stderr",
     "output_type": "stream",
     "text": [
      " 75%|█████████████████████████████▍         | 1508/2000 [03:52<01:15,  6.48it/s]"
     ]
    },
    {
     "name": "stdout",
     "output_type": "stream",
     "text": [
      "18610\n",
      "75422\n",
      "Epoch 01506 | Loss 21.0652 | train_RMSE 2.7401 | test_RMSE 2.7493 \n",
      "18610\n",
      "75422\n",
      "Epoch 01507 | Loss 21.0451 | train_RMSE 2.7363 | test_RMSE 2.7240 \n"
     ]
    },
    {
     "name": "stderr",
     "output_type": "stream",
     "text": [
      " 76%|█████████████████████████████▍         | 1510/2000 [03:52<01:15,  6.47it/s]"
     ]
    },
    {
     "name": "stdout",
     "output_type": "stream",
     "text": [
      "18610\n",
      "75422\n",
      "Epoch 01508 | Loss 20.4781 | train_RMSE 2.1967 | test_RMSE 2.2096 \n",
      "18610\n",
      "75422\n",
      "Epoch 01509 | Loss 18.4402 | train_RMSE 1.9877 | test_RMSE 1.9833 \n"
     ]
    },
    {
     "name": "stderr",
     "output_type": "stream",
     "text": [
      " 76%|█████████████████████████████▍         | 1512/2000 [03:53<01:15,  6.47it/s]"
     ]
    },
    {
     "name": "stdout",
     "output_type": "stream",
     "text": [
      "18610\n",
      "75422\n",
      "Epoch 01510 | Loss 16.9903 | train_RMSE 1.9881 | test_RMSE 1.9825 \n",
      "18610\n",
      "75422\n",
      "Epoch 01511 | Loss 17.0890 | train_RMSE 2.0751 | test_RMSE 2.0812 \n"
     ]
    },
    {
     "name": "stderr",
     "output_type": "stream",
     "text": [
      " 76%|█████████████████████████████▌         | 1514/2000 [03:53<01:15,  6.48it/s]"
     ]
    },
    {
     "name": "stdout",
     "output_type": "stream",
     "text": [
      "18610\n",
      "75422\n",
      "Epoch 01512 | Loss 17.7638 | train_RMSE 2.2731 | test_RMSE 2.2623 \n",
      "18610\n",
      "75422\n",
      "Epoch 01513 | Loss 18.0472 | train_RMSE 2.0620 | test_RMSE 2.0714 \n"
     ]
    },
    {
     "name": "stderr",
     "output_type": "stream",
     "text": [
      " 76%|█████████████████████████████▌         | 1516/2000 [03:53<01:14,  6.47it/s]"
     ]
    },
    {
     "name": "stdout",
     "output_type": "stream",
     "text": [
      "18610\n",
      "75422\n",
      "Epoch 01514 | Loss 17.7569 | train_RMSE 2.0332 | test_RMSE 2.0256 \n",
      "18610\n",
      "75422\n",
      "Epoch 01515 | Loss 17.0463 | train_RMSE 1.9112 | test_RMSE 1.9104 \n"
     ]
    },
    {
     "name": "stderr",
     "output_type": "stream",
     "text": [
      " 76%|█████████████████████████████▌         | 1518/2000 [03:53<01:14,  6.47it/s]"
     ]
    },
    {
     "name": "stdout",
     "output_type": "stream",
     "text": [
      "18610\n",
      "75422\n",
      "Epoch 01516 | Loss 17.0365 | train_RMSE 1.9279 | test_RMSE 1.9320 \n",
      "18610\n",
      "75422\n",
      "Epoch 01517 | Loss 17.2877 | train_RMSE 2.0887 | test_RMSE 2.0817 \n"
     ]
    },
    {
     "name": "stderr",
     "output_type": "stream",
     "text": [
      " 76%|█████████████████████████████▋         | 1520/2000 [03:54<01:14,  6.48it/s]"
     ]
    },
    {
     "name": "stdout",
     "output_type": "stream",
     "text": [
      "18610\n",
      "75422\n",
      "Epoch 01518 | Loss 17.7014 | train_RMSE 2.0952 | test_RMSE 2.1035 \n",
      "18610\n",
      "75422\n",
      "Epoch 01519 | Loss 17.8533 | train_RMSE 2.2057 | test_RMSE 2.1961 \n"
     ]
    },
    {
     "name": "stderr",
     "output_type": "stream",
     "text": [
      " 76%|█████████████████████████████▋         | 1522/2000 [03:54<01:13,  6.48it/s]"
     ]
    },
    {
     "name": "stdout",
     "output_type": "stream",
     "text": [
      "18610\n",
      "75422\n",
      "Epoch 01520 | Loss 18.0035 | train_RMSE 2.0398 | test_RMSE 2.0443 \n",
      "18610\n",
      "75422\n",
      "Epoch 01521 | Loss 17.6220 | train_RMSE 2.0116 | test_RMSE 2.0053 \n"
     ]
    },
    {
     "name": "stderr",
     "output_type": "stream",
     "text": [
      " 76%|█████████████████████████████▋         | 1524/2000 [03:54<01:13,  6.48it/s]"
     ]
    },
    {
     "name": "stdout",
     "output_type": "stream",
     "text": [
      "18610\n",
      "75422\n",
      "Epoch 01522 | Loss 17.2396 | train_RMSE 1.9178 | test_RMSE 1.9174 \n",
      "18610\n",
      "75422\n",
      "Epoch 01523 | Loss 16.9799 | train_RMSE 1.9078 | test_RMSE 1.9067 \n"
     ]
    },
    {
     "name": "stderr",
     "output_type": "stream",
     "text": [
      " 76%|█████████████████████████████▊         | 1526/2000 [03:55<01:13,  6.48it/s]"
     ]
    },
    {
     "name": "stdout",
     "output_type": "stream",
     "text": [
      "18610\n",
      "75422\n",
      "Epoch 01524 | Loss 16.8977 | train_RMSE 1.9631 | test_RMSE 1.9574 \n",
      "18610\n",
      "75422\n",
      "Epoch 01525 | Loss 16.9621 | train_RMSE 1.9444 | test_RMSE 1.9513 \n"
     ]
    },
    {
     "name": "stderr",
     "output_type": "stream",
     "text": [
      " 76%|█████████████████████████████▊         | 1528/2000 [03:55<01:12,  6.48it/s]"
     ]
    },
    {
     "name": "stdout",
     "output_type": "stream",
     "text": [
      "18610\n",
      "75422\n",
      "Epoch 01526 | Loss 17.2580 | train_RMSE 2.0509 | test_RMSE 2.0443 \n",
      "18610\n",
      "75422\n",
      "Epoch 01527 | Loss 17.2692 | train_RMSE 1.9605 | test_RMSE 1.9639 \n"
     ]
    },
    {
     "name": "stderr",
     "output_type": "stream",
     "text": [
      " 76%|█████████████████████████████▊         | 1530/2000 [03:55<01:12,  6.46it/s]"
     ]
    },
    {
     "name": "stdout",
     "output_type": "stream",
     "text": [
      "18610\n",
      "75422\n",
      "Epoch 01528 | Loss 17.2033 | train_RMSE 1.9897 | test_RMSE 1.9843 \n",
      "18610\n",
      "75422\n",
      "Epoch 01529 | Loss 17.0505 | train_RMSE 1.9124 | test_RMSE 1.9132 \n"
     ]
    },
    {
     "name": "stderr",
     "output_type": "stream",
     "text": [
      " 77%|█████████████████████████████▊         | 1532/2000 [03:56<01:12,  6.48it/s]"
     ]
    },
    {
     "name": "stdout",
     "output_type": "stream",
     "text": [
      "18610\n",
      "75422\n",
      "Epoch 01530 | Loss 17.0403 | train_RMSE 1.9117 | test_RMSE 1.9116 \n",
      "18610\n",
      "75422\n",
      "Epoch 01531 | Loss 16.8685 | train_RMSE 1.9946 | test_RMSE 1.9879 \n"
     ]
    },
    {
     "name": "stderr",
     "output_type": "stream",
     "text": [
      " 77%|█████████████████████████████▉         | 1534/2000 [03:56<01:11,  6.47it/s]"
     ]
    },
    {
     "name": "stdout",
     "output_type": "stream",
     "text": [
      "18610\n",
      "75422\n",
      "Epoch 01532 | Loss 17.0493 | train_RMSE 1.9802 | test_RMSE 1.9812 \n",
      "18610\n",
      "75422\n",
      "Epoch 01533 | Loss 17.3210 | train_RMSE 2.1301 | test_RMSE 2.1215 \n"
     ]
    },
    {
     "name": "stderr",
     "output_type": "stream",
     "text": [
      "\r",
      " 77%|█████████████████████████████▉         | 1535/2000 [03:56<01:13,  6.34it/s]"
     ]
    },
    {
     "name": "stdout",
     "output_type": "stream",
     "text": [
      "18610\n",
      "75422\n",
      "Epoch 01534 | Loss 17.5284 | train_RMSE 2.0063 | test_RMSE 2.0113 \n",
      "18610\n"
     ]
    },
    {
     "name": "stderr",
     "output_type": "stream",
     "text": [
      " 77%|█████████████████████████████▉         | 1537/2000 [03:56<01:12,  6.42it/s]"
     ]
    },
    {
     "name": "stdout",
     "output_type": "stream",
     "text": [
      "75422\n",
      "Epoch 01535 | Loss 17.4616 | train_RMSE 2.0355 | test_RMSE 2.0271 \n",
      "18610\n",
      "75422\n",
      "Epoch 01536 | Loss 17.3137 | train_RMSE 1.9269 | test_RMSE 1.9306 \n"
     ]
    },
    {
     "name": "stderr",
     "output_type": "stream",
     "text": [
      " 77%|██████████████████████████████         | 1539/2000 [03:57<01:11,  6.41it/s]"
     ]
    },
    {
     "name": "stdout",
     "output_type": "stream",
     "text": [
      "18610\n",
      "75422\n",
      "Epoch 01537 | Loss 16.9634 | train_RMSE 1.9575 | test_RMSE 1.9543 \n",
      "18610\n",
      "75422\n",
      "Epoch 01538 | Loss 16.7713 | train_RMSE 1.9040 | test_RMSE 1.9033 \n"
     ]
    },
    {
     "name": "stderr",
     "output_type": "stream",
     "text": [
      " 77%|██████████████████████████████         | 1541/2000 [03:57<01:11,  6.43it/s]"
     ]
    },
    {
     "name": "stdout",
     "output_type": "stream",
     "text": [
      "18610\n",
      "75422\n",
      "Epoch 01539 | Loss 16.6768 | train_RMSE 1.8944 | test_RMSE 1.8941 \n",
      "18610\n",
      "75422\n",
      "Epoch 01540 | Loss 17.0222 | train_RMSE 1.9369 | test_RMSE 1.9329 \n"
     ]
    },
    {
     "name": "stderr",
     "output_type": "stream",
     "text": [
      " 77%|██████████████████████████████         | 1543/2000 [03:57<01:10,  6.45it/s]"
     ]
    },
    {
     "name": "stdout",
     "output_type": "stream",
     "text": [
      "18610\n",
      "75422\n",
      "Epoch 01541 | Loss 16.8030 | train_RMSE 1.9065 | test_RMSE 1.9079 \n",
      "18610\n",
      "75422\n",
      "Epoch 01542 | Loss 16.9465 | train_RMSE 1.9407 | test_RMSE 1.9359 \n"
     ]
    },
    {
     "name": "stderr",
     "output_type": "stream",
     "text": [
      " 77%|██████████████████████████████▏        | 1545/2000 [03:58<01:10,  6.46it/s]"
     ]
    },
    {
     "name": "stdout",
     "output_type": "stream",
     "text": [
      "18610\n",
      "75422\n",
      "Epoch 01543 | Loss 16.7525 | train_RMSE 1.9050 | test_RMSE 1.9072 \n",
      "18610\n",
      "75422\n",
      "Epoch 01544 | Loss 16.9095 | train_RMSE 1.9776 | test_RMSE 1.9716 \n"
     ]
    },
    {
     "name": "stderr",
     "output_type": "stream",
     "text": [
      " 77%|██████████████████████████████▏        | 1547/2000 [03:58<01:10,  6.47it/s]"
     ]
    },
    {
     "name": "stdout",
     "output_type": "stream",
     "text": [
      "18610\n",
      "75422\n",
      "Epoch 01545 | Loss 17.3197 | train_RMSE 1.9615 | test_RMSE 1.9651 \n",
      "18610\n",
      "75422\n",
      "Epoch 01546 | Loss 17.2803 | train_RMSE 2.1110 | test_RMSE 2.1039 \n"
     ]
    },
    {
     "name": "stderr",
     "output_type": "stream",
     "text": [
      " 77%|██████████████████████████████▏        | 1549/2000 [03:58<01:09,  6.48it/s]"
     ]
    },
    {
     "name": "stdout",
     "output_type": "stream",
     "text": [
      "18610\n",
      "75422\n",
      "Epoch 01547 | Loss 17.5642 | train_RMSE 2.0507 | test_RMSE 2.0578 \n",
      "18610\n",
      "75422\n",
      "Epoch 01548 | Loss 17.4114 | train_RMSE 2.1631 | test_RMSE 2.1551 \n"
     ]
    },
    {
     "name": "stderr",
     "output_type": "stream",
     "text": [
      " 78%|██████████████████████████████▏        | 1551/2000 [03:59<01:09,  6.48it/s]"
     ]
    },
    {
     "name": "stdout",
     "output_type": "stream",
     "text": [
      "18610\n",
      "75422\n",
      "Epoch 01549 | Loss 17.7751 | train_RMSE 2.0214 | test_RMSE 2.0297 \n",
      "18610\n",
      "75422\n",
      "Epoch 01550 | Loss 17.5970 | train_RMSE 2.0386 | test_RMSE 2.0315 \n"
     ]
    },
    {
     "name": "stderr",
     "output_type": "stream",
     "text": [
      " 78%|██████████████████████████████▎        | 1553/2000 [03:59<01:08,  6.48it/s]"
     ]
    },
    {
     "name": "stdout",
     "output_type": "stream",
     "text": [
      "18610\n",
      "75422\n",
      "Epoch 01551 | Loss 17.2047 | train_RMSE 1.8961 | test_RMSE 1.8955 \n",
      "18610\n",
      "75422\n",
      "Epoch 01552 | Loss 16.7676 | train_RMSE 1.8899 | test_RMSE 1.8873 \n"
     ]
    },
    {
     "name": "stderr",
     "output_type": "stream",
     "text": [
      " 78%|██████████████████████████████▎        | 1555/2000 [03:59<01:08,  6.48it/s]"
     ]
    },
    {
     "name": "stdout",
     "output_type": "stream",
     "text": [
      "18610\n",
      "75422\n",
      "Epoch 01553 | Loss 16.7131 | train_RMSE 1.9207 | test_RMSE 1.9165 \n",
      "18610\n",
      "75422\n",
      "Epoch 01554 | Loss 16.7666 | train_RMSE 1.9100 | test_RMSE 1.9111 \n"
     ]
    },
    {
     "name": "stderr",
     "output_type": "stream",
     "text": [
      " 78%|██████████████████████████████▎        | 1557/2000 [04:00<01:08,  6.48it/s]"
     ]
    },
    {
     "name": "stdout",
     "output_type": "stream",
     "text": [
      "18610\n",
      "75422\n",
      "Epoch 01555 | Loss 16.9425 | train_RMSE 2.0342 | test_RMSE 2.0261 \n",
      "18610\n",
      "75422\n",
      "Epoch 01556 | Loss 17.1870 | train_RMSE 2.0309 | test_RMSE 2.0341 \n"
     ]
    },
    {
     "name": "stderr",
     "output_type": "stream",
     "text": [
      " 78%|██████████████████████████████▍        | 1559/2000 [04:00<01:08,  6.48it/s]"
     ]
    },
    {
     "name": "stdout",
     "output_type": "stream",
     "text": [
      "18610\n",
      "75422\n",
      "Epoch 01557 | Loss 17.3288 | train_RMSE 2.2546 | test_RMSE 2.2449 \n",
      "18610\n",
      "75422\n",
      "Epoch 01558 | Loss 18.1349 | train_RMSE 2.1994 | test_RMSE 2.2141 \n"
     ]
    },
    {
     "name": "stderr",
     "output_type": "stream",
     "text": [
      " 78%|██████████████████████████████▍        | 1561/2000 [04:00<01:07,  6.47it/s]"
     ]
    },
    {
     "name": "stdout",
     "output_type": "stream",
     "text": [
      "18610\n",
      "75422\n",
      "Epoch 01559 | Loss 18.3232 | train_RMSE 2.3755 | test_RMSE 2.3620 \n",
      "18610\n",
      "75422\n",
      "Epoch 01560 | Loss 18.3406 | train_RMSE 2.1601 | test_RMSE 2.1653 \n"
     ]
    },
    {
     "name": "stderr",
     "output_type": "stream",
     "text": [
      " 78%|██████████████████████████████▍        | 1563/2000 [04:00<01:07,  6.48it/s]"
     ]
    },
    {
     "name": "stdout",
     "output_type": "stream",
     "text": [
      "18610\n",
      "75422\n",
      "Epoch 01561 | Loss 18.0139 | train_RMSE 2.1741 | test_RMSE 2.1649 \n",
      "18610\n",
      "75422\n",
      "Epoch 01562 | Loss 17.4314 | train_RMSE 1.9498 | test_RMSE 1.9539 \n"
     ]
    },
    {
     "name": "stderr",
     "output_type": "stream",
     "text": [
      " 78%|██████████████████████████████▌        | 1565/2000 [04:01<01:07,  6.43it/s]"
     ]
    },
    {
     "name": "stdout",
     "output_type": "stream",
     "text": [
      "18610\n",
      "75422\n",
      "Epoch 01563 | Loss 17.0780 | train_RMSE 1.9128 | test_RMSE 1.9071 \n",
      "18610\n",
      "75422\n",
      "Epoch 01564 | Loss 16.6115 | train_RMSE 1.9257 | test_RMSE 1.9197 \n"
     ]
    },
    {
     "name": "stderr",
     "output_type": "stream",
     "text": [
      " 78%|██████████████████████████████▌        | 1567/2000 [04:01<01:06,  6.47it/s]"
     ]
    },
    {
     "name": "stdout",
     "output_type": "stream",
     "text": [
      "18610\n",
      "75422\n",
      "Epoch 01565 | Loss 16.7463 | train_RMSE 1.9364 | test_RMSE 1.9397 \n",
      "18610\n",
      "75422\n",
      "Epoch 01566 | Loss 17.1265 | train_RMSE 2.0711 | test_RMSE 2.0636 \n"
     ]
    },
    {
     "name": "stderr",
     "output_type": "stream",
     "text": [
      " 78%|██████████████████████████████▌        | 1569/2000 [04:01<01:06,  6.47it/s]"
     ]
    },
    {
     "name": "stdout",
     "output_type": "stream",
     "text": [
      "18610\n",
      "75422\n",
      "Epoch 01567 | Loss 17.2955 | train_RMSE 2.0081 | test_RMSE 2.0160 \n",
      "18610\n",
      "75422\n",
      "Epoch 01568 | Loss 17.1352 | train_RMSE 2.0791 | test_RMSE 2.0705 \n"
     ]
    },
    {
     "name": "stderr",
     "output_type": "stream",
     "text": [
      " 79%|██████████████████████████████▋        | 1571/2000 [04:02<01:06,  6.48it/s]"
     ]
    },
    {
     "name": "stdout",
     "output_type": "stream",
     "text": [
      "18610\n",
      "75422\n",
      "Epoch 01569 | Loss 17.3932 | train_RMSE 1.9470 | test_RMSE 1.9530 \n",
      "18610\n",
      "75422\n",
      "Epoch 01570 | Loss 17.1312 | train_RMSE 1.9681 | test_RMSE 1.9645 \n"
     ]
    },
    {
     "name": "stderr",
     "output_type": "stream",
     "text": [
      " 79%|██████████████████████████████▋        | 1573/2000 [04:02<01:05,  6.47it/s]"
     ]
    },
    {
     "name": "stdout",
     "output_type": "stream",
     "text": [
      "18610\n",
      "75422\n",
      "Epoch 01571 | Loss 16.8274 | train_RMSE 1.9047 | test_RMSE 1.9048 \n",
      "18610\n",
      "75422\n",
      "Epoch 01572 | Loss 16.8901 | train_RMSE 1.8950 | test_RMSE 1.8936 \n"
     ]
    },
    {
     "name": "stderr",
     "output_type": "stream",
     "text": [
      " 79%|██████████████████████████████▋        | 1575/2000 [04:02<01:05,  6.48it/s]"
     ]
    },
    {
     "name": "stdout",
     "output_type": "stream",
     "text": [
      "18610\n",
      "75422\n",
      "Epoch 01573 | Loss 16.7436 | train_RMSE 1.8983 | test_RMSE 1.8965 \n",
      "18610\n",
      "75422\n",
      "Epoch 01574 | Loss 16.9122 | train_RMSE 1.8819 | test_RMSE 1.8814 \n"
     ]
    },
    {
     "name": "stderr",
     "output_type": "stream",
     "text": [
      " 79%|██████████████████████████████▊        | 1577/2000 [04:03<01:05,  6.47it/s]"
     ]
    },
    {
     "name": "stdout",
     "output_type": "stream",
     "text": [
      "18610\n",
      "75422\n",
      "Epoch 01575 | Loss 16.8554 | train_RMSE 1.9514 | test_RMSE 1.9453 \n",
      "18610\n",
      "75422\n",
      "Epoch 01576 | Loss 16.8611 | train_RMSE 1.9200 | test_RMSE 1.9205 \n"
     ]
    },
    {
     "name": "stderr",
     "output_type": "stream",
     "text": [
      " 79%|██████████████████████████████▊        | 1579/2000 [04:03<01:04,  6.48it/s]"
     ]
    },
    {
     "name": "stdout",
     "output_type": "stream",
     "text": [
      "18610\n",
      "75422\n",
      "Epoch 01577 | Loss 16.9246 | train_RMSE 2.0108 | test_RMSE 2.0036 \n",
      "18610\n",
      "75422\n",
      "Epoch 01578 | Loss 17.0697 | train_RMSE 1.9103 | test_RMSE 1.9123 \n"
     ]
    },
    {
     "name": "stderr",
     "output_type": "stream",
     "text": [
      " 79%|██████████████████████████████▊        | 1581/2000 [04:03<01:04,  6.48it/s]"
     ]
    },
    {
     "name": "stdout",
     "output_type": "stream",
     "text": [
      "18610\n",
      "75422\n",
      "Epoch 01579 | Loss 16.8035 | train_RMSE 1.9417 | test_RMSE 1.9367 \n",
      "18610\n",
      "75422\n",
      "Epoch 01580 | Loss 16.7997 | train_RMSE 1.8866 | test_RMSE 1.8856 \n"
     ]
    },
    {
     "name": "stderr",
     "output_type": "stream",
     "text": [
      " 79%|██████████████████████████████▊        | 1583/2000 [04:04<01:04,  6.48it/s]"
     ]
    },
    {
     "name": "stdout",
     "output_type": "stream",
     "text": [
      "18610\n",
      "75422\n",
      "Epoch 01581 | Loss 16.8489 | train_RMSE 1.8867 | test_RMSE 1.8874 \n",
      "18610\n",
      "75422\n",
      "Epoch 01582 | Loss 16.7882 | train_RMSE 1.9496 | test_RMSE 1.9443 \n"
     ]
    },
    {
     "name": "stderr",
     "output_type": "stream",
     "text": [
      " 79%|██████████████████████████████▉        | 1585/2000 [04:04<01:03,  6.49it/s]"
     ]
    },
    {
     "name": "stdout",
     "output_type": "stream",
     "text": [
      "18610\n",
      "75422\n",
      "Epoch 01583 | Loss 16.6641 | train_RMSE 1.9202 | test_RMSE 1.9212 \n",
      "18610\n",
      "75422\n",
      "Epoch 01584 | Loss 16.8489 | train_RMSE 1.9965 | test_RMSE 1.9887 \n"
     ]
    },
    {
     "name": "stderr",
     "output_type": "stream",
     "text": [
      " 79%|██████████████████████████████▉        | 1587/2000 [04:04<01:03,  6.47it/s]"
     ]
    },
    {
     "name": "stdout",
     "output_type": "stream",
     "text": [
      "18610\n",
      "75422\n",
      "Epoch 01585 | Loss 16.9867 | train_RMSE 1.9256 | test_RMSE 1.9281 \n",
      "18610\n",
      "75422\n",
      "Epoch 01586 | Loss 16.9353 | train_RMSE 1.9529 | test_RMSE 1.9469 \n"
     ]
    },
    {
     "name": "stderr",
     "output_type": "stream",
     "text": [
      " 79%|██████████████████████████████▉        | 1589/2000 [04:04<01:03,  6.48it/s]"
     ]
    },
    {
     "name": "stdout",
     "output_type": "stream",
     "text": [
      "18610\n",
      "75422\n",
      "Epoch 01587 | Loss 16.7532 | train_RMSE 1.9102 | test_RMSE 1.9091 \n",
      "18610\n",
      "75422\n",
      "Epoch 01588 | Loss 16.8133 | train_RMSE 1.9414 | test_RMSE 1.9352 \n"
     ]
    },
    {
     "name": "stderr",
     "output_type": "stream",
     "text": [
      " 80%|███████████████████████████████        | 1591/2000 [04:05<01:03,  6.48it/s]"
     ]
    },
    {
     "name": "stdout",
     "output_type": "stream",
     "text": [
      "18610\n",
      "75422\n",
      "Epoch 01589 | Loss 17.0821 | train_RMSE 1.8958 | test_RMSE 1.8969 \n",
      "18610\n",
      "75422\n",
      "Epoch 01590 | Loss 16.7591 | train_RMSE 1.9615 | test_RMSE 1.9573 \n"
     ]
    },
    {
     "name": "stderr",
     "output_type": "stream",
     "text": [
      " 80%|███████████████████████████████        | 1593/2000 [04:05<01:02,  6.48it/s]"
     ]
    },
    {
     "name": "stdout",
     "output_type": "stream",
     "text": [
      "18610\n",
      "75422\n",
      "Epoch 01591 | Loss 16.6425 | train_RMSE 1.9090 | test_RMSE 1.9125 \n",
      "18610\n",
      "75422\n",
      "Epoch 01592 | Loss 17.0334 | train_RMSE 1.9438 | test_RMSE 1.9376 \n"
     ]
    },
    {
     "name": "stderr",
     "output_type": "stream",
     "text": [
      " 80%|███████████████████████████████        | 1595/2000 [04:05<01:02,  6.48it/s]"
     ]
    },
    {
     "name": "stdout",
     "output_type": "stream",
     "text": [
      "18610\n",
      "75422\n",
      "Epoch 01593 | Loss 16.7910 | train_RMSE 1.9063 | test_RMSE 1.9089 \n",
      "18610\n",
      "75422\n",
      "Epoch 01594 | Loss 16.8272 | train_RMSE 2.0443 | test_RMSE 2.0371 \n"
     ]
    },
    {
     "name": "stderr",
     "output_type": "stream",
     "text": [
      " 80%|███████████████████████████████▏       | 1597/2000 [04:06<01:02,  6.48it/s]"
     ]
    },
    {
     "name": "stdout",
     "output_type": "stream",
     "text": [
      "18610\n",
      "75422\n",
      "Epoch 01595 | Loss 16.9600 | train_RMSE 2.1192 | test_RMSE 2.1245 \n",
      "18610\n",
      "75422\n",
      "Epoch 01596 | Loss 17.8134 | train_RMSE 2.5392 | test_RMSE 2.5275 \n"
     ]
    },
    {
     "name": "stderr",
     "output_type": "stream",
     "text": [
      " 80%|███████████████████████████████▏       | 1599/2000 [04:06<01:01,  6.48it/s]"
     ]
    },
    {
     "name": "stdout",
     "output_type": "stream",
     "text": [
      "18610\n",
      "75422\n",
      "Epoch 01597 | Loss 19.4179 | train_RMSE 2.8597 | test_RMSE 2.8749 \n",
      "18610\n",
      "75422\n",
      "Epoch 01598 | Loss 21.8833 | train_RMSE 3.8569 | test_RMSE 3.8432 \n"
     ]
    },
    {
     "name": "stderr",
     "output_type": "stream",
     "text": [
      " 80%|███████████████████████████████▏       | 1601/2000 [04:06<01:01,  6.48it/s]"
     ]
    },
    {
     "name": "stdout",
     "output_type": "stream",
     "text": [
      "18610\n",
      "75422\n",
      "Epoch 01599 | Loss 27.4050 | train_RMSE 4.1697 | test_RMSE 4.1854 \n",
      "18610\n",
      "75422\n",
      "Epoch 01600 | Loss 31.3987 | train_RMSE 5.3695 | test_RMSE 5.3573 \n"
     ]
    },
    {
     "name": "stderr",
     "output_type": "stream",
     "text": [
      " 80%|███████████████████████████████▎       | 1603/2000 [04:07<01:01,  6.48it/s]"
     ]
    },
    {
     "name": "stdout",
     "output_type": "stream",
     "text": [
      "18610\n",
      "75422\n",
      "Epoch 01601 | Loss 40.8663 | train_RMSE 4.9431 | test_RMSE 4.9641 \n",
      "18610\n",
      "75422\n",
      "Epoch 01602 | Loss 38.4815 | train_RMSE 4.8074 | test_RMSE 4.7945 \n"
     ]
    },
    {
     "name": "stderr",
     "output_type": "stream",
     "text": [
      " 80%|███████████████████████████████▎       | 1605/2000 [04:07<01:00,  6.48it/s]"
     ]
    },
    {
     "name": "stdout",
     "output_type": "stream",
     "text": [
      "18610\n",
      "75422\n",
      "Epoch 01603 | Loss 35.5239 | train_RMSE 3.0859 | test_RMSE 3.1052 \n",
      "18610\n",
      "75422\n",
      "Epoch 01604 | Loss 23.1978 | train_RMSE 2.0023 | test_RMSE 1.9998 \n"
     ]
    },
    {
     "name": "stderr",
     "output_type": "stream",
     "text": [
      " 80%|███████████████████████████████▎       | 1607/2000 [04:07<01:00,  6.48it/s]"
     ]
    },
    {
     "name": "stdout",
     "output_type": "stream",
     "text": [
      "18610\n",
      "75422\n",
      "Epoch 01605 | Loss 16.9082 | train_RMSE 2.5427 | test_RMSE 2.5319 \n",
      "18610\n",
      "75422\n",
      "Epoch 01606 | Loss 19.3770 | train_RMSE 3.2846 | test_RMSE 3.3080 \n"
     ]
    },
    {
     "name": "stderr",
     "output_type": "stream",
     "text": [
      " 80%|███████████████████████████████▍       | 1609/2000 [04:08<01:00,  6.48it/s]"
     ]
    },
    {
     "name": "stdout",
     "output_type": "stream",
     "text": [
      "18610\n",
      "75422\n",
      "Epoch 01607 | Loss 24.5342 | train_RMSE 3.7175 | test_RMSE 3.7019 \n",
      "18610\n",
      "75422\n",
      "Epoch 01608 | Loss 26.5966 | train_RMSE 2.5733 | test_RMSE 2.5861 \n"
     ]
    },
    {
     "name": "stderr",
     "output_type": "stream",
     "text": [
      " 81%|███████████████████████████████▍       | 1611/2000 [04:08<01:00,  6.48it/s]"
     ]
    },
    {
     "name": "stdout",
     "output_type": "stream",
     "text": [
      "18610\n",
      "75422\n",
      "Epoch 01609 | Loss 20.2575 | train_RMSE 1.9288 | test_RMSE 1.9291 \n",
      "18610\n",
      "75422\n",
      "Epoch 01610 | Loss 16.9179 | train_RMSE 2.5696 | test_RMSE 2.5616 \n"
     ]
    },
    {
     "name": "stderr",
     "output_type": "stream",
     "text": [
      " 81%|███████████████████████████████▍       | 1613/2000 [04:08<00:59,  6.48it/s]"
     ]
    },
    {
     "name": "stdout",
     "output_type": "stream",
     "text": [
      "18610\n",
      "75422\n",
      "Epoch 01611 | Loss 19.6251 | train_RMSE 2.8985 | test_RMSE 2.9148 \n",
      "18610\n",
      "75422\n",
      "Epoch 01612 | Loss 22.0054 | train_RMSE 2.9281 | test_RMSE 2.9153 \n"
     ]
    },
    {
     "name": "stderr",
     "output_type": "stream",
     "text": [
      " 81%|███████████████████████████████▍       | 1615/2000 [04:08<00:59,  6.47it/s]"
     ]
    },
    {
     "name": "stdout",
     "output_type": "stream",
     "text": [
      "18610\n",
      "75422\n",
      "Epoch 01613 | Loss 21.4886 | train_RMSE 2.0771 | test_RMSE 2.0868 \n",
      "18610\n",
      "75422\n",
      "Epoch 01614 | Loss 17.5117 | train_RMSE 2.0247 | test_RMSE 2.0334 \n"
     ]
    },
    {
     "name": "stderr",
     "output_type": "stream",
     "text": [
      " 81%|███████████████████████████████▌       | 1617/2000 [04:09<00:59,  6.48it/s]"
     ]
    },
    {
     "name": "stdout",
     "output_type": "stream",
     "text": [
      "18610\n",
      "75422\n",
      "Epoch 01615 | Loss 17.2579 | train_RMSE 2.6803 | test_RMSE 2.6674 \n",
      "18610\n",
      "75422\n",
      "Epoch 01616 | Loss 19.7542 | train_RMSE 2.5074 | test_RMSE 2.5216 \n"
     ]
    },
    {
     "name": "stderr",
     "output_type": "stream",
     "text": [
      " 81%|███████████████████████████████▌       | 1619/2000 [04:09<00:58,  6.48it/s]"
     ]
    },
    {
     "name": "stdout",
     "output_type": "stream",
     "text": [
      "18610\n",
      "75422\n",
      "Epoch 01617 | Loss 19.9565 | train_RMSE 2.2253 | test_RMSE 2.2142 \n",
      "18610\n",
      "75422\n",
      "Epoch 01618 | Loss 17.9615 | train_RMSE 1.9490 | test_RMSE 1.9477 \n"
     ]
    },
    {
     "name": "stderr",
     "output_type": "stream",
     "text": [
      " 81%|███████████████████████████████▌       | 1621/2000 [04:09<00:58,  6.48it/s]"
     ]
    },
    {
     "name": "stdout",
     "output_type": "stream",
     "text": [
      "18610\n",
      "75422\n",
      "Epoch 01619 | Loss 16.8375 | train_RMSE 2.2044 | test_RMSE 2.2153 \n",
      "18610\n",
      "75422\n",
      "Epoch 01620 | Loss 18.3283 | train_RMSE 2.5826 | test_RMSE 2.5770 \n"
     ]
    },
    {
     "name": "stderr",
     "output_type": "stream",
     "text": [
      " 81%|███████████████████████████████▋       | 1623/2000 [04:10<00:58,  6.47it/s]"
     ]
    },
    {
     "name": "stdout",
     "output_type": "stream",
     "text": [
      "18610\n",
      "75422\n",
      "Epoch 01621 | Loss 19.5172 | train_RMSE 2.1968 | test_RMSE 2.2092 \n",
      "18610\n",
      "75422\n",
      "Epoch 01622 | Loss 18.2504 | train_RMSE 1.9678 | test_RMSE 1.9662 \n"
     ]
    },
    {
     "name": "stderr",
     "output_type": "stream",
     "text": [
      " 81%|███████████████████████████████▋       | 1625/2000 [04:10<00:57,  6.48it/s]"
     ]
    },
    {
     "name": "stdout",
     "output_type": "stream",
     "text": [
      "18610\n",
      "75422\n",
      "Epoch 01623 | Loss 16.9980 | train_RMSE 2.0314 | test_RMSE 2.0283 \n",
      "18610\n",
      "75422\n",
      "Epoch 01624 | Loss 16.8074 | train_RMSE 2.1065 | test_RMSE 2.1147 \n"
     ]
    },
    {
     "name": "stderr",
     "output_type": "stream",
     "text": [
      " 81%|███████████████████████████████▋       | 1627/2000 [04:10<00:57,  6.48it/s]"
     ]
    },
    {
     "name": "stdout",
     "output_type": "stream",
     "text": [
      "18610\n",
      "75422\n",
      "Epoch 01625 | Loss 17.7066 | train_RMSE 2.1964 | test_RMSE 2.1926 \n",
      "18610\n",
      "75422\n",
      "Epoch 01626 | Loss 17.7010 | train_RMSE 1.9288 | test_RMSE 1.9295 \n"
     ]
    },
    {
     "name": "stderr",
     "output_type": "stream",
     "text": [
      " 81%|███████████████████████████████▊       | 1629/2000 [04:11<00:57,  6.48it/s]"
     ]
    },
    {
     "name": "stdout",
     "output_type": "stream",
     "text": [
      "18610\n",
      "75422\n",
      "Epoch 01627 | Loss 16.9881 | train_RMSE 1.9108 | test_RMSE 1.9134 \n",
      "18610\n",
      "75422\n",
      "Epoch 01628 | Loss 16.6491 | train_RMSE 1.9942 | test_RMSE 1.9886 \n"
     ]
    },
    {
     "name": "stderr",
     "output_type": "stream",
     "text": [
      " 82%|███████████████████████████████▊       | 1631/2000 [04:11<00:56,  6.48it/s]"
     ]
    },
    {
     "name": "stdout",
     "output_type": "stream",
     "text": [
      "18610\n",
      "75422\n",
      "Epoch 01629 | Loss 17.0096 | train_RMSE 1.9095 | test_RMSE 1.9117 \n",
      "18610\n",
      "75422\n",
      "Epoch 01630 | Loss 16.6934 | train_RMSE 1.9088 | test_RMSE 1.9054 \n"
     ]
    },
    {
     "name": "stderr",
     "output_type": "stream",
     "text": [
      " 82%|███████████████████████████████▊       | 1633/2000 [04:11<00:56,  6.44it/s]"
     ]
    },
    {
     "name": "stdout",
     "output_type": "stream",
     "text": [
      "18610\n",
      "75422\n",
      "Epoch 01631 | Loss 16.7747 | train_RMSE 1.9154 | test_RMSE 1.9122 \n",
      "18610\n",
      "75422\n",
      "Epoch 01632 | Loss 16.5879 | train_RMSE 1.9139 | test_RMSE 1.9170 \n"
     ]
    },
    {
     "name": "stderr",
     "output_type": "stream",
     "text": [
      " 82%|███████████████████████████████▉       | 1635/2000 [04:12<00:56,  6.46it/s]"
     ]
    },
    {
     "name": "stdout",
     "output_type": "stream",
     "text": [
      "18610\n",
      "75422\n",
      "Epoch 01633 | Loss 16.7285 | train_RMSE 1.9410 | test_RMSE 1.9376 \n",
      "18610\n",
      "75422\n",
      "Epoch 01634 | Loss 16.7637 | train_RMSE 1.8951 | test_RMSE 1.8943 \n"
     ]
    },
    {
     "name": "stderr",
     "output_type": "stream",
     "text": [
      " 82%|███████████████████████████████▉       | 1637/2000 [04:12<00:56,  6.47it/s]"
     ]
    },
    {
     "name": "stdout",
     "output_type": "stream",
     "text": [
      "18610\n",
      "75422\n",
      "Epoch 01635 | Loss 16.7552 | train_RMSE 1.9009 | test_RMSE 1.9020 \n",
      "18610\n",
      "75422\n",
      "Epoch 01636 | Loss 16.8184 | train_RMSE 1.9564 | test_RMSE 1.9526 \n"
     ]
    },
    {
     "name": "stderr",
     "output_type": "stream",
     "text": [
      " 82%|███████████████████████████████▉       | 1639/2000 [04:12<00:55,  6.48it/s]"
     ]
    },
    {
     "name": "stdout",
     "output_type": "stream",
     "text": [
      "18610\n",
      "75422\n",
      "Epoch 01637 | Loss 16.6788 | train_RMSE 1.9458 | test_RMSE 1.9538 \n",
      "18610\n",
      "75422\n",
      "Epoch 01638 | Loss 16.9024 | train_RMSE 1.9540 | test_RMSE 1.9488 \n"
     ]
    },
    {
     "name": "stderr",
     "output_type": "stream",
     "text": [
      " 82%|███████████████████████████████▉       | 1641/2000 [04:13<00:55,  6.47it/s]"
     ]
    },
    {
     "name": "stdout",
     "output_type": "stream",
     "text": [
      "18610\n",
      "75422\n",
      "Epoch 01639 | Loss 16.7790 | train_RMSE 1.8851 | test_RMSE 1.8830 \n",
      "18610\n",
      "75422\n",
      "Epoch 01640 | Loss 16.7122 | train_RMSE 1.8919 | test_RMSE 1.8903 \n"
     ]
    },
    {
     "name": "stderr",
     "output_type": "stream",
     "text": [
      " 82%|████████████████████████████████       | 1643/2000 [04:13<00:56,  6.35it/s]"
     ]
    },
    {
     "name": "stdout",
     "output_type": "stream",
     "text": [
      "18610\n",
      "75422\n",
      "Epoch 01641 | Loss 16.7929 | train_RMSE 1.9722 | test_RMSE 1.9653 \n",
      "18610\n",
      "75422\n",
      "Epoch 01642 | Loss 16.5452 | train_RMSE 1.9191 | test_RMSE 1.9219 \n"
     ]
    },
    {
     "name": "stderr",
     "output_type": "stream",
     "text": [
      " 82%|████████████████████████████████       | 1645/2000 [04:13<00:55,  6.43it/s]"
     ]
    },
    {
     "name": "stdout",
     "output_type": "stream",
     "text": [
      "18610\n",
      "75422\n",
      "Epoch 01643 | Loss 16.9552 | train_RMSE 1.9365 | test_RMSE 1.9294 \n",
      "18610\n",
      "75422\n",
      "Epoch 01644 | Loss 16.7874 | train_RMSE 1.8917 | test_RMSE 1.8891 \n"
     ]
    },
    {
     "name": "stderr",
     "output_type": "stream",
     "text": [
      " 82%|████████████████████████████████       | 1647/2000 [04:13<00:54,  6.44it/s]"
     ]
    },
    {
     "name": "stdout",
     "output_type": "stream",
     "text": [
      "18610\n",
      "75422\n",
      "Epoch 01645 | Loss 16.5608 | train_RMSE 1.8943 | test_RMSE 1.8942 \n",
      "18610\n",
      "75422\n",
      "Epoch 01646 | Loss 16.5538 | train_RMSE 1.9233 | test_RMSE 1.9209 \n"
     ]
    },
    {
     "name": "stderr",
     "output_type": "stream",
     "text": [
      " 82%|████████████████████████████████▏      | 1649/2000 [04:14<00:54,  6.46it/s]"
     ]
    },
    {
     "name": "stdout",
     "output_type": "stream",
     "text": [
      "18610\n",
      "75422\n",
      "Epoch 01647 | Loss 16.7478 | train_RMSE 1.8937 | test_RMSE 1.8962 \n",
      "18610\n",
      "75422\n",
      "Epoch 01648 | Loss 16.7179 | train_RMSE 1.9171 | test_RMSE 1.9121 \n"
     ]
    },
    {
     "name": "stderr",
     "output_type": "stream",
     "text": [
      " 83%|████████████████████████████████▏      | 1651/2000 [04:14<00:53,  6.46it/s]"
     ]
    },
    {
     "name": "stdout",
     "output_type": "stream",
     "text": [
      "18610\n",
      "75422\n",
      "Epoch 01649 | Loss 16.5501 | train_RMSE 1.8945 | test_RMSE 1.8936 \n",
      "18610\n",
      "75422\n",
      "Epoch 01650 | Loss 16.5894 | train_RMSE 1.9204 | test_RMSE 1.9174 \n"
     ]
    },
    {
     "name": "stderr",
     "output_type": "stream",
     "text": [
      " 83%|████████████████████████████████▏      | 1653/2000 [04:14<00:53,  6.43it/s]"
     ]
    },
    {
     "name": "stdout",
     "output_type": "stream",
     "text": [
      "18610\n",
      "75422\n",
      "Epoch 01651 | Loss 16.6408 | train_RMSE 1.8822 | test_RMSE 1.8841 \n",
      "18610\n",
      "75422\n",
      "Epoch 01652 | Loss 16.3946 | train_RMSE 1.9092 | test_RMSE 1.9060 \n"
     ]
    },
    {
     "name": "stderr",
     "output_type": "stream",
     "text": [
      " 83%|████████████████████████████████▎      | 1655/2000 [04:15<00:53,  6.46it/s]"
     ]
    },
    {
     "name": "stdout",
     "output_type": "stream",
     "text": [
      "18610\n",
      "75422\n",
      "Epoch 01653 | Loss 16.6157 | train_RMSE 1.8771 | test_RMSE 1.8776 \n",
      "18610\n",
      "75422\n",
      "Epoch 01654 | Loss 16.5306 | train_RMSE 1.9222 | test_RMSE 1.9182 \n"
     ]
    },
    {
     "name": "stderr",
     "output_type": "stream",
     "text": [
      " 83%|████████████████████████████████▎      | 1657/2000 [04:15<00:52,  6.47it/s]"
     ]
    },
    {
     "name": "stdout",
     "output_type": "stream",
     "text": [
      "18610\n",
      "75422\n",
      "Epoch 01655 | Loss 16.6576 | train_RMSE 1.9103 | test_RMSE 1.9120 \n",
      "18610\n",
      "75422\n",
      "Epoch 01656 | Loss 16.6197 | train_RMSE 1.9760 | test_RMSE 1.9721 \n"
     ]
    },
    {
     "name": "stderr",
     "output_type": "stream",
     "text": [
      " 83%|████████████████████████████████▎      | 1659/2000 [04:15<00:52,  6.47it/s]"
     ]
    },
    {
     "name": "stdout",
     "output_type": "stream",
     "text": [
      "18610\n",
      "75422\n",
      "Epoch 01657 | Loss 16.8830 | train_RMSE 1.9249 | test_RMSE 1.9307 \n",
      "18610\n",
      "75422\n",
      "Epoch 01658 | Loss 16.6356 | train_RMSE 1.9932 | test_RMSE 1.9881 \n"
     ]
    },
    {
     "name": "stderr",
     "output_type": "stream",
     "text": [
      " 83%|████████████████████████████████▍      | 1661/2000 [04:16<00:52,  6.47it/s]"
     ]
    },
    {
     "name": "stdout",
     "output_type": "stream",
     "text": [
      "18610\n",
      "75422\n",
      "Epoch 01659 | Loss 16.7943 | train_RMSE 1.9342 | test_RMSE 1.9358 \n",
      "18610\n",
      "75422\n",
      "Epoch 01660 | Loss 16.8150 | train_RMSE 2.0024 | test_RMSE 1.9978 \n"
     ]
    },
    {
     "name": "stderr",
     "output_type": "stream",
     "text": [
      " 83%|████████████████████████████████▍      | 1663/2000 [04:16<00:52,  6.47it/s]"
     ]
    },
    {
     "name": "stdout",
     "output_type": "stream",
     "text": [
      "18610\n",
      "75422\n",
      "Epoch 01661 | Loss 16.9852 | train_RMSE 1.9345 | test_RMSE 1.9421 \n",
      "18610\n",
      "75422\n",
      "Epoch 01662 | Loss 16.9092 | train_RMSE 1.9769 | test_RMSE 1.9708 \n"
     ]
    },
    {
     "name": "stderr",
     "output_type": "stream",
     "text": [
      " 83%|████████████████████████████████▍      | 1665/2000 [04:16<00:51,  6.48it/s]"
     ]
    },
    {
     "name": "stdout",
     "output_type": "stream",
     "text": [
      "18610\n",
      "75422\n",
      "Epoch 01663 | Loss 16.6544 | train_RMSE 1.9101 | test_RMSE 1.9126 \n",
      "18610\n",
      "75422\n",
      "Epoch 01664 | Loss 16.7293 | train_RMSE 1.9421 | test_RMSE 1.9367 \n"
     ]
    },
    {
     "name": "stderr",
     "output_type": "stream",
     "text": [
      " 83%|████████████████████████████████▌      | 1667/2000 [04:17<00:51,  6.47it/s]"
     ]
    },
    {
     "name": "stdout",
     "output_type": "stream",
     "text": [
      "18610\n",
      "75422\n",
      "Epoch 01665 | Loss 16.6311 | train_RMSE 1.8828 | test_RMSE 1.8818 \n",
      "18610\n",
      "75422\n",
      "Epoch 01666 | Loss 16.7059 | train_RMSE 1.9135 | test_RMSE 1.9096 \n"
     ]
    },
    {
     "name": "stderr",
     "output_type": "stream",
     "text": [
      " 83%|████████████████████████████████▌      | 1669/2000 [04:17<00:51,  6.47it/s]"
     ]
    },
    {
     "name": "stdout",
     "output_type": "stream",
     "text": [
      "18610\n",
      "75422\n",
      "Epoch 01667 | Loss 16.7067 | train_RMSE 1.8849 | test_RMSE 1.8841 \n",
      "18610\n",
      "75422\n",
      "Epoch 01668 | Loss 16.5753 | train_RMSE 1.8984 | test_RMSE 1.8957 \n"
     ]
    },
    {
     "name": "stderr",
     "output_type": "stream",
     "text": [
      " 84%|████████████████████████████████▌      | 1671/2000 [04:17<00:50,  6.48it/s]"
     ]
    },
    {
     "name": "stdout",
     "output_type": "stream",
     "text": [
      "18610\n",
      "75422\n",
      "Epoch 01669 | Loss 16.5991 | train_RMSE 1.8855 | test_RMSE 1.8869 \n",
      "18610\n",
      "75422\n",
      "Epoch 01670 | Loss 16.4002 | train_RMSE 1.8999 | test_RMSE 1.9011 \n"
     ]
    },
    {
     "name": "stderr",
     "output_type": "stream",
     "text": [
      " 84%|████████████████████████████████▌      | 1673/2000 [04:17<00:50,  6.47it/s]"
     ]
    },
    {
     "name": "stdout",
     "output_type": "stream",
     "text": [
      "18610\n",
      "75422\n",
      "Epoch 01671 | Loss 16.6430 | train_RMSE 1.8826 | test_RMSE 1.8869 \n",
      "18610\n",
      "75422\n",
      "Epoch 01672 | Loss 16.5290 | train_RMSE 1.9071 | test_RMSE 1.9045 \n"
     ]
    },
    {
     "name": "stderr",
     "output_type": "stream",
     "text": [
      " 84%|████████████████████████████████▋      | 1675/2000 [04:18<00:50,  6.47it/s]"
     ]
    },
    {
     "name": "stdout",
     "output_type": "stream",
     "text": [
      "18610\n",
      "75422\n",
      "Epoch 01673 | Loss 16.7525 | train_RMSE 1.9140 | test_RMSE 1.9160 \n",
      "18610\n",
      "75422\n",
      "Epoch 01674 | Loss 16.6092 | train_RMSE 2.0479 | test_RMSE 2.0400 \n"
     ]
    },
    {
     "name": "stderr",
     "output_type": "stream",
     "text": [
      " 84%|████████████████████████████████▋      | 1677/2000 [04:18<00:49,  6.48it/s]"
     ]
    },
    {
     "name": "stdout",
     "output_type": "stream",
     "text": [
      "18610\n",
      "75422\n",
      "Epoch 01675 | Loss 17.0162 | train_RMSE 2.0154 | test_RMSE 2.0204 \n",
      "18610\n",
      "75422\n",
      "Epoch 01676 | Loss 17.1329 | train_RMSE 2.1793 | test_RMSE 2.1718 \n"
     ]
    },
    {
     "name": "stderr",
     "output_type": "stream",
     "text": [
      " 84%|████████████████████████████████▋      | 1679/2000 [04:18<00:49,  6.48it/s]"
     ]
    },
    {
     "name": "stdout",
     "output_type": "stream",
     "text": [
      "18610\n",
      "75422\n",
      "Epoch 01677 | Loss 17.3095 | train_RMSE 2.0929 | test_RMSE 2.0965 \n",
      "18610\n",
      "75422\n",
      "Epoch 01678 | Loss 17.3743 | train_RMSE 2.1991 | test_RMSE 2.1901 \n"
     ]
    },
    {
     "name": "stderr",
     "output_type": "stream",
     "text": [
      " 84%|████████████████████████████████▊      | 1681/2000 [04:19<00:49,  6.47it/s]"
     ]
    },
    {
     "name": "stdout",
     "output_type": "stream",
     "text": [
      "18610\n",
      "75422\n",
      "Epoch 01679 | Loss 17.4504 | train_RMSE 2.0585 | test_RMSE 2.0732 \n",
      "18610\n",
      "75422\n",
      "Epoch 01680 | Loss 17.3851 | train_RMSE 2.0933 | test_RMSE 2.0846 \n"
     ]
    },
    {
     "name": "stderr",
     "output_type": "stream",
     "text": [
      " 84%|████████████████████████████████▊      | 1683/2000 [04:19<00:48,  6.48it/s]"
     ]
    },
    {
     "name": "stdout",
     "output_type": "stream",
     "text": [
      "18610\n",
      "75422\n",
      "Epoch 01681 | Loss 17.0634 | train_RMSE 1.9148 | test_RMSE 1.9155 \n",
      "18610\n",
      "75422\n",
      "Epoch 01682 | Loss 16.8116 | train_RMSE 1.9471 | test_RMSE 1.9432 \n"
     ]
    },
    {
     "name": "stderr",
     "output_type": "stream",
     "text": [
      " 84%|████████████████████████████████▊      | 1685/2000 [04:19<00:48,  6.48it/s]"
     ]
    },
    {
     "name": "stdout",
     "output_type": "stream",
     "text": [
      "18610\n",
      "75422\n",
      "Epoch 01683 | Loss 16.5189 | train_RMSE 1.8898 | test_RMSE 1.8914 \n",
      "18610\n",
      "75422\n",
      "Epoch 01684 | Loss 16.7519 | train_RMSE 1.9006 | test_RMSE 1.8975 \n"
     ]
    },
    {
     "name": "stderr",
     "output_type": "stream",
     "text": [
      " 84%|████████████████████████████████▉      | 1687/2000 [04:20<00:48,  6.44it/s]"
     ]
    },
    {
     "name": "stdout",
     "output_type": "stream",
     "text": [
      "18610\n",
      "75422\n",
      "Epoch 01685 | Loss 16.5685 | train_RMSE 1.8835 | test_RMSE 1.8831 \n",
      "18610\n",
      "75422\n",
      "Epoch 01686 | Loss 16.2953 | train_RMSE 1.8856 | test_RMSE 1.8866 \n"
     ]
    },
    {
     "name": "stderr",
     "output_type": "stream",
     "text": [
      " 84%|████████████████████████████████▉      | 1689/2000 [04:20<00:48,  6.41it/s]"
     ]
    },
    {
     "name": "stdout",
     "output_type": "stream",
     "text": [
      "18610\n",
      "75422\n",
      "Epoch 01687 | Loss 16.5392 | train_RMSE 1.9123 | test_RMSE 1.9097 \n",
      "18610\n",
      "75422\n",
      "Epoch 01688 | Loss 16.2081 | train_RMSE 1.8848 | test_RMSE 1.8870 \n"
     ]
    },
    {
     "name": "stderr",
     "output_type": "stream",
     "text": [
      " 85%|████████████████████████████████▉      | 1691/2000 [04:20<00:47,  6.46it/s]"
     ]
    },
    {
     "name": "stdout",
     "output_type": "stream",
     "text": [
      "18610\n",
      "75422\n",
      "Epoch 01689 | Loss 16.4651 | train_RMSE 1.9719 | test_RMSE 1.9654 \n",
      "18610\n",
      "75422\n",
      "Epoch 01690 | Loss 16.7175 | train_RMSE 1.9725 | test_RMSE 1.9759 \n"
     ]
    },
    {
     "name": "stderr",
     "output_type": "stream",
     "text": [
      " 85%|█████████████████████████████████      | 1693/2000 [04:21<00:47,  6.47it/s]"
     ]
    },
    {
     "name": "stdout",
     "output_type": "stream",
     "text": [
      "18610\n",
      "75422\n",
      "Epoch 01691 | Loss 17.0002 | train_RMSE 2.1721 | test_RMSE 2.1656 \n",
      "18610\n",
      "75422\n",
      "Epoch 01692 | Loss 17.4526 | train_RMSE 2.1042 | test_RMSE 2.1130 \n"
     ]
    },
    {
     "name": "stderr",
     "output_type": "stream",
     "text": [
      " 85%|█████████████████████████████████      | 1695/2000 [04:21<00:47,  6.47it/s]"
     ]
    },
    {
     "name": "stdout",
     "output_type": "stream",
     "text": [
      "18610\n",
      "75422\n",
      "Epoch 01693 | Loss 17.4776 | train_RMSE 2.2171 | test_RMSE 2.2058 \n",
      "18610\n",
      "75422\n",
      "Epoch 01694 | Loss 17.3878 | train_RMSE 2.0465 | test_RMSE 2.0587 \n"
     ]
    },
    {
     "name": "stderr",
     "output_type": "stream",
     "text": [
      " 85%|█████████████████████████████████      | 1697/2000 [04:21<00:46,  6.48it/s]"
     ]
    },
    {
     "name": "stdout",
     "output_type": "stream",
     "text": [
      "18610\n",
      "75422\n",
      "Epoch 01695 | Loss 17.2143 | train_RMSE 2.0950 | test_RMSE 2.0876 \n",
      "18610\n",
      "75422\n",
      "Epoch 01696 | Loss 16.9542 | train_RMSE 1.9171 | test_RMSE 1.9194 \n"
     ]
    },
    {
     "name": "stderr",
     "output_type": "stream",
     "text": [
      " 85%|█████████████████████████████████▏     | 1699/2000 [04:21<00:46,  6.47it/s]"
     ]
    },
    {
     "name": "stdout",
     "output_type": "stream",
     "text": [
      "18610\n",
      "75422\n",
      "Epoch 01697 | Loss 16.6728 | train_RMSE 1.9293 | test_RMSE 1.9232 \n",
      "18610\n",
      "75422\n",
      "Epoch 01698 | Loss 16.5424 | train_RMSE 1.8903 | test_RMSE 1.8858 \n"
     ]
    },
    {
     "name": "stderr",
     "output_type": "stream",
     "text": [
      " 85%|█████████████████████████████████▏     | 1701/2000 [04:22<00:46,  6.48it/s]"
     ]
    },
    {
     "name": "stdout",
     "output_type": "stream",
     "text": [
      "18610\n",
      "75422\n",
      "Epoch 01699 | Loss 16.3558 | train_RMSE 1.8886 | test_RMSE 1.8890 \n",
      "18610\n",
      "75422\n",
      "Epoch 01700 | Loss 16.4562 | train_RMSE 1.9710 | test_RMSE 1.9650 \n"
     ]
    },
    {
     "name": "stderr",
     "output_type": "stream",
     "text": [
      " 85%|█████████████████████████████████▏     | 1703/2000 [04:22<00:45,  6.47it/s]"
     ]
    },
    {
     "name": "stdout",
     "output_type": "stream",
     "text": [
      "18610\n",
      "75422\n",
      "Epoch 01701 | Loss 16.5016 | train_RMSE 1.9066 | test_RMSE 1.9101 \n",
      "18610\n",
      "75422\n",
      "Epoch 01702 | Loss 16.4885 | train_RMSE 1.9456 | test_RMSE 1.9410 \n"
     ]
    },
    {
     "name": "stderr",
     "output_type": "stream",
     "text": [
      " 85%|█████████████████████████████████▏     | 1705/2000 [04:22<00:45,  6.48it/s]"
     ]
    },
    {
     "name": "stdout",
     "output_type": "stream",
     "text": [
      "18610\n",
      "75422\n",
      "Epoch 01703 | Loss 16.2543 | train_RMSE 1.8872 | test_RMSE 1.8891 \n",
      "18610\n",
      "75422\n",
      "Epoch 01704 | Loss 16.2365 | train_RMSE 1.9006 | test_RMSE 1.8973 \n"
     ]
    },
    {
     "name": "stderr",
     "output_type": "stream",
     "text": [
      " 85%|█████████████████████████████████▎     | 1707/2000 [04:23<00:45,  6.42it/s]"
     ]
    },
    {
     "name": "stdout",
     "output_type": "stream",
     "text": [
      "18610\n",
      "75422\n",
      "Epoch 01705 | Loss 16.3261 | train_RMSE 1.8670 | test_RMSE 1.8645 \n",
      "18610\n",
      "75422\n",
      "Epoch 01706 | Loss 16.1217 | train_RMSE 1.8635 | test_RMSE 1.8607 \n"
     ]
    },
    {
     "name": "stderr",
     "output_type": "stream",
     "text": [
      " 85%|█████████████████████████████████▎     | 1709/2000 [04:23<00:45,  6.43it/s]"
     ]
    },
    {
     "name": "stdout",
     "output_type": "stream",
     "text": [
      "18610\n",
      "75422\n",
      "Epoch 01707 | Loss 16.1038 | train_RMSE 1.8971 | test_RMSE 1.8933 \n",
      "18610\n",
      "75422\n",
      "Epoch 01708 | Loss 16.2194 | train_RMSE 1.9177 | test_RMSE 1.9211 \n"
     ]
    },
    {
     "name": "stderr",
     "output_type": "stream",
     "text": [
      " 86%|█████████████████████████████████▎     | 1711/2000 [04:23<00:44,  6.45it/s]"
     ]
    },
    {
     "name": "stdout",
     "output_type": "stream",
     "text": [
      "18610\n",
      "75422\n",
      "Epoch 01709 | Loss 16.5639 | train_RMSE 2.0479 | test_RMSE 2.0393 \n",
      "18610\n",
      "75422\n",
      "Epoch 01710 | Loss 16.7877 | train_RMSE 2.0564 | test_RMSE 2.0648 \n"
     ]
    },
    {
     "name": "stderr",
     "output_type": "stream",
     "text": [
      " 86%|█████████████████████████████████▍     | 1713/2000 [04:24<00:44,  6.47it/s]"
     ]
    },
    {
     "name": "stdout",
     "output_type": "stream",
     "text": [
      "18610\n",
      "75422\n",
      "Epoch 01711 | Loss 17.0435 | train_RMSE 2.2846 | test_RMSE 2.2739 \n",
      "18610\n",
      "75422\n",
      "Epoch 01712 | Loss 17.7808 | train_RMSE 2.2510 | test_RMSE 2.2565 \n"
     ]
    },
    {
     "name": "stderr",
     "output_type": "stream",
     "text": [
      " 86%|█████████████████████████████████▍     | 1715/2000 [04:24<00:44,  6.47it/s]"
     ]
    },
    {
     "name": "stdout",
     "output_type": "stream",
     "text": [
      "18610\n",
      "75422\n",
      "Epoch 01713 | Loss 18.3334 | train_RMSE 2.6630 | test_RMSE 2.6523 \n",
      "18610\n",
      "75422\n",
      "Epoch 01714 | Loss 19.4132 | train_RMSE 2.6199 | test_RMSE 2.6317 \n"
     ]
    },
    {
     "name": "stderr",
     "output_type": "stream",
     "text": [
      " 86%|█████████████████████████████████▍     | 1717/2000 [04:24<00:43,  6.48it/s]"
     ]
    },
    {
     "name": "stdout",
     "output_type": "stream",
     "text": [
      "18610\n",
      "75422\n",
      "Epoch 01715 | Loss 20.3316 | train_RMSE 2.8598 | test_RMSE 2.8449 \n",
      "18610\n",
      "75422\n",
      "Epoch 01716 | Loss 20.5539 | train_RMSE 2.5248 | test_RMSE 2.5413 \n"
     ]
    },
    {
     "name": "stderr",
     "output_type": "stream",
     "text": [
      " 86%|█████████████████████████████████▌     | 1719/2000 [04:25<00:43,  6.47it/s]"
     ]
    },
    {
     "name": "stdout",
     "output_type": "stream",
     "text": [
      "18610\n",
      "75422\n",
      "Epoch 01717 | Loss 19.5179 | train_RMSE 2.4984 | test_RMSE 2.4898 \n",
      "18610\n",
      "75422\n",
      "Epoch 01718 | Loss 18.5652 | train_RMSE 2.0813 | test_RMSE 2.0891 \n"
     ]
    },
    {
     "name": "stderr",
     "output_type": "stream",
     "text": [
      " 86%|█████████████████████████████████▌     | 1721/2000 [04:25<00:43,  6.48it/s]"
     ]
    },
    {
     "name": "stdout",
     "output_type": "stream",
     "text": [
      "18610\n",
      "75422\n",
      "Epoch 01719 | Loss 17.3304 | train_RMSE 1.9657 | test_RMSE 1.9594 \n",
      "18610\n",
      "75422\n",
      "Epoch 01720 | Loss 16.3470 | train_RMSE 1.8937 | test_RMSE 1.8914 \n"
     ]
    },
    {
     "name": "stderr",
     "output_type": "stream",
     "text": [
      " 86%|█████████████████████████████████▌     | 1723/2000 [04:25<00:42,  6.48it/s]"
     ]
    },
    {
     "name": "stdout",
     "output_type": "stream",
     "text": [
      "18610\n",
      "75422\n",
      "Epoch 01721 | Loss 16.2387 | train_RMSE 1.9515 | test_RMSE 1.9556 \n",
      "18610\n",
      "75422\n",
      "Epoch 01722 | Loss 16.7671 | train_RMSE 2.2074 | test_RMSE 2.2005 \n"
     ]
    },
    {
     "name": "stderr",
     "output_type": "stream",
     "text": [
      " 86%|█████████████████████████████████▋     | 1725/2000 [04:26<00:42,  6.47it/s]"
     ]
    },
    {
     "name": "stdout",
     "output_type": "stream",
     "text": [
      "18610\n",
      "75422\n",
      "Epoch 01723 | Loss 17.5898 | train_RMSE 2.2021 | test_RMSE 2.2099 \n",
      "18610\n",
      "75422\n",
      "Epoch 01724 | Loss 18.0476 | train_RMSE 2.2897 | test_RMSE 2.2786 \n"
     ]
    },
    {
     "name": "stderr",
     "output_type": "stream",
     "text": [
      " 86%|█████████████████████████████████▋     | 1727/2000 [04:26<00:42,  6.47it/s]"
     ]
    },
    {
     "name": "stdout",
     "output_type": "stream",
     "text": [
      "18610\n",
      "75422\n",
      "Epoch 01725 | Loss 17.7171 | train_RMSE 2.0267 | test_RMSE 2.0366 \n",
      "18610\n",
      "75422\n",
      "Epoch 01726 | Loss 17.1552 | train_RMSE 1.9937 | test_RMSE 1.9884 \n"
     ]
    },
    {
     "name": "stderr",
     "output_type": "stream",
     "text": [
      " 86%|█████████████████████████████████▋     | 1729/2000 [04:26<00:41,  6.48it/s]"
     ]
    },
    {
     "name": "stdout",
     "output_type": "stream",
     "text": [
      "18610\n",
      "75422\n",
      "Epoch 01727 | Loss 16.4878 | train_RMSE 1.8755 | test_RMSE 1.8744 \n",
      "18610\n",
      "75422\n",
      "Epoch 01728 | Loss 16.2846 | train_RMSE 1.8887 | test_RMSE 1.8907 \n"
     ]
    },
    {
     "name": "stderr",
     "output_type": "stream",
     "text": [
      " 87%|█████████████████████████████████▊     | 1731/2000 [04:26<00:41,  6.47it/s]"
     ]
    },
    {
     "name": "stdout",
     "output_type": "stream",
     "text": [
      "18610\n",
      "75422\n",
      "Epoch 01729 | Loss 16.3875 | train_RMSE 2.0175 | test_RMSE 2.0110 \n",
      "18610\n",
      "75422\n",
      "Epoch 01730 | Loss 16.6167 | train_RMSE 1.9410 | test_RMSE 1.9448 \n"
     ]
    },
    {
     "name": "stderr",
     "output_type": "stream",
     "text": [
      " 87%|█████████████████████████████████▊     | 1733/2000 [04:27<00:41,  6.47it/s]"
     ]
    },
    {
     "name": "stdout",
     "output_type": "stream",
     "text": [
      "18610\n",
      "75422\n",
      "Epoch 01731 | Loss 16.6063 | train_RMSE 1.9744 | test_RMSE 1.9684 \n",
      "18610\n",
      "75422\n",
      "Epoch 01732 | Loss 16.5282 | train_RMSE 1.8723 | test_RMSE 1.8742 \n"
     ]
    },
    {
     "name": "stderr",
     "output_type": "stream",
     "text": [
      " 87%|█████████████████████████████████▊     | 1735/2000 [04:27<00:40,  6.48it/s]"
     ]
    },
    {
     "name": "stdout",
     "output_type": "stream",
     "text": [
      "18610\n",
      "75422\n",
      "Epoch 01733 | Loss 16.2600 | train_RMSE 1.9010 | test_RMSE 1.8976 \n",
      "18610\n",
      "75422\n",
      "Epoch 01734 | Loss 16.3640 | train_RMSE 1.8697 | test_RMSE 1.8704 \n"
     ]
    },
    {
     "name": "stderr",
     "output_type": "stream",
     "text": [
      "\r",
      " 87%|█████████████████████████████████▊     | 1736/2000 [04:27<00:40,  6.47it/s]"
     ]
    },
    {
     "name": "stdout",
     "output_type": "stream",
     "text": [
      "18610\n",
      "75422\n",
      "Epoch 01735 | Loss 16.3288 | train_RMSE 1.8906 | test_RMSE 1.8863 \n",
      "18610\n",
      "75422\n",
      "Epoch 01736 | Loss 16.0856 | train_RMSE 1.8766 | test_RMSE 1.8758 \n"
     ]
    },
    {
     "name": "stderr",
     "output_type": "stream",
     "text": [
      " 87%|█████████████████████████████████▉     | 1739/2000 [04:28<00:40,  6.42it/s]"
     ]
    },
    {
     "name": "stdout",
     "output_type": "stream",
     "text": [
      "18610\n",
      "75422\n",
      "Epoch 01737 | Loss 16.2954 | train_RMSE 1.9379 | test_RMSE 1.9322 \n",
      "18610\n",
      "75422\n",
      "Epoch 01738 | Loss 16.2734 | train_RMSE 1.8775 | test_RMSE 1.8759 \n"
     ]
    },
    {
     "name": "stderr",
     "output_type": "stream",
     "text": [
      " 87%|█████████████████████████████████▉     | 1741/2000 [04:28<00:40,  6.42it/s]"
     ]
    },
    {
     "name": "stdout",
     "output_type": "stream",
     "text": [
      "18610\n",
      "75422\n",
      "Epoch 01739 | Loss 16.5040 | train_RMSE 1.9003 | test_RMSE 1.8944 \n",
      "18610\n",
      "75422\n",
      "Epoch 01740 | Loss 16.0318 | train_RMSE 1.8627 | test_RMSE 1.8609 \n"
     ]
    },
    {
     "name": "stderr",
     "output_type": "stream",
     "text": [
      " 87%|█████████████████████████████████▉     | 1743/2000 [04:28<00:39,  6.45it/s]"
     ]
    },
    {
     "name": "stdout",
     "output_type": "stream",
     "text": [
      "18610\n",
      "75422\n",
      "Epoch 01741 | Loss 16.2444 | train_RMSE 1.8661 | test_RMSE 1.8666 \n",
      "18610\n",
      "75422\n",
      "Epoch 01742 | Loss 16.2083 | train_RMSE 1.8934 | test_RMSE 1.8922 \n"
     ]
    },
    {
     "name": "stderr",
     "output_type": "stream",
     "text": [
      " 87%|██████████████████████████████████     | 1745/2000 [04:29<00:39,  6.46it/s]"
     ]
    },
    {
     "name": "stdout",
     "output_type": "stream",
     "text": [
      "18610\n",
      "75422\n",
      "Epoch 01743 | Loss 16.3093 | train_RMSE 1.8866 | test_RMSE 1.8899 \n",
      "18610\n",
      "75422\n",
      "Epoch 01744 | Loss 16.5120 | train_RMSE 2.0175 | test_RMSE 2.0116 \n"
     ]
    },
    {
     "name": "stderr",
     "output_type": "stream",
     "text": [
      " 87%|██████████████████████████████████     | 1747/2000 [04:29<00:39,  6.46it/s]"
     ]
    },
    {
     "name": "stdout",
     "output_type": "stream",
     "text": [
      "18610\n",
      "75422\n",
      "Epoch 01745 | Loss 16.5478 | train_RMSE 2.0070 | test_RMSE 2.0091 \n",
      "18610\n",
      "75422\n",
      "Epoch 01746 | Loss 16.9719 | train_RMSE 2.2956 | test_RMSE 2.2852 \n"
     ]
    },
    {
     "name": "stderr",
     "output_type": "stream",
     "text": [
      " 87%|██████████████████████████████████     | 1749/2000 [04:29<00:38,  6.48it/s]"
     ]
    },
    {
     "name": "stdout",
     "output_type": "stream",
     "text": [
      "18610\n",
      "75422\n",
      "Epoch 01747 | Loss 17.6937 | train_RMSE 2.3016 | test_RMSE 2.3133 \n",
      "18610\n",
      "75422\n",
      "Epoch 01748 | Loss 18.2787 | train_RMSE 2.6280 | test_RMSE 2.6128 \n"
     ]
    },
    {
     "name": "stderr",
     "output_type": "stream",
     "text": [
      " 88%|██████████████████████████████████▏    | 1751/2000 [04:30<00:38,  6.47it/s]"
     ]
    },
    {
     "name": "stdout",
     "output_type": "stream",
     "text": [
      "18610\n",
      "75422\n",
      "Epoch 01749 | Loss 19.3843 | train_RMSE 2.4844 | test_RMSE 2.5017 \n",
      "18610\n",
      "75422\n",
      "Epoch 01750 | Loss 19.1055 | train_RMSE 2.6110 | test_RMSE 2.5976 \n"
     ]
    },
    {
     "name": "stderr",
     "output_type": "stream",
     "text": [
      " 88%|██████████████████████████████████▏    | 1753/2000 [04:30<00:38,  6.47it/s]"
     ]
    },
    {
     "name": "stdout",
     "output_type": "stream",
     "text": [
      "18610\n",
      "75422\n",
      "Epoch 01751 | Loss 19.1184 | train_RMSE 2.2929 | test_RMSE 2.3046 \n",
      "18610\n",
      "75422\n",
      "Epoch 01752 | Loss 18.2989 | train_RMSE 2.2924 | test_RMSE 2.2858 \n"
     ]
    },
    {
     "name": "stderr",
     "output_type": "stream",
     "text": [
      " 88%|██████████████████████████████████▏    | 1755/2000 [04:30<00:37,  6.48it/s]"
     ]
    },
    {
     "name": "stdout",
     "output_type": "stream",
     "text": [
      "18610\n",
      "75422\n",
      "Epoch 01753 | Loss 17.6727 | train_RMSE 1.9726 | test_RMSE 1.9785 \n",
      "18610\n",
      "75422\n",
      "Epoch 01754 | Loss 16.7058 | train_RMSE 1.9361 | test_RMSE 1.9316 \n"
     ]
    },
    {
     "name": "stderr",
     "output_type": "stream",
     "text": [
      " 88%|██████████████████████████████████▎    | 1757/2000 [04:30<00:37,  6.47it/s]"
     ]
    },
    {
     "name": "stdout",
     "output_type": "stream",
     "text": [
      "18610\n",
      "75422\n",
      "Epoch 01755 | Loss 16.4007 | train_RMSE 1.8625 | test_RMSE 1.8634 \n",
      "18610\n",
      "75422\n",
      "Epoch 01756 | Loss 16.2204 | train_RMSE 1.8688 | test_RMSE 1.8698 \n"
     ]
    },
    {
     "name": "stderr",
     "output_type": "stream",
     "text": [
      " 88%|██████████████████████████████████▎    | 1759/2000 [04:31<00:37,  6.47it/s]"
     ]
    },
    {
     "name": "stdout",
     "output_type": "stream",
     "text": [
      "18610\n",
      "75422\n",
      "Epoch 01757 | Loss 16.2054 | train_RMSE 2.0191 | test_RMSE 2.0114 \n",
      "18610\n",
      "75422\n",
      "Epoch 01758 | Loss 16.5081 | train_RMSE 2.0454 | test_RMSE 2.0509 \n"
     ]
    },
    {
     "name": "stderr",
     "output_type": "stream",
     "text": [
      " 88%|██████████████████████████████████▎    | 1761/2000 [04:31<00:36,  6.47it/s]"
     ]
    },
    {
     "name": "stdout",
     "output_type": "stream",
     "text": [
      "18610\n",
      "75422\n",
      "Epoch 01759 | Loss 16.9083 | train_RMSE 2.2155 | test_RMSE 2.2060 \n",
      "18610\n",
      "75422\n",
      "Epoch 01760 | Loss 17.0879 | train_RMSE 2.1201 | test_RMSE 2.1261 \n"
     ]
    },
    {
     "name": "stderr",
     "output_type": "stream",
     "text": [
      " 88%|██████████████████████████████████▍    | 1763/2000 [04:31<00:36,  6.47it/s]"
     ]
    },
    {
     "name": "stdout",
     "output_type": "stream",
     "text": [
      "18610\n",
      "75422\n",
      "Epoch 01761 | Loss 17.3805 | train_RMSE 2.2239 | test_RMSE 2.2155 \n",
      "18610\n",
      "75422\n",
      "Epoch 01762 | Loss 17.3914 | train_RMSE 1.9948 | test_RMSE 2.0046 \n"
     ]
    },
    {
     "name": "stderr",
     "output_type": "stream",
     "text": [
      " 88%|██████████████████████████████████▍    | 1765/2000 [04:32<00:36,  6.47it/s]"
     ]
    },
    {
     "name": "stdout",
     "output_type": "stream",
     "text": [
      "18610\n",
      "75422\n",
      "Epoch 01763 | Loss 16.9005 | train_RMSE 2.0133 | test_RMSE 2.0078 \n",
      "18610\n",
      "75422\n",
      "Epoch 01764 | Loss 16.5348 | train_RMSE 1.8879 | test_RMSE 1.8909 \n"
     ]
    },
    {
     "name": "stderr",
     "output_type": "stream",
     "text": [
      " 88%|██████████████████████████████████▍    | 1767/2000 [04:32<00:35,  6.48it/s]"
     ]
    },
    {
     "name": "stdout",
     "output_type": "stream",
     "text": [
      "18610\n",
      "75422\n",
      "Epoch 01765 | Loss 16.4812 | train_RMSE 1.9055 | test_RMSE 1.9002 \n",
      "18610\n",
      "75422\n",
      "Epoch 01766 | Loss 16.2440 | train_RMSE 1.8622 | test_RMSE 1.8619 \n"
     ]
    },
    {
     "name": "stderr",
     "output_type": "stream",
     "text": [
      " 88%|██████████████████████████████████▍    | 1769/2000 [04:32<00:35,  6.47it/s]"
     ]
    },
    {
     "name": "stdout",
     "output_type": "stream",
     "text": [
      "18610\n",
      "75422\n",
      "Epoch 01767 | Loss 16.0728 | train_RMSE 1.9019 | test_RMSE 1.8979 \n",
      "18610\n",
      "75422\n",
      "Epoch 01768 | Loss 16.3298 | train_RMSE 1.8693 | test_RMSE 1.8697 \n"
     ]
    },
    {
     "name": "stderr",
     "output_type": "stream",
     "text": [
      " 89%|██████████████████████████████████▌    | 1771/2000 [04:33<00:35,  6.41it/s]"
     ]
    },
    {
     "name": "stdout",
     "output_type": "stream",
     "text": [
      "18610\n",
      "75422\n",
      "Epoch 01769 | Loss 15.8618 | train_RMSE 1.8944 | test_RMSE 1.8892 \n",
      "18610\n",
      "75422\n",
      "Epoch 01770 | Loss 16.2868 | train_RMSE 1.8641 | test_RMSE 1.8641 \n"
     ]
    },
    {
     "name": "stderr",
     "output_type": "stream",
     "text": [
      " 89%|██████████████████████████████████▌    | 1773/2000 [04:33<00:35,  6.41it/s]"
     ]
    },
    {
     "name": "stdout",
     "output_type": "stream",
     "text": [
      "18610\n",
      "75422\n",
      "Epoch 01771 | Loss 16.0644 | train_RMSE 1.8849 | test_RMSE 1.8827 \n",
      "18610\n",
      "75422\n",
      "Epoch 01772 | Loss 15.8559 | train_RMSE 1.8689 | test_RMSE 1.8702 \n"
     ]
    },
    {
     "name": "stderr",
     "output_type": "stream",
     "text": [
      " 89%|██████████████████████████████████▌    | 1775/2000 [04:33<00:34,  6.44it/s]"
     ]
    },
    {
     "name": "stdout",
     "output_type": "stream",
     "text": [
      "18610\n",
      "75422\n",
      "Epoch 01773 | Loss 16.4277 | train_RMSE 1.9787 | test_RMSE 1.9723 \n",
      "18610\n",
      "75422\n",
      "Epoch 01774 | Loss 16.2509 | train_RMSE 1.9352 | test_RMSE 1.9409 \n"
     ]
    },
    {
     "name": "stderr",
     "output_type": "stream",
     "text": [
      " 89%|██████████████████████████████████▋    | 1777/2000 [04:34<00:34,  6.46it/s]"
     ]
    },
    {
     "name": "stdout",
     "output_type": "stream",
     "text": [
      "18610\n",
      "75422\n",
      "Epoch 01775 | Loss 16.3958 | train_RMSE 1.9838 | test_RMSE 1.9786 \n",
      "18610\n",
      "75422\n",
      "Epoch 01776 | Loss 16.5989 | train_RMSE 1.9142 | test_RMSE 1.9171 \n"
     ]
    },
    {
     "name": "stderr",
     "output_type": "stream",
     "text": [
      " 89%|██████████████████████████████████▋    | 1779/2000 [04:34<00:34,  6.47it/s]"
     ]
    },
    {
     "name": "stdout",
     "output_type": "stream",
     "text": [
      "18610\n",
      "75422\n",
      "Epoch 01777 | Loss 16.2961 | train_RMSE 1.9741 | test_RMSE 1.9671 \n",
      "18610\n",
      "75422\n",
      "Epoch 01778 | Loss 16.3142 | train_RMSE 1.9291 | test_RMSE 1.9323 \n"
     ]
    },
    {
     "name": "stderr",
     "output_type": "stream",
     "text": [
      " 89%|██████████████████████████████████▋    | 1781/2000 [04:34<00:33,  6.47it/s]"
     ]
    },
    {
     "name": "stdout",
     "output_type": "stream",
     "text": [
      "18610\n",
      "75422\n",
      "Epoch 01779 | Loss 16.3328 | train_RMSE 2.0401 | test_RMSE 2.0318 \n",
      "18610\n",
      "75422\n",
      "Epoch 01780 | Loss 16.5275 | train_RMSE 1.9938 | test_RMSE 2.0000 \n"
     ]
    },
    {
     "name": "stderr",
     "output_type": "stream",
     "text": [
      " 89%|██████████████████████████████████▊    | 1783/2000 [04:34<00:33,  6.48it/s]"
     ]
    },
    {
     "name": "stdout",
     "output_type": "stream",
     "text": [
      "18610\n",
      "75422\n",
      "Epoch 01781 | Loss 16.8167 | train_RMSE 2.1894 | test_RMSE 2.1814 \n",
      "18610\n",
      "75422\n",
      "Epoch 01782 | Loss 17.3493 | train_RMSE 2.1453 | test_RMSE 2.1519 \n"
     ]
    },
    {
     "name": "stderr",
     "output_type": "stream",
     "text": [
      " 89%|██████████████████████████████████▊    | 1785/2000 [04:35<00:33,  6.47it/s]"
     ]
    },
    {
     "name": "stdout",
     "output_type": "stream",
     "text": [
      "18610\n",
      "75422\n",
      "Epoch 01783 | Loss 17.3550 | train_RMSE 2.4165 | test_RMSE 2.4025 \n",
      "18610\n",
      "75422\n",
      "Epoch 01784 | Loss 18.0440 | train_RMSE 2.2733 | test_RMSE 2.2883 \n"
     ]
    },
    {
     "name": "stderr",
     "output_type": "stream",
     "text": [
      " 89%|██████████████████████████████████▊    | 1787/2000 [04:35<00:32,  6.48it/s]"
     ]
    },
    {
     "name": "stdout",
     "output_type": "stream",
     "text": [
      "18610\n",
      "75422\n",
      "Epoch 01785 | Loss 18.0105 | train_RMSE 2.3829 | test_RMSE 2.3762 \n",
      "18610\n",
      "75422\n",
      "Epoch 01786 | Loss 18.1042 | train_RMSE 2.1909 | test_RMSE 2.1958 \n"
     ]
    },
    {
     "name": "stderr",
     "output_type": "stream",
     "text": [
      " 89%|██████████████████████████████████▉    | 1789/2000 [04:35<00:32,  6.47it/s]"
     ]
    },
    {
     "name": "stdout",
     "output_type": "stream",
     "text": [
      "18610\n",
      "75422\n",
      "Epoch 01787 | Loss 17.5049 | train_RMSE 2.2175 | test_RMSE 2.2095 \n",
      "18610\n",
      "75422\n",
      "Epoch 01788 | Loss 17.4007 | train_RMSE 2.0079 | test_RMSE 2.0207 \n"
     ]
    },
    {
     "name": "stderr",
     "output_type": "stream",
     "text": [
      " 90%|██████████████████████████████████▉    | 1791/2000 [04:36<00:32,  6.47it/s]"
     ]
    },
    {
     "name": "stdout",
     "output_type": "stream",
     "text": [
      "18610\n",
      "75422\n",
      "Epoch 01789 | Loss 17.0248 | train_RMSE 2.0099 | test_RMSE 2.0026 \n",
      "18610\n",
      "75422\n",
      "Epoch 01790 | Loss 16.3346 | train_RMSE 1.8865 | test_RMSE 1.8887 \n"
     ]
    },
    {
     "name": "stderr",
     "output_type": "stream",
     "text": [
      " 90%|██████████████████████████████████▉    | 1793/2000 [04:36<00:31,  6.47it/s]"
     ]
    },
    {
     "name": "stdout",
     "output_type": "stream",
     "text": [
      "18610\n",
      "75422\n",
      "Epoch 01791 | Loss 16.2260 | train_RMSE 1.9043 | test_RMSE 1.9006 \n",
      "18610\n",
      "75422\n",
      "Epoch 01792 | Loss 16.3465 | train_RMSE 1.8630 | test_RMSE 1.8625 \n"
     ]
    },
    {
     "name": "stderr",
     "output_type": "stream",
     "text": [
      " 90%|███████████████████████████████████    | 1795/2000 [04:36<00:31,  6.47it/s]"
     ]
    },
    {
     "name": "stdout",
     "output_type": "stream",
     "text": [
      "18610\n",
      "75422\n",
      "Epoch 01793 | Loss 15.9871 | train_RMSE 1.8903 | test_RMSE 1.8838 \n",
      "18610\n",
      "75422\n",
      "Epoch 01794 | Loss 16.1432 | train_RMSE 1.8535 | test_RMSE 1.8526 \n"
     ]
    },
    {
     "name": "stderr",
     "output_type": "stream",
     "text": [
      " 90%|███████████████████████████████████    | 1797/2000 [04:37<00:31,  6.47it/s]"
     ]
    },
    {
     "name": "stdout",
     "output_type": "stream",
     "text": [
      "18610\n",
      "75422\n",
      "Epoch 01795 | Loss 16.1127 | train_RMSE 1.8692 | test_RMSE 1.8688 \n",
      "18610\n",
      "75422\n",
      "Epoch 01796 | Loss 16.1518 | train_RMSE 1.8757 | test_RMSE 1.8763 \n"
     ]
    },
    {
     "name": "stderr",
     "output_type": "stream",
     "text": [
      " 90%|███████████████████████████████████    | 1799/2000 [04:37<00:31,  6.48it/s]"
     ]
    },
    {
     "name": "stdout",
     "output_type": "stream",
     "text": [
      "18610\n",
      "75422\n",
      "Epoch 01797 | Loss 16.0825 | train_RMSE 1.8758 | test_RMSE 1.8758 \n",
      "18610\n",
      "75422\n",
      "Epoch 01798 | Loss 16.1060 | train_RMSE 2.0328 | test_RMSE 2.0266 \n"
     ]
    },
    {
     "name": "stderr",
     "output_type": "stream",
     "text": [
      " 90%|███████████████████████████████████    | 1801/2000 [04:37<00:30,  6.48it/s]"
     ]
    },
    {
     "name": "stdout",
     "output_type": "stream",
     "text": [
      "18610\n",
      "75422\n",
      "Epoch 01799 | Loss 16.4140 | train_RMSE 2.0680 | test_RMSE 2.0708 \n",
      "18610\n",
      "75422\n",
      "Epoch 01800 | Loss 16.9213 | train_RMSE 2.3977 | test_RMSE 2.3833 \n"
     ]
    },
    {
     "name": "stderr",
     "output_type": "stream",
     "text": [
      " 90%|███████████████████████████████████▏   | 1803/2000 [04:38<00:30,  6.48it/s]"
     ]
    },
    {
     "name": "stdout",
     "output_type": "stream",
     "text": [
      "18610\n",
      "75422\n",
      "Epoch 01801 | Loss 17.8678 | train_RMSE 2.5426 | test_RMSE 2.5545 \n",
      "18610\n",
      "75422\n",
      "Epoch 01802 | Loss 19.4636 | train_RMSE 3.3529 | test_RMSE 3.3439 \n"
     ]
    },
    {
     "name": "stderr",
     "output_type": "stream",
     "text": [
      " 90%|███████████████████████████████████▏   | 1805/2000 [04:38<00:30,  6.48it/s]"
     ]
    },
    {
     "name": "stdout",
     "output_type": "stream",
     "text": [
      "18610\n",
      "75422\n",
      "Epoch 01803 | Loss 23.3559 | train_RMSE 3.7275 | test_RMSE 3.7380 \n",
      "18610\n",
      "75422\n",
      "Epoch 01804 | Loss 27.2194 | train_RMSE 4.8399 | test_RMSE 4.8236 \n"
     ]
    },
    {
     "name": "stderr",
     "output_type": "stream",
     "text": [
      " 90%|███████████████████████████████████▏   | 1807/2000 [04:38<00:29,  6.47it/s]"
     ]
    },
    {
     "name": "stdout",
     "output_type": "stream",
     "text": [
      "18610\n",
      "75422\n",
      "Epoch 01805 | Loss 35.4691 | train_RMSE 4.4913 | test_RMSE 4.5263 \n",
      "18610\n",
      "75422\n",
      "Epoch 01806 | Loss 33.8805 | train_RMSE 4.4040 | test_RMSE 4.3933 \n"
     ]
    },
    {
     "name": "stderr",
     "output_type": "stream",
     "text": [
      " 90%|███████████████████████████████████▎   | 1809/2000 [04:39<00:29,  6.48it/s]"
     ]
    },
    {
     "name": "stdout",
     "output_type": "stream",
     "text": [
      "18610\n",
      "75422\n",
      "Epoch 01807 | Loss 31.1703 | train_RMSE 2.7466 | test_RMSE 2.7622 \n",
      "18610\n",
      "75422\n",
      "Epoch 01808 | Loss 20.7952 | train_RMSE 1.9635 | test_RMSE 1.9712 \n"
     ]
    },
    {
     "name": "stderr",
     "output_type": "stream",
     "text": [
      " 91%|███████████████████████████████████▎   | 1811/2000 [04:39<00:29,  6.47it/s]"
     ]
    },
    {
     "name": "stdout",
     "output_type": "stream",
     "text": [
      "18610\n",
      "75422\n",
      "Epoch 01809 | Loss 16.6301 | train_RMSE 2.7970 | test_RMSE 2.7879 \n",
      "18610\n",
      "75422\n",
      "Epoch 01810 | Loss 20.0980 | train_RMSE 3.3501 | test_RMSE 3.3732 \n"
     ]
    },
    {
     "name": "stderr",
     "output_type": "stream",
     "text": [
      " 91%|███████████████████████████████████▎   | 1813/2000 [04:39<00:28,  6.48it/s]"
     ]
    },
    {
     "name": "stdout",
     "output_type": "stream",
     "text": [
      "18610\n",
      "75422\n",
      "Epoch 01811 | Loss 24.6422 | train_RMSE 3.5769 | test_RMSE 3.5714 \n",
      "18610\n",
      "75422\n",
      "Epoch 01812 | Loss 24.8488 | train_RMSE 2.4769 | test_RMSE 2.4842 \n"
     ]
    },
    {
     "name": "stderr",
     "output_type": "stream",
     "text": [
      " 91%|███████████████████████████████████▍   | 1815/2000 [04:39<00:28,  6.47it/s]"
     ]
    },
    {
     "name": "stdout",
     "output_type": "stream",
     "text": [
      "18610\n",
      "75422\n",
      "Epoch 01813 | Loss 19.0629 | train_RMSE 1.9422 | test_RMSE 1.9408 \n",
      "18610\n",
      "75422\n",
      "Epoch 01814 | Loss 16.4661 | train_RMSE 2.3075 | test_RMSE 2.2983 \n"
     ]
    },
    {
     "name": "stderr",
     "output_type": "stream",
     "text": [
      " 91%|███████████████████████████████████▍   | 1817/2000 [04:40<00:28,  6.47it/s]"
     ]
    },
    {
     "name": "stdout",
     "output_type": "stream",
     "text": [
      "18610\n",
      "75422\n",
      "Epoch 01815 | Loss 17.7791 | train_RMSE 2.6606 | test_RMSE 2.6703 \n",
      "18610\n",
      "75422\n",
      "Epoch 01816 | Loss 20.2926 | train_RMSE 2.8893 | test_RMSE 2.8819 \n"
     ]
    },
    {
     "name": "stderr",
     "output_type": "stream",
     "text": [
      " 91%|███████████████████████████████████▍   | 1819/2000 [04:40<00:27,  6.47it/s]"
     ]
    },
    {
     "name": "stdout",
     "output_type": "stream",
     "text": [
      "18610\n",
      "75422\n",
      "Epoch 01817 | Loss 20.7157 | train_RMSE 2.1170 | test_RMSE 2.1243 \n",
      "18610\n",
      "75422\n",
      "Epoch 01818 | Loss 17.3173 | train_RMSE 1.9275 | test_RMSE 1.9313 \n"
     ]
    },
    {
     "name": "stderr",
     "output_type": "stream",
     "text": [
      " 91%|███████████████████████████████████▌   | 1821/2000 [04:40<00:27,  6.47it/s]"
     ]
    },
    {
     "name": "stdout",
     "output_type": "stream",
     "text": [
      "18610\n",
      "75422\n",
      "Epoch 01819 | Loss 16.3241 | train_RMSE 2.4517 | test_RMSE 2.4464 \n",
      "18610\n",
      "75422\n",
      "Epoch 01820 | Loss 18.4096 | train_RMSE 2.5853 | test_RMSE 2.5944 \n"
     ]
    },
    {
     "name": "stderr",
     "output_type": "stream",
     "text": [
      " 91%|███████████████████████████████████▌   | 1823/2000 [04:41<00:27,  6.47it/s]"
     ]
    },
    {
     "name": "stdout",
     "output_type": "stream",
     "text": [
      "18610\n",
      "75422\n",
      "Epoch 01821 | Loss 19.6309 | train_RMSE 2.6317 | test_RMSE 2.6228 \n",
      "18610\n",
      "75422\n",
      "Epoch 01822 | Loss 19.2098 | train_RMSE 2.0474 | test_RMSE 2.0619 \n"
     ]
    },
    {
     "name": "stderr",
     "output_type": "stream",
     "text": [
      " 91%|███████████████████████████████████▌   | 1825/2000 [04:41<00:27,  6.47it/s]"
     ]
    },
    {
     "name": "stdout",
     "output_type": "stream",
     "text": [
      "18610\n",
      "75422\n",
      "Epoch 01823 | Loss 16.8703 | train_RMSE 1.8845 | test_RMSE 1.8871 \n",
      "18610\n",
      "75422\n",
      "Epoch 01824 | Loss 16.2253 | train_RMSE 2.2477 | test_RMSE 2.2392 \n"
     ]
    },
    {
     "name": "stderr",
     "output_type": "stream",
     "text": [
      " 91%|███████████████████████████████████▋   | 1827/2000 [04:41<00:26,  6.48it/s]"
     ]
    },
    {
     "name": "stdout",
     "output_type": "stream",
     "text": [
      "18610\n",
      "75422\n",
      "Epoch 01825 | Loss 17.4898 | train_RMSE 2.2893 | test_RMSE 2.2934 \n",
      "18610\n",
      "75422\n",
      "Epoch 01826 | Loss 18.1729 | train_RMSE 2.3132 | test_RMSE 2.3063 \n"
     ]
    },
    {
     "name": "stderr",
     "output_type": "stream",
     "text": [
      " 91%|███████████████████████████████████▋   | 1829/2000 [04:42<00:26,  6.47it/s]"
     ]
    },
    {
     "name": "stdout",
     "output_type": "stream",
     "text": [
      "18610\n",
      "75422\n",
      "Epoch 01827 | Loss 17.6126 | train_RMSE 1.9324 | test_RMSE 1.9401 \n",
      "18610\n",
      "75422\n",
      "Epoch 01828 | Loss 16.4686 | train_RMSE 1.8961 | test_RMSE 1.9004 \n"
     ]
    },
    {
     "name": "stderr",
     "output_type": "stream",
     "text": [
      " 92%|███████████████████████████████████▋   | 1831/2000 [04:42<00:26,  6.48it/s]"
     ]
    },
    {
     "name": "stdout",
     "output_type": "stream",
     "text": [
      "18610\n",
      "75422\n",
      "Epoch 01829 | Loss 16.3100 | train_RMSE 2.1287 | test_RMSE 2.1233 \n",
      "18610\n",
      "75422\n",
      "Epoch 01830 | Loss 16.9006 | train_RMSE 2.0635 | test_RMSE 2.0706 \n"
     ]
    },
    {
     "name": "stderr",
     "output_type": "stream",
     "text": [
      " 92%|███████████████████████████████████▋   | 1833/2000 [04:42<00:25,  6.47it/s]"
     ]
    },
    {
     "name": "stdout",
     "output_type": "stream",
     "text": [
      "18610\n",
      "75422\n",
      "Epoch 01831 | Loss 17.0596 | train_RMSE 2.0068 | test_RMSE 2.0017 \n",
      "18610\n",
      "75422\n",
      "Epoch 01832 | Loss 16.6436 | train_RMSE 1.8619 | test_RMSE 1.8626 \n"
     ]
    },
    {
     "name": "stderr",
     "output_type": "stream",
     "text": [
      " 92%|███████████████████████████████████▊   | 1835/2000 [04:43<00:25,  6.47it/s]"
     ]
    },
    {
     "name": "stdout",
     "output_type": "stream",
     "text": [
      "18610\n",
      "75422\n",
      "Epoch 01833 | Loss 16.1695 | train_RMSE 1.8721 | test_RMSE 1.8734 \n",
      "18610\n",
      "75422\n",
      "Epoch 01834 | Loss 16.1791 | train_RMSE 2.0254 | test_RMSE 2.0197 \n"
     ]
    },
    {
     "name": "stderr",
     "output_type": "stream",
     "text": [
      " 92%|███████████████████████████████████▊   | 1837/2000 [04:43<00:25,  6.47it/s]"
     ]
    },
    {
     "name": "stdout",
     "output_type": "stream",
     "text": [
      "18610\n",
      "75422\n",
      "Epoch 01835 | Loss 16.8848 | train_RMSE 1.9639 | test_RMSE 1.9702 \n",
      "18610\n",
      "75422\n",
      "Epoch 01836 | Loss 16.7059 | train_RMSE 1.9761 | test_RMSE 1.9709 \n"
     ]
    },
    {
     "name": "stderr",
     "output_type": "stream",
     "text": [
      " 92%|███████████████████████████████████▊   | 1839/2000 [04:43<00:24,  6.48it/s]"
     ]
    },
    {
     "name": "stdout",
     "output_type": "stream",
     "text": [
      "18610\n",
      "75422\n",
      "Epoch 01837 | Loss 16.4394 | train_RMSE 1.8644 | test_RMSE 1.8649 \n",
      "18610\n",
      "75422\n",
      "Epoch 01838 | Loss 16.0960 | train_RMSE 1.8817 | test_RMSE 1.8825 \n"
     ]
    },
    {
     "name": "stderr",
     "output_type": "stream",
     "text": [
      " 92%|███████████████████████████████████▉   | 1841/2000 [04:43<00:24,  6.47it/s]"
     ]
    },
    {
     "name": "stdout",
     "output_type": "stream",
     "text": [
      "18610\n",
      "75422\n",
      "Epoch 01839 | Loss 16.1223 | train_RMSE 2.0421 | test_RMSE 2.0378 \n",
      "18610\n",
      "75422\n",
      "Epoch 01840 | Loss 16.6290 | train_RMSE 1.9480 | test_RMSE 1.9545 \n"
     ]
    },
    {
     "name": "stderr",
     "output_type": "stream",
     "text": [
      " 92%|███████████████████████████████████▉   | 1843/2000 [04:44<00:24,  6.47it/s]"
     ]
    },
    {
     "name": "stdout",
     "output_type": "stream",
     "text": [
      "18610\n",
      "75422\n",
      "Epoch 01841 | Loss 16.3253 | train_RMSE 1.9398 | test_RMSE 1.9384 \n",
      "18610\n",
      "75422\n",
      "Epoch 01842 | Loss 16.3139 | train_RMSE 1.8532 | test_RMSE 1.8554 \n"
     ]
    },
    {
     "name": "stderr",
     "output_type": "stream",
     "text": [
      " 92%|███████████████████████████████████▉   | 1845/2000 [04:44<00:23,  6.48it/s]"
     ]
    },
    {
     "name": "stdout",
     "output_type": "stream",
     "text": [
      "18610\n",
      "75422\n",
      "Epoch 01843 | Loss 16.0374 | train_RMSE 1.8575 | test_RMSE 1.8580 \n",
      "18610\n",
      "75422\n",
      "Epoch 01844 | Loss 16.1059 | train_RMSE 1.9080 | test_RMSE 1.9037 \n"
     ]
    },
    {
     "name": "stderr",
     "output_type": "stream",
     "text": [
      " 92%|████████████████████████████████████   | 1847/2000 [04:44<00:23,  6.46it/s]"
     ]
    },
    {
     "name": "stdout",
     "output_type": "stream",
     "text": [
      "18610\n",
      "75422\n",
      "Epoch 01845 | Loss 16.0992 | train_RMSE 1.8776 | test_RMSE 1.8827 \n",
      "18610\n",
      "75422\n",
      "Epoch 01846 | Loss 16.3093 | train_RMSE 1.9105 | test_RMSE 1.9061 \n"
     ]
    },
    {
     "name": "stderr",
     "output_type": "stream",
     "text": [
      " 92%|████████████████████████████████████   | 1849/2000 [04:45<00:23,  6.46it/s]"
     ]
    },
    {
     "name": "stdout",
     "output_type": "stream",
     "text": [
      "18610\n",
      "75422\n",
      "Epoch 01847 | Loss 16.1577 | train_RMSE 1.8571 | test_RMSE 1.8555 \n",
      "18610\n",
      "75422\n",
      "Epoch 01848 | Loss 16.1468 | train_RMSE 1.8583 | test_RMSE 1.8557 \n"
     ]
    },
    {
     "name": "stderr",
     "output_type": "stream",
     "text": [
      " 93%|████████████████████████████████████   | 1851/2000 [04:45<00:23,  6.45it/s]"
     ]
    },
    {
     "name": "stdout",
     "output_type": "stream",
     "text": [
      "18610\n",
      "75422\n",
      "Epoch 01849 | Loss 15.7617 | train_RMSE 1.8932 | test_RMSE 1.8900 \n",
      "18610\n",
      "75422\n",
      "Epoch 01850 | Loss 16.1629 | train_RMSE 1.9038 | test_RMSE 1.9119 \n"
     ]
    },
    {
     "name": "stderr",
     "output_type": "stream",
     "text": [
      " 93%|████████████████████████████████████▏  | 1853/2000 [04:45<00:22,  6.47it/s]"
     ]
    },
    {
     "name": "stdout",
     "output_type": "stream",
     "text": [
      "18610\n",
      "75422\n",
      "Epoch 01851 | Loss 16.1223 | train_RMSE 1.9680 | test_RMSE 1.9636 \n",
      "18610\n",
      "75422\n",
      "Epoch 01852 | Loss 16.2471 | train_RMSE 1.8604 | test_RMSE 1.8604 \n"
     ]
    },
    {
     "name": "stderr",
     "output_type": "stream",
     "text": [
      " 93%|████████████████████████████████████▏  | 1855/2000 [04:46<00:22,  6.47it/s]"
     ]
    },
    {
     "name": "stdout",
     "output_type": "stream",
     "text": [
      "18610\n",
      "75422\n",
      "Epoch 01853 | Loss 16.1190 | train_RMSE 1.8510 | test_RMSE 1.8493 \n",
      "18610\n",
      "75422\n",
      "Epoch 01854 | Loss 16.0191 | train_RMSE 1.9208 | test_RMSE 1.9158 \n"
     ]
    },
    {
     "name": "stderr",
     "output_type": "stream",
     "text": [
      " 93%|████████████████████████████████████▏  | 1857/2000 [04:46<00:22,  6.47it/s]"
     ]
    },
    {
     "name": "stdout",
     "output_type": "stream",
     "text": [
      "18610\n",
      "75422\n",
      "Epoch 01855 | Loss 16.0409 | train_RMSE 1.9125 | test_RMSE 1.9181 \n",
      "18610\n",
      "75422\n",
      "Epoch 01856 | Loss 16.4451 | train_RMSE 1.9534 | test_RMSE 1.9494 \n"
     ]
    },
    {
     "name": "stderr",
     "output_type": "stream",
     "text": [
      " 93%|████████████████████████████████████▎  | 1859/2000 [04:46<00:21,  6.47it/s]"
     ]
    },
    {
     "name": "stdout",
     "output_type": "stream",
     "text": [
      "18610\n",
      "75422\n",
      "Epoch 01857 | Loss 16.3064 | train_RMSE 1.8719 | test_RMSE 1.8709 \n",
      "18610\n",
      "75422\n",
      "Epoch 01858 | Loss 16.2084 | train_RMSE 1.8587 | test_RMSE 1.8583 \n"
     ]
    },
    {
     "name": "stderr",
     "output_type": "stream",
     "text": [
      " 93%|████████████████████████████████████▎  | 1861/2000 [04:47<00:21,  6.48it/s]"
     ]
    },
    {
     "name": "stdout",
     "output_type": "stream",
     "text": [
      "18610\n",
      "75422\n",
      "Epoch 01859 | Loss 16.0623 | train_RMSE 1.8731 | test_RMSE 1.8723 \n",
      "18610\n",
      "75422\n",
      "Epoch 01860 | Loss 16.2303 | train_RMSE 1.8478 | test_RMSE 1.8486 \n"
     ]
    },
    {
     "name": "stderr",
     "output_type": "stream",
     "text": [
      " 93%|████████████████████████████████████▎  | 1863/2000 [04:47<00:21,  6.47it/s]"
     ]
    },
    {
     "name": "stdout",
     "output_type": "stream",
     "text": [
      "18610\n",
      "75422\n",
      "Epoch 01861 | Loss 16.2778 | train_RMSE 1.8908 | test_RMSE 1.8873 \n",
      "18610\n",
      "75422\n",
      "Epoch 01862 | Loss 16.2135 | train_RMSE 1.8639 | test_RMSE 1.8648 \n"
     ]
    },
    {
     "name": "stderr",
     "output_type": "stream",
     "text": [
      " 93%|████████████████████████████████████▎  | 1865/2000 [04:47<00:20,  6.48it/s]"
     ]
    },
    {
     "name": "stdout",
     "output_type": "stream",
     "text": [
      "18610\n",
      "75422\n",
      "Epoch 01863 | Loss 15.9812 | train_RMSE 1.9281 | test_RMSE 1.9252 \n",
      "18610\n",
      "75422\n",
      "Epoch 01864 | Loss 16.1553 | train_RMSE 1.8828 | test_RMSE 1.8870 \n"
     ]
    },
    {
     "name": "stderr",
     "output_type": "stream",
     "text": [
      " 93%|████████████████████████████████████▍  | 1867/2000 [04:47<00:20,  6.47it/s]"
     ]
    },
    {
     "name": "stdout",
     "output_type": "stream",
     "text": [
      "18610\n",
      "75422\n",
      "Epoch 01865 | Loss 16.2069 | train_RMSE 1.8980 | test_RMSE 1.8944 \n",
      "18610\n",
      "75422\n",
      "Epoch 01866 | Loss 16.1139 | train_RMSE 1.8480 | test_RMSE 1.8474 \n"
     ]
    },
    {
     "name": "stderr",
     "output_type": "stream",
     "text": [
      " 93%|████████████████████████████████████▍  | 1869/2000 [04:48<00:20,  6.47it/s]"
     ]
    },
    {
     "name": "stdout",
     "output_type": "stream",
     "text": [
      "18610\n",
      "75422\n",
      "Epoch 01867 | Loss 16.0231 | train_RMSE 1.8467 | test_RMSE 1.8449 \n",
      "18610\n",
      "75422\n",
      "Epoch 01868 | Loss 15.9560 | train_RMSE 1.8625 | test_RMSE 1.8592 \n"
     ]
    },
    {
     "name": "stderr",
     "output_type": "stream",
     "text": [
      " 94%|████████████████████████████████████▍  | 1871/2000 [04:48<00:19,  6.47it/s]"
     ]
    },
    {
     "name": "stdout",
     "output_type": "stream",
     "text": [
      "18610\n",
      "75422\n",
      "Epoch 01869 | Loss 15.8545 | train_RMSE 1.8457 | test_RMSE 1.8450 \n",
      "18610\n",
      "75422\n",
      "Epoch 01870 | Loss 15.9228 | train_RMSE 1.8556 | test_RMSE 1.8534 \n"
     ]
    },
    {
     "name": "stderr",
     "output_type": "stream",
     "text": [
      " 94%|████████████████████████████████████▌  | 1873/2000 [04:48<00:19,  6.47it/s]"
     ]
    },
    {
     "name": "stdout",
     "output_type": "stream",
     "text": [
      "18610\n",
      "75422\n",
      "Epoch 01871 | Loss 15.8589 | train_RMSE 1.8537 | test_RMSE 1.8526 \n",
      "18610\n",
      "75422\n",
      "Epoch 01872 | Loss 16.0572 | train_RMSE 1.8530 | test_RMSE 1.8526 \n"
     ]
    },
    {
     "name": "stderr",
     "output_type": "stream",
     "text": [
      " 94%|████████████████████████████████████▌  | 1875/2000 [04:49<00:19,  6.47it/s]"
     ]
    },
    {
     "name": "stdout",
     "output_type": "stream",
     "text": [
      "18610\n",
      "75422\n",
      "Epoch 01873 | Loss 15.8528 | train_RMSE 1.8825 | test_RMSE 1.8790 \n",
      "18610\n",
      "75422\n",
      "Epoch 01874 | Loss 15.8116 | train_RMSE 1.8503 | test_RMSE 1.8511 \n"
     ]
    },
    {
     "name": "stderr",
     "output_type": "stream",
     "text": [
      " 94%|████████████████████████████████████▌  | 1877/2000 [04:49<00:19,  6.47it/s]"
     ]
    },
    {
     "name": "stdout",
     "output_type": "stream",
     "text": [
      "18610\n",
      "75422\n",
      "Epoch 01875 | Loss 15.9492 | train_RMSE 1.8860 | test_RMSE 1.8822 \n",
      "18610\n",
      "75422\n",
      "Epoch 01876 | Loss 15.8543 | train_RMSE 1.8491 | test_RMSE 1.8504 \n"
     ]
    },
    {
     "name": "stderr",
     "output_type": "stream",
     "text": [
      " 94%|████████████████████████████████████▋  | 1879/2000 [04:49<00:18,  6.43it/s]"
     ]
    },
    {
     "name": "stdout",
     "output_type": "stream",
     "text": [
      "18610\n",
      "75422\n",
      "Epoch 01877 | Loss 15.9985 | train_RMSE 1.8542 | test_RMSE 1.8538 \n",
      "18610\n",
      "75422\n",
      "Epoch 01878 | Loss 15.7329 | train_RMSE 1.8555 | test_RMSE 1.8550 \n"
     ]
    },
    {
     "name": "stderr",
     "output_type": "stream",
     "text": [
      " 94%|████████████████████████████████████▋  | 1881/2000 [04:50<00:18,  6.45it/s]"
     ]
    },
    {
     "name": "stdout",
     "output_type": "stream",
     "text": [
      "18610\n",
      "75422\n",
      "Epoch 01879 | Loss 15.8102 | train_RMSE 1.8434 | test_RMSE 1.8458 \n",
      "18610\n",
      "75422\n",
      "Epoch 01880 | Loss 15.8526 | train_RMSE 1.8850 | test_RMSE 1.8814 \n"
     ]
    },
    {
     "name": "stderr",
     "output_type": "stream",
     "text": [
      " 94%|████████████████████████████████████▋  | 1883/2000 [04:50<00:18,  6.46it/s]"
     ]
    },
    {
     "name": "stdout",
     "output_type": "stream",
     "text": [
      "18610\n",
      "75422\n",
      "Epoch 01881 | Loss 16.0280 | train_RMSE 1.8603 | test_RMSE 1.8622 \n",
      "18610\n",
      "75422\n",
      "Epoch 01882 | Loss 16.1096 | train_RMSE 1.9208 | test_RMSE 1.9164 \n"
     ]
    },
    {
     "name": "stderr",
     "output_type": "stream",
     "text": [
      " 94%|████████████████████████████████████▊  | 1885/2000 [04:50<00:17,  6.47it/s]"
     ]
    },
    {
     "name": "stdout",
     "output_type": "stream",
     "text": [
      "18610\n",
      "75422\n",
      "Epoch 01883 | Loss 15.9757 | train_RMSE 1.8689 | test_RMSE 1.8713 \n",
      "18610\n",
      "75422\n",
      "Epoch 01884 | Loss 16.1653 | train_RMSE 1.8841 | test_RMSE 1.8821 \n"
     ]
    },
    {
     "name": "stderr",
     "output_type": "stream",
     "text": [
      " 94%|████████████████████████████████████▊  | 1887/2000 [04:51<00:17,  6.48it/s]"
     ]
    },
    {
     "name": "stdout",
     "output_type": "stream",
     "text": [
      "18610\n",
      "75422\n",
      "Epoch 01885 | Loss 16.1367 | train_RMSE 1.8443 | test_RMSE 1.8441 \n",
      "18610\n",
      "75422\n",
      "Epoch 01886 | Loss 15.8691 | train_RMSE 1.8404 | test_RMSE 1.8416 \n"
     ]
    },
    {
     "name": "stderr",
     "output_type": "stream",
     "text": [
      " 94%|████████████████████████████████████▊  | 1889/2000 [04:51<00:17,  6.47it/s]"
     ]
    },
    {
     "name": "stdout",
     "output_type": "stream",
     "text": [
      "18610\n",
      "75422\n",
      "Epoch 01887 | Loss 15.8311 | train_RMSE 1.9267 | test_RMSE 1.9230 \n",
      "18610\n",
      "75422\n",
      "Epoch 01888 | Loss 16.1526 | train_RMSE 1.8830 | test_RMSE 1.8862 \n"
     ]
    },
    {
     "name": "stderr",
     "output_type": "stream",
     "text": [
      " 95%|████████████████████████████████████▊  | 1891/2000 [04:51<00:16,  6.48it/s]"
     ]
    },
    {
     "name": "stdout",
     "output_type": "stream",
     "text": [
      "18610\n",
      "75422\n",
      "Epoch 01889 | Loss 16.1893 | train_RMSE 1.9702 | test_RMSE 1.9662 \n",
      "18610\n",
      "75422\n",
      "Epoch 01890 | Loss 16.2385 | train_RMSE 1.8961 | test_RMSE 1.9020 \n"
     ]
    },
    {
     "name": "stderr",
     "output_type": "stream",
     "text": [
      " 95%|████████████████████████████████████▉  | 1893/2000 [04:51<00:16,  6.46it/s]"
     ]
    },
    {
     "name": "stdout",
     "output_type": "stream",
     "text": [
      "18610\n",
      "75422\n",
      "Epoch 01891 | Loss 16.2534 | train_RMSE 1.9680 | test_RMSE 1.9630 \n",
      "18610\n",
      "75422\n",
      "Epoch 01892 | Loss 16.2838 | train_RMSE 1.8918 | test_RMSE 1.8945 \n"
     ]
    },
    {
     "name": "stderr",
     "output_type": "stream",
     "text": [
      " 95%|████████████████████████████████████▉  | 1895/2000 [04:52<00:16,  6.47it/s]"
     ]
    },
    {
     "name": "stdout",
     "output_type": "stream",
     "text": [
      "18610\n",
      "75422\n",
      "Epoch 01893 | Loss 16.0537 | train_RMSE 1.9503 | test_RMSE 1.9457 \n",
      "18610\n",
      "75422\n",
      "Epoch 01894 | Loss 16.2437 | train_RMSE 1.8593 | test_RMSE 1.8615 \n"
     ]
    },
    {
     "name": "stderr",
     "output_type": "stream",
     "text": [
      " 95%|████████████████████████████████████▉  | 1897/2000 [04:52<00:15,  6.47it/s]"
     ]
    },
    {
     "name": "stdout",
     "output_type": "stream",
     "text": [
      "18610\n",
      "75422\n",
      "Epoch 01895 | Loss 16.1832 | train_RMSE 1.8770 | test_RMSE 1.8729 \n",
      "18610\n",
      "75422\n",
      "Epoch 01896 | Loss 15.9415 | train_RMSE 1.8407 | test_RMSE 1.8393 \n"
     ]
    },
    {
     "name": "stderr",
     "output_type": "stream",
     "text": [
      " 95%|█████████████████████████████████████  | 1899/2000 [04:52<00:15,  6.47it/s]"
     ]
    },
    {
     "name": "stdout",
     "output_type": "stream",
     "text": [
      "18610\n",
      "75422\n",
      "Epoch 01897 | Loss 15.8147 | train_RMSE 1.8558 | test_RMSE 1.8542 \n",
      "18610\n",
      "75422\n",
      "Epoch 01898 | Loss 15.8349 | train_RMSE 1.8434 | test_RMSE 1.8431 \n"
     ]
    },
    {
     "name": "stderr",
     "output_type": "stream",
     "text": [
      " 95%|█████████████████████████████████████  | 1901/2000 [04:53<00:15,  6.47it/s]"
     ]
    },
    {
     "name": "stdout",
     "output_type": "stream",
     "text": [
      "18610\n",
      "75422\n",
      "Epoch 01899 | Loss 15.8158 | train_RMSE 1.8545 | test_RMSE 1.8517 \n",
      "18610\n",
      "75422\n",
      "Epoch 01900 | Loss 15.8798 | train_RMSE 1.8489 | test_RMSE 1.8472 \n"
     ]
    },
    {
     "name": "stderr",
     "output_type": "stream",
     "text": [
      " 95%|█████████████████████████████████████  | 1903/2000 [04:53<00:15,  6.45it/s]"
     ]
    },
    {
     "name": "stdout",
     "output_type": "stream",
     "text": [
      "18610\n",
      "75422\n",
      "Epoch 01901 | Loss 15.5537 | train_RMSE 1.8379 | test_RMSE 1.8393 \n",
      "18610\n",
      "75422\n",
      "Epoch 01902 | Loss 15.7257 | train_RMSE 1.8892 | test_RMSE 1.8868 \n"
     ]
    },
    {
     "name": "stderr",
     "output_type": "stream",
     "text": [
      " 95%|█████████████████████████████████████▏ | 1905/2000 [04:53<00:14,  6.46it/s]"
     ]
    },
    {
     "name": "stdout",
     "output_type": "stream",
     "text": [
      "18610\n",
      "75422\n",
      "Epoch 01903 | Loss 16.2064 | train_RMSE 1.8741 | test_RMSE 1.8770 \n",
      "18610\n",
      "75422\n",
      "Epoch 01904 | Loss 16.1119 | train_RMSE 1.9545 | test_RMSE 1.9473 \n"
     ]
    },
    {
     "name": "stderr",
     "output_type": "stream",
     "text": [
      " 95%|█████████████████████████████████████▏ | 1907/2000 [04:54<00:14,  6.47it/s]"
     ]
    },
    {
     "name": "stdout",
     "output_type": "stream",
     "text": [
      "18610\n",
      "75422\n",
      "Epoch 01905 | Loss 16.1692 | train_RMSE 1.9008 | test_RMSE 1.9047 \n",
      "18610\n",
      "75422\n",
      "Epoch 01906 | Loss 16.0737 | train_RMSE 1.9700 | test_RMSE 1.9623 \n"
     ]
    },
    {
     "name": "stderr",
     "output_type": "stream",
     "text": [
      " 95%|█████████████████████████████████████▏ | 1909/2000 [04:54<00:14,  6.47it/s]"
     ]
    },
    {
     "name": "stdout",
     "output_type": "stream",
     "text": [
      "18610\n",
      "75422\n",
      "Epoch 01907 | Loss 16.1021 | train_RMSE 1.8886 | test_RMSE 1.8907 \n",
      "18610\n",
      "75422\n",
      "Epoch 01908 | Loss 15.9180 | train_RMSE 1.9328 | test_RMSE 1.9263 \n"
     ]
    },
    {
     "name": "stderr",
     "output_type": "stream",
     "text": [
      " 96%|█████████████████████████████████████▎ | 1911/2000 [04:54<00:13,  6.47it/s]"
     ]
    },
    {
     "name": "stdout",
     "output_type": "stream",
     "text": [
      "18610\n",
      "75422\n",
      "Epoch 01909 | Loss 15.9388 | train_RMSE 1.8734 | test_RMSE 1.8744 \n",
      "18610\n",
      "75422\n",
      "Epoch 01910 | Loss 15.9140 | train_RMSE 1.9099 | test_RMSE 1.9057 \n"
     ]
    },
    {
     "name": "stderr",
     "output_type": "stream",
     "text": [
      " 96%|█████████████████████████████████████▎ | 1913/2000 [04:55<00:13,  6.47it/s]"
     ]
    },
    {
     "name": "stdout",
     "output_type": "stream",
     "text": [
      "18610\n",
      "75422\n",
      "Epoch 01911 | Loss 15.7681 | train_RMSE 1.8572 | test_RMSE 1.8602 \n",
      "18610\n",
      "75422\n",
      "Epoch 01912 | Loss 15.8456 | train_RMSE 1.8925 | test_RMSE 1.8899 \n"
     ]
    },
    {
     "name": "stderr",
     "output_type": "stream",
     "text": [
      " 96%|█████████████████████████████████████▎ | 1915/2000 [04:55<00:13,  6.47it/s]"
     ]
    },
    {
     "name": "stdout",
     "output_type": "stream",
     "text": [
      "18610\n",
      "75422\n",
      "Epoch 01913 | Loss 15.7773 | train_RMSE 1.8446 | test_RMSE 1.8480 \n",
      "18610\n",
      "75422\n",
      "Epoch 01914 | Loss 15.8263 | train_RMSE 1.8748 | test_RMSE 1.8722 \n"
     ]
    },
    {
     "name": "stderr",
     "output_type": "stream",
     "text": [
      " 96%|█████████████████████████████████████▍ | 1917/2000 [04:55<00:12,  6.47it/s]"
     ]
    },
    {
     "name": "stdout",
     "output_type": "stream",
     "text": [
      "18610\n",
      "75422\n",
      "Epoch 01915 | Loss 15.8855 | train_RMSE 1.8390 | test_RMSE 1.8392 \n",
      "18610\n",
      "75422\n",
      "Epoch 01916 | Loss 15.7319 | train_RMSE 1.8557 | test_RMSE 1.8528 \n"
     ]
    },
    {
     "name": "stderr",
     "output_type": "stream",
     "text": [
      " 96%|█████████████████████████████████████▍ | 1919/2000 [04:56<00:12,  6.47it/s]"
     ]
    },
    {
     "name": "stdout",
     "output_type": "stream",
     "text": [
      "18610\n",
      "75422\n",
      "Epoch 01917 | Loss 16.0539 | train_RMSE 1.8373 | test_RMSE 1.8366 \n",
      "18610\n",
      "75422\n",
      "Epoch 01918 | Loss 15.8018 | train_RMSE 1.8417 | test_RMSE 1.8414 \n"
     ]
    },
    {
     "name": "stderr",
     "output_type": "stream",
     "text": [
      " 96%|█████████████████████████████████████▍ | 1921/2000 [04:56<00:12,  6.48it/s]"
     ]
    },
    {
     "name": "stdout",
     "output_type": "stream",
     "text": [
      "18610\n",
      "75422\n",
      "Epoch 01919 | Loss 15.9647 | train_RMSE 1.8385 | test_RMSE 1.8399 \n",
      "18610\n",
      "75422\n",
      "Epoch 01920 | Loss 15.6021 | train_RMSE 1.8558 | test_RMSE 1.8522 \n"
     ]
    },
    {
     "name": "stderr",
     "output_type": "stream",
     "text": [
      " 96%|█████████████████████████████████████▍ | 1923/2000 [04:56<00:11,  6.47it/s]"
     ]
    },
    {
     "name": "stdout",
     "output_type": "stream",
     "text": [
      "18610\n",
      "75422\n",
      "Epoch 01921 | Loss 15.8243 | train_RMSE 1.8387 | test_RMSE 1.8366 \n",
      "18610\n",
      "75422\n",
      "Epoch 01922 | Loss 15.8087 | train_RMSE 1.8894 | test_RMSE 1.8843 \n"
     ]
    },
    {
     "name": "stderr",
     "output_type": "stream",
     "text": [
      " 96%|█████████████████████████████████████▌ | 1925/2000 [04:56<00:11,  6.47it/s]"
     ]
    },
    {
     "name": "stdout",
     "output_type": "stream",
     "text": [
      "18610\n",
      "75422\n",
      "Epoch 01923 | Loss 15.9182 | train_RMSE 1.8899 | test_RMSE 1.8961 \n",
      "18610\n",
      "75422\n",
      "Epoch 01924 | Loss 15.9441 | train_RMSE 2.0676 | test_RMSE 2.0605 \n"
     ]
    },
    {
     "name": "stderr",
     "output_type": "stream",
     "text": [
      " 96%|█████████████████████████████████████▌ | 1927/2000 [04:57<00:11,  6.46it/s]"
     ]
    },
    {
     "name": "stdout",
     "output_type": "stream",
     "text": [
      "18610\n",
      "75422\n",
      "Epoch 01925 | Loss 16.6801 | train_RMSE 2.1618 | test_RMSE 2.1701 \n",
      "18610\n",
      "75422\n",
      "Epoch 01926 | Loss 17.4369 | train_RMSE 2.6238 | test_RMSE 2.6129 \n"
     ]
    },
    {
     "name": "stderr",
     "output_type": "stream",
     "text": [
      " 96%|█████████████████████████████████████▌ | 1929/2000 [04:57<00:10,  6.47it/s]"
     ]
    },
    {
     "name": "stdout",
     "output_type": "stream",
     "text": [
      "18610\n",
      "75422\n",
      "Epoch 01927 | Loss 18.8245 | train_RMSE 2.7694 | test_RMSE 2.7885 \n",
      "18610\n",
      "75422\n",
      "Epoch 01928 | Loss 20.5623 | train_RMSE 3.5364 | test_RMSE 3.5275 \n"
     ]
    },
    {
     "name": "stderr",
     "output_type": "stream",
     "text": [
      " 97%|█████████████████████████████████████▋ | 1931/2000 [04:57<00:10,  6.47it/s]"
     ]
    },
    {
     "name": "stdout",
     "output_type": "stream",
     "text": [
      "18610\n",
      "75422\n",
      "Epoch 01929 | Loss 24.3866 | train_RMSE 3.6649 | test_RMSE 3.6778 \n",
      "18610\n",
      "75422\n",
      "Epoch 01930 | Loss 26.5052 | train_RMSE 4.2888 | test_RMSE 4.2771 \n"
     ]
    },
    {
     "name": "stderr",
     "output_type": "stream",
     "text": [
      " 97%|█████████████████████████████████████▋ | 1933/2000 [04:58<00:10,  6.47it/s]"
     ]
    },
    {
     "name": "stdout",
     "output_type": "stream",
     "text": [
      "18610\n",
      "75422\n",
      "Epoch 01931 | Loss 29.9493 | train_RMSE 3.5270 | test_RMSE 3.5540 \n",
      "18610\n",
      "75422\n",
      "Epoch 01932 | Loss 25.7447 | train_RMSE 3.1360 | test_RMSE 3.1285 \n"
     ]
    },
    {
     "name": "stderr",
     "output_type": "stream",
     "text": [
      " 97%|█████████████████████████████████████▋ | 1935/2000 [04:58<00:10,  6.47it/s]"
     ]
    },
    {
     "name": "stdout",
     "output_type": "stream",
     "text": [
      "18610\n",
      "75422\n",
      "Epoch 01933 | Loss 21.7249 | train_RMSE 2.1306 | test_RMSE 2.1357 \n",
      "18610\n",
      "75422\n",
      "Epoch 01934 | Loss 17.2618 | train_RMSE 1.8984 | test_RMSE 1.9057 \n"
     ]
    },
    {
     "name": "stderr",
     "output_type": "stream",
     "text": [
      " 97%|█████████████████████████████████████▊ | 1937/2000 [04:58<00:09,  6.47it/s]"
     ]
    },
    {
     "name": "stdout",
     "output_type": "stream",
     "text": [
      "18610\n",
      "75422\n",
      "Epoch 01935 | Loss 16.1600 | train_RMSE 2.5671 | test_RMSE 2.5571 \n",
      "18610\n",
      "75422\n",
      "Epoch 01936 | Loss 18.7148 | train_RMSE 2.8990 | test_RMSE 2.9094 \n"
     ]
    },
    {
     "name": "stderr",
     "output_type": "stream",
     "text": [
      " 97%|█████████████████████████████████████▊ | 1939/2000 [04:59<00:09,  6.47it/s]"
     ]
    },
    {
     "name": "stdout",
     "output_type": "stream",
     "text": [
      "18610\n",
      "75422\n",
      "Epoch 01937 | Loss 21.3961 | train_RMSE 3.3916 | test_RMSE 3.3855 \n",
      "18610\n",
      "75422\n",
      "Epoch 01938 | Loss 23.7230 | train_RMSE 2.6758 | test_RMSE 2.6960 \n"
     ]
    },
    {
     "name": "stderr",
     "output_type": "stream",
     "text": [
      " 97%|█████████████████████████████████████▊ | 1941/2000 [04:59<00:09,  6.48it/s]"
     ]
    },
    {
     "name": "stdout",
     "output_type": "stream",
     "text": [
      "18610\n",
      "75422\n",
      "Epoch 01939 | Loss 20.1531 | train_RMSE 2.1164 | test_RMSE 2.1111 \n",
      "18610\n",
      "75422\n",
      "Epoch 01940 | Loss 16.8250 | train_RMSE 1.9561 | test_RMSE 1.9579 \n"
     ]
    },
    {
     "name": "stderr",
     "output_type": "stream",
     "text": [
      " 97%|█████████████████████████████████████▉ | 1943/2000 [04:59<00:08,  6.48it/s]"
     ]
    },
    {
     "name": "stdout",
     "output_type": "stream",
     "text": [
      "18610\n",
      "75422\n",
      "Epoch 01941 | Loss 16.0129 | train_RMSE 2.3864 | test_RMSE 2.3941 \n",
      "18610\n",
      "75422\n",
      "Epoch 01942 | Loss 18.3800 | train_RMSE 3.0457 | test_RMSE 3.0398 \n"
     ]
    },
    {
     "name": "stderr",
     "output_type": "stream",
     "text": [
      " 97%|█████████████████████████████████████▉ | 1945/2000 [05:00<00:08,  6.47it/s]"
     ]
    },
    {
     "name": "stdout",
     "output_type": "stream",
     "text": [
      "18610\n",
      "75422\n",
      "Epoch 01943 | Loss 21.2229 | train_RMSE 2.6323 | test_RMSE 2.6496 \n",
      "18610\n",
      "75422\n",
      "Epoch 01944 | Loss 20.0564 | train_RMSE 2.1669 | test_RMSE 2.1545 \n"
     ]
    },
    {
     "name": "stderr",
     "output_type": "stream",
     "text": [
      " 97%|█████████████████████████████████████▉ | 1947/2000 [05:00<00:08,  6.48it/s]"
     ]
    },
    {
     "name": "stdout",
     "output_type": "stream",
     "text": [
      "18610\n",
      "75422\n",
      "Epoch 01945 | Loss 17.1369 | train_RMSE 1.8848 | test_RMSE 1.8816 \n",
      "18610\n",
      "75422\n",
      "Epoch 01946 | Loss 15.9267 | train_RMSE 2.2352 | test_RMSE 2.2422 \n"
     ]
    },
    {
     "name": "stderr",
     "output_type": "stream",
     "text": [
      " 97%|██████████████████████████████████████ | 1949/2000 [05:00<00:07,  6.47it/s]"
     ]
    },
    {
     "name": "stdout",
     "output_type": "stream",
     "text": [
      "18610\n",
      "75422\n",
      "Epoch 01947 | Loss 17.3507 | train_RMSE 2.8685 | test_RMSE 2.8614 \n",
      "18610\n",
      "75422\n",
      "Epoch 01948 | Loss 20.2153 | train_RMSE 2.5754 | test_RMSE 2.5961 \n"
     ]
    },
    {
     "name": "stderr",
     "output_type": "stream",
     "text": [
      " 98%|██████████████████████████████████████ | 1951/2000 [05:00<00:07,  6.47it/s]"
     ]
    },
    {
     "name": "stdout",
     "output_type": "stream",
     "text": [
      "18610\n",
      "75422\n",
      "Epoch 01949 | Loss 19.5222 | train_RMSE 2.3035 | test_RMSE 2.2908 \n",
      "18610\n",
      "75422\n",
      "Epoch 01950 | Loss 17.5779 | train_RMSE 1.8576 | test_RMSE 1.8577 \n"
     ]
    },
    {
     "name": "stderr",
     "output_type": "stream",
     "text": [
      " 98%|██████████████████████████████████████ | 1953/2000 [05:01<00:07,  6.46it/s]"
     ]
    },
    {
     "name": "stdout",
     "output_type": "stream",
     "text": [
      "18610\n",
      "75422\n",
      "Epoch 01951 | Loss 15.8948 | train_RMSE 2.1478 | test_RMSE 2.1558 \n",
      "18610\n",
      "75422\n",
      "Epoch 01952 | Loss 17.5197 | train_RMSE 2.7711 | test_RMSE 2.7680 \n"
     ]
    },
    {
     "name": "stderr",
     "output_type": "stream",
     "text": [
      " 98%|██████████████████████████████████████ | 1955/2000 [05:01<00:06,  6.47it/s]"
     ]
    },
    {
     "name": "stdout",
     "output_type": "stream",
     "text": [
      "18610\n",
      "75422\n",
      "Epoch 01953 | Loss 19.8715 | train_RMSE 2.5573 | test_RMSE 2.5695 \n",
      "18610\n",
      "75422\n",
      "Epoch 01954 | Loss 19.3219 | train_RMSE 2.4044 | test_RMSE 2.3940 \n"
     ]
    },
    {
     "name": "stderr",
     "output_type": "stream",
     "text": [
      " 98%|██████████████████████████████████████▏| 1957/2000 [05:01<00:06,  6.46it/s]"
     ]
    },
    {
     "name": "stdout",
     "output_type": "stream",
     "text": [
      "18610\n",
      "75422\n",
      "Epoch 01955 | Loss 18.0113 | train_RMSE 1.8860 | test_RMSE 1.8875 \n",
      "18610\n",
      "75422\n",
      "Epoch 01956 | Loss 16.2348 | train_RMSE 1.9358 | test_RMSE 1.9450 \n"
     ]
    },
    {
     "name": "stderr",
     "output_type": "stream",
     "text": [
      " 98%|██████████████████████████████████████▏| 1959/2000 [05:02<00:06,  6.47it/s]"
     ]
    },
    {
     "name": "stdout",
     "output_type": "stream",
     "text": [
      "18610\n",
      "75422\n",
      "Epoch 01957 | Loss 16.2546 | train_RMSE 2.3941 | test_RMSE 2.3864 \n",
      "18610\n",
      "75422\n",
      "Epoch 01958 | Loss 17.6348 | train_RMSE 2.2612 | test_RMSE 2.2678 \n"
     ]
    },
    {
     "name": "stderr",
     "output_type": "stream",
     "text": [
      " 98%|██████████████████████████████████████▏| 1961/2000 [05:02<00:06,  6.47it/s]"
     ]
    },
    {
     "name": "stdout",
     "output_type": "stream",
     "text": [
      "18610\n",
      "75422\n",
      "Epoch 01959 | Loss 17.9989 | train_RMSE 2.2217 | test_RMSE 2.2175 \n",
      "18610\n",
      "75422\n",
      "Epoch 01960 | Loss 17.1238 | train_RMSE 1.8951 | test_RMSE 1.9003 \n"
     ]
    },
    {
     "name": "stderr",
     "output_type": "stream",
     "text": [
      " 98%|██████████████████████████████████████▎| 1963/2000 [05:02<00:05,  6.47it/s]"
     ]
    },
    {
     "name": "stdout",
     "output_type": "stream",
     "text": [
      "18610\n",
      "75422\n",
      "Epoch 01961 | Loss 16.0301 | train_RMSE 1.8556 | test_RMSE 1.8586 \n",
      "18610\n",
      "75422\n",
      "Epoch 01962 | Loss 16.0340 | train_RMSE 2.0481 | test_RMSE 2.0413 \n"
     ]
    },
    {
     "name": "stderr",
     "output_type": "stream",
     "text": [
      " 98%|██████████████████████████████████████▎| 1965/2000 [05:03<00:05,  6.47it/s]"
     ]
    },
    {
     "name": "stdout",
     "output_type": "stream",
     "text": [
      "18610\n",
      "75422\n",
      "Epoch 01963 | Loss 16.5304 | train_RMSE 2.0240 | test_RMSE 2.0347 \n",
      "18610\n",
      "75422\n",
      "Epoch 01964 | Loss 16.6891 | train_RMSE 2.1304 | test_RMSE 2.1259 \n"
     ]
    },
    {
     "name": "stderr",
     "output_type": "stream",
     "text": [
      " 98%|██████████████████████████████████████▎| 1967/2000 [05:03<00:05,  6.47it/s]"
     ]
    },
    {
     "name": "stdout",
     "output_type": "stream",
     "text": [
      "18610\n",
      "75422\n",
      "Epoch 01965 | Loss 16.6302 | train_RMSE 1.9013 | test_RMSE 1.9039 \n",
      "18610\n",
      "75422\n",
      "Epoch 01966 | Loss 15.9183 | train_RMSE 1.8473 | test_RMSE 1.8452 \n"
     ]
    },
    {
     "name": "stderr",
     "output_type": "stream",
     "text": [
      " 98%|██████████████████████████████████████▍| 1969/2000 [05:03<00:04,  6.47it/s]"
     ]
    },
    {
     "name": "stdout",
     "output_type": "stream",
     "text": [
      "18610\n",
      "75422\n",
      "Epoch 01967 | Loss 15.8247 | train_RMSE 1.9219 | test_RMSE 1.9165 \n",
      "18610\n",
      "75422\n",
      "Epoch 01968 | Loss 16.0262 | train_RMSE 1.8935 | test_RMSE 1.8985 \n"
     ]
    },
    {
     "name": "stderr",
     "output_type": "stream",
     "text": [
      " 99%|██████████████████████████████████████▍| 1971/2000 [05:04<00:04,  6.47it/s]"
     ]
    },
    {
     "name": "stdout",
     "output_type": "stream",
     "text": [
      "18610\n",
      "75422\n",
      "Epoch 01969 | Loss 16.0237 | train_RMSE 1.9531 | test_RMSE 1.9483 \n",
      "18610\n",
      "75422\n",
      "Epoch 01970 | Loss 16.0820 | train_RMSE 1.8746 | test_RMSE 1.8782 \n"
     ]
    },
    {
     "name": "stderr",
     "output_type": "stream",
     "text": [
      " 99%|██████████████████████████████████████▍| 1973/2000 [05:04<00:04,  6.47it/s]"
     ]
    },
    {
     "name": "stdout",
     "output_type": "stream",
     "text": [
      "18610\n",
      "75422\n",
      "Epoch 01971 | Loss 15.7898 | train_RMSE 1.8479 | test_RMSE 1.8477 \n",
      "18610\n",
      "75422\n",
      "Epoch 01972 | Loss 15.6898 | train_RMSE 1.8879 | test_RMSE 1.8842 \n"
     ]
    },
    {
     "name": "stderr",
     "output_type": "stream",
     "text": [
      " 99%|██████████████████████████████████████▌| 1975/2000 [05:04<00:03,  6.47it/s]"
     ]
    },
    {
     "name": "stdout",
     "output_type": "stream",
     "text": [
      "18610\n",
      "75422\n",
      "Epoch 01973 | Loss 15.9090 | train_RMSE 1.9008 | test_RMSE 1.9067 \n",
      "18610\n",
      "75422\n",
      "Epoch 01974 | Loss 16.1878 | train_RMSE 1.9679 | test_RMSE 1.9622 \n"
     ]
    },
    {
     "name": "stderr",
     "output_type": "stream",
     "text": [
      " 99%|██████████████████████████████████████▌| 1977/2000 [05:04<00:03,  6.48it/s]"
     ]
    },
    {
     "name": "stdout",
     "output_type": "stream",
     "text": [
      "18610\n",
      "75422\n",
      "Epoch 01975 | Loss 15.9400 | train_RMSE 1.8816 | test_RMSE 1.8831 \n",
      "18610\n",
      "75422\n",
      "Epoch 01976 | Loss 16.1258 | train_RMSE 1.8831 | test_RMSE 1.8807 \n"
     ]
    },
    {
     "name": "stderr",
     "output_type": "stream",
     "text": [
      " 99%|██████████████████████████████████████▌| 1979/2000 [05:05<00:03,  6.46it/s]"
     ]
    },
    {
     "name": "stdout",
     "output_type": "stream",
     "text": [
      "18610\n",
      "75422\n",
      "Epoch 01977 | Loss 15.8635 | train_RMSE 1.8507 | test_RMSE 1.8510 \n",
      "18610\n",
      "75422\n",
      "Epoch 01978 | Loss 15.6663 | train_RMSE 1.8572 | test_RMSE 1.8618 \n"
     ]
    },
    {
     "name": "stderr",
     "output_type": "stream",
     "text": [
      " 99%|██████████████████████████████████████▋| 1981/2000 [05:05<00:02,  6.48it/s]"
     ]
    },
    {
     "name": "stdout",
     "output_type": "stream",
     "text": [
      "18610\n",
      "75422\n",
      "Epoch 01979 | Loss 15.9633 | train_RMSE 1.9261 | test_RMSE 1.9221 \n",
      "18610\n",
      "75422\n",
      "Epoch 01980 | Loss 15.9051 | train_RMSE 1.8536 | test_RMSE 1.8556 \n"
     ]
    },
    {
     "name": "stderr",
     "output_type": "stream",
     "text": [
      " 99%|██████████████████████████████████████▋| 1983/2000 [05:05<00:02,  6.47it/s]"
     ]
    },
    {
     "name": "stdout",
     "output_type": "stream",
     "text": [
      "18610\n",
      "75422\n",
      "Epoch 01981 | Loss 16.0418 | train_RMSE 1.8525 | test_RMSE 1.8504 \n",
      "18610\n",
      "75422\n",
      "Epoch 01982 | Loss 15.7662 | train_RMSE 1.8374 | test_RMSE 1.8380 \n"
     ]
    },
    {
     "name": "stderr",
     "output_type": "stream",
     "text": [
      " 99%|██████████████████████████████████████▋| 1985/2000 [05:06<00:02,  6.47it/s]"
     ]
    },
    {
     "name": "stdout",
     "output_type": "stream",
     "text": [
      "18610\n",
      "75422\n",
      "Epoch 01983 | Loss 15.8248 | train_RMSE 1.8375 | test_RMSE 1.8387 \n",
      "18610\n",
      "75422\n",
      "Epoch 01984 | Loss 15.6744 | train_RMSE 1.9198 | test_RMSE 1.9145 \n"
     ]
    },
    {
     "name": "stderr",
     "output_type": "stream",
     "text": [
      " 99%|██████████████████████████████████████▋| 1987/2000 [05:06<00:02,  6.47it/s]"
     ]
    },
    {
     "name": "stdout",
     "output_type": "stream",
     "text": [
      "18610\n",
      "75422\n",
      "Epoch 01985 | Loss 15.9573 | train_RMSE 1.9224 | test_RMSE 1.9255 \n",
      "18610\n",
      "75422\n",
      "Epoch 01986 | Loss 16.1333 | train_RMSE 2.0269 | test_RMSE 2.0194 \n"
     ]
    },
    {
     "name": "stderr",
     "output_type": "stream",
     "text": [
      " 99%|██████████████████████████████████████▊| 1989/2000 [05:06<00:01,  6.47it/s]"
     ]
    },
    {
     "name": "stdout",
     "output_type": "stream",
     "text": [
      "18610\n",
      "75422\n",
      "Epoch 01987 | Loss 16.1981 | train_RMSE 1.9345 | test_RMSE 1.9397 \n",
      "18610\n",
      "75422\n",
      "Epoch 01988 | Loss 16.2601 | train_RMSE 1.9848 | test_RMSE 1.9780 \n"
     ]
    },
    {
     "name": "stderr",
     "output_type": "stream",
     "text": [
      "100%|██████████████████████████████████████▊| 1991/2000 [05:07<00:01,  6.46it/s]"
     ]
    },
    {
     "name": "stdout",
     "output_type": "stream",
     "text": [
      "18610\n",
      "75422\n",
      "Epoch 01989 | Loss 16.2715 | train_RMSE 1.8634 | test_RMSE 1.8659 \n",
      "18610\n",
      "75422\n",
      "Epoch 01990 | Loss 15.9861 | train_RMSE 1.8453 | test_RMSE 1.8431 \n"
     ]
    },
    {
     "name": "stderr",
     "output_type": "stream",
     "text": [
      "100%|██████████████████████████████████████▊| 1993/2000 [05:07<00:01,  6.47it/s]"
     ]
    },
    {
     "name": "stdout",
     "output_type": "stream",
     "text": [
      "18610\n",
      "75422\n",
      "Epoch 01991 | Loss 15.6900 | train_RMSE 1.8376 | test_RMSE 1.8375 \n",
      "18610\n",
      "75422\n",
      "Epoch 01992 | Loss 15.7370 | train_RMSE 1.8335 | test_RMSE 1.8362 \n"
     ]
    },
    {
     "name": "stderr",
     "output_type": "stream",
     "text": [
      "100%|██████████████████████████████████████▉| 1995/2000 [05:07<00:00,  6.47it/s]"
     ]
    },
    {
     "name": "stdout",
     "output_type": "stream",
     "text": [
      "18610\n",
      "75422\n",
      "Epoch 01993 | Loss 15.8574 | train_RMSE 1.8930 | test_RMSE 1.8911 \n",
      "18610\n",
      "75422\n",
      "Epoch 01994 | Loss 15.8781 | train_RMSE 1.8667 | test_RMSE 1.8700 \n"
     ]
    },
    {
     "name": "stderr",
     "output_type": "stream",
     "text": [
      "100%|██████████████████████████████████████▉| 1997/2000 [05:08<00:00,  6.47it/s]"
     ]
    },
    {
     "name": "stdout",
     "output_type": "stream",
     "text": [
      "18610\n",
      "75422\n",
      "Epoch 01995 | Loss 15.9167 | train_RMSE 1.9025 | test_RMSE 1.8991 \n",
      "18610\n",
      "75422\n",
      "Epoch 01996 | Loss 15.7201 | train_RMSE 1.8361 | test_RMSE 1.8388 \n"
     ]
    },
    {
     "name": "stderr",
     "output_type": "stream",
     "text": [
      "100%|██████████████████████████████████████▉| 1999/2000 [05:08<00:00,  6.44it/s]"
     ]
    },
    {
     "name": "stdout",
     "output_type": "stream",
     "text": [
      "18610\n",
      "75422\n",
      "Epoch 01997 | Loss 15.4582 | train_RMSE 1.8314 | test_RMSE 1.8330 \n",
      "18610\n",
      "75422\n",
      "Epoch 01998 | Loss 15.8676 | train_RMSE 1.8850 | test_RMSE 1.8825 \n"
     ]
    },
    {
     "name": "stderr",
     "output_type": "stream",
     "text": [
      "100%|███████████████████████████████████████| 2000/2000 [05:08<00:00,  6.48it/s]\n"
     ]
    },
    {
     "name": "stdout",
     "output_type": "stream",
     "text": [
      "18610\n",
      "75422\n",
      "Epoch 01999 | Loss 15.6345 | train_RMSE 1.8960 | test_RMSE 1.9008 \n",
      "best loss: 15.458209991455078\n",
      "Testing...\n",
      "75422\n",
      "18610\n",
      "train RMSE 1.8314\n",
      "test RMSE 1.8330\n"
     ]
    }
   ],
   "source": [
    "device = torch.device(\"cuda\" if torch.cuda.is_available() else \"cpu\")\n",
    "\n",
    "g = g.to(device)\n",
    "\n",
    "features = g.ndata['z']\n",
    "\n",
    "labels = g.ndata['y']\n",
    "\n",
    "masks = g.ndata['train_carbon_mask'], g.ndata['test_carbon_mask']\n",
    "\n",
    "model = NMR_GCN(in_size=in_size, hid_size=[hidden_size_1, hidden_size_2,\n",
    "                                       hidden_size_3, hidden_size_4], out_size=1).to(device)\n",
    "\n",
    "NMR_prediction = NMR_prediction(results_dir='godess/results/training_carbon.csv',\n",
    "                                results_dir_test = 'godess/results/testing_carbon.csv',\n",
    "                                model_dir='godess/results/Model_Godess_carbon.pt',\n",
    "                                num_epoch = num_epoch, \n",
    "                                lr = lr)\n",
    "\n",
    "print(\"Training...\")\n",
    "\n",
    "NMR_prediction.train(g, features, labels, masks, model)\n",
    "\n",
    "# test the model\n",
    "print(\"Testing...\")\n",
    "saved_model = NMR_GCN(in_size=in_size, hid_size=[hidden_size_1, hidden_size_2,\n",
    "                                                 hidden_size_3, hidden_size_4], out_size=1).to(device)\n",
    "saved_model.load_state_dict(torch.load(NMR_prediction.model_dir))\n",
    "\n",
    "acc1 = NMR_prediction.evaluate(g, features, labels, masks[0], saved_model, save_train=True, save_test = False)\n",
    "\n",
    "acc2 = NMR_prediction.evaluate(g, features, labels, masks[1], saved_model, save_train=False, save_test = True)\n",
    "\n",
    "\n",
    "print(\"train RMSE {:.4f}\".format(acc1))\n",
    "print(\"test RMSE {:.4f}\".format(acc2))"
   ]
  },
  {
   "cell_type": "code",
   "execution_count": null,
   "id": "4ae03708",
   "metadata": {},
   "outputs": [],
   "source": []
  },
  {
   "cell_type": "code",
   "execution_count": null,
   "id": "041baa09",
   "metadata": {},
   "outputs": [],
   "source": []
  }
 ],
 "metadata": {
  "kernelspec": {
   "display_name": "Python 3 (ipykernel)",
   "language": "python",
   "name": "python3"
  },
  "language_info": {
   "codemirror_mode": {
    "name": "ipython",
    "version": 3
   },
   "file_extension": ".py",
   "mimetype": "text/x-python",
   "name": "python",
   "nbconvert_exporter": "python",
   "pygments_lexer": "ipython3",
   "version": "3.8.15"
  }
 },
 "nbformat": 4,
 "nbformat_minor": 5
}
