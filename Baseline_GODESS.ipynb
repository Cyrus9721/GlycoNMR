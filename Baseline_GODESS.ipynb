{
 "cells": [
  {
   "cell_type": "code",
   "execution_count": 1,
   "id": "6ca9516c",
   "metadata": {},
   "outputs": [],
   "source": [
    "import numpy as np\n",
    "import pandas as pd\n",
    "import os\n",
    "from tqdm import tqdm\n",
    "import torch\n",
    "import torch.nn as nn\n",
    "\n",
    "# from train_evaluate import NMR_prediction\n",
    "\n",
    "import torch.nn.functional as F\n",
    "import dgl\n",
    "import dgl.nn as dglnn\n",
    "import torch.nn as nn\n",
    "from dgl import AddSelfLoop\n",
    "\n",
    "from model_2d.NMR_gcn import NMR_GCN\n",
    "\n",
    "from train_evaluate_2d import NMR_prediction\n",
    "\n",
    "from preprocess.create_node_embedding.node_embeddings_godess import create_node_embeddings\n",
    "\n",
    "from preprocess.build_adjaency_matrix.create_adjaency_matrix_godess import build_adjacency_matrix\n",
    "\n",
    "from preprocess.create_graph.create_graph_data_godess import create_graph\n",
    "\n",
    "# from dgl import save_graphs, load_graphs\n",
    "# from tqdm import tqdm\n",
    "from dgl import save_graphs, load_graphs"
   ]
  },
  {
   "cell_type": "markdown",
   "id": "93ce47cc",
   "metadata": {},
   "source": [
    "##### A Baseline model for GODESS using random forest\n",
    "\n",
    "We follow the same way of loading and testing the data as 2D GNN model, please refer 2D_GODESS.ipynb.\n",
    "\n",
    "Here, we encode the atom-level and monosaccharide-level features (fingerprints) as node embeddings.\n",
    "\n",
    "However, we use atom features as input to the random forest model, but ignore the atom connections."
   ]
  },
  {
   "cell_type": "code",
   "execution_count": 2,
   "id": "bd770799",
   "metadata": {},
   "outputs": [],
   "source": [
    "# data directory\n",
    "data_dir = 'godess/data/'\n",
    "\n",
    "# define the lengtht of the embeddings of each feature\n",
    "atom_name_dim=32\n",
    "\n",
    "bound_orig_dim=4\n",
    "\n",
    "atom_type_dim=4\n",
    "\n",
    "ab_dim=8\n",
    "\n",
    "dl_dim=8\n",
    "\n",
    "pf_dim=8\n",
    "\n",
    "mono_accurate_dim=16\n",
    "\n",
    "mono_simple_dim=32\n",
    "\n",
    "me_dim=4\n",
    "\n",
    "ser_dim=4\n",
    "\n",
    "s_dim=8\n",
    "\n",
    "ac_dim=8\n",
    "\n",
    "gc_dim=4"
   ]
  },
  {
   "cell_type": "code",
   "execution_count": 3,
   "id": "52de38d6",
   "metadata": {},
   "outputs": [
    {
     "name": "stderr",
     "output_type": "stream",
     "text": [
      "100%|██████████████████████████████████████| 2310/2310 [00:05<00:00, 403.98it/s]\n"
     ]
    }
   ],
   "source": [
    "C = create_node_embeddings(data_dir = data_dir)\n",
    "C.write_all_embeddings(atom_name_dim = atom_name_dim, bound_orig_dim = bound_orig_dim, \n",
    "                           atom_type_dim = atom_type_dim, ab_dim = ab_dim, dl_dim = dl_dim,\n",
    "                           pf_dim = pf_dim, mono_accurate_dim = mono_accurate_dim, \n",
    "                           mono_simple_dim = mono_simple_dim, me_dim=me_dim, \n",
    "                          ser_dim=ser_dim, s_dim=s_dim, ac_dim=ac_dim, gc_dim=gc_dim)"
   ]
  },
  {
   "cell_type": "code",
   "execution_count": 4,
   "id": "42c6d9bb",
   "metadata": {},
   "outputs": [],
   "source": [
    "threshold_carbon=1.65\n",
    "\n",
    "threshold_hydrogen=1.18\n",
    "\n",
    "threshold_general=1.5\n",
    "\n",
    "threshold_interaction=5.0"
   ]
  },
  {
   "cell_type": "code",
   "execution_count": 5,
   "id": "882a81d1",
   "metadata": {},
   "outputs": [
    {
     "name": "stderr",
     "output_type": "stream",
     "text": [
      "100%|███████████████████████████████████████| 2310/2310 [01:29<00:00, 25.69it/s]\n"
     ]
    }
   ],
   "source": [
    "B = build_adjacency_matrix(labeled_pdb_dir = data_dir,\n",
    "                           threshold_carbon=threshold_carbon,\n",
    "                           threshold_hydrogen=threshold_hydrogen, \n",
    "                           threshold_general=threshold_general, \n",
    "                           threshold_interaction=threshold_interaction)\n",
    "B.calculate_all_matrix()"
   ]
  },
  {
   "cell_type": "code",
   "execution_count": 6,
   "id": "c7cfc97c",
   "metadata": {},
   "outputs": [
    {
     "name": "stdout",
     "output_type": "stream",
     "text": [
      "--------------------------loading NMR Graph-------------------------------\n"
     ]
    },
    {
     "name": "stderr",
     "output_type": "stream",
     "text": [
      "100%|███████████████████████████████████████| 2310/2310 [01:14<00:00, 31.01it/s]\n"
     ]
    }
   ],
   "source": [
    "num_test = 462\n",
    "Create = create_graph(data_dir=data_dir, num_test=num_test)\n",
    "g, test_index = Create.create_all_graph()"
   ]
  },
  {
   "cell_type": "code",
   "execution_count": 15,
   "id": "4826d515",
   "metadata": {},
   "outputs": [],
   "source": [
    "# device = torch.device(\"cuda\" if torch.cuda.is_available() else \"cpu\")\n",
    "\n",
    "# g = g.to(device)\n",
    "\n",
    "features = g.ndata['z']\n",
    "\n",
    "labels = g.ndata['y']\n",
    "\n",
    "# masks = g.ndata['train_carbon_mask'], g.ndata['test_carbon_mask']\n",
    "\n",
    "masks = g.ndata['train_hydrogen_mask'], g.ndata['test_hydrogen_mask']"
   ]
  },
  {
   "cell_type": "code",
   "execution_count": 16,
   "id": "39328a27",
   "metadata": {},
   "outputs": [],
   "source": [
    "train_x = features.numpy()[masks[0]]\n",
    "test_x = features.numpy()[masks[1]]\n",
    "\n",
    "train_y = labels.numpy()[masks[0]]\n",
    "test_y = labels.numpy()[masks[1]]"
   ]
  },
  {
   "cell_type": "code",
   "execution_count": 21,
   "id": "93d5251f",
   "metadata": {},
   "outputs": [
    {
     "data": {
      "text/html": [
       "<style>#sk-container-id-3 {color: black;background-color: white;}#sk-container-id-3 pre{padding: 0;}#sk-container-id-3 div.sk-toggleable {background-color: white;}#sk-container-id-3 label.sk-toggleable__label {cursor: pointer;display: block;width: 100%;margin-bottom: 0;padding: 0.3em;box-sizing: border-box;text-align: center;}#sk-container-id-3 label.sk-toggleable__label-arrow:before {content: \"▸\";float: left;margin-right: 0.25em;color: #696969;}#sk-container-id-3 label.sk-toggleable__label-arrow:hover:before {color: black;}#sk-container-id-3 div.sk-estimator:hover label.sk-toggleable__label-arrow:before {color: black;}#sk-container-id-3 div.sk-toggleable__content {max-height: 0;max-width: 0;overflow: hidden;text-align: left;background-color: #f0f8ff;}#sk-container-id-3 div.sk-toggleable__content pre {margin: 0.2em;color: black;border-radius: 0.25em;background-color: #f0f8ff;}#sk-container-id-3 input.sk-toggleable__control:checked~div.sk-toggleable__content {max-height: 200px;max-width: 100%;overflow: auto;}#sk-container-id-3 input.sk-toggleable__control:checked~label.sk-toggleable__label-arrow:before {content: \"▾\";}#sk-container-id-3 div.sk-estimator input.sk-toggleable__control:checked~label.sk-toggleable__label {background-color: #d4ebff;}#sk-container-id-3 div.sk-label input.sk-toggleable__control:checked~label.sk-toggleable__label {background-color: #d4ebff;}#sk-container-id-3 input.sk-hidden--visually {border: 0;clip: rect(1px 1px 1px 1px);clip: rect(1px, 1px, 1px, 1px);height: 1px;margin: -1px;overflow: hidden;padding: 0;position: absolute;width: 1px;}#sk-container-id-3 div.sk-estimator {font-family: monospace;background-color: #f0f8ff;border: 1px dotted black;border-radius: 0.25em;box-sizing: border-box;margin-bottom: 0.5em;}#sk-container-id-3 div.sk-estimator:hover {background-color: #d4ebff;}#sk-container-id-3 div.sk-parallel-item::after {content: \"\";width: 100%;border-bottom: 1px solid gray;flex-grow: 1;}#sk-container-id-3 div.sk-label:hover label.sk-toggleable__label {background-color: #d4ebff;}#sk-container-id-3 div.sk-serial::before {content: \"\";position: absolute;border-left: 1px solid gray;box-sizing: border-box;top: 0;bottom: 0;left: 50%;z-index: 0;}#sk-container-id-3 div.sk-serial {display: flex;flex-direction: column;align-items: center;background-color: white;padding-right: 0.2em;padding-left: 0.2em;position: relative;}#sk-container-id-3 div.sk-item {position: relative;z-index: 1;}#sk-container-id-3 div.sk-parallel {display: flex;align-items: stretch;justify-content: center;background-color: white;position: relative;}#sk-container-id-3 div.sk-item::before, #sk-container-id-3 div.sk-parallel-item::before {content: \"\";position: absolute;border-left: 1px solid gray;box-sizing: border-box;top: 0;bottom: 0;left: 50%;z-index: -1;}#sk-container-id-3 div.sk-parallel-item {display: flex;flex-direction: column;z-index: 1;position: relative;background-color: white;}#sk-container-id-3 div.sk-parallel-item:first-child::after {align-self: flex-end;width: 50%;}#sk-container-id-3 div.sk-parallel-item:last-child::after {align-self: flex-start;width: 50%;}#sk-container-id-3 div.sk-parallel-item:only-child::after {width: 0;}#sk-container-id-3 div.sk-dashed-wrapped {border: 1px dashed gray;margin: 0 0.4em 0.5em 0.4em;box-sizing: border-box;padding-bottom: 0.4em;background-color: white;}#sk-container-id-3 div.sk-label label {font-family: monospace;font-weight: bold;display: inline-block;line-height: 1.2em;}#sk-container-id-3 div.sk-label-container {text-align: center;}#sk-container-id-3 div.sk-container {/* jupyter's `normalize.less` sets `[hidden] { display: none; }` but bootstrap.min.css set `[hidden] { display: none !important; }` so we also need the `!important` here to be able to override the default hidden behavior on the sphinx rendered scikit-learn.org. See: https://github.com/scikit-learn/scikit-learn/issues/21755 */display: inline-block !important;position: relative;}#sk-container-id-3 div.sk-text-repr-fallback {display: none;}</style><div id=\"sk-container-id-3\" class=\"sk-top-container\"><div class=\"sk-text-repr-fallback\"><pre>RandomForestRegressor(random_state=0)</pre><b>In a Jupyter environment, please rerun this cell to show the HTML representation or trust the notebook. <br />On GitHub, the HTML representation is unable to render, please try loading this page with nbviewer.org.</b></div><div class=\"sk-container\" hidden><div class=\"sk-item\"><div class=\"sk-estimator sk-toggleable\"><input class=\"sk-toggleable__control sk-hidden--visually\" id=\"sk-estimator-id-3\" type=\"checkbox\" checked><label for=\"sk-estimator-id-3\" class=\"sk-toggleable__label sk-toggleable__label-arrow\">RandomForestRegressor</label><div class=\"sk-toggleable__content\"><pre>RandomForestRegressor(random_state=0)</pre></div></div></div></div></div>"
      ],
      "text/plain": [
       "RandomForestRegressor(random_state=0)"
      ]
     },
     "execution_count": 21,
     "metadata": {},
     "output_type": "execute_result"
    }
   ],
   "source": [
    "from sklearn.ensemble import RandomForestRegressor\n",
    "from sklearn.datasets import make_regression\n",
    "\n",
    "regr = RandomForestRegressor(random_state = 0)\n",
    "\n",
    "regr.fit(train_x, train_y)"
   ]
  },
  {
   "cell_type": "code",
   "execution_count": 22,
   "id": "3320a873",
   "metadata": {},
   "outputs": [],
   "source": [
    "pred_y = regr.predict(test_x)"
   ]
  },
  {
   "cell_type": "code",
   "execution_count": 23,
   "id": "943211e5",
   "metadata": {},
   "outputs": [],
   "source": [
    "import numpy as np\n",
    "\n",
    "def rmse(predictions, targets):\n",
    "    return np.sqrt(((predictions - targets) ** 2).mean())"
   ]
  },
  {
   "cell_type": "code",
   "execution_count": 24,
   "id": "c30227d8",
   "metadata": {},
   "outputs": [
    {
     "data": {
      "text/plain": [
       "0.13213551225380524"
      ]
     },
     "execution_count": 24,
     "metadata": {},
     "output_type": "execute_result"
    }
   ],
   "source": [
    "rmse(pred_y, test_y)"
   ]
  },
  {
   "cell_type": "code",
   "execution_count": null,
   "id": "3eb32d15",
   "metadata": {},
   "outputs": [],
   "source": []
  }
 ],
 "metadata": {
  "kernelspec": {
   "display_name": "Python 3 (ipykernel)",
   "language": "python",
   "name": "python3"
  },
  "language_info": {
   "codemirror_mode": {
    "name": "ipython",
    "version": 3
   },
   "file_extension": ".py",
   "mimetype": "text/x-python",
   "name": "python",
   "nbconvert_exporter": "python",
   "pygments_lexer": "ipython3",
   "version": "3.8.15"
  }
 },
 "nbformat": 4,
 "nbformat_minor": 5
}
