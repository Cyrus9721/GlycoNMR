{
 "cells": [
  {
   "cell_type": "code",
   "execution_count": 1,
   "id": "4ec2fd71",
   "metadata": {},
   "outputs": [],
   "source": [
    "import numpy as np\n",
    "import pandas as pd\n",
    "import os\n",
    "from tqdm import tqdm\n",
    "import torch\n",
    "import torch.nn as nn\n",
    "\n",
    "import torch.nn.functional as F\n",
    "import dgl\n",
    "import dgl.nn as dglnn\n",
    "import torch.nn as nn\n",
    "from dgl import AddSelfLoop\n",
    "\n",
    "from model_2d.NMR_gcn import NMR_GCN\n",
    "\n",
    "from train_evaluate_2d import NMR_prediction\n",
    "\n",
    "from preprocess.create_node_embedding.node_embeddings_glycoscience import create_node_embeddings\n",
    "\n",
    "from preprocess.build_adjaency_matrix.create_adjaency_matrix_glycoscience import build_adjacency_matrix\n",
    "\n",
    "from preprocess.create_graph.create_graph_data_glycosciencedb import create_graph\n",
    "\n",
    "from dgl import save_graphs, load_graphs\n",
    "\n",
    "from sklearn.metrics import r2_score"
   ]
  },
  {
   "cell_type": "markdown",
   "id": "c7e1fd16",
   "metadata": {},
   "source": [
    "### Explaniation of 2D GlycoNMR code at https://github.com/Cyrus9721/GlycoNMR"
   ]
  },
  {
   "cell_type": "markdown",
   "id": "9d04da1f",
   "metadata": {},
   "source": [
    "##### 1, Create Node embeddings"
   ]
  },
  {
   "cell_type": "markdown",
   "id": "ba01791d",
   "metadata": {},
   "source": [
    "<div>\n",
    "<img src=\"Picture1.png\" width=\"500\"/>\n",
    "</div>"
   ]
  },
  {
   "cell_type": "markdown",
   "id": "150526f0",
   "metadata": {},
   "source": [
    "##### Initialize atom-level node embeddings based on extracted atom and monosaccharide features. \n",
    "\n",
    "##### Due to the inconsistent of data formating, as GlycoscienceDB is retrieved from various labs, the method of creating node embedding is slighly different from GODESS.\n",
    "\n",
    "1, atom_dim: dimension of the atom name that indicate ring position, Eg: 04, C4, C3...\n",
    "\n",
    "2, mono_dim: dimension of the monosaccharide name, glc.\n",
    "\n",
    "3, ab_dim: dimension of the anomeric orientation of hydroxyl group.\n",
    "\n",
    "4, dl_dim: dimension of the fischer convention, fischer d, l.\n",
    "\n",
    "5, pf_dim: dimension of the number of carbon p, f.\n",
    "\n",
    "6, residual_dim: dimension of the residual number starting from the root as number 1.\n",
    "\n"
   ]
  },
  {
   "cell_type": "code",
   "execution_count": 2,
   "id": "b8cac0c6",
   "metadata": {},
   "outputs": [],
   "source": [
    "atom_dim = 256\n",
    "\n",
    "residual_dim = 128\n",
    "\n",
    "mono_dim = 64\n",
    "ab_dim = 64\n",
    "dl_dim = 64\n",
    "pf_dim = 64\n",
    "\n",
    "seed=9721"
   ]
  },
  {
   "cell_type": "code",
   "execution_count": 3,
   "id": "a5c4d083",
   "metadata": {},
   "outputs": [
    {
     "name": "stderr",
     "output_type": "stream",
     "text": [
      "100%|██████████| 299/299 [00:00<00:00, 661.29it/s]\n"
     ]
    }
   ],
   "source": [
    "C = create_node_embeddings(seed=seed)\n",
    "\n",
    "df_atom_embedding, df_residual_embedding, df_monosaccharide_embedding, df_ab_embedding, df_dl_embedding, df_pf_embedding =\\\n",
    "C.create_all_embeddings(atom_dim=atom_dim, residual_dim=residual_dim, mono_dim=mono_dim, \n",
    "                       ab_dim=ab_dim, dl_dim=dl_dim, pf_dim=pf_dim)\n",
    "\n"
   ]
  },
  {
   "cell_type": "code",
   "execution_count": 4,
   "id": "dc4f7c3c",
   "metadata": {},
   "outputs": [],
   "source": [
    "df_atom_embedding.to_csv(C.out_atom_embed, index=False)\n",
    "df_residual_embedding.to_csv(C.out_residual_embed, index=False)\n",
    "df_monosaccharide_embedding.to_csv(C.out_monosaccharide_embed, index=False)\n",
    "\n",
    "df_ab_embedding.to_csv(C.out_bound_ab, index = False) \n",
    "df_dl_embedding.to_csv(C.out_bound_dl, index = False) \n",
    "df_pf_embedding.to_csv(C.out_carbon_pf, index = False) "
   ]
  },
  {
   "cell_type": "markdown",
   "id": "f964ed60",
   "metadata": {},
   "source": [
    "##### 2, Create adjaency matrix"
   ]
  },
  {
   "cell_type": "markdown",
   "id": "6633ba35",
   "metadata": {},
   "source": [
    "<div>\n",
    "<img src=\"Picture2.png\" width=\"500\"/>\n",
    "</div>"
   ]
  },
  {
   "cell_type": "markdown",
   "id": "0334690a",
   "metadata": {},
   "source": [
    "##### Build adjaency matrix based on threshold distance between atoms\n",
    "\n",
    "1, threshold_carbon: we construct edges between two carbon atom if their distance is within 1.65Å. \n",
    "\n",
    "2, threshold_hydrogen: we construct edges between two hydrogen atom if their distance is within 1.18Å. \n",
    "\n",
    "3, threshold_general: for all other atoms, we construct edges between distance two atom is within 1.5Å. \n",
    "\n",
    "4, threshold_interaction: we construct interaction edges between atoms if their distance is with in 5Å. \n"
   ]
  },
  {
   "cell_type": "code",
   "execution_count": 5,
   "id": "25f8b16c",
   "metadata": {},
   "outputs": [],
   "source": [
    "B = build_adjacency_matrix()"
   ]
  },
  {
   "cell_type": "code",
   "execution_count": 6,
   "id": "34c49356",
   "metadata": {},
   "outputs": [
    {
     "name": "stderr",
     "output_type": "stream",
     "text": [
      "100%|██████████| 299/299 [00:05<00:00, 57.73it/s] \n"
     ]
    }
   ],
   "source": [
    "B.calculate_all_matrix()"
   ]
  },
  {
   "cell_type": "markdown",
   "id": "8092125b",
   "metadata": {},
   "source": [
    "##### 3, Create glycan graph"
   ]
  },
  {
   "cell_type": "markdown",
   "id": "035129c4",
   "metadata": {},
   "source": [
    "<div>\n",
    "<img src=\"Picture3.png\" width=\"800\"/>\n",
    "</div>"
   ]
  },
  {
   "cell_type": "code",
   "execution_count": 7,
   "id": "1bb59a74",
   "metadata": {},
   "outputs": [],
   "source": [
    "# shift_all = g.ndata[\"shift_value\"].numpy()\n",
    "\n",
    "# test_mask = g.ndata['test_carbon_mask'].numpy()\n",
    "\n",
    "# test_shift = shift_all[test_mask]\n",
    "\n",
    "# var_y = test_shift.var()\n",
    "\n",
    "\n",
    "\n",
    "# print(var_y ** (1/2))\n",
    "\n",
    "\n",
    "# test_shift.min(), test_shift.max()\n",
    "\n",
    "# 1 - (1.2 ** 2) / var_y"
   ]
  },
  {
   "cell_type": "code",
   "execution_count": 8,
   "id": "5c38d47c",
   "metadata": {},
   "outputs": [
    {
     "data": {
      "text/plain": [
       "20.73644135332772"
      ]
     },
     "execution_count": 8,
     "metadata": {},
     "output_type": "execute_result"
    }
   ],
   "source": [
    "np.sqrt(430)"
   ]
  },
  {
   "cell_type": "markdown",
   "id": "9be23bb9",
   "metadata": {},
   "source": [
    "##### create glycan graph from prebuilt node embeddings and adjaency matrix, every glycan is considered as a graph and every atom is consided as a node\n",
    "\n",
    "1, num_test: number of testing glycans, we randomly select 20% of the glycans as test set\n"
   ]
  },
  {
   "cell_type": "code",
   "execution_count": 9,
   "id": "3f34a981",
   "metadata": {},
   "outputs": [],
   "source": [
    "num_test = 60 # 299 * 20% "
   ]
  },
  {
   "cell_type": "code",
   "execution_count": 10,
   "id": "d07d31c3",
   "metadata": {},
   "outputs": [
    {
     "name": "stdout",
     "output_type": "stream",
     "text": [
      "--------------------------loading NMR Graph-------------------------------\n"
     ]
    },
    {
     "name": "stderr",
     "output_type": "stream",
     "text": [
      "100%|██████████| 299/299 [00:09<00:00, 30.75it/s]\n"
     ]
    }
   ],
   "source": [
    "Create = create_graph(num_test=num_test, seed=seed)\n",
    "g, test_index = Create.create_all_graph()"
   ]
  },
  {
   "cell_type": "markdown",
   "id": "5ca3a45e",
   "metadata": {},
   "source": [
    "##### 4, Train a GNN model"
   ]
  },
  {
   "cell_type": "markdown",
   "id": "0b970eb6",
   "metadata": {},
   "source": [
    "<div>\n",
    "<img src=\"Picture4.png\" width=\"800\"/>\n",
    "</div>"
   ]
  },
  {
   "cell_type": "code",
   "execution_count": 11,
   "id": "3467272a",
   "metadata": {},
   "outputs": [],
   "source": [
    "num_epoch = 1000\n",
    "lr = 1e-2"
   ]
  },
  {
   "cell_type": "code",
   "execution_count": 12,
   "id": "170b18e1",
   "metadata": {},
   "outputs": [],
   "source": [
    "in_size = atom_dim + mono_dim + ab_dim + dl_dim + pf_dim\n",
    "\n",
    "\n",
    "hidden_size_1 = int(in_size / 2)\n",
    "hidden_size_2 = 256\n",
    "hidden_size_3 = 128\n",
    "hidden_size_4 = 32"
   ]
  },
  {
   "cell_type": "code",
   "execution_count": 13,
   "id": "79d31177",
   "metadata": {
    "scrolled": true
   },
   "outputs": [
    {
     "name": "stdout",
     "output_type": "stream",
     "text": [
      "torch.float32\n",
      "torch.float32\n",
      "Training...\n"
     ]
    },
    {
     "name": "stderr",
     "output_type": "stream",
     "text": [
      "  0%|          | 1/1000 [00:00<14:40,  1.13it/s]"
     ]
    },
    {
     "name": "stdout",
     "output_type": "stream",
     "text": [
      "Epoch 00000 | Loss 6230.1094 | train_RMSE 63.2244 | train_r2 -977.9870 | test_RMSE 63.1746 | test_r2 -693.4457 \n"
     ]
    },
    {
     "name": "stderr",
     "output_type": "stream",
     "text": [
      "\r",
      "  0%|          | 2/1000 [00:01<14:36,  1.14it/s]"
     ]
    },
    {
     "name": "stdout",
     "output_type": "stream",
     "text": [
      "Epoch 00001 | Loss 3999.1035 | train_RMSE 122.7903 | train_r2 -17.8722 | test_RMSE 113.4124 | test_r2 -10.2595 \n"
     ]
    },
    {
     "name": "stderr",
     "output_type": "stream",
     "text": [
      "\r",
      "  0%|          | 3/1000 [00:02<14:36,  1.14it/s]"
     ]
    },
    {
     "name": "stdout",
     "output_type": "stream",
     "text": [
      "Epoch 00002 | Loss 15234.2822 | train_RMSE 41.8878 | train_r2 -66.8129 | test_RMSE 43.0305 | test_r2 -51.8453 \n"
     ]
    },
    {
     "name": "stderr",
     "output_type": "stream",
     "text": [
      "\r",
      "  0%|          | 4/1000 [00:03<14:49,  1.12it/s]"
     ]
    },
    {
     "name": "stdout",
     "output_type": "stream",
     "text": [
      "Epoch 00003 | Loss 1759.7655 | train_RMSE 66.7754 | train_r2 -1725.6455 | test_RMSE 66.3815 | test_r2 -1404.9322 \n"
     ]
    },
    {
     "name": "stderr",
     "output_type": "stream",
     "text": [
      "\r",
      "  0%|          | 5/1000 [00:04<14:42,  1.13it/s]"
     ]
    },
    {
     "name": "stdout",
     "output_type": "stream",
     "text": [
      "Epoch 00004 | Loss 4456.0903 | train_RMSE 69.2935 | train_r2 -2630.2195 | test_RMSE 68.8136 | test_r2 -2020.8226 \n"
     ]
    },
    {
     "name": "stderr",
     "output_type": "stream",
     "text": [
      "\r",
      "  1%|          | 6/1000 [00:05<14:54,  1.11it/s]"
     ]
    },
    {
     "name": "stdout",
     "output_type": "stream",
     "text": [
      "Epoch 00005 | Loss 4800.4458 | train_RMSE 62.1762 | train_r2 -590.2232 | test_RMSE 62.2467 | test_r2 -413.1802 \n"
     ]
    },
    {
     "name": "stderr",
     "output_type": "stream",
     "text": [
      "\r",
      "  1%|          | 7/1000 [00:06<15:02,  1.10it/s]"
     ]
    },
    {
     "name": "stdout",
     "output_type": "stream",
     "text": [
      "Epoch 00006 | Loss 3866.6816 | train_RMSE 37.8408 | train_r2 -25.3305 | test_RMSE 39.8254 | test_r2 -19.1538 \n"
     ]
    },
    {
     "name": "stderr",
     "output_type": "stream",
     "text": [
      "\r",
      "  1%|          | 8/1000 [00:07<14:57,  1.11it/s]"
     ]
    },
    {
     "name": "stdout",
     "output_type": "stream",
     "text": [
      "Epoch 00007 | Loss 1440.1746 | train_RMSE 51.5258 | train_r2 -5.5099 | test_RMSE 47.0006 | test_r2 -2.7835 \n"
     ]
    },
    {
     "name": "stderr",
     "output_type": "stream",
     "text": [
      "\r",
      "  1%|          | 9/1000 [00:08<14:54,  1.11it/s]"
     ]
    },
    {
     "name": "stdout",
     "output_type": "stream",
     "text": [
      "Epoch 00008 | Loss 2683.8333 | train_RMSE 37.2165 | train_r2 -3.9927 | test_RMSE 34.4445 | test_r2 -2.0227 \n"
     ]
    },
    {
     "name": "stderr",
     "output_type": "stream",
     "text": [
      "\r",
      "  1%|          | 10/1000 [00:08<14:59,  1.10it/s]"
     ]
    },
    {
     "name": "stdout",
     "output_type": "stream",
     "text": [
      "Epoch 00009 | Loss 1397.1864 | train_RMSE 23.9783 | train_r2 -4.8690 | test_RMSE 26.2658 | test_r2 -4.2134 \n"
     ]
    },
    {
     "name": "stderr",
     "output_type": "stream",
     "text": [
      "\r",
      "  1%|          | 11/1000 [00:09<15:03,  1.09it/s]"
     ]
    },
    {
     "name": "stdout",
     "output_type": "stream",
     "text": [
      "Epoch 00010 | Loss 585.4378 | train_RMSE 36.9709 | train_r2 -27.6219 | test_RMSE 38.5134 | test_r2 -24.0318 \n"
     ]
    },
    {
     "name": "stderr",
     "output_type": "stream",
     "text": [
      "\r",
      "  1%|          | 12/1000 [00:10<15:02,  1.09it/s]"
     ]
    },
    {
     "name": "stdout",
     "output_type": "stream",
     "text": [
      "Epoch 00011 | Loss 1376.5013 | train_RMSE 35.3676 | train_r2 -24.3462 | test_RMSE 36.9029 | test_r2 -21.5999 \n"
     ]
    },
    {
     "name": "stderr",
     "output_type": "stream",
     "text": [
      "\r",
      "  1%|▏         | 13/1000 [00:11<15:01,  1.10it/s]"
     ]
    },
    {
     "name": "stdout",
     "output_type": "stream",
     "text": [
      "Epoch 00012 | Loss 1260.1672 | train_RMSE 23.1011 | train_r2 -5.1249 | test_RMSE 24.9878 | test_r2 -4.7246 \n"
     ]
    },
    {
     "name": "stderr",
     "output_type": "stream",
     "text": [
      "\r",
      "  1%|▏         | 14/1000 [00:12<15:00,  1.09it/s]"
     ]
    },
    {
     "name": "stdout",
     "output_type": "stream",
     "text": [
      "Epoch 00013 | Loss 550.1852 | train_RMSE 26.2932 | train_r2 -3.0085 | test_RMSE 24.8561 | test_r2 -1.8298 \n"
     ]
    },
    {
     "name": "stderr",
     "output_type": "stream",
     "text": [
      "\r",
      "  2%|▏         | 15/1000 [00:13<14:58,  1.10it/s]"
     ]
    },
    {
     "name": "stdout",
     "output_type": "stream",
     "text": [
      "Epoch 00014 | Loss 714.5822 | train_RMSE 32.6386 | train_r2 -4.0610 | test_RMSE 30.1320 | test_r2 -2.4989 \n"
     ]
    },
    {
     "name": "stderr",
     "output_type": "stream",
     "text": [
      "\r",
      "  2%|▏         | 16/1000 [00:14<14:55,  1.10it/s]"
     ]
    },
    {
     "name": "stdout",
     "output_type": "stream",
     "text": [
      "Epoch 00015 | Loss 1102.2537 | train_RMSE 19.8696 | train_r2 -1.6977 | test_RMSE 19.9360 | test_r2 -1.3396 \n"
     ]
    },
    {
     "name": "stderr",
     "output_type": "stream",
     "text": [
      "\r",
      "  2%|▏         | 17/1000 [00:15<14:56,  1.10it/s]"
     ]
    },
    {
     "name": "stdout",
     "output_type": "stream",
     "text": [
      "Epoch 00016 | Loss 415.0341 | train_RMSE 22.7436 | train_r2 -4.2332 | test_RMSE 24.2095 | test_r2 -4.5461 \n"
     ]
    },
    {
     "name": "stderr",
     "output_type": "stream",
     "text": [
      "\r",
      "  2%|▏         | 18/1000 [00:16<14:52,  1.10it/s]"
     ]
    },
    {
     "name": "stdout",
     "output_type": "stream",
     "text": [
      "Epoch 00017 | Loss 528.7306 | train_RMSE 27.5219 | train_r2 -7.7461 | test_RMSE 28.7120 | test_r2 -8.2753 \n"
     ]
    },
    {
     "name": "stderr",
     "output_type": "stream",
     "text": [
      "\r",
      "  2%|▏         | 19/1000 [00:17<14:50,  1.10it/s]"
     ]
    },
    {
     "name": "stdout",
     "output_type": "stream",
     "text": [
      "Epoch 00018 | Loss 769.0729 | train_RMSE 24.1149 | train_r2 -4.4651 | test_RMSE 25.3122 | test_r2 -4.9596 \n"
     ]
    },
    {
     "name": "stderr",
     "output_type": "stream",
     "text": [
      "\r",
      "  2%|▏         | 20/1000 [00:18<14:59,  1.09it/s]"
     ]
    },
    {
     "name": "stdout",
     "output_type": "stream",
     "text": [
      "Epoch 00019 | Loss 588.8983 | train_RMSE 17.1620 | train_r2 -0.7697 | test_RMSE 18.1451 | test_r2 -0.9712 \n"
     ]
    },
    {
     "name": "stderr",
     "output_type": "stream",
     "text": [
      "\r",
      "  2%|▏         | 21/1000 [00:19<14:58,  1.09it/s]"
     ]
    },
    {
     "name": "stdout",
     "output_type": "stream",
     "text": [
      "Epoch 00020 | Loss 312.3486 | train_RMSE 20.8304 | train_r2 -0.6854 | test_RMSE 20.3112 | test_r2 -0.6063 \n"
     ]
    },
    {
     "name": "stderr",
     "output_type": "stream",
     "text": [
      "\r",
      "  2%|▏         | 22/1000 [00:19<14:54,  1.09it/s]"
     ]
    },
    {
     "name": "stdout",
     "output_type": "stream",
     "text": [
      "Epoch 00021 | Loss 464.1015 | train_RMSE 23.3312 | train_r2 -0.8421 | test_RMSE 22.5428 | test_r2 -0.7474 \n"
     ]
    },
    {
     "name": "stderr",
     "output_type": "stream",
     "text": [
      "\r",
      "  2%|▏         | 23/1000 [00:20<14:48,  1.10it/s]"
     ]
    },
    {
     "name": "stdout",
     "output_type": "stream",
     "text": [
      "Epoch 00022 | Loss 570.2548 | train_RMSE 16.7568 | train_r2 -0.1460 | test_RMSE 16.9758 | test_r2 -0.2179 \n"
     ]
    },
    {
     "name": "stderr",
     "output_type": "stream",
     "text": [
      "\r",
      "  2%|▏         | 24/1000 [00:21<14:49,  1.10it/s]"
     ]
    },
    {
     "name": "stdout",
     "output_type": "stream",
     "text": [
      "Epoch 00023 | Loss 302.4391 | train_RMSE 17.4030 | train_r2 -0.6345 | test_RMSE 18.1577 | test_r2 -0.8693 \n"
     ]
    },
    {
     "name": "stderr",
     "output_type": "stream",
     "text": [
      "\r",
      "  2%|▎         | 25/1000 [00:22<14:56,  1.09it/s]"
     ]
    },
    {
     "name": "stdout",
     "output_type": "stream",
     "text": [
      "Epoch 00024 | Loss 318.1967 | train_RMSE 20.9020 | train_r2 -1.7201 | test_RMSE 21.4491 | test_r2 -2.0276 \n"
     ]
    },
    {
     "name": "stderr",
     "output_type": "stream",
     "text": [
      "\r",
      "  3%|▎         | 26/1000 [00:23<14:56,  1.09it/s]"
     ]
    },
    {
     "name": "stdout",
     "output_type": "stream",
     "text": [
      "Epoch 00025 | Loss 451.7192 | train_RMSE 19.2436 | train_r2 -1.1200 | test_RMSE 19.7492 | test_r2 -1.3606 \n"
     ]
    },
    {
     "name": "stderr",
     "output_type": "stream",
     "text": [
      "\r",
      "  3%|▎         | 27/1000 [00:24<14:48,  1.09it/s]"
     ]
    },
    {
     "name": "stdout",
     "output_type": "stream",
     "text": [
      "Epoch 00026 | Loss 386.2895 | train_RMSE 14.9405 | train_r2 0.0029 | test_RMSE 15.5151 | test_r2 -0.1343 \n"
     ]
    },
    {
     "name": "stderr",
     "output_type": "stream",
     "text": [
      "\r",
      "  3%|▎         | 28/1000 [00:25<14:47,  1.09it/s]"
     ]
    },
    {
     "name": "stdout",
     "output_type": "stream",
     "text": [
      "Epoch 00027 | Loss 240.2299 | train_RMSE 16.4507 | train_r2 0.0570 | test_RMSE 16.7538 | test_r2 -0.0288 \n"
     ]
    },
    {
     "name": "stderr",
     "output_type": "stream",
     "text": [
      "\r",
      "  3%|▎         | 29/1000 [00:26<14:47,  1.09it/s]"
     ]
    },
    {
     "name": "stdout",
     "output_type": "stream",
     "text": [
      "Epoch 00028 | Loss 292.6894 | train_RMSE 18.3663 | train_r2 -0.0823 | test_RMSE 18.5947 | test_r2 -0.1637 \n"
     ]
    },
    {
     "name": "stderr",
     "output_type": "stream",
     "text": [
      "\r",
      "  3%|▎         | 30/1000 [00:27<14:42,  1.10it/s]"
     ]
    },
    {
     "name": "stdout",
     "output_type": "stream",
     "text": [
      "Epoch 00029 | Loss 358.0483 | train_RMSE 14.7275 | train_r2 0.2148 | test_RMSE 15.2571 | test_r2 0.1193 \n"
     ]
    },
    {
     "name": "stderr",
     "output_type": "stream",
     "text": [
      "\r",
      "  3%|▎         | 31/1000 [00:28<14:39,  1.10it/s]"
     ]
    },
    {
     "name": "stdout",
     "output_type": "stream",
     "text": [
      "Epoch 00030 | Loss 238.4369 | train_RMSE 14.3627 | train_r2 0.1002 | test_RMSE 14.8259 | test_r2 0.0016 \n"
     ]
    },
    {
     "name": "stderr",
     "output_type": "stream",
     "text": [
      "\r",
      "  3%|▎         | 32/1000 [00:29<14:33,  1.11it/s]"
     ]
    },
    {
     "name": "stdout",
     "output_type": "stream",
     "text": [
      "Epoch 00031 | Loss 224.3377 | train_RMSE 16.4678 | train_r2 -0.3575 | test_RMSE 16.6369 | test_r2 -0.4363 \n"
     ]
    },
    {
     "name": "stderr",
     "output_type": "stream",
     "text": [
      "\r",
      "  3%|▎         | 33/1000 [00:29<14:31,  1.11it/s]"
     ]
    },
    {
     "name": "stdout",
     "output_type": "stream",
     "text": [
      "Epoch 00032 | Loss 286.8852 | train_RMSE 15.4047 | train_r2 -0.1813 | test_RMSE 15.5572 | test_r2 -0.2452 \n"
     ]
    },
    {
     "name": "stderr",
     "output_type": "stream",
     "text": [
      "\r",
      "  3%|▎         | 34/1000 [00:30<14:31,  1.11it/s]"
     ]
    },
    {
     "name": "stdout",
     "output_type": "stream",
     "text": [
      "Epoch 00033 | Loss 247.2660 | train_RMSE 12.8734 | train_r2 0.2755 | test_RMSE 13.2878 | test_r2 0.2029 \n"
     ]
    },
    {
     "name": "stderr",
     "output_type": "stream",
     "text": [
      "\r",
      "  4%|▎         | 35/1000 [00:31<14:37,  1.10it/s]"
     ]
    },
    {
     "name": "stdout",
     "output_type": "stream",
     "text": [
      "Epoch 00034 | Loss 184.7743 | train_RMSE 13.6305 | train_r2 0.3006 | test_RMSE 14.2552 | test_r2 0.2111 \n"
     ]
    },
    {
     "name": "stderr",
     "output_type": "stream",
     "text": [
      "\r",
      "  4%|▎         | 36/1000 [00:32<14:37,  1.10it/s]"
     ]
    },
    {
     "name": "stdout",
     "output_type": "stream",
     "text": [
      "Epoch 00035 | Loss 208.2638 | train_RMSE 14.4407 | train_r2 0.2552 | test_RMSE 15.0950 | test_r2 0.1635 \n"
     ]
    },
    {
     "name": "stderr",
     "output_type": "stream",
     "text": [
      "\r",
      "  4%|▎         | 37/1000 [00:33<14:31,  1.11it/s]"
     ]
    },
    {
     "name": "stdout",
     "output_type": "stream",
     "text": [
      "Epoch 00036 | Loss 231.3998 | train_RMSE 12.3849 | train_r2 0.4203 | test_RMSE 12.9648 | test_r2 0.3502 \n"
     ]
    },
    {
     "name": "stderr",
     "output_type": "stream",
     "text": [
      "\r",
      "  4%|▍         | 38/1000 [00:34<14:28,  1.11it/s]"
     ]
    },
    {
     "name": "stdout",
     "output_type": "stream",
     "text": [
      "Epoch 00037 | Loss 174.0428 | train_RMSE 12.4613 | train_r2 0.3738 | test_RMSE 12.5771 | test_r2 0.3506 \n"
     ]
    },
    {
     "name": "stderr",
     "output_type": "stream",
     "text": [
      "\r",
      "  4%|▍         | 39/1000 [00:35<14:23,  1.11it/s]"
     ]
    },
    {
     "name": "stdout",
     "output_type": "stream",
     "text": [
      "Epoch 00038 | Loss 175.3281 | train_RMSE 13.2382 | train_r2 0.2538 | test_RMSE 13.0763 | test_r2 0.2655 \n"
     ]
    },
    {
     "name": "stderr",
     "output_type": "stream",
     "text": [
      "\r",
      "  4%|▍         | 40/1000 [00:36<14:22,  1.11it/s]"
     ]
    },
    {
     "name": "stdout",
     "output_type": "stream",
     "text": [
      "Epoch 00039 | Loss 189.6033 | train_RMSE 12.1335 | train_r2 0.3900 | test_RMSE 12.0736 | test_r2 0.3955 \n"
     ]
    },
    {
     "name": "stderr",
     "output_type": "stream",
     "text": [
      "\r",
      "  4%|▍         | 41/1000 [00:37<14:49,  1.08it/s]"
     ]
    },
    {
     "name": "stdout",
     "output_type": "stream",
     "text": [
      "Epoch 00040 | Loss 164.1627 | train_RMSE 11.1239 | train_r2 0.5388 | test_RMSE 11.4600 | test_r2 0.5132 \n"
     ]
    },
    {
     "name": "stderr",
     "output_type": "stream",
     "text": [
      "\r",
      "  4%|▍         | 42/1000 [00:38<14:50,  1.08it/s]"
     ]
    },
    {
     "name": "stdout",
     "output_type": "stream",
     "text": [
      "Epoch 00041 | Loss 144.2323 | train_RMSE 11.7160 | train_r2 0.5443 | test_RMSE 12.3486 | test_r2 0.4991 \n"
     ]
    },
    {
     "name": "stderr",
     "output_type": "stream",
     "text": [
      "\r",
      "  4%|▍         | 43/1000 [00:39<14:50,  1.08it/s]"
     ]
    },
    {
     "name": "stdout",
     "output_type": "stream",
     "text": [
      "Epoch 00042 | Loss 159.9954 | train_RMSE 11.3284 | train_r2 0.6037 | test_RMSE 11.9843 | test_r2 0.5630 \n"
     ]
    },
    {
     "name": "stderr",
     "output_type": "stream",
     "text": [
      "\r",
      "  4%|▍         | 44/1000 [00:40<14:58,  1.06it/s]"
     ]
    },
    {
     "name": "stdout",
     "output_type": "stream",
     "text": [
      "Epoch 00043 | Loss 151.0932 | train_RMSE 10.8400 | train_r2 0.6547 | test_RMSE 11.1081 | test_r2 0.6426 \n"
     ]
    },
    {
     "name": "stderr",
     "output_type": "stream",
     "text": [
      "\r",
      "  4%|▍         | 45/1000 [00:41<14:52,  1.07it/s]"
     ]
    },
    {
     "name": "stdout",
     "output_type": "stream",
     "text": [
      "Epoch 00044 | Loss 138.1456 | train_RMSE 10.9216 | train_r2 0.6255 | test_RMSE 10.9358 | test_r2 0.6341 \n"
     ]
    },
    {
     "name": "stderr",
     "output_type": "stream",
     "text": [
      "\r",
      "  5%|▍         | 46/1000 [00:41<14:45,  1.08it/s]"
     ]
    },
    {
     "name": "stdout",
     "output_type": "stream",
     "text": [
      "Epoch 00045 | Loss 136.2771 | train_RMSE 10.4604 | train_r2 0.6391 | test_RMSE 10.5394 | test_r2 0.6466 \n"
     ]
    },
    {
     "name": "stderr",
     "output_type": "stream",
     "text": [
      "\r",
      "  5%|▍         | 47/1000 [00:42<14:42,  1.08it/s]"
     ]
    },
    {
     "name": "stdout",
     "output_type": "stream",
     "text": [
      "Epoch 00046 | Loss 126.0222 | train_RMSE 10.1870 | train_r2 0.6522 | test_RMSE 10.4107 | test_r2 0.6522 \n"
     ]
    },
    {
     "name": "stderr",
     "output_type": "stream",
     "text": [
      "\r",
      "  5%|▍         | 48/1000 [00:43<14:39,  1.08it/s]"
     ]
    },
    {
     "name": "stdout",
     "output_type": "stream",
     "text": [
      "Epoch 00047 | Loss 123.5881 | train_RMSE 10.1720 | train_r2 0.6519 | test_RMSE 10.4662 | test_r2 0.6494 \n"
     ]
    },
    {
     "name": "stderr",
     "output_type": "stream",
     "text": [
      "\r",
      "  5%|▍         | 49/1000 [00:44<14:33,  1.09it/s]"
     ]
    },
    {
     "name": "stdout",
     "output_type": "stream",
     "text": [
      "Epoch 00048 | Loss 124.1021 | train_RMSE 10.0071 | train_r2 0.6592 | test_RMSE 10.2232 | test_r2 0.6635 \n"
     ]
    },
    {
     "name": "stderr",
     "output_type": "stream",
     "text": [
      "\r",
      "  5%|▌         | 50/1000 [00:45<14:22,  1.10it/s]"
     ]
    },
    {
     "name": "stdout",
     "output_type": "stream",
     "text": [
      "Epoch 00049 | Loss 119.4731 | train_RMSE 9.8193 | train_r2 0.6673 | test_RMSE 9.8611 | test_r2 0.6841 \n"
     ]
    },
    {
     "name": "stderr",
     "output_type": "stream",
     "text": [
      "\r",
      "  5%|▌         | 51/1000 [00:46<14:25,  1.10it/s]"
     ]
    },
    {
     "name": "stdout",
     "output_type": "stream",
     "text": [
      "Epoch 00050 | Loss 114.8131 | train_RMSE 9.8202 | train_r2 0.6669 | test_RMSE 9.7126 | test_r2 0.6945 \n"
     ]
    },
    {
     "name": "stderr",
     "output_type": "stream",
     "text": [
      "\r",
      "  5%|▌         | 52/1000 [00:47<14:26,  1.09it/s]"
     ]
    },
    {
     "name": "stdout",
     "output_type": "stream",
     "text": [
      "Epoch 00051 | Loss 115.9027 | train_RMSE 9.6368 | train_r2 0.6883 | test_RMSE 9.5611 | test_r2 0.7130 \n"
     ]
    },
    {
     "name": "stderr",
     "output_type": "stream",
     "text": [
      "\r",
      "  5%|▌         | 53/1000 [00:48<14:31,  1.09it/s]"
     ]
    },
    {
     "name": "stdout",
     "output_type": "stream",
     "text": [
      "Epoch 00052 | Loss 113.2502 | train_RMSE 9.3941 | train_r2 0.7180 | test_RMSE 9.4625 | test_r2 0.7328 \n"
     ]
    },
    {
     "name": "stderr",
     "output_type": "stream",
     "text": [
      "\r",
      "  5%|▌         | 54/1000 [00:49<14:43,  1.07it/s]"
     ]
    },
    {
     "name": "stdout",
     "output_type": "stream",
     "text": [
      "Epoch 00053 | Loss 108.3279 | train_RMSE 9.2726 | train_r2 0.7385 | test_RMSE 9.4431 | test_r2 0.7472 \n"
     ]
    },
    {
     "name": "stderr",
     "output_type": "stream",
     "text": [
      "\r",
      "  6%|▌         | 55/1000 [00:50<15:00,  1.05it/s]"
     ]
    },
    {
     "name": "stdout",
     "output_type": "stream",
     "text": [
      "Epoch 00054 | Loss 107.1659 | train_RMSE 9.1233 | train_r2 0.7565 | test_RMSE 9.2735 | test_r2 0.7657 \n"
     ]
    },
    {
     "name": "stderr",
     "output_type": "stream",
     "text": [
      "\r",
      "  6%|▌         | 56/1000 [00:51<14:54,  1.06it/s]"
     ]
    },
    {
     "name": "stdout",
     "output_type": "stream",
     "text": [
      "Epoch 00055 | Loss 104.7758 | train_RMSE 9.0908 | train_r2 0.7642 | test_RMSE 9.1824 | test_r2 0.7763 \n"
     ]
    },
    {
     "name": "stderr",
     "output_type": "stream",
     "text": [
      "\r",
      "  6%|▌         | 57/1000 [00:52<14:45,  1.06it/s]"
     ]
    },
    {
     "name": "stdout",
     "output_type": "stream",
     "text": [
      "Epoch 00056 | Loss 102.1280 | train_RMSE 8.8885 | train_r2 0.7742 | test_RMSE 9.0012 | test_r2 0.7853 \n"
     ]
    },
    {
     "name": "stderr",
     "output_type": "stream",
     "text": [
      "\r",
      "  6%|▌         | 58/1000 [00:53<14:39,  1.07it/s]"
     ]
    },
    {
     "name": "stdout",
     "output_type": "stream",
     "text": [
      "Epoch 00057 | Loss 99.5759 | train_RMSE 8.8084 | train_r2 0.7769 | test_RMSE 8.9036 | test_r2 0.7894 \n"
     ]
    },
    {
     "name": "stderr",
     "output_type": "stream",
     "text": [
      "\r",
      "  6%|▌         | 59/1000 [00:53<14:34,  1.08it/s]"
     ]
    },
    {
     "name": "stdout",
     "output_type": "stream",
     "text": [
      "Epoch 00058 | Loss 97.6903 | train_RMSE 8.7215 | train_r2 0.7789 | test_RMSE 8.7432 | test_r2 0.7955 \n"
     ]
    },
    {
     "name": "stderr",
     "output_type": "stream",
     "text": [
      "\r",
      "  6%|▌         | 60/1000 [00:54<14:32,  1.08it/s]"
     ]
    },
    {
     "name": "stdout",
     "output_type": "stream",
     "text": [
      "Epoch 00059 | Loss 93.5832 | train_RMSE 8.6521 | train_r2 0.7809 | test_RMSE 8.5991 | test_r2 0.8014 \n"
     ]
    },
    {
     "name": "stderr",
     "output_type": "stream",
     "text": [
      "\r",
      "  6%|▌         | 61/1000 [00:55<14:28,  1.08it/s]"
     ]
    },
    {
     "name": "stdout",
     "output_type": "stream",
     "text": [
      "Epoch 00060 | Loss 91.9478 | train_RMSE 8.5248 | train_r2 0.7902 | test_RMSE 8.4789 | test_r2 0.8100 \n"
     ]
    },
    {
     "name": "stderr",
     "output_type": "stream",
     "text": [
      "\r",
      "  6%|▌         | 62/1000 [00:56<14:24,  1.08it/s]"
     ]
    },
    {
     "name": "stdout",
     "output_type": "stream",
     "text": [
      "Epoch 00061 | Loss 89.5167 | train_RMSE 8.3952 | train_r2 0.8006 | test_RMSE 8.3996 | test_r2 0.8178 \n"
     ]
    },
    {
     "name": "stderr",
     "output_type": "stream",
     "text": [
      "\r",
      "  6%|▋         | 63/1000 [00:57<14:20,  1.09it/s]"
     ]
    },
    {
     "name": "stdout",
     "output_type": "stream",
     "text": [
      "Epoch 00062 | Loss 90.0089 | train_RMSE 8.3121 | train_r2 0.8080 | test_RMSE 8.3343 | test_r2 0.8241 \n"
     ]
    },
    {
     "name": "stderr",
     "output_type": "stream",
     "text": [
      "\r",
      "  6%|▋         | 64/1000 [00:58<14:14,  1.09it/s]"
     ]
    },
    {
     "name": "stdout",
     "output_type": "stream",
     "text": [
      "Epoch 00063 | Loss 86.8004 | train_RMSE 8.2181 | train_r2 0.8137 | test_RMSE 8.2191 | test_r2 0.8305 \n"
     ]
    },
    {
     "name": "stderr",
     "output_type": "stream",
     "text": [
      "\r",
      "  6%|▋         | 65/1000 [00:59<14:12,  1.10it/s]"
     ]
    },
    {
     "name": "stdout",
     "output_type": "stream",
     "text": [
      "Epoch 00064 | Loss 85.7815 | train_RMSE 8.1175 | train_r2 0.8175 | test_RMSE 8.0754 | test_r2 0.8361 \n"
     ]
    },
    {
     "name": "stderr",
     "output_type": "stream",
     "text": [
      "\r",
      "  7%|▋         | 66/1000 [01:00<14:29,  1.07it/s]"
     ]
    },
    {
     "name": "stdout",
     "output_type": "stream",
     "text": [
      "Epoch 00065 | Loss 85.0253 | train_RMSE 8.0435 | train_r2 0.8193 | test_RMSE 7.9646 | test_r2 0.8396 \n"
     ]
    },
    {
     "name": "stderr",
     "output_type": "stream",
     "text": [
      "\r",
      "  7%|▋         | 67/1000 [01:01<14:50,  1.05it/s]"
     ]
    },
    {
     "name": "stdout",
     "output_type": "stream",
     "text": [
      "Epoch 00066 | Loss 83.4442 | train_RMSE 7.9708 | train_r2 0.8232 | test_RMSE 7.8983 | test_r2 0.8432 \n"
     ]
    },
    {
     "name": "stderr",
     "output_type": "stream",
     "text": [
      "\r",
      "  7%|▋         | 68/1000 [01:02<15:13,  1.02it/s]"
     ]
    },
    {
     "name": "stdout",
     "output_type": "stream",
     "text": [
      "Epoch 00067 | Loss 81.8841 | train_RMSE 7.8954 | train_r2 0.8286 | test_RMSE 7.8489 | test_r2 0.8472 \n"
     ]
    },
    {
     "name": "stderr",
     "output_type": "stream",
     "text": [
      "\r",
      "  7%|▋         | 69/1000 [01:03<15:12,  1.02it/s]"
     ]
    },
    {
     "name": "stdout",
     "output_type": "stream",
     "text": [
      "Epoch 00068 | Loss 81.1612 | train_RMSE 7.8062 | train_r2 0.8350 | test_RMSE 7.7816 | test_r2 0.8521 \n"
     ]
    },
    {
     "name": "stderr",
     "output_type": "stream",
     "text": [
      "\r",
      "  7%|▋         | 70/1000 [01:04<15:21,  1.01it/s]"
     ]
    },
    {
     "name": "stdout",
     "output_type": "stream",
     "text": [
      "Epoch 00069 | Loss 77.2822 | train_RMSE 7.7325 | train_r2 0.8401 | test_RMSE 7.7034 | test_r2 0.8567 \n"
     ]
    },
    {
     "name": "stderr",
     "output_type": "stream",
     "text": [
      "\r",
      "  7%|▋         | 71/1000 [01:05<15:40,  1.01s/it]"
     ]
    },
    {
     "name": "stdout",
     "output_type": "stream",
     "text": [
      "Epoch 00070 | Loss 77.0778 | train_RMSE 7.6950 | train_r2 0.8430 | test_RMSE 7.6577 | test_r2 0.8595 \n"
     ]
    },
    {
     "name": "stderr",
     "output_type": "stream",
     "text": [
      "\r",
      "  7%|▋         | 72/1000 [01:06<15:18,  1.01it/s]"
     ]
    },
    {
     "name": "stdout",
     "output_type": "stream",
     "text": [
      "Epoch 00071 | Loss 77.3825 | train_RMSE 7.6228 | train_r2 0.8456 | test_RMSE 7.5998 | test_r2 0.8616 \n"
     ]
    },
    {
     "name": "stderr",
     "output_type": "stream",
     "text": [
      "\r",
      "  7%|▋         | 73/1000 [01:07<14:58,  1.03it/s]"
     ]
    },
    {
     "name": "stdout",
     "output_type": "stream",
     "text": [
      "Epoch 00072 | Loss 79.9962 | train_RMSE 7.5580 | train_r2 0.8471 | test_RMSE 7.5448 | test_r2 0.8629 \n"
     ]
    },
    {
     "name": "stderr",
     "output_type": "stream",
     "text": [
      "\r",
      "  7%|▋         | 74/1000 [01:08<14:46,  1.04it/s]"
     ]
    },
    {
     "name": "stdout",
     "output_type": "stream",
     "text": [
      "Epoch 00073 | Loss 76.7538 | train_RMSE 7.5091 | train_r2 0.8477 | test_RMSE 7.4908 | test_r2 0.8639 \n"
     ]
    },
    {
     "name": "stderr",
     "output_type": "stream",
     "text": [
      "\r",
      "  8%|▊         | 75/1000 [01:09<14:35,  1.06it/s]"
     ]
    },
    {
     "name": "stdout",
     "output_type": "stream",
     "text": [
      "Epoch 00074 | Loss 76.0943 | train_RMSE 7.4701 | train_r2 0.8482 | test_RMSE 7.4454 | test_r2 0.8646 \n"
     ]
    },
    {
     "name": "stderr",
     "output_type": "stream",
     "text": [
      "\r",
      "  8%|▊         | 76/1000 [01:10<14:29,  1.06it/s]"
     ]
    },
    {
     "name": "stdout",
     "output_type": "stream",
     "text": [
      "Epoch 00075 | Loss 73.2321 | train_RMSE 7.4380 | train_r2 0.8488 | test_RMSE 7.4173 | test_r2 0.8650 \n"
     ]
    },
    {
     "name": "stderr",
     "output_type": "stream",
     "text": [
      "\r",
      "  8%|▊         | 77/1000 [01:11<14:19,  1.07it/s]"
     ]
    },
    {
     "name": "stdout",
     "output_type": "stream",
     "text": [
      "Epoch 00076 | Loss 72.8885 | train_RMSE 7.3839 | train_r2 0.8517 | test_RMSE 7.3842 | test_r2 0.8667 \n"
     ]
    },
    {
     "name": "stderr",
     "output_type": "stream",
     "text": [
      "\r",
      "  8%|▊         | 78/1000 [01:12<14:28,  1.06it/s]"
     ]
    },
    {
     "name": "stdout",
     "output_type": "stream",
     "text": [
      "Epoch 00077 | Loss 71.8360 | train_RMSE 7.3140 | train_r2 0.8564 | test_RMSE 7.3459 | test_r2 0.8697 \n"
     ]
    },
    {
     "name": "stderr",
     "output_type": "stream",
     "text": [
      "\r",
      "  8%|▊         | 79/1000 [01:12<14:18,  1.07it/s]"
     ]
    },
    {
     "name": "stdout",
     "output_type": "stream",
     "text": [
      "Epoch 00078 | Loss 70.5010 | train_RMSE 7.2656 | train_r2 0.8606 | test_RMSE 7.3254 | test_r2 0.8722 \n"
     ]
    },
    {
     "name": "stderr",
     "output_type": "stream",
     "text": [
      "\r",
      "  8%|▊         | 80/1000 [01:13<14:11,  1.08it/s]"
     ]
    },
    {
     "name": "stdout",
     "output_type": "stream",
     "text": [
      "Epoch 00079 | Loss 71.2405 | train_RMSE 7.2189 | train_r2 0.8638 | test_RMSE 7.2932 | test_r2 0.8742 \n"
     ]
    },
    {
     "name": "stderr",
     "output_type": "stream",
     "text": [
      "\r",
      "  8%|▊         | 81/1000 [01:14<14:01,  1.09it/s]"
     ]
    },
    {
     "name": "stdout",
     "output_type": "stream",
     "text": [
      "Epoch 00080 | Loss 70.7140 | train_RMSE 7.1986 | train_r2 0.8647 | test_RMSE 7.2824 | test_r2 0.8744 \n"
     ]
    },
    {
     "name": "stderr",
     "output_type": "stream",
     "text": [
      "\r",
      "  8%|▊         | 82/1000 [01:15<13:59,  1.09it/s]"
     ]
    },
    {
     "name": "stdout",
     "output_type": "stream",
     "text": [
      "Epoch 00081 | Loss 68.7602 | train_RMSE 7.1451 | train_r2 0.8665 | test_RMSE 7.2524 | test_r2 0.8753 \n"
     ]
    },
    {
     "name": "stderr",
     "output_type": "stream",
     "text": [
      "\r",
      "  8%|▊         | 83/1000 [01:16<14:00,  1.09it/s]"
     ]
    },
    {
     "name": "stdout",
     "output_type": "stream",
     "text": [
      "Epoch 00082 | Loss 68.4590 | train_RMSE 7.1065 | train_r2 0.8678 | test_RMSE 7.2339 | test_r2 0.8758 \n"
     ]
    },
    {
     "name": "stderr",
     "output_type": "stream",
     "text": [
      "\r",
      "  8%|▊         | 84/1000 [01:17<14:05,  1.08it/s]"
     ]
    },
    {
     "name": "stdout",
     "output_type": "stream",
     "text": [
      "Epoch 00083 | Loss 68.6543 | train_RMSE 7.0767 | train_r2 0.8685 | test_RMSE 7.2145 | test_r2 0.8761 \n"
     ]
    },
    {
     "name": "stderr",
     "output_type": "stream",
     "text": [
      "\r",
      "  8%|▊         | 85/1000 [01:18<13:54,  1.10it/s]"
     ]
    },
    {
     "name": "stdout",
     "output_type": "stream",
     "text": [
      "Epoch 00084 | Loss 67.5576 | train_RMSE 7.0379 | train_r2 0.8697 | test_RMSE 7.1802 | test_r2 0.8769 \n"
     ]
    },
    {
     "name": "stderr",
     "output_type": "stream",
     "text": [
      "\r",
      "  9%|▊         | 86/1000 [01:19<13:56,  1.09it/s]"
     ]
    },
    {
     "name": "stdout",
     "output_type": "stream",
     "text": [
      "Epoch 00085 | Loss 67.0657 | train_RMSE 7.0067 | train_r2 0.8707 | test_RMSE 7.1480 | test_r2 0.8778 \n"
     ]
    },
    {
     "name": "stderr",
     "output_type": "stream",
     "text": [
      "\r",
      "  9%|▊         | 87/1000 [01:20<13:54,  1.09it/s]"
     ]
    },
    {
     "name": "stdout",
     "output_type": "stream",
     "text": [
      "Epoch 00086 | Loss 67.4118 | train_RMSE 6.9712 | train_r2 0.8727 | test_RMSE 7.1135 | test_r2 0.8794 \n"
     ]
    },
    {
     "name": "stderr",
     "output_type": "stream",
     "text": [
      "\r",
      "  9%|▉         | 88/1000 [01:21<13:55,  1.09it/s]"
     ]
    },
    {
     "name": "stdout",
     "output_type": "stream",
     "text": [
      "Epoch 00087 | Loss 67.6742 | train_RMSE 6.9332 | train_r2 0.8746 | test_RMSE 7.0846 | test_r2 0.8807 \n"
     ]
    },
    {
     "name": "stderr",
     "output_type": "stream",
     "text": [
      "\r",
      "  9%|▉         | 89/1000 [01:22<13:48,  1.10it/s]"
     ]
    },
    {
     "name": "stdout",
     "output_type": "stream",
     "text": [
      "Epoch 00088 | Loss 65.9916 | train_RMSE 6.9002 | train_r2 0.8760 | test_RMSE 7.0617 | test_r2 0.8816 \n"
     ]
    },
    {
     "name": "stderr",
     "output_type": "stream",
     "text": [
      "\r",
      "  9%|▉         | 90/1000 [01:23<13:50,  1.10it/s]"
     ]
    },
    {
     "name": "stdout",
     "output_type": "stream",
     "text": [
      "Epoch 00089 | Loss 66.6148 | train_RMSE 6.8695 | train_r2 0.8772 | test_RMSE 7.0488 | test_r2 0.8819 \n"
     ]
    },
    {
     "name": "stderr",
     "output_type": "stream",
     "text": [
      "\r",
      "  9%|▉         | 91/1000 [01:23<13:55,  1.09it/s]"
     ]
    },
    {
     "name": "stdout",
     "output_type": "stream",
     "text": [
      "Epoch 00090 | Loss 65.8205 | train_RMSE 6.8432 | train_r2 0.8787 | test_RMSE 7.0418 | test_r2 0.8825 \n"
     ]
    },
    {
     "name": "stderr",
     "output_type": "stream",
     "text": [
      "\r",
      "  9%|▉         | 92/1000 [01:24<13:57,  1.08it/s]"
     ]
    },
    {
     "name": "stdout",
     "output_type": "stream",
     "text": [
      "Epoch 00091 | Loss 65.2195 | train_RMSE 6.8218 | train_r2 0.8801 | test_RMSE 7.0355 | test_r2 0.8830 \n"
     ]
    },
    {
     "name": "stderr",
     "output_type": "stream",
     "text": [
      "\r",
      "  9%|▉         | 93/1000 [01:25<13:55,  1.09it/s]"
     ]
    },
    {
     "name": "stdout",
     "output_type": "stream",
     "text": [
      "Epoch 00092 | Loss 64.5855 | train_RMSE 6.8028 | train_r2 0.8812 | test_RMSE 7.0287 | test_r2 0.8834 \n"
     ]
    },
    {
     "name": "stderr",
     "output_type": "stream",
     "text": [
      "\r",
      "  9%|▉         | 94/1000 [01:26<13:50,  1.09it/s]"
     ]
    },
    {
     "name": "stdout",
     "output_type": "stream",
     "text": [
      "Epoch 00093 | Loss 63.3340 | train_RMSE 6.7747 | train_r2 0.8825 | test_RMSE 7.0018 | test_r2 0.8844 \n"
     ]
    },
    {
     "name": "stderr",
     "output_type": "stream",
     "text": [
      "\r",
      " 10%|▉         | 95/1000 [01:27<13:50,  1.09it/s]"
     ]
    },
    {
     "name": "stdout",
     "output_type": "stream",
     "text": [
      "Epoch 00094 | Loss 63.7030 | train_RMSE 6.7457 | train_r2 0.8836 | test_RMSE 6.9635 | test_r2 0.8856 \n"
     ]
    },
    {
     "name": "stderr",
     "output_type": "stream",
     "text": [
      "\r",
      " 10%|▉         | 96/1000 [01:28<13:46,  1.09it/s]"
     ]
    },
    {
     "name": "stdout",
     "output_type": "stream",
     "text": [
      "Epoch 00095 | Loss 64.7447 | train_RMSE 6.7236 | train_r2 0.8837 | test_RMSE 6.9295 | test_r2 0.8860 \n"
     ]
    },
    {
     "name": "stderr",
     "output_type": "stream",
     "text": [
      "\r",
      " 10%|▉         | 97/1000 [01:29<13:51,  1.09it/s]"
     ]
    },
    {
     "name": "stdout",
     "output_type": "stream",
     "text": [
      "Epoch 00096 | Loss 61.0445 | train_RMSE 6.7045 | train_r2 0.8836 | test_RMSE 6.9000 | test_r2 0.8861 \n"
     ]
    },
    {
     "name": "stderr",
     "output_type": "stream",
     "text": [
      "\r",
      " 10%|▉         | 98/1000 [01:30<13:53,  1.08it/s]"
     ]
    },
    {
     "name": "stdout",
     "output_type": "stream",
     "text": [
      "Epoch 00097 | Loss 62.3790 | train_RMSE 6.6884 | train_r2 0.8835 | test_RMSE 6.8788 | test_r2 0.8860 \n"
     ]
    },
    {
     "name": "stderr",
     "output_type": "stream",
     "text": [
      "\r",
      " 10%|▉         | 99/1000 [01:31<13:48,  1.09it/s]"
     ]
    },
    {
     "name": "stdout",
     "output_type": "stream",
     "text": [
      "Epoch 00098 | Loss 62.1524 | train_RMSE 6.6748 | train_r2 0.8838 | test_RMSE 6.8652 | test_r2 0.8862 \n"
     ]
    },
    {
     "name": "stderr",
     "output_type": "stream",
     "text": [
      "\r",
      " 10%|█         | 100/1000 [01:32<13:41,  1.10it/s]"
     ]
    },
    {
     "name": "stdout",
     "output_type": "stream",
     "text": [
      "Epoch 00099 | Loss 62.0724 | train_RMSE 6.6561 | train_r2 0.8852 | test_RMSE 6.8494 | test_r2 0.8872 \n"
     ]
    },
    {
     "name": "stderr",
     "output_type": "stream",
     "text": [
      "\r",
      " 10%|█         | 101/1000 [01:33<13:43,  1.09it/s]"
     ]
    },
    {
     "name": "stdout",
     "output_type": "stream",
     "text": [
      "Epoch 00100 | Loss 61.8230 | train_RMSE 6.6291 | train_r2 0.8872 | test_RMSE 6.8268 | test_r2 0.8888 \n"
     ]
    },
    {
     "name": "stderr",
     "output_type": "stream",
     "text": [
      "\r",
      " 10%|█         | 102/1000 [01:34<13:49,  1.08it/s]"
     ]
    },
    {
     "name": "stdout",
     "output_type": "stream",
     "text": [
      "Epoch 00101 | Loss 63.3339 | train_RMSE 6.6091 | train_r2 0.8888 | test_RMSE 6.8123 | test_r2 0.8900 \n"
     ]
    },
    {
     "name": "stderr",
     "output_type": "stream",
     "text": [
      "\r",
      " 10%|█         | 103/1000 [01:34<13:49,  1.08it/s]"
     ]
    },
    {
     "name": "stdout",
     "output_type": "stream",
     "text": [
      "Epoch 00102 | Loss 60.2005 | train_RMSE 6.5927 | train_r2 0.8897 | test_RMSE 6.7973 | test_r2 0.8908 \n"
     ]
    },
    {
     "name": "stderr",
     "output_type": "stream",
     "text": [
      "\r",
      " 10%|█         | 104/1000 [01:35<13:56,  1.07it/s]"
     ]
    },
    {
     "name": "stdout",
     "output_type": "stream",
     "text": [
      "Epoch 00103 | Loss 61.8283 | train_RMSE 6.5826 | train_r2 0.8892 | test_RMSE 6.7760 | test_r2 0.8907 \n"
     ]
    },
    {
     "name": "stderr",
     "output_type": "stream",
     "text": [
      "\r",
      " 10%|█         | 105/1000 [01:36<13:50,  1.08it/s]"
     ]
    },
    {
     "name": "stdout",
     "output_type": "stream",
     "text": [
      "Epoch 00104 | Loss 61.4443 | train_RMSE 6.5700 | train_r2 0.8888 | test_RMSE 6.7440 | test_r2 0.8910 \n"
     ]
    },
    {
     "name": "stderr",
     "output_type": "stream",
     "text": [
      "\r",
      " 11%|█         | 106/1000 [01:37<13:40,  1.09it/s]"
     ]
    },
    {
     "name": "stdout",
     "output_type": "stream",
     "text": [
      "Epoch 00105 | Loss 59.7593 | train_RMSE 6.5451 | train_r2 0.8892 | test_RMSE 6.7059 | test_r2 0.8919 \n"
     ]
    },
    {
     "name": "stderr",
     "output_type": "stream",
     "text": [
      "\r",
      " 11%|█         | 107/1000 [01:38<13:41,  1.09it/s]"
     ]
    },
    {
     "name": "stdout",
     "output_type": "stream",
     "text": [
      "Epoch 00106 | Loss 59.9276 | train_RMSE 6.5274 | train_r2 0.8901 | test_RMSE 6.6837 | test_r2 0.8929 \n"
     ]
    },
    {
     "name": "stderr",
     "output_type": "stream",
     "text": [
      "\r",
      " 11%|█         | 108/1000 [01:39<13:38,  1.09it/s]"
     ]
    },
    {
     "name": "stdout",
     "output_type": "stream",
     "text": [
      "Epoch 00107 | Loss 59.6336 | train_RMSE 6.5138 | train_r2 0.8905 | test_RMSE 6.6636 | test_r2 0.8934 \n"
     ]
    },
    {
     "name": "stderr",
     "output_type": "stream",
     "text": [
      "\r",
      " 11%|█         | 109/1000 [01:40<13:43,  1.08it/s]"
     ]
    },
    {
     "name": "stdout",
     "output_type": "stream",
     "text": [
      "Epoch 00108 | Loss 58.1510 | train_RMSE 6.4968 | train_r2 0.8907 | test_RMSE 6.6428 | test_r2 0.8938 \n"
     ]
    },
    {
     "name": "stderr",
     "output_type": "stream",
     "text": [
      "\r",
      " 11%|█         | 110/1000 [01:41<13:40,  1.08it/s]"
     ]
    },
    {
     "name": "stdout",
     "output_type": "stream",
     "text": [
      "Epoch 00109 | Loss 58.4878 | train_RMSE 6.4875 | train_r2 0.8908 | test_RMSE 6.6342 | test_r2 0.8939 \n"
     ]
    },
    {
     "name": "stderr",
     "output_type": "stream",
     "text": [
      "\r",
      " 11%|█         | 111/1000 [01:42<13:46,  1.08it/s]"
     ]
    },
    {
     "name": "stdout",
     "output_type": "stream",
     "text": [
      "Epoch 00110 | Loss 59.3516 | train_RMSE 6.4820 | train_r2 0.8911 | test_RMSE 6.6331 | test_r2 0.8939 \n"
     ]
    },
    {
     "name": "stderr",
     "output_type": "stream",
     "text": [
      "\r",
      " 11%|█         | 112/1000 [01:43<13:38,  1.08it/s]"
     ]
    },
    {
     "name": "stdout",
     "output_type": "stream",
     "text": [
      "Epoch 00111 | Loss 58.1794 | train_RMSE 6.4483 | train_r2 0.8927 | test_RMSE 6.6114 | test_r2 0.8952 \n"
     ]
    },
    {
     "name": "stderr",
     "output_type": "stream",
     "text": [
      "\r",
      " 11%|█▏        | 113/1000 [01:44<13:32,  1.09it/s]"
     ]
    },
    {
     "name": "stdout",
     "output_type": "stream",
     "text": [
      "Epoch 00112 | Loss 56.5691 | train_RMSE 6.4296 | train_r2 0.8942 | test_RMSE 6.6036 | test_r2 0.8963 \n"
     ]
    },
    {
     "name": "stderr",
     "output_type": "stream",
     "text": [
      "\r",
      " 11%|█▏        | 114/1000 [01:45<13:27,  1.10it/s]"
     ]
    },
    {
     "name": "stdout",
     "output_type": "stream",
     "text": [
      "Epoch 00113 | Loss 56.8990 | train_RMSE 6.4051 | train_r2 0.8955 | test_RMSE 6.5723 | test_r2 0.8976 \n"
     ]
    },
    {
     "name": "stderr",
     "output_type": "stream",
     "text": [
      "\r",
      " 12%|█▏        | 115/1000 [01:46<13:38,  1.08it/s]"
     ]
    },
    {
     "name": "stdout",
     "output_type": "stream",
     "text": [
      "Epoch 00114 | Loss 56.3680 | train_RMSE 6.4011 | train_r2 0.8958 | test_RMSE 6.5582 | test_r2 0.8981 \n"
     ]
    },
    {
     "name": "stderr",
     "output_type": "stream",
     "text": [
      "\r",
      " 12%|█▏        | 116/1000 [01:46<13:37,  1.08it/s]"
     ]
    },
    {
     "name": "stdout",
     "output_type": "stream",
     "text": [
      "Epoch 00115 | Loss 57.3684 | train_RMSE 6.3802 | train_r2 0.8956 | test_RMSE 6.5385 | test_r2 0.8981 \n"
     ]
    },
    {
     "name": "stderr",
     "output_type": "stream",
     "text": [
      "\r",
      " 12%|█▏        | 117/1000 [01:47<13:39,  1.08it/s]"
     ]
    },
    {
     "name": "stdout",
     "output_type": "stream",
     "text": [
      "Epoch 00116 | Loss 56.8598 | train_RMSE 6.3763 | train_r2 0.8953 | test_RMSE 6.5267 | test_r2 0.8981 \n"
     ]
    },
    {
     "name": "stderr",
     "output_type": "stream",
     "text": [
      "\r",
      " 12%|█▏        | 118/1000 [01:48<13:38,  1.08it/s]"
     ]
    },
    {
     "name": "stdout",
     "output_type": "stream",
     "text": [
      "Epoch 00117 | Loss 56.7757 | train_RMSE 6.3547 | train_r2 0.8961 | test_RMSE 6.4896 | test_r2 0.8994 \n"
     ]
    },
    {
     "name": "stderr",
     "output_type": "stream",
     "text": [
      "\r",
      " 12%|█▏        | 119/1000 [01:49<13:46,  1.07it/s]"
     ]
    },
    {
     "name": "stdout",
     "output_type": "stream",
     "text": [
      "Epoch 00118 | Loss 55.8523 | train_RMSE 6.3415 | train_r2 0.8974 | test_RMSE 6.4633 | test_r2 0.9008 \n"
     ]
    },
    {
     "name": "stderr",
     "output_type": "stream",
     "text": [
      "\r",
      " 12%|█▏        | 120/1000 [01:50<13:39,  1.07it/s]"
     ]
    },
    {
     "name": "stdout",
     "output_type": "stream",
     "text": [
      "Epoch 00119 | Loss 55.4466 | train_RMSE 6.3203 | train_r2 0.8994 | test_RMSE 6.4411 | test_r2 0.9026 \n"
     ]
    },
    {
     "name": "stderr",
     "output_type": "stream",
     "text": [
      "\r",
      " 12%|█▏        | 121/1000 [01:51<13:29,  1.09it/s]"
     ]
    },
    {
     "name": "stdout",
     "output_type": "stream",
     "text": [
      "Epoch 00120 | Loss 55.8260 | train_RMSE 6.2941 | train_r2 0.9004 | test_RMSE 6.4170 | test_r2 0.9035 \n"
     ]
    },
    {
     "name": "stderr",
     "output_type": "stream",
     "text": [
      "\r",
      " 12%|█▏        | 122/1000 [01:52<13:35,  1.08it/s]"
     ]
    },
    {
     "name": "stdout",
     "output_type": "stream",
     "text": [
      "Epoch 00121 | Loss 56.2702 | train_RMSE 6.2856 | train_r2 0.8998 | test_RMSE 6.4018 | test_r2 0.9033 \n"
     ]
    },
    {
     "name": "stderr",
     "output_type": "stream",
     "text": [
      "\r",
      " 12%|█▏        | 123/1000 [01:53<13:32,  1.08it/s]"
     ]
    },
    {
     "name": "stdout",
     "output_type": "stream",
     "text": [
      "Epoch 00122 | Loss 56.2077 | train_RMSE 6.2872 | train_r2 0.8991 | test_RMSE 6.3955 | test_r2 0.9029 \n"
     ]
    },
    {
     "name": "stderr",
     "output_type": "stream",
     "text": [
      "\r",
      " 12%|█▏        | 124/1000 [01:54<13:32,  1.08it/s]"
     ]
    },
    {
     "name": "stdout",
     "output_type": "stream",
     "text": [
      "Epoch 00123 | Loss 54.5609 | train_RMSE 6.2732 | train_r2 0.8996 | test_RMSE 6.3774 | test_r2 0.9034 \n"
     ]
    },
    {
     "name": "stderr",
     "output_type": "stream",
     "text": [
      "\r",
      " 12%|█▎        | 125/1000 [01:55<13:28,  1.08it/s]"
     ]
    },
    {
     "name": "stdout",
     "output_type": "stream",
     "text": [
      "Epoch 00124 | Loss 54.2441 | train_RMSE 6.2415 | train_r2 0.9012 | test_RMSE 6.3408 | test_r2 0.9051 \n"
     ]
    },
    {
     "name": "stderr",
     "output_type": "stream",
     "text": [
      "\r",
      " 13%|█▎        | 126/1000 [01:56<13:26,  1.08it/s]"
     ]
    },
    {
     "name": "stdout",
     "output_type": "stream",
     "text": [
      "Epoch 00125 | Loss 54.2670 | train_RMSE 6.2161 | train_r2 0.9027 | test_RMSE 6.3119 | test_r2 0.9066 \n"
     ]
    },
    {
     "name": "stderr",
     "output_type": "stream",
     "text": [
      "\r",
      " 13%|█▎        | 127/1000 [01:57<13:17,  1.09it/s]"
     ]
    },
    {
     "name": "stdout",
     "output_type": "stream",
     "text": [
      "Epoch 00126 | Loss 55.3644 | train_RMSE 6.2004 | train_r2 0.9033 | test_RMSE 6.2868 | test_r2 0.9075 \n"
     ]
    },
    {
     "name": "stderr",
     "output_type": "stream",
     "text": [
      "\r",
      " 13%|█▎        | 128/1000 [01:58<13:16,  1.09it/s]"
     ]
    },
    {
     "name": "stdout",
     "output_type": "stream",
     "text": [
      "Epoch 00127 | Loss 54.5037 | train_RMSE 6.1934 | train_r2 0.9029 | test_RMSE 6.2627 | test_r2 0.9077 \n"
     ]
    },
    {
     "name": "stderr",
     "output_type": "stream",
     "text": [
      "\r",
      " 13%|█▎        | 129/1000 [01:58<13:13,  1.10it/s]"
     ]
    },
    {
     "name": "stdout",
     "output_type": "stream",
     "text": [
      "Epoch 00128 | Loss 54.8351 | train_RMSE 6.1876 | train_r2 0.9027 | test_RMSE 6.2508 | test_r2 0.9077 \n"
     ]
    },
    {
     "name": "stderr",
     "output_type": "stream",
     "text": [
      "\r",
      " 13%|█▎        | 130/1000 [01:59<13:14,  1.10it/s]"
     ]
    },
    {
     "name": "stdout",
     "output_type": "stream",
     "text": [
      "Epoch 00129 | Loss 55.4062 | train_RMSE 6.1719 | train_r2 0.9030 | test_RMSE 6.2415 | test_r2 0.9077 \n"
     ]
    },
    {
     "name": "stderr",
     "output_type": "stream",
     "text": [
      "\r",
      " 13%|█▎        | 131/1000 [02:00<13:14,  1.09it/s]"
     ]
    },
    {
     "name": "stdout",
     "output_type": "stream",
     "text": [
      "Epoch 00130 | Loss 53.8229 | train_RMSE 6.1480 | train_r2 0.9043 | test_RMSE 6.2321 | test_r2 0.9085 \n"
     ]
    },
    {
     "name": "stderr",
     "output_type": "stream",
     "text": [
      "\r",
      " 13%|█▎        | 132/1000 [02:01<13:15,  1.09it/s]"
     ]
    },
    {
     "name": "stdout",
     "output_type": "stream",
     "text": [
      "Epoch 00131 | Loss 52.4471 | train_RMSE 6.1381 | train_r2 0.9055 | test_RMSE 6.2287 | test_r2 0.9093 \n"
     ]
    },
    {
     "name": "stderr",
     "output_type": "stream",
     "text": [
      "\r",
      " 13%|█▎        | 133/1000 [02:02<13:12,  1.09it/s]"
     ]
    },
    {
     "name": "stdout",
     "output_type": "stream",
     "text": [
      "Epoch 00132 | Loss 52.9649 | train_RMSE 6.1236 | train_r2 0.9055 | test_RMSE 6.1950 | test_r2 0.9097 \n"
     ]
    },
    {
     "name": "stderr",
     "output_type": "stream",
     "text": [
      "\r",
      " 13%|█▎        | 134/1000 [02:03<13:08,  1.10it/s]"
     ]
    },
    {
     "name": "stdout",
     "output_type": "stream",
     "text": [
      "Epoch 00133 | Loss 52.4709 | train_RMSE 6.1170 | train_r2 0.9051 | test_RMSE 6.1625 | test_r2 0.9100 \n"
     ]
    },
    {
     "name": "stderr",
     "output_type": "stream",
     "text": [
      "\r",
      " 14%|█▎        | 135/1000 [02:04<13:07,  1.10it/s]"
     ]
    },
    {
     "name": "stdout",
     "output_type": "stream",
     "text": [
      "Epoch 00134 | Loss 53.4267 | train_RMSE 6.0949 | train_r2 0.9050 | test_RMSE 6.1306 | test_r2 0.9103 \n"
     ]
    },
    {
     "name": "stderr",
     "output_type": "stream",
     "text": [
      "\r",
      " 14%|█▎        | 136/1000 [02:05<13:03,  1.10it/s]"
     ]
    },
    {
     "name": "stdout",
     "output_type": "stream",
     "text": [
      "Epoch 00135 | Loss 52.1357 | train_RMSE 6.0899 | train_r2 0.9051 | test_RMSE 6.1231 | test_r2 0.9104 \n"
     ]
    },
    {
     "name": "stderr",
     "output_type": "stream",
     "text": [
      "\r",
      " 14%|█▎        | 137/1000 [02:06<13:03,  1.10it/s]"
     ]
    },
    {
     "name": "stdout",
     "output_type": "stream",
     "text": [
      "Epoch 00136 | Loss 52.3515 | train_RMSE 6.0667 | train_r2 0.9059 | test_RMSE 6.0950 | test_r2 0.9113 \n"
     ]
    },
    {
     "name": "stderr",
     "output_type": "stream",
     "text": [
      "\r",
      " 14%|█▍        | 138/1000 [02:07<13:16,  1.08it/s]"
     ]
    },
    {
     "name": "stdout",
     "output_type": "stream",
     "text": [
      "Epoch 00137 | Loss 51.2960 | train_RMSE 6.0677 | train_r2 0.9063 | test_RMSE 6.0908 | test_r2 0.9116 \n"
     ]
    },
    {
     "name": "stderr",
     "output_type": "stream",
     "text": [
      "\r",
      " 14%|█▍        | 139/1000 [02:08<13:20,  1.08it/s]"
     ]
    },
    {
     "name": "stdout",
     "output_type": "stream",
     "text": [
      "Epoch 00138 | Loss 51.7178 | train_RMSE 6.0227 | train_r2 0.9085 | test_RMSE 6.0600 | test_r2 0.9133 \n"
     ]
    },
    {
     "name": "stderr",
     "output_type": "stream",
     "text": [
      "\r",
      " 14%|█▍        | 140/1000 [02:09<13:14,  1.08it/s]"
     ]
    },
    {
     "name": "stdout",
     "output_type": "stream",
     "text": [
      "Epoch 00139 | Loss 51.8037 | train_RMSE 6.0074 | train_r2 0.9097 | test_RMSE 6.0590 | test_r2 0.9140 \n"
     ]
    },
    {
     "name": "stderr",
     "output_type": "stream",
     "text": [
      "\r",
      " 14%|█▍        | 141/1000 [02:09<13:14,  1.08it/s]"
     ]
    },
    {
     "name": "stdout",
     "output_type": "stream",
     "text": [
      "Epoch 00140 | Loss 50.0484 | train_RMSE 5.9977 | train_r2 0.9100 | test_RMSE 6.0546 | test_r2 0.9141 \n"
     ]
    },
    {
     "name": "stderr",
     "output_type": "stream",
     "text": [
      "\r",
      " 14%|█▍        | 142/1000 [02:10<13:14,  1.08it/s]"
     ]
    },
    {
     "name": "stdout",
     "output_type": "stream",
     "text": [
      "Epoch 00141 | Loss 51.7099 | train_RMSE 5.9908 | train_r2 0.9092 | test_RMSE 6.0332 | test_r2 0.9137 \n"
     ]
    },
    {
     "name": "stderr",
     "output_type": "stream",
     "text": [
      "\r",
      " 14%|█▍        | 143/1000 [02:11<13:13,  1.08it/s]"
     ]
    },
    {
     "name": "stdout",
     "output_type": "stream",
     "text": [
      "Epoch 00142 | Loss 49.9917 | train_RMSE 5.9797 | train_r2 0.9085 | test_RMSE 6.0056 | test_r2 0.9136 \n"
     ]
    },
    {
     "name": "stderr",
     "output_type": "stream",
     "text": [
      "\r",
      " 14%|█▍        | 144/1000 [02:12<13:05,  1.09it/s]"
     ]
    },
    {
     "name": "stdout",
     "output_type": "stream",
     "text": [
      "Epoch 00143 | Loss 51.2970 | train_RMSE 5.9540 | train_r2 0.9092 | test_RMSE 5.9777 | test_r2 0.9145 \n"
     ]
    },
    {
     "name": "stderr",
     "output_type": "stream",
     "text": [
      "\r",
      " 14%|█▍        | 145/1000 [02:13<13:00,  1.10it/s]"
     ]
    },
    {
     "name": "stdout",
     "output_type": "stream",
     "text": [
      "Epoch 00144 | Loss 50.0537 | train_RMSE 5.9538 | train_r2 0.9097 | test_RMSE 5.9672 | test_r2 0.9152 \n"
     ]
    },
    {
     "name": "stderr",
     "output_type": "stream",
     "text": [
      "\r",
      " 15%|█▍        | 146/1000 [02:14<13:01,  1.09it/s]"
     ]
    },
    {
     "name": "stdout",
     "output_type": "stream",
     "text": [
      "Epoch 00145 | Loss 51.1581 | train_RMSE 5.9252 | train_r2 0.9105 | test_RMSE 5.9231 | test_r2 0.9163 \n"
     ]
    },
    {
     "name": "stderr",
     "output_type": "stream",
     "text": [
      "\r",
      " 15%|█▍        | 147/1000 [02:15<13:05,  1.09it/s]"
     ]
    },
    {
     "name": "stdout",
     "output_type": "stream",
     "text": [
      "Epoch 00146 | Loss 50.0942 | train_RMSE 5.9620 | train_r2 0.9096 | test_RMSE 5.9507 | test_r2 0.9155 \n"
     ]
    },
    {
     "name": "stderr",
     "output_type": "stream",
     "text": [
      "\r",
      " 15%|█▍        | 148/1000 [02:16<12:59,  1.09it/s]"
     ]
    },
    {
     "name": "stdout",
     "output_type": "stream",
     "text": [
      "Epoch 00147 | Loss 49.9341 | train_RMSE 5.8897 | train_r2 0.9128 | test_RMSE 5.9076 | test_r2 0.9178 \n"
     ]
    },
    {
     "name": "stderr",
     "output_type": "stream",
     "text": [
      "\r",
      " 15%|█▍        | 149/1000 [02:17<12:57,  1.10it/s]"
     ]
    },
    {
     "name": "stdout",
     "output_type": "stream",
     "text": [
      "Epoch 00148 | Loss 51.2683 | train_RMSE 5.8877 | train_r2 0.9136 | test_RMSE 5.9172 | test_r2 0.9182 \n"
     ]
    },
    {
     "name": "stderr",
     "output_type": "stream",
     "text": [
      "\r",
      " 15%|█▌        | 150/1000 [02:18<12:57,  1.09it/s]"
     ]
    },
    {
     "name": "stdout",
     "output_type": "stream",
     "text": [
      "Epoch 00149 | Loss 49.3114 | train_RMSE 5.8583 | train_r2 0.9140 | test_RMSE 5.8748 | test_r2 0.9190 \n"
     ]
    },
    {
     "name": "stderr",
     "output_type": "stream",
     "text": [
      "\r",
      " 15%|█▌        | 151/1000 [02:19<12:58,  1.09it/s]"
     ]
    },
    {
     "name": "stdout",
     "output_type": "stream",
     "text": [
      "Epoch 00150 | Loss 49.5788 | train_RMSE 5.8637 | train_r2 0.9128 | test_RMSE 5.8485 | test_r2 0.9187 \n"
     ]
    },
    {
     "name": "stderr",
     "output_type": "stream",
     "text": [
      "\r",
      " 15%|█▌        | 152/1000 [02:20<12:54,  1.10it/s]"
     ]
    },
    {
     "name": "stdout",
     "output_type": "stream",
     "text": [
      "Epoch 00151 | Loss 49.0104 | train_RMSE 5.8370 | train_r2 0.9133 | test_RMSE 5.8130 | test_r2 0.9194 \n"
     ]
    },
    {
     "name": "stderr",
     "output_type": "stream",
     "text": [
      "\r",
      " 15%|█▌        | 153/1000 [02:20<12:59,  1.09it/s]"
     ]
    },
    {
     "name": "stdout",
     "output_type": "stream",
     "text": [
      "Epoch 00152 | Loss 49.9465 | train_RMSE 5.8165 | train_r2 0.9147 | test_RMSE 5.8095 | test_r2 0.9202 \n"
     ]
    },
    {
     "name": "stderr",
     "output_type": "stream",
     "text": [
      "\r",
      " 15%|█▌        | 154/1000 [02:21<12:58,  1.09it/s]"
     ]
    },
    {
     "name": "stdout",
     "output_type": "stream",
     "text": [
      "Epoch 00153 | Loss 49.8707 | train_RMSE 5.7925 | train_r2 0.9157 | test_RMSE 5.7987 | test_r2 0.9208 \n"
     ]
    },
    {
     "name": "stderr",
     "output_type": "stream",
     "text": [
      "\r",
      " 16%|█▌        | 155/1000 [02:22<13:01,  1.08it/s]"
     ]
    },
    {
     "name": "stdout",
     "output_type": "stream",
     "text": [
      "Epoch 00154 | Loss 48.6650 | train_RMSE 5.8116 | train_r2 0.9153 | test_RMSE 5.8223 | test_r2 0.9201 \n"
     ]
    },
    {
     "name": "stderr",
     "output_type": "stream",
     "text": [
      "\r",
      " 16%|█▌        | 156/1000 [02:23<12:57,  1.09it/s]"
     ]
    },
    {
     "name": "stdout",
     "output_type": "stream",
     "text": [
      "Epoch 00155 | Loss 49.1785 | train_RMSE 5.7752 | train_r2 0.9166 | test_RMSE 5.7955 | test_r2 0.9210 \n"
     ]
    },
    {
     "name": "stderr",
     "output_type": "stream",
     "text": [
      "\r",
      " 16%|█▌        | 157/1000 [02:24<12:56,  1.09it/s]"
     ]
    },
    {
     "name": "stdout",
     "output_type": "stream",
     "text": [
      "Epoch 00156 | Loss 48.0394 | train_RMSE 5.7465 | train_r2 0.9173 | test_RMSE 5.7628 | test_r2 0.9218 \n"
     ]
    },
    {
     "name": "stderr",
     "output_type": "stream",
     "text": [
      "\r",
      " 16%|█▌        | 158/1000 [02:25<12:53,  1.09it/s]"
     ]
    },
    {
     "name": "stdout",
     "output_type": "stream",
     "text": [
      "Epoch 00157 | Loss 47.2722 | train_RMSE 5.7306 | train_r2 0.9172 | test_RMSE 5.7169 | test_r2 0.9225 \n"
     ]
    },
    {
     "name": "stderr",
     "output_type": "stream",
     "text": [
      "\r",
      " 16%|█▌        | 159/1000 [02:26<13:03,  1.07it/s]"
     ]
    },
    {
     "name": "stdout",
     "output_type": "stream",
     "text": [
      "Epoch 00158 | Loss 48.2748 | train_RMSE 5.7396 | train_r2 0.9163 | test_RMSE 5.6997 | test_r2 0.9223 \n"
     ]
    },
    {
     "name": "stderr",
     "output_type": "stream",
     "text": [
      "\r",
      " 16%|█▌        | 160/1000 [02:27<13:04,  1.07it/s]"
     ]
    },
    {
     "name": "stdout",
     "output_type": "stream",
     "text": [
      "Epoch 00159 | Loss 48.1044 | train_RMSE 5.7128 | train_r2 0.9169 | test_RMSE 5.6713 | test_r2 0.9230 \n"
     ]
    },
    {
     "name": "stderr",
     "output_type": "stream",
     "text": [
      "\r",
      " 16%|█▌        | 161/1000 [02:28<13:07,  1.07it/s]"
     ]
    },
    {
     "name": "stdout",
     "output_type": "stream",
     "text": [
      "Epoch 00160 | Loss 46.0423 | train_RMSE 5.6893 | train_r2 0.9184 | test_RMSE 5.6667 | test_r2 0.9239 \n"
     ]
    },
    {
     "name": "stderr",
     "output_type": "stream",
     "text": [
      "\r",
      " 16%|█▌        | 162/1000 [02:29<12:59,  1.08it/s]"
     ]
    },
    {
     "name": "stdout",
     "output_type": "stream",
     "text": [
      "Epoch 00161 | Loss 48.1343 | train_RMSE 5.6599 | train_r2 0.9194 | test_RMSE 5.6422 | test_r2 0.9247 \n"
     ]
    },
    {
     "name": "stderr",
     "output_type": "stream",
     "text": [
      "\r",
      " 16%|█▋        | 163/1000 [02:30<12:55,  1.08it/s]"
     ]
    },
    {
     "name": "stdout",
     "output_type": "stream",
     "text": [
      "Epoch 00162 | Loss 45.7196 | train_RMSE 5.6630 | train_r2 0.9195 | test_RMSE 5.6470 | test_r2 0.9247 \n"
     ]
    },
    {
     "name": "stderr",
     "output_type": "stream",
     "text": [
      "\r",
      " 16%|█▋        | 164/1000 [02:31<12:45,  1.09it/s]"
     ]
    },
    {
     "name": "stdout",
     "output_type": "stream",
     "text": [
      "Epoch 00163 | Loss 45.7820 | train_RMSE 5.6315 | train_r2 0.9205 | test_RMSE 5.6191 | test_r2 0.9256 \n"
     ]
    },
    {
     "name": "stderr",
     "output_type": "stream",
     "text": [
      "\r",
      " 16%|█▋        | 165/1000 [02:32<12:44,  1.09it/s]"
     ]
    },
    {
     "name": "stdout",
     "output_type": "stream",
     "text": [
      "Epoch 00164 | Loss 46.8676 | train_RMSE 5.6200 | train_r2 0.9207 | test_RMSE 5.6079 | test_r2 0.9258 \n"
     ]
    },
    {
     "name": "stderr",
     "output_type": "stream",
     "text": [
      "\r",
      " 17%|█▋        | 166/1000 [02:33<12:46,  1.09it/s]"
     ]
    },
    {
     "name": "stdout",
     "output_type": "stream",
     "text": [
      "Epoch 00165 | Loss 46.9992 | train_RMSE 5.6074 | train_r2 0.9201 | test_RMSE 5.5731 | test_r2 0.9258 \n"
     ]
    },
    {
     "name": "stderr",
     "output_type": "stream",
     "text": [
      "\r",
      " 17%|█▋        | 167/1000 [02:33<12:48,  1.08it/s]"
     ]
    },
    {
     "name": "stdout",
     "output_type": "stream",
     "text": [
      "Epoch 00166 | Loss 46.7560 | train_RMSE 5.6128 | train_r2 0.9199 | test_RMSE 5.5635 | test_r2 0.9259 \n"
     ]
    },
    {
     "name": "stderr",
     "output_type": "stream",
     "text": [
      "\r",
      " 17%|█▋        | 168/1000 [02:34<12:42,  1.09it/s]"
     ]
    },
    {
     "name": "stdout",
     "output_type": "stream",
     "text": [
      "Epoch 00167 | Loss 46.3985 | train_RMSE 5.5706 | train_r2 0.9218 | test_RMSE 5.5255 | test_r2 0.9275 \n"
     ]
    },
    {
     "name": "stderr",
     "output_type": "stream",
     "text": [
      "\r",
      " 17%|█▋        | 169/1000 [02:35<12:39,  1.09it/s]"
     ]
    },
    {
     "name": "stdout",
     "output_type": "stream",
     "text": [
      "Epoch 00168 | Loss 46.1600 | train_RMSE 5.5479 | train_r2 0.9237 | test_RMSE 5.5218 | test_r2 0.9288 \n"
     ]
    },
    {
     "name": "stderr",
     "output_type": "stream",
     "text": [
      "\r",
      " 17%|█▋        | 170/1000 [02:36<12:37,  1.10it/s]"
     ]
    },
    {
     "name": "stdout",
     "output_type": "stream",
     "text": [
      "Epoch 00169 | Loss 45.8604 | train_RMSE 5.5133 | train_r2 0.9251 | test_RMSE 5.4710 | test_r2 0.9303 \n"
     ]
    },
    {
     "name": "stderr",
     "output_type": "stream",
     "text": [
      "\r",
      " 17%|█▋        | 171/1000 [02:37<12:37,  1.09it/s]"
     ]
    },
    {
     "name": "stdout",
     "output_type": "stream",
     "text": [
      "Epoch 00170 | Loss 44.4349 | train_RMSE 5.5541 | train_r2 0.9234 | test_RMSE 5.4840 | test_r2 0.9294 \n"
     ]
    },
    {
     "name": "stderr",
     "output_type": "stream",
     "text": [
      "\r",
      " 17%|█▋        | 172/1000 [02:38<12:35,  1.10it/s]"
     ]
    },
    {
     "name": "stdout",
     "output_type": "stream",
     "text": [
      "Epoch 00171 | Loss 46.5284 | train_RMSE 5.4842 | train_r2 0.9252 | test_RMSE 5.4419 | test_r2 0.9305 \n"
     ]
    },
    {
     "name": "stderr",
     "output_type": "stream",
     "text": [
      "\r",
      " 17%|█▋        | 173/1000 [02:39<12:31,  1.10it/s]"
     ]
    },
    {
     "name": "stdout",
     "output_type": "stream",
     "text": [
      "Epoch 00172 | Loss 45.6311 | train_RMSE 5.4849 | train_r2 0.9246 | test_RMSE 5.4359 | test_r2 0.9302 \n"
     ]
    },
    {
     "name": "stderr",
     "output_type": "stream",
     "text": [
      "\r",
      " 17%|█▋        | 174/1000 [02:40<12:30,  1.10it/s]"
     ]
    },
    {
     "name": "stdout",
     "output_type": "stream",
     "text": [
      "Epoch 00173 | Loss 44.0338 | train_RMSE 5.4617 | train_r2 0.9249 | test_RMSE 5.3915 | test_r2 0.9310 \n"
     ]
    },
    {
     "name": "stderr",
     "output_type": "stream",
     "text": [
      "\r",
      " 18%|█▊        | 175/1000 [02:41<12:42,  1.08it/s]"
     ]
    },
    {
     "name": "stdout",
     "output_type": "stream",
     "text": [
      "Epoch 00174 | Loss 44.4734 | train_RMSE 5.4511 | train_r2 0.9259 | test_RMSE 5.3620 | test_r2 0.9322 \n"
     ]
    },
    {
     "name": "stderr",
     "output_type": "stream",
     "text": [
      "\r",
      " 18%|█▊        | 176/1000 [02:42<12:43,  1.08it/s]"
     ]
    },
    {
     "name": "stdout",
     "output_type": "stream",
     "text": [
      "Epoch 00175 | Loss 42.9787 | train_RMSE 5.4032 | train_r2 0.9275 | test_RMSE 5.3185 | test_r2 0.9336 \n"
     ]
    },
    {
     "name": "stderr",
     "output_type": "stream",
     "text": [
      "\r",
      " 18%|█▊        | 177/1000 [02:43<12:43,  1.08it/s]"
     ]
    },
    {
     "name": "stdout",
     "output_type": "stream",
     "text": [
      "Epoch 00176 | Loss 44.1886 | train_RMSE 5.3942 | train_r2 0.9273 | test_RMSE 5.3011 | test_r2 0.9336 \n"
     ]
    },
    {
     "name": "stderr",
     "output_type": "stream",
     "text": [
      "\r",
      " 18%|█▊        | 178/1000 [02:44<12:38,  1.08it/s]"
     ]
    },
    {
     "name": "stdout",
     "output_type": "stream",
     "text": [
      "Epoch 00177 | Loss 43.0004 | train_RMSE 5.3916 | train_r2 0.9268 | test_RMSE 5.2764 | test_r2 0.9336 \n"
     ]
    },
    {
     "name": "stderr",
     "output_type": "stream",
     "text": [
      "\r",
      " 18%|█▊        | 179/1000 [02:44<12:34,  1.09it/s]"
     ]
    },
    {
     "name": "stdout",
     "output_type": "stream",
     "text": [
      "Epoch 00178 | Loss 43.7680 | train_RMSE 5.3572 | train_r2 0.9275 | test_RMSE 5.2635 | test_r2 0.9337 \n"
     ]
    },
    {
     "name": "stderr",
     "output_type": "stream",
     "text": [
      "\r",
      " 18%|█▊        | 180/1000 [02:45<12:30,  1.09it/s]"
     ]
    },
    {
     "name": "stdout",
     "output_type": "stream",
     "text": [
      "Epoch 00179 | Loss 44.1848 | train_RMSE 5.3384 | train_r2 0.9282 | test_RMSE 5.2685 | test_r2 0.9338 \n"
     ]
    },
    {
     "name": "stderr",
     "output_type": "stream",
     "text": [
      "\r",
      " 18%|█▊        | 181/1000 [02:46<12:36,  1.08it/s]"
     ]
    },
    {
     "name": "stdout",
     "output_type": "stream",
     "text": [
      "Epoch 00180 | Loss 41.8740 | train_RMSE 5.3216 | train_r2 0.9295 | test_RMSE 5.2614 | test_r2 0.9345 \n"
     ]
    },
    {
     "name": "stderr",
     "output_type": "stream",
     "text": [
      "\r",
      " 18%|█▊        | 182/1000 [02:47<12:40,  1.08it/s]"
     ]
    },
    {
     "name": "stdout",
     "output_type": "stream",
     "text": [
      "Epoch 00181 | Loss 43.1745 | train_RMSE 5.2907 | train_r2 0.9306 | test_RMSE 5.2302 | test_r2 0.9356 \n"
     ]
    },
    {
     "name": "stderr",
     "output_type": "stream",
     "text": [
      "\r",
      " 18%|█▊        | 183/1000 [02:48<12:43,  1.07it/s]"
     ]
    },
    {
     "name": "stdout",
     "output_type": "stream",
     "text": [
      "Epoch 00182 | Loss 43.2405 | train_RMSE 5.2682 | train_r2 0.9309 | test_RMSE 5.1906 | test_r2 0.9363 \n"
     ]
    },
    {
     "name": "stderr",
     "output_type": "stream",
     "text": [
      "\r",
      " 18%|█▊        | 184/1000 [02:49<12:38,  1.08it/s]"
     ]
    },
    {
     "name": "stdout",
     "output_type": "stream",
     "text": [
      "Epoch 00183 | Loss 42.9672 | train_RMSE 5.2647 | train_r2 0.9305 | test_RMSE 5.1633 | test_r2 0.9366 \n"
     ]
    },
    {
     "name": "stderr",
     "output_type": "stream",
     "text": [
      "\r",
      " 18%|█▊        | 185/1000 [02:50<12:30,  1.09it/s]"
     ]
    },
    {
     "name": "stdout",
     "output_type": "stream",
     "text": [
      "Epoch 00184 | Loss 43.8611 | train_RMSE 5.2434 | train_r2 0.9308 | test_RMSE 5.1398 | test_r2 0.9369 \n"
     ]
    },
    {
     "name": "stderr",
     "output_type": "stream",
     "text": [
      "\r",
      " 19%|█▊        | 186/1000 [02:51<12:24,  1.09it/s]"
     ]
    },
    {
     "name": "stdout",
     "output_type": "stream",
     "text": [
      "Epoch 00185 | Loss 41.7331 | train_RMSE 5.2190 | train_r2 0.9318 | test_RMSE 5.1283 | test_r2 0.9376 \n"
     ]
    },
    {
     "name": "stderr",
     "output_type": "stream",
     "text": [
      "\r",
      " 19%|█▊        | 187/1000 [02:52<12:27,  1.09it/s]"
     ]
    },
    {
     "name": "stdout",
     "output_type": "stream",
     "text": [
      "Epoch 00186 | Loss 40.0410 | train_RMSE 5.1919 | train_r2 0.9333 | test_RMSE 5.1047 | test_r2 0.9388 \n"
     ]
    },
    {
     "name": "stderr",
     "output_type": "stream",
     "text": [
      "\r",
      " 19%|█▉        | 188/1000 [02:53<12:26,  1.09it/s]"
     ]
    },
    {
     "name": "stdout",
     "output_type": "stream",
     "text": [
      "Epoch 00187 | Loss 41.6563 | train_RMSE 5.2606 | train_r2 0.9329 | test_RMSE 5.1258 | test_r2 0.9393 \n"
     ]
    },
    {
     "name": "stderr",
     "output_type": "stream",
     "text": [
      "\r",
      " 19%|█▉        | 189/1000 [02:54<12:26,  1.09it/s]"
     ]
    },
    {
     "name": "stdout",
     "output_type": "stream",
     "text": [
      "Epoch 00188 | Loss 41.3368 | train_RMSE 5.1880 | train_r2 0.9344 | test_RMSE 5.1275 | test_r2 0.9392 \n"
     ]
    },
    {
     "name": "stderr",
     "output_type": "stream",
     "text": [
      "\r",
      " 19%|█▉        | 190/1000 [02:55<12:25,  1.09it/s]"
     ]
    },
    {
     "name": "stdout",
     "output_type": "stream",
     "text": [
      "Epoch 00189 | Loss 42.3814 | train_RMSE 5.1445 | train_r2 0.9346 | test_RMSE 5.0635 | test_r2 0.9401 \n"
     ]
    },
    {
     "name": "stderr",
     "output_type": "stream",
     "text": [
      "\r",
      " 19%|█▉        | 191/1000 [02:56<12:23,  1.09it/s]"
     ]
    },
    {
     "name": "stdout",
     "output_type": "stream",
     "text": [
      "Epoch 00190 | Loss 40.3332 | train_RMSE 5.1875 | train_r2 0.9323 | test_RMSE 5.0475 | test_r2 0.9393 \n"
     ]
    },
    {
     "name": "stderr",
     "output_type": "stream",
     "text": [
      "\r",
      " 19%|█▉        | 192/1000 [02:56<12:17,  1.10it/s]"
     ]
    },
    {
     "name": "stdout",
     "output_type": "stream",
     "text": [
      "Epoch 00191 | Loss 42.1575 | train_RMSE 5.1093 | train_r2 0.9344 | test_RMSE 4.9841 | test_r2 0.9411 \n"
     ]
    },
    {
     "name": "stderr",
     "output_type": "stream",
     "text": [
      "\r",
      " 19%|█▉        | 193/1000 [02:57<12:22,  1.09it/s]"
     ]
    },
    {
     "name": "stdout",
     "output_type": "stream",
     "text": [
      "Epoch 00192 | Loss 39.4852 | train_RMSE 5.1033 | train_r2 0.9355 | test_RMSE 5.0251 | test_r2 0.9410 \n"
     ]
    },
    {
     "name": "stderr",
     "output_type": "stream",
     "text": [
      "\r",
      " 19%|█▉        | 194/1000 [02:58<12:25,  1.08it/s]"
     ]
    },
    {
     "name": "stdout",
     "output_type": "stream",
     "text": [
      "Epoch 00193 | Loss 41.0655 | train_RMSE 5.0566 | train_r2 0.9365 | test_RMSE 4.9574 | test_r2 0.9423 \n"
     ]
    },
    {
     "name": "stderr",
     "output_type": "stream",
     "text": [
      "\r",
      " 20%|█▉        | 195/1000 [02:59<12:20,  1.09it/s]"
     ]
    },
    {
     "name": "stdout",
     "output_type": "stream",
     "text": [
      "Epoch 00194 | Loss 39.8575 | train_RMSE 5.0666 | train_r2 0.9359 | test_RMSE 4.9646 | test_r2 0.9417 \n"
     ]
    },
    {
     "name": "stderr",
     "output_type": "stream",
     "text": [
      "\r",
      " 20%|█▉        | 196/1000 [03:00<12:23,  1.08it/s]"
     ]
    },
    {
     "name": "stdout",
     "output_type": "stream",
     "text": [
      "Epoch 00195 | Loss 40.5461 | train_RMSE 5.0166 | train_r2 0.9371 | test_RMSE 4.9271 | test_r2 0.9425 \n"
     ]
    },
    {
     "name": "stderr",
     "output_type": "stream",
     "text": [
      "\r",
      " 20%|█▉        | 197/1000 [03:01<12:21,  1.08it/s]"
     ]
    },
    {
     "name": "stdout",
     "output_type": "stream",
     "text": [
      "Epoch 00196 | Loss 38.3447 | train_RMSE 4.9930 | train_r2 0.9380 | test_RMSE 4.8987 | test_r2 0.9433 \n"
     ]
    },
    {
     "name": "stderr",
     "output_type": "stream",
     "text": [
      "\r",
      " 20%|█▉        | 198/1000 [03:02<12:14,  1.09it/s]"
     ]
    },
    {
     "name": "stdout",
     "output_type": "stream",
     "text": [
      "Epoch 00197 | Loss 39.4874 | train_RMSE 4.9661 | train_r2 0.9393 | test_RMSE 4.8723 | test_r2 0.9444 \n"
     ]
    },
    {
     "name": "stderr",
     "output_type": "stream",
     "text": [
      "\r",
      " 20%|█▉        | 199/1000 [03:03<12:06,  1.10it/s]"
     ]
    },
    {
     "name": "stdout",
     "output_type": "stream",
     "text": [
      "Epoch 00198 | Loss 39.3484 | train_RMSE 4.9431 | train_r2 0.9400 | test_RMSE 4.8469 | test_r2 0.9451 \n"
     ]
    },
    {
     "name": "stderr",
     "output_type": "stream",
     "text": [
      "\r",
      " 20%|██        | 200/1000 [03:04<12:12,  1.09it/s]"
     ]
    },
    {
     "name": "stdout",
     "output_type": "stream",
     "text": [
      "Epoch 00199 | Loss 37.7507 | train_RMSE 4.9553 | train_r2 0.9392 | test_RMSE 4.8287 | test_r2 0.9450 \n"
     ]
    },
    {
     "name": "stderr",
     "output_type": "stream",
     "text": [
      "\r",
      " 20%|██        | 201/1000 [03:05<12:19,  1.08it/s]"
     ]
    },
    {
     "name": "stdout",
     "output_type": "stream",
     "text": [
      "Epoch 00200 | Loss 38.2585 | train_RMSE 4.9212 | train_r2 0.9397 | test_RMSE 4.8259 | test_r2 0.9450 \n"
     ]
    },
    {
     "name": "stderr",
     "output_type": "stream",
     "text": [
      "\r",
      " 20%|██        | 202/1000 [03:06<12:22,  1.07it/s]"
     ]
    },
    {
     "name": "stdout",
     "output_type": "stream",
     "text": [
      "Epoch 00201 | Loss 39.2968 | train_RMSE 4.9104 | train_r2 0.9399 | test_RMSE 4.8185 | test_r2 0.9451 \n"
     ]
    },
    {
     "name": "stderr",
     "output_type": "stream",
     "text": [
      "\r",
      " 20%|██        | 203/1000 [03:07<12:18,  1.08it/s]"
     ]
    },
    {
     "name": "stdout",
     "output_type": "stream",
     "text": [
      "Epoch 00202 | Loss 38.6799 | train_RMSE 4.8897 | train_r2 0.9413 | test_RMSE 4.7858 | test_r2 0.9466 \n"
     ]
    },
    {
     "name": "stderr",
     "output_type": "stream",
     "text": [
      "\r",
      " 20%|██        | 204/1000 [03:07<12:15,  1.08it/s]"
     ]
    },
    {
     "name": "stdout",
     "output_type": "stream",
     "text": [
      "Epoch 00203 | Loss 37.9025 | train_RMSE 4.8364 | train_r2 0.9431 | test_RMSE 4.7330 | test_r2 0.9482 \n"
     ]
    },
    {
     "name": "stderr",
     "output_type": "stream",
     "text": [
      "\r",
      " 20%|██        | 205/1000 [03:08<12:11,  1.09it/s]"
     ]
    },
    {
     "name": "stdout",
     "output_type": "stream",
     "text": [
      "Epoch 00204 | Loss 36.4418 | train_RMSE 4.8169 | train_r2 0.9433 | test_RMSE 4.6948 | test_r2 0.9489 \n"
     ]
    },
    {
     "name": "stderr",
     "output_type": "stream",
     "text": [
      "\r",
      " 21%|██        | 206/1000 [03:09<12:13,  1.08it/s]"
     ]
    },
    {
     "name": "stdout",
     "output_type": "stream",
     "text": [
      "Epoch 00205 | Loss 37.0871 | train_RMSE 4.8133 | train_r2 0.9425 | test_RMSE 4.6470 | test_r2 0.9493 \n"
     ]
    },
    {
     "name": "stderr",
     "output_type": "stream",
     "text": [
      "\r",
      " 21%|██        | 207/1000 [03:10<12:08,  1.09it/s]"
     ]
    },
    {
     "name": "stdout",
     "output_type": "stream",
     "text": [
      "Epoch 00206 | Loss 38.1332 | train_RMSE 4.7863 | train_r2 0.9426 | test_RMSE 4.6330 | test_r2 0.9492 \n"
     ]
    },
    {
     "name": "stderr",
     "output_type": "stream",
     "text": [
      "\r",
      " 21%|██        | 208/1000 [03:11<12:14,  1.08it/s]"
     ]
    },
    {
     "name": "stdout",
     "output_type": "stream",
     "text": [
      "Epoch 00207 | Loss 36.4362 | train_RMSE 4.7789 | train_r2 0.9427 | test_RMSE 4.6315 | test_r2 0.9491 \n"
     ]
    },
    {
     "name": "stderr",
     "output_type": "stream",
     "text": [
      "\r",
      " 21%|██        | 209/1000 [03:12<12:11,  1.08it/s]"
     ]
    },
    {
     "name": "stdout",
     "output_type": "stream",
     "text": [
      "Epoch 00208 | Loss 37.9490 | train_RMSE 4.7508 | train_r2 0.9438 | test_RMSE 4.6317 | test_r2 0.9494 \n"
     ]
    },
    {
     "name": "stderr",
     "output_type": "stream",
     "text": [
      "\r",
      " 21%|██        | 210/1000 [03:13<12:05,  1.09it/s]"
     ]
    },
    {
     "name": "stdout",
     "output_type": "stream",
     "text": [
      "Epoch 00209 | Loss 36.8349 | train_RMSE 4.7161 | train_r2 0.9452 | test_RMSE 4.6070 | test_r2 0.9503 \n"
     ]
    },
    {
     "name": "stderr",
     "output_type": "stream",
     "text": [
      "\r",
      " 21%|██        | 211/1000 [03:14<12:13,  1.08it/s]"
     ]
    },
    {
     "name": "stdout",
     "output_type": "stream",
     "text": [
      "Epoch 00210 | Loss 37.0210 | train_RMSE 4.6952 | train_r2 0.9457 | test_RMSE 4.5614 | test_r2 0.9513 \n"
     ]
    },
    {
     "name": "stderr",
     "output_type": "stream",
     "text": [
      "\r",
      " 21%|██        | 212/1000 [03:15<12:11,  1.08it/s]"
     ]
    },
    {
     "name": "stdout",
     "output_type": "stream",
     "text": [
      "Epoch 00211 | Loss 36.7457 | train_RMSE 4.6711 | train_r2 0.9460 | test_RMSE 4.5445 | test_r2 0.9514 \n"
     ]
    },
    {
     "name": "stderr",
     "output_type": "stream",
     "text": [
      "\r",
      " 21%|██▏       | 213/1000 [03:16<12:09,  1.08it/s]"
     ]
    },
    {
     "name": "stdout",
     "output_type": "stream",
     "text": [
      "Epoch 00212 | Loss 36.6636 | train_RMSE 4.6624 | train_r2 0.9460 | test_RMSE 4.5372 | test_r2 0.9514 \n"
     ]
    },
    {
     "name": "stderr",
     "output_type": "stream",
     "text": [
      "\r",
      " 21%|██▏       | 214/1000 [03:17<12:04,  1.09it/s]"
     ]
    },
    {
     "name": "stdout",
     "output_type": "stream",
     "text": [
      "Epoch 00213 | Loss 35.3924 | train_RMSE 4.6668 | train_r2 0.9461 | test_RMSE 4.5344 | test_r2 0.9515 \n"
     ]
    },
    {
     "name": "stderr",
     "output_type": "stream",
     "text": [
      "\r",
      " 22%|██▏       | 215/1000 [03:18<11:59,  1.09it/s]"
     ]
    },
    {
     "name": "stdout",
     "output_type": "stream",
     "text": [
      "Epoch 00214 | Loss 36.4462 | train_RMSE 4.6214 | train_r2 0.9473 | test_RMSE 4.5045 | test_r2 0.9524 \n"
     ]
    },
    {
     "name": "stderr",
     "output_type": "stream",
     "text": [
      "\r",
      " 22%|██▏       | 216/1000 [03:19<12:08,  1.08it/s]"
     ]
    },
    {
     "name": "stdout",
     "output_type": "stream",
     "text": [
      "Epoch 00215 | Loss 36.3075 | train_RMSE 4.5986 | train_r2 0.9478 | test_RMSE 4.4625 | test_r2 0.9533 \n"
     ]
    },
    {
     "name": "stderr",
     "output_type": "stream",
     "text": [
      "\r",
      " 22%|██▏       | 217/1000 [03:20<12:10,  1.07it/s]"
     ]
    },
    {
     "name": "stdout",
     "output_type": "stream",
     "text": [
      "Epoch 00216 | Loss 35.7859 | train_RMSE 4.5866 | train_r2 0.9478 | test_RMSE 4.4342 | test_r2 0.9536 \n"
     ]
    },
    {
     "name": "stderr",
     "output_type": "stream",
     "text": [
      "\r",
      " 22%|██▏       | 218/1000 [03:20<12:06,  1.08it/s]"
     ]
    },
    {
     "name": "stdout",
     "output_type": "stream",
     "text": [
      "Epoch 00217 | Loss 35.8706 | train_RMSE 4.5599 | train_r2 0.9485 | test_RMSE 4.4144 | test_r2 0.9541 \n"
     ]
    },
    {
     "name": "stderr",
     "output_type": "stream",
     "text": [
      "\r",
      " 22%|██▏       | 219/1000 [03:21<11:58,  1.09it/s]"
     ]
    },
    {
     "name": "stdout",
     "output_type": "stream",
     "text": [
      "Epoch 00218 | Loss 35.6611 | train_RMSE 4.5623 | train_r2 0.9481 | test_RMSE 4.4028 | test_r2 0.9540 \n"
     ]
    },
    {
     "name": "stderr",
     "output_type": "stream",
     "text": [
      "\r",
      " 22%|██▏       | 220/1000 [03:22<12:00,  1.08it/s]"
     ]
    },
    {
     "name": "stdout",
     "output_type": "stream",
     "text": [
      "Epoch 00219 | Loss 35.7795 | train_RMSE 4.5409 | train_r2 0.9488 | test_RMSE 4.4150 | test_r2 0.9540 \n"
     ]
    },
    {
     "name": "stderr",
     "output_type": "stream",
     "text": [
      "\r",
      " 22%|██▏       | 221/1000 [03:23<11:57,  1.09it/s]"
     ]
    },
    {
     "name": "stdout",
     "output_type": "stream",
     "text": [
      "Epoch 00220 | Loss 35.0159 | train_RMSE 4.5245 | train_r2 0.9497 | test_RMSE 4.3805 | test_r2 0.9551 \n"
     ]
    },
    {
     "name": "stderr",
     "output_type": "stream",
     "text": [
      "\r",
      " 22%|██▏       | 222/1000 [03:24<11:53,  1.09it/s]"
     ]
    },
    {
     "name": "stdout",
     "output_type": "stream",
     "text": [
      "Epoch 00221 | Loss 35.7246 | train_RMSE 4.4920 | train_r2 0.9506 | test_RMSE 4.3595 | test_r2 0.9557 \n"
     ]
    },
    {
     "name": "stderr",
     "output_type": "stream",
     "text": [
      "\r",
      " 22%|██▏       | 223/1000 [03:25<11:48,  1.10it/s]"
     ]
    },
    {
     "name": "stdout",
     "output_type": "stream",
     "text": [
      "Epoch 00222 | Loss 33.5274 | train_RMSE 4.5037 | train_r2 0.9497 | test_RMSE 4.3365 | test_r2 0.9557 \n"
     ]
    },
    {
     "name": "stderr",
     "output_type": "stream",
     "text": [
      "\r",
      " 22%|██▏       | 224/1000 [03:26<11:47,  1.10it/s]"
     ]
    },
    {
     "name": "stdout",
     "output_type": "stream",
     "text": [
      "Epoch 00223 | Loss 35.1413 | train_RMSE 4.5067 | train_r2 0.9492 | test_RMSE 4.3643 | test_r2 0.9550 \n"
     ]
    },
    {
     "name": "stderr",
     "output_type": "stream",
     "text": [
      "\r",
      " 22%|██▎       | 225/1000 [03:27<11:57,  1.08it/s]"
     ]
    },
    {
     "name": "stdout",
     "output_type": "stream",
     "text": [
      "Epoch 00224 | Loss 35.5069 | train_RMSE 4.4671 | train_r2 0.9502 | test_RMSE 4.3130 | test_r2 0.9561 \n"
     ]
    },
    {
     "name": "stderr",
     "output_type": "stream",
     "text": [
      "\r",
      " 23%|██▎       | 226/1000 [03:28<11:56,  1.08it/s]"
     ]
    },
    {
     "name": "stdout",
     "output_type": "stream",
     "text": [
      "Epoch 00225 | Loss 34.1427 | train_RMSE 4.5169 | train_r2 0.9497 | test_RMSE 4.3437 | test_r2 0.9559 \n"
     ]
    },
    {
     "name": "stderr",
     "output_type": "stream",
     "text": [
      "\r",
      " 23%|██▎       | 227/1000 [03:29<11:53,  1.08it/s]"
     ]
    },
    {
     "name": "stdout",
     "output_type": "stream",
     "text": [
      "Epoch 00226 | Loss 34.9286 | train_RMSE 4.5081 | train_r2 0.9504 | test_RMSE 4.4188 | test_r2 0.9549 \n"
     ]
    },
    {
     "name": "stderr",
     "output_type": "stream",
     "text": [
      "\r",
      " 23%|██▎       | 228/1000 [03:30<11:51,  1.09it/s]"
     ]
    },
    {
     "name": "stdout",
     "output_type": "stream",
     "text": [
      "Epoch 00227 | Loss 34.9094 | train_RMSE 4.4284 | train_r2 0.9517 | test_RMSE 4.3031 | test_r2 0.9568 \n"
     ]
    },
    {
     "name": "stderr",
     "output_type": "stream",
     "text": [
      "\r",
      " 23%|██▎       | 229/1000 [03:31<11:52,  1.08it/s]"
     ]
    },
    {
     "name": "stdout",
     "output_type": "stream",
     "text": [
      "Epoch 00228 | Loss 33.8790 | train_RMSE 4.4767 | train_r2 0.9503 | test_RMSE 4.3133 | test_r2 0.9563 \n"
     ]
    },
    {
     "name": "stderr",
     "output_type": "stream",
     "text": [
      "\r",
      " 23%|██▎       | 230/1000 [03:31<11:50,  1.08it/s]"
     ]
    },
    {
     "name": "stdout",
     "output_type": "stream",
     "text": [
      "Epoch 00229 | Loss 34.0024 | train_RMSE 4.4466 | train_r2 0.9511 | test_RMSE 4.3487 | test_r2 0.9559 \n"
     ]
    },
    {
     "name": "stderr",
     "output_type": "stream",
     "text": [
      "\r",
      " 23%|██▎       | 231/1000 [03:32<11:53,  1.08it/s]"
     ]
    },
    {
     "name": "stdout",
     "output_type": "stream",
     "text": [
      "Epoch 00230 | Loss 33.8923 | train_RMSE 4.3764 | train_r2 0.9533 | test_RMSE 4.2583 | test_r2 0.9582 \n"
     ]
    },
    {
     "name": "stderr",
     "output_type": "stream",
     "text": [
      "\r",
      " 23%|██▎       | 232/1000 [03:33<11:46,  1.09it/s]"
     ]
    },
    {
     "name": "stdout",
     "output_type": "stream",
     "text": [
      "Epoch 00231 | Loss 33.3946 | train_RMSE 4.4718 | train_r2 0.9518 | test_RMSE 4.3006 | test_r2 0.9576 \n"
     ]
    },
    {
     "name": "stderr",
     "output_type": "stream",
     "text": [
      "\r",
      " 23%|██▎       | 233/1000 [03:34<11:52,  1.08it/s]"
     ]
    },
    {
     "name": "stdout",
     "output_type": "stream",
     "text": [
      "Epoch 00232 | Loss 34.1203 | train_RMSE 4.4532 | train_r2 0.9523 | test_RMSE 4.3741 | test_r2 0.9565 \n"
     ]
    },
    {
     "name": "stderr",
     "output_type": "stream",
     "text": [
      "\r",
      " 23%|██▎       | 234/1000 [03:35<11:56,  1.07it/s]"
     ]
    },
    {
     "name": "stdout",
     "output_type": "stream",
     "text": [
      "Epoch 00233 | Loss 34.3231 | train_RMSE 4.3671 | train_r2 0.9531 | test_RMSE 4.2418 | test_r2 0.9582 \n"
     ]
    },
    {
     "name": "stderr",
     "output_type": "stream",
     "text": [
      "\r",
      " 24%|██▎       | 235/1000 [03:36<11:51,  1.07it/s]"
     ]
    },
    {
     "name": "stdout",
     "output_type": "stream",
     "text": [
      "Epoch 00234 | Loss 33.8034 | train_RMSE 4.4457 | train_r2 0.9507 | test_RMSE 4.2759 | test_r2 0.9570 \n"
     ]
    },
    {
     "name": "stderr",
     "output_type": "stream",
     "text": [
      "\r",
      " 24%|██▎       | 236/1000 [03:37<11:53,  1.07it/s]"
     ]
    },
    {
     "name": "stdout",
     "output_type": "stream",
     "text": [
      "Epoch 00235 | Loss 33.2011 | train_RMSE 4.3617 | train_r2 0.9531 | test_RMSE 4.2657 | test_r2 0.9578 \n"
     ]
    },
    {
     "name": "stderr",
     "output_type": "stream",
     "text": [
      "\r",
      " 24%|██▎       | 237/1000 [03:38<11:48,  1.08it/s]"
     ]
    },
    {
     "name": "stdout",
     "output_type": "stream",
     "text": [
      "Epoch 00236 | Loss 34.0535 | train_RMSE 4.3199 | train_r2 0.9541 | test_RMSE 4.2090 | test_r2 0.9590 \n"
     ]
    },
    {
     "name": "stderr",
     "output_type": "stream",
     "text": [
      "\r",
      " 24%|██▍       | 238/1000 [03:39<11:51,  1.07it/s]"
     ]
    },
    {
     "name": "stdout",
     "output_type": "stream",
     "text": [
      "Epoch 00237 | Loss 33.5031 | train_RMSE 4.3583 | train_r2 0.9531 | test_RMSE 4.2209 | test_r2 0.9585 \n"
     ]
    },
    {
     "name": "stderr",
     "output_type": "stream",
     "text": [
      "\r",
      " 24%|██▍       | 239/1000 [03:40<11:45,  1.08it/s]"
     ]
    },
    {
     "name": "stdout",
     "output_type": "stream",
     "text": [
      "Epoch 00238 | Loss 32.9862 | train_RMSE 4.3601 | train_r2 0.9534 | test_RMSE 4.3027 | test_r2 0.9572 \n"
     ]
    },
    {
     "name": "stderr",
     "output_type": "stream",
     "text": [
      "\r",
      " 24%|██▍       | 240/1000 [03:41<11:44,  1.08it/s]"
     ]
    },
    {
     "name": "stdout",
     "output_type": "stream",
     "text": [
      "Epoch 00239 | Loss 33.1040 | train_RMSE 4.3569 | train_r2 0.9532 | test_RMSE 4.2585 | test_r2 0.9577 \n"
     ]
    },
    {
     "name": "stderr",
     "output_type": "stream",
     "text": [
      "\r",
      " 24%|██▍       | 241/1000 [03:42<11:39,  1.09it/s]"
     ]
    },
    {
     "name": "stdout",
     "output_type": "stream",
     "text": [
      "Epoch 00240 | Loss 32.8143 | train_RMSE 4.3021 | train_r2 0.9547 | test_RMSE 4.2068 | test_r2 0.9591 \n"
     ]
    },
    {
     "name": "stderr",
     "output_type": "stream",
     "text": [
      "\r",
      " 24%|██▍       | 242/1000 [03:43<11:42,  1.08it/s]"
     ]
    },
    {
     "name": "stdout",
     "output_type": "stream",
     "text": [
      "Epoch 00241 | Loss 32.1609 | train_RMSE 4.2699 | train_r2 0.9557 | test_RMSE 4.1731 | test_r2 0.9600 \n"
     ]
    },
    {
     "name": "stderr",
     "output_type": "stream",
     "text": [
      "\r",
      " 24%|██▍       | 243/1000 [03:44<11:36,  1.09it/s]"
     ]
    },
    {
     "name": "stdout",
     "output_type": "stream",
     "text": [
      "Epoch 00242 | Loss 32.2549 | train_RMSE 4.2691 | train_r2 0.9557 | test_RMSE 4.1510 | test_r2 0.9604 \n"
     ]
    },
    {
     "name": "stderr",
     "output_type": "stream",
     "text": [
      "\r",
      " 24%|██▍       | 244/1000 [03:44<11:35,  1.09it/s]"
     ]
    },
    {
     "name": "stdout",
     "output_type": "stream",
     "text": [
      "Epoch 00243 | Loss 33.7568 | train_RMSE 4.2526 | train_r2 0.9558 | test_RMSE 4.1581 | test_r2 0.9600 \n"
     ]
    },
    {
     "name": "stderr",
     "output_type": "stream",
     "text": [
      "\r",
      " 24%|██▍       | 245/1000 [03:45<11:44,  1.07it/s]"
     ]
    },
    {
     "name": "stdout",
     "output_type": "stream",
     "text": [
      "Epoch 00244 | Loss 31.4722 | train_RMSE 4.3294 | train_r2 0.9535 | test_RMSE 4.1882 | test_r2 0.9587 \n"
     ]
    },
    {
     "name": "stderr",
     "output_type": "stream",
     "text": [
      "\r",
      " 25%|██▍       | 246/1000 [03:46<11:39,  1.08it/s]"
     ]
    },
    {
     "name": "stdout",
     "output_type": "stream",
     "text": [
      "Epoch 00245 | Loss 32.5005 | train_RMSE 4.2727 | train_r2 0.9553 | test_RMSE 4.1830 | test_r2 0.9593 \n"
     ]
    },
    {
     "name": "stderr",
     "output_type": "stream",
     "text": [
      "\r",
      " 25%|██▍       | 247/1000 [03:47<11:37,  1.08it/s]"
     ]
    },
    {
     "name": "stdout",
     "output_type": "stream",
     "text": [
      "Epoch 00246 | Loss 32.2170 | train_RMSE 4.2801 | train_r2 0.9563 | test_RMSE 4.2388 | test_r2 0.9592 \n"
     ]
    },
    {
     "name": "stderr",
     "output_type": "stream",
     "text": [
      "\r",
      " 25%|██▍       | 248/1000 [03:48<11:31,  1.09it/s]"
     ]
    },
    {
     "name": "stdout",
     "output_type": "stream",
     "text": [
      "Epoch 00247 | Loss 31.5675 | train_RMSE 4.2635 | train_r2 0.9568 | test_RMSE 4.1658 | test_r2 0.9607 \n"
     ]
    },
    {
     "name": "stderr",
     "output_type": "stream",
     "text": [
      "\r",
      " 25%|██▍       | 249/1000 [03:49<11:26,  1.09it/s]"
     ]
    },
    {
     "name": "stdout",
     "output_type": "stream",
     "text": [
      "Epoch 00248 | Loss 32.4781 | train_RMSE 4.1888 | train_r2 0.9579 | test_RMSE 4.1307 | test_r2 0.9610 \n"
     ]
    },
    {
     "name": "stderr",
     "output_type": "stream",
     "text": [
      "\r",
      " 25%|██▌       | 250/1000 [03:50<11:25,  1.09it/s]"
     ]
    },
    {
     "name": "stdout",
     "output_type": "stream",
     "text": [
      "Epoch 00249 | Loss 30.9334 | train_RMSE 4.2223 | train_r2 0.9565 | test_RMSE 4.1788 | test_r2 0.9597 \n"
     ]
    },
    {
     "name": "stderr",
     "output_type": "stream",
     "text": [
      "\r",
      " 25%|██▌       | 251/1000 [03:51<11:23,  1.10it/s]"
     ]
    },
    {
     "name": "stdout",
     "output_type": "stream",
     "text": [
      "Epoch 00250 | Loss 31.7197 | train_RMSE 4.2470 | train_r2 0.9550 | test_RMSE 4.1217 | test_r2 0.9600 \n"
     ]
    },
    {
     "name": "stderr",
     "output_type": "stream",
     "text": [
      "\r",
      " 25%|██▌       | 252/1000 [03:52<11:28,  1.09it/s]"
     ]
    },
    {
     "name": "stdout",
     "output_type": "stream",
     "text": [
      "Epoch 00251 | Loss 32.2810 | train_RMSE 4.1989 | train_r2 0.9564 | test_RMSE 4.1151 | test_r2 0.9605 \n"
     ]
    },
    {
     "name": "stderr",
     "output_type": "stream",
     "text": [
      "\r",
      " 25%|██▌       | 253/1000 [03:53<11:36,  1.07it/s]"
     ]
    },
    {
     "name": "stdout",
     "output_type": "stream",
     "text": [
      "Epoch 00252 | Loss 31.4342 | train_RMSE 4.1760 | train_r2 0.9571 | test_RMSE 4.0878 | test_r2 0.9612 \n"
     ]
    },
    {
     "name": "stderr",
     "output_type": "stream",
     "text": [
      "\r",
      " 25%|██▌       | 254/1000 [03:54<11:39,  1.07it/s]"
     ]
    },
    {
     "name": "stdout",
     "output_type": "stream",
     "text": [
      "Epoch 00253 | Loss 31.3990 | train_RMSE 4.1825 | train_r2 0.9575 | test_RMSE 4.0895 | test_r2 0.9616 \n"
     ]
    },
    {
     "name": "stderr",
     "output_type": "stream",
     "text": [
      "\r",
      " 26%|██▌       | 255/1000 [03:55<11:32,  1.08it/s]"
     ]
    },
    {
     "name": "stdout",
     "output_type": "stream",
     "text": [
      "Epoch 00254 | Loss 31.2198 | train_RMSE 4.1641 | train_r2 0.9584 | test_RMSE 4.1218 | test_r2 0.9616 \n"
     ]
    },
    {
     "name": "stderr",
     "output_type": "stream",
     "text": [
      "\r",
      " 26%|██▌       | 256/1000 [03:56<11:28,  1.08it/s]"
     ]
    },
    {
     "name": "stdout",
     "output_type": "stream",
     "text": [
      "Epoch 00255 | Loss 31.0243 | train_RMSE 4.1531 | train_r2 0.9580 | test_RMSE 4.0782 | test_r2 0.9618 \n"
     ]
    },
    {
     "name": "stderr",
     "output_type": "stream",
     "text": [
      "\r",
      " 26%|██▌       | 257/1000 [03:56<11:21,  1.09it/s]"
     ]
    },
    {
     "name": "stdout",
     "output_type": "stream",
     "text": [
      "Epoch 00256 | Loss 31.4539 | train_RMSE 4.1478 | train_r2 0.9574 | test_RMSE 4.0631 | test_r2 0.9615 \n"
     ]
    },
    {
     "name": "stderr",
     "output_type": "stream",
     "text": [
      "\r",
      " 26%|██▌       | 258/1000 [03:57<11:18,  1.09it/s]"
     ]
    },
    {
     "name": "stdout",
     "output_type": "stream",
     "text": [
      "Epoch 00257 | Loss 30.8666 | train_RMSE 4.1355 | train_r2 0.9577 | test_RMSE 4.0871 | test_r2 0.9611 \n"
     ]
    },
    {
     "name": "stderr",
     "output_type": "stream",
     "text": [
      "\r",
      " 26%|██▌       | 259/1000 [03:58<11:24,  1.08it/s]"
     ]
    },
    {
     "name": "stdout",
     "output_type": "stream",
     "text": [
      "Epoch 00258 | Loss 30.9626 | train_RMSE 4.1276 | train_r2 0.9580 | test_RMSE 4.0741 | test_r2 0.9614 \n"
     ]
    },
    {
     "name": "stderr",
     "output_type": "stream",
     "text": [
      "\r",
      " 26%|██▌       | 260/1000 [03:59<11:30,  1.07it/s]"
     ]
    },
    {
     "name": "stdout",
     "output_type": "stream",
     "text": [
      "Epoch 00259 | Loss 30.6424 | train_RMSE 4.1388 | train_r2 0.9579 | test_RMSE 4.0642 | test_r2 0.9616 \n"
     ]
    },
    {
     "name": "stderr",
     "output_type": "stream",
     "text": [
      "\r",
      " 26%|██▌       | 261/1000 [04:00<11:29,  1.07it/s]"
     ]
    },
    {
     "name": "stdout",
     "output_type": "stream",
     "text": [
      "Epoch 00260 | Loss 31.1059 | train_RMSE 4.1129 | train_r2 0.9590 | test_RMSE 4.0606 | test_r2 0.9621 \n"
     ]
    },
    {
     "name": "stderr",
     "output_type": "stream",
     "text": [
      "\r",
      " 26%|██▌       | 262/1000 [04:01<11:26,  1.07it/s]"
     ]
    },
    {
     "name": "stdout",
     "output_type": "stream",
     "text": [
      "Epoch 00261 | Loss 31.3465 | train_RMSE 4.0906 | train_r2 0.9597 | test_RMSE 4.0598 | test_r2 0.9623 \n"
     ]
    },
    {
     "name": "stderr",
     "output_type": "stream",
     "text": [
      "\r",
      " 26%|██▋       | 263/1000 [04:02<11:23,  1.08it/s]"
     ]
    },
    {
     "name": "stdout",
     "output_type": "stream",
     "text": [
      "Epoch 00262 | Loss 30.4856 | train_RMSE 4.1092 | train_r2 0.9589 | test_RMSE 4.0422 | test_r2 0.9621 \n"
     ]
    },
    {
     "name": "stderr",
     "output_type": "stream",
     "text": [
      "\r",
      " 26%|██▋       | 264/1000 [04:03<11:19,  1.08it/s]"
     ]
    },
    {
     "name": "stdout",
     "output_type": "stream",
     "text": [
      "Epoch 00263 | Loss 30.4252 | train_RMSE 4.0914 | train_r2 0.9588 | test_RMSE 4.0450 | test_r2 0.9617 \n"
     ]
    },
    {
     "name": "stderr",
     "output_type": "stream",
     "text": [
      "\r",
      " 26%|██▋       | 265/1000 [04:04<11:19,  1.08it/s]"
     ]
    },
    {
     "name": "stdout",
     "output_type": "stream",
     "text": [
      "Epoch 00264 | Loss 30.6473 | train_RMSE 4.0914 | train_r2 0.9583 | test_RMSE 4.0103 | test_r2 0.9619 \n"
     ]
    },
    {
     "name": "stderr",
     "output_type": "stream",
     "text": [
      "\r",
      " 27%|██▋       | 266/1000 [04:05<11:19,  1.08it/s]"
     ]
    },
    {
     "name": "stdout",
     "output_type": "stream",
     "text": [
      "Epoch 00265 | Loss 30.4327 | train_RMSE 4.0935 | train_r2 0.9583 | test_RMSE 4.0117 | test_r2 0.9620 \n"
     ]
    },
    {
     "name": "stderr",
     "output_type": "stream",
     "text": [
      "\r",
      " 27%|██▋       | 267/1000 [04:06<11:18,  1.08it/s]"
     ]
    },
    {
     "name": "stdout",
     "output_type": "stream",
     "text": [
      "Epoch 00266 | Loss 30.9574 | train_RMSE 4.0984 | train_r2 0.9586 | test_RMSE 3.9937 | test_r2 0.9626 \n"
     ]
    },
    {
     "name": "stderr",
     "output_type": "stream",
     "text": [
      "\r",
      " 27%|██▋       | 268/1000 [04:07<11:21,  1.07it/s]"
     ]
    },
    {
     "name": "stdout",
     "output_type": "stream",
     "text": [
      "Epoch 00267 | Loss 30.1651 | train_RMSE 4.0765 | train_r2 0.9601 | test_RMSE 4.0199 | test_r2 0.9631 \n"
     ]
    },
    {
     "name": "stderr",
     "output_type": "stream",
     "text": [
      "\r",
      " 27%|██▋       | 269/1000 [04:08<11:23,  1.07it/s]"
     ]
    },
    {
     "name": "stdout",
     "output_type": "stream",
     "text": [
      "Epoch 00268 | Loss 30.5310 | train_RMSE 4.0624 | train_r2 0.9605 | test_RMSE 3.9939 | test_r2 0.9637 \n"
     ]
    },
    {
     "name": "stderr",
     "output_type": "stream",
     "text": [
      "\r",
      " 27%|██▋       | 270/1000 [04:09<11:18,  1.08it/s]"
     ]
    },
    {
     "name": "stdout",
     "output_type": "stream",
     "text": [
      "Epoch 00269 | Loss 29.8749 | train_RMSE 4.0552 | train_r2 0.9603 | test_RMSE 3.9797 | test_r2 0.9637 \n"
     ]
    },
    {
     "name": "stderr",
     "output_type": "stream",
     "text": [
      "\r",
      " 27%|██▋       | 271/1000 [04:09<11:21,  1.07it/s]"
     ]
    },
    {
     "name": "stdout",
     "output_type": "stream",
     "text": [
      "Epoch 00270 | Loss 31.2985 | train_RMSE 4.0451 | train_r2 0.9599 | test_RMSE 3.9788 | test_r2 0.9633 \n"
     ]
    },
    {
     "name": "stderr",
     "output_type": "stream",
     "text": [
      "\r",
      " 27%|██▋       | 272/1000 [04:10<11:20,  1.07it/s]"
     ]
    },
    {
     "name": "stdout",
     "output_type": "stream",
     "text": [
      "Epoch 00271 | Loss 30.2700 | train_RMSE 4.0564 | train_r2 0.9589 | test_RMSE 3.9626 | test_r2 0.9630 \n"
     ]
    },
    {
     "name": "stderr",
     "output_type": "stream",
     "text": [
      "\r",
      " 27%|██▋       | 273/1000 [04:11<11:16,  1.08it/s]"
     ]
    },
    {
     "name": "stdout",
     "output_type": "stream",
     "text": [
      "Epoch 00272 | Loss 30.1860 | train_RMSE 4.0642 | train_r2 0.9589 | test_RMSE 3.9635 | test_r2 0.9631 \n"
     ]
    },
    {
     "name": "stderr",
     "output_type": "stream",
     "text": [
      "\r",
      " 27%|██▋       | 274/1000 [04:12<11:18,  1.07it/s]"
     ]
    },
    {
     "name": "stdout",
     "output_type": "stream",
     "text": [
      "Epoch 00273 | Loss 30.8521 | train_RMSE 4.0491 | train_r2 0.9602 | test_RMSE 4.0048 | test_r2 0.9632 \n"
     ]
    },
    {
     "name": "stderr",
     "output_type": "stream",
     "text": [
      "\r",
      " 28%|██▊       | 275/1000 [04:13<11:12,  1.08it/s]"
     ]
    },
    {
     "name": "stdout",
     "output_type": "stream",
     "text": [
      "Epoch 00274 | Loss 31.2880 | train_RMSE 4.0255 | train_r2 0.9612 | test_RMSE 3.9514 | test_r2 0.9646 \n"
     ]
    },
    {
     "name": "stderr",
     "output_type": "stream",
     "text": [
      "\r",
      " 28%|██▊       | 276/1000 [04:14<11:10,  1.08it/s]"
     ]
    },
    {
     "name": "stdout",
     "output_type": "stream",
     "text": [
      "Epoch 00275 | Loss 30.1635 | train_RMSE 4.0202 | train_r2 0.9612 | test_RMSE 3.9521 | test_r2 0.9645 \n"
     ]
    },
    {
     "name": "stderr",
     "output_type": "stream",
     "text": [
      "\r",
      " 28%|██▊       | 277/1000 [04:15<11:07,  1.08it/s]"
     ]
    },
    {
     "name": "stdout",
     "output_type": "stream",
     "text": [
      "Epoch 00276 | Loss 28.8085 | train_RMSE 4.0109 | train_r2 0.9612 | test_RMSE 3.9937 | test_r2 0.9636 \n"
     ]
    },
    {
     "name": "stderr",
     "output_type": "stream",
     "text": [
      "\r",
      " 28%|██▊       | 278/1000 [04:16<11:02,  1.09it/s]"
     ]
    },
    {
     "name": "stdout",
     "output_type": "stream",
     "text": [
      "Epoch 00277 | Loss 29.9582 | train_RMSE 4.0079 | train_r2 0.9605 | test_RMSE 3.9333 | test_r2 0.9640 \n"
     ]
    },
    {
     "name": "stderr",
     "output_type": "stream",
     "text": [
      "\r",
      " 28%|██▊       | 279/1000 [04:17<11:01,  1.09it/s]"
     ]
    },
    {
     "name": "stdout",
     "output_type": "stream",
     "text": [
      "Epoch 00278 | Loss 30.2767 | train_RMSE 3.9852 | train_r2 0.9610 | test_RMSE 3.9278 | test_r2 0.9641 \n"
     ]
    },
    {
     "name": "stderr",
     "output_type": "stream",
     "text": [
      "\r",
      " 28%|██▊       | 280/1000 [04:18<11:05,  1.08it/s]"
     ]
    },
    {
     "name": "stdout",
     "output_type": "stream",
     "text": [
      "Epoch 00279 | Loss 29.1639 | train_RMSE 3.9755 | train_r2 0.9615 | test_RMSE 3.9350 | test_r2 0.9641 \n"
     ]
    },
    {
     "name": "stderr",
     "output_type": "stream",
     "text": [
      "\r",
      " 28%|██▊       | 281/1000 [04:19<11:05,  1.08it/s]"
     ]
    },
    {
     "name": "stdout",
     "output_type": "stream",
     "text": [
      "Epoch 00280 | Loss 29.4118 | train_RMSE 3.9849 | train_r2 0.9613 | test_RMSE 3.9123 | test_r2 0.9644 \n"
     ]
    },
    {
     "name": "stderr",
     "output_type": "stream",
     "text": [
      "\r",
      " 28%|██▊       | 282/1000 [04:20<11:05,  1.08it/s]"
     ]
    },
    {
     "name": "stdout",
     "output_type": "stream",
     "text": [
      "Epoch 00281 | Loss 29.3984 | train_RMSE 3.9566 | train_r2 0.9624 | test_RMSE 3.9187 | test_r2 0.9649 \n"
     ]
    },
    {
     "name": "stderr",
     "output_type": "stream",
     "text": [
      "\r",
      " 28%|██▊       | 283/1000 [04:21<11:05,  1.08it/s]"
     ]
    },
    {
     "name": "stdout",
     "output_type": "stream",
     "text": [
      "Epoch 00282 | Loss 29.3079 | train_RMSE 3.9664 | train_r2 0.9619 | test_RMSE 3.8876 | test_r2 0.9652 \n"
     ]
    },
    {
     "name": "stderr",
     "output_type": "stream",
     "text": [
      "\r",
      " 28%|██▊       | 284/1000 [04:22<11:03,  1.08it/s]"
     ]
    },
    {
     "name": "stdout",
     "output_type": "stream",
     "text": [
      "Epoch 00283 | Loss 29.6930 | train_RMSE 3.9548 | train_r2 0.9619 | test_RMSE 3.8821 | test_r2 0.9651 \n"
     ]
    },
    {
     "name": "stderr",
     "output_type": "stream",
     "text": [
      "\r",
      " 28%|██▊       | 285/1000 [04:22<11:03,  1.08it/s]"
     ]
    },
    {
     "name": "stdout",
     "output_type": "stream",
     "text": [
      "Epoch 00284 | Loss 29.0560 | train_RMSE 3.9519 | train_r2 0.9620 | test_RMSE 3.8916 | test_r2 0.9650 \n"
     ]
    },
    {
     "name": "stderr",
     "output_type": "stream",
     "text": [
      "\r",
      " 29%|██▊       | 286/1000 [04:23<11:05,  1.07it/s]"
     ]
    },
    {
     "name": "stdout",
     "output_type": "stream",
     "text": [
      "Epoch 00285 | Loss 28.9529 | train_RMSE 3.9615 | train_r2 0.9614 | test_RMSE 3.8653 | test_r2 0.9652 \n"
     ]
    },
    {
     "name": "stderr",
     "output_type": "stream",
     "text": [
      "\r",
      " 29%|██▊       | 287/1000 [04:24<11:10,  1.06it/s]"
     ]
    },
    {
     "name": "stdout",
     "output_type": "stream",
     "text": [
      "Epoch 00286 | Loss 29.5050 | train_RMSE 3.9315 | train_r2 0.9622 | test_RMSE 3.8626 | test_r2 0.9654 \n"
     ]
    },
    {
     "name": "stderr",
     "output_type": "stream",
     "text": [
      "\r",
      " 29%|██▉       | 288/1000 [04:25<11:05,  1.07it/s]"
     ]
    },
    {
     "name": "stdout",
     "output_type": "stream",
     "text": [
      "Epoch 00287 | Loss 30.0526 | train_RMSE 3.9739 | train_r2 0.9611 | test_RMSE 3.8819 | test_r2 0.9647 \n"
     ]
    },
    {
     "name": "stderr",
     "output_type": "stream",
     "text": [
      "\r",
      " 29%|██▉       | 289/1000 [04:26<11:08,  1.06it/s]"
     ]
    },
    {
     "name": "stdout",
     "output_type": "stream",
     "text": [
      "Epoch 00288 | Loss 29.0642 | train_RMSE 3.9266 | train_r2 0.9624 | test_RMSE 3.8992 | test_r2 0.9648 \n"
     ]
    },
    {
     "name": "stderr",
     "output_type": "stream",
     "text": [
      "\r",
      " 29%|██▉       | 290/1000 [04:27<11:05,  1.07it/s]"
     ]
    },
    {
     "name": "stdout",
     "output_type": "stream",
     "text": [
      "Epoch 00289 | Loss 29.0083 | train_RMSE 3.9488 | train_r2 0.9627 | test_RMSE 3.9349 | test_r2 0.9647 \n"
     ]
    },
    {
     "name": "stderr",
     "output_type": "stream",
     "text": [
      "\r",
      " 29%|██▉       | 291/1000 [04:28<10:59,  1.08it/s]"
     ]
    },
    {
     "name": "stdout",
     "output_type": "stream",
     "text": [
      "Epoch 00290 | Loss 30.5784 | train_RMSE 4.0500 | train_r2 0.9606 | test_RMSE 3.9306 | test_r2 0.9645 \n"
     ]
    },
    {
     "name": "stderr",
     "output_type": "stream",
     "text": [
      "\r",
      " 29%|██▉       | 292/1000 [04:29<10:57,  1.08it/s]"
     ]
    },
    {
     "name": "stdout",
     "output_type": "stream",
     "text": [
      "Epoch 00291 | Loss 29.8356 | train_RMSE 3.9526 | train_r2 0.9625 | test_RMSE 3.9223 | test_r2 0.9650 \n"
     ]
    },
    {
     "name": "stderr",
     "output_type": "stream",
     "text": [
      "\r",
      " 29%|██▉       | 293/1000 [04:30<10:57,  1.08it/s]"
     ]
    },
    {
     "name": "stdout",
     "output_type": "stream",
     "text": [
      "Epoch 00292 | Loss 29.1021 | train_RMSE 3.9132 | train_r2 0.9622 | test_RMSE 3.8172 | test_r2 0.9659 \n"
     ]
    },
    {
     "name": "stderr",
     "output_type": "stream",
     "text": [
      "\r",
      " 29%|██▉       | 294/1000 [04:31<10:58,  1.07it/s]"
     ]
    },
    {
     "name": "stdout",
     "output_type": "stream",
     "text": [
      "Epoch 00293 | Loss 29.2476 | train_RMSE 3.9543 | train_r2 0.9610 | test_RMSE 3.8301 | test_r2 0.9653 \n"
     ]
    },
    {
     "name": "stderr",
     "output_type": "stream",
     "text": [
      "\r",
      " 30%|██▉       | 295/1000 [04:32<10:55,  1.08it/s]"
     ]
    },
    {
     "name": "stdout",
     "output_type": "stream",
     "text": [
      "Epoch 00294 | Loss 28.9615 | train_RMSE 3.9206 | train_r2 0.9623 | test_RMSE 3.8668 | test_r2 0.9651 \n"
     ]
    },
    {
     "name": "stderr",
     "output_type": "stream",
     "text": [
      "\r",
      " 30%|██▉       | 296/1000 [04:33<10:55,  1.07it/s]"
     ]
    },
    {
     "name": "stdout",
     "output_type": "stream",
     "text": [
      "Epoch 00295 | Loss 28.3536 | train_RMSE 3.9023 | train_r2 0.9631 | test_RMSE 3.8590 | test_r2 0.9656 \n"
     ]
    },
    {
     "name": "stderr",
     "output_type": "stream",
     "text": [
      "\r",
      " 30%|██▉       | 297/1000 [04:34<10:54,  1.07it/s]"
     ]
    },
    {
     "name": "stdout",
     "output_type": "stream",
     "text": [
      "Epoch 00296 | Loss 28.6790 | train_RMSE 3.9610 | train_r2 0.9624 | test_RMSE 3.8824 | test_r2 0.9654 \n"
     ]
    },
    {
     "name": "stderr",
     "output_type": "stream",
     "text": [
      "\r",
      " 30%|██▉       | 298/1000 [04:35<10:52,  1.08it/s]"
     ]
    },
    {
     "name": "stdout",
     "output_type": "stream",
     "text": [
      "Epoch 00297 | Loss 29.7658 | train_RMSE 3.9117 | train_r2 0.9636 | test_RMSE 3.9036 | test_r2 0.9655 \n"
     ]
    },
    {
     "name": "stderr",
     "output_type": "stream",
     "text": [
      "\r",
      " 30%|██▉       | 299/1000 [04:36<10:52,  1.07it/s]"
     ]
    },
    {
     "name": "stdout",
     "output_type": "stream",
     "text": [
      "Epoch 00298 | Loss 28.8697 | train_RMSE 3.8785 | train_r2 0.9634 | test_RMSE 3.8028 | test_r2 0.9666 \n"
     ]
    },
    {
     "name": "stderr",
     "output_type": "stream",
     "text": [
      "\r",
      " 30%|███       | 300/1000 [04:36<10:51,  1.07it/s]"
     ]
    },
    {
     "name": "stdout",
     "output_type": "stream",
     "text": [
      "Epoch 00299 | Loss 28.7874 | train_RMSE 3.9307 | train_r2 0.9615 | test_RMSE 3.8040 | test_r2 0.9658 \n"
     ]
    },
    {
     "name": "stderr",
     "output_type": "stream",
     "text": [
      "\r",
      " 30%|███       | 301/1000 [04:37<10:46,  1.08it/s]"
     ]
    },
    {
     "name": "stdout",
     "output_type": "stream",
     "text": [
      "Epoch 00300 | Loss 27.9508 | train_RMSE 3.9481 | train_r2 0.9615 | test_RMSE 3.8908 | test_r2 0.9646 \n"
     ]
    },
    {
     "name": "stderr",
     "output_type": "stream",
     "text": [
      "\r",
      " 30%|███       | 302/1000 [04:38<10:47,  1.08it/s]"
     ]
    },
    {
     "name": "stdout",
     "output_type": "stream",
     "text": [
      "Epoch 00301 | Loss 29.5449 | train_RMSE 3.9395 | train_r2 0.9613 | test_RMSE 3.8040 | test_r2 0.9658 \n"
     ]
    },
    {
     "name": "stderr",
     "output_type": "stream",
     "text": [
      "\r",
      " 30%|███       | 303/1000 [04:39<10:37,  1.09it/s]"
     ]
    },
    {
     "name": "stdout",
     "output_type": "stream",
     "text": [
      "Epoch 00302 | Loss 29.1650 | train_RMSE 3.8653 | train_r2 0.9636 | test_RMSE 3.7694 | test_r2 0.9672 \n"
     ]
    },
    {
     "name": "stderr",
     "output_type": "stream",
     "text": [
      "\r",
      " 30%|███       | 304/1000 [04:40<10:32,  1.10it/s]"
     ]
    },
    {
     "name": "stdout",
     "output_type": "stream",
     "text": [
      "Epoch 00303 | Loss 28.5599 | train_RMSE 3.9056 | train_r2 0.9638 | test_RMSE 3.8978 | test_r2 0.9658 \n"
     ]
    },
    {
     "name": "stderr",
     "output_type": "stream",
     "text": [
      "\r",
      " 30%|███       | 305/1000 [04:41<10:36,  1.09it/s]"
     ]
    },
    {
     "name": "stdout",
     "output_type": "stream",
     "text": [
      "Epoch 00304 | Loss 28.7148 | train_RMSE 3.9639 | train_r2 0.9624 | test_RMSE 3.8737 | test_r2 0.9657 \n"
     ]
    },
    {
     "name": "stderr",
     "output_type": "stream",
     "text": [
      "\r",
      " 31%|███       | 306/1000 [04:42<10:36,  1.09it/s]"
     ]
    },
    {
     "name": "stdout",
     "output_type": "stream",
     "text": [
      "Epoch 00305 | Loss 28.4465 | train_RMSE 3.8500 | train_r2 0.9643 | test_RMSE 3.8549 | test_r2 0.9659 \n"
     ]
    },
    {
     "name": "stderr",
     "output_type": "stream",
     "text": [
      "\r",
      " 31%|███       | 307/1000 [04:43<10:33,  1.09it/s]"
     ]
    },
    {
     "name": "stdout",
     "output_type": "stream",
     "text": [
      "Epoch 00306 | Loss 28.8074 | train_RMSE 3.8366 | train_r2 0.9640 | test_RMSE 3.8240 | test_r2 0.9660 \n"
     ]
    },
    {
     "name": "stderr",
     "output_type": "stream",
     "text": [
      "\r",
      " 31%|███       | 308/1000 [04:44<10:33,  1.09it/s]"
     ]
    },
    {
     "name": "stdout",
     "output_type": "stream",
     "text": [
      "Epoch 00307 | Loss 29.2069 | train_RMSE 4.0017 | train_r2 0.9600 | test_RMSE 3.8769 | test_r2 0.9643 \n"
     ]
    },
    {
     "name": "stderr",
     "output_type": "stream",
     "text": [
      "\r",
      " 31%|███       | 309/1000 [04:45<10:29,  1.10it/s]"
     ]
    },
    {
     "name": "stdout",
     "output_type": "stream",
     "text": [
      "Epoch 00308 | Loss 29.2835 | train_RMSE 3.9014 | train_r2 0.9627 | test_RMSE 3.8805 | test_r2 0.9651 \n"
     ]
    },
    {
     "name": "stderr",
     "output_type": "stream",
     "text": [
      "\r",
      " 31%|███       | 310/1000 [04:46<10:34,  1.09it/s]"
     ]
    },
    {
     "name": "stdout",
     "output_type": "stream",
     "text": [
      "Epoch 00309 | Loss 29.7728 | train_RMSE 3.8276 | train_r2 0.9640 | test_RMSE 3.7561 | test_r2 0.9671 \n"
     ]
    },
    {
     "name": "stderr",
     "output_type": "stream",
     "text": [
      "\r",
      " 31%|███       | 311/1000 [04:47<10:48,  1.06it/s]"
     ]
    },
    {
     "name": "stdout",
     "output_type": "stream",
     "text": [
      "Epoch 00310 | Loss 27.0650 | train_RMSE 3.9428 | train_r2 0.9622 | test_RMSE 3.8345 | test_r2 0.9661 \n"
     ]
    },
    {
     "name": "stderr",
     "output_type": "stream",
     "text": [
      "\r",
      " 31%|███       | 312/1000 [04:48<10:53,  1.05it/s]"
     ]
    },
    {
     "name": "stdout",
     "output_type": "stream",
     "text": [
      "Epoch 00311 | Loss 28.5454 | train_RMSE 3.8647 | train_r2 0.9643 | test_RMSE 3.8641 | test_r2 0.9662 \n"
     ]
    },
    {
     "name": "stderr",
     "output_type": "stream",
     "text": [
      "\r",
      " 31%|███▏      | 313/1000 [04:48<10:51,  1.05it/s]"
     ]
    },
    {
     "name": "stdout",
     "output_type": "stream",
     "text": [
      "Epoch 00312 | Loss 27.9682 | train_RMSE 3.8077 | train_r2 0.9649 | test_RMSE 3.7806 | test_r2 0.9672 \n"
     ]
    },
    {
     "name": "stderr",
     "output_type": "stream",
     "text": [
      "\r",
      " 31%|███▏      | 314/1000 [04:49<10:44,  1.06it/s]"
     ]
    },
    {
     "name": "stdout",
     "output_type": "stream",
     "text": [
      "Epoch 00313 | Loss 27.8629 | train_RMSE 3.8942 | train_r2 0.9627 | test_RMSE 3.8054 | test_r2 0.9661 \n"
     ]
    },
    {
     "name": "stderr",
     "output_type": "stream",
     "text": [
      "\r",
      " 32%|███▏      | 315/1000 [04:50<10:39,  1.07it/s]"
     ]
    },
    {
     "name": "stdout",
     "output_type": "stream",
     "text": [
      "Epoch 00314 | Loss 29.8247 | train_RMSE 3.8557 | train_r2 0.9640 | test_RMSE 3.8646 | test_r2 0.9656 \n"
     ]
    },
    {
     "name": "stderr",
     "output_type": "stream",
     "text": [
      "\r",
      " 32%|███▏      | 316/1000 [04:51<10:36,  1.07it/s]"
     ]
    },
    {
     "name": "stdout",
     "output_type": "stream",
     "text": [
      "Epoch 00315 | Loss 28.2803 | train_RMSE 3.8289 | train_r2 0.9640 | test_RMSE 3.7583 | test_r2 0.9668 \n"
     ]
    },
    {
     "name": "stderr",
     "output_type": "stream",
     "text": [
      "\r",
      " 32%|███▏      | 317/1000 [04:52<10:30,  1.08it/s]"
     ]
    },
    {
     "name": "stdout",
     "output_type": "stream",
     "text": [
      "Epoch 00316 | Loss 28.5319 | train_RMSE 3.8011 | train_r2 0.9646 | test_RMSE 3.7381 | test_r2 0.9672 \n"
     ]
    },
    {
     "name": "stderr",
     "output_type": "stream",
     "text": [
      "\r",
      " 32%|███▏      | 318/1000 [04:53<10:28,  1.08it/s]"
     ]
    },
    {
     "name": "stdout",
     "output_type": "stream",
     "text": [
      "Epoch 00317 | Loss 27.3271 | train_RMSE 3.8109 | train_r2 0.9647 | test_RMSE 3.7958 | test_r2 0.9665 \n"
     ]
    },
    {
     "name": "stderr",
     "output_type": "stream",
     "text": [
      "\r",
      " 32%|███▏      | 319/1000 [04:54<10:38,  1.07it/s]"
     ]
    },
    {
     "name": "stdout",
     "output_type": "stream",
     "text": [
      "Epoch 00318 | Loss 29.3672 | train_RMSE 3.8369 | train_r2 0.9640 | test_RMSE 3.7438 | test_r2 0.9672 \n"
     ]
    },
    {
     "name": "stderr",
     "output_type": "stream",
     "text": [
      "\r",
      " 32%|███▏      | 320/1000 [04:55<10:38,  1.07it/s]"
     ]
    },
    {
     "name": "stdout",
     "output_type": "stream",
     "text": [
      "Epoch 00319 | Loss 28.5822 | train_RMSE 3.7682 | train_r2 0.9657 | test_RMSE 3.7252 | test_r2 0.9680 \n"
     ]
    },
    {
     "name": "stderr",
     "output_type": "stream",
     "text": [
      "\r",
      " 32%|███▏      | 321/1000 [04:56<10:37,  1.07it/s]"
     ]
    },
    {
     "name": "stdout",
     "output_type": "stream",
     "text": [
      "Epoch 00320 | Loss 27.9437 | train_RMSE 3.7981 | train_r2 0.9655 | test_RMSE 3.7739 | test_r2 0.9675 \n"
     ]
    },
    {
     "name": "stderr",
     "output_type": "stream",
     "text": [
      "\r",
      " 32%|███▏      | 322/1000 [04:57<10:37,  1.06it/s]"
     ]
    },
    {
     "name": "stdout",
     "output_type": "stream",
     "text": [
      "Epoch 00321 | Loss 28.4526 | train_RMSE 3.9483 | train_r2 0.9616 | test_RMSE 3.8078 | test_r2 0.9660 \n"
     ]
    },
    {
     "name": "stderr",
     "output_type": "stream",
     "text": [
      "\r",
      " 32%|███▏      | 323/1000 [04:58<10:32,  1.07it/s]"
     ]
    },
    {
     "name": "stdout",
     "output_type": "stream",
     "text": [
      "Epoch 00322 | Loss 28.1800 | train_RMSE 3.8136 | train_r2 0.9642 | test_RMSE 3.7677 | test_r2 0.9669 \n"
     ]
    },
    {
     "name": "stderr",
     "output_type": "stream",
     "text": [
      "\r",
      " 32%|███▏      | 324/1000 [04:59<10:34,  1.07it/s]"
     ]
    },
    {
     "name": "stdout",
     "output_type": "stream",
     "text": [
      "Epoch 00323 | Loss 28.4674 | train_RMSE 3.7647 | train_r2 0.9647 | test_RMSE 3.7032 | test_r2 0.9676 \n"
     ]
    },
    {
     "name": "stderr",
     "output_type": "stream",
     "text": [
      "\r",
      " 32%|███▎      | 325/1000 [05:00<10:39,  1.06it/s]"
     ]
    },
    {
     "name": "stdout",
     "output_type": "stream",
     "text": [
      "Epoch 00324 | Loss 27.9217 | train_RMSE 3.7892 | train_r2 0.9644 | test_RMSE 3.7435 | test_r2 0.9670 \n"
     ]
    },
    {
     "name": "stderr",
     "output_type": "stream",
     "text": [
      "\r",
      " 33%|███▎      | 326/1000 [05:01<10:52,  1.03it/s]"
     ]
    },
    {
     "name": "stdout",
     "output_type": "stream",
     "text": [
      "Epoch 00325 | Loss 28.4768 | train_RMSE 3.7396 | train_r2 0.9658 | test_RMSE 3.7136 | test_r2 0.9680 \n"
     ]
    },
    {
     "name": "stderr",
     "output_type": "stream",
     "text": [
      "\r",
      " 33%|███▎      | 327/1000 [05:02<10:51,  1.03it/s]"
     ]
    },
    {
     "name": "stdout",
     "output_type": "stream",
     "text": [
      "Epoch 00326 | Loss 26.7136 | train_RMSE 3.7293 | train_r2 0.9663 | test_RMSE 3.7007 | test_r2 0.9686 \n"
     ]
    },
    {
     "name": "stderr",
     "output_type": "stream",
     "text": [
      "\r",
      " 33%|███▎      | 328/1000 [05:03<10:46,  1.04it/s]"
     ]
    },
    {
     "name": "stdout",
     "output_type": "stream",
     "text": [
      "Epoch 00327 | Loss 27.4406 | train_RMSE 3.8115 | train_r2 0.9647 | test_RMSE 3.7126 | test_r2 0.9683 \n"
     ]
    },
    {
     "name": "stderr",
     "output_type": "stream",
     "text": [
      "\r",
      " 33%|███▎      | 329/1000 [05:04<10:36,  1.05it/s]"
     ]
    },
    {
     "name": "stdout",
     "output_type": "stream",
     "text": [
      "Epoch 00328 | Loss 28.2892 | train_RMSE 3.7390 | train_r2 0.9662 | test_RMSE 3.6994 | test_r2 0.9688 \n"
     ]
    },
    {
     "name": "stderr",
     "output_type": "stream",
     "text": [
      "\r",
      " 33%|███▎      | 330/1000 [05:04<10:30,  1.06it/s]"
     ]
    },
    {
     "name": "stdout",
     "output_type": "stream",
     "text": [
      "Epoch 00329 | Loss 27.6929 | train_RMSE 3.7410 | train_r2 0.9662 | test_RMSE 3.7230 | test_r2 0.9683 \n"
     ]
    },
    {
     "name": "stderr",
     "output_type": "stream",
     "text": [
      "\r",
      " 33%|███▎      | 331/1000 [05:05<10:26,  1.07it/s]"
     ]
    },
    {
     "name": "stdout",
     "output_type": "stream",
     "text": [
      "Epoch 00330 | Loss 28.1815 | train_RMSE 3.8955 | train_r2 0.9630 | test_RMSE 3.7932 | test_r2 0.9666 \n"
     ]
    },
    {
     "name": "stderr",
     "output_type": "stream",
     "text": [
      "\r",
      " 33%|███▎      | 332/1000 [05:06<10:24,  1.07it/s]"
     ]
    },
    {
     "name": "stdout",
     "output_type": "stream",
     "text": [
      "Epoch 00331 | Loss 29.0725 | train_RMSE 3.9504 | train_r2 0.9632 | test_RMSE 3.9914 | test_r2 0.9643 \n"
     ]
    },
    {
     "name": "stderr",
     "output_type": "stream",
     "text": [
      "\r",
      " 33%|███▎      | 333/1000 [05:07<10:20,  1.08it/s]"
     ]
    },
    {
     "name": "stdout",
     "output_type": "stream",
     "text": [
      "Epoch 00332 | Loss 29.4764 | train_RMSE 3.9428 | train_r2 0.9625 | test_RMSE 3.8373 | test_r2 0.9660 \n"
     ]
    },
    {
     "name": "stderr",
     "output_type": "stream",
     "text": [
      "\r",
      " 33%|███▎      | 334/1000 [05:08<10:18,  1.08it/s]"
     ]
    },
    {
     "name": "stdout",
     "output_type": "stream",
     "text": [
      "Epoch 00333 | Loss 30.1054 | train_RMSE 3.7208 | train_r2 0.9667 | test_RMSE 3.6958 | test_r2 0.9686 \n"
     ]
    },
    {
     "name": "stderr",
     "output_type": "stream",
     "text": [
      "\r",
      " 34%|███▎      | 335/1000 [05:09<10:16,  1.08it/s]"
     ]
    },
    {
     "name": "stdout",
     "output_type": "stream",
     "text": [
      "Epoch 00334 | Loss 28.3880 | train_RMSE 3.8198 | train_r2 0.9645 | test_RMSE 3.8239 | test_r2 0.9660 \n"
     ]
    },
    {
     "name": "stderr",
     "output_type": "stream",
     "text": [
      "\r",
      " 34%|███▎      | 336/1000 [05:10<10:10,  1.09it/s]"
     ]
    },
    {
     "name": "stdout",
     "output_type": "stream",
     "text": [
      "Epoch 00335 | Loss 28.1097 | train_RMSE 4.1439 | train_r2 0.9560 | test_RMSE 4.0622 | test_r2 0.9596 \n"
     ]
    },
    {
     "name": "stderr",
     "output_type": "stream",
     "text": [
      "\r",
      " 34%|███▎      | 337/1000 [05:11<10:12,  1.08it/s]"
     ]
    },
    {
     "name": "stdout",
     "output_type": "stream",
     "text": [
      "Epoch 00336 | Loss 30.3032 | train_RMSE 3.8712 | train_r2 0.9627 | test_RMSE 3.8610 | test_r2 0.9646 \n"
     ]
    },
    {
     "name": "stderr",
     "output_type": "stream",
     "text": [
      "\r",
      " 34%|███▍      | 338/1000 [05:12<10:16,  1.07it/s]"
     ]
    },
    {
     "name": "stdout",
     "output_type": "stream",
     "text": [
      "Epoch 00337 | Loss 29.4802 | train_RMSE 3.7346 | train_r2 0.9652 | test_RMSE 3.6745 | test_r2 0.9679 \n"
     ]
    },
    {
     "name": "stderr",
     "output_type": "stream",
     "text": [
      "\r",
      " 34%|███▍      | 339/1000 [05:13<10:18,  1.07it/s]"
     ]
    },
    {
     "name": "stdout",
     "output_type": "stream",
     "text": [
      "Epoch 00338 | Loss 27.6329 | train_RMSE 3.8204 | train_r2 0.9640 | test_RMSE 3.7287 | test_r2 0.9672 \n"
     ]
    },
    {
     "name": "stderr",
     "output_type": "stream",
     "text": [
      "\r",
      " 34%|███▍      | 340/1000 [05:14<10:26,  1.05it/s]"
     ]
    },
    {
     "name": "stdout",
     "output_type": "stream",
     "text": [
      "Epoch 00339 | Loss 28.2403 | train_RMSE 3.7822 | train_r2 0.9657 | test_RMSE 3.8135 | test_r2 0.9667 \n"
     ]
    },
    {
     "name": "stderr",
     "output_type": "stream",
     "text": [
      "\r",
      " 34%|███▍      | 341/1000 [05:15<10:21,  1.06it/s]"
     ]
    },
    {
     "name": "stdout",
     "output_type": "stream",
     "text": [
      "Epoch 00340 | Loss 28.5084 | train_RMSE 3.7039 | train_r2 0.9667 | test_RMSE 3.6656 | test_r2 0.9688 \n"
     ]
    },
    {
     "name": "stderr",
     "output_type": "stream",
     "text": [
      "\r",
      " 34%|███▍      | 342/1000 [05:16<10:20,  1.06it/s]"
     ]
    },
    {
     "name": "stdout",
     "output_type": "stream",
     "text": [
      "Epoch 00341 | Loss 28.0047 | train_RMSE 3.7073 | train_r2 0.9665 | test_RMSE 3.7101 | test_r2 0.9679 \n"
     ]
    },
    {
     "name": "stderr",
     "output_type": "stream",
     "text": [
      "\r",
      " 34%|███▍      | 343/1000 [05:17<10:17,  1.06it/s]"
     ]
    },
    {
     "name": "stdout",
     "output_type": "stream",
     "text": [
      "Epoch 00342 | Loss 27.2469 | train_RMSE 3.7165 | train_r2 0.9664 | test_RMSE 3.7626 | test_r2 0.9671 \n"
     ]
    },
    {
     "name": "stderr",
     "output_type": "stream",
     "text": [
      "\r",
      " 34%|███▍      | 344/1000 [05:18<10:22,  1.05it/s]"
     ]
    },
    {
     "name": "stdout",
     "output_type": "stream",
     "text": [
      "Epoch 00343 | Loss 28.3290 | train_RMSE 3.8297 | train_r2 0.9638 | test_RMSE 3.7845 | test_r2 0.9662 \n"
     ]
    },
    {
     "name": "stderr",
     "output_type": "stream",
     "text": [
      "\r",
      " 34%|███▍      | 345/1000 [05:19<10:25,  1.05it/s]"
     ]
    },
    {
     "name": "stdout",
     "output_type": "stream",
     "text": [
      "Epoch 00344 | Loss 27.4484 | train_RMSE 3.7175 | train_r2 0.9667 | test_RMSE 3.7334 | test_r2 0.9680 \n"
     ]
    },
    {
     "name": "stderr",
     "output_type": "stream",
     "text": [
      "\r",
      " 35%|███▍      | 346/1000 [05:20<10:24,  1.05it/s]"
     ]
    },
    {
     "name": "stdout",
     "output_type": "stream",
     "text": [
      "Epoch 00345 | Loss 27.3956 | train_RMSE 3.6837 | train_r2 0.9671 | test_RMSE 3.6474 | test_r2 0.9693 \n"
     ]
    },
    {
     "name": "stderr",
     "output_type": "stream",
     "text": [
      "\r",
      " 35%|███▍      | 347/1000 [05:20<10:15,  1.06it/s]"
     ]
    },
    {
     "name": "stdout",
     "output_type": "stream",
     "text": [
      "Epoch 00346 | Loss 27.8384 | train_RMSE 3.6615 | train_r2 0.9675 | test_RMSE 3.6514 | test_r2 0.9691 \n"
     ]
    },
    {
     "name": "stderr",
     "output_type": "stream",
     "text": [
      "\r",
      " 35%|███▍      | 348/1000 [05:21<10:12,  1.07it/s]"
     ]
    },
    {
     "name": "stdout",
     "output_type": "stream",
     "text": [
      "Epoch 00347 | Loss 26.5920 | train_RMSE 3.6519 | train_r2 0.9678 | test_RMSE 3.6748 | test_r2 0.9688 \n"
     ]
    },
    {
     "name": "stderr",
     "output_type": "stream",
     "text": [
      "\r",
      " 35%|███▍      | 349/1000 [05:22<10:08,  1.07it/s]"
     ]
    },
    {
     "name": "stdout",
     "output_type": "stream",
     "text": [
      "Epoch 00348 | Loss 26.9042 | train_RMSE 3.6521 | train_r2 0.9675 | test_RMSE 3.6309 | test_r2 0.9693 \n"
     ]
    },
    {
     "name": "stderr",
     "output_type": "stream",
     "text": [
      "\r",
      " 35%|███▌      | 350/1000 [05:23<10:04,  1.08it/s]"
     ]
    },
    {
     "name": "stdout",
     "output_type": "stream",
     "text": [
      "Epoch 00349 | Loss 27.2254 | train_RMSE 3.6335 | train_r2 0.9681 | test_RMSE 3.6098 | test_r2 0.9699 \n"
     ]
    },
    {
     "name": "stderr",
     "output_type": "stream",
     "text": [
      "\r",
      " 35%|███▌      | 351/1000 [05:24<10:04,  1.07it/s]"
     ]
    },
    {
     "name": "stdout",
     "output_type": "stream",
     "text": [
      "Epoch 00350 | Loss 25.4395 | train_RMSE 3.6376 | train_r2 0.9676 | test_RMSE 3.5970 | test_r2 0.9697 \n"
     ]
    },
    {
     "name": "stderr",
     "output_type": "stream",
     "text": [
      "\r",
      " 35%|███▌      | 352/1000 [05:25<10:13,  1.06it/s]"
     ]
    },
    {
     "name": "stdout",
     "output_type": "stream",
     "text": [
      "Epoch 00351 | Loss 26.1797 | train_RMSE 3.6319 | train_r2 0.9680 | test_RMSE 3.6311 | test_r2 0.9693 \n"
     ]
    },
    {
     "name": "stderr",
     "output_type": "stream",
     "text": [
      "\r",
      " 35%|███▌      | 353/1000 [05:26<10:15,  1.05it/s]"
     ]
    },
    {
     "name": "stdout",
     "output_type": "stream",
     "text": [
      "Epoch 00352 | Loss 27.0670 | train_RMSE 3.6498 | train_r2 0.9681 | test_RMSE 3.6825 | test_r2 0.9687 \n"
     ]
    },
    {
     "name": "stderr",
     "output_type": "stream",
     "text": [
      "\r",
      " 35%|███▌      | 354/1000 [05:27<10:07,  1.06it/s]"
     ]
    },
    {
     "name": "stdout",
     "output_type": "stream",
     "text": [
      "Epoch 00353 | Loss 27.4969 | train_RMSE 3.7232 | train_r2 0.9667 | test_RMSE 3.6984 | test_r2 0.9684 \n"
     ]
    },
    {
     "name": "stderr",
     "output_type": "stream",
     "text": [
      "\r",
      " 36%|███▌      | 355/1000 [05:28<10:09,  1.06it/s]"
     ]
    },
    {
     "name": "stdout",
     "output_type": "stream",
     "text": [
      "Epoch 00354 | Loss 27.1582 | train_RMSE 3.6474 | train_r2 0.9682 | test_RMSE 3.6744 | test_r2 0.9692 \n"
     ]
    },
    {
     "name": "stderr",
     "output_type": "stream",
     "text": [
      "\r",
      " 36%|███▌      | 356/1000 [05:29<10:03,  1.07it/s]"
     ]
    },
    {
     "name": "stdout",
     "output_type": "stream",
     "text": [
      "Epoch 00355 | Loss 28.1198 | train_RMSE 3.6257 | train_r2 0.9679 | test_RMSE 3.5883 | test_r2 0.9700 \n"
     ]
    },
    {
     "name": "stderr",
     "output_type": "stream",
     "text": [
      "\r",
      " 36%|███▌      | 357/1000 [05:30<09:56,  1.08it/s]"
     ]
    },
    {
     "name": "stdout",
     "output_type": "stream",
     "text": [
      "Epoch 00356 | Loss 26.7692 | train_RMSE 3.6282 | train_r2 0.9677 | test_RMSE 3.5890 | test_r2 0.9700 \n"
     ]
    },
    {
     "name": "stderr",
     "output_type": "stream",
     "text": [
      "\r",
      " 36%|███▌      | 358/1000 [05:31<09:53,  1.08it/s]"
     ]
    },
    {
     "name": "stdout",
     "output_type": "stream",
     "text": [
      "Epoch 00357 | Loss 26.0269 | train_RMSE 3.6283 | train_r2 0.9679 | test_RMSE 3.6142 | test_r2 0.9698 \n"
     ]
    },
    {
     "name": "stderr",
     "output_type": "stream",
     "text": [
      "\r",
      " 36%|███▌      | 359/1000 [05:32<09:51,  1.08it/s]"
     ]
    },
    {
     "name": "stdout",
     "output_type": "stream",
     "text": [
      "Epoch 00358 | Loss 26.4235 | train_RMSE 3.6575 | train_r2 0.9673 | test_RMSE 3.6214 | test_r2 0.9694 \n"
     ]
    },
    {
     "name": "stderr",
     "output_type": "stream",
     "text": [
      "\r",
      " 36%|███▌      | 360/1000 [05:33<09:52,  1.08it/s]"
     ]
    },
    {
     "name": "stdout",
     "output_type": "stream",
     "text": [
      "Epoch 00359 | Loss 26.9967 | train_RMSE 3.6281 | train_r2 0.9684 | test_RMSE 3.6332 | test_r2 0.9697 \n"
     ]
    },
    {
     "name": "stderr",
     "output_type": "stream",
     "text": [
      "\r",
      " 36%|███▌      | 361/1000 [05:33<09:48,  1.09it/s]"
     ]
    },
    {
     "name": "stdout",
     "output_type": "stream",
     "text": [
      "Epoch 00360 | Loss 27.5764 | train_RMSE 3.6378 | train_r2 0.9688 | test_RMSE 3.6735 | test_r2 0.9695 \n"
     ]
    },
    {
     "name": "stderr",
     "output_type": "stream",
     "text": [
      "\r",
      " 36%|███▌      | 362/1000 [05:34<09:52,  1.08it/s]"
     ]
    },
    {
     "name": "stdout",
     "output_type": "stream",
     "text": [
      "Epoch 00361 | Loss 27.2204 | train_RMSE 3.7164 | train_r2 0.9671 | test_RMSE 3.6480 | test_r2 0.9696 \n"
     ]
    },
    {
     "name": "stderr",
     "output_type": "stream",
     "text": [
      "\r",
      " 36%|███▋      | 363/1000 [05:35<09:50,  1.08it/s]"
     ]
    },
    {
     "name": "stdout",
     "output_type": "stream",
     "text": [
      "Epoch 00362 | Loss 26.3965 | train_RMSE 3.6125 | train_r2 0.9687 | test_RMSE 3.6322 | test_r2 0.9698 \n"
     ]
    },
    {
     "name": "stderr",
     "output_type": "stream",
     "text": [
      "\r",
      " 36%|███▋      | 364/1000 [05:36<09:48,  1.08it/s]"
     ]
    },
    {
     "name": "stdout",
     "output_type": "stream",
     "text": [
      "Epoch 00363 | Loss 26.9040 | train_RMSE 3.6090 | train_r2 0.9677 | test_RMSE 3.5808 | test_r2 0.9698 \n"
     ]
    },
    {
     "name": "stderr",
     "output_type": "stream",
     "text": [
      "\r",
      " 36%|███▋      | 365/1000 [05:37<09:48,  1.08it/s]"
     ]
    },
    {
     "name": "stdout",
     "output_type": "stream",
     "text": [
      "Epoch 00364 | Loss 26.9941 | train_RMSE 3.6615 | train_r2 0.9664 | test_RMSE 3.6518 | test_r2 0.9681 \n"
     ]
    },
    {
     "name": "stderr",
     "output_type": "stream",
     "text": [
      "\r",
      " 37%|███▋      | 366/1000 [05:38<09:52,  1.07it/s]"
     ]
    },
    {
     "name": "stdout",
     "output_type": "stream",
     "text": [
      "Epoch 00365 | Loss 26.5506 | train_RMSE 3.6156 | train_r2 0.9680 | test_RMSE 3.6344 | test_r2 0.9691 \n"
     ]
    },
    {
     "name": "stderr",
     "output_type": "stream",
     "text": [
      "\r",
      " 37%|███▋      | 367/1000 [05:39<09:48,  1.07it/s]"
     ]
    },
    {
     "name": "stdout",
     "output_type": "stream",
     "text": [
      "Epoch 00366 | Loss 27.4881 | train_RMSE 3.6421 | train_r2 0.9679 | test_RMSE 3.6025 | test_r2 0.9699 \n"
     ]
    },
    {
     "name": "stderr",
     "output_type": "stream",
     "text": [
      "\r",
      " 37%|███▋      | 368/1000 [05:40<09:45,  1.08it/s]"
     ]
    },
    {
     "name": "stdout",
     "output_type": "stream",
     "text": [
      "Epoch 00367 | Loss 26.8438 | train_RMSE 3.7422 | train_r2 0.9672 | test_RMSE 3.7722 | test_r2 0.9681 \n"
     ]
    },
    {
     "name": "stderr",
     "output_type": "stream",
     "text": [
      "\r",
      " 37%|███▋      | 369/1000 [05:41<09:46,  1.08it/s]"
     ]
    },
    {
     "name": "stdout",
     "output_type": "stream",
     "text": [
      "Epoch 00368 | Loss 27.8429 | train_RMSE 3.8362 | train_r2 0.9646 | test_RMSE 3.7091 | test_r2 0.9682 \n"
     ]
    },
    {
     "name": "stderr",
     "output_type": "stream",
     "text": [
      "\r",
      " 37%|███▋      | 370/1000 [05:42<09:42,  1.08it/s]"
     ]
    },
    {
     "name": "stdout",
     "output_type": "stream",
     "text": [
      "Epoch 00369 | Loss 28.7882 | train_RMSE 3.6617 | train_r2 0.9679 | test_RMSE 3.7036 | test_r2 0.9686 \n"
     ]
    },
    {
     "name": "stderr",
     "output_type": "stream",
     "text": [
      "\r",
      " 37%|███▋      | 371/1000 [05:43<09:44,  1.08it/s]"
     ]
    },
    {
     "name": "stdout",
     "output_type": "stream",
     "text": [
      "Epoch 00370 | Loss 27.5106 | train_RMSE 3.6811 | train_r2 0.9666 | test_RMSE 3.7473 | test_r2 0.9669 \n"
     ]
    },
    {
     "name": "stderr",
     "output_type": "stream",
     "text": [
      "\r",
      " 37%|███▋      | 372/1000 [05:44<09:45,  1.07it/s]"
     ]
    },
    {
     "name": "stdout",
     "output_type": "stream",
     "text": [
      "Epoch 00371 | Loss 26.5495 | train_RMSE 3.8877 | train_r2 0.9622 | test_RMSE 3.8627 | test_r2 0.9643 \n"
     ]
    },
    {
     "name": "stderr",
     "output_type": "stream",
     "text": [
      "\r",
      " 37%|███▋      | 373/1000 [05:45<09:39,  1.08it/s]"
     ]
    },
    {
     "name": "stdout",
     "output_type": "stream",
     "text": [
      "Epoch 00372 | Loss 27.8253 | train_RMSE 3.8450 | train_r2 0.9646 | test_RMSE 3.9100 | test_r2 0.9653 \n"
     ]
    },
    {
     "name": "stderr",
     "output_type": "stream",
     "text": [
      "\r",
      " 37%|███▋      | 374/1000 [05:46<09:34,  1.09it/s]"
     ]
    },
    {
     "name": "stdout",
     "output_type": "stream",
     "text": [
      "Epoch 00373 | Loss 29.6473 | train_RMSE 3.8852 | train_r2 0.9628 | test_RMSE 3.7509 | test_r2 0.9671 \n"
     ]
    },
    {
     "name": "stderr",
     "output_type": "stream",
     "text": [
      "\r",
      " 38%|███▊      | 375/1000 [05:46<09:39,  1.08it/s]"
     ]
    },
    {
     "name": "stdout",
     "output_type": "stream",
     "text": [
      "Epoch 00374 | Loss 28.4837 | train_RMSE 3.6962 | train_r2 0.9675 | test_RMSE 3.7241 | test_r2 0.9686 \n"
     ]
    },
    {
     "name": "stderr",
     "output_type": "stream",
     "text": [
      "\r",
      " 38%|███▊      | 376/1000 [05:47<09:36,  1.08it/s]"
     ]
    },
    {
     "name": "stdout",
     "output_type": "stream",
     "text": [
      "Epoch 00375 | Loss 27.2810 | train_RMSE 3.5722 | train_r2 0.9694 | test_RMSE 3.5804 | test_r2 0.9706 \n"
     ]
    },
    {
     "name": "stderr",
     "output_type": "stream",
     "text": [
      "\r",
      " 38%|███▊      | 377/1000 [05:48<09:47,  1.06it/s]"
     ]
    },
    {
     "name": "stdout",
     "output_type": "stream",
     "text": [
      "Epoch 00376 | Loss 26.2372 | train_RMSE 3.7569 | train_r2 0.9658 | test_RMSE 3.8078 | test_r2 0.9662 \n"
     ]
    },
    {
     "name": "stderr",
     "output_type": "stream",
     "text": [
      "\r",
      " 38%|███▊      | 378/1000 [05:49<09:45,  1.06it/s]"
     ]
    },
    {
     "name": "stdout",
     "output_type": "stream",
     "text": [
      "Epoch 00377 | Loss 27.9439 | train_RMSE 3.7253 | train_r2 0.9670 | test_RMSE 3.7996 | test_r2 0.9672 \n"
     ]
    },
    {
     "name": "stderr",
     "output_type": "stream",
     "text": [
      "\r",
      " 38%|███▊      | 379/1000 [05:50<09:46,  1.06it/s]"
     ]
    },
    {
     "name": "stdout",
     "output_type": "stream",
     "text": [
      "Epoch 00378 | Loss 27.8899 | train_RMSE 3.6102 | train_r2 0.9686 | test_RMSE 3.5724 | test_r2 0.9707 \n"
     ]
    },
    {
     "name": "stderr",
     "output_type": "stream",
     "text": [
      "\r",
      " 38%|███▊      | 380/1000 [05:51<09:37,  1.07it/s]"
     ]
    },
    {
     "name": "stdout",
     "output_type": "stream",
     "text": [
      "Epoch 00379 | Loss 25.5601 | train_RMSE 3.5991 | train_r2 0.9689 | test_RMSE 3.5672 | test_r2 0.9710 \n"
     ]
    },
    {
     "name": "stderr",
     "output_type": "stream",
     "text": [
      "\r",
      " 38%|███▊      | 381/1000 [05:52<09:37,  1.07it/s]"
     ]
    },
    {
     "name": "stdout",
     "output_type": "stream",
     "text": [
      "Epoch 00380 | Loss 27.4393 | train_RMSE 3.5840 | train_r2 0.9691 | test_RMSE 3.5791 | test_r2 0.9706 \n"
     ]
    },
    {
     "name": "stderr",
     "output_type": "stream",
     "text": [
      "\r",
      " 38%|███▊      | 382/1000 [05:53<09:29,  1.09it/s]"
     ]
    },
    {
     "name": "stdout",
     "output_type": "stream",
     "text": [
      "Epoch 00381 | Loss 26.9644 | train_RMSE 3.6763 | train_r2 0.9666 | test_RMSE 3.6066 | test_r2 0.9693 \n"
     ]
    },
    {
     "name": "stderr",
     "output_type": "stream",
     "text": [
      "\r",
      " 38%|███▊      | 383/1000 [05:54<09:37,  1.07it/s]"
     ]
    },
    {
     "name": "stdout",
     "output_type": "stream",
     "text": [
      "Epoch 00382 | Loss 26.7264 | train_RMSE 3.5859 | train_r2 0.9687 | test_RMSE 3.6253 | test_r2 0.9693 \n"
     ]
    },
    {
     "name": "stderr",
     "output_type": "stream",
     "text": [
      "\r",
      " 38%|███▊      | 384/1000 [05:55<09:35,  1.07it/s]"
     ]
    },
    {
     "name": "stdout",
     "output_type": "stream",
     "text": [
      "Epoch 00383 | Loss 26.7364 | train_RMSE 3.5642 | train_r2 0.9691 | test_RMSE 3.5813 | test_r2 0.9700 \n"
     ]
    },
    {
     "name": "stderr",
     "output_type": "stream",
     "text": [
      "\r",
      " 38%|███▊      | 385/1000 [05:56<09:34,  1.07it/s]"
     ]
    },
    {
     "name": "stdout",
     "output_type": "stream",
     "text": [
      "Epoch 00384 | Loss 26.8734 | train_RMSE 3.5802 | train_r2 0.9686 | test_RMSE 3.5472 | test_r2 0.9704 \n"
     ]
    },
    {
     "name": "stderr",
     "output_type": "stream",
     "text": [
      "\r",
      " 39%|███▊      | 386/1000 [05:57<09:26,  1.08it/s]"
     ]
    },
    {
     "name": "stdout",
     "output_type": "stream",
     "text": [
      "Epoch 00385 | Loss 26.2649 | train_RMSE 3.5821 | train_r2 0.9692 | test_RMSE 3.6066 | test_r2 0.9699 \n"
     ]
    },
    {
     "name": "stderr",
     "output_type": "stream",
     "text": [
      "\r",
      " 39%|███▊      | 387/1000 [05:58<09:25,  1.08it/s]"
     ]
    },
    {
     "name": "stdout",
     "output_type": "stream",
     "text": [
      "Epoch 00386 | Loss 26.0143 | train_RMSE 3.5558 | train_r2 0.9694 | test_RMSE 3.5292 | test_r2 0.9710 \n"
     ]
    },
    {
     "name": "stderr",
     "output_type": "stream",
     "text": [
      "\r",
      " 39%|███▉      | 388/1000 [05:59<09:26,  1.08it/s]"
     ]
    },
    {
     "name": "stdout",
     "output_type": "stream",
     "text": [
      "Epoch 00387 | Loss 26.2104 | train_RMSE 3.5180 | train_r2 0.9701 | test_RMSE 3.5338 | test_r2 0.9710 \n"
     ]
    },
    {
     "name": "stderr",
     "output_type": "stream",
     "text": [
      "\r",
      " 39%|███▉      | 389/1000 [05:59<09:20,  1.09it/s]"
     ]
    },
    {
     "name": "stdout",
     "output_type": "stream",
     "text": [
      "Epoch 00388 | Loss 26.4292 | train_RMSE 3.5225 | train_r2 0.9700 | test_RMSE 3.5699 | test_r2 0.9705 \n"
     ]
    },
    {
     "name": "stderr",
     "output_type": "stream",
     "text": [
      "\r",
      " 39%|███▉      | 390/1000 [06:00<09:21,  1.09it/s]"
     ]
    },
    {
     "name": "stdout",
     "output_type": "stream",
     "text": [
      "Epoch 00389 | Loss 25.7337 | train_RMSE 3.5299 | train_r2 0.9697 | test_RMSE 3.5542 | test_r2 0.9708 \n"
     ]
    },
    {
     "name": "stderr",
     "output_type": "stream",
     "text": [
      "\r",
      " 39%|███▉      | 391/1000 [06:01<09:18,  1.09it/s]"
     ]
    },
    {
     "name": "stdout",
     "output_type": "stream",
     "text": [
      "Epoch 00390 | Loss 26.3865 | train_RMSE 3.5274 | train_r2 0.9698 | test_RMSE 3.5559 | test_r2 0.9709 \n"
     ]
    },
    {
     "name": "stderr",
     "output_type": "stream",
     "text": [
      "\r",
      " 39%|███▉      | 392/1000 [06:02<09:23,  1.08it/s]"
     ]
    },
    {
     "name": "stdout",
     "output_type": "stream",
     "text": [
      "Epoch 00391 | Loss 26.0082 | train_RMSE 3.5201 | train_r2 0.9702 | test_RMSE 3.5459 | test_r2 0.9712 \n"
     ]
    },
    {
     "name": "stderr",
     "output_type": "stream",
     "text": [
      "\r",
      " 39%|███▉      | 393/1000 [06:03<09:25,  1.07it/s]"
     ]
    },
    {
     "name": "stdout",
     "output_type": "stream",
     "text": [
      "Epoch 00392 | Loss 25.4768 | train_RMSE 3.5389 | train_r2 0.9698 | test_RMSE 3.5496 | test_r2 0.9709 \n"
     ]
    },
    {
     "name": "stderr",
     "output_type": "stream",
     "text": [
      "\r",
      " 39%|███▉      | 394/1000 [06:04<09:26,  1.07it/s]"
     ]
    },
    {
     "name": "stdout",
     "output_type": "stream",
     "text": [
      "Epoch 00393 | Loss 25.3592 | train_RMSE 3.5218 | train_r2 0.9706 | test_RMSE 3.5814 | test_r2 0.9708 \n"
     ]
    },
    {
     "name": "stderr",
     "output_type": "stream",
     "text": [
      "\r",
      " 40%|███▉      | 395/1000 [06:05<09:23,  1.07it/s]"
     ]
    },
    {
     "name": "stdout",
     "output_type": "stream",
     "text": [
      "Epoch 00394 | Loss 26.2382 | train_RMSE 3.4956 | train_r2 0.9712 | test_RMSE 3.5388 | test_r2 0.9716 \n"
     ]
    },
    {
     "name": "stderr",
     "output_type": "stream",
     "text": [
      "\r",
      " 40%|███▉      | 396/1000 [06:06<09:28,  1.06it/s]"
     ]
    },
    {
     "name": "stdout",
     "output_type": "stream",
     "text": [
      "Epoch 00395 | Loss 25.7538 | train_RMSE 3.5808 | train_r2 0.9692 | test_RMSE 3.6039 | test_r2 0.9699 \n"
     ]
    },
    {
     "name": "stderr",
     "output_type": "stream",
     "text": [
      "\r",
      " 40%|███▉      | 397/1000 [06:07<09:30,  1.06it/s]"
     ]
    },
    {
     "name": "stdout",
     "output_type": "stream",
     "text": [
      "Epoch 00396 | Loss 25.9679 | train_RMSE 3.5736 | train_r2 0.9690 | test_RMSE 3.6303 | test_r2 0.9693 \n"
     ]
    },
    {
     "name": "stderr",
     "output_type": "stream",
     "text": [
      "\r",
      " 40%|███▉      | 398/1000 [06:08<09:20,  1.07it/s]"
     ]
    },
    {
     "name": "stdout",
     "output_type": "stream",
     "text": [
      "Epoch 00397 | Loss 26.1738 | train_RMSE 3.6888 | train_r2 0.9659 | test_RMSE 3.6328 | test_r2 0.9683 \n"
     ]
    },
    {
     "name": "stderr",
     "output_type": "stream",
     "text": [
      "\r",
      " 40%|███▉      | 399/1000 [06:09<09:17,  1.08it/s]"
     ]
    },
    {
     "name": "stdout",
     "output_type": "stream",
     "text": [
      "Epoch 00398 | Loss 27.3320 | train_RMSE 3.7629 | train_r2 0.9658 | test_RMSE 3.8136 | test_r2 0.9664 \n"
     ]
    },
    {
     "name": "stderr",
     "output_type": "stream",
     "text": [
      "\r",
      " 40%|████      | 400/1000 [06:10<09:15,  1.08it/s]"
     ]
    },
    {
     "name": "stdout",
     "output_type": "stream",
     "text": [
      "Epoch 00399 | Loss 27.7132 | train_RMSE 3.7970 | train_r2 0.9643 | test_RMSE 3.7374 | test_r2 0.9668 \n"
     ]
    },
    {
     "name": "stderr",
     "output_type": "stream",
     "text": [
      "\r",
      " 40%|████      | 401/1000 [06:11<09:16,  1.08it/s]"
     ]
    },
    {
     "name": "stdout",
     "output_type": "stream",
     "text": [
      "Epoch 00400 | Loss 27.8664 | train_RMSE 3.6276 | train_r2 0.9686 | test_RMSE 3.6867 | test_r2 0.9689 \n"
     ]
    },
    {
     "name": "stderr",
     "output_type": "stream",
     "text": [
      "\r",
      " 40%|████      | 402/1000 [06:12<09:21,  1.06it/s]"
     ]
    },
    {
     "name": "stdout",
     "output_type": "stream",
     "text": [
      "Epoch 00401 | Loss 26.2463 | train_RMSE 3.5458 | train_r2 0.9698 | test_RMSE 3.6151 | test_r2 0.9698 \n"
     ]
    },
    {
     "name": "stderr",
     "output_type": "stream",
     "text": [
      "\r",
      " 40%|████      | 403/1000 [06:13<09:20,  1.07it/s]"
     ]
    },
    {
     "name": "stdout",
     "output_type": "stream",
     "text": [
      "Epoch 00402 | Loss 26.0531 | train_RMSE 3.5552 | train_r2 0.9697 | test_RMSE 3.6094 | test_r2 0.9700 \n"
     ]
    },
    {
     "name": "stderr",
     "output_type": "stream",
     "text": [
      "\r",
      " 40%|████      | 404/1000 [06:14<09:28,  1.05it/s]"
     ]
    },
    {
     "name": "stdout",
     "output_type": "stream",
     "text": [
      "Epoch 00403 | Loss 25.6190 | train_RMSE 3.6494 | train_r2 0.9686 | test_RMSE 3.7106 | test_r2 0.9690 \n"
     ]
    },
    {
     "name": "stderr",
     "output_type": "stream",
     "text": [
      "\r",
      " 40%|████      | 405/1000 [06:15<10:16,  1.04s/it]"
     ]
    },
    {
     "name": "stdout",
     "output_type": "stream",
     "text": [
      "Epoch 00404 | Loss 26.9465 | train_RMSE 3.8544 | train_r2 0.9637 | test_RMSE 3.7798 | test_r2 0.9666 \n"
     ]
    },
    {
     "name": "stderr",
     "output_type": "stream",
     "text": [
      "\r",
      " 41%|████      | 406/1000 [06:16<10:05,  1.02s/it]"
     ]
    },
    {
     "name": "stdout",
     "output_type": "stream",
     "text": [
      "Epoch 00405 | Loss 29.0331 | train_RMSE 3.9517 | train_r2 0.9629 | test_RMSE 4.0241 | test_r2 0.9634 \n"
     ]
    },
    {
     "name": "stderr",
     "output_type": "stream",
     "text": [
      "\r",
      " 41%|████      | 407/1000 [06:17<09:50,  1.00it/s]"
     ]
    },
    {
     "name": "stdout",
     "output_type": "stream",
     "text": [
      "Epoch 00406 | Loss 29.0307 | train_RMSE 3.8525 | train_r2 0.9628 | test_RMSE 3.8893 | test_r2 0.9638 \n"
     ]
    },
    {
     "name": "stderr",
     "output_type": "stream",
     "text": [
      "\r",
      " 41%|████      | 408/1000 [06:18<09:37,  1.03it/s]"
     ]
    },
    {
     "name": "stdout",
     "output_type": "stream",
     "text": [
      "Epoch 00407 | Loss 28.2720 | train_RMSE 3.5387 | train_r2 0.9698 | test_RMSE 3.6705 | test_r2 0.9690 \n"
     ]
    },
    {
     "name": "stderr",
     "output_type": "stream",
     "text": [
      "\r",
      " 41%|████      | 409/1000 [06:19<09:30,  1.04it/s]"
     ]
    },
    {
     "name": "stdout",
     "output_type": "stream",
     "text": [
      "Epoch 00408 | Loss 25.0702 | train_RMSE 3.4997 | train_r2 0.9709 | test_RMSE 3.6213 | test_r2 0.9702 \n"
     ]
    },
    {
     "name": "stderr",
     "output_type": "stream",
     "text": [
      "\r",
      " 41%|████      | 410/1000 [06:20<09:27,  1.04it/s]"
     ]
    },
    {
     "name": "stdout",
     "output_type": "stream",
     "text": [
      "Epoch 00409 | Loss 26.2602 | train_RMSE 3.6948 | train_r2 0.9669 | test_RMSE 3.6692 | test_r2 0.9686 \n"
     ]
    },
    {
     "name": "stderr",
     "output_type": "stream",
     "text": [
      "\r",
      " 41%|████      | 411/1000 [06:20<09:18,  1.05it/s]"
     ]
    },
    {
     "name": "stdout",
     "output_type": "stream",
     "text": [
      "Epoch 00410 | Loss 26.7111 | train_RMSE 3.7523 | train_r2 0.9669 | test_RMSE 3.8131 | test_r2 0.9672 \n"
     ]
    },
    {
     "name": "stderr",
     "output_type": "stream",
     "text": [
      "\r",
      " 41%|████      | 412/1000 [06:21<09:23,  1.04it/s]"
     ]
    },
    {
     "name": "stdout",
     "output_type": "stream",
     "text": [
      "Epoch 00411 | Loss 27.8921 | train_RMSE 3.8877 | train_r2 0.9629 | test_RMSE 3.8255 | test_r2 0.9653 \n"
     ]
    },
    {
     "name": "stderr",
     "output_type": "stream",
     "text": [
      "\r",
      " 41%|████▏     | 413/1000 [06:22<09:26,  1.04it/s]"
     ]
    },
    {
     "name": "stdout",
     "output_type": "stream",
     "text": [
      "Epoch 00412 | Loss 28.8068 | train_RMSE 3.7157 | train_r2 0.9675 | test_RMSE 3.7982 | test_r2 0.9673 \n"
     ]
    },
    {
     "name": "stderr",
     "output_type": "stream",
     "text": [
      "\r",
      " 41%|████▏     | 414/1000 [06:23<09:16,  1.05it/s]"
     ]
    },
    {
     "name": "stdout",
     "output_type": "stream",
     "text": [
      "Epoch 00413 | Loss 26.5693 | train_RMSE 3.5532 | train_r2 0.9693 | test_RMSE 3.5629 | test_r2 0.9702 \n"
     ]
    },
    {
     "name": "stderr",
     "output_type": "stream",
     "text": [
      "\r",
      " 42%|████▏     | 415/1000 [06:24<09:11,  1.06it/s]"
     ]
    },
    {
     "name": "stdout",
     "output_type": "stream",
     "text": [
      "Epoch 00414 | Loss 26.0833 | train_RMSE 3.5365 | train_r2 0.9695 | test_RMSE 3.5246 | test_r2 0.9708 \n"
     ]
    },
    {
     "name": "stderr",
     "output_type": "stream",
     "text": [
      "\r",
      " 42%|████▏     | 416/1000 [06:25<09:06,  1.07it/s]"
     ]
    },
    {
     "name": "stdout",
     "output_type": "stream",
     "text": [
      "Epoch 00415 | Loss 25.0120 | train_RMSE 3.6470 | train_r2 0.9683 | test_RMSE 3.6912 | test_r2 0.9687 \n"
     ]
    },
    {
     "name": "stderr",
     "output_type": "stream",
     "text": [
      "\r",
      " 42%|████▏     | 417/1000 [06:26<08:58,  1.08it/s]"
     ]
    },
    {
     "name": "stdout",
     "output_type": "stream",
     "text": [
      "Epoch 00416 | Loss 26.9763 | train_RMSE 3.8264 | train_r2 0.9636 | test_RMSE 3.7377 | test_r2 0.9666 \n"
     ]
    },
    {
     "name": "stderr",
     "output_type": "stream",
     "text": [
      "\r",
      " 42%|████▏     | 418/1000 [06:27<08:56,  1.09it/s]"
     ]
    },
    {
     "name": "stdout",
     "output_type": "stream",
     "text": [
      "Epoch 00417 | Loss 28.2741 | train_RMSE 3.5349 | train_r2 0.9698 | test_RMSE 3.5615 | test_r2 0.9705 \n"
     ]
    },
    {
     "name": "stderr",
     "output_type": "stream",
     "text": [
      "\r",
      " 42%|████▏     | 419/1000 [06:28<08:52,  1.09it/s]"
     ]
    },
    {
     "name": "stdout",
     "output_type": "stream",
     "text": [
      "Epoch 00418 | Loss 25.0442 | train_RMSE 3.4658 | train_r2 0.9707 | test_RMSE 3.4814 | test_r2 0.9716 \n"
     ]
    },
    {
     "name": "stderr",
     "output_type": "stream",
     "text": [
      "\r",
      " 42%|████▏     | 420/1000 [06:29<08:53,  1.09it/s]"
     ]
    },
    {
     "name": "stdout",
     "output_type": "stream",
     "text": [
      "Epoch 00419 | Loss 24.6104 | train_RMSE 3.5303 | train_r2 0.9695 | test_RMSE 3.5541 | test_r2 0.9703 \n"
     ]
    },
    {
     "name": "stderr",
     "output_type": "stream",
     "text": [
      "\r",
      " 42%|████▏     | 421/1000 [06:30<08:48,  1.10it/s]"
     ]
    },
    {
     "name": "stdout",
     "output_type": "stream",
     "text": [
      "Epoch 00420 | Loss 26.4280 | train_RMSE 3.5414 | train_r2 0.9700 | test_RMSE 3.5945 | test_r2 0.9703 \n"
     ]
    },
    {
     "name": "stderr",
     "output_type": "stream",
     "text": [
      "\r",
      " 42%|████▏     | 422/1000 [06:31<08:48,  1.09it/s]"
     ]
    },
    {
     "name": "stdout",
     "output_type": "stream",
     "text": [
      "Epoch 00421 | Loss 25.9239 | train_RMSE 3.5804 | train_r2 0.9687 | test_RMSE 3.5286 | test_r2 0.9708 \n"
     ]
    },
    {
     "name": "stderr",
     "output_type": "stream",
     "text": [
      "\r",
      " 42%|████▏     | 423/1000 [06:32<08:54,  1.08it/s]"
     ]
    },
    {
     "name": "stdout",
     "output_type": "stream",
     "text": [
      "Epoch 00422 | Loss 26.2439 | train_RMSE 3.5507 | train_r2 0.9698 | test_RMSE 3.5718 | test_r2 0.9706 \n"
     ]
    },
    {
     "name": "stderr",
     "output_type": "stream",
     "text": [
      "\r",
      " 42%|████▏     | 424/1000 [06:33<08:54,  1.08it/s]"
     ]
    },
    {
     "name": "stdout",
     "output_type": "stream",
     "text": [
      "Epoch 00423 | Loss 25.6123 | train_RMSE 3.5120 | train_r2 0.9697 | test_RMSE 3.4866 | test_r2 0.9713 \n"
     ]
    },
    {
     "name": "stderr",
     "output_type": "stream",
     "text": [
      "\r",
      " 42%|████▎     | 425/1000 [06:33<09:03,  1.06it/s]"
     ]
    },
    {
     "name": "stdout",
     "output_type": "stream",
     "text": [
      "Epoch 00424 | Loss 25.6609 | train_RMSE 3.4364 | train_r2 0.9714 | test_RMSE 3.4658 | test_r2 0.9720 \n"
     ]
    },
    {
     "name": "stderr",
     "output_type": "stream",
     "text": [
      "\r",
      " 43%|████▎     | 426/1000 [06:34<09:03,  1.06it/s]"
     ]
    },
    {
     "name": "stdout",
     "output_type": "stream",
     "text": [
      "Epoch 00425 | Loss 25.8237 | train_RMSE 3.4261 | train_r2 0.9719 | test_RMSE 3.4525 | test_r2 0.9726 \n"
     ]
    },
    {
     "name": "stderr",
     "output_type": "stream",
     "text": [
      "\r",
      " 43%|████▎     | 427/1000 [06:35<09:03,  1.05it/s]"
     ]
    },
    {
     "name": "stdout",
     "output_type": "stream",
     "text": [
      "Epoch 00426 | Loss 24.6355 | train_RMSE 3.4444 | train_r2 0.9717 | test_RMSE 3.4551 | test_r2 0.9728 \n"
     ]
    },
    {
     "name": "stderr",
     "output_type": "stream",
     "text": [
      "\r",
      " 43%|████▎     | 428/1000 [06:36<08:54,  1.07it/s]"
     ]
    },
    {
     "name": "stdout",
     "output_type": "stream",
     "text": [
      "Epoch 00427 | Loss 25.8009 | train_RMSE 3.4387 | train_r2 0.9718 | test_RMSE 3.4502 | test_r2 0.9728 \n"
     ]
    },
    {
     "name": "stderr",
     "output_type": "stream",
     "text": [
      "\r",
      " 43%|████▎     | 429/1000 [06:37<08:57,  1.06it/s]"
     ]
    },
    {
     "name": "stdout",
     "output_type": "stream",
     "text": [
      "Epoch 00428 | Loss 25.3974 | train_RMSE 3.4412 | train_r2 0.9714 | test_RMSE 3.4514 | test_r2 0.9725 \n"
     ]
    },
    {
     "name": "stderr",
     "output_type": "stream",
     "text": [
      "\r",
      " 43%|████▎     | 430/1000 [06:38<08:55,  1.06it/s]"
     ]
    },
    {
     "name": "stdout",
     "output_type": "stream",
     "text": [
      "Epoch 00429 | Loss 23.7568 | train_RMSE 3.5052 | train_r2 0.9698 | test_RMSE 3.4824 | test_r2 0.9714 \n"
     ]
    },
    {
     "name": "stderr",
     "output_type": "stream",
     "text": [
      "\r",
      " 43%|████▎     | 431/1000 [06:39<08:53,  1.07it/s]"
     ]
    },
    {
     "name": "stdout",
     "output_type": "stream",
     "text": [
      "Epoch 00430 | Loss 25.3112 | train_RMSE 3.4531 | train_r2 0.9713 | test_RMSE 3.5116 | test_r2 0.9715 \n"
     ]
    },
    {
     "name": "stderr",
     "output_type": "stream",
     "text": [
      "\r",
      " 43%|████▎     | 432/1000 [06:40<08:55,  1.06it/s]"
     ]
    },
    {
     "name": "stdout",
     "output_type": "stream",
     "text": [
      "Epoch 00431 | Loss 24.9001 | train_RMSE 3.4778 | train_r2 0.9708 | test_RMSE 3.5085 | test_r2 0.9714 \n"
     ]
    },
    {
     "name": "stderr",
     "output_type": "stream",
     "text": [
      "\r",
      " 43%|████▎     | 433/1000 [06:41<08:53,  1.06it/s]"
     ]
    },
    {
     "name": "stdout",
     "output_type": "stream",
     "text": [
      "Epoch 00432 | Loss 24.5726 | train_RMSE 3.4224 | train_r2 0.9724 | test_RMSE 3.5446 | test_r2 0.9715 \n"
     ]
    },
    {
     "name": "stderr",
     "output_type": "stream",
     "text": [
      "\r",
      " 43%|████▎     | 434/1000 [06:42<08:46,  1.07it/s]"
     ]
    },
    {
     "name": "stdout",
     "output_type": "stream",
     "text": [
      "Epoch 00433 | Loss 25.7452 | train_RMSE 3.4858 | train_r2 0.9707 | test_RMSE 3.5460 | test_r2 0.9708 \n"
     ]
    },
    {
     "name": "stderr",
     "output_type": "stream",
     "text": [
      "\r",
      " 44%|████▎     | 435/1000 [06:43<08:46,  1.07it/s]"
     ]
    },
    {
     "name": "stdout",
     "output_type": "stream",
     "text": [
      "Epoch 00434 | Loss 25.1653 | train_RMSE 3.4786 | train_r2 0.9709 | test_RMSE 3.6153 | test_r2 0.9698 \n"
     ]
    },
    {
     "name": "stderr",
     "output_type": "stream",
     "text": [
      "\r",
      " 44%|████▎     | 436/1000 [06:44<08:46,  1.07it/s]"
     ]
    },
    {
     "name": "stdout",
     "output_type": "stream",
     "text": [
      "Epoch 00435 | Loss 26.2101 | train_RMSE 3.5491 | train_r2 0.9688 | test_RMSE 3.6133 | test_r2 0.9689 \n"
     ]
    },
    {
     "name": "stderr",
     "output_type": "stream",
     "text": [
      "\r",
      " 44%|████▎     | 437/1000 [06:45<08:44,  1.07it/s]"
     ]
    },
    {
     "name": "stdout",
     "output_type": "stream",
     "text": [
      "Epoch 00436 | Loss 26.7041 | train_RMSE 3.4112 | train_r2 0.9718 | test_RMSE 3.5294 | test_r2 0.9710 \n"
     ]
    },
    {
     "name": "stderr",
     "output_type": "stream",
     "text": [
      "\r",
      " 44%|████▍     | 438/1000 [06:46<08:42,  1.08it/s]"
     ]
    },
    {
     "name": "stdout",
     "output_type": "stream",
     "text": [
      "Epoch 00437 | Loss 26.1927 | train_RMSE 3.4063 | train_r2 0.9725 | test_RMSE 3.5340 | test_r2 0.9715 \n"
     ]
    },
    {
     "name": "stderr",
     "output_type": "stream",
     "text": [
      "\r",
      " 44%|████▍     | 439/1000 [06:47<08:38,  1.08it/s]"
     ]
    },
    {
     "name": "stdout",
     "output_type": "stream",
     "text": [
      "Epoch 00438 | Loss 25.5709 | train_RMSE 3.5689 | train_r2 0.9696 | test_RMSE 3.6530 | test_r2 0.9693 \n"
     ]
    },
    {
     "name": "stderr",
     "output_type": "stream",
     "text": [
      "\r",
      " 44%|████▍     | 440/1000 [06:47<08:40,  1.08it/s]"
     ]
    },
    {
     "name": "stdout",
     "output_type": "stream",
     "text": [
      "Epoch 00439 | Loss 26.6022 | train_RMSE 3.6128 | train_r2 0.9693 | test_RMSE 3.7669 | test_r2 0.9680 \n"
     ]
    },
    {
     "name": "stderr",
     "output_type": "stream",
     "text": [
      "\r",
      " 44%|████▍     | 441/1000 [06:48<08:41,  1.07it/s]"
     ]
    },
    {
     "name": "stdout",
     "output_type": "stream",
     "text": [
      "Epoch 00440 | Loss 27.5216 | train_RMSE 3.8589 | train_r2 0.9624 | test_RMSE 3.8693 | test_r2 0.9638 \n"
     ]
    },
    {
     "name": "stderr",
     "output_type": "stream",
     "text": [
      "\r",
      " 44%|████▍     | 442/1000 [06:49<08:41,  1.07it/s]"
     ]
    },
    {
     "name": "stdout",
     "output_type": "stream",
     "text": [
      "Epoch 00441 | Loss 28.0012 | train_RMSE 3.6296 | train_r2 0.9674 | test_RMSE 3.7269 | test_r2 0.9672 \n"
     ]
    },
    {
     "name": "stderr",
     "output_type": "stream",
     "text": [
      "\r",
      " 44%|████▍     | 443/1000 [06:50<08:40,  1.07it/s]"
     ]
    },
    {
     "name": "stdout",
     "output_type": "stream",
     "text": [
      "Epoch 00442 | Loss 26.5136 | train_RMSE 3.4951 | train_r2 0.9693 | test_RMSE 3.5408 | test_r2 0.9698 \n"
     ]
    },
    {
     "name": "stderr",
     "output_type": "stream",
     "text": [
      "\r",
      " 44%|████▍     | 444/1000 [06:51<08:40,  1.07it/s]"
     ]
    },
    {
     "name": "stdout",
     "output_type": "stream",
     "text": [
      "Epoch 00443 | Loss 25.0867 | train_RMSE 3.5342 | train_r2 0.9694 | test_RMSE 3.5569 | test_r2 0.9701 \n"
     ]
    },
    {
     "name": "stderr",
     "output_type": "stream",
     "text": [
      "\r",
      " 44%|████▍     | 445/1000 [06:52<08:39,  1.07it/s]"
     ]
    },
    {
     "name": "stdout",
     "output_type": "stream",
     "text": [
      "Epoch 00444 | Loss 25.1643 | train_RMSE 4.0183 | train_r2 0.9629 | test_RMSE 4.1415 | test_r2 0.9619 \n"
     ]
    },
    {
     "name": "stderr",
     "output_type": "stream",
     "text": [
      "\r",
      " 45%|████▍     | 446/1000 [06:53<08:38,  1.07it/s]"
     ]
    },
    {
     "name": "stdout",
     "output_type": "stream",
     "text": [
      "Epoch 00445 | Loss 31.4113 | train_RMSE 5.3763 | train_r2 0.9263 | test_RMSE 5.2423 | test_r2 0.9320 \n"
     ]
    },
    {
     "name": "stderr",
     "output_type": "stream",
     "text": [
      "\r",
      " 45%|████▍     | 447/1000 [06:54<08:35,  1.07it/s]"
     ]
    },
    {
     "name": "stdout",
     "output_type": "stream",
     "text": [
      "Epoch 00446 | Loss 41.9964 | train_RMSE 6.0652 | train_r2 0.9145 | test_RMSE 6.0304 | test_r2 0.9189 \n"
     ]
    },
    {
     "name": "stderr",
     "output_type": "stream",
     "text": [
      "\r",
      " 45%|████▍     | 448/1000 [06:55<08:29,  1.08it/s]"
     ]
    },
    {
     "name": "stdout",
     "output_type": "stream",
     "text": [
      "Epoch 00447 | Loss 51.2906 | train_RMSE 6.6100 | train_r2 0.8800 | test_RMSE 6.4370 | test_r2 0.8907 \n"
     ]
    },
    {
     "name": "stderr",
     "output_type": "stream",
     "text": [
      "\r",
      " 45%|████▍     | 449/1000 [06:56<08:32,  1.08it/s]"
     ]
    },
    {
     "name": "stdout",
     "output_type": "stream",
     "text": [
      "Epoch 00448 | Loss 55.6473 | train_RMSE 4.6848 | train_r2 0.9484 | test_RMSE 4.7370 | test_r2 0.9497 \n"
     ]
    },
    {
     "name": "stderr",
     "output_type": "stream",
     "text": [
      "\r",
      " 45%|████▌     | 450/1000 [06:57<08:28,  1.08it/s]"
     ]
    },
    {
     "name": "stdout",
     "output_type": "stream",
     "text": [
      "Epoch 00449 | Loss 36.0753 | train_RMSE 3.5050 | train_r2 0.9701 | test_RMSE 3.5260 | test_r2 0.9710 \n"
     ]
    },
    {
     "name": "stderr",
     "output_type": "stream",
     "text": [
      "\r",
      " 45%|████▌     | 451/1000 [06:58<08:25,  1.09it/s]"
     ]
    },
    {
     "name": "stdout",
     "output_type": "stream",
     "text": [
      "Epoch 00450 | Loss 25.3034 | train_RMSE 4.2869 | train_r2 0.9547 | test_RMSE 4.2266 | test_r2 0.9577 \n"
     ]
    },
    {
     "name": "stderr",
     "output_type": "stream",
     "text": [
      "\r",
      " 45%|████▌     | 452/1000 [06:59<08:24,  1.09it/s]"
     ]
    },
    {
     "name": "stdout",
     "output_type": "stream",
     "text": [
      "Epoch 00451 | Loss 30.8933 | train_RMSE 4.8762 | train_r2 0.9468 | test_RMSE 4.9433 | test_r2 0.9475 \n"
     ]
    },
    {
     "name": "stderr",
     "output_type": "stream",
     "text": [
      "\r",
      " 45%|████▌     | 453/1000 [07:00<08:21,  1.09it/s]"
     ]
    },
    {
     "name": "stdout",
     "output_type": "stream",
     "text": [
      "Epoch 00452 | Loss 38.5517 | train_RMSE 5.0547 | train_r2 0.9355 | test_RMSE 4.9421 | test_r2 0.9405 \n"
     ]
    },
    {
     "name": "stderr",
     "output_type": "stream",
     "text": [
      "\r",
      " 45%|████▌     | 454/1000 [07:00<08:19,  1.09it/s]"
     ]
    },
    {
     "name": "stdout",
     "output_type": "stream",
     "text": [
      "Epoch 00453 | Loss 38.1813 | train_RMSE 3.8663 | train_r2 0.9649 | test_RMSE 3.9412 | test_r2 0.9650 \n"
     ]
    },
    {
     "name": "stderr",
     "output_type": "stream",
     "text": [
      "\r",
      " 46%|████▌     | 455/1000 [07:01<08:29,  1.07it/s]"
     ]
    },
    {
     "name": "stdout",
     "output_type": "stream",
     "text": [
      "Epoch 00454 | Loss 28.9471 | train_RMSE 3.4437 | train_r2 0.9712 | test_RMSE 3.4896 | test_r2 0.9718 \n"
     ]
    },
    {
     "name": "stderr",
     "output_type": "stream",
     "text": [
      "\r",
      " 46%|████▌     | 456/1000 [07:02<08:28,  1.07it/s]"
     ]
    },
    {
     "name": "stdout",
     "output_type": "stream",
     "text": [
      "Epoch 00455 | Loss 25.7652 | train_RMSE 4.2079 | train_r2 0.9555 | test_RMSE 4.1487 | test_r2 0.9587 \n"
     ]
    },
    {
     "name": "stderr",
     "output_type": "stream",
     "text": [
      "\r",
      " 46%|████▌     | 457/1000 [07:03<08:26,  1.07it/s]"
     ]
    },
    {
     "name": "stdout",
     "output_type": "stream",
     "text": [
      "Epoch 00456 | Loss 29.3719 | train_RMSE 4.1976 | train_r2 0.9590 | test_RMSE 4.3853 | test_r2 0.9574 \n"
     ]
    },
    {
     "name": "stderr",
     "output_type": "stream",
     "text": [
      "\r",
      " 46%|████▌     | 458/1000 [07:04<08:24,  1.07it/s]"
     ]
    },
    {
     "name": "stdout",
     "output_type": "stream",
     "text": [
      "Epoch 00457 | Loss 32.0276 | train_RMSE 4.0416 | train_r2 0.9592 | test_RMSE 4.1222 | test_r2 0.9592 \n"
     ]
    },
    {
     "name": "stderr",
     "output_type": "stream",
     "text": [
      "\r",
      " 46%|████▌     | 459/1000 [07:05<08:24,  1.07it/s]"
     ]
    },
    {
     "name": "stdout",
     "output_type": "stream",
     "text": [
      "Epoch 00458 | Loss 29.7138 | train_RMSE 3.4336 | train_r2 0.9712 | test_RMSE 3.5898 | test_r2 0.9697 \n"
     ]
    },
    {
     "name": "stderr",
     "output_type": "stream",
     "text": [
      "\r",
      " 46%|████▌     | 460/1000 [07:06<08:22,  1.07it/s]"
     ]
    },
    {
     "name": "stdout",
     "output_type": "stream",
     "text": [
      "Epoch 00459 | Loss 24.9047 | train_RMSE 3.6211 | train_r2 0.9688 | test_RMSE 3.7659 | test_r2 0.9674 \n"
     ]
    },
    {
     "name": "stderr",
     "output_type": "stream",
     "text": [
      "\r",
      " 46%|████▌     | 461/1000 [07:07<08:17,  1.08it/s]"
     ]
    },
    {
     "name": "stdout",
     "output_type": "stream",
     "text": [
      "Epoch 00460 | Loss 25.7813 | train_RMSE 4.1388 | train_r2 0.9574 | test_RMSE 4.0901 | test_r2 0.9597 \n"
     ]
    },
    {
     "name": "stderr",
     "output_type": "stream",
     "text": [
      "\r",
      " 46%|████▌     | 462/1000 [07:08<08:15,  1.09it/s]"
     ]
    },
    {
     "name": "stdout",
     "output_type": "stream",
     "text": [
      "Epoch 00461 | Loss 30.6777 | train_RMSE 3.8464 | train_r2 0.9659 | test_RMSE 4.0103 | test_r2 0.9641 \n"
     ]
    },
    {
     "name": "stderr",
     "output_type": "stream",
     "text": [
      "\r",
      " 46%|████▋     | 463/1000 [07:09<08:14,  1.08it/s]"
     ]
    },
    {
     "name": "stdout",
     "output_type": "stream",
     "text": [
      "Epoch 00462 | Loss 28.0586 | train_RMSE 3.4385 | train_r2 0.9719 | test_RMSE 3.5012 | test_r2 0.9719 \n"
     ]
    },
    {
     "name": "stderr",
     "output_type": "stream",
     "text": [
      "\r",
      " 46%|████▋     | 464/1000 [07:10<08:21,  1.07it/s]"
     ]
    },
    {
     "name": "stdout",
     "output_type": "stream",
     "text": [
      "Epoch 00463 | Loss 24.8281 | train_RMSE 3.6987 | train_r2 0.9670 | test_RMSE 3.7070 | test_r2 0.9680 \n"
     ]
    },
    {
     "name": "stderr",
     "output_type": "stream",
     "text": [
      "\r",
      " 46%|████▋     | 465/1000 [07:11<08:22,  1.07it/s]"
     ]
    },
    {
     "name": "stdout",
     "output_type": "stream",
     "text": [
      "Epoch 00464 | Loss 27.3071 | train_RMSE 4.0573 | train_r2 0.9623 | test_RMSE 4.2576 | test_r2 0.9601 \n"
     ]
    },
    {
     "name": "stderr",
     "output_type": "stream",
     "text": [
      "\r",
      " 47%|████▋     | 466/1000 [07:12<08:23,  1.06it/s]"
     ]
    },
    {
     "name": "stdout",
     "output_type": "stream",
     "text": [
      "Epoch 00465 | Loss 30.3072 | train_RMSE 4.1498 | train_r2 0.9569 | test_RMSE 4.1674 | test_r2 0.9581 \n"
     ]
    },
    {
     "name": "stderr",
     "output_type": "stream",
     "text": [
      "\r",
      " 47%|████▋     | 467/1000 [07:13<08:18,  1.07it/s]"
     ]
    },
    {
     "name": "stdout",
     "output_type": "stream",
     "text": [
      "Epoch 00466 | Loss 29.4764 | train_RMSE 3.4059 | train_r2 0.9719 | test_RMSE 3.5687 | test_r2 0.9704 \n"
     ]
    },
    {
     "name": "stderr",
     "output_type": "stream",
     "text": [
      "\r",
      " 47%|████▋     | 468/1000 [07:14<08:13,  1.08it/s]"
     ]
    },
    {
     "name": "stdout",
     "output_type": "stream",
     "text": [
      "Epoch 00467 | Loss 24.9352 | train_RMSE 3.5476 | train_r2 0.9697 | test_RMSE 3.7083 | test_r2 0.9681 \n"
     ]
    },
    {
     "name": "stderr",
     "output_type": "stream",
     "text": [
      "\r",
      " 47%|████▋     | 469/1000 [07:14<08:11,  1.08it/s]"
     ]
    },
    {
     "name": "stdout",
     "output_type": "stream",
     "text": [
      "Epoch 00468 | Loss 25.7761 | train_RMSE 4.1965 | train_r2 0.9555 | test_RMSE 4.2311 | test_r2 0.9562 \n"
     ]
    },
    {
     "name": "stderr",
     "output_type": "stream",
     "text": [
      "\r",
      " 47%|████▋     | 470/1000 [07:15<08:08,  1.08it/s]"
     ]
    },
    {
     "name": "stdout",
     "output_type": "stream",
     "text": [
      "Epoch 00469 | Loss 30.4498 | train_RMSE 3.8800 | train_r2 0.9648 | test_RMSE 4.0640 | test_r2 0.9627 \n"
     ]
    },
    {
     "name": "stderr",
     "output_type": "stream",
     "text": [
      "\r",
      " 47%|████▋     | 471/1000 [07:16<08:13,  1.07it/s]"
     ]
    },
    {
     "name": "stdout",
     "output_type": "stream",
     "text": [
      "Epoch 00470 | Loss 28.9744 | train_RMSE 3.5205 | train_r2 0.9698 | test_RMSE 3.6915 | test_r2 0.9681 \n"
     ]
    },
    {
     "name": "stderr",
     "output_type": "stream",
     "text": [
      "\r",
      " 47%|████▋     | 472/1000 [07:17<08:16,  1.06it/s]"
     ]
    },
    {
     "name": "stdout",
     "output_type": "stream",
     "text": [
      "Epoch 00471 | Loss 26.0691 | train_RMSE 3.3539 | train_r2 0.9733 | test_RMSE 3.6100 | test_r2 0.9703 \n"
     ]
    },
    {
     "name": "stderr",
     "output_type": "stream",
     "text": [
      "\r",
      " 47%|████▋     | 473/1000 [07:18<08:15,  1.06it/s]"
     ]
    },
    {
     "name": "stdout",
     "output_type": "stream",
     "text": [
      "Epoch 00472 | Loss 24.6294 | train_RMSE 3.3780 | train_r2 0.9729 | test_RMSE 3.6675 | test_r2 0.9693 \n"
     ]
    },
    {
     "name": "stderr",
     "output_type": "stream",
     "text": [
      "\r",
      " 47%|████▋     | 474/1000 [07:19<08:15,  1.06it/s]"
     ]
    },
    {
     "name": "stdout",
     "output_type": "stream",
     "text": [
      "Epoch 00473 | Loss 24.4611 | train_RMSE 3.5299 | train_r2 0.9695 | test_RMSE 3.7675 | test_r2 0.9667 \n"
     ]
    },
    {
     "name": "stderr",
     "output_type": "stream",
     "text": [
      "\r",
      " 48%|████▊     | 475/1000 [07:20<08:16,  1.06it/s]"
     ]
    },
    {
     "name": "stdout",
     "output_type": "stream",
     "text": [
      "Epoch 00474 | Loss 25.4751 | train_RMSE 3.4222 | train_r2 0.9722 | test_RMSE 3.6621 | test_r2 0.9694 \n"
     ]
    },
    {
     "name": "stderr",
     "output_type": "stream",
     "text": [
      "\r",
      " 48%|████▊     | 476/1000 [07:21<08:19,  1.05it/s]"
     ]
    },
    {
     "name": "stdout",
     "output_type": "stream",
     "text": [
      "Epoch 00475 | Loss 26.0997 | train_RMSE 3.3549 | train_r2 0.9730 | test_RMSE 3.5148 | test_r2 0.9714 \n"
     ]
    },
    {
     "name": "stderr",
     "output_type": "stream",
     "text": [
      "\r",
      " 48%|████▊     | 477/1000 [07:22<08:20,  1.05it/s]"
     ]
    },
    {
     "name": "stdout",
     "output_type": "stream",
     "text": [
      "Epoch 00476 | Loss 25.0253 | train_RMSE 3.3374 | train_r2 0.9733 | test_RMSE 3.4851 | test_r2 0.9720 \n"
     ]
    },
    {
     "name": "stderr",
     "output_type": "stream",
     "text": [
      "\r",
      " 48%|████▊     | 478/1000 [07:23<08:14,  1.06it/s]"
     ]
    },
    {
     "name": "stdout",
     "output_type": "stream",
     "text": [
      "Epoch 00477 | Loss 23.9041 | train_RMSE 3.3310 | train_r2 0.9736 | test_RMSE 3.4939 | test_r2 0.9720 \n"
     ]
    },
    {
     "name": "stderr",
     "output_type": "stream",
     "text": [
      "\r",
      " 48%|████▊     | 479/1000 [07:24<08:05,  1.07it/s]"
     ]
    },
    {
     "name": "stdout",
     "output_type": "stream",
     "text": [
      "Epoch 00478 | Loss 23.8329 | train_RMSE 3.5431 | train_r2 0.9691 | test_RMSE 3.6357 | test_r2 0.9686 \n"
     ]
    },
    {
     "name": "stderr",
     "output_type": "stream",
     "text": [
      "\r",
      " 48%|████▊     | 480/1000 [07:25<08:02,  1.08it/s]"
     ]
    },
    {
     "name": "stdout",
     "output_type": "stream",
     "text": [
      "Epoch 00479 | Loss 25.3663 | train_RMSE 3.5235 | train_r2 0.9700 | test_RMSE 3.6488 | test_r2 0.9689 \n"
     ]
    },
    {
     "name": "stderr",
     "output_type": "stream",
     "text": [
      "\r",
      " 48%|████▊     | 481/1000 [07:26<08:08,  1.06it/s]"
     ]
    },
    {
     "name": "stdout",
     "output_type": "stream",
     "text": [
      "Epoch 00480 | Loss 24.8311 | train_RMSE 3.4903 | train_r2 0.9697 | test_RMSE 3.5697 | test_r2 0.9693 \n"
     ]
    },
    {
     "name": "stderr",
     "output_type": "stream",
     "text": [
      "\r",
      " 48%|████▊     | 482/1000 [07:27<08:00,  1.08it/s]"
     ]
    },
    {
     "name": "stdout",
     "output_type": "stream",
     "text": [
      "Epoch 00481 | Loss 24.5098 | train_RMSE 3.3457 | train_r2 0.9726 | test_RMSE 3.4595 | test_r2 0.9716 \n"
     ]
    },
    {
     "name": "stderr",
     "output_type": "stream",
     "text": [
      "\r",
      " 48%|████▊     | 483/1000 [07:28<07:55,  1.09it/s]"
     ]
    },
    {
     "name": "stdout",
     "output_type": "stream",
     "text": [
      "Epoch 00482 | Loss 24.5625 | train_RMSE 3.5705 | train_r2 0.9699 | test_RMSE 3.7410 | test_r2 0.9681 \n"
     ]
    },
    {
     "name": "stderr",
     "output_type": "stream",
     "text": [
      "\r",
      " 48%|████▊     | 484/1000 [07:28<07:53,  1.09it/s]"
     ]
    },
    {
     "name": "stdout",
     "output_type": "stream",
     "text": [
      "Epoch 00483 | Loss 26.6719 | train_RMSE 3.8461 | train_r2 0.9637 | test_RMSE 3.9222 | test_r2 0.9635 \n"
     ]
    },
    {
     "name": "stderr",
     "output_type": "stream",
     "text": [
      "\r",
      " 48%|████▊     | 485/1000 [07:29<07:54,  1.08it/s]"
     ]
    },
    {
     "name": "stdout",
     "output_type": "stream",
     "text": [
      "Epoch 00484 | Loss 27.4360 | train_RMSE 3.4624 | train_r2 0.9714 | test_RMSE 3.6885 | test_r2 0.9689 \n"
     ]
    },
    {
     "name": "stderr",
     "output_type": "stream",
     "text": [
      "\r",
      " 49%|████▊     | 486/1000 [07:30<07:55,  1.08it/s]"
     ]
    },
    {
     "name": "stdout",
     "output_type": "stream",
     "text": [
      "Epoch 00485 | Loss 25.2658 | train_RMSE 3.3144 | train_r2 0.9730 | test_RMSE 3.5389 | test_r2 0.9705 \n"
     ]
    },
    {
     "name": "stderr",
     "output_type": "stream",
     "text": [
      "\r",
      " 49%|████▊     | 487/1000 [07:31<07:52,  1.09it/s]"
     ]
    },
    {
     "name": "stdout",
     "output_type": "stream",
     "text": [
      "Epoch 00486 | Loss 24.3222 | train_RMSE 3.6466 | train_r2 0.9665 | test_RMSE 3.8844 | test_r2 0.9634 \n"
     ]
    },
    {
     "name": "stderr",
     "output_type": "stream",
     "text": [
      "\r",
      " 49%|████▉     | 488/1000 [07:32<07:52,  1.08it/s]"
     ]
    },
    {
     "name": "stdout",
     "output_type": "stream",
     "text": [
      "Epoch 00487 | Loss 25.2311 | train_RMSE 3.4966 | train_r2 0.9707 | test_RMSE 3.7166 | test_r2 0.9681 \n"
     ]
    },
    {
     "name": "stderr",
     "output_type": "stream",
     "text": [
      "\r",
      " 49%|████▉     | 489/1000 [07:33<07:56,  1.07it/s]"
     ]
    },
    {
     "name": "stdout",
     "output_type": "stream",
     "text": [
      "Epoch 00488 | Loss 25.4910 | train_RMSE 3.4121 | train_r2 0.9717 | test_RMSE 3.5680 | test_r2 0.9701 \n"
     ]
    },
    {
     "name": "stderr",
     "output_type": "stream",
     "text": [
      "\r",
      " 49%|████▉     | 490/1000 [07:34<08:00,  1.06it/s]"
     ]
    },
    {
     "name": "stdout",
     "output_type": "stream",
     "text": [
      "Epoch 00489 | Loss 24.5774 | train_RMSE 3.3293 | train_r2 0.9740 | test_RMSE 3.5137 | test_r2 0.9721 \n"
     ]
    },
    {
     "name": "stderr",
     "output_type": "stream",
     "text": [
      "\r",
      " 49%|████▉     | 491/1000 [07:35<07:54,  1.07it/s]"
     ]
    },
    {
     "name": "stdout",
     "output_type": "stream",
     "text": [
      "Epoch 00490 | Loss 23.9844 | train_RMSE 3.5050 | train_r2 0.9719 | test_RMSE 3.7323 | test_r2 0.9692 \n"
     ]
    },
    {
     "name": "stderr",
     "output_type": "stream",
     "text": [
      "\r",
      " 49%|████▉     | 492/1000 [07:36<07:55,  1.07it/s]"
     ]
    },
    {
     "name": "stdout",
     "output_type": "stream",
     "text": [
      "Epoch 00491 | Loss 24.9029 | train_RMSE 3.6224 | train_r2 0.9678 | test_RMSE 3.7079 | test_r2 0.9676 \n"
     ]
    },
    {
     "name": "stderr",
     "output_type": "stream",
     "text": [
      "\r",
      " 49%|████▉     | 493/1000 [07:37<07:54,  1.07it/s]"
     ]
    },
    {
     "name": "stdout",
     "output_type": "stream",
     "text": [
      "Epoch 00492 | Loss 26.4285 | train_RMSE 3.3605 | train_r2 0.9724 | test_RMSE 3.5011 | test_r2 0.9714 \n"
     ]
    },
    {
     "name": "stderr",
     "output_type": "stream",
     "text": [
      "\r",
      " 49%|████▉     | 494/1000 [07:38<07:52,  1.07it/s]"
     ]
    },
    {
     "name": "stdout",
     "output_type": "stream",
     "text": [
      "Epoch 00493 | Loss 24.5897 | train_RMSE 3.3530 | train_r2 0.9723 | test_RMSE 3.4802 | test_r2 0.9715 \n"
     ]
    },
    {
     "name": "stderr",
     "output_type": "stream",
     "text": [
      "\r",
      " 50%|████▉     | 495/1000 [07:39<07:52,  1.07it/s]"
     ]
    },
    {
     "name": "stdout",
     "output_type": "stream",
     "text": [
      "Epoch 00494 | Loss 25.2452 | train_RMSE 3.5448 | train_r2 0.9687 | test_RMSE 3.6659 | test_r2 0.9678 \n"
     ]
    },
    {
     "name": "stderr",
     "output_type": "stream",
     "text": [
      "\r",
      " 50%|████▉     | 496/1000 [07:40<07:52,  1.07it/s]"
     ]
    },
    {
     "name": "stdout",
     "output_type": "stream",
     "text": [
      "Epoch 00495 | Loss 26.2644 | train_RMSE 3.5260 | train_r2 0.9710 | test_RMSE 3.7040 | test_r2 0.9691 \n"
     ]
    },
    {
     "name": "stderr",
     "output_type": "stream",
     "text": [
      "\r",
      " 50%|████▉     | 497/1000 [07:41<07:45,  1.08it/s]"
     ]
    },
    {
     "name": "stdout",
     "output_type": "stream",
     "text": [
      "Epoch 00496 | Loss 25.8277 | train_RMSE 3.5649 | train_r2 0.9693 | test_RMSE 3.6976 | test_r2 0.9680 \n"
     ]
    },
    {
     "name": "stderr",
     "output_type": "stream",
     "text": [
      "\r",
      " 50%|████▉     | 498/1000 [07:42<07:42,  1.08it/s]"
     ]
    },
    {
     "name": "stdout",
     "output_type": "stream",
     "text": [
      "Epoch 00497 | Loss 25.4740 | train_RMSE 3.3635 | train_r2 0.9732 | test_RMSE 3.5591 | test_r2 0.9711 \n"
     ]
    },
    {
     "name": "stderr",
     "output_type": "stream",
     "text": [
      "\r",
      " 50%|████▉     | 499/1000 [07:42<07:39,  1.09it/s]"
     ]
    },
    {
     "name": "stdout",
     "output_type": "stream",
     "text": [
      "Epoch 00498 | Loss 24.5951 | train_RMSE 3.3605 | train_r2 0.9721 | test_RMSE 3.4817 | test_r2 0.9711 \n"
     ]
    },
    {
     "name": "stderr",
     "output_type": "stream",
     "text": [
      "\r",
      " 50%|█████     | 500/1000 [07:43<07:39,  1.09it/s]"
     ]
    },
    {
     "name": "stdout",
     "output_type": "stream",
     "text": [
      "Epoch 00499 | Loss 24.9342 | train_RMSE 3.3223 | train_r2 0.9727 | test_RMSE 3.4740 | test_r2 0.9712 \n"
     ]
    },
    {
     "name": "stderr",
     "output_type": "stream",
     "text": [
      "\r",
      " 50%|█████     | 501/1000 [07:44<07:36,  1.09it/s]"
     ]
    },
    {
     "name": "stdout",
     "output_type": "stream",
     "text": [
      "Epoch 00500 | Loss 24.0807 | train_RMSE 3.3011 | train_r2 0.9736 | test_RMSE 3.5333 | test_r2 0.9709 \n"
     ]
    },
    {
     "name": "stderr",
     "output_type": "stream",
     "text": [
      "\r",
      " 50%|█████     | 502/1000 [07:45<07:40,  1.08it/s]"
     ]
    },
    {
     "name": "stdout",
     "output_type": "stream",
     "text": [
      "Epoch 00501 | Loss 23.4915 | train_RMSE 3.3843 | train_r2 0.9723 | test_RMSE 3.6028 | test_r2 0.9697 \n"
     ]
    },
    {
     "name": "stderr",
     "output_type": "stream",
     "text": [
      "\r",
      " 50%|█████     | 503/1000 [07:46<07:46,  1.07it/s]"
     ]
    },
    {
     "name": "stdout",
     "output_type": "stream",
     "text": [
      "Epoch 00502 | Loss 24.7318 | train_RMSE 3.3114 | train_r2 0.9738 | test_RMSE 3.5651 | test_r2 0.9706 \n"
     ]
    },
    {
     "name": "stderr",
     "output_type": "stream",
     "text": [
      "\r",
      " 50%|█████     | 504/1000 [07:47<07:43,  1.07it/s]"
     ]
    },
    {
     "name": "stdout",
     "output_type": "stream",
     "text": [
      "Epoch 00503 | Loss 23.0668 | train_RMSE 3.2928 | train_r2 0.9735 | test_RMSE 3.5106 | test_r2 0.9710 \n"
     ]
    },
    {
     "name": "stderr",
     "output_type": "stream",
     "text": [
      "\r",
      " 50%|█████     | 505/1000 [07:48<07:39,  1.08it/s]"
     ]
    },
    {
     "name": "stdout",
     "output_type": "stream",
     "text": [
      "Epoch 00504 | Loss 23.7390 | train_RMSE 3.3132 | train_r2 0.9729 | test_RMSE 3.4813 | test_r2 0.9713 \n"
     ]
    },
    {
     "name": "stderr",
     "output_type": "stream",
     "text": [
      "\r",
      " 51%|█████     | 506/1000 [07:49<07:41,  1.07it/s]"
     ]
    },
    {
     "name": "stdout",
     "output_type": "stream",
     "text": [
      "Epoch 00505 | Loss 24.8380 | train_RMSE 3.3936 | train_r2 0.9713 | test_RMSE 3.5403 | test_r2 0.9700 \n"
     ]
    },
    {
     "name": "stderr",
     "output_type": "stream",
     "text": [
      "\r",
      " 51%|█████     | 507/1000 [07:50<07:44,  1.06it/s]"
     ]
    },
    {
     "name": "stdout",
     "output_type": "stream",
     "text": [
      "Epoch 00506 | Loss 24.6142 | train_RMSE 3.2963 | train_r2 0.9739 | test_RMSE 3.5432 | test_r2 0.9710 \n"
     ]
    },
    {
     "name": "stderr",
     "output_type": "stream",
     "text": [
      "\r",
      " 51%|█████     | 508/1000 [07:51<08:08,  1.01it/s]"
     ]
    },
    {
     "name": "stdout",
     "output_type": "stream",
     "text": [
      "Epoch 00507 | Loss 24.5557 | train_RMSE 3.3108 | train_r2 0.9740 | test_RMSE 3.6134 | test_r2 0.9701 \n"
     ]
    },
    {
     "name": "stderr",
     "output_type": "stream",
     "text": [
      "\r",
      " 51%|█████     | 509/1000 [07:52<08:08,  1.01it/s]"
     ]
    },
    {
     "name": "stdout",
     "output_type": "stream",
     "text": [
      "Epoch 00508 | Loss 23.9835 | train_RMSE 3.2966 | train_r2 0.9746 | test_RMSE 3.6240 | test_r2 0.9704 \n"
     ]
    },
    {
     "name": "stderr",
     "output_type": "stream",
     "text": [
      "\r",
      " 51%|█████     | 510/1000 [07:53<07:59,  1.02it/s]"
     ]
    },
    {
     "name": "stdout",
     "output_type": "stream",
     "text": [
      "Epoch 00509 | Loss 23.9174 | train_RMSE 3.2706 | train_r2 0.9748 | test_RMSE 3.5714 | test_r2 0.9709 \n"
     ]
    },
    {
     "name": "stderr",
     "output_type": "stream",
     "text": [
      "\r",
      " 51%|█████     | 511/1000 [07:54<07:53,  1.03it/s]"
     ]
    },
    {
     "name": "stdout",
     "output_type": "stream",
     "text": [
      "Epoch 00510 | Loss 24.5290 | train_RMSE 3.4884 | train_r2 0.9703 | test_RMSE 3.6997 | test_r2 0.9676 \n"
     ]
    },
    {
     "name": "stderr",
     "output_type": "stream",
     "text": [
      "\r",
      " 51%|█████     | 512/1000 [07:55<07:48,  1.04it/s]"
     ]
    },
    {
     "name": "stdout",
     "output_type": "stream",
     "text": [
      "Epoch 00511 | Loss 24.7636 | train_RMSE 3.4329 | train_r2 0.9719 | test_RMSE 3.6442 | test_r2 0.9693 \n"
     ]
    },
    {
     "name": "stderr",
     "output_type": "stream",
     "text": [
      "\r",
      " 51%|█████▏    | 513/1000 [07:56<07:45,  1.05it/s]"
     ]
    },
    {
     "name": "stdout",
     "output_type": "stream",
     "text": [
      "Epoch 00512 | Loss 25.5430 | train_RMSE 3.4113 | train_r2 0.9714 | test_RMSE 3.5636 | test_r2 0.9696 \n"
     ]
    },
    {
     "name": "stderr",
     "output_type": "stream",
     "text": [
      "\r",
      " 51%|█████▏    | 514/1000 [07:57<07:45,  1.04it/s]"
     ]
    },
    {
     "name": "stdout",
     "output_type": "stream",
     "text": [
      "Epoch 00513 | Loss 24.0835 | train_RMSE 3.2468 | train_r2 0.9748 | test_RMSE 3.4647 | test_r2 0.9720 \n"
     ]
    },
    {
     "name": "stderr",
     "output_type": "stream",
     "text": [
      "\r",
      " 52%|█████▏    | 515/1000 [07:58<07:45,  1.04it/s]"
     ]
    },
    {
     "name": "stdout",
     "output_type": "stream",
     "text": [
      "Epoch 00514 | Loss 24.0499 | train_RMSE 3.2546 | train_r2 0.9749 | test_RMSE 3.4803 | test_r2 0.9722 \n"
     ]
    },
    {
     "name": "stderr",
     "output_type": "stream",
     "text": [
      "\r",
      " 52%|█████▏    | 516/1000 [07:59<07:39,  1.05it/s]"
     ]
    },
    {
     "name": "stdout",
     "output_type": "stream",
     "text": [
      "Epoch 00515 | Loss 23.6795 | train_RMSE 3.3127 | train_r2 0.9734 | test_RMSE 3.4687 | test_r2 0.9717 \n"
     ]
    },
    {
     "name": "stderr",
     "output_type": "stream",
     "text": [
      "\r",
      " 52%|█████▏    | 517/1000 [08:00<07:36,  1.06it/s]"
     ]
    },
    {
     "name": "stdout",
     "output_type": "stream",
     "text": [
      "Epoch 00516 | Loss 24.4284 | train_RMSE 3.3460 | train_r2 0.9729 | test_RMSE 3.5361 | test_r2 0.9708 \n"
     ]
    },
    {
     "name": "stderr",
     "output_type": "stream",
     "text": [
      "\r",
      " 52%|█████▏    | 518/1000 [08:01<07:32,  1.06it/s]"
     ]
    },
    {
     "name": "stdout",
     "output_type": "stream",
     "text": [
      "Epoch 00517 | Loss 23.8850 | train_RMSE 3.3133 | train_r2 0.9728 | test_RMSE 3.4620 | test_r2 0.9713 \n"
     ]
    },
    {
     "name": "stderr",
     "output_type": "stream",
     "text": [
      "\r",
      " 52%|█████▏    | 519/1000 [08:01<07:31,  1.07it/s]"
     ]
    },
    {
     "name": "stdout",
     "output_type": "stream",
     "text": [
      "Epoch 00518 | Loss 23.4801 | train_RMSE 3.2637 | train_r2 0.9741 | test_RMSE 3.4568 | test_r2 0.9718 \n"
     ]
    },
    {
     "name": "stderr",
     "output_type": "stream",
     "text": [
      "\r",
      " 52%|█████▏    | 520/1000 [08:02<07:28,  1.07it/s]"
     ]
    },
    {
     "name": "stdout",
     "output_type": "stream",
     "text": [
      "Epoch 00519 | Loss 24.2254 | train_RMSE 3.3015 | train_r2 0.9743 | test_RMSE 3.5507 | test_r2 0.9713 \n"
     ]
    },
    {
     "name": "stderr",
     "output_type": "stream",
     "text": [
      "\r",
      " 52%|█████▏    | 521/1000 [08:03<07:26,  1.07it/s]"
     ]
    },
    {
     "name": "stdout",
     "output_type": "stream",
     "text": [
      "Epoch 00520 | Loss 24.1679 | train_RMSE 3.4372 | train_r2 0.9718 | test_RMSE 3.6450 | test_r2 0.9694 \n"
     ]
    },
    {
     "name": "stderr",
     "output_type": "stream",
     "text": [
      "\r",
      " 52%|█████▏    | 522/1000 [08:04<07:23,  1.08it/s]"
     ]
    },
    {
     "name": "stdout",
     "output_type": "stream",
     "text": [
      "Epoch 00521 | Loss 24.6928 | train_RMSE 3.3504 | train_r2 0.9737 | test_RMSE 3.6139 | test_r2 0.9706 \n"
     ]
    },
    {
     "name": "stderr",
     "output_type": "stream",
     "text": [
      "\r",
      " 52%|█████▏    | 523/1000 [08:05<07:19,  1.08it/s]"
     ]
    },
    {
     "name": "stdout",
     "output_type": "stream",
     "text": [
      "Epoch 00522 | Loss 24.0306 | train_RMSE 3.3510 | train_r2 0.9727 | test_RMSE 3.5823 | test_r2 0.9699 \n"
     ]
    },
    {
     "name": "stderr",
     "output_type": "stream",
     "text": [
      "\r",
      " 52%|█████▏    | 524/1000 [08:06<07:20,  1.08it/s]"
     ]
    },
    {
     "name": "stdout",
     "output_type": "stream",
     "text": [
      "Epoch 00523 | Loss 24.6590 | train_RMSE 3.2391 | train_r2 0.9745 | test_RMSE 3.4988 | test_r2 0.9712 \n"
     ]
    },
    {
     "name": "stderr",
     "output_type": "stream",
     "text": [
      "\r",
      " 52%|█████▎    | 525/1000 [08:07<07:33,  1.05it/s]"
     ]
    },
    {
     "name": "stdout",
     "output_type": "stream",
     "text": [
      "Epoch 00524 | Loss 23.9234 | train_RMSE 3.2607 | train_r2 0.9743 | test_RMSE 3.5318 | test_r2 0.9708 \n"
     ]
    },
    {
     "name": "stderr",
     "output_type": "stream",
     "text": [
      "\r",
      " 53%|█████▎    | 526/1000 [08:08<07:29,  1.05it/s]"
     ]
    },
    {
     "name": "stdout",
     "output_type": "stream",
     "text": [
      "Epoch 00525 | Loss 22.8268 | train_RMSE 3.3642 | train_r2 0.9724 | test_RMSE 3.5963 | test_r2 0.9694 \n"
     ]
    },
    {
     "name": "stderr",
     "output_type": "stream",
     "text": [
      "\r",
      " 53%|█████▎    | 527/1000 [08:09<07:30,  1.05it/s]"
     ]
    },
    {
     "name": "stdout",
     "output_type": "stream",
     "text": [
      "Epoch 00526 | Loss 25.1995 | train_RMSE 3.4130 | train_r2 0.9726 | test_RMSE 3.6787 | test_r2 0.9693 \n"
     ]
    },
    {
     "name": "stderr",
     "output_type": "stream",
     "text": [
      "\r",
      " 53%|█████▎    | 528/1000 [08:10<07:24,  1.06it/s]"
     ]
    },
    {
     "name": "stdout",
     "output_type": "stream",
     "text": [
      "Epoch 00527 | Loss 25.2298 | train_RMSE 3.5798 | train_r2 0.9688 | test_RMSE 3.7318 | test_r2 0.9671 \n"
     ]
    },
    {
     "name": "stderr",
     "output_type": "stream",
     "text": [
      "\r",
      " 53%|█████▎    | 529/1000 [08:11<07:26,  1.06it/s]"
     ]
    },
    {
     "name": "stdout",
     "output_type": "stream",
     "text": [
      "Epoch 00528 | Loss 26.6296 | train_RMSE 3.4601 | train_r2 0.9719 | test_RMSE 3.7438 | test_r2 0.9681 \n"
     ]
    },
    {
     "name": "stderr",
     "output_type": "stream",
     "text": [
      "\r",
      " 53%|█████▎    | 530/1000 [08:12<07:22,  1.06it/s]"
     ]
    },
    {
     "name": "stdout",
     "output_type": "stream",
     "text": [
      "Epoch 00529 | Loss 25.8726 | train_RMSE 3.4440 | train_r2 0.9709 | test_RMSE 3.7061 | test_r2 0.9673 \n"
     ]
    },
    {
     "name": "stderr",
     "output_type": "stream",
     "text": [
      "\r",
      " 53%|█████▎    | 531/1000 [08:13<07:20,  1.06it/s]"
     ]
    },
    {
     "name": "stdout",
     "output_type": "stream",
     "text": [
      "Epoch 00530 | Loss 24.3281 | train_RMSE 3.2621 | train_r2 0.9743 | test_RMSE 3.5664 | test_r2 0.9702 \n"
     ]
    },
    {
     "name": "stderr",
     "output_type": "stream",
     "text": [
      "\r",
      " 53%|█████▎    | 532/1000 [08:14<07:22,  1.06it/s]"
     ]
    },
    {
     "name": "stdout",
     "output_type": "stream",
     "text": [
      "Epoch 00531 | Loss 23.5551 | train_RMSE 3.2342 | train_r2 0.9749 | test_RMSE 3.5452 | test_r2 0.9708 \n"
     ]
    },
    {
     "name": "stderr",
     "output_type": "stream",
     "text": [
      "\r",
      " 53%|█████▎    | 533/1000 [08:15<07:22,  1.06it/s]"
     ]
    },
    {
     "name": "stdout",
     "output_type": "stream",
     "text": [
      "Epoch 00532 | Loss 24.0891 | train_RMSE 3.5770 | train_r2 0.9683 | test_RMSE 3.7858 | test_r2 0.9658 \n"
     ]
    },
    {
     "name": "stderr",
     "output_type": "stream",
     "text": [
      "\r",
      " 53%|█████▎    | 534/1000 [08:16<07:20,  1.06it/s]"
     ]
    },
    {
     "name": "stdout",
     "output_type": "stream",
     "text": [
      "Epoch 00533 | Loss 26.0937 | train_RMSE 3.9489 | train_r2 0.9635 | test_RMSE 4.2547 | test_r2 0.9595 \n"
     ]
    },
    {
     "name": "stderr",
     "output_type": "stream",
     "text": [
      "\r",
      " 54%|█████▎    | 535/1000 [08:17<07:21,  1.05it/s]"
     ]
    },
    {
     "name": "stdout",
     "output_type": "stream",
     "text": [
      "Epoch 00534 | Loss 27.8838 | train_RMSE 4.1247 | train_r2 0.9578 | test_RMSE 4.2165 | test_r2 0.9576 \n"
     ]
    },
    {
     "name": "stderr",
     "output_type": "stream",
     "text": [
      "\r",
      " 54%|█████▎    | 536/1000 [08:17<07:21,  1.05it/s]"
     ]
    },
    {
     "name": "stdout",
     "output_type": "stream",
     "text": [
      "Epoch 00535 | Loss 29.8339 | train_RMSE 3.5382 | train_r2 0.9703 | test_RMSE 3.8045 | test_r2 0.9670 \n"
     ]
    },
    {
     "name": "stderr",
     "output_type": "stream",
     "text": [
      "\r",
      " 54%|█████▎    | 537/1000 [08:18<07:19,  1.05it/s]"
     ]
    },
    {
     "name": "stdout",
     "output_type": "stream",
     "text": [
      "Epoch 00536 | Loss 26.4788 | train_RMSE 3.3482 | train_r2 0.9724 | test_RMSE 3.6048 | test_r2 0.9688 \n"
     ]
    },
    {
     "name": "stderr",
     "output_type": "stream",
     "text": [
      "\r",
      " 54%|█████▍    | 538/1000 [08:19<07:23,  1.04it/s]"
     ]
    },
    {
     "name": "stdout",
     "output_type": "stream",
     "text": [
      "Epoch 00537 | Loss 24.1034 | train_RMSE 3.3697 | train_r2 0.9722 | test_RMSE 3.5683 | test_r2 0.9696 \n"
     ]
    },
    {
     "name": "stderr",
     "output_type": "stream",
     "text": [
      "\r",
      " 54%|█████▍    | 539/1000 [08:20<07:18,  1.05it/s]"
     ]
    },
    {
     "name": "stdout",
     "output_type": "stream",
     "text": [
      "Epoch 00538 | Loss 24.2480 | train_RMSE 3.4869 | train_r2 0.9717 | test_RMSE 3.6853 | test_r2 0.9693 \n"
     ]
    },
    {
     "name": "stderr",
     "output_type": "stream",
     "text": [
      "\r",
      " 54%|█████▍    | 540/1000 [08:21<07:14,  1.06it/s]"
     ]
    },
    {
     "name": "stdout",
     "output_type": "stream",
     "text": [
      "Epoch 00539 | Loss 26.0503 | train_RMSE 3.9937 | train_r2 0.9613 | test_RMSE 4.0263 | test_r2 0.9619 \n"
     ]
    },
    {
     "name": "stderr",
     "output_type": "stream",
     "text": [
      "\r",
      " 54%|█████▍    | 541/1000 [08:22<07:17,  1.05it/s]"
     ]
    },
    {
     "name": "stdout",
     "output_type": "stream",
     "text": [
      "Epoch 00540 | Loss 30.2638 | train_RMSE 4.2154 | train_r2 0.9589 | test_RMSE 4.4672 | test_r2 0.9557 \n"
     ]
    },
    {
     "name": "stderr",
     "output_type": "stream",
     "text": [
      "\r",
      " 54%|█████▍    | 542/1000 [08:23<07:12,  1.06it/s]"
     ]
    },
    {
     "name": "stdout",
     "output_type": "stream",
     "text": [
      "Epoch 00541 | Loss 32.8164 | train_RMSE 4.8049 | train_r2 0.9401 | test_RMSE 4.8543 | test_r2 0.9410 \n"
     ]
    },
    {
     "name": "stderr",
     "output_type": "stream",
     "text": [
      "\r",
      " 54%|█████▍    | 543/1000 [08:24<07:06,  1.07it/s]"
     ]
    },
    {
     "name": "stdout",
     "output_type": "stream",
     "text": [
      "Epoch 00542 | Loss 36.5979 | train_RMSE 4.5358 | train_r2 0.9515 | test_RMSE 4.7029 | test_r2 0.9499 \n"
     ]
    },
    {
     "name": "stderr",
     "output_type": "stream",
     "text": [
      "\r",
      " 54%|█████▍    | 544/1000 [08:25<07:03,  1.08it/s]"
     ]
    },
    {
     "name": "stdout",
     "output_type": "stream",
     "text": [
      "Epoch 00543 | Loss 34.9129 | train_RMSE 4.2180 | train_r2 0.9545 | test_RMSE 4.3145 | test_r2 0.9541 \n"
     ]
    },
    {
     "name": "stderr",
     "output_type": "stream",
     "text": [
      "\r",
      " 55%|█████▍    | 545/1000 [08:26<07:01,  1.08it/s]"
     ]
    },
    {
     "name": "stdout",
     "output_type": "stream",
     "text": [
      "Epoch 00544 | Loss 30.5860 | train_RMSE 3.3794 | train_r2 0.9727 | test_RMSE 3.6164 | test_r2 0.9699 \n"
     ]
    },
    {
     "name": "stderr",
     "output_type": "stream",
     "text": [
      "\r",
      " 55%|█████▍    | 546/1000 [08:27<06:59,  1.08it/s]"
     ]
    },
    {
     "name": "stdout",
     "output_type": "stream",
     "text": [
      "Epoch 00545 | Loss 25.7121 | train_RMSE 3.2487 | train_r2 0.9745 | test_RMSE 3.4779 | test_r2 0.9719 \n"
     ]
    },
    {
     "name": "stderr",
     "output_type": "stream",
     "text": [
      "\r",
      " 55%|█████▍    | 547/1000 [08:28<06:59,  1.08it/s]"
     ]
    },
    {
     "name": "stdout",
     "output_type": "stream",
     "text": [
      "Epoch 00546 | Loss 24.0287 | train_RMSE 3.8322 | train_r2 0.9634 | test_RMSE 3.9377 | test_r2 0.9626 \n"
     ]
    },
    {
     "name": "stderr",
     "output_type": "stream",
     "text": [
      "\r",
      " 55%|█████▍    | 548/1000 [08:29<07:01,  1.07it/s]"
     ]
    },
    {
     "name": "stdout",
     "output_type": "stream",
     "text": [
      "Epoch 00547 | Loss 26.5912 | train_RMSE 3.8099 | train_r2 0.9662 | test_RMSE 4.0598 | test_r2 0.9630 \n"
     ]
    },
    {
     "name": "stderr",
     "output_type": "stream",
     "text": [
      "\r",
      " 55%|█████▍    | 549/1000 [08:30<07:14,  1.04it/s]"
     ]
    },
    {
     "name": "stdout",
     "output_type": "stream",
     "text": [
      "Epoch 00548 | Loss 28.5911 | train_RMSE 4.1655 | train_r2 0.9575 | test_RMSE 4.1775 | test_r2 0.9586 \n"
     ]
    },
    {
     "name": "stderr",
     "output_type": "stream",
     "text": [
      "\r",
      " 55%|█████▌    | 550/1000 [08:31<07:18,  1.03it/s]"
     ]
    },
    {
     "name": "stdout",
     "output_type": "stream",
     "text": [
      "Epoch 00549 | Loss 29.8884 | train_RMSE 3.6778 | train_r2 0.9686 | test_RMSE 3.9452 | test_r2 0.9650 \n"
     ]
    },
    {
     "name": "stderr",
     "output_type": "stream",
     "text": [
      "\r",
      " 55%|█████▌    | 551/1000 [08:32<07:21,  1.02it/s]"
     ]
    },
    {
     "name": "stdout",
     "output_type": "stream",
     "text": [
      "Epoch 00550 | Loss 28.0683 | train_RMSE 3.6446 | train_r2 0.9665 | test_RMSE 3.8074 | test_r2 0.9646 \n"
     ]
    },
    {
     "name": "stderr",
     "output_type": "stream",
     "text": [
      "\r",
      " 55%|█████▌    | 552/1000 [08:33<07:16,  1.03it/s]"
     ]
    },
    {
     "name": "stdout",
     "output_type": "stream",
     "text": [
      "Epoch 00551 | Loss 26.6325 | train_RMSE 3.3535 | train_r2 0.9723 | test_RMSE 3.6171 | test_r2 0.9689 \n"
     ]
    },
    {
     "name": "stderr",
     "output_type": "stream",
     "text": [
      "\r",
      " 55%|█████▌    | 553/1000 [08:34<07:14,  1.03it/s]"
     ]
    },
    {
     "name": "stdout",
     "output_type": "stream",
     "text": [
      "Epoch 00552 | Loss 24.5688 | train_RMSE 3.2661 | train_r2 0.9738 | test_RMSE 3.5253 | test_r2 0.9706 \n"
     ]
    },
    {
     "name": "stderr",
     "output_type": "stream",
     "text": [
      "\r",
      " 55%|█████▌    | 554/1000 [08:35<07:10,  1.04it/s]"
     ]
    },
    {
     "name": "stdout",
     "output_type": "stream",
     "text": [
      "Epoch 00553 | Loss 23.9044 | train_RMSE 3.6040 | train_r2 0.9679 | test_RMSE 3.7971 | test_r2 0.9655 \n"
     ]
    },
    {
     "name": "stderr",
     "output_type": "stream",
     "text": [
      "\r",
      " 56%|█████▌    | 555/1000 [08:36<07:18,  1.01it/s]"
     ]
    },
    {
     "name": "stdout",
     "output_type": "stream",
     "text": [
      "Epoch 00554 | Loss 25.2544 | train_RMSE 3.6122 | train_r2 0.9699 | test_RMSE 3.8982 | test_r2 0.9660 \n"
     ]
    },
    {
     "name": "stderr",
     "output_type": "stream",
     "text": [
      "\r",
      " 56%|█████▌    | 556/1000 [08:37<07:12,  1.03it/s]"
     ]
    },
    {
     "name": "stdout",
     "output_type": "stream",
     "text": [
      "Epoch 00555 | Loss 26.5019 | train_RMSE 3.5758 | train_r2 0.9692 | test_RMSE 3.8225 | test_r2 0.9658 \n"
     ]
    },
    {
     "name": "stderr",
     "output_type": "stream",
     "text": [
      "\r",
      " 56%|█████▌    | 557/1000 [08:38<07:17,  1.01it/s]"
     ]
    },
    {
     "name": "stdout",
     "output_type": "stream",
     "text": [
      "Epoch 00556 | Loss 26.0251 | train_RMSE 3.2711 | train_r2 0.9746 | test_RMSE 3.5117 | test_r2 0.9717 \n"
     ]
    },
    {
     "name": "stderr",
     "output_type": "stream",
     "text": [
      "\r",
      " 56%|█████▌    | 558/1000 [08:39<07:12,  1.02it/s]"
     ]
    },
    {
     "name": "stdout",
     "output_type": "stream",
     "text": [
      "Epoch 00557 | Loss 25.2563 | train_RMSE 3.2402 | train_r2 0.9743 | test_RMSE 3.4537 | test_r2 0.9718 \n"
     ]
    },
    {
     "name": "stderr",
     "output_type": "stream",
     "text": [
      "\r",
      " 56%|█████▌    | 559/1000 [08:39<07:04,  1.04it/s]"
     ]
    },
    {
     "name": "stdout",
     "output_type": "stream",
     "text": [
      "Epoch 00558 | Loss 23.5432 | train_RMSE 3.3019 | train_r2 0.9729 | test_RMSE 3.4785 | test_r2 0.9709 \n"
     ]
    },
    {
     "name": "stderr",
     "output_type": "stream",
     "text": [
      "\r",
      " 56%|█████▌    | 560/1000 [08:40<06:57,  1.05it/s]"
     ]
    },
    {
     "name": "stdout",
     "output_type": "stream",
     "text": [
      "Epoch 00559 | Loss 24.2369 | train_RMSE 3.2802 | train_r2 0.9744 | test_RMSE 3.4928 | test_r2 0.9720 \n"
     ]
    },
    {
     "name": "stderr",
     "output_type": "stream",
     "text": [
      "\r",
      " 56%|█████▌    | 561/1000 [08:41<06:55,  1.06it/s]"
     ]
    },
    {
     "name": "stdout",
     "output_type": "stream",
     "text": [
      "Epoch 00560 | Loss 23.9365 | train_RMSE 3.7404 | train_r2 0.9659 | test_RMSE 3.8050 | test_r2 0.9660 \n"
     ]
    },
    {
     "name": "stderr",
     "output_type": "stream",
     "text": [
      "\r",
      " 56%|█████▌    | 562/1000 [08:42<06:55,  1.05it/s]"
     ]
    },
    {
     "name": "stdout",
     "output_type": "stream",
     "text": [
      "Epoch 00561 | Loss 26.5815 | train_RMSE 3.6954 | train_r2 0.9684 | test_RMSE 3.9120 | test_r2 0.9659 \n"
     ]
    },
    {
     "name": "stderr",
     "output_type": "stream",
     "text": [
      "\r",
      " 56%|█████▋    | 563/1000 [08:43<06:52,  1.06it/s]"
     ]
    },
    {
     "name": "stdout",
     "output_type": "stream",
     "text": [
      "Epoch 00562 | Loss 27.7325 | train_RMSE 3.8689 | train_r2 0.9624 | test_RMSE 3.9810 | test_r2 0.9614 \n"
     ]
    },
    {
     "name": "stderr",
     "output_type": "stream",
     "text": [
      "\r",
      " 56%|█████▋    | 564/1000 [08:44<06:52,  1.06it/s]"
     ]
    },
    {
     "name": "stdout",
     "output_type": "stream",
     "text": [
      "Epoch 00563 | Loss 28.7000 | train_RMSE 3.5835 | train_r2 0.9691 | test_RMSE 3.7850 | test_r2 0.9665 \n"
     ]
    },
    {
     "name": "stderr",
     "output_type": "stream",
     "text": [
      "\r",
      " 56%|█████▋    | 565/1000 [08:45<06:49,  1.06it/s]"
     ]
    },
    {
     "name": "stdout",
     "output_type": "stream",
     "text": [
      "Epoch 00564 | Loss 26.5440 | train_RMSE 3.4215 | train_r2 0.9709 | test_RMSE 3.6219 | test_r2 0.9682 \n"
     ]
    },
    {
     "name": "stderr",
     "output_type": "stream",
     "text": [
      "\r",
      " 57%|█████▋    | 566/1000 [08:46<06:46,  1.07it/s]"
     ]
    },
    {
     "name": "stdout",
     "output_type": "stream",
     "text": [
      "Epoch 00565 | Loss 24.8850 | train_RMSE 3.2473 | train_r2 0.9749 | test_RMSE 3.4868 | test_r2 0.9718 \n"
     ]
    },
    {
     "name": "stderr",
     "output_type": "stream",
     "text": [
      "\r",
      " 57%|█████▋    | 567/1000 [08:47<06:45,  1.07it/s]"
     ]
    },
    {
     "name": "stdout",
     "output_type": "stream",
     "text": [
      "Epoch 00566 | Loss 24.0545 | train_RMSE 3.2454 | train_r2 0.9752 | test_RMSE 3.5206 | test_r2 0.9717 \n"
     ]
    },
    {
     "name": "stderr",
     "output_type": "stream",
     "text": [
      "\r",
      " 57%|█████▋    | 568/1000 [08:48<06:43,  1.07it/s]"
     ]
    },
    {
     "name": "stdout",
     "output_type": "stream",
     "text": [
      "Epoch 00567 | Loss 24.0945 | train_RMSE 3.5908 | train_r2 0.9681 | test_RMSE 3.7413 | test_r2 0.9665 \n"
     ]
    },
    {
     "name": "stderr",
     "output_type": "stream",
     "text": [
      "\r",
      " 57%|█████▋    | 569/1000 [08:49<06:40,  1.08it/s]"
     ]
    },
    {
     "name": "stdout",
     "output_type": "stream",
     "text": [
      "Epoch 00568 | Loss 25.2652 | train_RMSE 3.6258 | train_r2 0.9687 | test_RMSE 3.8820 | test_r2 0.9655 \n"
     ]
    },
    {
     "name": "stderr",
     "output_type": "stream",
     "text": [
      "\r",
      " 57%|█████▋    | 570/1000 [08:50<06:41,  1.07it/s]"
     ]
    },
    {
     "name": "stdout",
     "output_type": "stream",
     "text": [
      "Epoch 00569 | Loss 26.7795 | train_RMSE 3.7022 | train_r2 0.9658 | test_RMSE 3.8163 | test_r2 0.9649 \n"
     ]
    },
    {
     "name": "stderr",
     "output_type": "stream",
     "text": [
      "\r",
      " 57%|█████▋    | 571/1000 [08:51<06:45,  1.06it/s]"
     ]
    },
    {
     "name": "stdout",
     "output_type": "stream",
     "text": [
      "Epoch 00570 | Loss 25.5897 | train_RMSE 3.4215 | train_r2 0.9723 | test_RMSE 3.6648 | test_r2 0.9693 \n"
     ]
    },
    {
     "name": "stderr",
     "output_type": "stream",
     "text": [
      "\r",
      " 57%|█████▋    | 572/1000 [08:52<06:46,  1.05it/s]"
     ]
    },
    {
     "name": "stdout",
     "output_type": "stream",
     "text": [
      "Epoch 00571 | Loss 24.5430 | train_RMSE 3.3604 | train_r2 0.9726 | test_RMSE 3.5489 | test_r2 0.9704 \n"
     ]
    },
    {
     "name": "stderr",
     "output_type": "stream",
     "text": [
      "\r",
      " 57%|█████▋    | 573/1000 [08:53<06:44,  1.06it/s]"
     ]
    },
    {
     "name": "stdout",
     "output_type": "stream",
     "text": [
      "Epoch 00572 | Loss 24.0239 | train_RMSE 3.1993 | train_r2 0.9753 | test_RMSE 3.4204 | test_r2 0.9727 \n"
     ]
    },
    {
     "name": "stderr",
     "output_type": "stream",
     "text": [
      "\r",
      " 57%|█████▋    | 574/1000 [08:54<06:44,  1.05it/s]"
     ]
    },
    {
     "name": "stdout",
     "output_type": "stream",
     "text": [
      "Epoch 00573 | Loss 22.7498 | train_RMSE 3.2005 | train_r2 0.9754 | test_RMSE 3.4488 | test_r2 0.9723 \n"
     ]
    },
    {
     "name": "stderr",
     "output_type": "stream",
     "text": [
      "\r",
      " 57%|█████▊    | 575/1000 [08:55<06:43,  1.05it/s]"
     ]
    },
    {
     "name": "stdout",
     "output_type": "stream",
     "text": [
      "Epoch 00574 | Loss 23.9275 | train_RMSE 3.5412 | train_r2 0.9686 | test_RMSE 3.6911 | test_r2 0.9670 \n"
     ]
    },
    {
     "name": "stderr",
     "output_type": "stream",
     "text": [
      "\r",
      " 58%|█████▊    | 576/1000 [08:56<06:42,  1.05it/s]"
     ]
    },
    {
     "name": "stdout",
     "output_type": "stream",
     "text": [
      "Epoch 00575 | Loss 25.3073 | train_RMSE 3.5496 | train_r2 0.9700 | test_RMSE 3.7961 | test_r2 0.9669 \n"
     ]
    },
    {
     "name": "stderr",
     "output_type": "stream",
     "text": [
      "\r",
      " 58%|█████▊    | 577/1000 [08:57<06:51,  1.03it/s]"
     ]
    },
    {
     "name": "stdout",
     "output_type": "stream",
     "text": [
      "Epoch 00576 | Loss 25.5805 | train_RMSE 3.6760 | train_r2 0.9667 | test_RMSE 3.7333 | test_r2 0.9669 \n"
     ]
    },
    {
     "name": "stderr",
     "output_type": "stream",
     "text": [
      "\r",
      " 58%|█████▊    | 578/1000 [08:57<06:44,  1.04it/s]"
     ]
    },
    {
     "name": "stdout",
     "output_type": "stream",
     "text": [
      "Epoch 00577 | Loss 26.7248 | train_RMSE 3.5044 | train_r2 0.9712 | test_RMSE 3.7387 | test_r2 0.9684 \n"
     ]
    },
    {
     "name": "stderr",
     "output_type": "stream",
     "text": [
      "\r",
      " 58%|█████▊    | 579/1000 [08:58<06:38,  1.06it/s]"
     ]
    },
    {
     "name": "stdout",
     "output_type": "stream",
     "text": [
      "Epoch 00578 | Loss 25.8544 | train_RMSE 3.6191 | train_r2 0.9676 | test_RMSE 3.7386 | test_r2 0.9665 \n"
     ]
    },
    {
     "name": "stderr",
     "output_type": "stream",
     "text": [
      "\r",
      " 58%|█████▊    | 580/1000 [08:59<06:34,  1.07it/s]"
     ]
    },
    {
     "name": "stdout",
     "output_type": "stream",
     "text": [
      "Epoch 00579 | Loss 25.9759 | train_RMSE 3.3857 | train_r2 0.9729 | test_RMSE 3.6104 | test_r2 0.9700 \n"
     ]
    },
    {
     "name": "stderr",
     "output_type": "stream",
     "text": [
      "\r",
      " 58%|█████▊    | 581/1000 [09:00<06:32,  1.07it/s]"
     ]
    },
    {
     "name": "stdout",
     "output_type": "stream",
     "text": [
      "Epoch 00580 | Loss 25.1642 | train_RMSE 3.3807 | train_r2 0.9721 | test_RMSE 3.5803 | test_r2 0.9695 \n"
     ]
    },
    {
     "name": "stderr",
     "output_type": "stream",
     "text": [
      "\r",
      " 58%|█████▊    | 582/1000 [09:01<06:30,  1.07it/s]"
     ]
    },
    {
     "name": "stdout",
     "output_type": "stream",
     "text": [
      "Epoch 00581 | Loss 24.4389 | train_RMSE 3.1845 | train_r2 0.9755 | test_RMSE 3.4304 | test_r2 0.9726 \n"
     ]
    },
    {
     "name": "stderr",
     "output_type": "stream",
     "text": [
      "\r",
      " 58%|█████▊    | 583/1000 [09:02<06:30,  1.07it/s]"
     ]
    },
    {
     "name": "stdout",
     "output_type": "stream",
     "text": [
      "Epoch 00582 | Loss 22.9926 | train_RMSE 3.2001 | train_r2 0.9752 | test_RMSE 3.4538 | test_r2 0.9722 \n"
     ]
    },
    {
     "name": "stderr",
     "output_type": "stream",
     "text": [
      "\r",
      " 58%|█████▊    | 584/1000 [09:03<06:39,  1.04it/s]"
     ]
    },
    {
     "name": "stdout",
     "output_type": "stream",
     "text": [
      "Epoch 00583 | Loss 23.6864 | train_RMSE 3.3356 | train_r2 0.9727 | test_RMSE 3.5469 | test_r2 0.9702 \n"
     ]
    },
    {
     "name": "stderr",
     "output_type": "stream",
     "text": [
      "\r",
      " 58%|█████▊    | 585/1000 [09:04<06:38,  1.04it/s]"
     ]
    },
    {
     "name": "stdout",
     "output_type": "stream",
     "text": [
      "Epoch 00584 | Loss 24.4911 | train_RMSE 3.2933 | train_r2 0.9741 | test_RMSE 3.5847 | test_r2 0.9701 \n"
     ]
    },
    {
     "name": "stderr",
     "output_type": "stream",
     "text": [
      "\r",
      " 59%|█████▊    | 586/1000 [09:05<06:36,  1.04it/s]"
     ]
    },
    {
     "name": "stdout",
     "output_type": "stream",
     "text": [
      "Epoch 00585 | Loss 24.4830 | train_RMSE 3.4186 | train_r2 0.9706 | test_RMSE 3.6954 | test_r2 0.9665 \n"
     ]
    },
    {
     "name": "stderr",
     "output_type": "stream",
     "text": [
      "\r",
      " 59%|█████▊    | 587/1000 [09:06<06:38,  1.04it/s]"
     ]
    },
    {
     "name": "stdout",
     "output_type": "stream",
     "text": [
      "Epoch 00586 | Loss 24.8176 | train_RMSE 3.2466 | train_r2 0.9741 | test_RMSE 3.5172 | test_r2 0.9704 \n"
     ]
    },
    {
     "name": "stderr",
     "output_type": "stream",
     "text": [
      "\r",
      " 59%|█████▉    | 588/1000 [09:07<06:36,  1.04it/s]"
     ]
    },
    {
     "name": "stdout",
     "output_type": "stream",
     "text": [
      "Epoch 00587 | Loss 23.4507 | train_RMSE 3.1856 | train_r2 0.9754 | test_RMSE 3.4299 | test_r2 0.9723 \n"
     ]
    },
    {
     "name": "stderr",
     "output_type": "stream",
     "text": [
      "\r",
      " 59%|█████▉    | 589/1000 [09:08<06:44,  1.02it/s]"
     ]
    },
    {
     "name": "stdout",
     "output_type": "stream",
     "text": [
      "Epoch 00588 | Loss 23.1806 | train_RMSE 3.2446 | train_r2 0.9747 | test_RMSE 3.4777 | test_r2 0.9719 \n"
     ]
    },
    {
     "name": "stderr",
     "output_type": "stream",
     "text": [
      "\r",
      " 59%|█████▉    | 590/1000 [09:09<06:41,  1.02it/s]"
     ]
    },
    {
     "name": "stdout",
     "output_type": "stream",
     "text": [
      "Epoch 00589 | Loss 23.2370 | train_RMSE 3.2471 | train_r2 0.9753 | test_RMSE 3.5795 | test_r2 0.9710 \n"
     ]
    },
    {
     "name": "stderr",
     "output_type": "stream",
     "text": [
      "\r",
      " 59%|█████▉    | 591/1000 [09:10<06:35,  1.03it/s]"
     ]
    },
    {
     "name": "stdout",
     "output_type": "stream",
     "text": [
      "Epoch 00590 | Loss 23.9956 | train_RMSE 3.2708 | train_r2 0.9743 | test_RMSE 3.5601 | test_r2 0.9705 \n"
     ]
    },
    {
     "name": "stderr",
     "output_type": "stream",
     "text": [
      "\r",
      " 59%|█████▉    | 592/1000 [09:11<06:49,  1.00s/it]"
     ]
    },
    {
     "name": "stdout",
     "output_type": "stream",
     "text": [
      "Epoch 00591 | Loss 24.8936 | train_RMSE 3.2465 | train_r2 0.9751 | test_RMSE 3.5997 | test_r2 0.9701 \n"
     ]
    },
    {
     "name": "stderr",
     "output_type": "stream",
     "text": [
      "\r",
      " 59%|█████▉    | 593/1000 [09:12<06:49,  1.01s/it]"
     ]
    },
    {
     "name": "stdout",
     "output_type": "stream",
     "text": [
      "Epoch 00592 | Loss 23.8414 | train_RMSE 3.1752 | train_r2 0.9757 | test_RMSE 3.4831 | test_r2 0.9716 \n"
     ]
    },
    {
     "name": "stderr",
     "output_type": "stream",
     "text": [
      "\r",
      " 59%|█████▉    | 594/1000 [09:13<06:41,  1.01it/s]"
     ]
    },
    {
     "name": "stdout",
     "output_type": "stream",
     "text": [
      "Epoch 00593 | Loss 23.6232 | train_RMSE 3.1507 | train_r2 0.9762 | test_RMSE 3.4279 | test_r2 0.9726 \n"
     ]
    },
    {
     "name": "stderr",
     "output_type": "stream",
     "text": [
      "\r",
      " 60%|█████▉    | 595/1000 [09:14<06:35,  1.02it/s]"
     ]
    },
    {
     "name": "stdout",
     "output_type": "stream",
     "text": [
      "Epoch 00594 | Loss 22.7865 | train_RMSE 3.1489 | train_r2 0.9764 | test_RMSE 3.4421 | test_r2 0.9727 \n"
     ]
    },
    {
     "name": "stderr",
     "output_type": "stream",
     "text": [
      "\r",
      " 60%|█████▉    | 596/1000 [09:15<06:31,  1.03it/s]"
     ]
    },
    {
     "name": "stdout",
     "output_type": "stream",
     "text": [
      "Epoch 00595 | Loss 23.3153 | train_RMSE 3.2577 | train_r2 0.9739 | test_RMSE 3.5340 | test_r2 0.9703 \n"
     ]
    },
    {
     "name": "stderr",
     "output_type": "stream",
     "text": [
      "\r",
      " 60%|█████▉    | 597/1000 [09:16<06:27,  1.04it/s]"
     ]
    },
    {
     "name": "stdout",
     "output_type": "stream",
     "text": [
      "Epoch 00596 | Loss 23.5867 | train_RMSE 3.2856 | train_r2 0.9740 | test_RMSE 3.6430 | test_r2 0.9692 \n"
     ]
    },
    {
     "name": "stderr",
     "output_type": "stream",
     "text": [
      "\r",
      " 60%|█████▉    | 598/1000 [09:17<06:23,  1.05it/s]"
     ]
    },
    {
     "name": "stdout",
     "output_type": "stream",
     "text": [
      "Epoch 00597 | Loss 23.7867 | train_RMSE 3.2911 | train_r2 0.9734 | test_RMSE 3.6132 | test_r2 0.9690 \n"
     ]
    },
    {
     "name": "stderr",
     "output_type": "stream",
     "text": [
      "\r",
      " 60%|█████▉    | 599/1000 [09:18<06:17,  1.06it/s]"
     ]
    },
    {
     "name": "stdout",
     "output_type": "stream",
     "text": [
      "Epoch 00598 | Loss 24.9513 | train_RMSE 3.1897 | train_r2 0.9755 | test_RMSE 3.5007 | test_r2 0.9714 \n"
     ]
    },
    {
     "name": "stderr",
     "output_type": "stream",
     "text": [
      "\r",
      " 60%|██████    | 600/1000 [09:19<06:16,  1.06it/s]"
     ]
    },
    {
     "name": "stdout",
     "output_type": "stream",
     "text": [
      "Epoch 00599 | Loss 24.2925 | train_RMSE 3.1561 | train_r2 0.9759 | test_RMSE 3.4065 | test_r2 0.9727 \n"
     ]
    },
    {
     "name": "stderr",
     "output_type": "stream",
     "text": [
      "\r",
      " 60%|██████    | 601/1000 [09:20<06:19,  1.05it/s]"
     ]
    },
    {
     "name": "stdout",
     "output_type": "stream",
     "text": [
      "Epoch 00600 | Loss 22.4504 | train_RMSE 3.1361 | train_r2 0.9766 | test_RMSE 3.3974 | test_r2 0.9732 \n"
     ]
    },
    {
     "name": "stderr",
     "output_type": "stream",
     "text": [
      "\r",
      " 60%|██████    | 602/1000 [09:21<06:17,  1.06it/s]"
     ]
    },
    {
     "name": "stdout",
     "output_type": "stream",
     "text": [
      "Epoch 00601 | Loss 22.7683 | train_RMSE 3.1636 | train_r2 0.9760 | test_RMSE 3.4060 | test_r2 0.9729 \n"
     ]
    },
    {
     "name": "stderr",
     "output_type": "stream",
     "text": [
      "\r",
      " 60%|██████    | 603/1000 [09:21<06:13,  1.06it/s]"
     ]
    },
    {
     "name": "stdout",
     "output_type": "stream",
     "text": [
      "Epoch 00602 | Loss 23.6453 | train_RMSE 3.1643 | train_r2 0.9760 | test_RMSE 3.4351 | test_r2 0.9726 \n"
     ]
    },
    {
     "name": "stderr",
     "output_type": "stream",
     "text": [
      "\r",
      " 60%|██████    | 604/1000 [09:22<06:09,  1.07it/s]"
     ]
    },
    {
     "name": "stdout",
     "output_type": "stream",
     "text": [
      "Epoch 00603 | Loss 22.4132 | train_RMSE 3.2013 | train_r2 0.9752 | test_RMSE 3.4641 | test_r2 0.9719 \n"
     ]
    },
    {
     "name": "stderr",
     "output_type": "stream",
     "text": [
      "\r",
      " 60%|██████    | 605/1000 [09:23<06:09,  1.07it/s]"
     ]
    },
    {
     "name": "stdout",
     "output_type": "stream",
     "text": [
      "Epoch 00604 | Loss 23.3336 | train_RMSE 3.1552 | train_r2 0.9762 | test_RMSE 3.4623 | test_r2 0.9723 \n"
     ]
    },
    {
     "name": "stderr",
     "output_type": "stream",
     "text": [
      "\r",
      " 61%|██████    | 606/1000 [09:24<06:07,  1.07it/s]"
     ]
    },
    {
     "name": "stdout",
     "output_type": "stream",
     "text": [
      "Epoch 00605 | Loss 22.4165 | train_RMSE 3.1877 | train_r2 0.9756 | test_RMSE 3.4578 | test_r2 0.9720 \n"
     ]
    },
    {
     "name": "stderr",
     "output_type": "stream",
     "text": [
      "\r",
      " 61%|██████    | 607/1000 [09:25<06:09,  1.06it/s]"
     ]
    },
    {
     "name": "stdout",
     "output_type": "stream",
     "text": [
      "Epoch 00606 | Loss 23.2231 | train_RMSE 3.1384 | train_r2 0.9764 | test_RMSE 3.4145 | test_r2 0.9728 \n"
     ]
    },
    {
     "name": "stderr",
     "output_type": "stream",
     "text": [
      "\r",
      " 61%|██████    | 608/1000 [09:26<06:08,  1.06it/s]"
     ]
    },
    {
     "name": "stdout",
     "output_type": "stream",
     "text": [
      "Epoch 00607 | Loss 23.0410 | train_RMSE 3.1399 | train_r2 0.9762 | test_RMSE 3.4449 | test_r2 0.9720 \n"
     ]
    },
    {
     "name": "stderr",
     "output_type": "stream",
     "text": [
      "\r",
      " 61%|██████    | 609/1000 [09:27<06:13,  1.05it/s]"
     ]
    },
    {
     "name": "stdout",
     "output_type": "stream",
     "text": [
      "Epoch 00608 | Loss 23.0690 | train_RMSE 3.1629 | train_r2 0.9757 | test_RMSE 3.4503 | test_r2 0.9718 \n"
     ]
    },
    {
     "name": "stderr",
     "output_type": "stream",
     "text": [
      "\r",
      " 61%|██████    | 610/1000 [09:28<06:18,  1.03it/s]"
     ]
    },
    {
     "name": "stdout",
     "output_type": "stream",
     "text": [
      "Epoch 00609 | Loss 23.8698 | train_RMSE 3.1410 | train_r2 0.9761 | test_RMSE 3.4242 | test_r2 0.9724 \n"
     ]
    },
    {
     "name": "stderr",
     "output_type": "stream",
     "text": [
      "\r",
      " 61%|██████    | 611/1000 [09:29<06:16,  1.03it/s]"
     ]
    },
    {
     "name": "stdout",
     "output_type": "stream",
     "text": [
      "Epoch 00610 | Loss 24.0297 | train_RMSE 3.1183 | train_r2 0.9768 | test_RMSE 3.4113 | test_r2 0.9731 \n"
     ]
    },
    {
     "name": "stderr",
     "output_type": "stream",
     "text": [
      "\r",
      " 61%|██████    | 612/1000 [09:30<06:19,  1.02it/s]"
     ]
    },
    {
     "name": "stdout",
     "output_type": "stream",
     "text": [
      "Epoch 00611 | Loss 23.4218 | train_RMSE 3.2228 | train_r2 0.9750 | test_RMSE 3.4793 | test_r2 0.9719 \n"
     ]
    },
    {
     "name": "stderr",
     "output_type": "stream",
     "text": [
      "\r",
      " 61%|██████▏   | 613/1000 [09:31<06:15,  1.03it/s]"
     ]
    },
    {
     "name": "stdout",
     "output_type": "stream",
     "text": [
      "Epoch 00612 | Loss 23.7278 | train_RMSE 3.3049 | train_r2 0.9735 | test_RMSE 3.5842 | test_r2 0.9699 \n"
     ]
    },
    {
     "name": "stderr",
     "output_type": "stream",
     "text": [
      "\r",
      " 61%|██████▏   | 614/1000 [09:32<06:09,  1.04it/s]"
     ]
    },
    {
     "name": "stdout",
     "output_type": "stream",
     "text": [
      "Epoch 00613 | Loss 25.2326 | train_RMSE 3.7392 | train_r2 0.9645 | test_RMSE 3.8961 | test_r2 0.9626 \n"
     ]
    },
    {
     "name": "stderr",
     "output_type": "stream",
     "text": [
      "\r",
      " 62%|██████▏   | 615/1000 [09:33<06:06,  1.05it/s]"
     ]
    },
    {
     "name": "stdout",
     "output_type": "stream",
     "text": [
      "Epoch 00614 | Loss 26.1599 | train_RMSE 3.5573 | train_r2 0.9701 | test_RMSE 3.7946 | test_r2 0.9671 \n"
     ]
    },
    {
     "name": "stderr",
     "output_type": "stream",
     "text": [
      "\r",
      " 62%|██████▏   | 616/1000 [09:34<06:04,  1.05it/s]"
     ]
    },
    {
     "name": "stdout",
     "output_type": "stream",
     "text": [
      "Epoch 00615 | Loss 26.7039 | train_RMSE 3.5559 | train_r2 0.9699 | test_RMSE 3.7016 | test_r2 0.9683 \n"
     ]
    },
    {
     "name": "stderr",
     "output_type": "stream",
     "text": [
      "\r",
      " 62%|██████▏   | 617/1000 [09:35<06:00,  1.06it/s]"
     ]
    },
    {
     "name": "stdout",
     "output_type": "stream",
     "text": [
      "Epoch 00616 | Loss 24.8238 | train_RMSE 3.2841 | train_r2 0.9752 | test_RMSE 3.5589 | test_r2 0.9717 \n"
     ]
    },
    {
     "name": "stderr",
     "output_type": "stream",
     "text": [
      "\r",
      " 62%|██████▏   | 618/1000 [09:36<05:59,  1.06it/s]"
     ]
    },
    {
     "name": "stdout",
     "output_type": "stream",
     "text": [
      "Epoch 00617 | Loss 24.9835 | train_RMSE 3.4110 | train_r2 0.9713 | test_RMSE 3.6472 | test_r2 0.9681 \n"
     ]
    },
    {
     "name": "stderr",
     "output_type": "stream",
     "text": [
      "\r",
      " 62%|██████▏   | 619/1000 [09:37<05:59,  1.06it/s]"
     ]
    },
    {
     "name": "stdout",
     "output_type": "stream",
     "text": [
      "Epoch 00618 | Loss 25.3445 | train_RMSE 3.5679 | train_r2 0.9688 | test_RMSE 3.7974 | test_r2 0.9658 \n"
     ]
    },
    {
     "name": "stderr",
     "output_type": "stream",
     "text": [
      "\r",
      " 62%|██████▏   | 620/1000 [09:38<06:04,  1.04it/s]"
     ]
    },
    {
     "name": "stdout",
     "output_type": "stream",
     "text": [
      "Epoch 00619 | Loss 26.3813 | train_RMSE 3.8317 | train_r2 0.9623 | test_RMSE 3.9706 | test_r2 0.9609 \n"
     ]
    },
    {
     "name": "stderr",
     "output_type": "stream",
     "text": [
      "\r",
      " 62%|██████▏   | 621/1000 [09:39<06:03,  1.04it/s]"
     ]
    },
    {
     "name": "stdout",
     "output_type": "stream",
     "text": [
      "Epoch 00620 | Loss 26.8223 | train_RMSE 3.4186 | train_r2 0.9726 | test_RMSE 3.7087 | test_r2 0.9688 \n"
     ]
    },
    {
     "name": "stderr",
     "output_type": "stream",
     "text": [
      "\r",
      " 62%|██████▏   | 622/1000 [09:40<06:02,  1.04it/s]"
     ]
    },
    {
     "name": "stdout",
     "output_type": "stream",
     "text": [
      "Epoch 00621 | Loss 25.8256 | train_RMSE 3.3232 | train_r2 0.9741 | test_RMSE 3.5978 | test_r2 0.9704 \n"
     ]
    },
    {
     "name": "stderr",
     "output_type": "stream",
     "text": [
      "\r",
      " 62%|██████▏   | 623/1000 [09:40<05:56,  1.06it/s]"
     ]
    },
    {
     "name": "stdout",
     "output_type": "stream",
     "text": [
      "Epoch 00622 | Loss 24.7823 | train_RMSE 3.1391 | train_r2 0.9771 | test_RMSE 3.4568 | test_r2 0.9729 \n"
     ]
    },
    {
     "name": "stderr",
     "output_type": "stream",
     "text": [
      "\r",
      " 62%|██████▏   | 624/1000 [09:41<05:54,  1.06it/s]"
     ]
    },
    {
     "name": "stdout",
     "output_type": "stream",
     "text": [
      "Epoch 00623 | Loss 22.9356 | train_RMSE 3.1707 | train_r2 0.9757 | test_RMSE 3.4773 | test_r2 0.9715 \n"
     ]
    },
    {
     "name": "stderr",
     "output_type": "stream",
     "text": [
      "\r",
      " 62%|██████▎   | 625/1000 [09:42<05:58,  1.05it/s]"
     ]
    },
    {
     "name": "stdout",
     "output_type": "stream",
     "text": [
      "Epoch 00624 | Loss 23.6674 | train_RMSE 3.4050 | train_r2 0.9706 | test_RMSE 3.6351 | test_r2 0.9673 \n"
     ]
    },
    {
     "name": "stderr",
     "output_type": "stream",
     "text": [
      "\r",
      " 63%|██████▎   | 626/1000 [09:43<05:53,  1.06it/s]"
     ]
    },
    {
     "name": "stdout",
     "output_type": "stream",
     "text": [
      "Epoch 00625 | Loss 24.2161 | train_RMSE 3.5135 | train_r2 0.9701 | test_RMSE 3.7337 | test_r2 0.9672 \n"
     ]
    },
    {
     "name": "stderr",
     "output_type": "stream",
     "text": [
      "\r",
      " 63%|██████▎   | 627/1000 [09:44<05:53,  1.06it/s]"
     ]
    },
    {
     "name": "stdout",
     "output_type": "stream",
     "text": [
      "Epoch 00626 | Loss 25.4647 | train_RMSE 4.0040 | train_r2 0.9602 | test_RMSE 4.1095 | test_r2 0.9592 \n"
     ]
    },
    {
     "name": "stderr",
     "output_type": "stream",
     "text": [
      "\r",
      " 63%|██████▎   | 628/1000 [09:45<05:51,  1.06it/s]"
     ]
    },
    {
     "name": "stdout",
     "output_type": "stream",
     "text": [
      "Epoch 00627 | Loss 28.1000 | train_RMSE 4.3253 | train_r2 0.9582 | test_RMSE 4.6676 | test_r2 0.9530 \n"
     ]
    },
    {
     "name": "stderr",
     "output_type": "stream",
     "text": [
      "\r",
      " 63%|██████▎   | 629/1000 [09:46<05:46,  1.07it/s]"
     ]
    },
    {
     "name": "stdout",
     "output_type": "stream",
     "text": [
      "Epoch 00628 | Loss 32.3957 | train_RMSE 5.0245 | train_r2 0.9360 | test_RMSE 5.1226 | test_r2 0.9351 \n"
     ]
    },
    {
     "name": "stderr",
     "output_type": "stream",
     "text": [
      "\r",
      " 63%|██████▎   | 630/1000 [09:47<05:43,  1.08it/s]"
     ]
    },
    {
     "name": "stdout",
     "output_type": "stream",
     "text": [
      "Epoch 00629 | Loss 37.5320 | train_RMSE 4.9402 | train_r2 0.9423 | test_RMSE 5.0940 | test_r2 0.9405 \n"
     ]
    },
    {
     "name": "stderr",
     "output_type": "stream",
     "text": [
      "\r",
      " 63%|██████▎   | 631/1000 [09:48<05:54,  1.04it/s]"
     ]
    },
    {
     "name": "stdout",
     "output_type": "stream",
     "text": [
      "Epoch 00630 | Loss 37.9406 | train_RMSE 5.2076 | train_r2 0.9273 | test_RMSE 5.2483 | test_r2 0.9281 \n"
     ]
    },
    {
     "name": "stderr",
     "output_type": "stream",
     "text": [
      "\r",
      " 63%|██████▎   | 632/1000 [09:49<05:54,  1.04it/s]"
     ]
    },
    {
     "name": "stdout",
     "output_type": "stream",
     "text": [
      "Epoch 00631 | Loss 38.8607 | train_RMSE 4.4278 | train_r2 0.9543 | test_RMSE 4.5813 | test_r2 0.9528 \n"
     ]
    },
    {
     "name": "stderr",
     "output_type": "stream",
     "text": [
      "\r",
      " 63%|██████▎   | 633/1000 [09:50<05:52,  1.04it/s]"
     ]
    },
    {
     "name": "stdout",
     "output_type": "stream",
     "text": [
      "Epoch 00632 | Loss 33.3283 | train_RMSE 3.9873 | train_r2 0.9609 | test_RMSE 4.0926 | test_r2 0.9601 \n"
     ]
    },
    {
     "name": "stderr",
     "output_type": "stream",
     "text": [
      "\r",
      " 63%|██████▎   | 634/1000 [09:51<05:49,  1.05it/s]"
     ]
    },
    {
     "name": "stdout",
     "output_type": "stream",
     "text": [
      "Epoch 00633 | Loss 28.5192 | train_RMSE 3.4068 | train_r2 0.9736 | test_RMSE 3.7475 | test_r2 0.9690 \n"
     ]
    },
    {
     "name": "stderr",
     "output_type": "stream",
     "text": [
      "\r",
      " 64%|██████▎   | 635/1000 [09:52<05:48,  1.05it/s]"
     ]
    },
    {
     "name": "stdout",
     "output_type": "stream",
     "text": [
      "Epoch 00634 | Loss 23.8052 | train_RMSE 3.1726 | train_r2 0.9763 | test_RMSE 3.5189 | test_r2 0.9718 \n"
     ]
    },
    {
     "name": "stderr",
     "output_type": "stream",
     "text": [
      "\r",
      " 64%|██████▎   | 636/1000 [09:53<05:49,  1.04it/s]"
     ]
    },
    {
     "name": "stdout",
     "output_type": "stream",
     "text": [
      "Epoch 00635 | Loss 22.9077 | train_RMSE 3.5608 | train_r2 0.9688 | test_RMSE 3.7384 | test_r2 0.9668 \n"
     ]
    },
    {
     "name": "stderr",
     "output_type": "stream",
     "text": [
      "\r",
      " 64%|██████▎   | 637/1000 [09:54<05:59,  1.01it/s]"
     ]
    },
    {
     "name": "stdout",
     "output_type": "stream",
     "text": [
      "Epoch 00636 | Loss 25.2156 | train_RMSE 4.1795 | train_r2 0.9598 | test_RMSE 4.4415 | test_r2 0.9562 \n"
     ]
    },
    {
     "name": "stderr",
     "output_type": "stream",
     "text": [
      "\r",
      " 64%|██████▍   | 638/1000 [09:55<05:58,  1.01it/s]"
     ]
    },
    {
     "name": "stdout",
     "output_type": "stream",
     "text": [
      "Epoch 00637 | Loss 31.8798 | train_RMSE 5.2471 | train_r2 0.9290 | test_RMSE 5.2549 | test_r2 0.9307 \n"
     ]
    },
    {
     "name": "stderr",
     "output_type": "stream",
     "text": [
      "\r",
      " 64%|██████▍   | 639/1000 [09:56<05:51,  1.03it/s]"
     ]
    },
    {
     "name": "stdout",
     "output_type": "stream",
     "text": [
      "Epoch 00638 | Loss 40.3382 | train_RMSE 4.9301 | train_r2 0.9443 | test_RMSE 5.1167 | test_r2 0.9418 \n"
     ]
    },
    {
     "name": "stderr",
     "output_type": "stream",
     "text": [
      "\r",
      " 64%|██████▍   | 640/1000 [09:57<05:50,  1.03it/s]"
     ]
    },
    {
     "name": "stdout",
     "output_type": "stream",
     "text": [
      "Epoch 00639 | Loss 39.2885 | train_RMSE 4.9991 | train_r2 0.9357 | test_RMSE 5.1424 | test_r2 0.9335 \n"
     ]
    },
    {
     "name": "stderr",
     "output_type": "stream",
     "text": [
      "\r",
      " 64%|██████▍   | 641/1000 [09:58<05:46,  1.04it/s]"
     ]
    },
    {
     "name": "stdout",
     "output_type": "stream",
     "text": [
      "Epoch 00640 | Loss 37.2758 | train_RMSE 3.9287 | train_r2 0.9644 | test_RMSE 4.1813 | test_r2 0.9607 \n"
     ]
    },
    {
     "name": "stderr",
     "output_type": "stream",
     "text": [
      "\r",
      " 64%|██████▍   | 642/1000 [09:59<05:43,  1.04it/s]"
     ]
    },
    {
     "name": "stdout",
     "output_type": "stream",
     "text": [
      "Epoch 00641 | Loss 29.7441 | train_RMSE 3.4438 | train_r2 0.9709 | test_RMSE 3.6201 | test_r2 0.9688 \n"
     ]
    },
    {
     "name": "stderr",
     "output_type": "stream",
     "text": [
      "\r",
      " 64%|██████▍   | 643/1000 [10:00<05:41,  1.05it/s]"
     ]
    },
    {
     "name": "stdout",
     "output_type": "stream",
     "text": [
      "Epoch 00642 | Loss 24.2759 | train_RMSE 3.2470 | train_r2 0.9741 | test_RMSE 3.4127 | test_r2 0.9724 \n"
     ]
    },
    {
     "name": "stderr",
     "output_type": "stream",
     "text": [
      "\r",
      " 64%|██████▍   | 644/1000 [10:01<05:42,  1.04it/s]"
     ]
    },
    {
     "name": "stdout",
     "output_type": "stream",
     "text": [
      "Epoch 00643 | Loss 23.5587 | train_RMSE 3.9406 | train_r2 0.9636 | test_RMSE 4.2037 | test_r2 0.9601 \n"
     ]
    },
    {
     "name": "stderr",
     "output_type": "stream",
     "text": [
      "\r",
      " 64%|██████▍   | 645/1000 [10:02<05:42,  1.03it/s]"
     ]
    },
    {
     "name": "stdout",
     "output_type": "stream",
     "text": [
      "Epoch 00644 | Loss 28.3931 | train_RMSE 4.9989 | train_r2 0.9356 | test_RMSE 4.9667 | test_r2 0.9384 \n"
     ]
    },
    {
     "name": "stderr",
     "output_type": "stream",
     "text": [
      "\r",
      " 65%|██████▍   | 646/1000 [10:03<05:38,  1.05it/s]"
     ]
    },
    {
     "name": "stdout",
     "output_type": "stream",
     "text": [
      "Epoch 00645 | Loss 38.7019 | train_RMSE 4.9151 | train_r2 0.9453 | test_RMSE 5.1082 | test_r2 0.9427 \n"
     ]
    },
    {
     "name": "stderr",
     "output_type": "stream",
     "text": [
      "\r",
      " 65%|██████▍   | 647/1000 [10:04<05:41,  1.03it/s]"
     ]
    },
    {
     "name": "stdout",
     "output_type": "stream",
     "text": [
      "Epoch 00646 | Loss 38.4075 | train_RMSE 4.9154 | train_r2 0.9389 | test_RMSE 4.9331 | test_r2 0.9400 \n"
     ]
    },
    {
     "name": "stderr",
     "output_type": "stream",
     "text": [
      "\r",
      " 65%|██████▍   | 648/1000 [10:04<05:37,  1.04it/s]"
     ]
    },
    {
     "name": "stdout",
     "output_type": "stream",
     "text": [
      "Epoch 00647 | Loss 35.8996 | train_RMSE 3.5236 | train_r2 0.9710 | test_RMSE 3.7599 | test_r2 0.9679 \n"
     ]
    },
    {
     "name": "stderr",
     "output_type": "stream",
     "text": [
      "\r",
      " 65%|██████▍   | 649/1000 [10:05<05:34,  1.05it/s]"
     ]
    },
    {
     "name": "stdout",
     "output_type": "stream",
     "text": [
      "Epoch 00648 | Loss 25.0080 | train_RMSE 3.1369 | train_r2 0.9764 | test_RMSE 3.3486 | test_r2 0.9738 \n"
     ]
    },
    {
     "name": "stderr",
     "output_type": "stream",
     "text": [
      "\r",
      " 65%|██████▌   | 650/1000 [10:06<05:32,  1.05it/s]"
     ]
    },
    {
     "name": "stdout",
     "output_type": "stream",
     "text": [
      "Epoch 00649 | Loss 22.9082 | train_RMSE 4.0257 | train_r2 0.9593 | test_RMSE 4.1040 | test_r2 0.9587 \n"
     ]
    },
    {
     "name": "stderr",
     "output_type": "stream",
     "text": [
      "\r",
      " 65%|██████▌   | 651/1000 [10:07<05:27,  1.07it/s]"
     ]
    },
    {
     "name": "stdout",
     "output_type": "stream",
     "text": [
      "Epoch 00650 | Loss 28.8234 | train_RMSE 4.4533 | train_r2 0.9547 | test_RMSE 4.6155 | test_r2 0.9528 \n"
     ]
    },
    {
     "name": "stderr",
     "output_type": "stream",
     "text": [
      "\r",
      " 65%|██████▌   | 652/1000 [10:08<05:27,  1.06it/s]"
     ]
    },
    {
     "name": "stdout",
     "output_type": "stream",
     "text": [
      "Epoch 00651 | Loss 35.7459 | train_RMSE 5.5765 | train_r2 0.9215 | test_RMSE 5.5257 | test_r2 0.9248 \n"
     ]
    },
    {
     "name": "stderr",
     "output_type": "stream",
     "text": [
      "\r",
      " 65%|██████▌   | 653/1000 [10:09<05:24,  1.07it/s]"
     ]
    },
    {
     "name": "stdout",
     "output_type": "stream",
     "text": [
      "Epoch 00652 | Loss 42.4996 | train_RMSE 4.4150 | train_r2 0.9556 | test_RMSE 4.5905 | test_r2 0.9533 \n"
     ]
    },
    {
     "name": "stderr",
     "output_type": "stream",
     "text": [
      "\r",
      " 65%|██████▌   | 654/1000 [10:10<05:21,  1.08it/s]"
     ]
    },
    {
     "name": "stdout",
     "output_type": "stream",
     "text": [
      "Epoch 00653 | Loss 32.9783 | train_RMSE 3.4456 | train_r2 0.9699 | test_RMSE 3.6747 | test_r2 0.9666 \n"
     ]
    },
    {
     "name": "stderr",
     "output_type": "stream",
     "text": [
      "\r",
      " 66%|██████▌   | 655/1000 [10:11<05:18,  1.08it/s]"
     ]
    },
    {
     "name": "stdout",
     "output_type": "stream",
     "text": [
      "Epoch 00654 | Loss 24.7075 | train_RMSE 3.4031 | train_r2 0.9704 | test_RMSE 3.6092 | test_r2 0.9676 \n"
     ]
    },
    {
     "name": "stderr",
     "output_type": "stream",
     "text": [
      "\r",
      " 66%|██████▌   | 656/1000 [10:12<05:18,  1.08it/s]"
     ]
    },
    {
     "name": "stdout",
     "output_type": "stream",
     "text": [
      "Epoch 00655 | Loss 24.3030 | train_RMSE 3.7890 | train_r2 0.9656 | test_RMSE 3.9695 | test_r2 0.9636 \n"
     ]
    },
    {
     "name": "stderr",
     "output_type": "stream",
     "text": [
      "\r",
      " 66%|██████▌   | 657/1000 [10:13<05:25,  1.06it/s]"
     ]
    },
    {
     "name": "stdout",
     "output_type": "stream",
     "text": [
      "Epoch 00656 | Loss 28.4764 | train_RMSE 4.1960 | train_r2 0.9563 | test_RMSE 4.2134 | test_r2 0.9572 \n"
     ]
    },
    {
     "name": "stderr",
     "output_type": "stream",
     "text": [
      "\r",
      " 66%|██████▌   | 658/1000 [10:14<05:24,  1.05it/s]"
     ]
    },
    {
     "name": "stdout",
     "output_type": "stream",
     "text": [
      "Epoch 00657 | Loss 29.8530 | train_RMSE 3.4725 | train_r2 0.9728 | test_RMSE 3.8075 | test_r2 0.9683 \n"
     ]
    },
    {
     "name": "stderr",
     "output_type": "stream",
     "text": [
      "\r",
      " 66%|██████▌   | 659/1000 [10:15<05:30,  1.03it/s]"
     ]
    },
    {
     "name": "stdout",
     "output_type": "stream",
     "text": [
      "Epoch 00658 | Loss 25.9921 | train_RMSE 3.1549 | train_r2 0.9766 | test_RMSE 3.4303 | test_r2 0.9729 \n"
     ]
    },
    {
     "name": "stderr",
     "output_type": "stream",
     "text": [
      "\r",
      " 66%|██████▌   | 660/1000 [10:16<05:33,  1.02it/s]"
     ]
    },
    {
     "name": "stdout",
     "output_type": "stream",
     "text": [
      "Epoch 00659 | Loss 23.1329 | train_RMSE 3.3643 | train_r2 0.9717 | test_RMSE 3.6150 | test_r2 0.9682 \n"
     ]
    },
    {
     "name": "stderr",
     "output_type": "stream",
     "text": [
      "\r",
      " 66%|██████▌   | 661/1000 [10:17<05:30,  1.03it/s]"
     ]
    },
    {
     "name": "stdout",
     "output_type": "stream",
     "text": [
      "Epoch 00660 | Loss 23.5858 | train_RMSE 3.6375 | train_r2 0.9680 | test_RMSE 3.8689 | test_r2 0.9650 \n"
     ]
    },
    {
     "name": "stderr",
     "output_type": "stream",
     "text": [
      "\r",
      " 66%|██████▌   | 662/1000 [10:18<05:28,  1.03it/s]"
     ]
    },
    {
     "name": "stdout",
     "output_type": "stream",
     "text": [
      "Epoch 00661 | Loss 26.9917 | train_RMSE 4.0136 | train_r2 0.9597 | test_RMSE 4.0723 | test_r2 0.9597 \n"
     ]
    },
    {
     "name": "stderr",
     "output_type": "stream",
     "text": [
      "\r",
      " 66%|██████▋   | 663/1000 [10:19<05:29,  1.02it/s]"
     ]
    },
    {
     "name": "stdout",
     "output_type": "stream",
     "text": [
      "Epoch 00662 | Loss 28.7449 | train_RMSE 3.4611 | train_r2 0.9727 | test_RMSE 3.7550 | test_r2 0.9689 \n"
     ]
    },
    {
     "name": "stderr",
     "output_type": "stream",
     "text": [
      "\r",
      " 66%|██████▋   | 664/1000 [10:20<05:31,  1.01it/s]"
     ]
    },
    {
     "name": "stdout",
     "output_type": "stream",
     "text": [
      "Epoch 00663 | Loss 26.0917 | train_RMSE 3.1226 | train_r2 0.9767 | test_RMSE 3.4124 | test_r2 0.9731 \n"
     ]
    },
    {
     "name": "stderr",
     "output_type": "stream",
     "text": [
      "\r",
      " 66%|██████▋   | 665/1000 [10:21<05:30,  1.01it/s]"
     ]
    },
    {
     "name": "stdout",
     "output_type": "stream",
     "text": [
      "Epoch 00664 | Loss 22.9681 | train_RMSE 3.4068 | train_r2 0.9713 | test_RMSE 3.6702 | test_r2 0.9676 \n"
     ]
    },
    {
     "name": "stderr",
     "output_type": "stream",
     "text": [
      "\r",
      " 67%|██████▋   | 666/1000 [10:22<05:30,  1.01it/s]"
     ]
    },
    {
     "name": "stdout",
     "output_type": "stream",
     "text": [
      "Epoch 00665 | Loss 24.6799 | train_RMSE 3.7121 | train_r2 0.9676 | test_RMSE 3.9533 | test_r2 0.9643 \n"
     ]
    },
    {
     "name": "stderr",
     "output_type": "stream",
     "text": [
      "\r",
      " 67%|██████▋   | 667/1000 [10:23<05:27,  1.02it/s]"
     ]
    },
    {
     "name": "stdout",
     "output_type": "stream",
     "text": [
      "Epoch 00666 | Loss 29.2488 | train_RMSE 4.2042 | train_r2 0.9557 | test_RMSE 4.2145 | test_r2 0.9568 \n"
     ]
    },
    {
     "name": "stderr",
     "output_type": "stream",
     "text": [
      "\r",
      " 67%|██████▋   | 668/1000 [10:24<05:26,  1.02it/s]"
     ]
    },
    {
     "name": "stdout",
     "output_type": "stream",
     "text": [
      "Epoch 00667 | Loss 28.3489 | train_RMSE 3.5442 | train_r2 0.9706 | test_RMSE 3.8306 | test_r2 0.9669 \n"
     ]
    },
    {
     "name": "stderr",
     "output_type": "stream",
     "text": [
      "\r",
      " 67%|██████▋   | 669/1000 [10:25<05:21,  1.03it/s]"
     ]
    },
    {
     "name": "stdout",
     "output_type": "stream",
     "text": [
      "Epoch 00668 | Loss 26.5181 | train_RMSE 3.2715 | train_r2 0.9737 | test_RMSE 3.4246 | test_r2 0.9722 \n"
     ]
    },
    {
     "name": "stderr",
     "output_type": "stream",
     "text": [
      "\r",
      " 67%|██████▋   | 670/1000 [10:26<05:20,  1.03it/s]"
     ]
    },
    {
     "name": "stdout",
     "output_type": "stream",
     "text": [
      "Epoch 00669 | Loss 23.1766 | train_RMSE 3.1156 | train_r2 0.9767 | test_RMSE 3.3959 | test_r2 0.9732 \n"
     ]
    },
    {
     "name": "stderr",
     "output_type": "stream",
     "text": [
      "\r",
      " 67%|██████▋   | 671/1000 [10:27<05:17,  1.04it/s]"
     ]
    },
    {
     "name": "stdout",
     "output_type": "stream",
     "text": [
      "Epoch 00670 | Loss 23.2765 | train_RMSE 3.1097 | train_r2 0.9771 | test_RMSE 3.3943 | test_r2 0.9735 \n"
     ]
    },
    {
     "name": "stderr",
     "output_type": "stream",
     "text": [
      "\r",
      " 67%|██████▋   | 672/1000 [10:28<05:16,  1.04it/s]"
     ]
    },
    {
     "name": "stdout",
     "output_type": "stream",
     "text": [
      "Epoch 00671 | Loss 23.1200 | train_RMSE 3.4174 | train_r2 0.9716 | test_RMSE 3.5869 | test_r2 0.9696 \n"
     ]
    },
    {
     "name": "stderr",
     "output_type": "stream",
     "text": [
      "\r",
      " 67%|██████▋   | 673/1000 [10:29<05:14,  1.04it/s]"
     ]
    },
    {
     "name": "stdout",
     "output_type": "stream",
     "text": [
      "Epoch 00672 | Loss 24.6616 | train_RMSE 3.3977 | train_r2 0.9729 | test_RMSE 3.6275 | test_r2 0.9700 \n"
     ]
    },
    {
     "name": "stderr",
     "output_type": "stream",
     "text": [
      "\r",
      " 67%|██████▋   | 674/1000 [10:29<05:16,  1.03it/s]"
     ]
    },
    {
     "name": "stdout",
     "output_type": "stream",
     "text": [
      "Epoch 00673 | Loss 24.2737 | train_RMSE 3.3246 | train_r2 0.9729 | test_RMSE 3.5154 | test_r2 0.9704 \n"
     ]
    },
    {
     "name": "stderr",
     "output_type": "stream",
     "text": [
      "\r",
      " 68%|██████▊   | 675/1000 [10:30<05:14,  1.03it/s]"
     ]
    },
    {
     "name": "stdout",
     "output_type": "stream",
     "text": [
      "Epoch 00674 | Loss 23.8420 | train_RMSE 3.0838 | train_r2 0.9768 | test_RMSE 3.3501 | test_r2 0.9734 \n"
     ]
    },
    {
     "name": "stderr",
     "output_type": "stream",
     "text": [
      "\r",
      " 68%|██████▊   | 676/1000 [10:31<05:14,  1.03it/s]"
     ]
    },
    {
     "name": "stdout",
     "output_type": "stream",
     "text": [
      "Epoch 00675 | Loss 22.5689 | train_RMSE 3.3924 | train_r2 0.9730 | test_RMSE 3.6947 | test_r2 0.9689 \n"
     ]
    },
    {
     "name": "stderr",
     "output_type": "stream",
     "text": [
      "\r",
      " 68%|██████▊   | 677/1000 [10:32<05:15,  1.02it/s]"
     ]
    },
    {
     "name": "stdout",
     "output_type": "stream",
     "text": [
      "Epoch 00676 | Loss 25.3135 | train_RMSE 4.2824 | train_r2 0.9542 | test_RMSE 4.3744 | test_r2 0.9535 \n"
     ]
    },
    {
     "name": "stderr",
     "output_type": "stream",
     "text": [
      "\r",
      " 68%|██████▊   | 678/1000 [10:33<05:15,  1.02it/s]"
     ]
    },
    {
     "name": "stdout",
     "output_type": "stream",
     "text": [
      "Epoch 00677 | Loss 30.9959 | train_RMSE 4.2102 | train_r2 0.9589 | test_RMSE 4.4830 | test_r2 0.9551 \n"
     ]
    },
    {
     "name": "stderr",
     "output_type": "stream",
     "text": [
      "\r",
      " 68%|██████▊   | 679/1000 [10:34<05:12,  1.03it/s]"
     ]
    },
    {
     "name": "stdout",
     "output_type": "stream",
     "text": [
      "Epoch 00678 | Loss 32.7851 | train_RMSE 4.3889 | train_r2 0.9504 | test_RMSE 4.3954 | test_r2 0.9520 \n"
     ]
    },
    {
     "name": "stderr",
     "output_type": "stream",
     "text": [
      "\r",
      " 68%|██████▊   | 680/1000 [10:35<05:09,  1.04it/s]"
     ]
    },
    {
     "name": "stdout",
     "output_type": "stream",
     "text": [
      "Epoch 00679 | Loss 30.9293 | train_RMSE 3.4493 | train_r2 0.9716 | test_RMSE 3.7198 | test_r2 0.9682 \n"
     ]
    },
    {
     "name": "stderr",
     "output_type": "stream",
     "text": [
      "\r",
      " 68%|██████▊   | 681/1000 [10:36<05:08,  1.03it/s]"
     ]
    },
    {
     "name": "stdout",
     "output_type": "stream",
     "text": [
      "Epoch 00680 | Loss 25.9144 | train_RMSE 3.1283 | train_r2 0.9764 | test_RMSE 3.3876 | test_r2 0.9732 \n"
     ]
    },
    {
     "name": "stderr",
     "output_type": "stream",
     "text": [
      "\r",
      " 68%|██████▊   | 682/1000 [10:37<05:13,  1.01it/s]"
     ]
    },
    {
     "name": "stdout",
     "output_type": "stream",
     "text": [
      "Epoch 00681 | Loss 23.3062 | train_RMSE 3.2319 | train_r2 0.9748 | test_RMSE 3.4739 | test_r2 0.9717 \n"
     ]
    },
    {
     "name": "stderr",
     "output_type": "stream",
     "text": [
      "\r",
      " 68%|██████▊   | 683/1000 [10:38<05:16,  1.00it/s]"
     ]
    },
    {
     "name": "stdout",
     "output_type": "stream",
     "text": [
      "Epoch 00682 | Loss 22.9888 | train_RMSE 3.2966 | train_r2 0.9742 | test_RMSE 3.5824 | test_r2 0.9704 \n"
     ]
    },
    {
     "name": "stderr",
     "output_type": "stream",
     "text": [
      "\r",
      " 68%|██████▊   | 684/1000 [10:39<05:13,  1.01it/s]"
     ]
    },
    {
     "name": "stdout",
     "output_type": "stream",
     "text": [
      "Epoch 00683 | Loss 24.5761 | train_RMSE 3.3471 | train_r2 0.9720 | test_RMSE 3.5684 | test_r2 0.9692 \n"
     ]
    },
    {
     "name": "stderr",
     "output_type": "stream",
     "text": [
      "\r",
      " 68%|██████▊   | 685/1000 [10:40<05:09,  1.02it/s]"
     ]
    },
    {
     "name": "stdout",
     "output_type": "stream",
     "text": [
      "Epoch 00684 | Loss 23.6819 | train_RMSE 3.0893 | train_r2 0.9770 | test_RMSE 3.3786 | test_r2 0.9734 \n"
     ]
    },
    {
     "name": "stderr",
     "output_type": "stream",
     "text": [
      "\r",
      " 69%|██████▊   | 686/1000 [10:41<05:05,  1.03it/s]"
     ]
    },
    {
     "name": "stdout",
     "output_type": "stream",
     "text": [
      "Epoch 00685 | Loss 23.5126 | train_RMSE 3.1196 | train_r2 0.9766 | test_RMSE 3.3523 | test_r2 0.9738 \n"
     ]
    },
    {
     "name": "stderr",
     "output_type": "stream",
     "text": [
      "\r",
      " 69%|██████▊   | 687/1000 [10:42<05:02,  1.04it/s]"
     ]
    },
    {
     "name": "stdout",
     "output_type": "stream",
     "text": [
      "Epoch 00686 | Loss 23.3921 | train_RMSE 3.1197 | train_r2 0.9776 | test_RMSE 3.4422 | test_r2 0.9737 \n"
     ]
    },
    {
     "name": "stderr",
     "output_type": "stream",
     "text": [
      "\r",
      " 69%|██████▉   | 688/1000 [10:43<04:57,  1.05it/s]"
     ]
    },
    {
     "name": "stdout",
     "output_type": "stream",
     "text": [
      "Epoch 00687 | Loss 23.1000 | train_RMSE 3.1206 | train_r2 0.9777 | test_RMSE 3.4430 | test_r2 0.9737 \n"
     ]
    },
    {
     "name": "stderr",
     "output_type": "stream",
     "text": [
      "\r",
      " 69%|██████▉   | 689/1000 [10:44<04:56,  1.05it/s]"
     ]
    },
    {
     "name": "stdout",
     "output_type": "stream",
     "text": [
      "Epoch 00688 | Loss 23.2621 | train_RMSE 3.1104 | train_r2 0.9770 | test_RMSE 3.4128 | test_r2 0.9733 \n"
     ]
    },
    {
     "name": "stderr",
     "output_type": "stream",
     "text": [
      "\r",
      " 69%|██████▉   | 690/1000 [10:45<04:58,  1.04it/s]"
     ]
    },
    {
     "name": "stdout",
     "output_type": "stream",
     "text": [
      "Epoch 00689 | Loss 21.7586 | train_RMSE 3.1186 | train_r2 0.9764 | test_RMSE 3.4506 | test_r2 0.9720 \n"
     ]
    },
    {
     "name": "stderr",
     "output_type": "stream",
     "text": [
      "\r",
      " 69%|██████▉   | 691/1000 [10:46<05:01,  1.02it/s]"
     ]
    },
    {
     "name": "stdout",
     "output_type": "stream",
     "text": [
      "Epoch 00690 | Loss 24.2053 | train_RMSE 3.1464 | train_r2 0.9755 | test_RMSE 3.4420 | test_r2 0.9716 \n"
     ]
    },
    {
     "name": "stderr",
     "output_type": "stream",
     "text": [
      "\r",
      " 69%|██████▉   | 692/1000 [10:47<04:57,  1.04it/s]"
     ]
    },
    {
     "name": "stdout",
     "output_type": "stream",
     "text": [
      "Epoch 00691 | Loss 22.6915 | train_RMSE 3.0845 | train_r2 0.9772 | test_RMSE 3.3887 | test_r2 0.9733 \n"
     ]
    },
    {
     "name": "stderr",
     "output_type": "stream",
     "text": [
      "\r",
      " 69%|██████▉   | 693/1000 [10:48<05:01,  1.02it/s]"
     ]
    },
    {
     "name": "stdout",
     "output_type": "stream",
     "text": [
      "Epoch 00692 | Loss 23.2615 | train_RMSE 3.0713 | train_r2 0.9778 | test_RMSE 3.4053 | test_r2 0.9733 \n"
     ]
    },
    {
     "name": "stderr",
     "output_type": "stream",
     "text": [
      "\r",
      " 69%|██████▉   | 694/1000 [10:49<04:59,  1.02it/s]"
     ]
    },
    {
     "name": "stdout",
     "output_type": "stream",
     "text": [
      "Epoch 00693 | Loss 22.6762 | train_RMSE 3.1039 | train_r2 0.9769 | test_RMSE 3.4505 | test_r2 0.9721 \n"
     ]
    },
    {
     "name": "stderr",
     "output_type": "stream",
     "text": [
      "\r",
      " 70%|██████▉   | 695/1000 [10:50<05:06,  1.01s/it]"
     ]
    },
    {
     "name": "stdout",
     "output_type": "stream",
     "text": [
      "Epoch 00694 | Loss 22.2022 | train_RMSE 3.1212 | train_r2 0.9765 | test_RMSE 3.4741 | test_r2 0.9716 \n"
     ]
    },
    {
     "name": "stderr",
     "output_type": "stream",
     "text": [
      "\r",
      " 70%|██████▉   | 696/1000 [10:51<05:01,  1.01it/s]"
     ]
    },
    {
     "name": "stdout",
     "output_type": "stream",
     "text": [
      "Epoch 00695 | Loss 23.0936 | train_RMSE 3.2430 | train_r2 0.9738 | test_RMSE 3.5329 | test_r2 0.9697 \n"
     ]
    },
    {
     "name": "stderr",
     "output_type": "stream",
     "text": [
      "\r",
      " 70%|██████▉   | 697/1000 [10:52<05:01,  1.01it/s]"
     ]
    },
    {
     "name": "stdout",
     "output_type": "stream",
     "text": [
      "Epoch 00696 | Loss 23.1050 | train_RMSE 3.1207 | train_r2 0.9766 | test_RMSE 3.4938 | test_r2 0.9715 \n"
     ]
    },
    {
     "name": "stderr",
     "output_type": "stream",
     "text": [
      "\r",
      " 70%|██████▉   | 698/1000 [10:53<04:58,  1.01it/s]"
     ]
    },
    {
     "name": "stdout",
     "output_type": "stream",
     "text": [
      "Epoch 00697 | Loss 22.3770 | train_RMSE 3.1654 | train_r2 0.9758 | test_RMSE 3.5253 | test_r2 0.9708 \n"
     ]
    },
    {
     "name": "stderr",
     "output_type": "stream",
     "text": [
      "\r",
      " 70%|██████▉   | 699/1000 [10:54<04:57,  1.01it/s]"
     ]
    },
    {
     "name": "stdout",
     "output_type": "stream",
     "text": [
      "Epoch 00698 | Loss 22.6045 | train_RMSE 3.0608 | train_r2 0.9777 | test_RMSE 3.4570 | test_r2 0.9722 \n"
     ]
    },
    {
     "name": "stderr",
     "output_type": "stream",
     "text": [
      "\r",
      " 70%|███████   | 700/1000 [10:55<04:51,  1.03it/s]"
     ]
    },
    {
     "name": "stdout",
     "output_type": "stream",
     "text": [
      "Epoch 00699 | Loss 22.7821 | train_RMSE 3.1061 | train_r2 0.9770 | test_RMSE 3.5179 | test_r2 0.9712 \n"
     ]
    },
    {
     "name": "stderr",
     "output_type": "stream",
     "text": [
      "\r",
      " 70%|███████   | 701/1000 [10:56<04:54,  1.02it/s]"
     ]
    },
    {
     "name": "stdout",
     "output_type": "stream",
     "text": [
      "Epoch 00700 | Loss 22.7466 | train_RMSE 3.1916 | train_r2 0.9750 | test_RMSE 3.5324 | test_r2 0.9702 \n"
     ]
    },
    {
     "name": "stderr",
     "output_type": "stream",
     "text": [
      "\r",
      " 70%|███████   | 702/1000 [10:57<04:53,  1.02it/s]"
     ]
    },
    {
     "name": "stdout",
     "output_type": "stream",
     "text": [
      "Epoch 00701 | Loss 22.2420 | train_RMSE 3.1270 | train_r2 0.9767 | test_RMSE 3.4659 | test_r2 0.9722 \n"
     ]
    },
    {
     "name": "stderr",
     "output_type": "stream",
     "text": [
      "\r",
      " 70%|███████   | 703/1000 [10:58<04:50,  1.02it/s]"
     ]
    },
    {
     "name": "stdout",
     "output_type": "stream",
     "text": [
      "Epoch 00702 | Loss 24.0191 | train_RMSE 3.2687 | train_r2 0.9740 | test_RMSE 3.5303 | test_r2 0.9705 \n"
     ]
    },
    {
     "name": "stderr",
     "output_type": "stream",
     "text": [
      "\r",
      " 70%|███████   | 704/1000 [10:59<04:49,  1.02it/s]"
     ]
    },
    {
     "name": "stdout",
     "output_type": "stream",
     "text": [
      "Epoch 00703 | Loss 23.8051 | train_RMSE 3.1218 | train_r2 0.9769 | test_RMSE 3.4737 | test_r2 0.9723 \n"
     ]
    },
    {
     "name": "stderr",
     "output_type": "stream",
     "text": [
      "\r",
      " 70%|███████   | 705/1000 [11:00<04:46,  1.03it/s]"
     ]
    },
    {
     "name": "stdout",
     "output_type": "stream",
     "text": [
      "Epoch 00704 | Loss 23.5867 | train_RMSE 3.2110 | train_r2 0.9748 | test_RMSE 3.5153 | test_r2 0.9707 \n"
     ]
    },
    {
     "name": "stderr",
     "output_type": "stream",
     "text": [
      "\r",
      " 71%|███████   | 706/1000 [11:01<04:43,  1.04it/s]"
     ]
    },
    {
     "name": "stdout",
     "output_type": "stream",
     "text": [
      "Epoch 00705 | Loss 23.1746 | train_RMSE 3.1024 | train_r2 0.9770 | test_RMSE 3.4618 | test_r2 0.9723 \n"
     ]
    },
    {
     "name": "stderr",
     "output_type": "stream",
     "text": [
      "\r",
      " 71%|███████   | 707/1000 [11:02<04:43,  1.03it/s]"
     ]
    },
    {
     "name": "stdout",
     "output_type": "stream",
     "text": [
      "Epoch 00706 | Loss 23.1497 | train_RMSE 3.1893 | train_r2 0.9750 | test_RMSE 3.4869 | test_r2 0.9712 \n"
     ]
    },
    {
     "name": "stderr",
     "output_type": "stream",
     "text": [
      "\r",
      " 71%|███████   | 708/1000 [11:03<04:43,  1.03it/s]"
     ]
    },
    {
     "name": "stdout",
     "output_type": "stream",
     "text": [
      "Epoch 00707 | Loss 22.9852 | train_RMSE 3.0746 | train_r2 0.9772 | test_RMSE 3.4207 | test_r2 0.9729 \n"
     ]
    },
    {
     "name": "stderr",
     "output_type": "stream",
     "text": [
      "\r",
      " 71%|███████   | 709/1000 [11:04<04:42,  1.03it/s]"
     ]
    },
    {
     "name": "stdout",
     "output_type": "stream",
     "text": [
      "Epoch 00708 | Loss 22.6355 | train_RMSE 3.0558 | train_r2 0.9778 | test_RMSE 3.3928 | test_r2 0.9734 \n"
     ]
    },
    {
     "name": "stderr",
     "output_type": "stream",
     "text": [
      "\r",
      " 71%|███████   | 710/1000 [11:05<04:40,  1.03it/s]"
     ]
    },
    {
     "name": "stdout",
     "output_type": "stream",
     "text": [
      "Epoch 00709 | Loss 22.4292 | train_RMSE 3.0837 | train_r2 0.9775 | test_RMSE 3.4164 | test_r2 0.9730 \n"
     ]
    },
    {
     "name": "stderr",
     "output_type": "stream",
     "text": [
      "\r",
      " 71%|███████   | 711/1000 [11:06<04:39,  1.03it/s]"
     ]
    },
    {
     "name": "stdout",
     "output_type": "stream",
     "text": [
      "Epoch 00710 | Loss 22.1562 | train_RMSE 3.0741 | train_r2 0.9777 | test_RMSE 3.4388 | test_r2 0.9725 \n"
     ]
    },
    {
     "name": "stderr",
     "output_type": "stream",
     "text": [
      "\r",
      " 71%|███████   | 712/1000 [11:07<04:38,  1.03it/s]"
     ]
    },
    {
     "name": "stdout",
     "output_type": "stream",
     "text": [
      "Epoch 00711 | Loss 22.0290 | train_RMSE 3.1518 | train_r2 0.9761 | test_RMSE 3.5411 | test_r2 0.9703 \n"
     ]
    },
    {
     "name": "stderr",
     "output_type": "stream",
     "text": [
      "\r",
      " 71%|███████▏  | 713/1000 [11:08<04:37,  1.03it/s]"
     ]
    },
    {
     "name": "stdout",
     "output_type": "stream",
     "text": [
      "Epoch 00712 | Loss 23.6015 | train_RMSE 3.1411 | train_r2 0.9769 | test_RMSE 3.5096 | test_r2 0.9717 \n"
     ]
    },
    {
     "name": "stderr",
     "output_type": "stream",
     "text": [
      "\r",
      " 71%|███████▏  | 714/1000 [11:09<04:37,  1.03it/s]"
     ]
    },
    {
     "name": "stdout",
     "output_type": "stream",
     "text": [
      "Epoch 00713 | Loss 23.5304 | train_RMSE 3.4417 | train_r2 0.9707 | test_RMSE 3.7267 | test_r2 0.9666 \n"
     ]
    },
    {
     "name": "stderr",
     "output_type": "stream",
     "text": [
      "\r",
      " 72%|███████▏  | 715/1000 [11:09<04:36,  1.03it/s]"
     ]
    },
    {
     "name": "stdout",
     "output_type": "stream",
     "text": [
      "Epoch 00714 | Loss 25.4551 | train_RMSE 3.5266 | train_r2 0.9706 | test_RMSE 3.8651 | test_r2 0.9660 \n"
     ]
    },
    {
     "name": "stderr",
     "output_type": "stream",
     "text": [
      "\r",
      " 72%|███████▏  | 716/1000 [11:10<04:35,  1.03it/s]"
     ]
    },
    {
     "name": "stdout",
     "output_type": "stream",
     "text": [
      "Epoch 00715 | Loss 26.2943 | train_RMSE 3.8339 | train_r2 0.9634 | test_RMSE 4.0567 | test_r2 0.9605 \n"
     ]
    },
    {
     "name": "stderr",
     "output_type": "stream",
     "text": [
      "\r",
      " 72%|███████▏  | 717/1000 [11:11<04:33,  1.03it/s]"
     ]
    },
    {
     "name": "stdout",
     "output_type": "stream",
     "text": [
      "Epoch 00716 | Loss 26.5983 | train_RMSE 3.7267 | train_r2 0.9675 | test_RMSE 4.0443 | test_r2 0.9630 \n"
     ]
    },
    {
     "name": "stderr",
     "output_type": "stream",
     "text": [
      "\r",
      " 72%|███████▏  | 718/1000 [11:12<04:32,  1.03it/s]"
     ]
    },
    {
     "name": "stdout",
     "output_type": "stream",
     "text": [
      "Epoch 00717 | Loss 26.8451 | train_RMSE 3.8631 | train_r2 0.9629 | test_RMSE 4.0844 | test_r2 0.9598 \n"
     ]
    },
    {
     "name": "stderr",
     "output_type": "stream",
     "text": [
      "\r",
      " 72%|███████▏  | 719/1000 [11:13<04:31,  1.03it/s]"
     ]
    },
    {
     "name": "stdout",
     "output_type": "stream",
     "text": [
      "Epoch 00718 | Loss 28.3843 | train_RMSE 3.5851 | train_r2 0.9707 | test_RMSE 3.9114 | test_r2 0.9663 \n"
     ]
    },
    {
     "name": "stderr",
     "output_type": "stream",
     "text": [
      "\r",
      " 72%|███████▏  | 720/1000 [11:14<04:30,  1.04it/s]"
     ]
    },
    {
     "name": "stdout",
     "output_type": "stream",
     "text": [
      "Epoch 00719 | Loss 25.8613 | train_RMSE 3.5462 | train_r2 0.9697 | test_RMSE 3.7517 | test_r2 0.9672 \n"
     ]
    },
    {
     "name": "stderr",
     "output_type": "stream",
     "text": [
      "\r",
      " 72%|███████▏  | 721/1000 [11:15<04:31,  1.03it/s]"
     ]
    },
    {
     "name": "stdout",
     "output_type": "stream",
     "text": [
      "Epoch 00720 | Loss 24.8013 | train_RMSE 3.0856 | train_r2 0.9776 | test_RMSE 3.4187 | test_r2 0.9735 \n"
     ]
    },
    {
     "name": "stderr",
     "output_type": "stream",
     "text": [
      "\r",
      " 72%|███████▏  | 722/1000 [11:16<04:34,  1.01it/s]"
     ]
    },
    {
     "name": "stdout",
     "output_type": "stream",
     "text": [
      "Epoch 00721 | Loss 23.1590 | train_RMSE 3.0483 | train_r2 0.9777 | test_RMSE 3.3514 | test_r2 0.9741 \n"
     ]
    },
    {
     "name": "stderr",
     "output_type": "stream",
     "text": [
      "\r",
      " 72%|███████▏  | 723/1000 [11:17<04:32,  1.02it/s]"
     ]
    },
    {
     "name": "stdout",
     "output_type": "stream",
     "text": [
      "Epoch 00722 | Loss 21.9324 | train_RMSE 3.2478 | train_r2 0.9742 | test_RMSE 3.5017 | test_r2 0.9711 \n"
     ]
    },
    {
     "name": "stderr",
     "output_type": "stream",
     "text": [
      "\r",
      " 72%|███████▏  | 724/1000 [11:18<04:29,  1.02it/s]"
     ]
    },
    {
     "name": "stdout",
     "output_type": "stream",
     "text": [
      "Epoch 00723 | Loss 23.0567 | train_RMSE 3.3950 | train_r2 0.9734 | test_RMSE 3.7147 | test_r2 0.9692 \n"
     ]
    },
    {
     "name": "stderr",
     "output_type": "stream",
     "text": [
      "\r",
      " 72%|███████▎  | 725/1000 [11:19<04:25,  1.03it/s]"
     ]
    },
    {
     "name": "stdout",
     "output_type": "stream",
     "text": [
      "Epoch 00724 | Loss 25.4997 | train_RMSE 3.8835 | train_r2 0.9627 | test_RMSE 4.0339 | test_r2 0.9610 \n"
     ]
    },
    {
     "name": "stderr",
     "output_type": "stream",
     "text": [
      "\r",
      " 73%|███████▎  | 726/1000 [11:20<04:22,  1.04it/s]"
     ]
    },
    {
     "name": "stdout",
     "output_type": "stream",
     "text": [
      "Epoch 00725 | Loss 27.0415 | train_RMSE 3.5657 | train_r2 0.9698 | test_RMSE 3.8427 | test_r2 0.9661 \n"
     ]
    },
    {
     "name": "stderr",
     "output_type": "stream",
     "text": [
      "\r",
      " 73%|███████▎  | 727/1000 [11:21<04:19,  1.05it/s]"
     ]
    },
    {
     "name": "stdout",
     "output_type": "stream",
     "text": [
      "Epoch 00726 | Loss 26.6807 | train_RMSE 3.5127 | train_r2 0.9691 | test_RMSE 3.6909 | test_r2 0.9670 \n"
     ]
    },
    {
     "name": "stderr",
     "output_type": "stream",
     "text": [
      "\r",
      " 73%|███████▎  | 728/1000 [11:22<04:19,  1.05it/s]"
     ]
    },
    {
     "name": "stdout",
     "output_type": "stream",
     "text": [
      "Epoch 00727 | Loss 23.9554 | train_RMSE 3.1643 | train_r2 0.9762 | test_RMSE 3.4813 | test_r2 0.9721 \n"
     ]
    },
    {
     "name": "stderr",
     "output_type": "stream",
     "text": [
      "\r",
      " 73%|███████▎  | 729/1000 [11:23<04:19,  1.04it/s]"
     ]
    },
    {
     "name": "stdout",
     "output_type": "stream",
     "text": [
      "Epoch 00728 | Loss 23.6202 | train_RMSE 3.0893 | train_r2 0.9771 | test_RMSE 3.3840 | test_r2 0.9734 \n"
     ]
    },
    {
     "name": "stderr",
     "output_type": "stream",
     "text": [
      "\r",
      " 73%|███████▎  | 730/1000 [11:24<04:18,  1.04it/s]"
     ]
    },
    {
     "name": "stdout",
     "output_type": "stream",
     "text": [
      "Epoch 00729 | Loss 22.4458 | train_RMSE 3.0585 | train_r2 0.9772 | test_RMSE 3.3751 | test_r2 0.9732 \n"
     ]
    },
    {
     "name": "stderr",
     "output_type": "stream",
     "text": [
      "\r",
      " 73%|███████▎  | 731/1000 [11:25<04:19,  1.03it/s]"
     ]
    },
    {
     "name": "stdout",
     "output_type": "stream",
     "text": [
      "Epoch 00730 | Loss 22.8521 | train_RMSE 3.0758 | train_r2 0.9772 | test_RMSE 3.4168 | test_r2 0.9727 \n"
     ]
    },
    {
     "name": "stderr",
     "output_type": "stream",
     "text": [
      "\r",
      " 73%|███████▎  | 732/1000 [11:26<04:16,  1.04it/s]"
     ]
    },
    {
     "name": "stdout",
     "output_type": "stream",
     "text": [
      "Epoch 00731 | Loss 22.5585 | train_RMSE 3.3081 | train_r2 0.9733 | test_RMSE 3.5595 | test_r2 0.9699 \n"
     ]
    },
    {
     "name": "stderr",
     "output_type": "stream",
     "text": [
      "\r",
      " 73%|███████▎  | 733/1000 [11:27<04:12,  1.06it/s]"
     ]
    },
    {
     "name": "stdout",
     "output_type": "stream",
     "text": [
      "Epoch 00732 | Loss 23.0570 | train_RMSE 3.3519 | train_r2 0.9740 | test_RMSE 3.6507 | test_r2 0.9700 \n"
     ]
    },
    {
     "name": "stderr",
     "output_type": "stream",
     "text": [
      "\r",
      " 73%|███████▎  | 734/1000 [11:28<04:10,  1.06it/s]"
     ]
    },
    {
     "name": "stdout",
     "output_type": "stream",
     "text": [
      "Epoch 00733 | Loss 25.1744 | train_RMSE 3.8119 | train_r2 0.9643 | test_RMSE 3.9474 | test_r2 0.9629 \n"
     ]
    },
    {
     "name": "stderr",
     "output_type": "stream",
     "text": [
      "\r",
      " 74%|███████▎  | 735/1000 [11:29<04:09,  1.06it/s]"
     ]
    },
    {
     "name": "stdout",
     "output_type": "stream",
     "text": [
      "Epoch 00734 | Loss 26.9267 | train_RMSE 3.8427 | train_r2 0.9656 | test_RMSE 4.1500 | test_r2 0.9613 \n"
     ]
    },
    {
     "name": "stderr",
     "output_type": "stream",
     "text": [
      "\r",
      " 74%|███████▎  | 736/1000 [11:30<04:10,  1.05it/s]"
     ]
    },
    {
     "name": "stdout",
     "output_type": "stream",
     "text": [
      "Epoch 00735 | Loss 28.3628 | train_RMSE 4.3986 | train_r2 0.9505 | test_RMSE 4.5313 | test_r2 0.9492 \n"
     ]
    },
    {
     "name": "stderr",
     "output_type": "stream",
     "text": [
      "\r",
      " 74%|███████▎  | 737/1000 [11:31<04:10,  1.05it/s]"
     ]
    },
    {
     "name": "stdout",
     "output_type": "stream",
     "text": [
      "Epoch 00736 | Loss 32.5538 | train_RMSE 4.0904 | train_r2 0.9609 | test_RMSE 4.3509 | test_r2 0.9572 \n"
     ]
    },
    {
     "name": "stderr",
     "output_type": "stream",
     "text": [
      "\r",
      " 74%|███████▍  | 738/1000 [11:32<04:08,  1.05it/s]"
     ]
    },
    {
     "name": "stdout",
     "output_type": "stream",
     "text": [
      "Epoch 00737 | Loss 30.7923 | train_RMSE 4.0546 | train_r2 0.9590 | test_RMSE 4.2352 | test_r2 0.9562 \n"
     ]
    },
    {
     "name": "stderr",
     "output_type": "stream",
     "text": [
      "\r",
      " 74%|███████▍  | 739/1000 [11:33<04:07,  1.05it/s]"
     ]
    },
    {
     "name": "stdout",
     "output_type": "stream",
     "text": [
      "Epoch 00738 | Loss 29.9265 | train_RMSE 3.5656 | train_r2 0.9706 | test_RMSE 3.8172 | test_r2 0.9670 \n"
     ]
    },
    {
     "name": "stderr",
     "output_type": "stream",
     "text": [
      "\r",
      " 74%|███████▍  | 740/1000 [11:33<04:06,  1.05it/s]"
     ]
    },
    {
     "name": "stdout",
     "output_type": "stream",
     "text": [
      "Epoch 00739 | Loss 26.7099 | train_RMSE 3.3596 | train_r2 0.9722 | test_RMSE 3.5777 | test_r2 0.9693 \n"
     ]
    },
    {
     "name": "stderr",
     "output_type": "stream",
     "text": [
      "\r",
      " 74%|███████▍  | 741/1000 [11:34<04:08,  1.04it/s]"
     ]
    },
    {
     "name": "stdout",
     "output_type": "stream",
     "text": [
      "Epoch 00740 | Loss 23.3096 | train_RMSE 3.1456 | train_r2 0.9762 | test_RMSE 3.4517 | test_r2 0.9724 \n"
     ]
    },
    {
     "name": "stderr",
     "output_type": "stream",
     "text": [
      "\r",
      " 74%|███████▍  | 742/1000 [11:35<04:03,  1.06it/s]"
     ]
    },
    {
     "name": "stdout",
     "output_type": "stream",
     "text": [
      "Epoch 00741 | Loss 23.5809 | train_RMSE 3.1311 | train_r2 0.9766 | test_RMSE 3.4973 | test_r2 0.9719 \n"
     ]
    },
    {
     "name": "stderr",
     "output_type": "stream",
     "text": [
      "\r",
      " 74%|███████▍  | 743/1000 [11:36<04:03,  1.05it/s]"
     ]
    },
    {
     "name": "stdout",
     "output_type": "stream",
     "text": [
      "Epoch 00742 | Loss 23.2989 | train_RMSE 3.6212 | train_r2 0.9677 | test_RMSE 3.8582 | test_r2 0.9644 \n"
     ]
    },
    {
     "name": "stderr",
     "output_type": "stream",
     "text": [
      "\r",
      " 74%|███████▍  | 744/1000 [11:37<04:03,  1.05it/s]"
     ]
    },
    {
     "name": "stdout",
     "output_type": "stream",
     "text": [
      "Epoch 00743 | Loss 26.1705 | train_RMSE 3.9303 | train_r2 0.9642 | test_RMSE 4.2258 | test_r2 0.9598 \n"
     ]
    },
    {
     "name": "stderr",
     "output_type": "stream",
     "text": [
      "\r",
      " 74%|███████▍  | 745/1000 [11:38<04:03,  1.05it/s]"
     ]
    },
    {
     "name": "stdout",
     "output_type": "stream",
     "text": [
      "Epoch 00744 | Loss 29.1276 | train_RMSE 4.5807 | train_r2 0.9457 | test_RMSE 4.7763 | test_r2 0.9420 \n"
     ]
    },
    {
     "name": "stderr",
     "output_type": "stream",
     "text": [
      "\r",
      " 75%|███████▍  | 746/1000 [11:39<04:02,  1.05it/s]"
     ]
    },
    {
     "name": "stdout",
     "output_type": "stream",
     "text": [
      "Epoch 00745 | Loss 33.5284 | train_RMSE 4.3419 | train_r2 0.9550 | test_RMSE 4.5393 | test_r2 0.9519 \n"
     ]
    },
    {
     "name": "stderr",
     "output_type": "stream",
     "text": [
      "\r",
      " 75%|███████▍  | 747/1000 [11:40<04:01,  1.05it/s]"
     ]
    },
    {
     "name": "stdout",
     "output_type": "stream",
     "text": [
      "Epoch 00746 | Loss 32.7977 | train_RMSE 4.5228 | train_r2 0.9473 | test_RMSE 4.6508 | test_r2 0.9455 \n"
     ]
    },
    {
     "name": "stderr",
     "output_type": "stream",
     "text": [
      "\r",
      " 75%|███████▍  | 748/1000 [11:41<04:02,  1.04it/s]"
     ]
    },
    {
     "name": "stdout",
     "output_type": "stream",
     "text": [
      "Epoch 00747 | Loss 33.1148 | train_RMSE 3.7197 | train_r2 0.9683 | test_RMSE 4.0468 | test_r2 0.9636 \n"
     ]
    },
    {
     "name": "stderr",
     "output_type": "stream",
     "text": [
      "\r",
      " 75%|███████▍  | 749/1000 [11:42<04:01,  1.04it/s]"
     ]
    },
    {
     "name": "stdout",
     "output_type": "stream",
     "text": [
      "Epoch 00748 | Loss 28.3191 | train_RMSE 3.5329 | train_r2 0.9697 | test_RMSE 3.7223 | test_r2 0.9673 \n"
     ]
    },
    {
     "name": "stderr",
     "output_type": "stream",
     "text": [
      "\r",
      " 75%|███████▌  | 750/1000 [11:43<04:02,  1.03it/s]"
     ]
    },
    {
     "name": "stdout",
     "output_type": "stream",
     "text": [
      "Epoch 00749 | Loss 26.0507 | train_RMSE 3.1665 | train_r2 0.9762 | test_RMSE 3.5419 | test_r2 0.9712 \n"
     ]
    },
    {
     "name": "stderr",
     "output_type": "stream",
     "text": [
      "\r",
      " 75%|███████▌  | 751/1000 [11:44<04:00,  1.04it/s]"
     ]
    },
    {
     "name": "stdout",
     "output_type": "stream",
     "text": [
      "Epoch 00750 | Loss 23.9479 | train_RMSE 3.1810 | train_r2 0.9745 | test_RMSE 3.5069 | test_r2 0.9698 \n"
     ]
    },
    {
     "name": "stderr",
     "output_type": "stream",
     "text": [
      "\r",
      " 75%|███████▌  | 752/1000 [11:45<03:57,  1.04it/s]"
     ]
    },
    {
     "name": "stdout",
     "output_type": "stream",
     "text": [
      "Epoch 00751 | Loss 23.1536 | train_RMSE 3.1317 | train_r2 0.9754 | test_RMSE 3.4902 | test_r2 0.9702 \n"
     ]
    },
    {
     "name": "stderr",
     "output_type": "stream",
     "text": [
      "\r",
      " 75%|███████▌  | 753/1000 [11:46<03:57,  1.04it/s]"
     ]
    },
    {
     "name": "stdout",
     "output_type": "stream",
     "text": [
      "Epoch 00752 | Loss 23.2221 | train_RMSE 3.0432 | train_r2 0.9776 | test_RMSE 3.3479 | test_r2 0.9735 \n"
     ]
    },
    {
     "name": "stderr",
     "output_type": "stream",
     "text": [
      "\r",
      " 75%|███████▌  | 754/1000 [11:47<03:54,  1.05it/s]"
     ]
    },
    {
     "name": "stdout",
     "output_type": "stream",
     "text": [
      "Epoch 00753 | Loss 22.4838 | train_RMSE 3.1355 | train_r2 0.9773 | test_RMSE 3.4258 | test_r2 0.9735 \n"
     ]
    },
    {
     "name": "stderr",
     "output_type": "stream",
     "text": [
      "\r",
      " 76%|███████▌  | 755/1000 [11:48<03:54,  1.04it/s]"
     ]
    },
    {
     "name": "stdout",
     "output_type": "stream",
     "text": [
      "Epoch 00754 | Loss 22.6397 | train_RMSE 3.1017 | train_r2 0.9780 | test_RMSE 3.4530 | test_r2 0.9735 \n"
     ]
    },
    {
     "name": "stderr",
     "output_type": "stream",
     "text": [
      "\r",
      " 76%|███████▌  | 756/1000 [11:49<03:51,  1.05it/s]"
     ]
    },
    {
     "name": "stdout",
     "output_type": "stream",
     "text": [
      "Epoch 00755 | Loss 22.8802 | train_RMSE 3.0248 | train_r2 0.9783 | test_RMSE 3.3851 | test_r2 0.9737 \n"
     ]
    },
    {
     "name": "stderr",
     "output_type": "stream",
     "text": [
      "\r",
      " 76%|███████▌  | 757/1000 [11:50<03:51,  1.05it/s]"
     ]
    },
    {
     "name": "stdout",
     "output_type": "stream",
     "text": [
      "Epoch 00756 | Loss 22.6078 | train_RMSE 3.3408 | train_r2 0.9716 | test_RMSE 3.5519 | test_r2 0.9692 \n"
     ]
    },
    {
     "name": "stderr",
     "output_type": "stream",
     "text": [
      "\r",
      " 76%|███████▌  | 758/1000 [11:51<03:51,  1.04it/s]"
     ]
    },
    {
     "name": "stdout",
     "output_type": "stream",
     "text": [
      "Epoch 00757 | Loss 23.4477 | train_RMSE 3.2692 | train_r2 0.9735 | test_RMSE 3.5312 | test_r2 0.9703 \n"
     ]
    },
    {
     "name": "stderr",
     "output_type": "stream",
     "text": [
      "\r",
      " 76%|███████▌  | 759/1000 [11:52<03:52,  1.04it/s]"
     ]
    },
    {
     "name": "stdout",
     "output_type": "stream",
     "text": [
      "Epoch 00758 | Loss 23.6157 | train_RMSE 3.1263 | train_r2 0.9763 | test_RMSE 3.3380 | test_r2 0.9738 \n"
     ]
    },
    {
     "name": "stderr",
     "output_type": "stream",
     "text": [
      "\r",
      " 76%|███████▌  | 760/1000 [11:53<03:49,  1.05it/s]"
     ]
    },
    {
     "name": "stdout",
     "output_type": "stream",
     "text": [
      "Epoch 00759 | Loss 22.7581 | train_RMSE 3.1310 | train_r2 0.9775 | test_RMSE 3.3626 | test_r2 0.9745 \n"
     ]
    },
    {
     "name": "stderr",
     "output_type": "stream",
     "text": [
      "\r",
      " 76%|███████▌  | 761/1000 [11:54<03:47,  1.05it/s]"
     ]
    },
    {
     "name": "stdout",
     "output_type": "stream",
     "text": [
      "Epoch 00760 | Loss 21.6150 | train_RMSE 3.0922 | train_r2 0.9780 | test_RMSE 3.3434 | test_r2 0.9749 \n"
     ]
    },
    {
     "name": "stderr",
     "output_type": "stream",
     "text": [
      "\r",
      " 76%|███████▌  | 762/1000 [11:55<03:47,  1.05it/s]"
     ]
    },
    {
     "name": "stdout",
     "output_type": "stream",
     "text": [
      "Epoch 00761 | Loss 22.9990 | train_RMSE 3.1493 | train_r2 0.9757 | test_RMSE 3.3478 | test_r2 0.9734 \n"
     ]
    },
    {
     "name": "stderr",
     "output_type": "stream",
     "text": [
      "\r",
      " 76%|███████▋  | 763/1000 [11:55<03:46,  1.05it/s]"
     ]
    },
    {
     "name": "stdout",
     "output_type": "stream",
     "text": [
      "Epoch 00762 | Loss 23.2220 | train_RMSE 3.1500 | train_r2 0.9756 | test_RMSE 3.3800 | test_r2 0.9730 \n"
     ]
    },
    {
     "name": "stderr",
     "output_type": "stream",
     "text": [
      "\r",
      " 76%|███████▋  | 764/1000 [11:56<03:43,  1.06it/s]"
     ]
    },
    {
     "name": "stdout",
     "output_type": "stream",
     "text": [
      "Epoch 00763 | Loss 22.0361 | train_RMSE 3.1239 | train_r2 0.9760 | test_RMSE 3.3334 | test_r2 0.9737 \n"
     ]
    },
    {
     "name": "stderr",
     "output_type": "stream",
     "text": [
      "\r",
      " 76%|███████▋  | 765/1000 [11:57<03:44,  1.05it/s]"
     ]
    },
    {
     "name": "stdout",
     "output_type": "stream",
     "text": [
      "Epoch 00764 | Loss 23.6361 | train_RMSE 3.1188 | train_r2 0.9775 | test_RMSE 3.4830 | test_r2 0.9728 \n"
     ]
    },
    {
     "name": "stderr",
     "output_type": "stream",
     "text": [
      "\r",
      " 77%|███████▋  | 766/1000 [11:58<03:42,  1.05it/s]"
     ]
    },
    {
     "name": "stdout",
     "output_type": "stream",
     "text": [
      "Epoch 00765 | Loss 22.9754 | train_RMSE 3.2697 | train_r2 0.9749 | test_RMSE 3.5551 | test_r2 0.9711 \n"
     ]
    },
    {
     "name": "stderr",
     "output_type": "stream",
     "text": [
      "\r",
      " 77%|███████▋  | 767/1000 [11:59<03:43,  1.04it/s]"
     ]
    },
    {
     "name": "stdout",
     "output_type": "stream",
     "text": [
      "Epoch 00766 | Loss 22.7973 | train_RMSE 3.2389 | train_r2 0.9757 | test_RMSE 3.5339 | test_r2 0.9719 \n"
     ]
    },
    {
     "name": "stderr",
     "output_type": "stream",
     "text": [
      "\r",
      " 77%|███████▋  | 768/1000 [12:00<03:43,  1.04it/s]"
     ]
    },
    {
     "name": "stdout",
     "output_type": "stream",
     "text": [
      "Epoch 00767 | Loss 23.8453 | train_RMSE 3.6809 | train_r2 0.9659 | test_RMSE 3.8735 | test_r2 0.9633 \n"
     ]
    },
    {
     "name": "stderr",
     "output_type": "stream",
     "text": [
      "\r",
      " 77%|███████▋  | 769/1000 [12:01<03:45,  1.02it/s]"
     ]
    },
    {
     "name": "stdout",
     "output_type": "stream",
     "text": [
      "Epoch 00768 | Loss 26.3130 | train_RMSE 3.6064 | train_r2 0.9689 | test_RMSE 3.8299 | test_r2 0.9659 \n"
     ]
    },
    {
     "name": "stderr",
     "output_type": "stream",
     "text": [
      "\r",
      " 77%|███████▋  | 770/1000 [12:02<03:44,  1.02it/s]"
     ]
    },
    {
     "name": "stdout",
     "output_type": "stream",
     "text": [
      "Epoch 00769 | Loss 26.5185 | train_RMSE 3.6174 | train_r2 0.9681 | test_RMSE 3.8037 | test_r2 0.9656 \n"
     ]
    },
    {
     "name": "stderr",
     "output_type": "stream",
     "text": [
      "\r",
      " 77%|███████▋  | 771/1000 [12:03<03:43,  1.02it/s]"
     ]
    },
    {
     "name": "stdout",
     "output_type": "stream",
     "text": [
      "Epoch 00770 | Loss 25.0657 | train_RMSE 3.5458 | train_r2 0.9718 | test_RMSE 3.9002 | test_r2 0.9667 \n"
     ]
    },
    {
     "name": "stderr",
     "output_type": "stream",
     "text": [
      "\r",
      " 77%|███████▋  | 772/1000 [12:04<03:45,  1.01it/s]"
     ]
    },
    {
     "name": "stdout",
     "output_type": "stream",
     "text": [
      "Epoch 00771 | Loss 26.6569 | train_RMSE 3.6386 | train_r2 0.9677 | test_RMSE 3.8367 | test_r2 0.9651 \n"
     ]
    },
    {
     "name": "stderr",
     "output_type": "stream",
     "text": [
      "\r",
      " 77%|███████▋  | 773/1000 [12:05<03:43,  1.02it/s]"
     ]
    },
    {
     "name": "stdout",
     "output_type": "stream",
     "text": [
      "Epoch 00772 | Loss 25.5387 | train_RMSE 3.3573 | train_r2 0.9730 | test_RMSE 3.7111 | test_r2 0.9682 \n"
     ]
    },
    {
     "name": "stderr",
     "output_type": "stream",
     "text": [
      "\r",
      " 77%|███████▋  | 774/1000 [12:06<03:41,  1.02it/s]"
     ]
    },
    {
     "name": "stdout",
     "output_type": "stream",
     "text": [
      "Epoch 00773 | Loss 24.7577 | train_RMSE 3.4120 | train_r2 0.9703 | test_RMSE 3.6142 | test_r2 0.9679 \n"
     ]
    },
    {
     "name": "stderr",
     "output_type": "stream",
     "text": [
      "\r",
      " 78%|███████▊  | 775/1000 [12:07<03:47,  1.01s/it]"
     ]
    },
    {
     "name": "stdout",
     "output_type": "stream",
     "text": [
      "Epoch 00774 | Loss 24.3970 | train_RMSE 3.1430 | train_r2 0.9758 | test_RMSE 3.4667 | test_r2 0.9716 \n"
     ]
    },
    {
     "name": "stderr",
     "output_type": "stream",
     "text": [
      "\r",
      " 78%|███████▊  | 776/1000 [12:08<03:45,  1.00s/it]"
     ]
    },
    {
     "name": "stdout",
     "output_type": "stream",
     "text": [
      "Epoch 00775 | Loss 22.2422 | train_RMSE 3.0520 | train_r2 0.9773 | test_RMSE 3.4169 | test_r2 0.9722 \n"
     ]
    },
    {
     "name": "stderr",
     "output_type": "stream",
     "text": [
      "\r",
      " 78%|███████▊  | 777/1000 [12:09<03:41,  1.00it/s]"
     ]
    },
    {
     "name": "stdout",
     "output_type": "stream",
     "text": [
      "Epoch 00776 | Loss 22.2999 | train_RMSE 3.0173 | train_r2 0.9785 | test_RMSE 3.4275 | test_r2 0.9729 \n"
     ]
    },
    {
     "name": "stderr",
     "output_type": "stream",
     "text": [
      "\r",
      " 78%|███████▊  | 778/1000 [12:10<03:38,  1.02it/s]"
     ]
    },
    {
     "name": "stdout",
     "output_type": "stream",
     "text": [
      "Epoch 00777 | Loss 21.5294 | train_RMSE 3.1311 | train_r2 0.9775 | test_RMSE 3.5419 | test_r2 0.9717 \n"
     ]
    },
    {
     "name": "stderr",
     "output_type": "stream",
     "text": [
      "\r",
      " 78%|███████▊  | 779/1000 [12:11<03:34,  1.03it/s]"
     ]
    },
    {
     "name": "stdout",
     "output_type": "stream",
     "text": [
      "Epoch 00778 | Loss 23.3192 | train_RMSE 3.4273 | train_r2 0.9716 | test_RMSE 3.7533 | test_r2 0.9665 \n"
     ]
    },
    {
     "name": "stderr",
     "output_type": "stream",
     "text": [
      "\r",
      " 78%|███████▊  | 780/1000 [12:12<03:33,  1.03it/s]"
     ]
    },
    {
     "name": "stdout",
     "output_type": "stream",
     "text": [
      "Epoch 00779 | Loss 24.7314 | train_RMSE 3.4258 | train_r2 0.9722 | test_RMSE 3.7924 | test_r2 0.9670 \n"
     ]
    },
    {
     "name": "stderr",
     "output_type": "stream",
     "text": [
      "\r",
      " 78%|███████▊  | 781/1000 [12:13<03:30,  1.04it/s]"
     ]
    },
    {
     "name": "stdout",
     "output_type": "stream",
     "text": [
      "Epoch 00780 | Loss 25.4649 | train_RMSE 3.8321 | train_r2 0.9628 | test_RMSE 3.9856 | test_r2 0.9610 \n"
     ]
    },
    {
     "name": "stderr",
     "output_type": "stream",
     "text": [
      "\r",
      " 78%|███████▊  | 782/1000 [12:14<03:28,  1.04it/s]"
     ]
    },
    {
     "name": "stdout",
     "output_type": "stream",
     "text": [
      "Epoch 00781 | Loss 26.9980 | train_RMSE 3.6186 | train_r2 0.9692 | test_RMSE 3.9517 | test_r2 0.9646 \n"
     ]
    },
    {
     "name": "stderr",
     "output_type": "stream",
     "text": [
      "\r",
      " 78%|███████▊  | 783/1000 [12:15<03:30,  1.03it/s]"
     ]
    },
    {
     "name": "stdout",
     "output_type": "stream",
     "text": [
      "Epoch 00782 | Loss 26.7308 | train_RMSE 3.6751 | train_r2 0.9675 | test_RMSE 3.8969 | test_r2 0.9644 \n"
     ]
    },
    {
     "name": "stderr",
     "output_type": "stream",
     "text": [
      "\r",
      " 78%|███████▊  | 784/1000 [12:16<03:28,  1.04it/s]"
     ]
    },
    {
     "name": "stdout",
     "output_type": "stream",
     "text": [
      "Epoch 00783 | Loss 26.3241 | train_RMSE 3.3076 | train_r2 0.9744 | test_RMSE 3.6451 | test_r2 0.9697 \n"
     ]
    },
    {
     "name": "stderr",
     "output_type": "stream",
     "text": [
      "\r",
      " 78%|███████▊  | 785/1000 [12:17<03:26,  1.04it/s]"
     ]
    },
    {
     "name": "stdout",
     "output_type": "stream",
     "text": [
      "Epoch 00784 | Loss 24.1110 | train_RMSE 3.1467 | train_r2 0.9754 | test_RMSE 3.4525 | test_r2 0.9711 \n"
     ]
    },
    {
     "name": "stderr",
     "output_type": "stream",
     "text": [
      "\r",
      " 79%|███████▊  | 786/1000 [12:18<03:25,  1.04it/s]"
     ]
    },
    {
     "name": "stdout",
     "output_type": "stream",
     "text": [
      "Epoch 00785 | Loss 22.3863 | train_RMSE 3.0273 | train_r2 0.9774 | test_RMSE 3.3397 | test_r2 0.9732 \n"
     ]
    },
    {
     "name": "stderr",
     "output_type": "stream",
     "text": [
      "\r",
      " 79%|███████▊  | 787/1000 [12:19<03:27,  1.03it/s]"
     ]
    },
    {
     "name": "stdout",
     "output_type": "stream",
     "text": [
      "Epoch 00786 | Loss 22.1059 | train_RMSE 2.9861 | train_r2 0.9786 | test_RMSE 3.3212 | test_r2 0.9743 \n"
     ]
    },
    {
     "name": "stderr",
     "output_type": "stream",
     "text": [
      "\r",
      " 79%|███████▉  | 788/1000 [12:20<03:26,  1.03it/s]"
     ]
    },
    {
     "name": "stdout",
     "output_type": "stream",
     "text": [
      "Epoch 00787 | Loss 20.9918 | train_RMSE 3.0490 | train_r2 0.9783 | test_RMSE 3.3919 | test_r2 0.9739 \n"
     ]
    },
    {
     "name": "stderr",
     "output_type": "stream",
     "text": [
      "\r",
      " 79%|███████▉  | 789/1000 [12:21<03:25,  1.02it/s]"
     ]
    },
    {
     "name": "stdout",
     "output_type": "stream",
     "text": [
      "Epoch 00788 | Loss 22.5289 | train_RMSE 3.0128 | train_r2 0.9787 | test_RMSE 3.3697 | test_r2 0.9744 \n"
     ]
    },
    {
     "name": "stderr",
     "output_type": "stream",
     "text": [
      "\r",
      " 79%|███████▉  | 790/1000 [12:22<03:21,  1.04it/s]"
     ]
    },
    {
     "name": "stdout",
     "output_type": "stream",
     "text": [
      "Epoch 00789 | Loss 22.0731 | train_RMSE 3.0580 | train_r2 0.9771 | test_RMSE 3.3716 | test_r2 0.9732 \n"
     ]
    },
    {
     "name": "stderr",
     "output_type": "stream",
     "text": [
      "\r",
      " 79%|███████▉  | 791/1000 [12:23<03:21,  1.04it/s]"
     ]
    },
    {
     "name": "stdout",
     "output_type": "stream",
     "text": [
      "Epoch 00790 | Loss 21.9540 | train_RMSE 3.0509 | train_r2 0.9772 | test_RMSE 3.3869 | test_r2 0.9727 \n"
     ]
    },
    {
     "name": "stderr",
     "output_type": "stream",
     "text": [
      "\r",
      " 79%|███████▉  | 792/1000 [12:24<03:21,  1.03it/s]"
     ]
    },
    {
     "name": "stdout",
     "output_type": "stream",
     "text": [
      "Epoch 00791 | Loss 22.1091 | train_RMSE 3.0250 | train_r2 0.9777 | test_RMSE 3.3248 | test_r2 0.9737 \n"
     ]
    },
    {
     "name": "stderr",
     "output_type": "stream",
     "text": [
      "\r",
      " 79%|███████▉  | 793/1000 [12:25<03:18,  1.05it/s]"
     ]
    },
    {
     "name": "stdout",
     "output_type": "stream",
     "text": [
      "Epoch 00792 | Loss 22.5925 | train_RMSE 3.0800 | train_r2 0.9773 | test_RMSE 3.3171 | test_r2 0.9742 \n"
     ]
    },
    {
     "name": "stderr",
     "output_type": "stream",
     "text": [
      "\r",
      " 79%|███████▉  | 794/1000 [12:26<03:15,  1.05it/s]"
     ]
    },
    {
     "name": "stdout",
     "output_type": "stream",
     "text": [
      "Epoch 00793 | Loss 22.3039 | train_RMSE 3.0873 | train_r2 0.9777 | test_RMSE 3.3466 | test_r2 0.9744 \n"
     ]
    },
    {
     "name": "stderr",
     "output_type": "stream",
     "text": [
      "\r",
      " 80%|███████▉  | 795/1000 [12:27<03:16,  1.04it/s]"
     ]
    },
    {
     "name": "stdout",
     "output_type": "stream",
     "text": [
      "Epoch 00794 | Loss 22.1910 | train_RMSE 3.3261 | train_r2 0.9731 | test_RMSE 3.4840 | test_r2 0.9712 \n"
     ]
    },
    {
     "name": "stderr",
     "output_type": "stream",
     "text": [
      "\r",
      " 80%|███████▉  | 796/1000 [12:27<03:15,  1.04it/s]"
     ]
    },
    {
     "name": "stdout",
     "output_type": "stream",
     "text": [
      "Epoch 00795 | Loss 23.9664 | train_RMSE 3.4368 | train_r2 0.9718 | test_RMSE 3.7301 | test_r2 0.9679 \n"
     ]
    },
    {
     "name": "stderr",
     "output_type": "stream",
     "text": [
      "\r",
      " 80%|███████▉  | 797/1000 [12:28<03:14,  1.04it/s]"
     ]
    },
    {
     "name": "stdout",
     "output_type": "stream",
     "text": [
      "Epoch 00796 | Loss 25.4000 | train_RMSE 3.6273 | train_r2 0.9671 | test_RMSE 3.7656 | test_r2 0.9656 \n"
     ]
    },
    {
     "name": "stderr",
     "output_type": "stream",
     "text": [
      "\r",
      " 80%|███████▉  | 798/1000 [12:29<03:12,  1.05it/s]"
     ]
    },
    {
     "name": "stdout",
     "output_type": "stream",
     "text": [
      "Epoch 00797 | Loss 25.3677 | train_RMSE 3.4144 | train_r2 0.9726 | test_RMSE 3.7649 | test_r2 0.9677 \n"
     ]
    },
    {
     "name": "stderr",
     "output_type": "stream",
     "text": [
      "\r",
      " 80%|███████▉  | 799/1000 [12:30<03:12,  1.04it/s]"
     ]
    },
    {
     "name": "stdout",
     "output_type": "stream",
     "text": [
      "Epoch 00798 | Loss 24.9406 | train_RMSE 3.4320 | train_r2 0.9714 | test_RMSE 3.6401 | test_r2 0.9687 \n"
     ]
    },
    {
     "name": "stderr",
     "output_type": "stream",
     "text": [
      "\r",
      " 80%|████████  | 800/1000 [12:31<03:10,  1.05it/s]"
     ]
    },
    {
     "name": "stdout",
     "output_type": "stream",
     "text": [
      "Epoch 00799 | Loss 23.1125 | train_RMSE 3.1428 | train_r2 0.9770 | test_RMSE 3.4780 | test_r2 0.9726 \n"
     ]
    },
    {
     "name": "stderr",
     "output_type": "stream",
     "text": [
      "\r",
      " 80%|████████  | 801/1000 [12:32<03:08,  1.06it/s]"
     ]
    },
    {
     "name": "stdout",
     "output_type": "stream",
     "text": [
      "Epoch 00800 | Loss 23.7261 | train_RMSE 3.0446 | train_r2 0.9778 | test_RMSE 3.4206 | test_r2 0.9727 \n"
     ]
    },
    {
     "name": "stderr",
     "output_type": "stream",
     "text": [
      "\r",
      " 80%|████████  | 802/1000 [12:33<03:07,  1.06it/s]"
     ]
    },
    {
     "name": "stdout",
     "output_type": "stream",
     "text": [
      "Epoch 00801 | Loss 22.5029 | train_RMSE 3.0839 | train_r2 0.9770 | test_RMSE 3.4758 | test_r2 0.9715 \n"
     ]
    },
    {
     "name": "stderr",
     "output_type": "stream",
     "text": [
      "\r",
      " 80%|████████  | 803/1000 [12:34<03:05,  1.06it/s]"
     ]
    },
    {
     "name": "stdout",
     "output_type": "stream",
     "text": [
      "Epoch 00802 | Loss 22.8137 | train_RMSE 3.0907 | train_r2 0.9774 | test_RMSE 3.4654 | test_r2 0.9724 \n"
     ]
    },
    {
     "name": "stderr",
     "output_type": "stream",
     "text": [
      "\r",
      " 80%|████████  | 804/1000 [12:35<03:06,  1.05it/s]"
     ]
    },
    {
     "name": "stdout",
     "output_type": "stream",
     "text": [
      "Epoch 00803 | Loss 23.2950 | train_RMSE 3.4926 | train_r2 0.9703 | test_RMSE 3.7389 | test_r2 0.9670 \n"
     ]
    },
    {
     "name": "stderr",
     "output_type": "stream",
     "text": [
      "\r",
      " 80%|████████  | 805/1000 [12:36<03:06,  1.04it/s]"
     ]
    },
    {
     "name": "stdout",
     "output_type": "stream",
     "text": [
      "Epoch 00804 | Loss 24.8729 | train_RMSE 3.5200 | train_r2 0.9711 | test_RMSE 3.8997 | test_r2 0.9657 \n"
     ]
    },
    {
     "name": "stderr",
     "output_type": "stream",
     "text": [
      "\r",
      " 81%|████████  | 806/1000 [12:37<03:05,  1.04it/s]"
     ]
    },
    {
     "name": "stdout",
     "output_type": "stream",
     "text": [
      "Epoch 00805 | Loss 27.1481 | train_RMSE 3.9744 | train_r2 0.9598 | test_RMSE 4.1761 | test_r2 0.9569 \n"
     ]
    },
    {
     "name": "stderr",
     "output_type": "stream",
     "text": [
      "\r",
      " 81%|████████  | 807/1000 [12:38<03:08,  1.02it/s]"
     ]
    },
    {
     "name": "stdout",
     "output_type": "stream",
     "text": [
      "Epoch 00806 | Loss 28.6387 | train_RMSE 4.1544 | train_r2 0.9595 | test_RMSE 4.4187 | test_r2 0.9555 \n"
     ]
    },
    {
     "name": "stderr",
     "output_type": "stream",
     "text": [
      "\r",
      " 81%|████████  | 808/1000 [12:39<03:08,  1.02it/s]"
     ]
    },
    {
     "name": "stdout",
     "output_type": "stream",
     "text": [
      "Epoch 00807 | Loss 31.4434 | train_RMSE 4.9701 | train_r2 0.9369 | test_RMSE 5.1647 | test_r2 0.9333 \n"
     ]
    },
    {
     "name": "stderr",
     "output_type": "stream",
     "text": [
      "\r",
      " 81%|████████  | 809/1000 [12:40<03:06,  1.03it/s]"
     ]
    },
    {
     "name": "stdout",
     "output_type": "stream",
     "text": [
      "Epoch 00808 | Loss 37.0227 | train_RMSE 5.2054 | train_r2 0.9401 | test_RMSE 5.3510 | test_r2 0.9382 \n"
     ]
    },
    {
     "name": "stderr",
     "output_type": "stream",
     "text": [
      "\r",
      " 81%|████████  | 810/1000 [12:41<03:04,  1.03it/s]"
     ]
    },
    {
     "name": "stdout",
     "output_type": "stream",
     "text": [
      "Epoch 00809 | Loss 43.0778 | train_RMSE 6.7679 | train_r2 0.8790 | test_RMSE 6.7438 | test_r2 0.8823 \n"
     ]
    },
    {
     "name": "stderr",
     "output_type": "stream",
     "text": [
      "\r",
      " 81%|████████  | 811/1000 [12:42<03:00,  1.05it/s]"
     ]
    },
    {
     "name": "stdout",
     "output_type": "stream",
     "text": [
      "Epoch 00810 | Loss 57.9397 | train_RMSE 6.4684 | train_r2 0.9055 | test_RMSE 6.5587 | test_r2 0.9062 \n"
     ]
    },
    {
     "name": "stderr",
     "output_type": "stream",
     "text": [
      "\r",
      " 81%|████████  | 812/1000 [12:43<02:59,  1.05it/s]"
     ]
    },
    {
     "name": "stdout",
     "output_type": "stream",
     "text": [
      "Epoch 00811 | Loss 54.8446 | train_RMSE 6.9070 | train_r2 0.8721 | test_RMSE 6.8858 | test_r2 0.8765 \n"
     ]
    },
    {
     "name": "stderr",
     "output_type": "stream",
     "text": [
      "\r",
      " 81%|████████▏ | 813/1000 [12:44<02:58,  1.05it/s]"
     ]
    },
    {
     "name": "stdout",
     "output_type": "stream",
     "text": [
      "Epoch 00812 | Loss 59.2012 | train_RMSE 5.1324 | train_r2 0.9413 | test_RMSE 5.3784 | test_r2 0.9378 \n"
     ]
    },
    {
     "name": "stderr",
     "output_type": "stream",
     "text": [
      "\r",
      " 81%|████████▏ | 814/1000 [12:45<02:57,  1.05it/s]"
     ]
    },
    {
     "name": "stdout",
     "output_type": "stream",
     "text": [
      "Epoch 00813 | Loss 40.3220 | train_RMSE 4.3031 | train_r2 0.9532 | test_RMSE 4.4782 | test_r2 0.9509 \n"
     ]
    },
    {
     "name": "stderr",
     "output_type": "stream",
     "text": [
      "\r",
      " 82%|████████▏ | 815/1000 [12:46<02:55,  1.05it/s]"
     ]
    },
    {
     "name": "stdout",
     "output_type": "stream",
     "text": [
      "Epoch 00814 | Loss 30.6869 | train_RMSE 3.0996 | train_r2 0.9766 | test_RMSE 3.3958 | test_r2 0.9728 \n"
     ]
    },
    {
     "name": "stderr",
     "output_type": "stream",
     "text": [
      "\r",
      " 82%|████████▏ | 816/1000 [12:47<02:54,  1.06it/s]"
     ]
    },
    {
     "name": "stdout",
     "output_type": "stream",
     "text": [
      "Epoch 00815 | Loss 23.0451 | train_RMSE 3.2751 | train_r2 0.9744 | test_RMSE 3.5176 | test_r2 0.9713 \n"
     ]
    },
    {
     "name": "stderr",
     "output_type": "stream",
     "text": [
      "\r",
      " 82%|████████▏ | 817/1000 [12:48<02:53,  1.05it/s]"
     ]
    },
    {
     "name": "stdout",
     "output_type": "stream",
     "text": [
      "Epoch 00816 | Loss 23.1106 | train_RMSE 4.1703 | train_r2 0.9569 | test_RMSE 4.2323 | test_r2 0.9567 \n"
     ]
    },
    {
     "name": "stderr",
     "output_type": "stream",
     "text": [
      "\r",
      " 82%|████████▏ | 818/1000 [12:49<02:55,  1.04it/s]"
     ]
    },
    {
     "name": "stdout",
     "output_type": "stream",
     "text": [
      "Epoch 00817 | Loss 29.4280 | train_RMSE 4.3866 | train_r2 0.9571 | test_RMSE 4.6456 | test_r2 0.9531 \n"
     ]
    },
    {
     "name": "stderr",
     "output_type": "stream",
     "text": [
      "\r",
      " 82%|████████▏ | 819/1000 [12:50<02:54,  1.04it/s]"
     ]
    },
    {
     "name": "stdout",
     "output_type": "stream",
     "text": [
      "Epoch 00818 | Loss 33.3670 | train_RMSE 4.8566 | train_r2 0.9395 | test_RMSE 4.9011 | test_r2 0.9400 \n"
     ]
    },
    {
     "name": "stderr",
     "output_type": "stream",
     "text": [
      "\r",
      " 82%|████████▏ | 820/1000 [12:50<02:51,  1.05it/s]"
     ]
    },
    {
     "name": "stdout",
     "output_type": "stream",
     "text": [
      "Epoch 00819 | Loss 35.5478 | train_RMSE 3.9133 | train_r2 0.9636 | test_RMSE 4.2015 | test_r2 0.9594 \n"
     ]
    },
    {
     "name": "stderr",
     "output_type": "stream",
     "text": [
      "\r",
      " 82%|████████▏ | 821/1000 [12:51<02:50,  1.05it/s]"
     ]
    },
    {
     "name": "stdout",
     "output_type": "stream",
     "text": [
      "Epoch 00820 | Loss 30.8594 | train_RMSE 3.4837 | train_r2 0.9693 | test_RMSE 3.6271 | test_r2 0.9677 \n"
     ]
    },
    {
     "name": "stderr",
     "output_type": "stream",
     "text": [
      "\r",
      " 82%|████████▏ | 822/1000 [12:52<02:51,  1.04it/s]"
     ]
    },
    {
     "name": "stdout",
     "output_type": "stream",
     "text": [
      "Epoch 00821 | Loss 22.9136 | train_RMSE 3.0969 | train_r2 0.9770 | test_RMSE 3.3319 | test_r2 0.9742 \n"
     ]
    },
    {
     "name": "stderr",
     "output_type": "stream",
     "text": [
      "\r",
      " 82%|████████▏ | 823/1000 [12:53<02:49,  1.04it/s]"
     ]
    },
    {
     "name": "stdout",
     "output_type": "stream",
     "text": [
      "Epoch 00822 | Loss 21.3160 | train_RMSE 3.5021 | train_r2 0.9722 | test_RMSE 3.8229 | test_r2 0.9678 \n"
     ]
    },
    {
     "name": "stderr",
     "output_type": "stream",
     "text": [
      "\r",
      " 82%|████████▏ | 824/1000 [12:54<02:49,  1.04it/s]"
     ]
    },
    {
     "name": "stdout",
     "output_type": "stream",
     "text": [
      "Epoch 00823 | Loss 27.3876 | train_RMSE 4.7592 | train_r2 0.9427 | test_RMSE 4.8260 | test_r2 0.9422 \n"
     ]
    },
    {
     "name": "stderr",
     "output_type": "stream",
     "text": [
      "\r",
      " 82%|████████▎ | 825/1000 [12:55<02:48,  1.04it/s]"
     ]
    },
    {
     "name": "stdout",
     "output_type": "stream",
     "text": [
      "Epoch 00824 | Loss 34.3570 | train_RMSE 4.7202 | train_r2 0.9479 | test_RMSE 4.9227 | test_r2 0.9449 \n"
     ]
    },
    {
     "name": "stderr",
     "output_type": "stream",
     "text": [
      "\r",
      " 83%|████████▎ | 826/1000 [12:56<02:46,  1.04it/s]"
     ]
    },
    {
     "name": "stdout",
     "output_type": "stream",
     "text": [
      "Epoch 00825 | Loss 35.5403 | train_RMSE 4.5157 | train_r2 0.9471 | test_RMSE 4.6741 | test_r2 0.9446 \n"
     ]
    },
    {
     "name": "stderr",
     "output_type": "stream",
     "text": [
      "\r",
      " 83%|████████▎ | 827/1000 [12:57<02:45,  1.04it/s]"
     ]
    },
    {
     "name": "stdout",
     "output_type": "stream",
     "text": [
      "Epoch 00826 | Loss 32.3715 | train_RMSE 3.3024 | train_r2 0.9746 | test_RMSE 3.6444 | test_r2 0.9698 \n"
     ]
    },
    {
     "name": "stderr",
     "output_type": "stream",
     "text": [
      "\r",
      " 83%|████████▎ | 828/1000 [12:58<02:42,  1.06it/s]"
     ]
    },
    {
     "name": "stdout",
     "output_type": "stream",
     "text": [
      "Epoch 00827 | Loss 23.2095 | train_RMSE 3.0895 | train_r2 0.9776 | test_RMSE 3.4439 | test_r2 0.9730 \n"
     ]
    },
    {
     "name": "stderr",
     "output_type": "stream",
     "text": [
      "\r",
      " 83%|████████▎ | 829/1000 [12:59<02:41,  1.06it/s]"
     ]
    },
    {
     "name": "stdout",
     "output_type": "stream",
     "text": [
      "Epoch 00828 | Loss 23.5319 | train_RMSE 3.3326 | train_r2 0.9733 | test_RMSE 3.5922 | test_r2 0.9700 \n"
     ]
    },
    {
     "name": "stderr",
     "output_type": "stream",
     "text": [
      "\r",
      " 83%|████████▎ | 830/1000 [13:00<02:40,  1.06it/s]"
     ]
    },
    {
     "name": "stdout",
     "output_type": "stream",
     "text": [
      "Epoch 00829 | Loss 23.6335 | train_RMSE 3.2225 | train_r2 0.9754 | test_RMSE 3.5643 | test_r2 0.9709 \n"
     ]
    },
    {
     "name": "stderr",
     "output_type": "stream",
     "text": [
      "\r",
      " 83%|████████▎ | 831/1000 [13:01<02:38,  1.06it/s]"
     ]
    },
    {
     "name": "stdout",
     "output_type": "stream",
     "text": [
      "Epoch 00830 | Loss 23.9171 | train_RMSE 3.3735 | train_r2 0.9716 | test_RMSE 3.6703 | test_r2 0.9674 \n"
     ]
    },
    {
     "name": "stderr",
     "output_type": "stream",
     "text": [
      "\r",
      " 83%|████████▎ | 832/1000 [13:02<02:39,  1.05it/s]"
     ]
    },
    {
     "name": "stdout",
     "output_type": "stream",
     "text": [
      "Epoch 00831 | Loss 23.8491 | train_RMSE 3.1917 | train_r2 0.9756 | test_RMSE 3.5469 | test_r2 0.9706 \n"
     ]
    },
    {
     "name": "stderr",
     "output_type": "stream",
     "text": [
      "\r",
      " 83%|████████▎ | 833/1000 [13:03<02:39,  1.05it/s]"
     ]
    },
    {
     "name": "stdout",
     "output_type": "stream",
     "text": [
      "Epoch 00832 | Loss 23.8889 | train_RMSE 3.2408 | train_r2 0.9744 | test_RMSE 3.5772 | test_r2 0.9694 \n"
     ]
    },
    {
     "name": "stderr",
     "output_type": "stream",
     "text": [
      "\r",
      " 83%|████████▎ | 834/1000 [13:04<02:39,  1.04it/s]"
     ]
    },
    {
     "name": "stdout",
     "output_type": "stream",
     "text": [
      "Epoch 00833 | Loss 23.3168 | train_RMSE 3.0710 | train_r2 0.9780 | test_RMSE 3.4287 | test_r2 0.9731 \n"
     ]
    },
    {
     "name": "stderr",
     "output_type": "stream",
     "text": [
      "\r",
      " 84%|████████▎ | 835/1000 [13:05<02:38,  1.04it/s]"
     ]
    },
    {
     "name": "stdout",
     "output_type": "stream",
     "text": [
      "Epoch 00834 | Loss 23.2486 | train_RMSE 3.0690 | train_r2 0.9773 | test_RMSE 3.4070 | test_r2 0.9728 \n"
     ]
    },
    {
     "name": "stderr",
     "output_type": "stream",
     "text": [
      "\r",
      " 84%|████████▎ | 836/1000 [13:06<02:35,  1.05it/s]"
     ]
    },
    {
     "name": "stdout",
     "output_type": "stream",
     "text": [
      "Epoch 00835 | Loss 23.2685 | train_RMSE 3.0361 | train_r2 0.9778 | test_RMSE 3.4338 | test_r2 0.9725 \n"
     ]
    },
    {
     "name": "stderr",
     "output_type": "stream",
     "text": [
      "\r",
      " 84%|████████▎ | 837/1000 [13:07<02:33,  1.06it/s]"
     ]
    },
    {
     "name": "stdout",
     "output_type": "stream",
     "text": [
      "Epoch 00836 | Loss 22.6935 | train_RMSE 3.1925 | train_r2 0.9748 | test_RMSE 3.5355 | test_r2 0.9702 \n"
     ]
    },
    {
     "name": "stderr",
     "output_type": "stream",
     "text": [
      "\r",
      " 84%|████████▍ | 838/1000 [13:08<02:33,  1.06it/s]"
     ]
    },
    {
     "name": "stdout",
     "output_type": "stream",
     "text": [
      "Epoch 00837 | Loss 22.4669 | train_RMSE 3.0445 | train_r2 0.9776 | test_RMSE 3.4213 | test_r2 0.9729 \n"
     ]
    },
    {
     "name": "stderr",
     "output_type": "stream",
     "text": [
      "\r",
      " 84%|████████▍ | 839/1000 [13:08<02:31,  1.06it/s]"
     ]
    },
    {
     "name": "stdout",
     "output_type": "stream",
     "text": [
      "Epoch 00838 | Loss 22.8545 | train_RMSE 2.9944 | train_r2 0.9787 | test_RMSE 3.3845 | test_r2 0.9738 \n"
     ]
    },
    {
     "name": "stderr",
     "output_type": "stream",
     "text": [
      "\r",
      " 84%|████████▍ | 840/1000 [13:09<02:30,  1.06it/s]"
     ]
    },
    {
     "name": "stdout",
     "output_type": "stream",
     "text": [
      "Epoch 00839 | Loss 22.1202 | train_RMSE 3.0412 | train_r2 0.9782 | test_RMSE 3.3999 | test_r2 0.9734 \n"
     ]
    },
    {
     "name": "stderr",
     "output_type": "stream",
     "text": [
      "\r",
      " 84%|████████▍ | 841/1000 [13:10<02:30,  1.06it/s]"
     ]
    },
    {
     "name": "stdout",
     "output_type": "stream",
     "text": [
      "Epoch 00840 | Loss 22.1600 | train_RMSE 3.0175 | train_r2 0.9785 | test_RMSE 3.3860 | test_r2 0.9734 \n"
     ]
    },
    {
     "name": "stderr",
     "output_type": "stream",
     "text": [
      "\r",
      " 84%|████████▍ | 842/1000 [13:11<02:28,  1.06it/s]"
     ]
    },
    {
     "name": "stdout",
     "output_type": "stream",
     "text": [
      "Epoch 00841 | Loss 21.9950 | train_RMSE 3.0851 | train_r2 0.9767 | test_RMSE 3.4135 | test_r2 0.9720 \n"
     ]
    },
    {
     "name": "stderr",
     "output_type": "stream",
     "text": [
      "\r",
      " 84%|████████▍ | 843/1000 [13:12<02:30,  1.05it/s]"
     ]
    },
    {
     "name": "stdout",
     "output_type": "stream",
     "text": [
      "Epoch 00842 | Loss 23.5282 | train_RMSE 2.9962 | train_r2 0.9783 | test_RMSE 3.3067 | test_r2 0.9742 \n"
     ]
    },
    {
     "name": "stderr",
     "output_type": "stream",
     "text": [
      "\r",
      " 84%|████████▍ | 844/1000 [13:13<02:30,  1.04it/s]"
     ]
    },
    {
     "name": "stdout",
     "output_type": "stream",
     "text": [
      "Epoch 00843 | Loss 22.3678 | train_RMSE 2.9630 | train_r2 0.9791 | test_RMSE 3.2623 | test_r2 0.9754 \n"
     ]
    },
    {
     "name": "stderr",
     "output_type": "stream",
     "text": [
      "\r",
      " 84%|████████▍ | 845/1000 [13:14<02:28,  1.04it/s]"
     ]
    },
    {
     "name": "stdout",
     "output_type": "stream",
     "text": [
      "Epoch 00844 | Loss 21.7988 | train_RMSE 3.0037 | train_r2 0.9788 | test_RMSE 3.3276 | test_r2 0.9748 \n"
     ]
    },
    {
     "name": "stderr",
     "output_type": "stream",
     "text": [
      "\r",
      " 85%|████████▍ | 846/1000 [13:15<02:27,  1.04it/s]"
     ]
    },
    {
     "name": "stdout",
     "output_type": "stream",
     "text": [
      "Epoch 00845 | Loss 22.0969 | train_RMSE 3.0038 | train_r2 0.9786 | test_RMSE 3.3558 | test_r2 0.9742 \n"
     ]
    },
    {
     "name": "stderr",
     "output_type": "stream",
     "text": [
      "\r",
      " 85%|████████▍ | 847/1000 [13:16<02:27,  1.03it/s]"
     ]
    },
    {
     "name": "stdout",
     "output_type": "stream",
     "text": [
      "Epoch 00846 | Loss 23.0139 | train_RMSE 3.0049 | train_r2 0.9779 | test_RMSE 3.3363 | test_r2 0.9736 \n"
     ]
    },
    {
     "name": "stderr",
     "output_type": "stream",
     "text": [
      "\r",
      " 85%|████████▍ | 848/1000 [13:17<02:28,  1.02it/s]"
     ]
    },
    {
     "name": "stdout",
     "output_type": "stream",
     "text": [
      "Epoch 00847 | Loss 22.5932 | train_RMSE 3.0078 | train_r2 0.9777 | test_RMSE 3.3640 | test_r2 0.9729 \n"
     ]
    },
    {
     "name": "stderr",
     "output_type": "stream",
     "text": [
      "\r",
      " 85%|████████▍ | 849/1000 [13:18<02:27,  1.02it/s]"
     ]
    },
    {
     "name": "stdout",
     "output_type": "stream",
     "text": [
      "Epoch 00848 | Loss 21.6946 | train_RMSE 2.9908 | train_r2 0.9782 | test_RMSE 3.3357 | test_r2 0.9735 \n"
     ]
    },
    {
     "name": "stderr",
     "output_type": "stream",
     "text": [
      "\r",
      " 85%|████████▌ | 850/1000 [13:19<02:26,  1.03it/s]"
     ]
    },
    {
     "name": "stdout",
     "output_type": "stream",
     "text": [
      "Epoch 00849 | Loss 21.3259 | train_RMSE 2.9666 | train_r2 0.9791 | test_RMSE 3.2835 | test_r2 0.9749 \n"
     ]
    },
    {
     "name": "stderr",
     "output_type": "stream",
     "text": [
      "\r",
      " 85%|████████▌ | 851/1000 [13:20<02:23,  1.04it/s]"
     ]
    },
    {
     "name": "stdout",
     "output_type": "stream",
     "text": [
      "Epoch 00850 | Loss 22.0877 | train_RMSE 2.9560 | train_r2 0.9794 | test_RMSE 3.2613 | test_r2 0.9754 \n"
     ]
    },
    {
     "name": "stderr",
     "output_type": "stream",
     "text": [
      "\r",
      " 85%|████████▌ | 852/1000 [13:21<02:23,  1.03it/s]"
     ]
    },
    {
     "name": "stdout",
     "output_type": "stream",
     "text": [
      "Epoch 00851 | Loss 21.4354 | train_RMSE 3.0613 | train_r2 0.9776 | test_RMSE 3.3358 | test_r2 0.9741 \n"
     ]
    },
    {
     "name": "stderr",
     "output_type": "stream",
     "text": [
      "\r",
      " 85%|████████▌ | 853/1000 [13:22<02:22,  1.03it/s]"
     ]
    },
    {
     "name": "stdout",
     "output_type": "stream",
     "text": [
      "Epoch 00852 | Loss 21.9692 | train_RMSE 3.1197 | train_r2 0.9768 | test_RMSE 3.4622 | test_r2 0.9722 \n"
     ]
    },
    {
     "name": "stderr",
     "output_type": "stream",
     "text": [
      "\r",
      " 85%|████████▌ | 854/1000 [13:23<02:20,  1.04it/s]"
     ]
    },
    {
     "name": "stdout",
     "output_type": "stream",
     "text": [
      "Epoch 00853 | Loss 23.1963 | train_RMSE 3.5922 | train_r2 0.9672 | test_RMSE 3.7615 | test_r2 0.9652 \n"
     ]
    },
    {
     "name": "stderr",
     "output_type": "stream",
     "text": [
      "\r",
      " 86%|████████▌ | 855/1000 [13:24<02:18,  1.05it/s]"
     ]
    },
    {
     "name": "stdout",
     "output_type": "stream",
     "text": [
      "Epoch 00854 | Loss 24.9373 | train_RMSE 3.5837 | train_r2 0.9692 | test_RMSE 3.8892 | test_r2 0.9651 \n"
     ]
    },
    {
     "name": "stderr",
     "output_type": "stream",
     "text": [
      "\r",
      " 86%|████████▌ | 856/1000 [13:25<02:17,  1.04it/s]"
     ]
    },
    {
     "name": "stdout",
     "output_type": "stream",
     "text": [
      "Epoch 00855 | Loss 26.2571 | train_RMSE 3.7435 | train_r2 0.9649 | test_RMSE 3.8906 | test_r2 0.9633 \n"
     ]
    },
    {
     "name": "stderr",
     "output_type": "stream",
     "text": [
      "\r",
      " 86%|████████▌ | 857/1000 [13:26<02:18,  1.03it/s]"
     ]
    },
    {
     "name": "stdout",
     "output_type": "stream",
     "text": [
      "Epoch 00856 | Loss 25.9059 | train_RMSE 3.4061 | train_r2 0.9733 | test_RMSE 3.7578 | test_r2 0.9685 \n"
     ]
    },
    {
     "name": "stderr",
     "output_type": "stream",
     "text": [
      "\r",
      " 86%|████████▌ | 858/1000 [13:27<02:16,  1.04it/s]"
     ]
    },
    {
     "name": "stdout",
     "output_type": "stream",
     "text": [
      "Epoch 00857 | Loss 24.9485 | train_RMSE 3.4390 | train_r2 0.9715 | test_RMSE 3.7144 | test_r2 0.9676 \n"
     ]
    },
    {
     "name": "stderr",
     "output_type": "stream",
     "text": [
      "\r",
      " 86%|████████▌ | 859/1000 [13:28<02:15,  1.04it/s]"
     ]
    },
    {
     "name": "stdout",
     "output_type": "stream",
     "text": [
      "Epoch 00858 | Loss 24.1834 | train_RMSE 3.0562 | train_r2 0.9776 | test_RMSE 3.4293 | test_r2 0.9726 \n"
     ]
    },
    {
     "name": "stderr",
     "output_type": "stream",
     "text": [
      "\r",
      " 86%|████████▌ | 860/1000 [13:29<02:15,  1.04it/s]"
     ]
    },
    {
     "name": "stdout",
     "output_type": "stream",
     "text": [
      "Epoch 00859 | Loss 22.4297 | train_RMSE 3.0223 | train_r2 0.9775 | test_RMSE 3.3177 | test_r2 0.9738 \n"
     ]
    },
    {
     "name": "stderr",
     "output_type": "stream",
     "text": [
      "\r",
      " 86%|████████▌ | 861/1000 [13:30<02:13,  1.04it/s]"
     ]
    },
    {
     "name": "stdout",
     "output_type": "stream",
     "text": [
      "Epoch 00860 | Loss 21.7999 | train_RMSE 3.0727 | train_r2 0.9770 | test_RMSE 3.3550 | test_r2 0.9736 \n"
     ]
    },
    {
     "name": "stderr",
     "output_type": "stream",
     "text": [
      "\r",
      " 86%|████████▌ | 862/1000 [13:31<02:12,  1.04it/s]"
     ]
    },
    {
     "name": "stdout",
     "output_type": "stream",
     "text": [
      "Epoch 00861 | Loss 22.5491 | train_RMSE 3.2431 | train_r2 0.9761 | test_RMSE 3.7160 | test_r2 0.9697 \n"
     ]
    },
    {
     "name": "stderr",
     "output_type": "stream",
     "text": [
      "\r",
      " 86%|████████▋ | 863/1000 [13:32<02:11,  1.04it/s]"
     ]
    },
    {
     "name": "stdout",
     "output_type": "stream",
     "text": [
      "Epoch 00862 | Loss 24.0569 | train_RMSE 3.7077 | train_r2 0.9670 | test_RMSE 3.9639 | test_r2 0.9636 \n"
     ]
    },
    {
     "name": "stderr",
     "output_type": "stream",
     "text": [
      "\r",
      " 86%|████████▋ | 864/1000 [13:33<02:09,  1.05it/s]"
     ]
    },
    {
     "name": "stdout",
     "output_type": "stream",
     "text": [
      "Epoch 00863 | Loss 26.5840 | train_RMSE 3.7214 | train_r2 0.9673 | test_RMSE 4.0714 | test_r2 0.9625 \n"
     ]
    },
    {
     "name": "stderr",
     "output_type": "stream",
     "text": [
      "\r",
      " 86%|████████▋ | 865/1000 [13:34<02:08,  1.05it/s]"
     ]
    },
    {
     "name": "stdout",
     "output_type": "stream",
     "text": [
      "Epoch 00864 | Loss 27.8533 | train_RMSE 4.1558 | train_r2 0.9543 | test_RMSE 4.3770 | test_r2 0.9510 \n"
     ]
    },
    {
     "name": "stderr",
     "output_type": "stream",
     "text": [
      "\r",
      " 87%|████████▋ | 866/1000 [13:34<02:07,  1.05it/s]"
     ]
    },
    {
     "name": "stdout",
     "output_type": "stream",
     "text": [
      "Epoch 00865 | Loss 29.5020 | train_RMSE 3.7764 | train_r2 0.9656 | test_RMSE 4.0302 | test_r2 0.9620 \n"
     ]
    },
    {
     "name": "stderr",
     "output_type": "stream",
     "text": [
      "\r",
      " 87%|████████▋ | 867/1000 [13:35<02:06,  1.05it/s]"
     ]
    },
    {
     "name": "stdout",
     "output_type": "stream",
     "text": [
      "Epoch 00866 | Loss 27.8588 | train_RMSE 3.6045 | train_r2 0.9687 | test_RMSE 3.8616 | test_r2 0.9647 \n"
     ]
    },
    {
     "name": "stderr",
     "output_type": "stream",
     "text": [
      "\r",
      " 87%|████████▋ | 868/1000 [13:36<02:08,  1.03it/s]"
     ]
    },
    {
     "name": "stdout",
     "output_type": "stream",
     "text": [
      "Epoch 00867 | Loss 26.4810 | train_RMSE 3.3876 | train_r2 0.9746 | test_RMSE 3.7535 | test_r2 0.9696 \n"
     ]
    },
    {
     "name": "stderr",
     "output_type": "stream",
     "text": [
      "\r",
      " 87%|████████▋ | 869/1000 [13:37<02:07,  1.03it/s]"
     ]
    },
    {
     "name": "stdout",
     "output_type": "stream",
     "text": [
      "Epoch 00868 | Loss 24.3100 | train_RMSE 3.2231 | train_r2 0.9750 | test_RMSE 3.5145 | test_r2 0.9712 \n"
     ]
    },
    {
     "name": "stderr",
     "output_type": "stream",
     "text": [
      "\r",
      " 87%|████████▋ | 870/1000 [13:38<02:05,  1.03it/s]"
     ]
    },
    {
     "name": "stdout",
     "output_type": "stream",
     "text": [
      "Epoch 00869 | Loss 22.9225 | train_RMSE 3.1783 | train_r2 0.9755 | test_RMSE 3.5306 | test_r2 0.9708 \n"
     ]
    },
    {
     "name": "stderr",
     "output_type": "stream",
     "text": [
      "\r",
      " 87%|████████▋ | 871/1000 [13:39<02:05,  1.02it/s]"
     ]
    },
    {
     "name": "stdout",
     "output_type": "stream",
     "text": [
      "Epoch 00870 | Loss 23.7009 | train_RMSE 3.5404 | train_r2 0.9683 | test_RMSE 3.7014 | test_r2 0.9664 \n"
     ]
    },
    {
     "name": "stderr",
     "output_type": "stream",
     "text": [
      "\r",
      " 87%|████████▋ | 872/1000 [13:40<02:05,  1.02it/s]"
     ]
    },
    {
     "name": "stdout",
     "output_type": "stream",
     "text": [
      "Epoch 00871 | Loss 24.9170 | train_RMSE 3.6055 | train_r2 0.9696 | test_RMSE 3.9285 | test_r2 0.9649 \n"
     ]
    },
    {
     "name": "stderr",
     "output_type": "stream",
     "text": [
      "\r",
      " 87%|████████▋ | 873/1000 [13:41<02:03,  1.03it/s]"
     ]
    },
    {
     "name": "stdout",
     "output_type": "stream",
     "text": [
      "Epoch 00872 | Loss 26.0388 | train_RMSE 4.0184 | train_r2 0.9611 | test_RMSE 4.1815 | test_r2 0.9585 \n"
     ]
    },
    {
     "name": "stderr",
     "output_type": "stream",
     "text": [
      "\r",
      " 87%|████████▋ | 874/1000 [13:42<02:02,  1.03it/s]"
     ]
    },
    {
     "name": "stdout",
     "output_type": "stream",
     "text": [
      "Epoch 00873 | Loss 28.0297 | train_RMSE 3.5437 | train_r2 0.9716 | test_RMSE 3.8126 | test_r2 0.9677 \n"
     ]
    },
    {
     "name": "stderr",
     "output_type": "stream",
     "text": [
      "\r",
      " 88%|████████▊ | 875/1000 [13:43<02:01,  1.03it/s]"
     ]
    },
    {
     "name": "stdout",
     "output_type": "stream",
     "text": [
      "Epoch 00874 | Loss 27.1537 | train_RMSE 3.8123 | train_r2 0.9636 | test_RMSE 4.0195 | test_r2 0.9606 \n"
     ]
    },
    {
     "name": "stderr",
     "output_type": "stream",
     "text": [
      "\r",
      " 88%|████████▊ | 876/1000 [13:44<02:00,  1.03it/s]"
     ]
    },
    {
     "name": "stdout",
     "output_type": "stream",
     "text": [
      "Epoch 00875 | Loss 26.0506 | train_RMSE 3.4225 | train_r2 0.9714 | test_RMSE 3.7091 | test_r2 0.9677 \n"
     ]
    },
    {
     "name": "stderr",
     "output_type": "stream",
     "text": [
      "\r",
      " 88%|████████▊ | 877/1000 [13:45<01:59,  1.03it/s]"
     ]
    },
    {
     "name": "stdout",
     "output_type": "stream",
     "text": [
      "Epoch 00876 | Loss 24.5325 | train_RMSE 3.2889 | train_r2 0.9727 | test_RMSE 3.5313 | test_r2 0.9697 \n"
     ]
    },
    {
     "name": "stderr",
     "output_type": "stream",
     "text": [
      "\r",
      " 88%|████████▊ | 878/1000 [13:46<01:57,  1.04it/s]"
     ]
    },
    {
     "name": "stdout",
     "output_type": "stream",
     "text": [
      "Epoch 00877 | Loss 22.7221 | train_RMSE 3.1153 | train_r2 0.9770 | test_RMSE 3.5510 | test_r2 0.9713 \n"
     ]
    },
    {
     "name": "stderr",
     "output_type": "stream",
     "text": [
      "\r",
      " 88%|████████▊ | 879/1000 [13:47<01:56,  1.04it/s]"
     ]
    },
    {
     "name": "stdout",
     "output_type": "stream",
     "text": [
      "Epoch 00878 | Loss 22.8925 | train_RMSE 3.0513 | train_r2 0.9777 | test_RMSE 3.4518 | test_r2 0.9723 \n"
     ]
    },
    {
     "name": "stderr",
     "output_type": "stream",
     "text": [
      "\r",
      " 88%|████████▊ | 880/1000 [13:48<01:55,  1.04it/s]"
     ]
    },
    {
     "name": "stdout",
     "output_type": "stream",
     "text": [
      "Epoch 00879 | Loss 21.8398 | train_RMSE 2.9809 | train_r2 0.9786 | test_RMSE 3.4251 | test_r2 0.9724 \n"
     ]
    },
    {
     "name": "stderr",
     "output_type": "stream",
     "text": [
      "\r",
      " 88%|████████▊ | 881/1000 [13:49<01:52,  1.05it/s]"
     ]
    },
    {
     "name": "stdout",
     "output_type": "stream",
     "text": [
      "Epoch 00880 | Loss 22.0205 | train_RMSE 3.0040 | train_r2 0.9781 | test_RMSE 3.4459 | test_r2 0.9718 \n"
     ]
    },
    {
     "name": "stderr",
     "output_type": "stream",
     "text": [
      "\r",
      " 88%|████████▊ | 882/1000 [13:50<01:51,  1.06it/s]"
     ]
    },
    {
     "name": "stdout",
     "output_type": "stream",
     "text": [
      "Epoch 00881 | Loss 21.0564 | train_RMSE 3.0016 | train_r2 0.9782 | test_RMSE 3.3918 | test_r2 0.9728 \n"
     ]
    },
    {
     "name": "stderr",
     "output_type": "stream",
     "text": [
      "\r",
      " 88%|████████▊ | 883/1000 [13:51<01:52,  1.04it/s]"
     ]
    },
    {
     "name": "stdout",
     "output_type": "stream",
     "text": [
      "Epoch 00882 | Loss 22.1303 | train_RMSE 3.0464 | train_r2 0.9781 | test_RMSE 3.4525 | test_r2 0.9727 \n"
     ]
    },
    {
     "name": "stderr",
     "output_type": "stream",
     "text": [
      "\r",
      " 88%|████████▊ | 884/1000 [13:52<01:51,  1.04it/s]"
     ]
    },
    {
     "name": "stdout",
     "output_type": "stream",
     "text": [
      "Epoch 00883 | Loss 22.1331 | train_RMSE 3.1975 | train_r2 0.9754 | test_RMSE 3.5362 | test_r2 0.9709 \n"
     ]
    },
    {
     "name": "stderr",
     "output_type": "stream",
     "text": [
      "\r",
      " 88%|████████▊ | 885/1000 [13:53<01:49,  1.05it/s]"
     ]
    },
    {
     "name": "stdout",
     "output_type": "stream",
     "text": [
      "Epoch 00884 | Loss 22.4229 | train_RMSE 3.1199 | train_r2 0.9775 | test_RMSE 3.6158 | test_r2 0.9708 \n"
     ]
    },
    {
     "name": "stderr",
     "output_type": "stream",
     "text": [
      "\r",
      " 89%|████████▊ | 886/1000 [13:54<01:49,  1.05it/s]"
     ]
    },
    {
     "name": "stdout",
     "output_type": "stream",
     "text": [
      "Epoch 00885 | Loss 22.3670 | train_RMSE 3.0819 | train_r2 0.9774 | test_RMSE 3.4988 | test_r2 0.9717 \n"
     ]
    },
    {
     "name": "stderr",
     "output_type": "stream",
     "text": [
      "\r",
      " 89%|████████▊ | 887/1000 [13:55<01:47,  1.05it/s]"
     ]
    },
    {
     "name": "stdout",
     "output_type": "stream",
     "text": [
      "Epoch 00886 | Loss 22.6631 | train_RMSE 2.9742 | train_r2 0.9785 | test_RMSE 3.3467 | test_r2 0.9736 \n"
     ]
    },
    {
     "name": "stderr",
     "output_type": "stream",
     "text": [
      "\r",
      " 89%|████████▉ | 888/1000 [13:56<01:46,  1.06it/s]"
     ]
    },
    {
     "name": "stdout",
     "output_type": "stream",
     "text": [
      "Epoch 00887 | Loss 22.6202 | train_RMSE 3.0941 | train_r2 0.9771 | test_RMSE 3.3820 | test_r2 0.9734 \n"
     ]
    },
    {
     "name": "stderr",
     "output_type": "stream",
     "text": [
      "\r",
      " 89%|████████▉ | 889/1000 [13:57<01:45,  1.05it/s]"
     ]
    },
    {
     "name": "stdout",
     "output_type": "stream",
     "text": [
      "Epoch 00888 | Loss 22.7929 | train_RMSE 3.4847 | train_r2 0.9709 | test_RMSE 3.6498 | test_r2 0.9688 \n"
     ]
    },
    {
     "name": "stderr",
     "output_type": "stream",
     "text": [
      "\r",
      " 89%|████████▉ | 890/1000 [13:58<01:44,  1.05it/s]"
     ]
    },
    {
     "name": "stdout",
     "output_type": "stream",
     "text": [
      "Epoch 00889 | Loss 24.4499 | train_RMSE 3.5376 | train_r2 0.9720 | test_RMSE 3.8592 | test_r2 0.9674 \n"
     ]
    },
    {
     "name": "stderr",
     "output_type": "stream",
     "text": [
      "\r",
      " 89%|████████▉ | 891/1000 [13:58<01:43,  1.05it/s]"
     ]
    },
    {
     "name": "stdout",
     "output_type": "stream",
     "text": [
      "Epoch 00890 | Loss 25.4196 | train_RMSE 3.9093 | train_r2 0.9625 | test_RMSE 4.0534 | test_r2 0.9606 \n"
     ]
    },
    {
     "name": "stderr",
     "output_type": "stream",
     "text": [
      "\r",
      " 89%|████████▉ | 892/1000 [13:59<01:43,  1.04it/s]"
     ]
    },
    {
     "name": "stdout",
     "output_type": "stream",
     "text": [
      "Epoch 00891 | Loss 27.6162 | train_RMSE 3.8269 | train_r2 0.9648 | test_RMSE 4.1407 | test_r2 0.9603 \n"
     ]
    },
    {
     "name": "stderr",
     "output_type": "stream",
     "text": [
      "\r",
      " 89%|████████▉ | 893/1000 [14:00<01:43,  1.03it/s]"
     ]
    },
    {
     "name": "stdout",
     "output_type": "stream",
     "text": [
      "Epoch 00892 | Loss 29.1694 | train_RMSE 4.2405 | train_r2 0.9528 | test_RMSE 4.3092 | test_r2 0.9528 \n"
     ]
    },
    {
     "name": "stderr",
     "output_type": "stream",
     "text": [
      "\r",
      " 89%|████████▉ | 894/1000 [14:01<01:41,  1.04it/s]"
     ]
    },
    {
     "name": "stdout",
     "output_type": "stream",
     "text": [
      "Epoch 00893 | Loss 30.5182 | train_RMSE 3.8155 | train_r2 0.9661 | test_RMSE 4.1028 | test_r2 0.9620 \n"
     ]
    },
    {
     "name": "stderr",
     "output_type": "stream",
     "text": [
      "\r",
      " 90%|████████▉ | 895/1000 [14:02<01:40,  1.04it/s]"
     ]
    },
    {
     "name": "stdout",
     "output_type": "stream",
     "text": [
      "Epoch 00894 | Loss 28.0448 | train_RMSE 3.8088 | train_r2 0.9656 | test_RMSE 4.0060 | test_r2 0.9628 \n"
     ]
    },
    {
     "name": "stderr",
     "output_type": "stream",
     "text": [
      "\r",
      " 90%|████████▉ | 896/1000 [14:03<01:39,  1.04it/s]"
     ]
    },
    {
     "name": "stdout",
     "output_type": "stream",
     "text": [
      "Epoch 00895 | Loss 26.7547 | train_RMSE 3.1178 | train_r2 0.9777 | test_RMSE 3.4665 | test_r2 0.9732 \n"
     ]
    },
    {
     "name": "stderr",
     "output_type": "stream",
     "text": [
      "\r",
      " 90%|████████▉ | 897/1000 [14:04<01:39,  1.04it/s]"
     ]
    },
    {
     "name": "stdout",
     "output_type": "stream",
     "text": [
      "Epoch 00896 | Loss 23.2745 | train_RMSE 2.9803 | train_r2 0.9783 | test_RMSE 3.3526 | test_r2 0.9734 \n"
     ]
    },
    {
     "name": "stderr",
     "output_type": "stream",
     "text": [
      "\r",
      " 90%|████████▉ | 898/1000 [14:05<01:37,  1.04it/s]"
     ]
    },
    {
     "name": "stdout",
     "output_type": "stream",
     "text": [
      "Epoch 00897 | Loss 21.6849 | train_RMSE 3.2628 | train_r2 0.9730 | test_RMSE 3.6403 | test_r2 0.9674 \n"
     ]
    },
    {
     "name": "stderr",
     "output_type": "stream",
     "text": [
      "\r",
      " 90%|████████▉ | 899/1000 [14:06<01:36,  1.05it/s]"
     ]
    },
    {
     "name": "stdout",
     "output_type": "stream",
     "text": [
      "Epoch 00898 | Loss 24.4684 | train_RMSE 3.6045 | train_r2 0.9697 | test_RMSE 3.9547 | test_r2 0.9646 \n"
     ]
    },
    {
     "name": "stderr",
     "output_type": "stream",
     "text": [
      "\r",
      " 90%|█████████ | 900/1000 [14:07<01:34,  1.06it/s]"
     ]
    },
    {
     "name": "stdout",
     "output_type": "stream",
     "text": [
      "Epoch 00899 | Loss 26.9088 | train_RMSE 4.7240 | train_r2 0.9457 | test_RMSE 4.8853 | test_r2 0.9436 \n"
     ]
    },
    {
     "name": "stderr",
     "output_type": "stream",
     "text": [
      "\r",
      " 90%|█████████ | 901/1000 [14:08<01:33,  1.06it/s]"
     ]
    },
    {
     "name": "stdout",
     "output_type": "stream",
     "text": [
      "Epoch 00900 | Loss 34.5711 | train_RMSE 4.7193 | train_r2 0.9510 | test_RMSE 5.0778 | test_r2 0.9453 \n"
     ]
    },
    {
     "name": "stderr",
     "output_type": "stream",
     "text": [
      "\r",
      " 90%|█████████ | 902/1000 [14:09<01:32,  1.06it/s]"
     ]
    },
    {
     "name": "stdout",
     "output_type": "stream",
     "text": [
      "Epoch 00901 | Loss 36.0558 | train_RMSE 4.9700 | train_r2 0.9357 | test_RMSE 5.2022 | test_r2 0.9314 \n"
     ]
    },
    {
     "name": "stderr",
     "output_type": "stream",
     "text": [
      "\r",
      " 90%|█████████ | 903/1000 [14:10<01:32,  1.05it/s]"
     ]
    },
    {
     "name": "stdout",
     "output_type": "stream",
     "text": [
      "Epoch 00902 | Loss 35.9307 | train_RMSE 4.1126 | train_r2 0.9590 | test_RMSE 4.4294 | test_r2 0.9537 \n"
     ]
    },
    {
     "name": "stderr",
     "output_type": "stream",
     "text": [
      "\r",
      " 90%|█████████ | 904/1000 [14:11<01:32,  1.04it/s]"
     ]
    },
    {
     "name": "stdout",
     "output_type": "stream",
     "text": [
      "Epoch 00903 | Loss 31.3992 | train_RMSE 3.5220 | train_r2 0.9691 | test_RMSE 3.9524 | test_r2 0.9618 \n"
     ]
    },
    {
     "name": "stderr",
     "output_type": "stream",
     "text": [
      "\r",
      " 90%|█████████ | 905/1000 [14:12<01:31,  1.03it/s]"
     ]
    },
    {
     "name": "stdout",
     "output_type": "stream",
     "text": [
      "Epoch 00904 | Loss 24.0794 | train_RMSE 3.0927 | train_r2 0.9782 | test_RMSE 3.4964 | test_r2 0.9725 \n"
     ]
    },
    {
     "name": "stderr",
     "output_type": "stream",
     "text": [
      "\r",
      " 91%|█████████ | 906/1000 [14:13<01:31,  1.03it/s]"
     ]
    },
    {
     "name": "stdout",
     "output_type": "stream",
     "text": [
      "Epoch 00905 | Loss 23.3999 | train_RMSE 3.1930 | train_r2 0.9772 | test_RMSE 3.6470 | test_r2 0.9709 \n"
     ]
    },
    {
     "name": "stderr",
     "output_type": "stream",
     "text": [
      "\r",
      " 91%|█████████ | 907/1000 [14:14<01:31,  1.01it/s]"
     ]
    },
    {
     "name": "stdout",
     "output_type": "stream",
     "text": [
      "Epoch 00906 | Loss 23.9566 | train_RMSE 3.6200 | train_r2 0.9676 | test_RMSE 3.8680 | test_r2 0.9641 \n"
     ]
    },
    {
     "name": "stderr",
     "output_type": "stream",
     "text": [
      "\r",
      " 91%|█████████ | 908/1000 [14:15<01:30,  1.02it/s]"
     ]
    },
    {
     "name": "stdout",
     "output_type": "stream",
     "text": [
      "Epoch 00907 | Loss 25.3488 | train_RMSE 4.1302 | train_r2 0.9581 | test_RMSE 4.4262 | test_r2 0.9537 \n"
     ]
    },
    {
     "name": "stderr",
     "output_type": "stream",
     "text": [
      "\r",
      " 91%|█████████ | 909/1000 [14:16<01:30,  1.01it/s]"
     ]
    },
    {
     "name": "stdout",
     "output_type": "stream",
     "text": [
      "Epoch 00908 | Loss 30.2739 | train_RMSE 4.5883 | train_r2 0.9441 | test_RMSE 4.7886 | test_r2 0.9408 \n"
     ]
    },
    {
     "name": "stderr",
     "output_type": "stream",
     "text": [
      "\r",
      " 91%|█████████ | 910/1000 [14:17<01:29,  1.01it/s]"
     ]
    },
    {
     "name": "stdout",
     "output_type": "stream",
     "text": [
      "Epoch 00909 | Loss 32.9303 | train_RMSE 4.0534 | train_r2 0.9623 | test_RMSE 4.3267 | test_r2 0.9579 \n"
     ]
    },
    {
     "name": "stderr",
     "output_type": "stream",
     "text": [
      "\r",
      " 91%|█████████ | 911/1000 [14:18<01:29,  1.00s/it]"
     ]
    },
    {
     "name": "stdout",
     "output_type": "stream",
     "text": [
      "Epoch 00910 | Loss 30.1043 | train_RMSE 3.9952 | train_r2 0.9615 | test_RMSE 4.2111 | test_r2 0.9579 \n"
     ]
    },
    {
     "name": "stderr",
     "output_type": "stream",
     "text": [
      "\r",
      " 91%|█████████ | 912/1000 [14:19<01:28,  1.00s/it]"
     ]
    },
    {
     "name": "stdout",
     "output_type": "stream",
     "text": [
      "Epoch 00911 | Loss 28.0946 | train_RMSE 3.1821 | train_r2 0.9766 | test_RMSE 3.5073 | test_r2 0.9722 \n"
     ]
    },
    {
     "name": "stderr",
     "output_type": "stream",
     "text": [
      "\r",
      " 91%|█████████▏| 913/1000 [14:20<01:26,  1.01it/s]"
     ]
    },
    {
     "name": "stdout",
     "output_type": "stream",
     "text": [
      "Epoch 00912 | Loss 23.0132 | train_RMSE 3.0022 | train_r2 0.9782 | test_RMSE 3.2973 | test_r2 0.9744 \n"
     ]
    },
    {
     "name": "stderr",
     "output_type": "stream",
     "text": [
      "\r",
      " 91%|█████████▏| 914/1000 [14:21<01:27,  1.01s/it]"
     ]
    },
    {
     "name": "stdout",
     "output_type": "stream",
     "text": [
      "Epoch 00913 | Loss 22.0083 | train_RMSE 3.5489 | train_r2 0.9682 | test_RMSE 3.7004 | test_r2 0.9664 \n"
     ]
    },
    {
     "name": "stderr",
     "output_type": "stream",
     "text": [
      "\r",
      " 92%|█████████▏| 915/1000 [14:22<01:26,  1.01s/it]"
     ]
    },
    {
     "name": "stdout",
     "output_type": "stream",
     "text": [
      "Epoch 00914 | Loss 25.3872 | train_RMSE 3.9407 | train_r2 0.9638 | test_RMSE 4.2548 | test_r2 0.9592 \n"
     ]
    },
    {
     "name": "stderr",
     "output_type": "stream",
     "text": [
      "\r",
      " 92%|█████████▏| 916/1000 [14:23<01:24,  1.01s/it]"
     ]
    },
    {
     "name": "stdout",
     "output_type": "stream",
     "text": [
      "Epoch 00915 | Loss 28.4144 | train_RMSE 4.8469 | train_r2 0.9415 | test_RMSE 4.8582 | test_r2 0.9426 \n"
     ]
    },
    {
     "name": "stderr",
     "output_type": "stream",
     "text": [
      "\r",
      " 92%|█████████▏| 917/1000 [14:24<01:24,  1.01s/it]"
     ]
    },
    {
     "name": "stdout",
     "output_type": "stream",
     "text": [
      "Epoch 00916 | Loss 35.6475 | train_RMSE 4.4990 | train_r2 0.9548 | test_RMSE 4.8012 | test_r2 0.9500 \n"
     ]
    },
    {
     "name": "stderr",
     "output_type": "stream",
     "text": [
      "\r",
      " 92%|█████████▏| 918/1000 [14:25<01:21,  1.00it/s]"
     ]
    },
    {
     "name": "stdout",
     "output_type": "stream",
     "text": [
      "Epoch 00917 | Loss 34.3791 | train_RMSE 4.8581 | train_r2 0.9401 | test_RMSE 4.8991 | test_r2 0.9404 \n"
     ]
    },
    {
     "name": "stderr",
     "output_type": "stream",
     "text": [
      "\r",
      " 92%|█████████▏| 919/1000 [14:26<01:20,  1.01it/s]"
     ]
    },
    {
     "name": "stdout",
     "output_type": "stream",
     "text": [
      "Epoch 00918 | Loss 35.6719 | train_RMSE 4.2698 | train_r2 0.9576 | test_RMSE 4.4907 | test_r2 0.9543 \n"
     ]
    },
    {
     "name": "stderr",
     "output_type": "stream",
     "text": [
      "\r",
      " 92%|█████████▏| 920/1000 [14:27<01:19,  1.01it/s]"
     ]
    },
    {
     "name": "stdout",
     "output_type": "stream",
     "text": [
      "Epoch 00919 | Loss 31.5578 | train_RMSE 3.8544 | train_r2 0.9630 | test_RMSE 4.0167 | test_r2 0.9608 \n"
     ]
    },
    {
     "name": "stderr",
     "output_type": "stream",
     "text": [
      "\r",
      " 92%|█████████▏| 921/1000 [14:28<01:17,  1.02it/s]"
     ]
    },
    {
     "name": "stdout",
     "output_type": "stream",
     "text": [
      "Epoch 00920 | Loss 27.6269 | train_RMSE 3.1022 | train_r2 0.9775 | test_RMSE 3.4401 | test_r2 0.9731 \n"
     ]
    },
    {
     "name": "stderr",
     "output_type": "stream",
     "text": [
      "\r",
      " 92%|█████████▏| 922/1000 [14:29<01:15,  1.03it/s]"
     ]
    },
    {
     "name": "stdout",
     "output_type": "stream",
     "text": [
      "Epoch 00921 | Loss 22.4542 | train_RMSE 3.0259 | train_r2 0.9785 | test_RMSE 3.3991 | test_r2 0.9738 \n"
     ]
    },
    {
     "name": "stderr",
     "output_type": "stream",
     "text": [
      "\r",
      " 92%|█████████▏| 923/1000 [14:30<01:14,  1.03it/s]"
     ]
    },
    {
     "name": "stdout",
     "output_type": "stream",
     "text": [
      "Epoch 00922 | Loss 20.7505 | train_RMSE 3.6178 | train_r2 0.9679 | test_RMSE 3.7893 | test_r2 0.9659 \n"
     ]
    },
    {
     "name": "stderr",
     "output_type": "stream",
     "text": [
      "\r",
      " 92%|█████████▏| 924/1000 [14:31<01:14,  1.02it/s]"
     ]
    },
    {
     "name": "stdout",
     "output_type": "stream",
     "text": [
      "Epoch 00923 | Loss 26.0112 | train_RMSE 3.6282 | train_r2 0.9692 | test_RMSE 3.9763 | test_r2 0.9641 \n"
     ]
    },
    {
     "name": "stderr",
     "output_type": "stream",
     "text": [
      "\r",
      " 92%|█████████▎| 925/1000 [14:32<01:13,  1.02it/s]"
     ]
    },
    {
     "name": "stdout",
     "output_type": "stream",
     "text": [
      "Epoch 00924 | Loss 26.8810 | train_RMSE 3.8962 | train_r2 0.9615 | test_RMSE 4.0961 | test_r2 0.9583 \n"
     ]
    },
    {
     "name": "stderr",
     "output_type": "stream",
     "text": [
      "\r",
      " 93%|█████████▎| 926/1000 [14:33<01:11,  1.03it/s]"
     ]
    },
    {
     "name": "stdout",
     "output_type": "stream",
     "text": [
      "Epoch 00925 | Loss 28.3345 | train_RMSE 3.6138 | train_r2 0.9695 | test_RMSE 3.9014 | test_r2 0.9652 \n"
     ]
    },
    {
     "name": "stderr",
     "output_type": "stream",
     "text": [
      "\r",
      " 93%|█████████▎| 927/1000 [14:34<01:10,  1.03it/s]"
     ]
    },
    {
     "name": "stdout",
     "output_type": "stream",
     "text": [
      "Epoch 00926 | Loss 26.7853 | train_RMSE 3.8855 | train_r2 0.9631 | test_RMSE 4.0904 | test_r2 0.9599 \n"
     ]
    },
    {
     "name": "stderr",
     "output_type": "stream",
     "text": [
      "\r",
      " 93%|█████████▎| 928/1000 [14:35<01:10,  1.03it/s]"
     ]
    },
    {
     "name": "stdout",
     "output_type": "stream",
     "text": [
      "Epoch 00927 | Loss 28.3745 | train_RMSE 3.8955 | train_r2 0.9656 | test_RMSE 4.1833 | test_r2 0.9613 \n"
     ]
    },
    {
     "name": "stderr",
     "output_type": "stream",
     "text": [
      "\r",
      " 93%|█████████▎| 929/1000 [14:36<01:09,  1.02it/s]"
     ]
    },
    {
     "name": "stdout",
     "output_type": "stream",
     "text": [
      "Epoch 00928 | Loss 28.4777 | train_RMSE 4.0615 | train_r2 0.9589 | test_RMSE 4.2263 | test_r2 0.9567 \n"
     ]
    },
    {
     "name": "stderr",
     "output_type": "stream",
     "text": [
      "\r",
      " 93%|█████████▎| 930/1000 [14:37<01:08,  1.03it/s]"
     ]
    },
    {
     "name": "stdout",
     "output_type": "stream",
     "text": [
      "Epoch 00929 | Loss 28.9055 | train_RMSE 3.3401 | train_r2 0.9733 | test_RMSE 3.7033 | test_r2 0.9682 \n"
     ]
    },
    {
     "name": "stderr",
     "output_type": "stream",
     "text": [
      "\r",
      " 93%|█████████▎| 931/1000 [14:38<01:07,  1.02it/s]"
     ]
    },
    {
     "name": "stdout",
     "output_type": "stream",
     "text": [
      "Epoch 00930 | Loss 24.5670 | train_RMSE 3.0676 | train_r2 0.9764 | test_RMSE 3.3953 | test_r2 0.9720 \n"
     ]
    },
    {
     "name": "stderr",
     "output_type": "stream",
     "text": [
      "\r",
      " 93%|█████████▎| 932/1000 [14:39<01:05,  1.03it/s]"
     ]
    },
    {
     "name": "stdout",
     "output_type": "stream",
     "text": [
      "Epoch 00931 | Loss 21.7733 | train_RMSE 3.1028 | train_r2 0.9762 | test_RMSE 3.4565 | test_r2 0.9713 \n"
     ]
    },
    {
     "name": "stderr",
     "output_type": "stream",
     "text": [
      "\r",
      " 93%|█████████▎| 933/1000 [14:40<01:05,  1.02it/s]"
     ]
    },
    {
     "name": "stdout",
     "output_type": "stream",
     "text": [
      "Epoch 00932 | Loss 23.2571 | train_RMSE 3.7131 | train_r2 0.9687 | test_RMSE 4.0327 | test_r2 0.9640 \n"
     ]
    },
    {
     "name": "stderr",
     "output_type": "stream",
     "text": [
      "\r",
      " 93%|█████████▎| 934/1000 [14:41<01:04,  1.02it/s]"
     ]
    },
    {
     "name": "stdout",
     "output_type": "stream",
     "text": [
      "Epoch 00933 | Loss 26.8915 | train_RMSE 4.6580 | train_r2 0.9465 | test_RMSE 4.8389 | test_r2 0.9437 \n"
     ]
    },
    {
     "name": "stderr",
     "output_type": "stream",
     "text": [
      "\r",
      " 94%|█████████▎| 935/1000 [14:42<01:03,  1.03it/s]"
     ]
    },
    {
     "name": "stdout",
     "output_type": "stream",
     "text": [
      "Epoch 00934 | Loss 35.8151 | train_RMSE 4.7244 | train_r2 0.9492 | test_RMSE 4.9024 | test_r2 0.9471 \n"
     ]
    },
    {
     "name": "stderr",
     "output_type": "stream",
     "text": [
      "\r",
      " 94%|█████████▎| 936/1000 [14:42<01:01,  1.04it/s]"
     ]
    },
    {
     "name": "stdout",
     "output_type": "stream",
     "text": [
      "Epoch 00935 | Loss 35.9221 | train_RMSE 5.0211 | train_r2 0.9346 | test_RMSE 5.1426 | test_r2 0.9332 \n"
     ]
    },
    {
     "name": "stderr",
     "output_type": "stream",
     "text": [
      "\r",
      " 94%|█████████▎| 937/1000 [14:43<01:00,  1.04it/s]"
     ]
    },
    {
     "name": "stdout",
     "output_type": "stream",
     "text": [
      "Epoch 00936 | Loss 38.4218 | train_RMSE 4.0872 | train_r2 0.9613 | test_RMSE 4.3659 | test_r2 0.9572 \n"
     ]
    },
    {
     "name": "stderr",
     "output_type": "stream",
     "text": [
      "\r",
      " 94%|█████████▍| 938/1000 [14:44<00:59,  1.04it/s]"
     ]
    },
    {
     "name": "stdout",
     "output_type": "stream",
     "text": [
      "Epoch 00937 | Loss 30.4780 | train_RMSE 3.5921 | train_r2 0.9689 | test_RMSE 3.9244 | test_r2 0.9638 \n"
     ]
    },
    {
     "name": "stderr",
     "output_type": "stream",
     "text": [
      "\r",
      " 94%|█████████▍| 939/1000 [14:45<00:59,  1.03it/s]"
     ]
    },
    {
     "name": "stdout",
     "output_type": "stream",
     "text": [
      "Epoch 00938 | Loss 25.3016 | train_RMSE 3.0104 | train_r2 0.9791 | test_RMSE 3.4410 | test_r2 0.9733 \n"
     ]
    },
    {
     "name": "stderr",
     "output_type": "stream",
     "text": [
      "\r",
      " 94%|█████████▍| 940/1000 [14:46<00:58,  1.03it/s]"
     ]
    },
    {
     "name": "stdout",
     "output_type": "stream",
     "text": [
      "Epoch 00939 | Loss 22.2074 | train_RMSE 3.0080 | train_r2 0.9786 | test_RMSE 3.3839 | test_r2 0.9735 \n"
     ]
    },
    {
     "name": "stderr",
     "output_type": "stream",
     "text": [
      "\r",
      " 94%|█████████▍| 941/1000 [14:47<00:57,  1.03it/s]"
     ]
    },
    {
     "name": "stdout",
     "output_type": "stream",
     "text": [
      "Epoch 00940 | Loss 22.4642 | train_RMSE 3.6418 | train_r2 0.9665 | test_RMSE 3.8596 | test_r2 0.9633 \n"
     ]
    },
    {
     "name": "stderr",
     "output_type": "stream",
     "text": [
      "\r",
      " 94%|█████████▍| 942/1000 [14:48<00:56,  1.03it/s]"
     ]
    },
    {
     "name": "stdout",
     "output_type": "stream",
     "text": [
      "Epoch 00941 | Loss 24.6342 | train_RMSE 3.4218 | train_r2 0.9720 | test_RMSE 3.7092 | test_r2 0.9681 \n"
     ]
    },
    {
     "name": "stderr",
     "output_type": "stream",
     "text": [
      "\r",
      " 94%|█████████▍| 943/1000 [14:49<00:55,  1.03it/s]"
     ]
    },
    {
     "name": "stdout",
     "output_type": "stream",
     "text": [
      "Epoch 00942 | Loss 24.8039 | train_RMSE 3.5429 | train_r2 0.9690 | test_RMSE 3.8414 | test_r2 0.9645 \n"
     ]
    },
    {
     "name": "stderr",
     "output_type": "stream",
     "text": [
      "\r",
      " 94%|█████████▍| 944/1000 [14:50<00:53,  1.04it/s]"
     ]
    },
    {
     "name": "stdout",
     "output_type": "stream",
     "text": [
      "Epoch 00943 | Loss 25.3052 | train_RMSE 3.1418 | train_r2 0.9770 | test_RMSE 3.5606 | test_r2 0.9711 \n"
     ]
    },
    {
     "name": "stderr",
     "output_type": "stream",
     "text": [
      "\r",
      " 94%|█████████▍| 945/1000 [14:51<00:52,  1.04it/s]"
     ]
    },
    {
     "name": "stdout",
     "output_type": "stream",
     "text": [
      "Epoch 00944 | Loss 23.0143 | train_RMSE 3.0895 | train_r2 0.9770 | test_RMSE 3.4526 | test_r2 0.9719 \n"
     ]
    },
    {
     "name": "stderr",
     "output_type": "stream",
     "text": [
      "\r",
      " 95%|█████████▍| 946/1000 [14:52<00:51,  1.04it/s]"
     ]
    },
    {
     "name": "stdout",
     "output_type": "stream",
     "text": [
      "Epoch 00945 | Loss 22.7386 | train_RMSE 2.9989 | train_r2 0.9777 | test_RMSE 3.3529 | test_r2 0.9729 \n"
     ]
    },
    {
     "name": "stderr",
     "output_type": "stream",
     "text": [
      "\r",
      " 95%|█████████▍| 947/1000 [14:53<00:51,  1.04it/s]"
     ]
    },
    {
     "name": "stdout",
     "output_type": "stream",
     "text": [
      "Epoch 00946 | Loss 21.6702 | train_RMSE 3.0958 | train_r2 0.9765 | test_RMSE 3.4782 | test_r2 0.9714 \n"
     ]
    },
    {
     "name": "stderr",
     "output_type": "stream",
     "text": [
      "\r",
      " 95%|█████████▍| 948/1000 [14:54<00:49,  1.04it/s]"
     ]
    },
    {
     "name": "stdout",
     "output_type": "stream",
     "text": [
      "Epoch 00947 | Loss 22.7621 | train_RMSE 3.5897 | train_r2 0.9683 | test_RMSE 3.7957 | test_r2 0.9657 \n"
     ]
    },
    {
     "name": "stderr",
     "output_type": "stream",
     "text": [
      "\r",
      " 95%|█████████▍| 949/1000 [14:55<00:48,  1.05it/s]"
     ]
    },
    {
     "name": "stdout",
     "output_type": "stream",
     "text": [
      "Epoch 00948 | Loss 25.3801 | train_RMSE 3.8793 | train_r2 0.9665 | test_RMSE 4.3186 | test_r2 0.9599 \n"
     ]
    },
    {
     "name": "stderr",
     "output_type": "stream",
     "text": [
      "\r",
      " 95%|█████████▌| 950/1000 [14:56<00:47,  1.05it/s]"
     ]
    },
    {
     "name": "stdout",
     "output_type": "stream",
     "text": [
      "Epoch 00949 | Loss 30.1311 | train_RMSE 4.7204 | train_r2 0.9443 | test_RMSE 4.8740 | test_r2 0.9420 \n"
     ]
    },
    {
     "name": "stderr",
     "output_type": "stream",
     "text": [
      "\r",
      " 95%|█████████▌| 951/1000 [14:57<00:46,  1.06it/s]"
     ]
    },
    {
     "name": "stdout",
     "output_type": "stream",
     "text": [
      "Epoch 00950 | Loss 34.3521 | train_RMSE 4.3461 | train_r2 0.9555 | test_RMSE 4.6045 | test_r2 0.9515 \n"
     ]
    },
    {
     "name": "stderr",
     "output_type": "stream",
     "text": [
      "\r",
      " 95%|█████████▌| 952/1000 [14:58<00:46,  1.04it/s]"
     ]
    },
    {
     "name": "stdout",
     "output_type": "stream",
     "text": [
      "Epoch 00951 | Loss 32.9778 | train_RMSE 4.1209 | train_r2 0.9558 | test_RMSE 4.3988 | test_r2 0.9510 \n"
     ]
    },
    {
     "name": "stderr",
     "output_type": "stream",
     "text": [
      "\r",
      " 95%|█████████▌| 953/1000 [14:59<00:45,  1.04it/s]"
     ]
    },
    {
     "name": "stdout",
     "output_type": "stream",
     "text": [
      "Epoch 00952 | Loss 28.8357 | train_RMSE 3.0722 | train_r2 0.9773 | test_RMSE 3.4967 | test_r2 0.9715 \n"
     ]
    },
    {
     "name": "stderr",
     "output_type": "stream",
     "text": [
      "\r",
      " 95%|█████████▌| 954/1000 [15:00<00:44,  1.04it/s]"
     ]
    },
    {
     "name": "stdout",
     "output_type": "stream",
     "text": [
      "Epoch 00953 | Loss 22.7852 | train_RMSE 2.9569 | train_r2 0.9797 | test_RMSE 3.4168 | test_r2 0.9738 \n"
     ]
    },
    {
     "name": "stderr",
     "output_type": "stream",
     "text": [
      "\r",
      " 96%|█████████▌| 955/1000 [15:01<00:42,  1.05it/s]"
     ]
    },
    {
     "name": "stdout",
     "output_type": "stream",
     "text": [
      "Epoch 00954 | Loss 21.7988 | train_RMSE 3.3036 | train_r2 0.9747 | test_RMSE 3.6353 | test_r2 0.9703 \n"
     ]
    },
    {
     "name": "stderr",
     "output_type": "stream",
     "text": [
      "\r",
      " 96%|█████████▌| 956/1000 [15:02<00:41,  1.05it/s]"
     ]
    },
    {
     "name": "stdout",
     "output_type": "stream",
     "text": [
      "Epoch 00955 | Loss 23.9750 | train_RMSE 3.3712 | train_r2 0.9740 | test_RMSE 3.7738 | test_r2 0.9684 \n"
     ]
    },
    {
     "name": "stderr",
     "output_type": "stream",
     "text": [
      "\r",
      " 96%|█████████▌| 957/1000 [15:03<00:40,  1.05it/s]"
     ]
    },
    {
     "name": "stdout",
     "output_type": "stream",
     "text": [
      "Epoch 00956 | Loss 24.5845 | train_RMSE 3.6287 | train_r2 0.9668 | test_RMSE 3.8495 | test_r2 0.9637 \n"
     ]
    },
    {
     "name": "stderr",
     "output_type": "stream",
     "text": [
      "\r",
      " 96%|█████████▌| 958/1000 [15:04<00:40,  1.05it/s]"
     ]
    },
    {
     "name": "stdout",
     "output_type": "stream",
     "text": [
      "Epoch 00957 | Loss 24.6706 | train_RMSE 3.1612 | train_r2 0.9755 | test_RMSE 3.5705 | test_r2 0.9696 \n"
     ]
    },
    {
     "name": "stderr",
     "output_type": "stream",
     "text": [
      "\r",
      " 96%|█████████▌| 959/1000 [15:05<00:39,  1.05it/s]"
     ]
    },
    {
     "name": "stdout",
     "output_type": "stream",
     "text": [
      "Epoch 00958 | Loss 24.4678 | train_RMSE 3.0428 | train_r2 0.9775 | test_RMSE 3.4421 | test_r2 0.9718 \n"
     ]
    },
    {
     "name": "stderr",
     "output_type": "stream",
     "text": [
      "\r",
      " 96%|█████████▌| 960/1000 [15:05<00:38,  1.05it/s]"
     ]
    },
    {
     "name": "stdout",
     "output_type": "stream",
     "text": [
      "Epoch 00959 | Loss 22.7367 | train_RMSE 2.9878 | train_r2 0.9792 | test_RMSE 3.4139 | test_r2 0.9735 \n"
     ]
    },
    {
     "name": "stderr",
     "output_type": "stream",
     "text": [
      "\r",
      " 96%|█████████▌| 961/1000 [15:06<00:37,  1.05it/s]"
     ]
    },
    {
     "name": "stdout",
     "output_type": "stream",
     "text": [
      "Epoch 00960 | Loss 21.9760 | train_RMSE 2.9581 | train_r2 0.9795 | test_RMSE 3.3758 | test_r2 0.9740 \n"
     ]
    },
    {
     "name": "stderr",
     "output_type": "stream",
     "text": [
      "\r",
      " 96%|█████████▌| 962/1000 [15:07<00:36,  1.04it/s]"
     ]
    },
    {
     "name": "stdout",
     "output_type": "stream",
     "text": [
      "Epoch 00961 | Loss 21.6311 | train_RMSE 3.1126 | train_r2 0.9759 | test_RMSE 3.4095 | test_r2 0.9719 \n"
     ]
    },
    {
     "name": "stderr",
     "output_type": "stream",
     "text": [
      "\r",
      " 96%|█████████▋| 963/1000 [15:08<00:35,  1.05it/s]"
     ]
    },
    {
     "name": "stdout",
     "output_type": "stream",
     "text": [
      "Epoch 00962 | Loss 23.0268 | train_RMSE 3.1591 | train_r2 0.9750 | test_RMSE 3.4510 | test_r2 0.9713 \n"
     ]
    },
    {
     "name": "stderr",
     "output_type": "stream",
     "text": [
      "\r",
      " 96%|█████████▋| 964/1000 [15:09<00:34,  1.04it/s]"
     ]
    },
    {
     "name": "stdout",
     "output_type": "stream",
     "text": [
      "Epoch 00963 | Loss 22.8467 | train_RMSE 3.0254 | train_r2 0.9774 | test_RMSE 3.3534 | test_r2 0.9732 \n"
     ]
    },
    {
     "name": "stderr",
     "output_type": "stream",
     "text": [
      "\r",
      " 96%|█████████▋| 965/1000 [15:10<00:33,  1.04it/s]"
     ]
    },
    {
     "name": "stdout",
     "output_type": "stream",
     "text": [
      "Epoch 00964 | Loss 21.7767 | train_RMSE 2.9596 | train_r2 0.9794 | test_RMSE 3.3585 | test_r2 0.9741 \n"
     ]
    },
    {
     "name": "stderr",
     "output_type": "stream",
     "text": [
      "\r",
      " 97%|█████████▋| 966/1000 [15:11<00:33,  1.03it/s]"
     ]
    },
    {
     "name": "stdout",
     "output_type": "stream",
     "text": [
      "Epoch 00965 | Loss 22.2165 | train_RMSE 3.0163 | train_r2 0.9790 | test_RMSE 3.4251 | test_r2 0.9736 \n"
     ]
    },
    {
     "name": "stderr",
     "output_type": "stream",
     "text": [
      "\r",
      " 97%|█████████▋| 967/1000 [15:12<00:32,  1.03it/s]"
     ]
    },
    {
     "name": "stdout",
     "output_type": "stream",
     "text": [
      "Epoch 00966 | Loss 22.4024 | train_RMSE 3.0358 | train_r2 0.9777 | test_RMSE 3.3867 | test_r2 0.9730 \n"
     ]
    },
    {
     "name": "stderr",
     "output_type": "stream",
     "text": [
      "\r",
      " 97%|█████████▋| 968/1000 [15:13<00:30,  1.03it/s]"
     ]
    },
    {
     "name": "stdout",
     "output_type": "stream",
     "text": [
      "Epoch 00967 | Loss 22.3978 | train_RMSE 2.9904 | train_r2 0.9783 | test_RMSE 3.3754 | test_r2 0.9731 \n"
     ]
    },
    {
     "name": "stderr",
     "output_type": "stream",
     "text": [
      "\r",
      " 97%|█████████▋| 969/1000 [15:14<00:29,  1.04it/s]"
     ]
    },
    {
     "name": "stdout",
     "output_type": "stream",
     "text": [
      "Epoch 00968 | Loss 23.0752 | train_RMSE 3.0434 | train_r2 0.9773 | test_RMSE 3.3984 | test_r2 0.9726 \n"
     ]
    },
    {
     "name": "stderr",
     "output_type": "stream",
     "text": [
      "\r",
      " 97%|█████████▋| 970/1000 [15:15<00:29,  1.02it/s]"
     ]
    },
    {
     "name": "stdout",
     "output_type": "stream",
     "text": [
      "Epoch 00969 | Loss 21.3382 | train_RMSE 2.9137 | train_r2 0.9800 | test_RMSE 3.2924 | test_r2 0.9753 \n"
     ]
    },
    {
     "name": "stderr",
     "output_type": "stream",
     "text": [
      "\r",
      " 97%|█████████▋| 971/1000 [15:16<00:28,  1.02it/s]"
     ]
    },
    {
     "name": "stdout",
     "output_type": "stream",
     "text": [
      "Epoch 00970 | Loss 21.3082 | train_RMSE 2.9455 | train_r2 0.9796 | test_RMSE 3.3221 | test_r2 0.9749 \n"
     ]
    },
    {
     "name": "stderr",
     "output_type": "stream",
     "text": [
      "\r",
      " 97%|█████████▋| 972/1000 [15:17<00:27,  1.02it/s]"
     ]
    },
    {
     "name": "stdout",
     "output_type": "stream",
     "text": [
      "Epoch 00971 | Loss 21.1455 | train_RMSE 2.9342 | train_r2 0.9794 | test_RMSE 3.3075 | test_r2 0.9747 \n"
     ]
    },
    {
     "name": "stderr",
     "output_type": "stream",
     "text": [
      "\r",
      " 97%|█████████▋| 973/1000 [15:18<00:26,  1.01it/s]"
     ]
    },
    {
     "name": "stdout",
     "output_type": "stream",
     "text": [
      "Epoch 00972 | Loss 21.1181 | train_RMSE 2.9404 | train_r2 0.9789 | test_RMSE 3.3272 | test_r2 0.9738 \n"
     ]
    },
    {
     "name": "stderr",
     "output_type": "stream",
     "text": [
      "\r",
      " 97%|█████████▋| 974/1000 [15:19<00:25,  1.01it/s]"
     ]
    },
    {
     "name": "stdout",
     "output_type": "stream",
     "text": [
      "Epoch 00973 | Loss 21.4940 | train_RMSE 2.9659 | train_r2 0.9785 | test_RMSE 3.3649 | test_r2 0.9732 \n"
     ]
    },
    {
     "name": "stderr",
     "output_type": "stream",
     "text": [
      "\r",
      " 98%|█████████▊| 975/1000 [15:20<00:24,  1.01it/s]"
     ]
    },
    {
     "name": "stdout",
     "output_type": "stream",
     "text": [
      "Epoch 00974 | Loss 21.6839 | train_RMSE 2.9509 | train_r2 0.9792 | test_RMSE 3.3725 | test_r2 0.9736 \n"
     ]
    },
    {
     "name": "stderr",
     "output_type": "stream",
     "text": [
      "\r",
      " 98%|█████████▊| 976/1000 [15:21<00:23,  1.01it/s]"
     ]
    },
    {
     "name": "stdout",
     "output_type": "stream",
     "text": [
      "Epoch 00975 | Loss 21.1585 | train_RMSE 2.9221 | train_r2 0.9796 | test_RMSE 3.2950 | test_r2 0.9748 \n"
     ]
    },
    {
     "name": "stderr",
     "output_type": "stream",
     "text": [
      "\r",
      " 98%|█████████▊| 977/1000 [15:22<00:22,  1.00it/s]"
     ]
    },
    {
     "name": "stdout",
     "output_type": "stream",
     "text": [
      "Epoch 00976 | Loss 21.9289 | train_RMSE 2.9202 | train_r2 0.9797 | test_RMSE 3.2613 | test_r2 0.9753 \n"
     ]
    },
    {
     "name": "stderr",
     "output_type": "stream",
     "text": [
      "\r",
      " 98%|█████████▊| 978/1000 [15:23<00:21,  1.01it/s]"
     ]
    },
    {
     "name": "stdout",
     "output_type": "stream",
     "text": [
      "Epoch 00977 | Loss 22.5008 | train_RMSE 2.9235 | train_r2 0.9798 | test_RMSE 3.2786 | test_r2 0.9753 \n"
     ]
    },
    {
     "name": "stderr",
     "output_type": "stream",
     "text": [
      "\r",
      " 98%|█████████▊| 979/1000 [15:24<00:20,  1.00it/s]"
     ]
    },
    {
     "name": "stdout",
     "output_type": "stream",
     "text": [
      "Epoch 00978 | Loss 22.0441 | train_RMSE 3.0128 | train_r2 0.9785 | test_RMSE 3.3953 | test_r2 0.9733 \n"
     ]
    },
    {
     "name": "stderr",
     "output_type": "stream",
     "text": [
      "\r",
      " 98%|█████████▊| 980/1000 [15:25<00:19,  1.01it/s]"
     ]
    },
    {
     "name": "stdout",
     "output_type": "stream",
     "text": [
      "Epoch 00979 | Loss 21.4531 | train_RMSE 3.0314 | train_r2 0.9784 | test_RMSE 3.4920 | test_r2 0.9720 \n"
     ]
    },
    {
     "name": "stderr",
     "output_type": "stream",
     "text": [
      "\r",
      " 98%|█████████▊| 981/1000 [15:26<00:18,  1.02it/s]"
     ]
    },
    {
     "name": "stdout",
     "output_type": "stream",
     "text": [
      "Epoch 00980 | Loss 22.9318 | train_RMSE 3.1318 | train_r2 0.9761 | test_RMSE 3.5489 | test_r2 0.9701 \n"
     ]
    },
    {
     "name": "stderr",
     "output_type": "stream",
     "text": [
      "\r",
      " 98%|█████████▊| 982/1000 [15:27<00:17,  1.02it/s]"
     ]
    },
    {
     "name": "stdout",
     "output_type": "stream",
     "text": [
      "Epoch 00981 | Loss 23.3184 | train_RMSE 3.1059 | train_r2 0.9772 | test_RMSE 3.5572 | test_r2 0.9710 \n"
     ]
    },
    {
     "name": "stderr",
     "output_type": "stream",
     "text": [
      "\r",
      " 98%|█████████▊| 983/1000 [15:28<00:16,  1.02it/s]"
     ]
    },
    {
     "name": "stdout",
     "output_type": "stream",
     "text": [
      "Epoch 00982 | Loss 22.7164 | train_RMSE 3.3535 | train_r2 0.9724 | test_RMSE 3.6307 | test_r2 0.9686 \n"
     ]
    },
    {
     "name": "stderr",
     "output_type": "stream",
     "text": [
      "\r",
      " 98%|█████████▊| 984/1000 [15:29<00:15,  1.02it/s]"
     ]
    },
    {
     "name": "stdout",
     "output_type": "stream",
     "text": [
      "Epoch 00983 | Loss 24.8930 | train_RMSE 3.4494 | train_r2 0.9723 | test_RMSE 3.8180 | test_r2 0.9670 \n"
     ]
    },
    {
     "name": "stderr",
     "output_type": "stream",
     "text": [
      "\r",
      " 98%|█████████▊| 985/1000 [15:30<00:14,  1.03it/s]"
     ]
    },
    {
     "name": "stdout",
     "output_type": "stream",
     "text": [
      "Epoch 00984 | Loss 24.8553 | train_RMSE 4.0203 | train_r2 0.9600 | test_RMSE 4.2105 | test_r2 0.9572 \n"
     ]
    },
    {
     "name": "stderr",
     "output_type": "stream",
     "text": [
      "\r",
      " 99%|█████████▊| 986/1000 [15:31<00:13,  1.02it/s]"
     ]
    },
    {
     "name": "stdout",
     "output_type": "stream",
     "text": [
      "Epoch 00985 | Loss 28.2415 | train_RMSE 4.1267 | train_r2 0.9613 | test_RMSE 4.4878 | test_r2 0.9555 \n"
     ]
    },
    {
     "name": "stderr",
     "output_type": "stream",
     "text": [
      "\r",
      " 99%|█████████▊| 987/1000 [15:32<00:12,  1.01it/s]"
     ]
    },
    {
     "name": "stdout",
     "output_type": "stream",
     "text": [
      "Epoch 00986 | Loss 31.0753 | train_RMSE 4.7856 | train_r2 0.9421 | test_RMSE 4.9079 | test_r2 0.9404 \n"
     ]
    },
    {
     "name": "stderr",
     "output_type": "stream",
     "text": [
      "\r",
      " 99%|█████████▉| 988/1000 [15:33<00:11,  1.01it/s]"
     ]
    },
    {
     "name": "stdout",
     "output_type": "stream",
     "text": [
      "Epoch 00987 | Loss 34.7511 | train_RMSE 4.3466 | train_r2 0.9564 | test_RMSE 4.6704 | test_r2 0.9511 \n"
     ]
    },
    {
     "name": "stderr",
     "output_type": "stream",
     "text": [
      "\r",
      " 99%|█████████▉| 989/1000 [15:34<00:10,  1.02it/s]"
     ]
    },
    {
     "name": "stdout",
     "output_type": "stream",
     "text": [
      "Epoch 00988 | Loss 31.9722 | train_RMSE 4.3284 | train_r2 0.9528 | test_RMSE 4.4822 | test_r2 0.9505 \n"
     ]
    },
    {
     "name": "stderr",
     "output_type": "stream",
     "text": [
      "\r",
      " 99%|█████████▉| 990/1000 [15:35<00:09,  1.03it/s]"
     ]
    },
    {
     "name": "stdout",
     "output_type": "stream",
     "text": [
      "Epoch 00989 | Loss 30.8728 | train_RMSE 3.6605 | train_r2 0.9695 | test_RMSE 4.0256 | test_r2 0.9640 \n"
     ]
    },
    {
     "name": "stderr",
     "output_type": "stream",
     "text": [
      "\r",
      " 99%|█████████▉| 991/1000 [15:36<00:08,  1.04it/s]"
     ]
    },
    {
     "name": "stdout",
     "output_type": "stream",
     "text": [
      "Epoch 00990 | Loss 27.4158 | train_RMSE 3.5284 | train_r2 0.9698 | test_RMSE 3.8580 | test_r2 0.9648 \n"
     ]
    },
    {
     "name": "stderr",
     "output_type": "stream",
     "text": [
      "\r",
      " 99%|█████████▉| 992/1000 [15:37<00:07,  1.03it/s]"
     ]
    },
    {
     "name": "stdout",
     "output_type": "stream",
     "text": [
      "Epoch 00991 | Loss 25.3518 | train_RMSE 3.1028 | train_r2 0.9772 | test_RMSE 3.4991 | test_r2 0.9718 \n"
     ]
    },
    {
     "name": "stderr",
     "output_type": "stream",
     "text": [
      "\r",
      " 99%|█████████▉| 993/1000 [15:38<00:06,  1.03it/s]"
     ]
    },
    {
     "name": "stdout",
     "output_type": "stream",
     "text": [
      "Epoch 00992 | Loss 22.0140 | train_RMSE 3.0121 | train_r2 0.9775 | test_RMSE 3.3760 | test_r2 0.9727 \n"
     ]
    },
    {
     "name": "stderr",
     "output_type": "stream",
     "text": [
      "\r",
      " 99%|█████████▉| 994/1000 [15:39<00:05,  1.03it/s]"
     ]
    },
    {
     "name": "stdout",
     "output_type": "stream",
     "text": [
      "Epoch 00993 | Loss 20.6621 | train_RMSE 3.0125 | train_r2 0.9773 | test_RMSE 3.3806 | test_r2 0.9723 \n"
     ]
    },
    {
     "name": "stderr",
     "output_type": "stream",
     "text": [
      "\r",
      "100%|█████████▉| 995/1000 [15:40<00:04,  1.02it/s]"
     ]
    },
    {
     "name": "stdout",
     "output_type": "stream",
     "text": [
      "Epoch 00994 | Loss 21.9597 | train_RMSE 2.9371 | train_r2 0.9793 | test_RMSE 3.3657 | test_r2 0.9736 \n"
     ]
    },
    {
     "name": "stderr",
     "output_type": "stream",
     "text": [
      "\r",
      "100%|█████████▉| 996/1000 [15:41<00:03,  1.03it/s]"
     ]
    },
    {
     "name": "stdout",
     "output_type": "stream",
     "text": [
      "Epoch 00995 | Loss 21.1711 | train_RMSE 3.0820 | train_r2 0.9774 | test_RMSE 3.4960 | test_r2 0.9716 \n"
     ]
    },
    {
     "name": "stderr",
     "output_type": "stream",
     "text": [
      "\r",
      "100%|█████████▉| 997/1000 [15:42<00:02,  1.04it/s]"
     ]
    },
    {
     "name": "stdout",
     "output_type": "stream",
     "text": [
      "Epoch 00996 | Loss 22.6139 | train_RMSE 2.9628 | train_r2 0.9796 | test_RMSE 3.4474 | test_r2 0.9731 \n"
     ]
    },
    {
     "name": "stderr",
     "output_type": "stream",
     "text": [
      "\r",
      "100%|█████████▉| 998/1000 [15:43<00:01,  1.04it/s]"
     ]
    },
    {
     "name": "stdout",
     "output_type": "stream",
     "text": [
      "Epoch 00997 | Loss 21.7922 | train_RMSE 2.9690 | train_r2 0.9785 | test_RMSE 3.3527 | test_r2 0.9734 \n"
     ]
    },
    {
     "name": "stderr",
     "output_type": "stream",
     "text": [
      "\r",
      "100%|█████████▉| 999/1000 [15:44<00:00,  1.04it/s]"
     ]
    },
    {
     "name": "stdout",
     "output_type": "stream",
     "text": [
      "Epoch 00998 | Loss 21.4904 | train_RMSE 2.9466 | train_r2 0.9791 | test_RMSE 3.3707 | test_r2 0.9735 \n"
     ]
    },
    {
     "name": "stderr",
     "output_type": "stream",
     "text": [
      "100%|██████████| 1000/1000 [15:45<00:00,  1.06it/s]"
     ]
    },
    {
     "name": "stdout",
     "output_type": "stream",
     "text": [
      "Epoch 00999 | Loss 21.4197 | train_RMSE 2.9788 | train_r2 0.9786 | test_RMSE 3.3898 | test_r2 0.9731 \n",
      "best loss: 20.662137985229492\n",
      "Testing...\n"
     ]
    },
    {
     "name": "stderr",
     "output_type": "stream",
     "text": [
      "\n"
     ]
    },
    {
     "name": "stdout",
     "output_type": "stream",
     "text": [
      "train RMSE 3.0125\n",
      "test RMSE 3.3806\n"
     ]
    }
   ],
   "source": [
    "device = torch.device(\"cuda\" if torch.cuda.is_available() else \"cpu\")\n",
    "\n",
    "g = g.to(device)\n",
    "features = g.ndata[\"feat\"]\n",
    "labels = g.ndata[\"shift_value\"]\n",
    "# masks = g.ndata['train_mask'], g.ndata['test_mask']\n",
    "\n",
    "\n",
    "# masks = g.ndata['train_hydrogen_mask'], g.ndata['test_hydrogen_mask']\n",
    "masks = g.ndata['train_carbon_mask'], g.ndata['test_carbon_mask']\n",
    "\n",
    "\n",
    "print(features.dtype)\n",
    "print(labels.dtype)\n",
    "# model = NMR_GCN(in_size=576, hid_size=[256, 128, 64, 32], out_size=1).to(device)\n",
    "model = NMR_GCN(in_size=in_size, hid_size=[hidden_size_1, hidden_size_2,\n",
    "                                       hidden_size_3, hidden_size_4], out_size=1).to(device)\n",
    "# model training\n",
    "\n",
    "# NMR_prediction = NMR_prediction(results_dir='experimental_data_combined/graph_combined/experimental_results_all_hydrogen.csv',\n",
    "#                                 model_dir='experimental_data_combined/graph_combined/Model_hydrogen_experiment_training.pt',\n",
    "#                                num_epoch = num_epoch, \n",
    "#                                lr = lr)\n",
    "\n",
    "\n",
    "NMR_prediction = NMR_prediction(results_dir='glycosciencedb/results/training_carbon.csv',\n",
    "                                results_dir_test = 'glycosciencedb/results/testing_carbon.csv',\n",
    "                                model_dir='glycosciencedb/results/Model_Godess_carbon.pt', \n",
    "                               num_epoch = num_epoch, \n",
    "                               lr = lr)\n",
    "\n",
    "\n",
    "print(\"Training...\")\n",
    "NMR_prediction.train(g, features, labels, masks, model, report_r2=True)\n",
    "\n",
    "# test the model\n",
    "print(\"Testing...\")\n",
    "saved_model = NMR_GCN(in_size=in_size, hid_size=[hidden_size_1, hidden_size_2,\n",
    "                                                 hidden_size_3, hidden_size_4], out_size=1).to(device)\n",
    "saved_model.load_state_dict(torch.load(NMR_prediction.model_dir))\n",
    "\n",
    "# acc = NMR_prediction.evaluate(g, features, labels, masks[0], saved_model, print_out=True)\n",
    "acc1 = NMR_prediction.evaluate(g, features, labels, masks[0], saved_model, save_train=True, save_test = False)\n",
    "\n",
    "acc2 = NMR_prediction.evaluate(g, features, labels, masks[1], saved_model, save_train=False, save_test = True)\n",
    "\n",
    "\n",
    "print(\"train RMSE {:.4f}\".format(acc1))\n",
    "print(\"test RMSE {:.4f}\".format(acc2))"
   ]
  },
  {
   "cell_type": "code",
   "execution_count": null,
   "id": "7bff7a6f",
   "metadata": {},
   "outputs": [],
   "source": []
  }
 ],
 "metadata": {
  "kernelspec": {
   "display_name": "3dgnn",
   "language": "python",
   "name": "3dgnn"
  },
  "language_info": {
   "codemirror_mode": {
    "name": "ipython",
    "version": 3
   },
   "file_extension": ".py",
   "mimetype": "text/x-python",
   "name": "python",
   "nbconvert_exporter": "python",
   "pygments_lexer": "ipython3",
   "version": "3.9.7"
  }
 },
 "nbformat": 4,
 "nbformat_minor": 5
}
